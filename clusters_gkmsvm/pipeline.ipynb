{
 "cells": [
  {
   "cell_type": "markdown",
   "metadata": {},
   "source": [
    "## Imports"
   ]
  },
  {
   "cell_type": "code",
   "execution_count": 1,
   "metadata": {},
   "outputs": [
    {
     "name": "stderr",
     "output_type": "stream",
     "text": [
      "TF-MoDISco is using the TensorFlow backend.\n",
      "Using TensorFlow backend.\n"
     ]
    }
   ],
   "source": [
    "import os\n",
    "import sys\n",
    "import pysam\n",
    "import pickle\n",
    "import random\n",
    "import modisco\n",
    "import warnings\n",
    "import plotnine\n",
    "import pybedtools\n",
    "import numpy as np\n",
    "import tabix as tb\n",
    "import pandas as pd\n",
    "from plotnine import *\n",
    "from pandas import Series\n",
    "from kerasAC.splits import *\n",
    "from viz_preprocess import *\n",
    "from viz_sequence import *\n",
    "from matplotlib import pyplot as plt\n",
    "from deeplift.dinuc_shuffle import dinuc_shuffle\n",
    "\n",
    "from dragonn.interpret import * \n",
    "from dragonn.vis import *\n",
    "from dragonn.utils import *\n",
    "\n",
    "np.random.seed(1234)\n",
    "plt.style.use('default')"
   ]
  },
  {
   "cell_type": "markdown",
   "metadata": {},
   "source": [
    "## Create Directories"
   ]
  },
  {
   "cell_type": "code",
   "execution_count": 2,
   "metadata": {},
   "outputs": [],
   "source": [
    "#! /users/soumyak/alzheimers_parkinsons/gkmSVM/make_dirs.sh"
   ]
  },
  {
   "cell_type": "markdown",
   "metadata": {},
   "source": [
    "## Generate Positive Sets"
   ]
  },
  {
   "cell_type": "code",
   "execution_count": 3,
   "metadata": {},
   "outputs": [],
   "source": [
    "#! python /users/soumyak/alzheimers_parkinsons/gkmSVM/gen_positives.py"
   ]
  },
  {
   "cell_type": "markdown",
   "metadata": {},
   "source": [
    "## Generate Negative Sets"
   ]
  },
  {
   "cell_type": "code",
   "execution_count": 4,
   "metadata": {},
   "outputs": [],
   "source": [
    "#! python /users/soumyak/alzheimers_parkinsons/gkmSVM/run_seqdataloader.py"
   ]
  },
  {
   "cell_type": "markdown",
   "metadata": {},
   "source": [
    "## Preprocess Inputs for training and testing"
   ]
  },
  {
   "cell_type": "code",
   "execution_count": 5,
   "metadata": {},
   "outputs": [],
   "source": [
    "#! python /users/soumyak/alzheimers_parkinsons/gkmSVM/preprocess_gkm.py"
   ]
  },
  {
   "cell_type": "markdown",
   "metadata": {},
   "source": [
    "## Train + Test + Evaluate gkmSVM"
   ]
  },
  {
   "cell_type": "code",
   "execution_count": 6,
   "metadata": {},
   "outputs": [],
   "source": [
    "#! python /users/soumyak/alzheimers_parkinsons/gkmSVM/run_gkmsvm.py 24 all 50"
   ]
  },
  {
   "cell_type": "markdown",
   "metadata": {},
   "source": [
    "## Get Peak Sets with GWAS intersections"
   ]
  },
  {
   "cell_type": "code",
   "execution_count": 7,
   "metadata": {},
   "outputs": [],
   "source": [
    "#! python /users/soumyak/alzheimers_parkinsons/gkmSVM/get_gwas_inputs.py"
   ]
  },
  {
   "cell_type": "markdown",
   "metadata": {},
   "source": [
    "## Interpret SVM using gkmExplain"
   ]
  },
  {
   "cell_type": "code",
   "execution_count": 8,
   "metadata": {},
   "outputs": [],
   "source": [
    "#! python /users/soumyak/alzheimers_parkinsons/gkmSVM/run_gkmexplain.py 24 all Kunkle overlap 50"
   ]
  }
 ],
 "metadata": {
  "kernelspec": {
   "display_name": "Python 3",
   "language": "python",
   "name": "python3"
  },
  "language_info": {
   "codemirror_mode": {
    "name": "ipython",
    "version": 3
   },
   "file_extension": ".py",
   "mimetype": "text/x-python",
   "name": "python",
   "nbconvert_exporter": "python",
   "pygments_lexer": "ipython3",
   "version": "3.7.3"
  }
 },
 "nbformat": 4,
 "nbformat_minor": 2
}
