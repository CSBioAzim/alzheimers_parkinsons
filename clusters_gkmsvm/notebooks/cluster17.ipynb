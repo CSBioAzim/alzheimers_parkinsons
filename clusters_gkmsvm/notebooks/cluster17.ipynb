{
 "cells": [
  {
   "cell_type": "markdown",
   "metadata": {},
   "source": [
    "# Imports"
   ]
  },
  {
   "cell_type": "code",
   "execution_count": 1,
   "metadata": {
    "scrolled": false
   },
   "outputs": [
    {
     "name": "stderr",
     "output_type": "stream",
     "text": [
      "TF-MoDISco is using the TensorFlow backend.\n",
      "Using TensorFlow backend.\n"
     ]
    }
   ],
   "source": [
    "import os\n",
    "import sys\n",
    "import pysam\n",
    "import pickle\n",
    "import random\n",
    "import modisco\n",
    "import warnings\n",
    "import plotnine\n",
    "import pybedtools\n",
    "import numpy as np\n",
    "import tabix as tb\n",
    "import pandas as pd\n",
    "from plotnine import *\n",
    "from pandas import Series\n",
    "from decimal import Decimal\n",
    "from kerasAC.splits import *\n",
    "from matplotlib import pyplot as plt\n",
    "from deeplift.dinuc_shuffle import dinuc_shuffle\n",
    "\n",
    "from dragonn.interpret import * \n",
    "from dragonn.vis import *\n",
    "from dragonn.utils import *\n",
    "\n",
    "sys.path.insert(0, \"/users/soumyak/alzheimers_parkinsons/clusters_gkmsvm\")\n",
    "from viz_preprocess import *\n",
    "from viz_sequence import *\n",
    "\n",
    "np.random.seed(1234)\n",
    "plt.style.use('default')\n",
    "pd.set_option('display.max_columns', None)"
   ]
  },
  {
   "cell_type": "markdown",
   "metadata": {},
   "source": [
    "# Quick Links\n",
    "\n",
    "<ol>\n",
    "    <li><a href=#effect_table>Effect Alleles Table</a></li>\n",
    "    <li><a href=#effect_viz>Effect Alleles Visual</a></li>\n",
    "    <li><a href=#noneffect_table>Non-Effect Alleles Table</a></li>\n",
    "    <li><a href=#noneffect_viz>Non-Effect Alleles Visual</a></li>\n",
    "</ol>"
   ]
  },
  {
   "cell_type": "markdown",
   "metadata": {},
   "source": [
    "# Cluster 17"
   ]
  },
  {
   "cell_type": "code",
   "execution_count": 2,
   "metadata": {},
   "outputs": [],
   "source": [
    "cluster = '17'"
   ]
  },
  {
   "cell_type": "markdown",
   "metadata": {},
   "source": [
    "## Prepare Effect and Non-Effect Scores"
   ]
  },
  {
   "cell_type": "code",
   "execution_count": 3,
   "metadata": {},
   "outputs": [
    {
     "name": "stdout",
     "output_type": "stream",
     "text": [
      "Num effect sequences: 191\n"
     ]
    },
    {
     "ename": "ValueError",
     "evalue": "operands could not be broadcast together with shapes (191,1000,4) (185,1000,4) ",
     "output_type": "error",
     "traceback": [
      "\u001b[0;31m---------------------------------------------------------------------------\u001b[0m",
      "\u001b[0;31mValueError\u001b[0m                                Traceback (most recent call last)",
      "\u001b[0;32m<ipython-input-3-a2845cabaf4f>\u001b[0m in \u001b[0;36m<module>\u001b[0;34m\u001b[0m\n\u001b[1;32m     11\u001b[0m     \u001b[0meffect_scores\u001b[0m \u001b[0;34m=\u001b[0m \u001b[0mget_hyp_scores\u001b[0m\u001b[0;34m(\u001b[0m\u001b[0meffect_file\u001b[0m\u001b[0;34m,\u001b[0m \u001b[0meffect_seqs\u001b[0m\u001b[0;34m)\u001b[0m\u001b[0;34m\u001b[0m\u001b[0;34m\u001b[0m\u001b[0m\n\u001b[1;32m     12\u001b[0m     \u001b[0meffect_scores\u001b[0m \u001b[0;34m=\u001b[0m \u001b[0mnp\u001b[0m\u001b[0;34m.\u001b[0m\u001b[0marray\u001b[0m\u001b[0;34m(\u001b[0m\u001b[0meffect_scores\u001b[0m\u001b[0;34m)\u001b[0m\u001b[0;34m\u001b[0m\u001b[0;34m\u001b[0m\u001b[0m\n\u001b[0;32m---> 13\u001b[0;31m     \u001b[0mmerged_effect_scores\u001b[0m \u001b[0;34m=\u001b[0m \u001b[0mmerged_effect_scores\u001b[0m \u001b[0;34m+\u001b[0m \u001b[0meffect_scores\u001b[0m\u001b[0;34m\u001b[0m\u001b[0;34m\u001b[0m\u001b[0m\n\u001b[0m\u001b[1;32m     14\u001b[0m \u001b[0;34m\u001b[0m\u001b[0m\n\u001b[1;32m     15\u001b[0m \u001b[0mmerged_effect_scores\u001b[0m \u001b[0;34m=\u001b[0m \u001b[0mmerged_effect_scores\u001b[0m \u001b[0;34m/\u001b[0m \u001b[0;34m(\u001b[0m\u001b[0mfold\u001b[0m \u001b[0;34m+\u001b[0m \u001b[0;36m1\u001b[0m\u001b[0;34m)\u001b[0m\u001b[0;34m\u001b[0m\u001b[0;34m\u001b[0m\u001b[0m\n",
      "\u001b[0;31mValueError\u001b[0m: operands could not be broadcast together with shapes (191,1000,4) (185,1000,4) "
     ]
    }
   ],
   "source": [
    "effect_fasta = '/mnt/lab_data3/soumyak/adpd/fasta_inputs/Cluster'+cluster+'.effect.fasta'\n",
    "effect_seqs = [x.rstrip() for (i,x) in enumerate(open(effect_fasta)) if i%2==1]\n",
    "effect_onehot = [np.array(one_hot_encode_along_channel_axis(x)) for x in effect_seqs]\n",
    "\n",
    "print(\"Num effect sequences:\", len(effect_onehot))\n",
    "\n",
    "merged_effect_scores = np.zeros(shape=(len(effect_onehot), 1000, 4))\n",
    "\n",
    "for fold in range(10):\n",
    "    effect_file = '/mnt/lab_data3/soumyak/adpd/explain_scores/Cluster'+cluster+'/fold'+str(fold)+'.effect.scores.txt'\n",
    "    effect_scores = get_hyp_scores(effect_file, effect_seqs)\n",
    "    effect_scores = np.array(effect_scores)\n",
    "    merged_effect_scores = merged_effect_scores + effect_scores\n",
    "    \n",
    "merged_effect_scores = merged_effect_scores / (fold + 1)\n",
    "\n",
    "#--------------------------------------------------------#\n",
    "\n",
    "noneffect_fasta = '/mnt/lab_data3/soumyak/adpd/fasta_inputs/Cluster'+cluster+'.noneffect.fasta'\n",
    "noneffect_seqs = [x.rstrip() for (i,x) in enumerate(open(noneffect_fasta)) if i%2==1]\n",
    "noneffect_onehot = [np.array(one_hot_encode_along_channel_axis(x)) for x in noneffect_seqs]\n",
    "\n",
    "print(\"Num noneffect sequences:\", len(noneffect_onehot))\n",
    "\n",
    "merged_noneffect_scores = np.zeros(shape=(len(noneffect_onehot), 1000, 4))\n",
    "\n",
    "for fold in range(10):\n",
    "    noneffect_file = '/mnt/lab_data3/soumyak/adpd/explain_scores/Cluster'+cluster+'/fold'+str(fold)+'.noneffect.scores.txt'\n",
    "    noneffect_scores = get_hyp_scores(noneffect_file, noneffect_seqs)\n",
    "    noneffect_scores = np.array(noneffect_scores)\n",
    "    merged_noneffect_scores = merged_noneffect_scores + noneffect_scores\n",
    "    \n",
    "merged_noneffect_scores = merged_noneffect_scores / (fold + 1)\n",
    "\n",
    "#--------------------------------------------------------#\n",
    "\n",
    "merged_ism_scores = np.zeros(shape=(len(effect_onehot),))\n",
    "merged_delta_scores = np.zeros(shape=(len(effect_onehot),))\n",
    "\n",
    "for fold in range(10):\n",
    "    ism_scores = np.array([float(i.strip().split('\\t')[1]) for i in open('/mnt/lab_data3/soumyak/adpd/ism_scores/Cluster'+cluster+'/fold'+str(fold)+'.ism.scores').readlines()])\n",
    "    delta_scores = np.array([float(i.strip().split('\\t')[1]) for i in open('/mnt/lab_data3/soumyak/adpd/delta_scores/Cluster'+cluster+'/fold'+str(fold)+'.delta.scores').readlines()])\n",
    "    merged_ism_scores = merged_ism_scores + ism_scores\n",
    "    merged_delta_scores = merged_delta_scores + delta_scores\n",
    "        \n",
    "merged_ism_scores = merged_ism_scores / (fold + 1)\n",
    "merged_delta_scores = merged_delta_scores / (fold + 1)"
   ]
  },
  {
   "cell_type": "markdown",
   "metadata": {},
   "source": [
    "## Prepare DataFrame"
   ]
  },
  {
   "cell_type": "code",
   "execution_count": null,
   "metadata": {
    "scrolled": false
   },
   "outputs": [],
   "source": [
    "snps = pd.read_csv('/mnt/lab_data3/soumyak/adpd/snp_lists/Cluster'+cluster+'.overlap.expanded.snps.hg38.bed', sep='\\t')\n",
    "ryan_snps = pd.read_csv('/oak/stanford/groups/akundaje/projects/alzheimers_parkinsons/snps_final/191023_All_GWAS_SNPs_unique.csv', sep='\\t')\n",
    "mike_snps = pd.read_csv('/oak/stanford/groups/akundaje/projects/alzheimers_parkinsons/snps_final/ld_buddies_table_stage3.tsv', sep='\\t')\n",
    "effect_score = []\n",
    "noneffect_score = []\n",
    "effect_center = []\n",
    "noneffect_center = []\n",
    "effect_ratio = []\n",
    "noneffect_ratio = []\n",
    "allele_ratio = []\n",
    "allele_diff = []\n",
    "effect_rank = []\n",
    "noneffect_rank = []\n",
    "ism_score = []\n",
    "delta_score = []\n",
    "idr_peak = []\n",
    "all_gwas = []\n",
    "coloc = []\n",
    "for index,row in snps.iterrows():\n",
    "    effect_score.append(np.sum(np.array([np.sum(j) for j in merged_effect_scores[index][400:600]])))\n",
    "    noneffect_score.append(np.sum(np.array([np.sum(j) for j in merged_noneffect_scores[index][400:600]])))\n",
    "    effect_center.append(np.sum(np.array([max(0, np.sum(j)) for j in merged_effect_scores[index][475:525]])))\n",
    "    noneffect_center.append(np.sum(np.array([max(0, np.sum(j)) for j in merged_noneffect_scores[index][475:525]])))\n",
    "    effect_ratio.append(np.sum(np.array([max(0, np.sum(j)) for j in merged_effect_scores[index][475:525]])) / np.sum(np.array([max(0, np.sum(j)) for j in merged_effect_scores[index][400:600]])))\n",
    "    noneffect_ratio.append(np.sum(np.array([max(0, np.sum(j)) for j in merged_noneffect_scores[index][475:525]])) / np.sum(np.array([max(0, np.sum(j)) for j in merged_noneffect_scores[index][400:600]])))\n",
    "    allele_ratio.append(effect_center[-1] / (noneffect_center[-1] + 0.00001))\n",
    "    #allele_diff.append(effect_center[-1] - noneffect_center[-1])\n",
    "    allele_diff.append(np.sum(np.array([np.sum(j) for j in merged_effect_scores[index][475:525]])) - np.sum(np.array([np.sum(j) for j in merged_noneffect_scores[index][475:525]])))\n",
    "    effect_rank.append((effect_center[-1] / (noneffect_center[-1] + 0.00001)) * effect_ratio[-1])\n",
    "    noneffect_rank.append((noneffect_center[-1] / (effect_center[-1] + 0.00001)) * noneffect_ratio[-1])\n",
    "    idr_peak_overlap = False\n",
    "    for ind,rw in ryan_snps.loc[ryan_snps['rsid']==row['rsid']].iterrows():\n",
    "        if rw['Cluster'+cluster+'_overlap'] == 1:\n",
    "            idr_peak_overlap = True\n",
    "    idr_peak.append(idr_peak_overlap)\n",
    "    gwas_list = []\n",
    "    has_coloc = False\n",
    "    for ind,rw in mike_snps.loc[mike_snps['rsid']==row['rsid']].iterrows():\n",
    "        gwas_list.append(rw['source_gwas']+': '+str('%.2E' % Decimal(rw['pvalue'])))\n",
    "        if rw['has_coloc'] == True:\n",
    "            has_coloc = True\n",
    "    all_gwas.append(gwas_list)\n",
    "    coloc.append(has_coloc)\n",
    "snps['effect_score'] = effect_score\n",
    "snps['noneffect_score'] = noneffect_score\n",
    "snps['effect_center'] = effect_center\n",
    "snps['noneffect_center'] = noneffect_center\n",
    "snps['effect_ratio'] = effect_ratio\n",
    "snps['noneffect_ratio'] = noneffect_ratio\n",
    "snps['allele_ratio'] = allele_ratio\n",
    "snps['allele_diff'] = allele_diff\n",
    "snps['effect_rank'] = effect_rank\n",
    "snps['noneffect_rank'] = noneffect_rank\n",
    "snps['ism_score'] = merged_ism_scores\n",
    "snps['delta_score'] = merged_delta_scores\n",
    "snps['idr_peak'] = idr_peak\n",
    "snps['all_gwas'] = all_gwas\n",
    "snps['coloc'] = coloc\n",
    "snps.sort_values(by=['allele_ratio'], ascending=True, inplace=True)\n",
    "snps.drop_duplicates(subset=['rsid'], inplace=True)"
   ]
  },
  {
   "cell_type": "markdown",
   "metadata": {},
   "source": [
    "## Find Effect Alleles that Break Accessibility <a name='effect_table' />"
   ]
  },
  {
   "cell_type": "code",
   "execution_count": null,
   "metadata": {
    "scrolled": false
   },
   "outputs": [],
   "source": [
    "neg_snps = snps.loc[snps['allele_ratio'] <= 1]\n",
    "neg_snps.sort_values(by=['noneffect_rank'], ascending=False, inplace=True)\n",
    "display(neg_snps)"
   ]
  },
  {
   "cell_type": "markdown",
   "metadata": {},
   "source": [
    "## Visualize Top Effect Alleles <a name='effect_viz' />"
   ]
  },
  {
   "cell_type": "code",
   "execution_count": null,
   "metadata": {
    "scrolled": false
   },
   "outputs": [],
   "source": [
    "for idx in neg_snps.index[:20]:\n",
    "    #for idx in [60]:\n",
    "    print('RSID:', neg_snps.at[idx, 'rsid'],\n",
    "          '  ||   ', neg_snps.at[idx, 'chr'], ':', neg_snps.at[idx, 'start'], '-', neg_snps.at[idx, 'end'],\n",
    "          '  ||   ', 'Locus:', idx, '  ||   ', 'IDR Peak:', neg_snps.at[idx, 'idr_peak'])\n",
    "    \n",
    "    print()\n",
    "    \n",
    "    print('GWAS:')\n",
    "    \n",
    "    for i in neg_snps.at[idx, 'all_gwas']:\n",
    "        entry = i.split(':')\n",
    "        if 'Lambert' in entry[0] or 'Pankratz' in entry[0] or 'Chang' in entry[0]:\n",
    "            print(entry[0], '\\t', entry[1])\n",
    "        else:\n",
    "            print(entry[0], '\\t\\t', entry[1])\n",
    "    \n",
    "    print()\n",
    "    \n",
    "    print(\"Coloc: \", neg_snps.at[idx, 'coloc'])\n",
    "    \n",
    "    print()\n",
    "    \n",
    "    print('Noneffect Allele :', neg_snps.at[idx, 'noneffect'], '  ||   Explain Score :', round(neg_snps.at[idx, 'noneffect_center'], 4), '  ||   Center / 200bp :', round(neg_snps.at[idx, 'noneffect_ratio'], 4))\n",
    "    print('Noneffect Sequence :', noneffect_seqs[idx][490:510])\n",
    "    \n",
    "    ylim = plot_weights(merged_noneffect_scores[idx], subticks_frequency=10, xlim=(400,600))\n",
    "\n",
    "    print('Effect Allele :', neg_snps.at[idx, 'effect'], '  ||   Explain Score :', round(neg_snps.at[idx, 'effect_center'], 4), '  ||   Center / 200bp :', round(neg_snps.at[idx, 'effect_ratio'], 4))\n",
    "    print('Effect Sequence :', effect_seqs[idx][490:510])\n",
    "    \n",
    "    a = plot_weights(merged_effect_scores[idx], subticks_frequency=10, ylim=ylim, xlim=(400,600))\n",
    "    \n",
    "    print('Allele Ratio :', round(neg_snps.at[idx, 'allele_ratio'], 4), '  ||   Allele Difference :', round(neg_snps.at[idx, 'allele_diff'], 4),\n",
    "          ' ||  ISM Score :', round(neg_snps.at[idx, 'ism_score'], 4), ' ||  deltaSVM Score :', round(neg_snps.at[idx, 'delta_score'], 4))\n",
    "    \n",
    "    a = plot_weights(merged_effect_scores[idx] - merged_noneffect_scores[idx], subticks_frequency=10, xlim=(400,600))\n",
    "    \n",
    "    print()\n",
    "    print('-'*80)\n",
    "    print('-'*80)\n",
    "    print()\n",
    "    print()"
   ]
  },
  {
   "cell_type": "markdown",
   "metadata": {},
   "source": [
    "## Find Non-Effect Alleles that Improve Accessibility <a name='noneffect_table' />"
   ]
  },
  {
   "cell_type": "code",
   "execution_count": null,
   "metadata": {
    "scrolled": false
   },
   "outputs": [],
   "source": [
    "pos_snps = snps.loc[snps['allele_ratio'] > 1]\n",
    "pos_snps.sort_values(by=['effect_rank'], ascending=False, inplace=True)\n",
    "display(pos_snps)"
   ]
  },
  {
   "cell_type": "markdown",
   "metadata": {},
   "source": [
    "## Visualize Top Non-Effect Alleles <a name='noneffect_viz' />"
   ]
  },
  {
   "cell_type": "code",
   "execution_count": null,
   "metadata": {
    "scrolled": false
   },
   "outputs": [],
   "source": [
    "for idx in pos_snps.index[:20]:\n",
    "    #for idx in [60]:\n",
    "    print('RSID:', pos_snps.at[idx, 'rsid'],\n",
    "          '  ||   ', pos_snps.at[idx, 'chr'], ':', pos_snps.at[idx, 'start'], '-', pos_snps.at[idx, 'end'],\n",
    "          '  ||   ', 'Locus:', idx, '  ||   ', 'IDR Peak:', pos_snps.at[idx, 'idr_peak'])\n",
    "    \n",
    "    print()\n",
    "    \n",
    "    print('GWAS:')\n",
    "    \n",
    "    for i in pos_snps.at[idx, 'all_gwas']:\n",
    "        entry = i.split(':')\n",
    "        if 'Lambert' in entry[0] or 'Pankratz' in entry[0] or 'Chang' in entry[0]:\n",
    "            print(entry[0], '\\t', entry[1])\n",
    "        else:\n",
    "            print(entry[0], '\\t\\t', entry[1])\n",
    "    \n",
    "    print()\n",
    "        \n",
    "    print(\"Coloc: \", pos_snps.at[idx, 'coloc'])\n",
    "    \n",
    "    print()\n",
    "    \n",
    "    print('Effect Allele:', pos_snps.at[idx, 'effect'], '  ||  Explain Score:', round(pos_snps.at[idx, 'effect_center'], 4), '  ||  Center / 200bp:', round(pos_snps.at[idx, 'effect_ratio'], 4))\n",
    "    print('Effect Sequence:', effect_seqs[idx][490:510])\n",
    "    \n",
    "    ylim = plot_weights(merged_effect_scores[idx], subticks_frequency=10, xlim=(400,600))\n",
    "\n",
    "    print('Noneffect Allele:', pos_snps.at[idx, 'noneffect'], '  ||  Explain Score:', round(pos_snps.at[idx, 'noneffect_center'], 4), '  ||  Center / 200bp:', round(pos_snps.at[idx, 'noneffect_ratio'], 4))\n",
    "    print('Noneffect Sequence:', noneffect_seqs[idx][490:510])\n",
    "    \n",
    "    a = plot_weights(merged_noneffect_scores[idx], subticks_frequency=10, ylim=ylim, xlim=(400,600))\n",
    "    \n",
    "    print('Allele Ratio :', round(pos_snps.at[idx, 'allele_ratio'], 4), '  ||   Allele Difference :', round(pos_snps.at[idx, 'allele_diff'], 4),\n",
    "          ' ||  ISM Score :', round(pos_snps.at[idx, 'ism_score'], 4), ' ||  deltaSVM Score :', round(pos_snps.at[idx, 'delta_score'], 4))\n",
    "    \n",
    "    a = plot_weights(merged_noneffect_scores[idx] - merged_effect_scores[idx], subticks_frequency=10, xlim=(400,600))\n",
    "    \n",
    "    print()\n",
    "    print('-'*80)\n",
    "    print('-'*80)\n",
    "    print()\n",
    "    print()"
   ]
  },
  {
   "cell_type": "code",
   "execution_count": null,
   "metadata": {},
   "outputs": [],
   "source": []
  }
 ],
 "metadata": {
  "kernelspec": {
   "display_name": "Python 3",
   "language": "python",
   "name": "python3"
  },
  "language_info": {
   "codemirror_mode": {
    "name": "ipython",
    "version": 3
   },
   "file_extension": ".py",
   "mimetype": "text/x-python",
   "name": "python",
   "nbconvert_exporter": "python",
   "pygments_lexer": "ipython3",
   "version": "3.7.3"
  }
 },
 "nbformat": 4,
 "nbformat_minor": 2
}
