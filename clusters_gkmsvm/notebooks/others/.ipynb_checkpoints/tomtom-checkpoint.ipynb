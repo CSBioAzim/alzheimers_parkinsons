{
 "cells": [
  {
   "cell_type": "code",
   "execution_count": 15,
   "metadata": {},
   "outputs": [],
   "source": [
    "def trim_ppm(ppm, t=0.45):\n",
    "    maxes = np.max(ppm,-1)\n",
    "    maxes = np.where(maxes>=t)\n",
    "    return ppm[maxes[0][0]:maxes[0][-1]+1] \n",
    "        \n",
    "def write_meme_file(ppm, bg, fname):\n",
    "    f = open(fname, 'w')\n",
    "    f.write('MEME version 4\\n\\n')\n",
    "    f.write('ALPHABET= ACGT\\n\\n')\n",
    "    f.write('strands: + -\\n\\n')\n",
    "    f.write('Background letter frequencies (from unknown source):\\n')\n",
    "    f.write('A %.3f C %.3f G %.3f T %.3f\\n\\n' % tuple(list(bg)))\n",
    "    f.write('MOTIF 1 TEMP\\n\\n')\n",
    "    f.write('letter-probability matrix: alength= 4 w= %d nsites= 1 E= 0e+0\\n' % ppm.shape[0])\n",
    "    for s in ppm:\n",
    "        f.write('%.5f %.5f %.5f %.5f\\n' % tuple(s))\n",
    "    f.close()\n",
    "\n",
    "def fetch_tomtom_matches(ppm, background=[0.25, 0.25, 0.25, 0.25], tomtom_exec_path='tomtom', motifs_db='HOCOMOCOv11_core_HUMAN_mono_meme_format.meme' , n=5, temp_dir='./', trim_threshold=0.45):\n",
    "    \"\"\"Fetches top matches from a motifs database using TomTom.\n",
    "    \n",
    "    Args:\n",
    "        ppm: position probability matrix- numpy matrix of dimension (N,4)\n",
    "        background: list with ACGT background probabilities\n",
    "        tomtom_exec_path: path to TomTom executable\n",
    "        motifs_db: path to motifs database in meme format\n",
    "        n: number of top matches to return, ordered by p-value\n",
    "        temp_dir: directory for storing temp files\n",
    "        trim_threshold: the ppm is trimmed from left till first position for which\n",
    "            probability for any base pair >= trim_threshold. Similarly from right.\n",
    "    \n",
    "    Returns:\n",
    "        list: a list of up to n results returned by tomtom, each entry is a\n",
    "            dictionary with keys 'Target ID', 'p-value', 'E-value', 'q-value'  \n",
    "    \"\"\"\n",
    "    \n",
    "    fname = os.path.join(temp_dir, 'query_file')\n",
    "    \n",
    "    # trim and prepare meme file\n",
    "    write_meme_file(ppm, background, fname)\n",
    "    \n",
    "    # run tomtom\n",
    "    cmd = '%s -no-ssc -oc . -verbosity 1 -text -min-overlap 5 -mi 1 -dist pearson -evalue -thresh 10.0 %s %s' % (tomtom_exec_path, fname, motifs_db)\n",
    "    #print(cmd)\n",
    "    out = subprocess.check_output(cmd, shell=True)\n",
    "    \n",
    "    # prepare output\n",
    "    dat = [x.split('\\\\t') for x in str(out).split('\\\\n')]\n",
    "    schema = dat[0]\n",
    "    tget_idx, pval_idx, eval_idx, qval_idx = schema.index('Target_ID'), schema.index('p-value'), schema.index('E-value'), schema.index('q-value')\n",
    "    \n",
    "    r = []\n",
    "    for t in dat[1:1+n]:\n",
    "        mtf = {}\n",
    "        mtf['Target_ID'] = t[tget_idx]\n",
    "        mtf['p-value'] = float(t[pval_idx])\n",
    "        mtf['E-value'] = float(t[eval_idx])\n",
    "        mtf['q-value'] = float(t[qval_idx])\n",
    "        r.append(mtf)\n",
    "    \n",
    "    os.system('rm ' + fname)\n",
    "    return r"
   ]
  },
  {
   "cell_type": "code",
   "execution_count": 16,
   "metadata": {},
   "outputs": [],
   "source": [
    "import subprocess"
   ]
  },
  {
   "cell_type": "code",
   "execution_count": 17,
   "metadata": {},
   "outputs": [
    {
     "data": {
      "text/plain": [
       "[{'Target_ID': 'FOS_HUMAN.H11MO.0.A',\n",
       "  'p-value': 3.80182e-06,\n",
       "  'E-value': 0.00152453,\n",
       "  'q-value': 0.000852542},\n",
       " {'Target_ID': 'JUNB_HUMAN.H11MO.0.A',\n",
       "  'p-value': 6.33636e-06,\n",
       "  'E-value': 0.00254088,\n",
       "  'q-value': 0.000852542},\n",
       " {'Target_ID': 'JUND_HUMAN.H11MO.0.A',\n",
       "  'p-value': 6.33636e-06,\n",
       "  'E-value': 0.00254088,\n",
       "  'q-value': 0.000852542},\n",
       " {'Target_ID': 'JUN_HUMAN.H11MO.0.A',\n",
       "  'p-value': 6.33636e-06,\n",
       "  'E-value': 0.00254088,\n",
       "  'q-value': 0.000852542},\n",
       " {'Target_ID': 'FOSL1_HUMAN.H11MO.0.A',\n",
       "  'p-value': 7.60363e-06,\n",
       "  'E-value': 0.00304906,\n",
       "  'q-value': 0.000852542}]"
      ]
     },
     "execution_count": 17,
     "metadata": {},
     "output_type": "execute_result"
    }
   ],
   "source": [
    "fetch_tomtom_matches(np.array([[0,0,0,1],[0,0,1,0],[1,0,0,0],[0,1,0,0],[0,0,0,1],[0,1,0,0],[1,0,0,0]]), motifs_db='/mnt/lab_data3/soumyak/adpd/HOCOMOCOv11_core_HUMAN_mono_meme_format.meme')"
   ]
  },
  {
   "cell_type": "code",
   "execution_count": 18,
   "metadata": {},
   "outputs": [
    {
     "data": {
      "text/plain": [
       "b'Query_ID\\tTarget_ID\\tOptimal_offset\\tp-value\\tE-value\\tq-value\\tOverlap\\tQuery_consensus\\tTarget_consensus\\tOrientation\\n1\\tFOS_HUMAN.H11MO.0.A\\t1\\t3.80182e-06\\t0.00152453\\t0.000852542\\t7\\tTGACTCA\\tGTGACTCAC\\t-\\n1\\tJUNB_HUMAN.H11MO.0.A\\t2\\t6.33636e-06\\t0.00254088\\t0.000852542\\t7\\tTGACTCA\\tGGTGACTCAGA\\t-\\n1\\tJUND_HUMAN.H11MO.0.A\\t2\\t6.33636e-06\\t0.00254088\\t0.000852542\\t7\\tTGACTCA\\tGATGACTCATC\\t-\\n1\\tJUN_HUMAN.H11MO.0.A\\t2\\t6.33636e-06\\t0.00254088\\t0.000852542\\t7\\tTGACTCA\\tGATGACTCATC\\t-\\n1\\tFOSL1_HUMAN.H11MO.0.A\\t2\\t7.60363e-06\\t0.00304906\\t0.000852542\\t7\\tTGACTCA\\tGGTGACTCATCC\\t-\\n1\\tFOSL2_HUMAN.H11MO.0.A\\t2\\t7.60363e-06\\t0.00304906\\t0.000852542\\t7\\tTGACTCA\\tGATGACTCATCC\\t-\\n1\\tFOSB_HUMAN.H11MO.0.A\\t1\\t8.27176e-06\\t0.00331698\\t0.000852542\\t7\\tTGACTCA\\tATGACTCAT\\t-\\n1\\tNFE2_HUMAN.H11MO.0.A\\t3\\t8.8709e-06\\t0.00355723\\t0.000852542\\t7\\tTGACTCA\\tGCATGACTCAGCA\\t+\\n1\\tNF2L2_HUMAN.H11MO.0.A\\t1\\t1.01382e-05\\t0.0040654\\t0.000866074\\t7\\tTGACTCA\\tATGACTCAGCAGTT\\t-\\n1\\tBACH2_HUMAN.H11MO.0.A\\t1\\t1.37862e-05\\t0.00552828\\t0.00105995\\t7\\tTGACTCA\\tATGACTCAGCA\\t-\\n1\\tBACH1_HUMAN.H11MO.0.A\\t3\\t1.93007e-05\\t0.00773957\\t0.00134902\\t7\\tTGACTCA\\tGCATGACTCAGCA\\t-\\n1\\tMAFB_HUMAN.H11MO.0.B\\t3\\t0.000131083\\t0.0525641\\t0.00839851\\t7\\tTGACTCA\\tTGCTGACTCAG\\t+\\n1\\tBATF_HUMAN.H11MO.0.A\\t10\\t0.000246218\\t0.0987333\\t0.0145618\\t7\\tTGACTCA\\tACTTTCGATATGACTCAT\\t+\\n1\\tMAFG_HUMAN.H11MO.0.A\\t8\\t0.000314569\\t0.126142\\t0.0172754\\t7\\tTGACTCA\\tAAAATTGCTGACTCAGCA\\t+\\n1\\tMAFK_HUMAN.H11MO.0.A\\t3\\t0.000464442\\t0.186241\\t0.0238056\\t7\\tTGACTCA\\tTGCTGACTCAGCAATTTT\\t-\\n1\\tMAFF_HUMAN.H11MO.0.B\\t8\\t0.000545935\\t0.21892\\t0.0262337\\t7\\tTGACTCA\\tAAAAATGCTGACTCAGCA\\t-\\n1\\tMAF_HUMAN.H11MO.0.A\\t8\\t0.000637472\\t0.255626\\t0.0278947\\t7\\tTGACTCA\\tGAATCTGCTGACTCAGCAA\\t+\\n1\\tZFP28_HUMAN.H11MO.0.C\\t0\\t0.00135486\\t0.543297\\t0.0452901\\t7\\tTGACTCA\\tTGACACAAGAAGAAATAGAA\\t-\\n1\\tRORG_HUMAN.H11MO.0.C\\t0\\t0.00192932\\t0.773659\\t0.0526405\\t7\\tTGACTCA\\tTGACCCACTTTC\\t-\\n1\\tZN554_HUMAN.H11MO.0.C\\t11\\t0.00330985\\t1.32725\\t0.0687773\\t7\\tTGACTCA\\tAGCACCCCACATGGCTCAGC\\t-\\n1\\tNR1D1_HUMAN.H11MO.0.B\\t5\\t0.00721322\\t2.8925\\t0.145943\\t7\\tTGACTCA\\tCCTTCTGACCCACTTCCCT\\t-\\n1\\tBATF3_HUMAN.H11MO.0.B\\t11\\t0.00996251\\t3.99497\\t0.1964\\t6\\tTGACTCA\\tCAGTTTCATTATGACTC\\t+\\n1\\tZN140_HUMAN.H11MO.0.C\\t2\\t0.0108394\\t4.34662\\t0.208346\\t7\\tTGACTCA\\tTATGACCCAGCAATTCCGCTCCTA\\t+\\n1\\tPBX1_HUMAN.H11MO.0.A\\t3\\t0.0120288\\t4.82356\\t0.225568\\t7\\tTGACTCA\\tCTGTCAATCA\\t-\\n1\\tZN257_HUMAN.H11MO.0.C\\t5\\t0.0154354\\t6.18961\\t0.282558\\t7\\tTGACTCA\\tGCTCTTGCCTCT\\t+\\n1\\tPKNX1_HUMAN.H11MO.0.B\\t4\\t0.0172902\\t6.93338\\t0.309151\\t7\\tTGACTCA\\tCCTGTCAATCA\\t-\\n1\\tPBX3_HUMAN.H11MO.0.A\\t4\\t0.0179764\\t7.20853\\t0.310826\\t7\\tTGACTCA\\tCCTGTCAATCA\\t-\\n1\\tNF2L1_HUMAN.H11MO.0.C\\t2\\t0.0183142\\t7.34398\\t0.310826\\t5\\tTGACTCA\\tAATGACT\\t-\\n1\\tRORA_HUMAN.H11MO.0.C\\t3\\t0.0185967\\t7.45729\\t0.310826\\t7\\tTGACTCA\\tCCCTGACCTAGTT\\t-\\n1\\tFOXA2_HUMAN.H11MO.0.A\\t3\\t0.0221118\\t8.86685\\t0.354178\\t7\\tTGACTCA\\tTGTTTACTTAGC\\t+\\n1\\tPDX1_HUMAN.H11MO.0.A\\t0\\t0.0232552\\t9.32533\\t0.36489\\t7\\tTGACTCA\\tTGATTGATG\\t+\\n\\n# Tomtom (Motif Comparison Tool): Version 5.0.1 compiled on Aug  7 2018 at 21:56:33\\n# The format of this file is described at http://meme-suite.org/doc/tomtom-output-format.html.\\n# tomtom -no-ssc -oc . -verbosity 1 -text -min-overlap 5 -mi 1 -dist pearson -evalue -thresh 10.0 ./query_file /mnt/lab_data3/soumyak/adpd/HOCOMOCOv11_core_HUMAN_mono_meme_format.meme\\n'"
      ]
     },
     "execution_count": 18,
     "metadata": {},
     "output_type": "execute_result"
    }
   ],
   "source": [
    "out"
   ]
  },
  {
   "cell_type": "code",
   "execution_count": null,
   "metadata": {},
   "outputs": [],
   "source": []
  }
 ],
 "metadata": {
  "kernelspec": {
   "display_name": "Python 3",
   "language": "python",
   "name": "python3"
  },
  "language_info": {
   "codemirror_mode": {
    "name": "ipython",
    "version": 3
   },
   "file_extension": ".py",
   "mimetype": "text/x-python",
   "name": "python",
   "nbconvert_exporter": "python",
   "pygments_lexer": "ipython3",
   "version": "3.7.3"
  }
 },
 "nbformat": 4,
 "nbformat_minor": 2
}
