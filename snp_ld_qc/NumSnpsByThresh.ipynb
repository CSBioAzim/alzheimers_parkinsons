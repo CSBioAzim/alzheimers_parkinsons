{
 "cells": [
  {
   "cell_type": "code",
   "execution_count": 1,
   "metadata": {},
   "outputs": [],
   "source": [
    "import pandas as pd \n",
    "data_dir=\"/oak/stanford/groups/akundaje/projects/alzheimers_parkinsons/mgloud_GWAS_HG19\""
   ]
  },
  {
   "cell_type": "code",
   "execution_count": 2,
   "metadata": {},
   "outputs": [],
   "source": [
    "kunkle=pd.read_csv('/'.join([data_dir,\"GWAS_Kunkle2019.txt.gz\"]),header=0,delim_whitespace=True)"
   ]
  },
  {
   "cell_type": "code",
   "execution_count": 6,
   "metadata": {},
   "outputs": [
    {
     "data": {
      "text/html": [
       "<div>\n",
       "<style scoped>\n",
       "    .dataframe tbody tr th:only-of-type {\n",
       "        vertical-align: middle;\n",
       "    }\n",
       "\n",
       "    .dataframe tbody tr th {\n",
       "        vertical-align: top;\n",
       "    }\n",
       "\n",
       "    .dataframe thead th {\n",
       "        text-align: right;\n",
       "    }\n",
       "</style>\n",
       "<table border=\"1\" class=\"dataframe\">\n",
       "  <thead>\n",
       "    <tr style=\"text-align: right;\">\n",
       "      <th></th>\n",
       "      <th>rsid</th>\n",
       "      <th>chr</th>\n",
       "      <th>snp_pos</th>\n",
       "      <th>pvalue</th>\n",
       "      <th>effect_allele</th>\n",
       "      <th>non_effect_allele</th>\n",
       "      <th>effect_direction</th>\n",
       "      <th>beta</th>\n",
       "      <th>se</th>\n",
       "      <th>MarkerName</th>\n",
       "    </tr>\n",
       "  </thead>\n",
       "  <tbody>\n",
       "    <tr>\n",
       "      <th>0</th>\n",
       "      <td>rs61769339</td>\n",
       "      <td>1</td>\n",
       "      <td>662622</td>\n",
       "      <td>0.02869</td>\n",
       "      <td>A</td>\n",
       "      <td>G</td>\n",
       "      <td>-</td>\n",
       "      <td>-0.1000</td>\n",
       "      <td>0.0457</td>\n",
       "      <td>rs61769339</td>\n",
       "    </tr>\n",
       "    <tr>\n",
       "      <th>1</th>\n",
       "      <td>rs190214723</td>\n",
       "      <td>1</td>\n",
       "      <td>693625</td>\n",
       "      <td>0.81200</td>\n",
       "      <td>T</td>\n",
       "      <td>C</td>\n",
       "      <td>-</td>\n",
       "      <td>-0.0163</td>\n",
       "      <td>0.0685</td>\n",
       "      <td>NaN</td>\n",
       "    </tr>\n",
       "    <tr>\n",
       "      <th>2</th>\n",
       "      <td>rs12238997</td>\n",
       "      <td>1</td>\n",
       "      <td>693731</td>\n",
       "      <td>0.01598</td>\n",
       "      <td>A</td>\n",
       "      <td>G</td>\n",
       "      <td>+</td>\n",
       "      <td>0.0996</td>\n",
       "      <td>0.0413</td>\n",
       "      <td>rs61769350</td>\n",
       "    </tr>\n",
       "    <tr>\n",
       "      <th>3</th>\n",
       "      <td>rs72631875</td>\n",
       "      <td>1</td>\n",
       "      <td>705882</td>\n",
       "      <td>0.75740</td>\n",
       "      <td>A</td>\n",
       "      <td>G</td>\n",
       "      <td>-</td>\n",
       "      <td>-0.0184</td>\n",
       "      <td>0.0595</td>\n",
       "      <td>rs72631875</td>\n",
       "    </tr>\n",
       "    <tr>\n",
       "      <th>4</th>\n",
       "      <td>rs181440659</td>\n",
       "      <td>1</td>\n",
       "      <td>718505</td>\n",
       "      <td>0.23200</td>\n",
       "      <td>A</td>\n",
       "      <td>G</td>\n",
       "      <td>-</td>\n",
       "      <td>-0.1628</td>\n",
       "      <td>0.1362</td>\n",
       "      <td>rs181440659</td>\n",
       "    </tr>\n",
       "  </tbody>\n",
       "</table>\n",
       "</div>"
      ],
      "text/plain": [
       "          rsid  chr  snp_pos   pvalue effect_allele non_effect_allele  \\\n",
       "0   rs61769339    1   662622  0.02869             A                 G   \n",
       "1  rs190214723    1   693625  0.81200             T                 C   \n",
       "2   rs12238997    1   693731  0.01598             A                 G   \n",
       "3   rs72631875    1   705882  0.75740             A                 G   \n",
       "4  rs181440659    1   718505  0.23200             A                 G   \n",
       "\n",
       "  effect_direction    beta      se   MarkerName  \n",
       "0                - -0.1000  0.0457   rs61769339  \n",
       "1                - -0.0163  0.0685          NaN  \n",
       "2                +  0.0996  0.0413   rs61769350  \n",
       "3                - -0.0184  0.0595   rs72631875  \n",
       "4                - -0.1628  0.1362  rs181440659  "
      ]
     },
     "execution_count": 6,
     "metadata": {},
     "output_type": "execute_result"
    }
   ],
   "source": [
    "kunkle.head()"
   ]
  },
  {
   "cell_type": "code",
   "execution_count": 7,
   "metadata": {},
   "outputs": [
    {
     "name": "stdout",
     "output_type": "stream",
     "text": [
      "num_snps:11596256\n"
     ]
    }
   ],
   "source": [
    "num_snps=kunkle.shape[0]\n",
    "print(\"num_snps:\"+str(num_snps))"
   ]
  },
  {
   "cell_type": "markdown",
   "metadata": {},
   "source": [
    "### get snps w/ p-value <= 1e-5 , <=5e-8, <=1e-8"
   ]
  },
  {
   "cell_type": "code",
   "execution_count": 8,
   "metadata": {},
   "outputs": [],
   "source": [
    "sig1e5=kunkle[kunkle['pvalue']<=1e-5]\n",
    "sig5e8=kunkle[kunkle['pvalue']<=5e-8]\n",
    "sig1e8=kunkle[kunkle['pvalue']<=1e-8]"
   ]
  },
  {
   "cell_type": "code",
   "execution_count": 9,
   "metadata": {},
   "outputs": [
    {
     "data": {
      "text/plain": [
       "(3739, 10)"
      ]
     },
     "execution_count": 9,
     "metadata": {},
     "output_type": "execute_result"
    }
   ],
   "source": [
    "sig1e5.shape"
   ]
  },
  {
   "cell_type": "code",
   "execution_count": 10,
   "metadata": {},
   "outputs": [
    {
     "data": {
      "text/plain": [
       "(1547, 10)"
      ]
     },
     "execution_count": 10,
     "metadata": {},
     "output_type": "execute_result"
    }
   ],
   "source": [
    "sig5e8.shape"
   ]
  },
  {
   "cell_type": "code",
   "execution_count": 11,
   "metadata": {},
   "outputs": [
    {
     "data": {
      "text/plain": [
       "(1295, 10)"
      ]
     },
     "execution_count": 11,
     "metadata": {},
     "output_type": "execute_result"
    }
   ],
   "source": [
    "sig1e8.shape"
   ]
  },
  {
   "cell_type": "markdown",
   "metadata": {},
   "source": [
    "## sort,split by chroms, save 1e-5"
   ]
  },
  {
   "cell_type": "code",
   "execution_count": 15,
   "metadata": {},
   "outputs": [
    {
     "data": {
      "text/html": [
       "<div>\n",
       "<style scoped>\n",
       "    .dataframe tbody tr th:only-of-type {\n",
       "        vertical-align: middle;\n",
       "    }\n",
       "\n",
       "    .dataframe tbody tr th {\n",
       "        vertical-align: top;\n",
       "    }\n",
       "\n",
       "    .dataframe thead th {\n",
       "        text-align: right;\n",
       "    }\n",
       "</style>\n",
       "<table border=\"1\" class=\"dataframe\">\n",
       "  <thead>\n",
       "    <tr style=\"text-align: right;\">\n",
       "      <th></th>\n",
       "      <th>rsid</th>\n",
       "      <th>chr</th>\n",
       "      <th>snp_pos</th>\n",
       "      <th>pvalue</th>\n",
       "      <th>effect_allele</th>\n",
       "      <th>non_effect_allele</th>\n",
       "      <th>effect_direction</th>\n",
       "      <th>beta</th>\n",
       "      <th>se</th>\n",
       "      <th>MarkerName</th>\n",
       "    </tr>\n",
       "  </thead>\n",
       "  <tbody>\n",
       "    <tr>\n",
       "      <th>4926215</th>\n",
       "      <td>rs7260330</td>\n",
       "      <td>19</td>\n",
       "      <td>45436216</td>\n",
       "      <td>0.00001</td>\n",
       "      <td>A</td>\n",
       "      <td>G</td>\n",
       "      <td>+</td>\n",
       "      <td>0.0963</td>\n",
       "      <td>0.0218</td>\n",
       "      <td>rs7260330</td>\n",
       "    </tr>\n",
       "    <tr>\n",
       "      <th>10788820</th>\n",
       "      <td>rs11988972</td>\n",
       "      <td>8</td>\n",
       "      <td>71692813</td>\n",
       "      <td>0.00001</td>\n",
       "      <td>A</td>\n",
       "      <td>G</td>\n",
       "      <td>+</td>\n",
       "      <td>0.1058</td>\n",
       "      <td>0.0240</td>\n",
       "      <td>rs11988972</td>\n",
       "    </tr>\n",
       "    <tr>\n",
       "      <th>7671184</th>\n",
       "      <td>rs28704613</td>\n",
       "      <td>4</td>\n",
       "      <td>66244870</td>\n",
       "      <td>0.00001</td>\n",
       "      <td>A</td>\n",
       "      <td>T</td>\n",
       "      <td>+</td>\n",
       "      <td>0.2114</td>\n",
       "      <td>0.0478</td>\n",
       "      <td>rs28704613</td>\n",
       "    </tr>\n",
       "    <tr>\n",
       "      <th>6510111</th>\n",
       "      <td>rs80119813</td>\n",
       "      <td>22</td>\n",
       "      <td>46713651</td>\n",
       "      <td>0.00001</td>\n",
       "      <td>A</td>\n",
       "      <td>G</td>\n",
       "      <td>-</td>\n",
       "      <td>-1.7850</td>\n",
       "      <td>0.4039</td>\n",
       "      <td>rs80119813</td>\n",
       "    </tr>\n",
       "    <tr>\n",
       "      <th>9160111</th>\n",
       "      <td>rs114291379</td>\n",
       "      <td>6</td>\n",
       "      <td>32491826</td>\n",
       "      <td>0.00001</td>\n",
       "      <td>C</td>\n",
       "      <td>G</td>\n",
       "      <td>+</td>\n",
       "      <td>0.0857</td>\n",
       "      <td>0.0194</td>\n",
       "      <td>rs114291379</td>\n",
       "    </tr>\n",
       "  </tbody>\n",
       "</table>\n",
       "</div>"
      ],
      "text/plain": [
       "                 rsid  chr   snp_pos   pvalue effect_allele non_effect_allele  \\\n",
       "4926215     rs7260330   19  45436216  0.00001             A                 G   \n",
       "10788820   rs11988972    8  71692813  0.00001             A                 G   \n",
       "7671184    rs28704613    4  66244870  0.00001             A                 T   \n",
       "6510111    rs80119813   22  46713651  0.00001             A                 G   \n",
       "9160111   rs114291379    6  32491826  0.00001             C                 G   \n",
       "\n",
       "         effect_direction    beta      se   MarkerName  \n",
       "4926215                 +  0.0963  0.0218    rs7260330  \n",
       "10788820                +  0.1058  0.0240   rs11988972  \n",
       "7671184                 +  0.2114  0.0478   rs28704613  \n",
       "6510111                 - -1.7850  0.4039   rs80119813  \n",
       "9160111                 +  0.0857  0.0194  rs114291379  "
      ]
     },
     "execution_count": 15,
     "metadata": {},
     "output_type": "execute_result"
    }
   ],
   "source": [
    "sig1e5=sig1e5.sort_values(\"pvalue\",ascending=False)\n",
    "sig1e5.head()"
   ]
  },
  {
   "cell_type": "code",
   "execution_count": 17,
   "metadata": {},
   "outputs": [
    {
     "data": {
      "text/plain": [
       "19    1159\n",
       "6     1069\n",
       "11     926\n",
       "2      168\n",
       "8       91\n",
       "14      62\n",
       "16      57\n",
       "1       46\n",
       "7       38\n",
       "4       25\n",
       "3       18\n",
       "10      15\n",
       "5       14\n",
       "20      14\n",
       "17      11\n",
       "21       6\n",
       "15       6\n",
       "22       5\n",
       "9        4\n",
       "12       2\n",
       "13       2\n",
       "18       1\n",
       "Name: chr, dtype: int64"
      ]
     },
     "execution_count": 17,
     "metadata": {},
     "output_type": "execute_result"
    }
   ],
   "source": [
    "#what's the split by chromosomes? \n",
    "sig1e5.chr.value_counts()"
   ]
  },
  {
   "cell_type": "markdown",
   "metadata": {},
   "source": [
    "## sort,split by chroms, save 5e-8"
   ]
  },
  {
   "cell_type": "code",
   "execution_count": 18,
   "metadata": {},
   "outputs": [],
   "source": [
    "sig1e5.to_csv(\"Kunkle2019.pval_lte_1e5.tsv\",sep='\\t',index=False)"
   ]
  },
  {
   "cell_type": "code",
   "execution_count": 19,
   "metadata": {},
   "outputs": [
    {
     "data": {
      "text/html": [
       "<div>\n",
       "<style scoped>\n",
       "    .dataframe tbody tr th:only-of-type {\n",
       "        vertical-align: middle;\n",
       "    }\n",
       "\n",
       "    .dataframe tbody tr th {\n",
       "        vertical-align: top;\n",
       "    }\n",
       "\n",
       "    .dataframe thead th {\n",
       "        text-align: right;\n",
       "    }\n",
       "</style>\n",
       "<table border=\"1\" class=\"dataframe\">\n",
       "  <thead>\n",
       "    <tr style=\"text-align: right;\">\n",
       "      <th></th>\n",
       "      <th>rsid</th>\n",
       "      <th>chr</th>\n",
       "      <th>snp_pos</th>\n",
       "      <th>pvalue</th>\n",
       "      <th>effect_allele</th>\n",
       "      <th>non_effect_allele</th>\n",
       "      <th>effect_direction</th>\n",
       "      <th>beta</th>\n",
       "      <th>se</th>\n",
       "      <th>MarkerName</th>\n",
       "    </tr>\n",
       "  </thead>\n",
       "  <tbody>\n",
       "    <tr>\n",
       "      <th>9165034</th>\n",
       "      <td>rs9270842</td>\n",
       "      <td>6</td>\n",
       "      <td>32570461</td>\n",
       "      <td>4.992000e-08</td>\n",
       "      <td>T</td>\n",
       "      <td>C</td>\n",
       "      <td>-</td>\n",
       "      <td>-0.0942</td>\n",
       "      <td>0.0173</td>\n",
       "      <td>rs9270842</td>\n",
       "    </tr>\n",
       "    <tr>\n",
       "      <th>9165035</th>\n",
       "      <td>rs9270843</td>\n",
       "      <td>6</td>\n",
       "      <td>32570478</td>\n",
       "      <td>4.990000e-08</td>\n",
       "      <td>A</td>\n",
       "      <td>G</td>\n",
       "      <td>+</td>\n",
       "      <td>0.0942</td>\n",
       "      <td>0.0173</td>\n",
       "      <td>rs9270843</td>\n",
       "    </tr>\n",
       "    <tr>\n",
       "      <th>1707316</th>\n",
       "      <td>rs2697923</td>\n",
       "      <td>11</td>\n",
       "      <td>47363215</td>\n",
       "      <td>4.923000e-08</td>\n",
       "      <td>T</td>\n",
       "      <td>G</td>\n",
       "      <td>-</td>\n",
       "      <td>-0.0815</td>\n",
       "      <td>0.0150</td>\n",
       "      <td>rs2697923</td>\n",
       "    </tr>\n",
       "    <tr>\n",
       "      <th>9165051</th>\n",
       "      <td>rs386699449</td>\n",
       "      <td>6</td>\n",
       "      <td>32570839</td>\n",
       "      <td>4.922000e-08</td>\n",
       "      <td>A</td>\n",
       "      <td>G</td>\n",
       "      <td>+</td>\n",
       "      <td>0.0939</td>\n",
       "      <td>0.0172</td>\n",
       "      <td>rs9270856</td>\n",
       "    </tr>\n",
       "    <tr>\n",
       "      <th>9165052</th>\n",
       "      <td>rs9270856</td>\n",
       "      <td>6</td>\n",
       "      <td>32570839</td>\n",
       "      <td>4.922000e-08</td>\n",
       "      <td>A</td>\n",
       "      <td>G</td>\n",
       "      <td>+</td>\n",
       "      <td>0.0939</td>\n",
       "      <td>0.0172</td>\n",
       "      <td>rs9270856</td>\n",
       "    </tr>\n",
       "  </tbody>\n",
       "</table>\n",
       "</div>"
      ],
      "text/plain": [
       "                rsid  chr   snp_pos        pvalue effect_allele  \\\n",
       "9165034    rs9270842    6  32570461  4.992000e-08             T   \n",
       "9165035    rs9270843    6  32570478  4.990000e-08             A   \n",
       "1707316    rs2697923   11  47363215  4.923000e-08             T   \n",
       "9165051  rs386699449    6  32570839  4.922000e-08             A   \n",
       "9165052    rs9270856    6  32570839  4.922000e-08             A   \n",
       "\n",
       "        non_effect_allele effect_direction    beta      se MarkerName  \n",
       "9165034                 C                - -0.0942  0.0173  rs9270842  \n",
       "9165035                 G                +  0.0942  0.0173  rs9270843  \n",
       "1707316                 G                - -0.0815  0.0150  rs2697923  \n",
       "9165051                 G                +  0.0939  0.0172  rs9270856  \n",
       "9165052                 G                +  0.0939  0.0172  rs9270856  "
      ]
     },
     "execution_count": 19,
     "metadata": {},
     "output_type": "execute_result"
    }
   ],
   "source": [
    "sig5e8=sig5e8.sort_values(\"pvalue\",ascending=False)\n",
    "sig5e8.head()"
   ]
  },
  {
   "cell_type": "code",
   "execution_count": 20,
   "metadata": {},
   "outputs": [
    {
     "data": {
      "text/plain": [
       "19    806\n",
       "11    533\n",
       "6      87\n",
       "2      67\n",
       "1      23\n",
       "8      20\n",
       "7       6\n",
       "10      4\n",
       "14      1\n",
       "Name: chr, dtype: int64"
      ]
     },
     "execution_count": 20,
     "metadata": {},
     "output_type": "execute_result"
    }
   ],
   "source": [
    "#what's the split by chromosomes? \n",
    "sig5e8.chr.value_counts()"
   ]
  },
  {
   "cell_type": "code",
   "execution_count": 21,
   "metadata": {},
   "outputs": [],
   "source": [
    "sig5e8.to_csv(\"Kunkle2019.pval_lte_5e8.tsv\",sep='\\t',index=False)"
   ]
  },
  {
   "cell_type": "markdown",
   "metadata": {},
   "source": [
    "## sort,split by chroms, save 1e-8"
   ]
  },
  {
   "cell_type": "code",
   "execution_count": 22,
   "metadata": {},
   "outputs": [
    {
     "data": {
      "text/html": [
       "<div>\n",
       "<style scoped>\n",
       "    .dataframe tbody tr th:only-of-type {\n",
       "        vertical-align: middle;\n",
       "    }\n",
       "\n",
       "    .dataframe tbody tr th {\n",
       "        vertical-align: top;\n",
       "    }\n",
       "\n",
       "    .dataframe thead th {\n",
       "        text-align: right;\n",
       "    }\n",
       "</style>\n",
       "<table border=\"1\" class=\"dataframe\">\n",
       "  <thead>\n",
       "    <tr style=\"text-align: right;\">\n",
       "      <th></th>\n",
       "      <th>rsid</th>\n",
       "      <th>chr</th>\n",
       "      <th>snp_pos</th>\n",
       "      <th>pvalue</th>\n",
       "      <th>effect_allele</th>\n",
       "      <th>non_effect_allele</th>\n",
       "      <th>effect_direction</th>\n",
       "      <th>beta</th>\n",
       "      <th>se</th>\n",
       "      <th>MarkerName</th>\n",
       "    </tr>\n",
       "  </thead>\n",
       "  <tbody>\n",
       "    <tr>\n",
       "      <th>1707429</th>\n",
       "      <td>rs34937994</td>\n",
       "      <td>11</td>\n",
       "      <td>47389638</td>\n",
       "      <td>9.957000e-09</td>\n",
       "      <td>T</td>\n",
       "      <td>C</td>\n",
       "      <td>+</td>\n",
       "      <td>0.0856</td>\n",
       "      <td>0.0149</td>\n",
       "      <td>rs34937994</td>\n",
       "    </tr>\n",
       "    <tr>\n",
       "      <th>4925585</th>\n",
       "      <td>rs35106910</td>\n",
       "      <td>19</td>\n",
       "      <td>45284266</td>\n",
       "      <td>9.839000e-09</td>\n",
       "      <td>A</td>\n",
       "      <td>C</td>\n",
       "      <td>+</td>\n",
       "      <td>0.2345</td>\n",
       "      <td>0.0409</td>\n",
       "      <td>rs35106910</td>\n",
       "    </tr>\n",
       "    <tr>\n",
       "      <th>4925395</th>\n",
       "      <td>rs8108110</td>\n",
       "      <td>19</td>\n",
       "      <td>45234124</td>\n",
       "      <td>9.662000e-09</td>\n",
       "      <td>A</td>\n",
       "      <td>G</td>\n",
       "      <td>+</td>\n",
       "      <td>0.0936</td>\n",
       "      <td>0.0163</td>\n",
       "      <td>rs8108110</td>\n",
       "    </tr>\n",
       "    <tr>\n",
       "      <th>1708246</th>\n",
       "      <td>rs1064608</td>\n",
       "      <td>11</td>\n",
       "      <td>47640429</td>\n",
       "      <td>9.632000e-09</td>\n",
       "      <td>C</td>\n",
       "      <td>G</td>\n",
       "      <td>-</td>\n",
       "      <td>-0.0860</td>\n",
       "      <td>0.0150</td>\n",
       "      <td>rs1064608</td>\n",
       "    </tr>\n",
       "    <tr>\n",
       "      <th>4927395</th>\n",
       "      <td>rs148613044</td>\n",
       "      <td>19</td>\n",
       "      <td>45732972</td>\n",
       "      <td>9.613000e-09</td>\n",
       "      <td>A</td>\n",
       "      <td>G</td>\n",
       "      <td>+</td>\n",
       "      <td>0.2347</td>\n",
       "      <td>0.0409</td>\n",
       "      <td>rs148613044</td>\n",
       "    </tr>\n",
       "  </tbody>\n",
       "</table>\n",
       "</div>"
      ],
      "text/plain": [
       "                rsid  chr   snp_pos        pvalue effect_allele  \\\n",
       "1707429   rs34937994   11  47389638  9.957000e-09             T   \n",
       "4925585   rs35106910   19  45284266  9.839000e-09             A   \n",
       "4925395    rs8108110   19  45234124  9.662000e-09             A   \n",
       "1708246    rs1064608   11  47640429  9.632000e-09             C   \n",
       "4927395  rs148613044   19  45732972  9.613000e-09             A   \n",
       "\n",
       "        non_effect_allele effect_direction    beta      se   MarkerName  \n",
       "1707429                 C                +  0.0856  0.0149   rs34937994  \n",
       "4925585                 C                +  0.2345  0.0409   rs35106910  \n",
       "4925395                 G                +  0.0936  0.0163    rs8108110  \n",
       "1708246                 G                - -0.0860  0.0150    rs1064608  \n",
       "4927395                 G                +  0.2347  0.0409  rs148613044  "
      ]
     },
     "execution_count": 22,
     "metadata": {},
     "output_type": "execute_result"
    }
   ],
   "source": [
    "sig1e8=sig1e8.sort_values(\"pvalue\",ascending=False)\n",
    "sig1e8.head()"
   ]
  },
  {
   "cell_type": "code",
   "execution_count": 23,
   "metadata": {},
   "outputs": [
    {
     "data": {
      "text/plain": [
       "19    742\n",
       "11    433\n",
       "2      65\n",
       "1      23\n",
       "8      19\n",
       "6      12\n",
       "14      1\n",
       "Name: chr, dtype: int64"
      ]
     },
     "execution_count": 23,
     "metadata": {},
     "output_type": "execute_result"
    }
   ],
   "source": [
    "#what's the split by chromosomes? \n",
    "sig1e8.chr.value_counts()"
   ]
  },
  {
   "cell_type": "code",
   "execution_count": 24,
   "metadata": {},
   "outputs": [],
   "source": [
    "sig1e8.to_csv(\"Kunkle2019.pval_lte_1e8.tsv\",sep='\\t',index=False)"
   ]
  },
  {
   "cell_type": "code",
   "execution_count": null,
   "metadata": {},
   "outputs": [],
   "source": []
  }
 ],
 "metadata": {
  "kernelspec": {
   "display_name": "Python 3",
   "language": "python",
   "name": "python3"
  },
  "language_info": {
   "codemirror_mode": {
    "name": "ipython",
    "version": 3
   },
   "file_extension": ".py",
   "mimetype": "text/x-python",
   "name": "python",
   "nbconvert_exporter": "python",
   "pygments_lexer": "ipython3",
   "version": "3.6.7"
  }
 },
 "nbformat": 4,
 "nbformat_minor": 2
}
