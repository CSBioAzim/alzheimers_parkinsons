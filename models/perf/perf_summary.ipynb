{
 "cells": [
  {
   "cell_type": "code",
   "execution_count": 7,
   "metadata": {},
   "outputs": [],
   "source": [
    "data=read.table(\"aggregate_regression_performance.summary.tsv\",header=TRUE,sep='\\t')"
   ]
  },
  {
   "cell_type": "code",
   "execution_count": 8,
   "metadata": {},
   "outputs": [],
   "source": [
    "library(ggplot2)"
   ]
  },
  {
   "cell_type": "code",
   "execution_count": 9,
   "metadata": {},
   "outputs": [
    {
     "data": {
      "text/html": [
       "<table>\n",
       "<caption>A data.frame: 6 × 5</caption>\n",
       "<thead>\n",
       "\t<tr><th scope=col>Dataset</th><th scope=col>PearsonGenomewide</th><th scope=col>SpearmanGenomewide</th><th scope=col>PearsonNonzero</th><th scope=col>SpearmanNonzero</th></tr>\n",
       "\t<tr><th scope=col>&lt;fct&gt;</th><th scope=col>&lt;dbl&gt;</th><th scope=col>&lt;dbl&gt;</th><th scope=col>&lt;dbl&gt;</th><th scope=col>&lt;dbl&gt;</th></tr>\n",
       "</thead>\n",
       "<tbody>\n",
       "\t<tr><td>128_0.3_AD_CTRL_SMTG.perfs.7</td><td>0.5246674</td><td>0.1980666</td><td>0.5412828</td><td>0.4759102</td></tr>\n",
       "\t<tr><td>128_0.3_PD_CTRL_MDTG.perfs.7</td><td>0.5517774</td><td>0.2047856</td><td>0.5907171</td><td>0.4995435</td></tr>\n",
       "\t<tr><td>128_0.5_AD_CTRL_SMTG.perfs.7</td><td>0.4967700</td><td>0.1980168</td><td>0.5717266</td><td>0.5061366</td></tr>\n",
       "\t<tr><td>128_0.5_PD_CTRL_MDTG.perfs.7</td><td>0.5171183</td><td>0.2040171</td><td>0.5834517</td><td>0.5129486</td></tr>\n",
       "\t<tr><td>256_0.3_AD_CTRL_SMTG.perfs.7</td><td>0.5279260</td><td>0.1978005</td><td>0.5864181</td><td>0.5064310</td></tr>\n",
       "\t<tr><td>256_0.3_PD_CTRL_MDTG.perfs.7</td><td>0.5371528</td><td>0.2051432</td><td>0.5945479</td><td>0.5141303</td></tr>\n",
       "</tbody>\n",
       "</table>\n"
      ],
      "text/latex": [
       "A data.frame: 6 × 5\n",
       "\\begin{tabular}{r|lllll}\n",
       " Dataset & PearsonGenomewide & SpearmanGenomewide & PearsonNonzero & SpearmanNonzero\\\\\n",
       " <fct> & <dbl> & <dbl> & <dbl> & <dbl>\\\\\n",
       "\\hline\n",
       "\t 128\\_0.3\\_AD\\_CTRL\\_SMTG.perfs.7 & 0.5246674 & 0.1980666 & 0.5412828 & 0.4759102\\\\\n",
       "\t 128\\_0.3\\_PD\\_CTRL\\_MDTG.perfs.7 & 0.5517774 & 0.2047856 & 0.5907171 & 0.4995435\\\\\n",
       "\t 128\\_0.5\\_AD\\_CTRL\\_SMTG.perfs.7 & 0.4967700 & 0.1980168 & 0.5717266 & 0.5061366\\\\\n",
       "\t 128\\_0.5\\_PD\\_CTRL\\_MDTG.perfs.7 & 0.5171183 & 0.2040171 & 0.5834517 & 0.5129486\\\\\n",
       "\t 256\\_0.3\\_AD\\_CTRL\\_SMTG.perfs.7 & 0.5279260 & 0.1978005 & 0.5864181 & 0.5064310\\\\\n",
       "\t 256\\_0.3\\_PD\\_CTRL\\_MDTG.perfs.7 & 0.5371528 & 0.2051432 & 0.5945479 & 0.5141303\\\\\n",
       "\\end{tabular}\n"
      ],
      "text/markdown": [
       "\n",
       "A data.frame: 6 × 5\n",
       "\n",
       "| Dataset &lt;fct&gt; | PearsonGenomewide &lt;dbl&gt; | SpearmanGenomewide &lt;dbl&gt; | PearsonNonzero &lt;dbl&gt; | SpearmanNonzero &lt;dbl&gt; |\n",
       "|---|---|---|---|---|\n",
       "| 128_0.3_AD_CTRL_SMTG.perfs.7 | 0.5246674 | 0.1980666 | 0.5412828 | 0.4759102 |\n",
       "| 128_0.3_PD_CTRL_MDTG.perfs.7 | 0.5517774 | 0.2047856 | 0.5907171 | 0.4995435 |\n",
       "| 128_0.5_AD_CTRL_SMTG.perfs.7 | 0.4967700 | 0.1980168 | 0.5717266 | 0.5061366 |\n",
       "| 128_0.5_PD_CTRL_MDTG.perfs.7 | 0.5171183 | 0.2040171 | 0.5834517 | 0.5129486 |\n",
       "| 256_0.3_AD_CTRL_SMTG.perfs.7 | 0.5279260 | 0.1978005 | 0.5864181 | 0.5064310 |\n",
       "| 256_0.3_PD_CTRL_MDTG.perfs.7 | 0.5371528 | 0.2051432 | 0.5945479 | 0.5141303 |\n",
       "\n"
      ],
      "text/plain": [
       "  Dataset                      PearsonGenomewide SpearmanGenomewide\n",
       "1 128_0.3_AD_CTRL_SMTG.perfs.7 0.5246674         0.1980666         \n",
       "2 128_0.3_PD_CTRL_MDTG.perfs.7 0.5517774         0.2047856         \n",
       "3 128_0.5_AD_CTRL_SMTG.perfs.7 0.4967700         0.1980168         \n",
       "4 128_0.5_PD_CTRL_MDTG.perfs.7 0.5171183         0.2040171         \n",
       "5 256_0.3_AD_CTRL_SMTG.perfs.7 0.5279260         0.1978005         \n",
       "6 256_0.3_PD_CTRL_MDTG.perfs.7 0.5371528         0.2051432         \n",
       "  PearsonNonzero SpearmanNonzero\n",
       "1 0.5412828      0.4759102      \n",
       "2 0.5907171      0.4995435      \n",
       "3 0.5717266      0.5061366      \n",
       "4 0.5834517      0.5129486      \n",
       "5 0.5864181      0.5064310      \n",
       "6 0.5945479      0.5141303      "
      ]
     },
     "metadata": {},
     "output_type": "display_data"
    }
   ],
   "source": [
    "head(data)"
   ]
  },
  {
   "cell_type": "code",
   "execution_count": 10,
   "metadata": {},
   "outputs": [],
   "source": [
    "library(reshape2)"
   ]
  },
  {
   "cell_type": "code",
   "execution_count": 11,
   "metadata": {},
   "outputs": [
    {
     "name": "stderr",
     "output_type": "stream",
     "text": [
      "Using Dataset as id variables\n"
     ]
    }
   ],
   "source": [
    "m=melt(data)"
   ]
  },
  {
   "cell_type": "code",
   "execution_count": 12,
   "metadata": {},
   "outputs": [
    {
     "data": {
      "text/html": [
       "<table>\n",
       "<caption>A data.frame: 6 × 3</caption>\n",
       "<thead>\n",
       "\t<tr><th scope=col>Dataset</th><th scope=col>variable</th><th scope=col>value</th></tr>\n",
       "\t<tr><th scope=col>&lt;fct&gt;</th><th scope=col>&lt;fct&gt;</th><th scope=col>&lt;dbl&gt;</th></tr>\n",
       "</thead>\n",
       "<tbody>\n",
       "\t<tr><td>128_0.3_AD_CTRL_SMTG.perfs.7</td><td>PearsonGenomewide</td><td>0.5246674</td></tr>\n",
       "\t<tr><td>128_0.3_PD_CTRL_MDTG.perfs.7</td><td>PearsonGenomewide</td><td>0.5517774</td></tr>\n",
       "\t<tr><td>128_0.5_AD_CTRL_SMTG.perfs.7</td><td>PearsonGenomewide</td><td>0.4967700</td></tr>\n",
       "\t<tr><td>128_0.5_PD_CTRL_MDTG.perfs.7</td><td>PearsonGenomewide</td><td>0.5171183</td></tr>\n",
       "\t<tr><td>256_0.3_AD_CTRL_SMTG.perfs.7</td><td>PearsonGenomewide</td><td>0.5279260</td></tr>\n",
       "\t<tr><td>256_0.3_PD_CTRL_MDTG.perfs.7</td><td>PearsonGenomewide</td><td>0.5371528</td></tr>\n",
       "</tbody>\n",
       "</table>\n"
      ],
      "text/latex": [
       "A data.frame: 6 × 3\n",
       "\\begin{tabular}{r|lll}\n",
       " Dataset & variable & value\\\\\n",
       " <fct> & <fct> & <dbl>\\\\\n",
       "\\hline\n",
       "\t 128\\_0.3\\_AD\\_CTRL\\_SMTG.perfs.7 & PearsonGenomewide & 0.5246674\\\\\n",
       "\t 128\\_0.3\\_PD\\_CTRL\\_MDTG.perfs.7 & PearsonGenomewide & 0.5517774\\\\\n",
       "\t 128\\_0.5\\_AD\\_CTRL\\_SMTG.perfs.7 & PearsonGenomewide & 0.4967700\\\\\n",
       "\t 128\\_0.5\\_PD\\_CTRL\\_MDTG.perfs.7 & PearsonGenomewide & 0.5171183\\\\\n",
       "\t 256\\_0.3\\_AD\\_CTRL\\_SMTG.perfs.7 & PearsonGenomewide & 0.5279260\\\\\n",
       "\t 256\\_0.3\\_PD\\_CTRL\\_MDTG.perfs.7 & PearsonGenomewide & 0.5371528\\\\\n",
       "\\end{tabular}\n"
      ],
      "text/markdown": [
       "\n",
       "A data.frame: 6 × 3\n",
       "\n",
       "| Dataset &lt;fct&gt; | variable &lt;fct&gt; | value &lt;dbl&gt; |\n",
       "|---|---|---|\n",
       "| 128_0.3_AD_CTRL_SMTG.perfs.7 | PearsonGenomewide | 0.5246674 |\n",
       "| 128_0.3_PD_CTRL_MDTG.perfs.7 | PearsonGenomewide | 0.5517774 |\n",
       "| 128_0.5_AD_CTRL_SMTG.perfs.7 | PearsonGenomewide | 0.4967700 |\n",
       "| 128_0.5_PD_CTRL_MDTG.perfs.7 | PearsonGenomewide | 0.5171183 |\n",
       "| 256_0.3_AD_CTRL_SMTG.perfs.7 | PearsonGenomewide | 0.5279260 |\n",
       "| 256_0.3_PD_CTRL_MDTG.perfs.7 | PearsonGenomewide | 0.5371528 |\n",
       "\n"
      ],
      "text/plain": [
       "  Dataset                      variable          value    \n",
       "1 128_0.3_AD_CTRL_SMTG.perfs.7 PearsonGenomewide 0.5246674\n",
       "2 128_0.3_PD_CTRL_MDTG.perfs.7 PearsonGenomewide 0.5517774\n",
       "3 128_0.5_AD_CTRL_SMTG.perfs.7 PearsonGenomewide 0.4967700\n",
       "4 128_0.5_PD_CTRL_MDTG.perfs.7 PearsonGenomewide 0.5171183\n",
       "5 256_0.3_AD_CTRL_SMTG.perfs.7 PearsonGenomewide 0.5279260\n",
       "6 256_0.3_PD_CTRL_MDTG.perfs.7 PearsonGenomewide 0.5371528"
      ]
     },
     "metadata": {},
     "output_type": "display_data"
    }
   ],
   "source": [
    "head(m)"
   ]
  },
  {
   "cell_type": "code",
   "execution_count": 23,
   "metadata": {},
   "outputs": [
    {
     "data": {
      "image/png": "[encoded data removed]",
      "text/plain": [
       "plot without title"
      ]
     },
     "metadata": {},
     "output_type": "display_data"
    }
   ],
   "source": [
    "#xlabels=c('PearsonGenomewide','SpearmanGenomewide', 'PearsonNonzero', 'SpearmanNonzero')\n",
    "ggplot(data=m,aes(y=m$value,group=m$variable, x=m$variable))+geom_boxplot()+xlab(\"Metric\")+ylab(\"Value\")+theme_bw(20)+theme(axis.text.x = element_text(angle = 90, hjust = 1))\n"
   ]
  },
  {
   "cell_type": "code",
   "execution_count": null,
   "metadata": {},
   "outputs": [],
   "source": []
  }
 ],
 "metadata": {
  "kernelspec": {
   "display_name": "R",
   "language": "R",
   "name": "ir"
  },
  "language_info": {
   "codemirror_mode": "r",
   "file_extension": ".r",
   "mimetype": "text/x-r-source",
   "name": "R",
   "pygments_lexer": "r",
   "version": "3.5.1"
  }
 },
 "nbformat": 4,
 "nbformat_minor": 2
}
