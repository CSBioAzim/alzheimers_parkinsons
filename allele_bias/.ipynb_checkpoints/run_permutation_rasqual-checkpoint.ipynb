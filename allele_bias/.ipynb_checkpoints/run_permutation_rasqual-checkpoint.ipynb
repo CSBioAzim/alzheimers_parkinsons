{
 "cells": [
  {
   "cell_type": "code",
   "execution_count": 1,
   "metadata": {},
   "outputs": [],
   "source": [
    "# q1 : real lead Q-value vector for all peaks from RASQUAL\n",
    "# q0 : permutated Q-value vector\n",
    "# alpha : FDR threshold\n",
    "# This function returns the P-value threshold corresponding to FDR=alpha.\n",
    "getFDR <-\n",
    "function(q1, q0, alpha=0.1, z=NULL, subset=NULL){\n",
    "\tif(is.null(z)){\n",
    "\t\ta=0\n",
    "\t\tfor(itr in 1:10){\n",
    "\t\t\ta=getFDR(q1,q0,alpha,rev(a+0:100/100^itr),subset)\n",
    "\t\t}\n",
    "\t\ta\n",
    "\t}else{\n",
    "\t\tif(!is.null(subset)){\n",
    "\t\t\tq1=q1[subset]\n",
    "\t\t\tq0=q0[subset]\n",
    "\t\t}\n",
    "\t\tq1=q1[!is.na(q1)]\n",
    "\t\tq0=q0[!is.na(q0)]\n",
    "\t\tx=NULL;\n",
    "\t\tfor(i in z){\n",
    "\t\t\tx=c(x,(sum(q0<i)/length(q0))/(sum(q1<i)/length(q1)))\n",
    "\t\t};\n",
    "\t\tmax(c(0,z[x<alpha]),na.rm=T)\n",
    "\t}\n",
    "}"
   ]
  },
  {
   "cell_type": "code",
   "execution_count": 2,
   "metadata": {},
   "outputs": [
    {
     "name": "stdout",
     "output_type": "stream",
     "text": [
      "[[1]]\n",
      "[1] \"CAUD\"\n",
      "\n",
      "[[2]]\n",
      "[1] \"HIPP\"\n",
      "\n",
      "[[3]]\n",
      "[1] \"MDFG\"\n",
      "\n",
      "[[4]]\n",
      "[1] \"MDTG\"\n",
      "\n",
      "[[5]]\n",
      "[1] \"PARL\"\n",
      "\n",
      "[[6]]\n",
      "[1] \"PTMN\"\n",
      "\n",
      "[[7]]\n",
      "[1] \"SMTG\"\n",
      "\n",
      "[[8]]\n",
      "[1] \"SUNI\"\n",
      "\n"
     ]
    }
   ],
   "source": [
    "regions <- list(\"CAUD\", \"HIPP\", \"MDFG\", \"MDTG\", \"PARL\", \"PTMN\", \"SMTG\", \"SUNI\")\n",
    "print(regions)\n",
    "\n",
    "for (reg in regions) {\n",
    "    file = paste0('/oak/stanford/groups/akundaje/projects/alzheimers_parkinsons/allelic_imbalance/rasqual/output/',reg,'/final_',reg,'_output.txt')\n",
    "    df <- read.csv(file, sep='\\t')\n",
    "    real_pval <- df[['cis_window_qvalue']]\n",
    "    permuted_pval <- df[['null_cis_qvalue']]\n",
    "    fdr10 <- getFDR(real_pval, permuted_pval, 0.1)\n",
    "    flag_fdr10 = real_pval < fdr10\n",
    "    df$permutation_significant <- flag_fdr10\n",
    "    df$fdr10_threshold <- rep(fdr10,length(flag_fdr10))\n",
    "    write.table(df, file=file, row.names=FALSE, col.names=TRUE, quote=FALSE, sep=\"\\t\")\n",
    "    }"
   ]
  },
  {
   "cell_type": "code",
   "execution_count": null,
   "metadata": {},
   "outputs": [],
   "source": []
  }
 ],
 "metadata": {
  "kernelspec": {
   "display_name": "R",
   "language": "R",
   "name": "ir"
  },
  "language_info": {
   "codemirror_mode": "r",
   "file_extension": ".r",
   "mimetype": "text/x-r-source",
   "name": "R",
   "pygments_lexer": "r",
   "version": "3.5.1"
  }
 },
 "nbformat": 4,
 "nbformat_minor": 4
}
