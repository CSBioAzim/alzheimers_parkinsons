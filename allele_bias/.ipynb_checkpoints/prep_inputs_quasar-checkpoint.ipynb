{
 "cells": [
  {
   "cell_type": "code",
   "execution_count": 1,
   "metadata": {},
   "outputs": [],
   "source": [
    "import pandas as pd"
   ]
  },
  {
   "cell_type": "code",
   "execution_count": 2,
   "metadata": {},
   "outputs": [],
   "source": [
    "snps = pd.read_csv('/oak/stanford/groups/akundaje/projects/alzheimers_parkinsons/snps_final/191121_ld_buddies_table_stage3.tsv', sep='\\t')"
   ]
  },
  {
   "cell_type": "code",
   "execution_count": 15,
   "metadata": {},
   "outputs": [
    {
     "name": "stderr",
     "output_type": "stream",
     "text": [
      "/users/soumyak/miniconda3/lib/python3.7/site-packages/ipykernel_launcher.py:2: SettingWithCopyWarning: \n",
      "A value is trying to be set on a copy of a slice from a DataFrame.\n",
      "Try using .loc[row_indexer,col_indexer] = value instead\n",
      "\n",
      "See the caveats in the documentation: http://pandas.pydata.org/pandas-docs/stable/user_guide/indexing.html#returning-a-view-versus-a-copy\n",
      "  \n"
     ]
    },
    {
     "data": {
      "text/html": [
       "<div>\n",
       "<style scoped>\n",
       "    .dataframe tbody tr th:only-of-type {\n",
       "        vertical-align: middle;\n",
       "    }\n",
       "\n",
       "    .dataframe tbody tr th {\n",
       "        vertical-align: top;\n",
       "    }\n",
       "\n",
       "    .dataframe thead th {\n",
       "        text-align: right;\n",
       "    }\n",
       "</style>\n",
       "<table border=\"1\" class=\"dataframe\">\n",
       "  <thead>\n",
       "    <tr style=\"text-align: right;\">\n",
       "      <th></th>\n",
       "      <th>chr</th>\n",
       "      <th>pos</th>\n",
       "    </tr>\n",
       "  </thead>\n",
       "  <tbody>\n",
       "    <tr>\n",
       "      <td>0</td>\n",
       "      <td>chr10</td>\n",
       "      <td>102207833</td>\n",
       "    </tr>\n",
       "    <tr>\n",
       "      <td>1</td>\n",
       "      <td>chr10</td>\n",
       "      <td>102245653</td>\n",
       "    </tr>\n",
       "    <tr>\n",
       "      <td>2</td>\n",
       "      <td>chr10</td>\n",
       "      <td>102250385</td>\n",
       "    </tr>\n",
       "    <tr>\n",
       "      <td>3</td>\n",
       "      <td>chr10</td>\n",
       "      <td>102251214</td>\n",
       "    </tr>\n",
       "    <tr>\n",
       "      <td>4</td>\n",
       "      <td>chr10</td>\n",
       "      <td>102255522</td>\n",
       "    </tr>\n",
       "  </tbody>\n",
       "</table>\n",
       "</div>"
      ],
      "text/plain": [
       "     chr        pos\n",
       "0  chr10  102207833\n",
       "1  chr10  102245653\n",
       "2  chr10  102250385\n",
       "3  chr10  102251214\n",
       "4  chr10  102255522"
      ]
     },
     "metadata": {},
     "output_type": "display_data"
    }
   ],
   "source": [
    "snps_bed_1idx = snps[['chr', 'pos']]\n",
    "snps_bed_1idx['chr'] = 'chr' + snps_bed_1idx['chr'].astype(str)\n",
    "display(snps_bed_1idx.head())\n",
    "snps_bed_1idx.to_csv('/oak/stanford/groups/akundaje/projects/alzheimers_parkinsons/allele_bias/snps/1idx_snps.bed', sep='\\t', index=False, header=False)"
   ]
  },
  {
   "cell_type": "code",
   "execution_count": 16,
   "metadata": {},
   "outputs": [
    {
     "name": "stderr",
     "output_type": "stream",
     "text": [
      "/users/soumyak/miniconda3/lib/python3.7/site-packages/ipykernel_launcher.py:2: SettingWithCopyWarning: \n",
      "A value is trying to be set on a copy of a slice from a DataFrame.\n",
      "Try using .loc[row_indexer,col_indexer] = value instead\n",
      "\n",
      "See the caveats in the documentation: http://pandas.pydata.org/pandas-docs/stable/user_guide/indexing.html#returning-a-view-versus-a-copy\n",
      "  \n",
      "/users/soumyak/miniconda3/lib/python3.7/site-packages/ipykernel_launcher.py:3: SettingWithCopyWarning: \n",
      "A value is trying to be set on a copy of a slice from a DataFrame.\n",
      "Try using .loc[row_indexer,col_indexer] = value instead\n",
      "\n",
      "See the caveats in the documentation: http://pandas.pydata.org/pandas-docs/stable/user_guide/indexing.html#returning-a-view-versus-a-copy\n",
      "  This is separate from the ipykernel package so we can avoid doing imports until\n"
     ]
    },
    {
     "data": {
      "text/html": [
       "<div>\n",
       "<style scoped>\n",
       "    .dataframe tbody tr th:only-of-type {\n",
       "        vertical-align: middle;\n",
       "    }\n",
       "\n",
       "    .dataframe tbody tr th {\n",
       "        vertical-align: top;\n",
       "    }\n",
       "\n",
       "    .dataframe thead th {\n",
       "        text-align: right;\n",
       "    }\n",
       "</style>\n",
       "<table border=\"1\" class=\"dataframe\">\n",
       "  <thead>\n",
       "    <tr style=\"text-align: right;\">\n",
       "      <th></th>\n",
       "      <th>chr</th>\n",
       "      <th>start</th>\n",
       "      <th>pos</th>\n",
       "    </tr>\n",
       "  </thead>\n",
       "  <tbody>\n",
       "    <tr>\n",
       "      <td>0</td>\n",
       "      <td>chr10</td>\n",
       "      <td>102207832</td>\n",
       "      <td>102207833</td>\n",
       "    </tr>\n",
       "    <tr>\n",
       "      <td>1</td>\n",
       "      <td>chr10</td>\n",
       "      <td>102245652</td>\n",
       "      <td>102245653</td>\n",
       "    </tr>\n",
       "    <tr>\n",
       "      <td>2</td>\n",
       "      <td>chr10</td>\n",
       "      <td>102250384</td>\n",
       "      <td>102250385</td>\n",
       "    </tr>\n",
       "    <tr>\n",
       "      <td>3</td>\n",
       "      <td>chr10</td>\n",
       "      <td>102251213</td>\n",
       "      <td>102251214</td>\n",
       "    </tr>\n",
       "    <tr>\n",
       "      <td>4</td>\n",
       "      <td>chr10</td>\n",
       "      <td>102255521</td>\n",
       "      <td>102255522</td>\n",
       "    </tr>\n",
       "  </tbody>\n",
       "</table>\n",
       "</div>"
      ],
      "text/plain": [
       "     chr      start        pos\n",
       "0  chr10  102207832  102207833\n",
       "1  chr10  102245652  102245653\n",
       "2  chr10  102250384  102250385\n",
       "3  chr10  102251213  102251214\n",
       "4  chr10  102255521  102255522"
      ]
     },
     "metadata": {},
     "output_type": "display_data"
    }
   ],
   "source": [
    "snps_bed_0idx = snps[['chr', 'pos']]\n",
    "snps_bed_0idx['chr'] = 'chr' + snps_bed_0idx['chr'].astype(str)\n",
    "snps_bed_0idx['start'] = snps_bed_0idx['pos'] - 1\n",
    "snps_bed_0idx = snps_bed_0idx[['chr', 'start', 'pos']]\n",
    "display(snps_bed_0idx.head())\n",
    "snps_bed_0idx.to_csv('/oak/stanford/groups/akundaje/projects/alzheimers_parkinsons/allele_bias/snps/0idx_snps.bed', sep='\\t', index=False, header=False)"
   ]
  },
  {
   "cell_type": "code",
   "execution_count": 18,
   "metadata": {},
   "outputs": [
    {
     "name": "stdout",
     "output_type": "stream",
     "text": [
      "[mpileup] 1 samples in 1 input files\r\n",
      "<mpileup> Set max per-file depth to 8000\r\n"
     ]
    }
   ],
   "source": [
    "! samtools mpileup -f /mnt/lab_data3/soumyak/refs/hg38/GRCh38_no_alt_analysis_set_GCA_000001405.15.fasta -l /oak/stanford/groups/akundaje/projects/alzheimers_parkinsons/allele_bias/snps/0idx_snps.bed /oak/stanford/groups/akundaje/projects/alzheimers_parkinsons/outputs_AD/CTRH/CAUD/CTRH_CAUD_07_1144/cromwell-executions/atac/30e4d4a2-b7dd-4646-9bb0-bfdac92ba021/call-filter/shard-0/execution/RDIR-CAUD-07-1144-X015-S05-L009-B1-T1-P038.pe.q10.sort.rmdup.nodup.bam | gzip > /oak/stanford/groups/akundaje/projects/alzheimers_parkinsons/allele_bias/pileups/CTRH_CAUD_07_1144.pileup.gz"
   ]
  },
  {
   "cell_type": "code",
   "execution_count": 23,
   "metadata": {},
   "outputs": [],
   "source": [
    "! zcat /oak/stanford/groups/akundaje/projects/alzheimers_parkinsons/allele_bias/pileups/CTRH_CAUD_07_1144.pileup.gz | awk -v OFS='\\t' '{ if ($4>0 && $5 !~ /[^\\^][<>]/ && $5 !~ /\\+[0-9]+[ACGTNacgtn]+/ && $5 !~ /-[0-9]+[ACGTNacgtn]+/ && $5 !~ /[^\\^]\\*/) print $1,$2-1,$2,$3,$4,$5,$6}' | sortBed -i stdin | intersectBed -a stdin -b /oak/stanford/groups/akundaje/projects/alzheimers_parkinsons/allele_bias/snps/0idx_snps.bed -wo | cut -f 1-7,11-14 | gzip > /oak/stanford/groups/akundaje/projects/alzheimers_parkinsons/allele_bias/pileup_beds/CTRH_CAUD_07_1144.pileup.bed.gz"
   ]
  },
  {
   "cell_type": "code",
   "execution_count": null,
   "metadata": {},
   "outputs": [],
   "source": [
    "! R --vanilla --args /oak/stanford/groups/akundaje/projects/alzheimers_parkinsons/allele_bias/pileup_beds/CTRH_CAUD_07_1144.pileup.bed.gz < /users/soumyak/QuASAR/scripts/convertPileupToQuasar.R"
   ]
  },
  {
   "cell_type": "code",
   "execution_count": null,
   "metadata": {},
   "outputs": [],
   "source": []
  }
 ],
 "metadata": {
  "kernelspec": {
   "display_name": "Python 3",
   "language": "python",
   "name": "python3"
  },
  "language_info": {
   "codemirror_mode": {
    "name": "ipython",
    "version": 3
   },
   "file_extension": ".py",
   "mimetype": "text/x-python",
   "name": "python",
   "nbconvert_exporter": "python",
   "pygments_lexer": "ipython3",
   "version": "3.7.3"
  }
 },
 "nbformat": 4,
 "nbformat_minor": 2
}
