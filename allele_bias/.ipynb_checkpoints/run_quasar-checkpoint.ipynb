{
 "cells": [
  {
   "cell_type": "code",
   "execution_count": 5,
   "metadata": {},
   "outputs": [
    {
     "name": "stderr",
     "output_type": "stream",
     "text": [
      "inferring 'repos = NULL' from 'pkgs'\n"
     ]
    }
   ],
   "source": [
    "install.packages('/users/soumyak/QuASAR_0.1.tar.gz')\n",
    "library('QuASAR')"
   ]
  },
  {
   "cell_type": "code",
   "execution_count": 74,
   "metadata": {},
   "outputs": [],
   "source": [
    "indirs <- list.dirs('/oak/stanford/groups/akundaje/projects/alzheimers_parkinsons/allele_bias/quasar/input', recursive=FALSE)\n",
    "for (dir in indirs) {\n",
    "    patient <- gsub(\".*/\", \"\", dir)\n",
    "    print(patient)\n",
    "    output.names <- gsub(\".quasar.in.gz\", \"\", list.files(dir))\n",
    "    print(output.names)\n",
    "    fileNames <- paste0(dir, '/', list.files(dir))\n",
    "    ase.dat <- UnionExtractFields(fileNames, combine=TRUE)\n",
    "    ase.dat.gt <- PrepForGenotyping(ase.dat, min.coverage=5)\n",
    "    #str(ase.dat.gt)\n",
    "    sample.names <- colnames(ase.dat.gt$ref)\n",
    "    ase.joint <- fitAseNullMulti(ase.dat.gt$ref, ase.dat.gt$alt, log.gmat=log(ase.dat.gt$gmat))\n",
    "    #str(ase.joint)\n",
    "    #head(ase.joint$gt)\n",
    "    out_dat <- data.frame(ase.dat.gt$annotations[, -5], map=ase.joint$gt)\n",
    "    outfile <- paste0('/oak/stanford/groups/akundaje/projects/alzheimers_parkinsons/allele_bias/quasar/output/', patient, '/genotypes.txt')\n",
    "    #write.table(out_dat, file=outfile, row.names=FALSE, col.names=TRUE, quote=FALSE, sep=\"\\t\")\n",
    "    print(out_dat)\n",
    "    ourInferenceData <- aseInference(gts=ase.joint$gt, eps.vect=ase.joint$eps, priors=ase.dat.gt$gmat, ref.mat=ase.dat.gt$ref, alt.mat=ase.dat.gt$alt, min.cov=10, sample.names=sample.names, annos=ase.dat.gt$annotations)\n",
    "    for (i in seq_along(ourInferenceData)) {\n",
    "        outfile <- paste0('/oak/stanford/groups/akundaje/projects/alzheimers_parkinsons/allele_bias/quasar/output/', patient, '/', output.names[i], '.inference.txt')\n",
    "        print(outfile)\n",
    "        print(ourInferenceData[[i]]$dat[order(ourInferenceData[[i]]$dat$pval2.het.ind.),])\n",
    "        #write.table(ourInferenceData[[i]]$dat[order(ourInferenceData[[i]]$dat$pval2.het.ind.),], file=outfile, row.names=FALSE, col.names=TRUE, quote=FALSE, sep=\"\\t\")\n",
    "    }\n",
    "}"
   ]
  },
  {
   "cell_type": "code",
   "execution_count": 5,
   "metadata": {},
   "outputs": [],
   "source": [
    "reg=gsub(\"/oak/stanford/groups/akundaje/projects/alzheimers_parkinsons/allelic_imbalance/rasqual/input/\", \"\", gsub(\"/idr_counts.txt\", \"\", \"/oak/stanford/groups/akundaje/projects/alzheimers_parkinsons/allelic_imbalance/rasqual/input/CAUD/idr_counts.txt\"))"
   ]
  },
  {
   "cell_type": "code",
   "execution_count": 6,
   "metadata": {},
   "outputs": [
    {
     "data": {
      "text/html": [
       "'CAUD'"
      ],
      "text/latex": [
       "'CAUD'"
      ],
      "text/markdown": [
       "'CAUD'"
      ],
      "text/plain": [
       "[1] \"CAUD\""
      ]
     },
     "metadata": {},
     "output_type": "display_data"
    }
   ],
   "source": [
    "reg"
   ]
  },
  {
   "cell_type": "code",
   "execution_count": null,
   "metadata": {},
   "outputs": [],
   "source": []
  }
 ],
 "metadata": {
  "kernelspec": {
   "display_name": "R",
   "language": "R",
   "name": "ir"
  },
  "language_info": {
   "codemirror_mode": "r",
   "file_extension": ".r",
   "mimetype": "text/x-r-source",
   "name": "R",
   "pygments_lexer": "r",
   "version": "3.5.1"
  }
 },
 "nbformat": 4,
 "nbformat_minor": 4
}
