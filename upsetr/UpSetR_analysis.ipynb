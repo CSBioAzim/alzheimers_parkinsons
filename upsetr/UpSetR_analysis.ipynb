{
 "cells": [
  {
   "cell_type": "code",
   "execution_count": null,
   "metadata": {},
   "outputs": [],
   "source": [
    "rm(list=ls())"
   ]
  },
  {
   "cell_type": "code",
   "execution_count": 1,
   "metadata": {},
   "outputs": [
    {
     "name": "stderr",
     "output_type": "stream",
     "text": [
      "Loading required package: grid\n",
      "========================================\n",
      "ComplexHeatmap version 1.99.8\n",
      "Bioconductor page: http://bioconductor.org/packages/ComplexHeatmap/\n",
      "Github page: https://github.com/jokergoo/ComplexHeatmap\n",
      "Documentation: http://jokergoo.github.io/ComplexHeatmap-reference\n",
      "\n",
      "If you use it in published research, please cite:\n",
      "Gu, Z. Complex heatmaps reveal patterns and correlations in multidimensional \n",
      "  genomic data. Bioinformatics 2016.\n",
      "========================================\n",
      "\n"
     ]
    }
   ],
   "source": [
    "#install.packages(\"UpSetR\")\n",
    "#library(\"UpSetR\")\n",
    "library(\"ComplexHeatmap\")"
   ]
  },
  {
   "cell_type": "code",
   "execution_count": 84,
   "metadata": {},
   "outputs": [],
   "source": [
    "ad_typemod_regionmod_sets=c(\"ad_caud_adad_vs_ctrl\",\n",
    "            \"ad_caud_load_vs_ctrl\",\n",
    "            \"ad_hipp_adad_vs_ctrl\",\n",
    "            \"ad_hipp_load_vs_ctrl\",\n",
    "            \"ad_parl_adad_vs_ctrl\",\n",
    "            \"ad_parl_load_vs_ctrl\",\n",
    "            \"ad_smtg_adad_vs_ctrl\",\n",
    "            \"ad_smtg_load_vs_ctrl\")\n",
    "\n",
    "ad_type_region_sets=c(\"ad_caud_adad_vs_ctrl\",\n",
    "            \"ad_caud_load_vs_ctrl\",\n",
    "            \"ad_caud_adad_vs_ctrh\",\n",
    "            \"ad_caud_load_vs_ctrh\",\n",
    "            \"ad_hipp_adad_vs_ctrl\",\n",
    "            \"ad_hipp_load_vs_ctrl\",\n",
    "            \"ad_hipp_adad_vs_ctrh\",\n",
    "            \"ad_hipp_load_vs_ctrh\",\n",
    "            \"ad_parl_adad_vs_ctrl\",\n",
    "            \"ad_parl_load_vs_ctrl\",\n",
    "            \"ad_parl_adad_vs_ctrh\",\n",
    "            \"ad_parl_load_vs_ctrh\",\n",
    "            \"ad_smtg_adad_vs_ctrl\",\n",
    "            \"ad_smtg_load_vs_ctrl\",\n",
    "            \"ad_smtg_adad_vs_ctrh\",\n",
    "            \"ad_smtg_load_vs_ctrh\")\n",
    "\n",
    "pd_typemod_regionmod_sets=c(\n",
    "            \"pd_caud_adpd_vs_ctrl\",\n",
    "            \"pd_caud_lopd_vs_ctrl\",\n",
    "            \"pd_hipp_adpd_vs_ctrl\",\n",
    "            \"pd_hipp_lopd_vs_ctrl\",\n",
    "            \"pd_mdfg_adpd_vs_ctrl\",\n",
    "            \"pd_mdfg_lopd_vs_ctrl\",\n",
    "            \"pd_ptmn_adpd_vs_ctrl\",\n",
    "            \"pd_ptmn_lopd_vs_ctrl\",\n",
    "            \"pd_smtg_adpd_vs_ctrl\",\n",
    "            \"pd_smtg_lopd_vs_ctrl\",\n",
    "            \"pd_suni_adpd_vs_ctrl\",\n",
    "            \"pd_suni_lopd_vs_ctrl\") \n",
    "\n",
    "pd_type_region_sets=c(\n",
    "\"pd_caud_gba1_vs_ctrl\",\n",
    "\"pd_caud_lrrk_vs_ctrl\",\n",
    "\"pd_caud_spor_vs_ctrl\",\n",
    "\"pd_hipp_gba1_vs_ctrl\",\n",
    "\"pd_hipp_lrrk_vs_ctrl\",\n",
    "\"pd_hipp_spor_vs_ctrl\",\n",
    "\"pd_mdfg_gba1_vs_ctrl\",\n",
    "\"pd_mdfg_lrrk_vs_ctrl\",\n",
    "\"pd_mdfg_spor_vs_ctrl\",\n",
    "\"pd_mdtg_gba1_vs_ctrl\",\n",
    "\"pd_mdtg_lrrk_vs_ctrl\",\n",
    "\"pd_mdtg_spor_vs_ctrl\",\n",
    "\"pd_ptmn_gba1_vs_ctrl\",\n",
    "\"pd_ptmn_lrrk_vs_ctrl\",\n",
    "\"pd_ptmn_spor_vs_ctrl\",\n",
    "\"pd_suni_gba1_vs_ctrl\",\n",
    "\"pd_suni_lrrk_vs_ctrl\",\n",
    "\"pd_suni_spor_vs_ctrl\") \n"
   ]
  },
  {
   "cell_type": "markdown",
   "metadata": {},
   "source": [
    "## AD NO SVA TypeMod/RegionMod"
   ]
  },
  {
   "cell_type": "code",
   "execution_count": 2,
   "metadata": {},
   "outputs": [],
   "source": [
    "ad_nosva_typemod=read.table(\"AD.NOSVA.TypeModRegionMod.upsetr.inputs.tsv\",header=TRUE,row.names = 1,sep='\\t')"
   ]
  },
  {
   "cell_type": "code",
   "execution_count": 33,
   "metadata": {},
   "outputs": [
    {
     "data": {
      "text/html": [
       "<strong>png:</strong> 2"
      ],
      "text/latex": [
       "\\textbf{png:} 2"
      ],
      "text/markdown": [
       "**png:** 2"
      ],
      "text/plain": [
       "png \n",
       "  2 "
      ]
     },
     "metadata": {},
     "output_type": "display_data"
    }
   ],
   "source": [
    "svg(\"AD.NOSVA.TypeModRegionMod.upsetr.svg\",\n",
    "   width=6,\n",
    "   height=4,\n",
    "   pointsize=12)\n",
    "data=make_comb_mat(subset(ad_nosva_typemod,select=ad_typemod_regionmod_sets),remove_complement_set = TRUE)\n",
    "print(UpSet(data,\n",
    "            set_order = ad_typemod_regionmod_sets,\n",
    "            comb_order = order(comb_degree(data)),\n",
    "            comb_col = c(\"red\", \"blue\", \"black\")[comb_degree(data)],\n",
    "            right_annotation = upset_right_annotation(data, \n",
    "            gp = gpar(fontsize=20,\n",
    "                      fill = c('#e41a1c','#e41a1c','#377eb8','#377eb8','#4daf4a','#4daf4a','#984ea3','#984ea3')))))\n",
    "dev.off() "
   ]
  },
  {
   "cell_type": "markdown",
   "metadata": {},
   "source": [
    "## AD NO SVA TypeRegion"
   ]
  },
  {
   "cell_type": "code",
   "execution_count": 60,
   "metadata": {},
   "outputs": [],
   "source": [
    "ad_nosva_type=read.table(\"AD.NOSVA.TypeRegion.upsetr.inputs.tsv\",header=TRUE,row.names = 1,sep='\\t')"
   ]
  },
  {
   "cell_type": "code",
   "execution_count": 63,
   "metadata": {},
   "outputs": [],
   "source": [
    "data=make_comb_mat(subset(ad_nosva_type,select=ad_type_region_sets),\n",
    "                   remove_complement_set = TRUE,\n",
    "                   remove_empty_comb_set = TRUE)\n",
    "data=data[comb_degree(data) <= 4]"
   ]
  },
  {
   "cell_type": "code",
   "execution_count": 64,
   "metadata": {},
   "outputs": [
    {
     "data": {
      "text/html": [
       "<strong>png:</strong> 2"
      ],
      "text/latex": [
       "\\textbf{png:} 2"
      ],
      "text/markdown": [
       "**png:** 2"
      ],
      "text/plain": [
       "png \n",
       "  2 "
      ]
     },
     "metadata": {},
     "output_type": "display_data"
    }
   ],
   "source": [
    "svg(\"AD.NOSVA.TypeRegion.upsetr.svg\",\n",
    "   width=20,\n",
    "   height=8,\n",
    "   pointsize=12)\n",
    "print(UpSet(data,\n",
    "            set_order = ad_type_region_sets,\n",
    "            comb_order = order(comb_degree(data)),\n",
    "            comb_col = c(\"red\", \"blue\", \"black\",\"green\")[comb_degree(data)],\n",
    "            right_annotation = upset_right_annotation(data, \n",
    "            gp = gpar(fontsize=20,\n",
    "                      fill=c('#e41a1c',\n",
    "                             '#e41a1c',\n",
    "                             '#e41a1c',\n",
    "                             '#e41a1c',\n",
    "                             '#377eb8',\n",
    "                             '#377eb8',\n",
    "                             '#377eb8',\n",
    "                             '#377eb8',\n",
    "                             '#4daf4a',\n",
    "                             '#4daf4a',\n",
    "                             '#4daf4a',\n",
    "                             '#4daf4a',\n",
    "                             '#984ea3',\n",
    "                             '#984ea3',\n",
    "                             '#984ea3',\n",
    "                             '#984ea3')))))\n",
    "dev.off() "
   ]
  },
  {
   "cell_type": "markdown",
   "metadata": {},
   "source": [
    "## AD, SVA, TypeMod/RegionMod"
   ]
  },
  {
   "cell_type": "code",
   "execution_count": 65,
   "metadata": {},
   "outputs": [],
   "source": [
    "ad_sva_typemod=read.table(\"AD.SVA.TypeModRegionMod.upsetr.inputs.tsv\",header=TRUE,row.names = 1,sep='\\t')"
   ]
  },
  {
   "cell_type": "code",
   "execution_count": 66,
   "metadata": {},
   "outputs": [],
   "source": [
    "data=make_comb_mat(subset(ad_sva_typemod,select=ad_typemod_regionmod_sets),\n",
    "                   remove_complement_set = TRUE,\n",
    "                   remove_empty_comb_set = TRUE)\n",
    "data=data[comb_degree(data) <= 4]"
   ]
  },
  {
   "cell_type": "code",
   "execution_count": 68,
   "metadata": {},
   "outputs": [
    {
     "data": {
      "text/html": [
       "<strong>png:</strong> 2"
      ],
      "text/latex": [
       "\\textbf{png:} 2"
      ],
      "text/markdown": [
       "**png:** 2"
      ],
      "text/plain": [
       "png \n",
       "  2 "
      ]
     },
     "metadata": {},
     "output_type": "display_data"
    }
   ],
   "source": [
    "svg(\"AD.SVA.TypeModRegionMod.upsetr.svg\",\n",
    "   width=8,\n",
    "   height=6,\n",
    "   pointsize=12)\n",
    "print(UpSet(data,\n",
    "            set_order = ad_typemod_regionmod_sets,\n",
    "            comb_order = order(comb_degree(data)),\n",
    "            comb_col = c(\"red\", \"blue\", \"black\",\"green\")[comb_degree(data)],\n",
    "            right_annotation = upset_right_annotation(data, \n",
    "            gp = gpar(fontsize=20,\n",
    "                      fill = c('#e41a1c','#e41a1c','#377eb8','#377eb8','#4daf4a','#4daf4a','#984ea3','#984ea3')))))\n",
    "dev.off() "
   ]
  },
  {
   "cell_type": "markdown",
   "metadata": {},
   "source": [
    "## AD, SVA, Type/Region"
   ]
  },
  {
   "cell_type": "code",
   "execution_count": 69,
   "metadata": {},
   "outputs": [],
   "source": [
    "ad_sva_type=read.table(\"AD.SVA.TypeRegion.upsetr.inputs.tsv\",header=TRUE,row.names = 1,sep='\\t')"
   ]
  },
  {
   "cell_type": "code",
   "execution_count": 70,
   "metadata": {},
   "outputs": [],
   "source": [
    "data=make_comb_mat(subset(ad_sva_type,select=ad_type_region_sets),\n",
    "                   remove_complement_set = TRUE,\n",
    "                   remove_empty_comb_set = TRUE)\n",
    "data=data[comb_degree(data) <= 4]"
   ]
  },
  {
   "cell_type": "code",
   "execution_count": 71,
   "metadata": {},
   "outputs": [
    {
     "data": {
      "text/html": [
       "<strong>png:</strong> 2"
      ],
      "text/latex": [
       "\\textbf{png:} 2"
      ],
      "text/markdown": [
       "**png:** 2"
      ],
      "text/plain": [
       "png \n",
       "  2 "
      ]
     },
     "metadata": {},
     "output_type": "display_data"
    }
   ],
   "source": [
    "svg(\"AD.SVA.TypeRegion.upsetr.svg\",\n",
    "   width=20,\n",
    "   height=8,\n",
    "   pointsize=12)\n",
    "print(UpSet(data,\n",
    "            set_order = ad_type_region_sets,\n",
    "            comb_order = order(comb_degree(data)),\n",
    "            comb_col = c(\"red\", \"blue\", \"black\",\"green\")[comb_degree(data)],\n",
    "            right_annotation = upset_right_annotation(data, \n",
    "            gp = gpar(fontsize=20,\n",
    "                      fill=c('#e41a1c',\n",
    "                             '#e41a1c',\n",
    "                             '#e41a1c',\n",
    "                             '#e41a1c',\n",
    "                             '#377eb8',\n",
    "                             '#377eb8',\n",
    "                             '#377eb8',\n",
    "                             '#377eb8',\n",
    "                             '#4daf4a',\n",
    "                             '#4daf4a',\n",
    "                             '#4daf4a',\n",
    "                             '#4daf4a',\n",
    "                             '#984ea3',\n",
    "                             '#984ea3',\n",
    "                             '#984ea3',\n",
    "                             '#984ea3')))))\n",
    "dev.off() "
   ]
  },
  {
   "cell_type": "markdown",
   "metadata": {},
   "source": [
    "## PD NO SVA TypeMod/RegionMod"
   ]
  },
  {
   "cell_type": "code",
   "execution_count": 76,
   "metadata": {},
   "outputs": [],
   "source": [
    "pd_nosva_typemod=read.table(\"PD.NOSVA.TypeModRegionMod.upsetr.inputs.tsv\",header=TRUE,row.names = 1,sep='\\t')"
   ]
  },
  {
   "cell_type": "code",
   "execution_count": 82,
   "metadata": {},
   "outputs": [],
   "source": [
    "data=make_comb_mat(subset(pd_nosva_typemod,select=pd_typemod_regionmod_sets),remove_complement_set = TRUE)\n"
   ]
  },
  {
   "cell_type": "code",
   "execution_count": 83,
   "metadata": {},
   "outputs": [
    {
     "data": {
      "text/html": [
       "<strong>png:</strong> 2"
      ],
      "text/latex": [
       "\\textbf{png:} 2"
      ],
      "text/markdown": [
       "**png:** 2"
      ],
      "text/plain": [
       "png \n",
       "  2 "
      ]
     },
     "metadata": {},
     "output_type": "display_data"
    }
   ],
   "source": [
    "svg(\"PD.NOSVA.TypeModRegionMod.upsetr.svg\",\n",
    "   width=6,\n",
    "   height=4,\n",
    "   pointsize=12)\n",
    "print(UpSet(data,\n",
    "            set_order = pd_typemod_regionmod_sets,\n",
    "            comb_order = order(comb_degree(data)),\n",
    "            comb_col = c(\"red\", \"blue\", \"black\")[comb_degree(data)],\n",
    "            right_annotation = upset_right_annotation(data, \n",
    "            gp = gpar(fontsize=20,\n",
    "                      fill = c('#e41a1c','#e41a1c','#377eb8','#377eb8','#4daf4a','#4daf4a','#984ea3','#984ea3')))))\n",
    "dev.off() "
   ]
  },
  {
   "cell_type": "markdown",
   "metadata": {},
   "source": [
    "## PD NO SVA TypeRegion"
   ]
  },
  {
   "cell_type": "code",
   "execution_count": 89,
   "metadata": {},
   "outputs": [],
   "source": [
    "pd_nosva_type=read.table(\"PD.NOSVA.TypeRegion.upsetr.inputs.tsv\",header=TRUE,row.names = 1,sep='\\t')"
   ]
  },
  {
   "cell_type": "code",
   "execution_count": 90,
   "metadata": {},
   "outputs": [
    {
     "data": {
      "text/html": [
       "<ol class=list-inline>\n",
       "\t<li>'pd_caud_gba1_vs_ctrl'</li>\n",
       "\t<li>'pd_caud_gba1_vs_lrrk'</li>\n",
       "\t<li>'pd_caud_gba1_vs_spor'</li>\n",
       "\t<li>'pd_caud_lrrk_vs_ctrl'</li>\n",
       "\t<li>'pd_caud_lrrk_vs_spor'</li>\n",
       "\t<li>'pd_caud_spor_vs_ctrl'</li>\n",
       "\t<li>'pd_hipp_gba1_vs_ctrl'</li>\n",
       "\t<li>'pd_hipp_gba1_vs_lrrk'</li>\n",
       "\t<li>'pd_hipp_gba1_vs_spor'</li>\n",
       "\t<li>'pd_hipp_lrrk_vs_ctrl'</li>\n",
       "\t<li>'pd_hipp_lrrk_vs_spor'</li>\n",
       "\t<li>'pd_hipp_spor_vs_ctrl'</li>\n",
       "\t<li>'pd_mdfg_gba1_vs_ctrl'</li>\n",
       "\t<li>'pd_mdfg_gba1_vs_lrrk'</li>\n",
       "\t<li>'pd_mdfg_gba1_vs_spor'</li>\n",
       "\t<li>'pd_mdfg_lrrk_vs_ctrl'</li>\n",
       "\t<li>'pd_mdfg_lrrk_vs_spor'</li>\n",
       "\t<li>'pd_mdfg_spor_vs_ctrl'</li>\n",
       "\t<li>'pd_mdtg_gba1_vs_ctrl'</li>\n",
       "\t<li>'pd_mdtg_gba1_vs_lrrk'</li>\n",
       "\t<li>'pd_mdtg_gba1_vs_spor'</li>\n",
       "\t<li>'pd_mdtg_lrrk_vs_ctrl'</li>\n",
       "\t<li>'pd_mdtg_lrrk_vs_spor'</li>\n",
       "\t<li>'pd_mdtg_spor_vs_ctrl'</li>\n",
       "\t<li>'pd_ptmn_gba1_vs_ctrl'</li>\n",
       "\t<li>'pd_ptmn_gba1_vs_lrrk'</li>\n",
       "\t<li>'pd_ptmn_gba1_vs_spor'</li>\n",
       "\t<li>'pd_ptmn_lrrk_vs_ctrl'</li>\n",
       "\t<li>'pd_ptmn_lrrk_vs_spor'</li>\n",
       "\t<li>'pd_ptmn_spor_vs_ctrl'</li>\n",
       "\t<li>'pd_suni_gba1_vs_ctrl'</li>\n",
       "\t<li>'pd_suni_gba1_vs_lrrk'</li>\n",
       "\t<li>'pd_suni_gba1_vs_spor'</li>\n",
       "\t<li>'pd_suni_lrrk_vs_ctrl'</li>\n",
       "\t<li>'pd_suni_lrrk_vs_spor'</li>\n",
       "\t<li>'pd_suni_spor_vs_ctrl'</li>\n",
       "</ol>\n"
      ],
      "text/latex": [
       "\\begin{enumerate*}\n",
       "\\item 'pd\\_caud\\_gba1\\_vs\\_ctrl'\n",
       "\\item 'pd\\_caud\\_gba1\\_vs\\_lrrk'\n",
       "\\item 'pd\\_caud\\_gba1\\_vs\\_spor'\n",
       "\\item 'pd\\_caud\\_lrrk\\_vs\\_ctrl'\n",
       "\\item 'pd\\_caud\\_lrrk\\_vs\\_spor'\n",
       "\\item 'pd\\_caud\\_spor\\_vs\\_ctrl'\n",
       "\\item 'pd\\_hipp\\_gba1\\_vs\\_ctrl'\n",
       "\\item 'pd\\_hipp\\_gba1\\_vs\\_lrrk'\n",
       "\\item 'pd\\_hipp\\_gba1\\_vs\\_spor'\n",
       "\\item 'pd\\_hipp\\_lrrk\\_vs\\_ctrl'\n",
       "\\item 'pd\\_hipp\\_lrrk\\_vs\\_spor'\n",
       "\\item 'pd\\_hipp\\_spor\\_vs\\_ctrl'\n",
       "\\item 'pd\\_mdfg\\_gba1\\_vs\\_ctrl'\n",
       "\\item 'pd\\_mdfg\\_gba1\\_vs\\_lrrk'\n",
       "\\item 'pd\\_mdfg\\_gba1\\_vs\\_spor'\n",
       "\\item 'pd\\_mdfg\\_lrrk\\_vs\\_ctrl'\n",
       "\\item 'pd\\_mdfg\\_lrrk\\_vs\\_spor'\n",
       "\\item 'pd\\_mdfg\\_spor\\_vs\\_ctrl'\n",
       "\\item 'pd\\_mdtg\\_gba1\\_vs\\_ctrl'\n",
       "\\item 'pd\\_mdtg\\_gba1\\_vs\\_lrrk'\n",
       "\\item 'pd\\_mdtg\\_gba1\\_vs\\_spor'\n",
       "\\item 'pd\\_mdtg\\_lrrk\\_vs\\_ctrl'\n",
       "\\item 'pd\\_mdtg\\_lrrk\\_vs\\_spor'\n",
       "\\item 'pd\\_mdtg\\_spor\\_vs\\_ctrl'\n",
       "\\item 'pd\\_ptmn\\_gba1\\_vs\\_ctrl'\n",
       "\\item 'pd\\_ptmn\\_gba1\\_vs\\_lrrk'\n",
       "\\item 'pd\\_ptmn\\_gba1\\_vs\\_spor'\n",
       "\\item 'pd\\_ptmn\\_lrrk\\_vs\\_ctrl'\n",
       "\\item 'pd\\_ptmn\\_lrrk\\_vs\\_spor'\n",
       "\\item 'pd\\_ptmn\\_spor\\_vs\\_ctrl'\n",
       "\\item 'pd\\_suni\\_gba1\\_vs\\_ctrl'\n",
       "\\item 'pd\\_suni\\_gba1\\_vs\\_lrrk'\n",
       "\\item 'pd\\_suni\\_gba1\\_vs\\_spor'\n",
       "\\item 'pd\\_suni\\_lrrk\\_vs\\_ctrl'\n",
       "\\item 'pd\\_suni\\_lrrk\\_vs\\_spor'\n",
       "\\item 'pd\\_suni\\_spor\\_vs\\_ctrl'\n",
       "\\end{enumerate*}\n"
      ],
      "text/markdown": [
       "1. 'pd_caud_gba1_vs_ctrl'\n",
       "2. 'pd_caud_gba1_vs_lrrk'\n",
       "3. 'pd_caud_gba1_vs_spor'\n",
       "4. 'pd_caud_lrrk_vs_ctrl'\n",
       "5. 'pd_caud_lrrk_vs_spor'\n",
       "6. 'pd_caud_spor_vs_ctrl'\n",
       "7. 'pd_hipp_gba1_vs_ctrl'\n",
       "8. 'pd_hipp_gba1_vs_lrrk'\n",
       "9. 'pd_hipp_gba1_vs_spor'\n",
       "10. 'pd_hipp_lrrk_vs_ctrl'\n",
       "11. 'pd_hipp_lrrk_vs_spor'\n",
       "12. 'pd_hipp_spor_vs_ctrl'\n",
       "13. 'pd_mdfg_gba1_vs_ctrl'\n",
       "14. 'pd_mdfg_gba1_vs_lrrk'\n",
       "15. 'pd_mdfg_gba1_vs_spor'\n",
       "16. 'pd_mdfg_lrrk_vs_ctrl'\n",
       "17. 'pd_mdfg_lrrk_vs_spor'\n",
       "18. 'pd_mdfg_spor_vs_ctrl'\n",
       "19. 'pd_mdtg_gba1_vs_ctrl'\n",
       "20. 'pd_mdtg_gba1_vs_lrrk'\n",
       "21. 'pd_mdtg_gba1_vs_spor'\n",
       "22. 'pd_mdtg_lrrk_vs_ctrl'\n",
       "23. 'pd_mdtg_lrrk_vs_spor'\n",
       "24. 'pd_mdtg_spor_vs_ctrl'\n",
       "25. 'pd_ptmn_gba1_vs_ctrl'\n",
       "26. 'pd_ptmn_gba1_vs_lrrk'\n",
       "27. 'pd_ptmn_gba1_vs_spor'\n",
       "28. 'pd_ptmn_lrrk_vs_ctrl'\n",
       "29. 'pd_ptmn_lrrk_vs_spor'\n",
       "30. 'pd_ptmn_spor_vs_ctrl'\n",
       "31. 'pd_suni_gba1_vs_ctrl'\n",
       "32. 'pd_suni_gba1_vs_lrrk'\n",
       "33. 'pd_suni_gba1_vs_spor'\n",
       "34. 'pd_suni_lrrk_vs_ctrl'\n",
       "35. 'pd_suni_lrrk_vs_spor'\n",
       "36. 'pd_suni_spor_vs_ctrl'\n",
       "\n",
       "\n"
      ],
      "text/plain": [
       " [1] \"pd_caud_gba1_vs_ctrl\" \"pd_caud_gba1_vs_lrrk\" \"pd_caud_gba1_vs_spor\"\n",
       " [4] \"pd_caud_lrrk_vs_ctrl\" \"pd_caud_lrrk_vs_spor\" \"pd_caud_spor_vs_ctrl\"\n",
       " [7] \"pd_hipp_gba1_vs_ctrl\" \"pd_hipp_gba1_vs_lrrk\" \"pd_hipp_gba1_vs_spor\"\n",
       "[10] \"pd_hipp_lrrk_vs_ctrl\" \"pd_hipp_lrrk_vs_spor\" \"pd_hipp_spor_vs_ctrl\"\n",
       "[13] \"pd_mdfg_gba1_vs_ctrl\" \"pd_mdfg_gba1_vs_lrrk\" \"pd_mdfg_gba1_vs_spor\"\n",
       "[16] \"pd_mdfg_lrrk_vs_ctrl\" \"pd_mdfg_lrrk_vs_spor\" \"pd_mdfg_spor_vs_ctrl\"\n",
       "[19] \"pd_mdtg_gba1_vs_ctrl\" \"pd_mdtg_gba1_vs_lrrk\" \"pd_mdtg_gba1_vs_spor\"\n",
       "[22] \"pd_mdtg_lrrk_vs_ctrl\" \"pd_mdtg_lrrk_vs_spor\" \"pd_mdtg_spor_vs_ctrl\"\n",
       "[25] \"pd_ptmn_gba1_vs_ctrl\" \"pd_ptmn_gba1_vs_lrrk\" \"pd_ptmn_gba1_vs_spor\"\n",
       "[28] \"pd_ptmn_lrrk_vs_ctrl\" \"pd_ptmn_lrrk_vs_spor\" \"pd_ptmn_spor_vs_ctrl\"\n",
       "[31] \"pd_suni_gba1_vs_ctrl\" \"pd_suni_gba1_vs_lrrk\" \"pd_suni_gba1_vs_spor\"\n",
       "[34] \"pd_suni_lrrk_vs_ctrl\" \"pd_suni_lrrk_vs_spor\" \"pd_suni_spor_vs_ctrl\""
      ]
     },
     "metadata": {},
     "output_type": "display_data"
    }
   ],
   "source": [
    "names(pd_nosva_type)"
   ]
  },
  {
   "cell_type": "code",
   "execution_count": 91,
   "metadata": {},
   "outputs": [],
   "source": [
    "data=make_comb_mat(subset(pd_nosva_type,select=pd_type_region_sets),\n",
    "                   remove_complement_set = TRUE,\n",
    "                   remove_empty_comb_set = TRUE)\n",
    "data=data[comb_degree(data) <= 4]"
   ]
  },
  {
   "cell_type": "code",
   "execution_count": null,
   "metadata": {},
   "outputs": [],
   "source": [
    "svg(\"PD.NOSVA.TypeRegion.upsetr.svg\",\n",
    "   width=8,\n",
    "   height=6,\n",
    "   pointsize=12)\n",
    "print(UpSet(data,\n",
    "            set_order = pd_type_region_sets,\n",
    "            comb_order = order(comb_degree(data)),\n",
    "            comb_col = c(\"red\", \"blue\", \"black\",\"green\")[comb_degree(data)],\n",
    "            right_annotation = upset_right_annotation(data, \n",
    "            gp = gpar(fontsize=20,\n",
    "                      fill=c('#e41a1c',\n",
    "                             '#e41a1c',\n",
    "                             '#e41a1c',\n",
    "                             '#e41a1c',\n",
    "                             '#377eb8',\n",
    "                             '#377eb8',\n",
    "                             '#377eb8',\n",
    "                             '#377eb8',\n",
    "                             '#4daf4a',\n",
    "                             '#4daf4a',\n",
    "                             '#4daf4a',\n",
    "                             '#4daf4a',\n",
    "                             '#984ea3',\n",
    "                             '#984ea3',\n",
    "                             '#984ea3',\n",
    "                             '#984ea3')))))\n",
    "dev.off() "
   ]
  },
  {
   "cell_type": "markdown",
   "metadata": {},
   "source": [
    "## PD, SVA, TypeMod/RegionMod"
   ]
  },
  {
   "cell_type": "code",
   "execution_count": 96,
   "metadata": {},
   "outputs": [],
   "source": [
    "pd_sva_typemod=read.table(\"PD.SVA.TypeModRegionMod.upsetr.inputs.tsv\",header=TRUE,row.names = 1,sep='\\t')"
   ]
  },
  {
   "cell_type": "code",
   "execution_count": 97,
   "metadata": {},
   "outputs": [],
   "source": [
    "data=make_comb_mat(subset(pd_sva_typemod,select=pd_typemod_regionmod_sets),\n",
    "                   remove_complement_set = TRUE,\n",
    "                   remove_empty_comb_set = TRUE)\n",
    "data=data[comb_degree(data) <= 4]"
   ]
  },
  {
   "cell_type": "code",
   "execution_count": 98,
   "metadata": {},
   "outputs": [
    {
     "data": {
      "text/html": [
       "<strong>png:</strong> 2"
      ],
      "text/latex": [
       "\\textbf{png:} 2"
      ],
      "text/markdown": [
       "**png:** 2"
      ],
      "text/plain": [
       "png \n",
       "  2 "
      ]
     },
     "metadata": {},
     "output_type": "display_data"
    }
   ],
   "source": [
    "svg(\"PD.SVA.TypeModRegionMod.upsetr.svg\",\n",
    "   width=8,\n",
    "   height=6,\n",
    "   pointsize=12)\n",
    "print(UpSet(data,\n",
    "            set_order = pd_typemod_regionmod_sets,\n",
    "            comb_order = order(comb_degree(data)),\n",
    "            comb_col = c(\"red\", \"blue\", \"black\",\"green\")[comb_degree(data)],\n",
    "            right_annotation = upset_right_annotation(data, \n",
    "            gp = gpar(fontsize=20,\n",
    "                      fill = c('#e41a1c','#e41a1c','#377eb8','#377eb8','#4daf4a','#4daf4a','#984ea3','#984ea3')))))\n",
    "dev.off() "
   ]
  },
  {
   "cell_type": "markdown",
   "metadata": {},
   "source": [
    "## PD, SVA, Type/Region"
   ]
  },
  {
   "cell_type": "code",
   "execution_count": 99,
   "metadata": {},
   "outputs": [],
   "source": [
    "pd_sva_type=read.table(\"PD.SVA.TypeRegion.upsetr.inputs.tsv\",header=TRUE,row.names = 1,sep='\\t')"
   ]
  },
  {
   "cell_type": "code",
   "execution_count": 100,
   "metadata": {},
   "outputs": [],
   "source": [
    "data=make_comb_mat(subset(pd_sva_type,select=pd_type_region_sets),\n",
    "                   remove_complement_set = TRUE,\n",
    "                   remove_empty_comb_set = TRUE)\n",
    "data=data[comb_degree(data) <= 4]"
   ]
  },
  {
   "cell_type": "code",
   "execution_count": 102,
   "metadata": {},
   "outputs": [
    {
     "data": {
      "text/html": [
       "<strong>png:</strong> 2"
      ],
      "text/latex": [
       "\\textbf{png:} 2"
      ],
      "text/markdown": [
       "**png:** 2"
      ],
      "text/plain": [
       "png \n",
       "  2 "
      ]
     },
     "metadata": {},
     "output_type": "display_data"
    }
   ],
   "source": [
    "svg(\"PD.SVA.TypeRegion.upsetr.svg\",\n",
    "   width=8,\n",
    "   height=6,\n",
    "   pointsize=12)\n",
    "print(UpSet(data,\n",
    "            set_order = pd_type_region_sets,\n",
    "            comb_order = order(comb_degree(data)),\n",
    "            comb_col = c(\"red\", \"blue\", \"black\",\"green\")[comb_degree(data)],\n",
    "            right_annotation = upset_right_annotation(data, \n",
    "            gp = gpar(fontsize=20,\n",
    "                      fill=c('#e41a1c',\n",
    "                             '#e41a1c',\n",
    "                             '#e41a1c',\n",
    "                             '#e41a1c',\n",
    "                             '#377eb8',\n",
    "                             '#377eb8',\n",
    "                             '#377eb8',\n",
    "                             '#377eb8',\n",
    "                             '#4daf4a',\n",
    "                             '#4daf4a',\n",
    "                             '#4daf4a',\n",
    "                             '#4daf4a',\n",
    "                             '#984ea3',\n",
    "                             '#984ea3',\n",
    "                             '#984ea3',\n",
    "                             '#984ea3')))))\n",
    "dev.off() "
   ]
  }
 ],
 "metadata": {
  "kernelspec": {
   "display_name": "R 3.5",
   "language": "R",
   "name": "ir35"
  },
  "language_info": {
   "codemirror_mode": "r",
   "file_extension": ".r",
   "mimetype": "text/x-r-source",
   "name": "R",
   "pygments_lexer": "r",
   "version": "3.5.1"
  }
 },
 "nbformat": 4,
 "nbformat_minor": 2
}
