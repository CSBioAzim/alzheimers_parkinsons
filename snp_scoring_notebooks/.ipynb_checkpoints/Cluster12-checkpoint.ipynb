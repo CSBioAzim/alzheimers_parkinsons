{
 "cells": [
  {
   "cell_type": "markdown",
   "metadata": {},
   "source": [
    "# Choose Cluster"
   ]
  },
  {
   "cell_type": "code",
   "execution_count": 1,
   "metadata": {},
   "outputs": [],
   "source": [
    "cluster_input = 12"
   ]
  },
  {
   "cell_type": "markdown",
   "metadata": {},
   "source": [
    "# Quick Links\n",
    "\n",
    "<ol>\n",
    "    <li><a href=#prep_main_scores>Prepare GkmExplain, ISM, and deltaSVM Scores</a></li>\n",
    "    <li><a href=#prep_conf_scores>Prepare Magnitude and Prominence Scores</a></li>\n",
    "    <li><a href=#prep_score_df>Prepare Score DataFrames</a></li>\n",
    "    <li><a href=#plot_score_distrib>Plot Score Distributions</a></li>\n",
    "    <li><a href=#calculate_pvals>Calculate P-Values</a></li>\n",
    "    <li><a href=#visualize_high_conf>Visualize High Confidence SNPs</a></li>\n",
    "    <li><a href=#prep_final_table>Prepare Final SNPs Table</a></li>\n",
    "</ol>"
   ]
  },
  {
   "cell_type": "markdown",
   "metadata": {},
   "source": [
    "## Imports"
   ]
  },
  {
   "cell_type": "code",
   "execution_count": 2,
   "metadata": {},
   "outputs": [],
   "source": [
    "# Basic\n",
    "\n",
    "import sys\n",
    "import math\n",
    "import random\n",
    "import statistics\n",
    "from decimal import Decimal\n",
    "\n",
    "# Data / ML / Stats Libraries\n",
    "\n",
    "import numpy as np\n",
    "import pandas as pd\n",
    "import scipy\n",
    "from scipy.stats import *\n",
    "pd.set_option('display.max_columns', None)\n",
    "\n",
    "# Visualization\n",
    "\n",
    "from matplotlib import pyplot as plt\n",
    "from plotnine import *\n",
    "sys.path.insert(0, '/users/soumyak/alzheimers_parkinsons/clusters_gkmsvm')\n",
    "from viz_preprocess import *\n",
    "from viz_sequence import *\n",
    "import warnings\n",
    "warnings.filterwarnings('ignore')\n",
    "plt.style.use('default')"
   ]
  },
  {
   "cell_type": "markdown",
   "metadata": {},
   "source": [
    "## Addresses"
   ]
  },
  {
   "cell_type": "code",
   "execution_count": 3,
   "metadata": {},
   "outputs": [],
   "source": [
    "cluster = str(cluster_input)\n",
    "clust_to_celltype = {1: 'excitatory_neurons', 2: 'inhibitory_neurons', 3: 'excitatory_neurons',\n",
    "                     4: 'excitatory_neurons', 5: 'nigral_neurons', 6: 'nigral_neurons', 7: 'unknown_neurons',\n",
    "                     8: 'opcs', 9: 'opcs', 10: 'opcs', 11: 'inhibitory_neurons',12: 'inhibitory_neurons',\n",
    "                     13: 'astrocytes', 14: 'astrocytes', 15: 'astrocytes', 16: 'astrocytes', 17: 'astrocytes',\n",
    "                     18: 'doublets', 19: 'oligodendrocytes', 20: 'oligodendrocytes', 21: 'oligodendrocytes',\n",
    "                     22: 'oligodendrocytes', 23: 'oligodendrocytes', 24: 'microglia'}\n",
    "celltype = clust_to_celltype[cluster_input]\n",
    "observed_base = '/mnt/lab_data3/soumyak/adpd/'\n",
    "observed_effect_fasta = observed_base + 'fasta_inputs/Cluster' + cluster + '.effect.fasta'\n",
    "observed_noneffect_fasta = observed_base + 'fasta_inputs/Cluster' + cluster + '.noneffect.fasta'\n",
    "null_base = '/oak/stanford/groups/akundaje/projects/alzheimers_parkinsons/'"
   ]
  },
  {
   "cell_type": "markdown",
   "metadata": {},
   "source": [
    "## Get Input Sequences"
   ]
  },
  {
   "cell_type": "code",
   "execution_count": 4,
   "metadata": {},
   "outputs": [
    {
     "name": "stdout",
     "output_type": "stream",
     "text": [
      "Num Observed effect sequences: \t \t 320\n",
      "Num Observed noneffect sequences: \t 320\n"
     ]
    }
   ],
   "source": [
    "observed_effect_seqs = [x.rstrip() for (i,x) in enumerate(open(observed_effect_fasta)) if i%2==1]\n",
    "observed_effect_onehot = [np.array(one_hot_encode_along_channel_axis(x)) for x in observed_effect_seqs]\n",
    "\n",
    "print('Num Observed effect sequences:', '\\t', '\\t', len(observed_effect_onehot))\n",
    "\n",
    "observed_noneffect_seqs = [x.rstrip() for (i,x) in enumerate(open(observed_noneffect_fasta)) if i%2==1]\n",
    "observed_noneffect_onehot = [np.array(one_hot_encode_along_channel_axis(x)) for x in observed_noneffect_seqs]\n",
    "\n",
    "print('Num Observed noneffect sequences:', '\\t', len(observed_noneffect_onehot))"
   ]
  },
  {
   "cell_type": "markdown",
   "metadata": {},
   "source": [
    "# Prepare Observed GkmExplain, ISM, and deltaSVM Scores <a name='prep_main_scores' />"
   ]
  },
  {
   "cell_type": "code",
   "execution_count": 5,
   "metadata": {},
   "outputs": [
    {
     "name": "stdout",
     "output_type": "stream",
     "text": [
      "Num Observed GkmExplain scores: \t 320\n",
      "Num Observed Effect scores: \t \t 320\n",
      "Num Observed Non-Effect scores: \t 320\n",
      "Num Observed ISM scores: \t \t 320\n",
      "Num Observed deltaSVM scores: \t \t 320\n"
     ]
    }
   ],
   "source": [
    "merged_observed_effect_scores = np.zeros(shape=(len(observed_effect_seqs), 1000, 4))\n",
    "merged_observed_noneffect_scores = np.zeros(shape=(len(observed_noneffect_seqs), 1000, 4))\n",
    "merged_observed_explain_scores = np.zeros(shape=(len(observed_effect_seqs),))\n",
    "\n",
    "for fold in range(10):\n",
    "    observed_effect_file = observed_base + 'explain_scores/Cluster' + cluster + '/fold' + str(fold) + '.effect.scores.txt'\n",
    "    observed_effect_scores = get_hyp_scores(observed_effect_file, observed_effect_seqs)\n",
    "    observed_effect_scores = np.array(observed_effect_scores)\n",
    "    merged_observed_effect_scores = merged_observed_effect_scores + observed_effect_scores\n",
    "    \n",
    "    observed_noneffect_file = observed_base + 'explain_scores/Cluster' + cluster + '/fold' + str(fold) + '.noneffect.scores.txt'\n",
    "    observed_noneffect_scores = get_hyp_scores(observed_noneffect_file, observed_noneffect_seqs)\n",
    "    observed_noneffect_scores = np.array(observed_noneffect_scores)\n",
    "    merged_observed_noneffect_scores = merged_observed_noneffect_scores + observed_noneffect_scores\n",
    "       \n",
    "    observed_explain_scores = []\n",
    "    \n",
    "    for i,j in enumerate(observed_effect_scores): # iterate over sequences\n",
    "        observed_50bp_imp_effect = np.sum(np.array([np.sum(j) \\\n",
    "                                for j in \\\n",
    "                                observed_effect_scores[i][475:525]]))\n",
    "        observed_50bp_imp_noneffect = np.sum(np.array([np.sum(j) \\\n",
    "                                    for j in \\\n",
    "                                    observed_noneffect_scores[i][475:525]]))\n",
    "        observed_explain_score_seq = observed_50bp_imp_effect - observed_50bp_imp_noneffect\n",
    "        observed_explain_scores.append(observed_explain_score_seq)\n",
    "    \n",
    "    merged_observed_explain_scores = merged_observed_explain_scores + np.array(observed_explain_scores)\n",
    "    \n",
    "merged_observed_effect_scores = merged_observed_effect_scores / (fold + 1)\n",
    "merged_observed_noneffect_scores = merged_observed_noneffect_scores / (fold + 1)\n",
    "merged_observed_explain_scores = merged_observed_explain_scores / (fold + 1)\n",
    "\n",
    "print('Num Observed GkmExplain scores:', '\\t', len(merged_observed_explain_scores))\n",
    "print('Num Observed Effect scores:', '\\t', '\\t', len(merged_observed_effect_scores))\n",
    "print('Num Observed Non-Effect scores:', '\\t', len(merged_observed_noneffect_scores))\n",
    "\n",
    "#--------------------------------------------------------#\n",
    "\n",
    "merged_observed_ism_scores = np.zeros(shape=(len(observed_effect_seqs),))\n",
    "merged_observed_delta_scores = np.zeros(shape=(len(observed_effect_seqs),))\n",
    "\n",
    "for fold in range(10):\n",
    "    observed_ism_scores = np.array([float(i.strip().split('\\t')[1]) \\\n",
    "                                    for i in open(observed_base + 'ism_scores/Cluster'\n",
    "                                    + cluster + '/fold' + str(fold) + '.ism.scores').readlines()])\n",
    "    observed_delta_scores = np.array([float(i.strip().split('\\t')[1]) \\\n",
    "                                    for i in open(observed_base + 'delta_scores/Cluster'\n",
    "                                    + cluster + '/fold' + str(fold) + '.delta.scores').readlines()])\n",
    "    merged_observed_ism_scores = merged_observed_ism_scores + observed_ism_scores\n",
    "    merged_observed_delta_scores = merged_observed_delta_scores + observed_delta_scores\n",
    "        \n",
    "merged_observed_ism_scores = merged_observed_ism_scores / (fold + 1)\n",
    "merged_observed_delta_scores = merged_observed_delta_scores / (fold + 1)\n",
    "\n",
    "print('Num Observed ISM scores:', '\\t', '\\t', len(merged_observed_ism_scores))\n",
    "print('Num Observed deltaSVM scores:', '\\t', '\\t', len(merged_observed_delta_scores))"
   ]
  },
  {
   "cell_type": "markdown",
   "metadata": {},
   "source": [
    "# Prepare Null GkmExplain, ISM, and deltaSVM Scores"
   ]
  },
  {
   "cell_type": "code",
   "execution_count": 6,
   "metadata": {},
   "outputs": [
    {
     "name": "stdout",
     "output_type": "stream",
     "text": [
      "Num Null importance scores: \t 6200000\n",
      "Num Null GkmExplain scores: \t 31000\n"
     ]
    },
    {
     "name": "stdout",
     "output_type": "stream",
     "text": [
      "Num Null ISM scores: \t \t 31000\n",
      "Num Null deltaSVM scores: \t 31000\n"
     ]
    }
   ],
   "source": [
    "null_importance_scores = []\n",
    "merged_null_effect_scores = []\n",
    "merged_null_noneffect_scores = []\n",
    "merged_null_explain_scores = []\n",
    "\n",
    "for fold in range(10):\n",
    "    for shuf in range(10):\n",
    "        null_effect_file = null_base + 'shuffled_explain_scores/Cluster' \\\n",
    "                            + cluster + '/fold' + str(fold) + '.shuf' + str(shuf) + '.effect.scores'\n",
    "        null_effect_scores = get_scores(null_effect_file)\n",
    "                \n",
    "        null_noneffect_file = null_base + 'shuffled_explain_scores/Cluster' \\\n",
    "                                + cluster + '/fold' + str(fold) + '.shuf' + str(shuf) + '.noneffect.scores'\n",
    "        null_noneffect_scores = get_scores(null_noneffect_file)\n",
    "        \n",
    "        for i,j in enumerate(null_effect_scores):\n",
    "            merged_null_effect_scores.append([sum(k) for k in null_effect_scores[i]])\n",
    "            merged_null_noneffect_scores.append([sum(k) for k in null_noneffect_scores[i]])\n",
    "            \n",
    "for i,j in enumerate(merged_null_effect_scores):\n",
    "    null_effect_50bp = sum(merged_null_effect_scores[i][75:125])\n",
    "    null_noneffect_50bp = sum(merged_null_noneffect_scores[i][75:125])\n",
    "    null_explain_score = null_effect_50bp - null_noneffect_50bp\n",
    "    merged_null_explain_scores.append(null_explain_score)\n",
    "    \n",
    "    for k,l in enumerate(merged_null_effect_scores[i]):\n",
    "        null_importance_scores.append(l)\n",
    "        assert l == merged_null_effect_scores[i][k]                \n",
    "            \n",
    "print('Num Null importance scores:', '\\t', len(null_importance_scores))\n",
    "print('Num Null GkmExplain scores:', '\\t', len(merged_null_explain_scores))\n",
    "    \n",
    "#--------------------------------------------------------#\n",
    "\n",
    "merged_null_ism_scores = []\n",
    "merged_null_delta_scores = []\n",
    "\n",
    "for fold in range(10):\n",
    "    for shuf in range(10):\n",
    "        null_ism_scores = np.array([float(i.strip().split('\\t')[1]) \\\n",
    "                            for i in open(null_base + 'shuffled_ism_scores/Cluster'\n",
    "                            + cluster + '/fold' + str(fold) + '.shuf' + str(shuf) + '.ism.scores').readlines()])\n",
    "        null_delta_scores = np.array([float(i.strip().split('\\t')[1]) \\\n",
    "                                for i in open(null_base + 'shuffled_delta_scores/Cluster'\n",
    "                                + cluster + '/fold' + str(fold) + '.shuf' + str(shuf) + '.delta.scores').readlines()])\n",
    "        for null_i_score in null_ism_scores:\n",
    "            merged_null_ism_scores.append(null_i_score)\n",
    "        for null_d_score in null_delta_scores:\n",
    "            merged_null_delta_scores.append(null_d_score)\n",
    "\n",
    "print('Num Null ISM scores:', '\\t', '\\t', len(merged_null_ism_scores))\n",
    "print('Num Null deltaSVM scores:', '\\t', len(merged_null_delta_scores))"
   ]
  },
  {
   "cell_type": "markdown",
   "metadata": {},
   "source": [
    "# Get Observed Magnitude and Prominence Scores <a name='prep_conf_scores' />"
   ]
  },
  {
   "cell_type": "code",
   "execution_count": 7,
   "metadata": {},
   "outputs": [
    {
     "name": "stdout",
     "output_type": "stream",
     "text": [
      "Per-base Importance Score Threshold:  \t 0.02916120249999995\n"
     ]
    },
    {
     "name": "stdout",
     "output_type": "stream",
     "text": [
      "Mean observed seqlet length: \t \t 8.0375\n",
      "Median observed seqlet length: \t \t 7.0\n",
      "St. Dev observed seqlet length: \t 3.3823949519955923\n",
      "Mode observed seqlet length: \t \t 7\n",
      "Max observed seqlet length: \t \t 29\n",
      "Min observed seqlet lenght: \t \t 7\n"
     ]
    }
   ],
   "source": [
    "observed_confidence_dict = {'observed_seqlet_start': [], 'observed_seqlet_end': [],\n",
    "                            'observed_seqlet_effect': [], 'observed_seqlet_noneffect': [],\n",
    "                            'observed_bg_effect': [], 'observed_bg_noneffect': [],\n",
    "                            'observed_magnitude_score': [], 'observed_prominence_score': [],\n",
    "                            'observed_active_allele': [], 'observed_inactive_allele': [],\n",
    "                            'observed_seqlet_len': []}\n",
    "\n",
    "null_upper_thresh = np.quantile(null_importance_scores, 0.975)\n",
    "print('Per-base Importance Score Threshold: ', '\\t', null_upper_thresh)\n",
    "\n",
    "for seq in range(len(observed_effect_seqs)):\n",
    "    observed_per_seq_dict = {'observed_scores_active': [], 'observed_scores_inactive': [],\n",
    "                             'observed_scores_effect': [], 'observed_scores_noneffect': [],\n",
    "                             'observed_active_allele': ''}\n",
    "    observed_seqlet_start = 0\n",
    "    observed_seqlet_end = 0\n",
    "    observed_seqlet_effect = 0\n",
    "    observed_seqlet_noneffect = 0\n",
    "    observed_bg_effect = 0\n",
    "    observed_bg_noneffect = 0\n",
    "    \n",
    "    observed_effect_total = np.sum(np.array([max(0, np.sum(i)) for i in merged_observed_effect_scores[seq][475:525]]))\n",
    "    observed_noneffect_total = np.sum(np.array([max(0, np.sum(i)) for i in merged_observed_noneffect_scores[seq][475:525]]))\n",
    "    observed_per_seq_dict['observed_scores_effect'] = [np.sum(j) for j in merged_observed_effect_scores[seq]]\n",
    "    observed_per_seq_dict['observed_scores_noneffect'] = [np.sum(j) for j in merged_observed_noneffect_scores[seq]]\n",
    "    if observed_effect_total > observed_noneffect_total:\n",
    "        observed_per_seq_dict['observed_active_allele'] = 'effect'\n",
    "        observed_per_seq_dict['observed_inactive_allele'] = 'noneffect'\n",
    "        observed_confidence_dict['observed_active_allele'].append('effect')\n",
    "        observed_confidence_dict['observed_inactive_allele'].append('noneffect')\n",
    "    else:\n",
    "        observed_per_seq_dict['observed_active_allele'] = 'noneffect'\n",
    "        observed_per_seq_dict['observed_inactive_allele'] = 'effect'\n",
    "        observed_confidence_dict['observed_active_allele'].append('noneffect')\n",
    "        observed_confidence_dict['observed_inactive_allele'].append('effect')\n",
    "    observed_per_seq_dict['observed_scores_active'] = observed_per_seq_dict['observed_scores_'+observed_per_seq_dict['observed_active_allele']]\n",
    "    observed_per_seq_dict['observed_scores_inactive'] = observed_per_seq_dict['observed_scores_'+observed_per_seq_dict['observed_inactive_allele']]\n",
    "    \n",
    "    start = 499\n",
    "    end = 500\n",
    "    while True:\n",
    "        if observed_per_seq_dict['observed_scores_active'][start - 1] <= null_upper_thresh:\n",
    "            if observed_per_seq_dict['observed_scores_active'][start - 2] <= null_upper_thresh:\n",
    "                break\n",
    "            else:\n",
    "                start -= 1\n",
    "        else:\n",
    "            start -= 1\n",
    "    while True:\n",
    "        if observed_per_seq_dict['observed_scores_active'][end] <= null_upper_thresh:\n",
    "            if observed_per_seq_dict['observed_scores_active'][end + 1] <= null_upper_thresh:\n",
    "                break\n",
    "            else:\n",
    "                end += 1\n",
    "        else:\n",
    "            end += 1\n",
    "    if start != (end - 1):\n",
    "        observed_seqlet_len = end - start\n",
    "        if (observed_seqlet_len) < 7:\n",
    "            if (end - 500) > (499 - start):\n",
    "                observed_seqlet_start = start - math.ceil((7 - observed_seqlet_len) / 2)\n",
    "                observed_seqlet_end = end + math.floor((7 - observed_seqlet_len) / 2)\n",
    "            else:           \n",
    "                observed_seqlet_start = start - math.floor((7 - observed_seqlet_len) / 2)\n",
    "                observed_seqlet_end = end + math.ceil((7 - observed_seqlet_len) / 2)\n",
    "        else:\n",
    "            observed_seqlet_start = start\n",
    "            observed_seqlet_end = end\n",
    "    else:\n",
    "        observed_seqlet_start = start - 3\n",
    "        observed_seqlet_end = end + 3\n",
    "    \n",
    "    observed_confidence_dict['observed_seqlet_start'].append(observed_seqlet_start)\n",
    "    observed_confidence_dict['observed_seqlet_end'].append(observed_seqlet_end)\n",
    "    observed_confidence_dict['observed_seqlet_len'].append(observed_seqlet_end - observed_seqlet_start)\n",
    "    \n",
    "    for i,j in enumerate(observed_per_seq_dict['observed_scores_active'][observed_seqlet_start:observed_seqlet_end]):\n",
    "        if observed_per_seq_dict['observed_scores_effect'][i+observed_seqlet_start] >= 0:\n",
    "            observed_seqlet_effect += observed_per_seq_dict['observed_scores_effect'][i+observed_seqlet_start]\n",
    "        if observed_per_seq_dict['observed_scores_noneffect'][i+observed_seqlet_start] >= 0:\n",
    "            observed_seqlet_noneffect += observed_per_seq_dict['observed_scores_noneffect'][i+observed_seqlet_start]\n",
    "        assert j == observed_per_seq_dict['observed_scores_active'][i+observed_seqlet_start]\n",
    "    for i,j in enumerate(observed_per_seq_dict['observed_scores_active']):\n",
    "        if observed_per_seq_dict['observed_scores_effect'][i] >= 0:\n",
    "            observed_bg_effect += observed_per_seq_dict['observed_scores_effect'][i]\n",
    "        if observed_per_seq_dict['observed_scores_noneffect'][i] >= 0:\n",
    "            observed_bg_noneffect += observed_per_seq_dict['observed_scores_noneffect'][i]\n",
    "        assert j == observed_per_seq_dict['observed_scores_active'][i]\n",
    "    \n",
    "    observed_magnitude_score = observed_seqlet_effect - observed_seqlet_noneffect\n",
    "    observed_prominence_score = (observed_seqlet_effect / observed_bg_effect) - (observed_seqlet_noneffect / observed_bg_noneffect)\n",
    "    \n",
    "    observed_confidence_dict['observed_seqlet_effect'].append(observed_seqlet_effect)\n",
    "    observed_confidence_dict['observed_seqlet_noneffect'].append(observed_seqlet_noneffect)\n",
    "    observed_confidence_dict['observed_bg_effect'].append(observed_bg_effect)\n",
    "    observed_confidence_dict['observed_bg_noneffect'].append(observed_bg_noneffect)\n",
    "    observed_confidence_dict['observed_magnitude_score'].append(observed_magnitude_score)\n",
    "    observed_confidence_dict['observed_prominence_score'].append(observed_prominence_score)\n",
    "\n",
    "print('Mean observed seqlet length:', '\\t', '\\t', statistics.mean(observed_confidence_dict['observed_seqlet_len']))\n",
    "print('Median observed seqlet length:', '\\t', '\\t', statistics.median(observed_confidence_dict['observed_seqlet_len']))\n",
    "print('St. Dev observed seqlet length:', '\\t', statistics.stdev(observed_confidence_dict['observed_seqlet_len']))\n",
    "print('Mode observed seqlet length:', '\\t', '\\t', statistics.mode(observed_confidence_dict['observed_seqlet_len']))\n",
    "print('Max observed seqlet length:', '\\t', '\\t', max(observed_confidence_dict['observed_seqlet_len']))\n",
    "print('Min observed seqlet lenght:', '\\t', '\\t', min(observed_confidence_dict['observed_seqlet_len']))"
   ]
  },
  {
   "cell_type": "markdown",
   "metadata": {},
   "source": [
    "# Get Null Magnitude and Prominence Scores"
   ]
  },
  {
   "cell_type": "code",
   "execution_count": 8,
   "metadata": {},
   "outputs": [
    {
     "name": "stdout",
     "output_type": "stream",
     "text": [
      "Per-base Importance Score Threshold:  \t 0.02916120249999995\n"
     ]
    },
    {
     "name": "stdout",
     "output_type": "stream",
     "text": [
      "Mean Null seqlet length: \t \t 7.766\n",
      "Median Null seqlet length: \t \t 7.0\n",
      "St. Dev Null seqlet length: \t \t 2.461003077268962\n",
      "Mode Null seqlet length: \t \t 7\n",
      "Max Null seqlet length: \t \t 40\n",
      "Min Null seqlet lenght: \t \t 7\n"
     ]
    }
   ],
   "source": [
    "null_confidence_dict = {'null_seqlet_start': [], 'null_seqlet_end': [],\n",
    "                        'null_seqlet_effect': [], 'null_seqlet_noneffect': [],\n",
    "                        'null_bg_effect': [], 'null_bg_noneffect': [],\n",
    "                        'null_magnitude_score': [], 'null_prominence_score': [],\n",
    "                        'null_active_allele': [], 'null_inactive_allele': [],\n",
    "                        'null_seqlet_len': []}\n",
    "\n",
    "null_upper_thresh = np.quantile(null_importance_scores, 0.975)\n",
    "print('Per-base Importance Score Threshold: ', '\\t', null_upper_thresh)\n",
    "\n",
    "for seq in range(len(merged_null_effect_scores)):\n",
    "    null_per_seq_dict = {'null_scores_active': [], 'null_scores_inactive': [],\n",
    "                         'null_scores_effect': [], 'null_scores_noneffect': [],\n",
    "                         'null_active_allele': ''}\n",
    "    null_seqlet_start = 0\n",
    "    null_seqlet_end = 0\n",
    "    null_seqlet_effect = 0\n",
    "    null_seqlet_noneffect = 0\n",
    "    null_bg_effect = 0\n",
    "    null_bg_noneffect = 0\n",
    "    \n",
    "    null_effect_total = sum([max(0,i) for i in merged_null_effect_scores[seq][75:125]])\n",
    "    null_noneffect_total = sum([max(0,i) for i in merged_null_noneffect_scores[seq][75:125]])\n",
    "    null_per_seq_dict['null_scores_effect'] = merged_null_effect_scores[seq]\n",
    "    null_per_seq_dict['null_scores_noneffect'] = merged_null_noneffect_scores[seq]\n",
    "    if null_effect_total > null_noneffect_total:\n",
    "        null_per_seq_dict['null_active_allele'] = 'effect'\n",
    "        null_per_seq_dict['null_inactive_allele'] = 'noneffect'\n",
    "        null_confidence_dict['null_active_allele'].append('effect')\n",
    "        null_confidence_dict['null_inactive_allele'].append('noneffect')\n",
    "    else:\n",
    "        null_per_seq_dict['null_active_allele'] = 'noneffect'\n",
    "        null_per_seq_dict['null_inactive_allele'] = 'effect'\n",
    "        null_confidence_dict['null_active_allele'].append('noneffect')\n",
    "        null_confidence_dict['null_inactive_allele'].append('effect')\n",
    "    null_per_seq_dict['null_scores_active'] = null_per_seq_dict['null_scores_'+null_per_seq_dict['null_active_allele']]\n",
    "    null_per_seq_dict['null_scores_inactive'] = null_per_seq_dict['null_scores_'+null_per_seq_dict['null_inactive_allele']]\n",
    "    \n",
    "    start = 99\n",
    "    end = 100\n",
    "    while True:\n",
    "        if null_per_seq_dict['null_scores_active'][start - 1] <= null_upper_thresh:\n",
    "            if null_per_seq_dict['null_scores_active'][start - 2] <= null_upper_thresh:\n",
    "                break\n",
    "            else:\n",
    "                start -= 1\n",
    "        else:\n",
    "            start -= 1\n",
    "    while True:\n",
    "        if null_per_seq_dict['null_scores_active'][end] <= null_upper_thresh:\n",
    "            if null_per_seq_dict['null_scores_active'][end + 1] <= null_upper_thresh:\n",
    "                break\n",
    "            else:\n",
    "                end += 1\n",
    "        else:\n",
    "            end += 1\n",
    "    if start != (end - 1):\n",
    "        null_seqlet_len = end - start\n",
    "        if (null_seqlet_len) < 7:\n",
    "            if (end - 100) > (99 - start):\n",
    "                null_seqlet_start = start - math.ceil((7 - null_seqlet_len) / 2)\n",
    "                null_seqlet_end = end + math.floor((7 - null_seqlet_len) / 2)\n",
    "            else:\n",
    "                null_seqlet_start = start - math.floor((7 - null_seqlet_len) / 2)\n",
    "                null_seqlet_end = end + math.ceil((7 - null_seqlet_len) / 2)\n",
    "        else:\n",
    "            null_seqlet_start = start\n",
    "            null_seqlet_end = end\n",
    "    else:\n",
    "        null_seqlet_start = start - 3\n",
    "        null_seqlet_end = end + 3\n",
    "    \n",
    "    null_confidence_dict['null_seqlet_start'].append(null_seqlet_start)\n",
    "    null_confidence_dict['null_seqlet_end'].append(null_seqlet_end)\n",
    "    null_confidence_dict['null_seqlet_len'].append(null_seqlet_end - null_seqlet_start)\n",
    "    \n",
    "    for i,j in enumerate(null_per_seq_dict['null_scores_active'][null_seqlet_start:null_seqlet_end]):\n",
    "        if null_per_seq_dict['null_scores_effect'][i+null_seqlet_start] >= 0:\n",
    "            null_seqlet_effect += null_per_seq_dict['null_scores_effect'][i+null_seqlet_start]\n",
    "        if null_per_seq_dict['null_scores_noneffect'][i+null_seqlet_start] >= 0:\n",
    "            null_seqlet_noneffect += null_per_seq_dict['null_scores_noneffect'][i+null_seqlet_start]\n",
    "        assert j == null_per_seq_dict['null_scores_active'][i+null_seqlet_start]\n",
    "    for i,j in enumerate(null_per_seq_dict['null_scores_active']):\n",
    "        if null_per_seq_dict['null_scores_effect'][i] >= 0:\n",
    "            null_bg_effect += null_per_seq_dict['null_scores_effect'][i]\n",
    "        if null_per_seq_dict['null_scores_noneffect'][i] >= 0:\n",
    "            null_bg_noneffect += null_per_seq_dict['null_scores_noneffect'][i]\n",
    "        assert j == null_per_seq_dict['null_scores_active'][i]\n",
    "    \n",
    "    null_magnitude_score = null_seqlet_effect - null_seqlet_noneffect\n",
    "    null_prominence_score = (null_seqlet_effect / null_bg_effect) - (null_seqlet_noneffect / null_bg_noneffect)\n",
    "    \n",
    "    null_confidence_dict['null_seqlet_effect'].append(null_seqlet_effect)\n",
    "    null_confidence_dict['null_seqlet_noneffect'].append(null_seqlet_noneffect)\n",
    "    null_confidence_dict['null_bg_effect'].append(null_bg_effect)\n",
    "    null_confidence_dict['null_bg_noneffect'].append(null_bg_noneffect)\n",
    "    null_confidence_dict['null_magnitude_score'].append(null_magnitude_score)\n",
    "    null_confidence_dict['null_prominence_score'].append(null_prominence_score)\n",
    "\n",
    "print('Mean Null seqlet length:', '\\t', '\\t', statistics.mean(null_confidence_dict['null_seqlet_len']))\n",
    "print('Median Null seqlet length:', '\\t', '\\t', statistics.median(null_confidence_dict['null_seqlet_len']))\n",
    "print('St. Dev Null seqlet length:', '\\t', '\\t', statistics.stdev(null_confidence_dict['null_seqlet_len']))\n",
    "print('Mode Null seqlet length:', '\\t', '\\t', statistics.mode(null_confidence_dict['null_seqlet_len']))\n",
    "print('Max Null seqlet length:', '\\t', '\\t', max(null_confidence_dict['null_seqlet_len']))\n",
    "print('Min Null seqlet lenght:', '\\t', '\\t', min(null_confidence_dict['null_seqlet_len']))"
   ]
  },
  {
   "cell_type": "markdown",
   "metadata": {},
   "source": [
    "# Make Observed Scores DataFrame <a name='prep_score_df' />"
   ]
  },
  {
   "cell_type": "code",
   "execution_count": 9,
   "metadata": {},
   "outputs": [
    {
     "name": "stdout",
     "output_type": "stream",
     "text": [
      "Observed Scores:\n",
      "\n"
     ]
    },
    {
     "data": {
      "text/html": [
       "<div>\n",
       "<style scoped>\n",
       "    .dataframe tbody tr th:only-of-type {\n",
       "        vertical-align: middle;\n",
       "    }\n",
       "\n",
       "    .dataframe tbody tr th {\n",
       "        vertical-align: top;\n",
       "    }\n",
       "\n",
       "    .dataframe thead th {\n",
       "        text-align: right;\n",
       "    }\n",
       "</style>\n",
       "<table border=\"1\" class=\"dataframe\">\n",
       "  <thead>\n",
       "    <tr style=\"text-align: right;\">\n",
       "      <th></th>\n",
       "      <th>chr</th>\n",
       "      <th>start</th>\n",
       "      <th>end</th>\n",
       "      <th>rsid</th>\n",
       "      <th>effect</th>\n",
       "      <th>noneffect</th>\n",
       "      <th>ref</th>\n",
       "      <th>alt</th>\n",
       "      <th>major</th>\n",
       "      <th>minor</th>\n",
       "      <th>direction</th>\n",
       "      <th>locus_num</th>\n",
       "      <th>gc</th>\n",
       "      <th>explain_score</th>\n",
       "      <th>ism_score</th>\n",
       "      <th>delta_score</th>\n",
       "      <th>magnitude_score</th>\n",
       "      <th>prominence_score</th>\n",
       "      <th>gc_bin</th>\n",
       "      <th>gwas</th>\n",
       "      <th>gwas_pval</th>\n",
       "      <th>coloc</th>\n",
       "      <th>active_seqlet</th>\n",
       "      <th>inactive_seqlet</th>\n",
       "      <th>diff_seqlet</th>\n",
       "      <th>active_allele</th>\n",
       "    </tr>\n",
       "  </thead>\n",
       "  <tbody>\n",
       "    <tr>\n",
       "      <th>0</th>\n",
       "      <td>chr1</td>\n",
       "      <td>161185601</td>\n",
       "      <td>161185602</td>\n",
       "      <td>rs4575098</td>\n",
       "      <td>A</td>\n",
       "      <td>G</td>\n",
       "      <td>G</td>\n",
       "      <td>A</td>\n",
       "      <td>G</td>\n",
       "      <td>A</td>\n",
       "      <td>+</td>\n",
       "      <td>129</td>\n",
       "      <td>0.433</td>\n",
       "      <td>-0.076900</td>\n",
       "      <td>-0.122055</td>\n",
       "      <td>-0.684275</td>\n",
       "      <td>-0.000101</td>\n",
       "      <td>-0.000047</td>\n",
       "      <td>1</td>\n",
       "      <td>Alzheimers_Jansen_2018</td>\n",
       "      <td>2.05e-10</td>\n",
       "      <td>True</td>\n",
       "      <td>AATGTTA</td>\n",
       "      <td>AATATTA</td>\n",
       "      <td>AAT(G/A)TTA</td>\n",
       "      <td>noneffect</td>\n",
       "    </tr>\n",
       "    <tr>\n",
       "      <th>1</th>\n",
       "      <td>chr1</td>\n",
       "      <td>171742011</td>\n",
       "      <td>171742012</td>\n",
       "      <td>rs12119232</td>\n",
       "      <td>C</td>\n",
       "      <td>A</td>\n",
       "      <td>A</td>\n",
       "      <td>C</td>\n",
       "      <td>A</td>\n",
       "      <td>C</td>\n",
       "      <td>-</td>\n",
       "      <td>14</td>\n",
       "      <td>0.626</td>\n",
       "      <td>0.027826</td>\n",
       "      <td>0.044421</td>\n",
       "      <td>0.262290</td>\n",
       "      <td>0.021014</td>\n",
       "      <td>0.009008</td>\n",
       "      <td>7</td>\n",
       "      <td>Nalls_23andMe</td>\n",
       "      <td>0.0563648</td>\n",
       "      <td>False</td>\n",
       "      <td>GACCGTT</td>\n",
       "      <td>GACAGTT</td>\n",
       "      <td>GAC(C/A)GTT</td>\n",
       "      <td>effect</td>\n",
       "    </tr>\n",
       "    <tr>\n",
       "      <th>2</th>\n",
       "      <td>chr1</td>\n",
       "      <td>205750403</td>\n",
       "      <td>205750404</td>\n",
       "      <td>rs823114</td>\n",
       "      <td>G</td>\n",
       "      <td>A</td>\n",
       "      <td>G</td>\n",
       "      <td>A</td>\n",
       "      <td>G</td>\n",
       "      <td>A</td>\n",
       "      <td>-</td>\n",
       "      <td>17</td>\n",
       "      <td>0.539</td>\n",
       "      <td>-0.226051</td>\n",
       "      <td>-0.350335</td>\n",
       "      <td>-2.012970</td>\n",
       "      <td>-0.182692</td>\n",
       "      <td>-0.056755</td>\n",
       "      <td>4</td>\n",
       "      <td>Chang_23andMe_Parkinsons</td>\n",
       "      <td>9.56e-09</td>\n",
       "      <td>True</td>\n",
       "      <td>CGCACAGCCGC</td>\n",
       "      <td>CGCACGGCCGC</td>\n",
       "      <td>CGCAC(A/G)GCCGC</td>\n",
       "      <td>noneffect</td>\n",
       "    </tr>\n",
       "    <tr>\n",
       "      <th>3</th>\n",
       "      <td>chr1</td>\n",
       "      <td>226737182</td>\n",
       "      <td>226737183</td>\n",
       "      <td>rs147889095</td>\n",
       "      <td>I</td>\n",
       "      <td>D</td>\n",
       "      <td>ACTGCCGCTG</td>\n",
       "      <td>A</td>\n",
       "      <td>ACTGCCGCTG</td>\n",
       "      <td>A</td>\n",
       "      <td>+</td>\n",
       "      <td>21</td>\n",
       "      <td>0.691</td>\n",
       "      <td>0.045128</td>\n",
       "      <td>0.009285</td>\n",
       "      <td>-0.791761</td>\n",
       "      <td>-0.010107</td>\n",
       "      <td>-0.005702</td>\n",
       "      <td>9</td>\n",
       "      <td>Chang_23andMe_Parkinsons</td>\n",
       "      <td>1.77e-05</td>\n",
       "      <td>False</td>\n",
       "      <td>GCTGCCA</td>\n",
       "      <td>GCTGCTG</td>\n",
       "      <td>GCT(G/G)CCA</td>\n",
       "      <td>effect</td>\n",
       "    </tr>\n",
       "    <tr>\n",
       "      <th>4</th>\n",
       "      <td>chr10</td>\n",
       "      <td>11678308</td>\n",
       "      <td>11678309</td>\n",
       "      <td>rs7920721</td>\n",
       "      <td>G</td>\n",
       "      <td>A</td>\n",
       "      <td>A</td>\n",
       "      <td>G</td>\n",
       "      <td>A</td>\n",
       "      <td>G</td>\n",
       "      <td>+</td>\n",
       "      <td>2</td>\n",
       "      <td>0.487</td>\n",
       "      <td>-0.026428</td>\n",
       "      <td>-0.039712</td>\n",
       "      <td>-0.245729</td>\n",
       "      <td>-0.003771</td>\n",
       "      <td>-0.001791</td>\n",
       "      <td>2</td>\n",
       "      <td>Alzheimers_Jansen_2018</td>\n",
       "      <td>1.97e-08</td>\n",
       "      <td>False</td>\n",
       "      <td>CATATTG</td>\n",
       "      <td>CATGTTG</td>\n",
       "      <td>CAT(A/G)TTG</td>\n",
       "      <td>noneffect</td>\n",
       "    </tr>\n",
       "  </tbody>\n",
       "</table>\n",
       "</div>"
      ],
      "text/plain": [
       "     chr      start        end         rsid effect noneffect         ref alt  \\\n",
       "0   chr1  161185601  161185602    rs4575098      A         G           G   A   \n",
       "1   chr1  171742011  171742012   rs12119232      C         A           A   C   \n",
       "2   chr1  205750403  205750404     rs823114      G         A           G   A   \n",
       "3   chr1  226737182  226737183  rs147889095      I         D  ACTGCCGCTG   A   \n",
       "4  chr10   11678308   11678309    rs7920721      G         A           A   G   \n",
       "\n",
       "        major minor direction  locus_num     gc  explain_score  ism_score  \\\n",
       "0           G     A         +        129  0.433      -0.076900  -0.122055   \n",
       "1           A     C         -         14  0.626       0.027826   0.044421   \n",
       "2           G     A         -         17  0.539      -0.226051  -0.350335   \n",
       "3  ACTGCCGCTG     A         +         21  0.691       0.045128   0.009285   \n",
       "4           A     G         +          2  0.487      -0.026428  -0.039712   \n",
       "\n",
       "   delta_score  magnitude_score  prominence_score  gc_bin  \\\n",
       "0    -0.684275        -0.000101         -0.000047       1   \n",
       "1     0.262290         0.021014          0.009008       7   \n",
       "2    -2.012970        -0.182692         -0.056755       4   \n",
       "3    -0.791761        -0.010107         -0.005702       9   \n",
       "4    -0.245729        -0.003771         -0.001791       2   \n",
       "\n",
       "                       gwas  gwas_pval  coloc active_seqlet inactive_seqlet  \\\n",
       "0    Alzheimers_Jansen_2018   2.05e-10   True       AATGTTA         AATATTA   \n",
       "1             Nalls_23andMe  0.0563648  False       GACCGTT         GACAGTT   \n",
       "2  Chang_23andMe_Parkinsons   9.56e-09   True   CGCACAGCCGC     CGCACGGCCGC   \n",
       "3  Chang_23andMe_Parkinsons   1.77e-05  False       GCTGCCA         GCTGCTG   \n",
       "4    Alzheimers_Jansen_2018   1.97e-08  False       CATATTG         CATGTTG   \n",
       "\n",
       "       diff_seqlet active_allele  \n",
       "0      AAT(G/A)TTA     noneffect  \n",
       "1      GAC(C/A)GTT        effect  \n",
       "2  CGCAC(A/G)GCCGC     noneffect  \n",
       "3      GCT(G/G)CCA        effect  \n",
       "4      CAT(A/G)TTG     noneffect  "
      ]
     },
     "metadata": {},
     "output_type": "display_data"
    },
    {
     "name": "stdout",
     "output_type": "stream",
     "text": [
      "\n",
      "Shape:  (320, 26)\n"
     ]
    }
   ],
   "source": [
    "snp_scores = pd.read_csv('/mnt/lab_data3/soumyak/adpd/snp_lists/Cluster'\n",
    "                         + cluster + '.overlap.expanded.snps.hg38.bed', sep='\\t')\n",
    "full_snp_list = pd.read_csv('/oak/stanford/groups/akundaje/projects/alzheimers_parkinsons/'\n",
    "                            + 'snps_final/191121_ld_buddies_table_stage3.tsv', sep='\\t')\n",
    "\n",
    "snp_scores['gc'] = [((observed_noneffect_seqs[index].count('G') + observed_noneffect_seqs[index].count('C'))\n",
    "                     / len(observed_noneffect_seqs[index])) for index in range(len(observed_noneffect_seqs))]\n",
    "snp_scores['explain_score'] = merged_observed_explain_scores\n",
    "snp_scores['ism_score'] = merged_observed_ism_scores\n",
    "snp_scores['delta_score'] = merged_observed_delta_scores\n",
    "snp_scores['magnitude_score'] = observed_confidence_dict['observed_magnitude_score']\n",
    "snp_scores['prominence_score'] = observed_confidence_dict['observed_prominence_score']\n",
    "\n",
    "gc_quantiles = list(snp_scores['gc'].quantile([i/10 for i in range(11)]))\n",
    "snp_scores['gc_bin'] = np.searchsorted(gc_quantiles[1:], snp_scores['gc'])\n",
    "\n",
    "gwas = []\n",
    "gwas_pval = []\n",
    "coloc = []\n",
    "locus_num = []\n",
    "active_seqlet = []\n",
    "inactive_seqlet = []\n",
    "diff_seqlet = []\n",
    "\n",
    "for index,row in snp_scores.iterrows():\n",
    "    best_gwas = ''\n",
    "    lowest_pval = 1\n",
    "    has_coloc = False\n",
    "    locus = 0\n",
    "    na_gwas = ''\n",
    "    na_pval = ''\n",
    "    for ind,rw in full_snp_list.loc[full_snp_list['rsid']==row['rsid']].iterrows():\n",
    "        if rw['pvalue'] < lowest_pval:\n",
    "            best_gwas = rw['source_gwas']\n",
    "            lowest_pval = rw['pvalue']\n",
    "        elif math.isnan(rw['pvalue']):\n",
    "            na_gwas = rw['source_gwas']\n",
    "            na_pval = 'NA'\n",
    "        if rw['has_coloc'] == True:\n",
    "            has_coloc = True\n",
    "        locus = rw['locus_num']\n",
    "    if best_gwas == '':\n",
    "        gwas.append(na_gwas)\n",
    "        gwas_pval.append(na_pval)\n",
    "    else:\n",
    "        gwas.append(best_gwas)\n",
    "        gwas_pval.append(lowest_pval)\n",
    "    coloc.append(has_coloc)\n",
    "    locus_num.append(locus)\n",
    "    if observed_confidence_dict['observed_active_allele'][index] == 'effect':\n",
    "        active_seq = observed_effect_seqs[index]\n",
    "        inactive_seq = observed_noneffect_seqs[index]\n",
    "    else:\n",
    "        active_seq = observed_noneffect_seqs[index]\n",
    "        inactive_seq = observed_effect_seqs[index]\n",
    "    seqlet_start = observed_confidence_dict['observed_seqlet_start'][index]\n",
    "    seqlet_end = observed_confidence_dict['observed_seqlet_end'][index]\n",
    "    active_seqlet.append(active_seq[seqlet_start:seqlet_end])\n",
    "    inactive_seqlet.append(inactive_seq[seqlet_start:seqlet_end])\n",
    "    diff_seqlet.append(active_seq[seqlet_start:499]\n",
    "                      + '(' + active_seq[499]\n",
    "                      + '/' + inactive_seq[499]\n",
    "                      + ')' + active_seq[500:seqlet_end])\n",
    "    if row['effect'] == 'NAN':\n",
    "        snp_scores.at[index, 'effect'] = 'NA'\n",
    "    if row['noneffect'] == 'NAN':\n",
    "        snp_scores.at[index, 'noneffect'] = 'NA'\n",
    "\n",
    "snp_scores['gwas'] = gwas\n",
    "snp_scores['gwas_pval'] = gwas_pval\n",
    "snp_scores['coloc'] = coloc\n",
    "snp_scores['locus_num'] = locus_num\n",
    "snp_scores['active_seqlet'] = active_seqlet\n",
    "snp_scores['inactive_seqlet'] = inactive_seqlet\n",
    "snp_scores['diff_seqlet'] = diff_seqlet\n",
    "snp_scores['active_allele'] = observed_confidence_dict['observed_active_allele']\n",
    "snp_scores.drop(['source_gwas','pvalue','ld_tag_chr','ld_tag_pos','r2_with_ld_tag'], axis=1, inplace=True)\n",
    "#snp_scores = snp_scores.loc[snp_scores['effect'] != 'NA']\n",
    "#snp_scores = snp_scores.loc[snp_scores['noneffect'] != 'NA']\n",
    "\n",
    "print('Observed Scores:')\n",
    "print()\n",
    "display(snp_scores.head())\n",
    "print()\n",
    "print('Shape: ', snp_scores.shape)"
   ]
  },
  {
   "cell_type": "markdown",
   "metadata": {},
   "source": [
    "# Make Null Scores DataFrame"
   ]
  },
  {
   "cell_type": "code",
   "execution_count": 10,
   "metadata": {},
   "outputs": [
    {
     "name": "stdout",
     "output_type": "stream",
     "text": [
      "Null Scores:\n",
      "\n"
     ]
    },
    {
     "data": {
      "text/html": [
       "<div>\n",
       "<style scoped>\n",
       "    .dataframe tbody tr th:only-of-type {\n",
       "        vertical-align: middle;\n",
       "    }\n",
       "\n",
       "    .dataframe tbody tr th {\n",
       "        vertical-align: top;\n",
       "    }\n",
       "\n",
       "    .dataframe thead th {\n",
       "        text-align: right;\n",
       "    }\n",
       "</style>\n",
       "<table border=\"1\" class=\"dataframe\">\n",
       "  <thead>\n",
       "    <tr style=\"text-align: right;\">\n",
       "      <th></th>\n",
       "      <th>rsid</th>\n",
       "      <th>null_explain_score</th>\n",
       "      <th>null_ism_score</th>\n",
       "      <th>null_delta_score</th>\n",
       "      <th>null_magnitude_score</th>\n",
       "      <th>null_prominence_score</th>\n",
       "      <th>gc</th>\n",
       "      <th>gc_bin</th>\n",
       "    </tr>\n",
       "  </thead>\n",
       "  <tbody>\n",
       "    <tr>\n",
       "      <th>0</th>\n",
       "      <td>rs4575098</td>\n",
       "      <td>0.083529</td>\n",
       "      <td>0.124176</td>\n",
       "      <td>0.717822</td>\n",
       "      <td>0.005878</td>\n",
       "      <td>0.005778</td>\n",
       "      <td>0.433</td>\n",
       "      <td>1</td>\n",
       "    </tr>\n",
       "    <tr>\n",
       "      <th>1</th>\n",
       "      <td>rs12119232</td>\n",
       "      <td>-0.303813</td>\n",
       "      <td>-0.451934</td>\n",
       "      <td>-2.597658</td>\n",
       "      <td>-0.100649</td>\n",
       "      <td>-0.077388</td>\n",
       "      <td>0.626</td>\n",
       "      <td>7</td>\n",
       "    </tr>\n",
       "    <tr>\n",
       "      <th>2</th>\n",
       "      <td>rs823114</td>\n",
       "      <td>0.204552</td>\n",
       "      <td>0.304743</td>\n",
       "      <td>1.772726</td>\n",
       "      <td>0.176316</td>\n",
       "      <td>0.088071</td>\n",
       "      <td>0.539</td>\n",
       "      <td>4</td>\n",
       "    </tr>\n",
       "    <tr>\n",
       "      <th>3</th>\n",
       "      <td>rs7920721</td>\n",
       "      <td>0.256218</td>\n",
       "      <td>0.382675</td>\n",
       "      <td>2.210346</td>\n",
       "      <td>0.023129</td>\n",
       "      <td>0.015543</td>\n",
       "      <td>0.487</td>\n",
       "      <td>2</td>\n",
       "    </tr>\n",
       "    <tr>\n",
       "      <th>4</th>\n",
       "      <td>rs896434</td>\n",
       "      <td>-0.326346</td>\n",
       "      <td>-0.485940</td>\n",
       "      <td>-2.807734</td>\n",
       "      <td>-0.131607</td>\n",
       "      <td>-0.109600</td>\n",
       "      <td>0.441</td>\n",
       "      <td>1</td>\n",
       "    </tr>\n",
       "  </tbody>\n",
       "</table>\n",
       "</div>"
      ],
      "text/plain": [
       "         rsid  null_explain_score  null_ism_score  null_delta_score  \\\n",
       "0   rs4575098            0.083529        0.124176          0.717822   \n",
       "1  rs12119232           -0.303813       -0.451934         -2.597658   \n",
       "2    rs823114            0.204552        0.304743          1.772726   \n",
       "3   rs7920721            0.256218        0.382675          2.210346   \n",
       "4    rs896434           -0.326346       -0.485940         -2.807734   \n",
       "\n",
       "   null_magnitude_score  null_prominence_score     gc  gc_bin  \n",
       "0              0.005878               0.005778  0.433       1  \n",
       "1             -0.100649              -0.077388  0.626       7  \n",
       "2              0.176316               0.088071  0.539       4  \n",
       "3              0.023129               0.015543  0.487       2  \n",
       "4             -0.131607              -0.109600  0.441       1  "
      ]
     },
     "metadata": {},
     "output_type": "display_data"
    },
    {
     "name": "stdout",
     "output_type": "stream",
     "text": [
      "\n",
      "Shape:  (31000, 8)\n"
     ]
    }
   ],
   "source": [
    "bases = ['A', 'T', 'C', 'G']\n",
    "null_dict = {'rsid': [], 'null_explain_score': merged_null_explain_scores,\n",
    "             'null_ism_score': merged_null_ism_scores, 'null_delta_score': merged_null_delta_scores, \n",
    "             'null_magnitude_score': null_confidence_dict['null_magnitude_score'],\n",
    "             'null_prominence_score': null_confidence_dict['null_prominence_score'],\n",
    "             'gc':[]}\n",
    "\n",
    "for fold in range(10):\n",
    "    for shuf in range(10):\n",
    "        with open('/oak/stanford/groups/akundaje/projects/alzheimers_parkinsons/shuffled_1kb_fasta/Cluster'\n",
    "                  + cluster + '/shuf' + str(shuf) + '.initial.fasta', 'r') as shuf_file:\n",
    "            shuf_seqs = shuf_file.readlines()\n",
    "            for index, row in snp_scores.iterrows():\n",
    "                rsid = row['rsid']\n",
    "                effect = row['effect']\n",
    "                noneffect = row['noneffect']\n",
    "                if effect.upper() in bases and noneffect.upper() in bases:\n",
    "                    null_dict['rsid'].append(rsid)\n",
    "                    orig_seq = observed_noneffect_seqs[index]\n",
    "                    orig_gc = (orig_seq.count('G') + orig_seq.count('C')) / len(orig_seq)\n",
    "                    shuffled_seq = shuf_seqs[(2 * index) + 1]\n",
    "                    shuffled_seq = shuffled_seq.strip()\n",
    "                    shuffled_gc = (shuffled_seq.count('G') + shuffled_seq.count('C')) / len(shuffled_seq)\n",
    "                    assert orig_gc == shuffled_gc\n",
    "                    null_dict['gc'].append(orig_gc)\n",
    "\n",
    "null_scores = pd.DataFrame.from_dict(null_dict)\n",
    "null_scores['gc_bin'] = np.searchsorted(gc_quantiles[1:], null_scores['gc'])\n",
    "\n",
    "print('Null Scores:')\n",
    "print()\n",
    "display(null_scores.head())\n",
    "print()\n",
    "print('Shape: ', null_scores.shape)"
   ]
  },
  {
   "cell_type": "markdown",
   "metadata": {},
   "source": [
    "## Get Null Quantiles"
   ]
  },
  {
   "cell_type": "code",
   "execution_count": 11,
   "metadata": {},
   "outputs": [
    {
     "name": "stdout",
     "output_type": "stream",
     "text": [
      "0.025 Quantiles:\n",
      "\n"
     ]
    },
    {
     "data": {
      "text/plain": [
       "null_explain_score      -0.386663\n",
       "null_ism_score          -0.576767\n",
       "null_delta_score        -3.319927\n",
       "null_magnitude_score    -0.210091\n",
       "null_prominence_score   -0.137236\n",
       "gc                       0.353000\n",
       "gc_bin                   0.000000\n",
       "Name: 0.025, dtype: float64"
      ]
     },
     "metadata": {},
     "output_type": "display_data"
    },
    {
     "name": "stdout",
     "output_type": "stream",
     "text": [
      "\n",
      "0.975 Quantiles:\n",
      "\n"
     ]
    },
    {
     "data": {
      "text/plain": [
       "null_explain_score       0.395894\n",
       "null_ism_score           0.590179\n",
       "null_delta_score         3.418879\n",
       "null_magnitude_score     0.204894\n",
       "null_prominence_score    0.134373\n",
       "gc                       0.724000\n",
       "gc_bin                   9.000000\n",
       "Name: 0.975, dtype: float64"
      ]
     },
     "metadata": {},
     "output_type": "display_data"
    },
    {
     "name": "stdout",
     "output_type": "stream",
     "text": [
      "\n",
      "GC Bin Quantiles:\n",
      "\n"
     ]
    },
    {
     "data": {
      "text/plain": [
       "0.0    0.3050\n",
       "0.1    0.4155\n",
       "0.2    0.4810\n",
       "0.3    0.5100\n",
       "0.4    0.5320\n",
       "0.5    0.5535\n",
       "0.6    0.5834\n",
       "0.7    0.6113\n",
       "0.8    0.6452\n",
       "0.9    0.6861\n",
       "1.0    0.7840\n",
       "Name: gc, dtype: float64"
      ]
     },
     "metadata": {},
     "output_type": "display_data"
    }
   ],
   "source": [
    "print('0.025 Quantiles:')\n",
    "print()\n",
    "display(null_scores.quantile(0.025))\n",
    "print()\n",
    "print('0.975 Quantiles:')\n",
    "print()\n",
    "display(null_scores.quantile(0.975))\n",
    "print()\n",
    "print('GC Bin Quantiles:')\n",
    "print()\n",
    "display(null_scores['gc'].quantile([i/10 for i in range(11)]))"
   ]
  },
  {
   "cell_type": "markdown",
   "metadata": {},
   "source": [
    "## Check if Null Scores are Distributed Identically across GC bins"
   ]
  },
  {
   "cell_type": "code",
   "execution_count": 12,
   "metadata": {},
   "outputs": [
    {
     "name": "stdout",
     "output_type": "stream",
     "text": [
      "ISM GC-bin KS Test:\n"
     ]
    },
    {
     "data": {
      "text/html": [
       "<div>\n",
       "<style scoped>\n",
       "    .dataframe tbody tr th:only-of-type {\n",
       "        vertical-align: middle;\n",
       "    }\n",
       "\n",
       "    .dataframe tbody tr th {\n",
       "        vertical-align: top;\n",
       "    }\n",
       "\n",
       "    .dataframe thead th {\n",
       "        text-align: right;\n",
       "    }\n",
       "</style>\n",
       "<table border=\"1\" class=\"dataframe\">\n",
       "  <thead>\n",
       "    <tr style=\"text-align: right;\">\n",
       "      <th></th>\n",
       "      <th>0</th>\n",
       "      <th>1</th>\n",
       "      <th>2</th>\n",
       "      <th>3</th>\n",
       "      <th>4</th>\n",
       "      <th>5</th>\n",
       "      <th>6</th>\n",
       "      <th>7</th>\n",
       "      <th>8</th>\n",
       "      <th>9</th>\n",
       "    </tr>\n",
       "  </thead>\n",
       "  <tbody>\n",
       "    <tr>\n",
       "      <th>0</th>\n",
       "      <td>1.000000</td>\n",
       "      <td>1.000000</td>\n",
       "      <td>1.0</td>\n",
       "      <td>1.000000</td>\n",
       "      <td>0.000295</td>\n",
       "      <td>1.0</td>\n",
       "      <td>1.000000</td>\n",
       "      <td>1.000000</td>\n",
       "      <td>1.0</td>\n",
       "      <td>1.000000</td>\n",
       "    </tr>\n",
       "    <tr>\n",
       "      <th>1</th>\n",
       "      <td>1.000000</td>\n",
       "      <td>1.000000</td>\n",
       "      <td>1.0</td>\n",
       "      <td>1.000000</td>\n",
       "      <td>1.000000</td>\n",
       "      <td>1.0</td>\n",
       "      <td>0.000022</td>\n",
       "      <td>1.000000</td>\n",
       "      <td>1.0</td>\n",
       "      <td>1.000000</td>\n",
       "    </tr>\n",
       "    <tr>\n",
       "      <th>2</th>\n",
       "      <td>1.000000</td>\n",
       "      <td>1.000000</td>\n",
       "      <td>1.0</td>\n",
       "      <td>1.000000</td>\n",
       "      <td>1.000000</td>\n",
       "      <td>1.0</td>\n",
       "      <td>1.000000</td>\n",
       "      <td>1.000000</td>\n",
       "      <td>1.0</td>\n",
       "      <td>1.000000</td>\n",
       "    </tr>\n",
       "    <tr>\n",
       "      <th>3</th>\n",
       "      <td>1.000000</td>\n",
       "      <td>1.000000</td>\n",
       "      <td>1.0</td>\n",
       "      <td>1.000000</td>\n",
       "      <td>1.000000</td>\n",
       "      <td>1.0</td>\n",
       "      <td>1.000000</td>\n",
       "      <td>0.999984</td>\n",
       "      <td>1.0</td>\n",
       "      <td>0.000986</td>\n",
       "    </tr>\n",
       "    <tr>\n",
       "      <th>4</th>\n",
       "      <td>0.000295</td>\n",
       "      <td>1.000000</td>\n",
       "      <td>1.0</td>\n",
       "      <td>1.000000</td>\n",
       "      <td>1.000000</td>\n",
       "      <td>1.0</td>\n",
       "      <td>1.000000</td>\n",
       "      <td>1.000000</td>\n",
       "      <td>1.0</td>\n",
       "      <td>1.000000</td>\n",
       "    </tr>\n",
       "    <tr>\n",
       "      <th>5</th>\n",
       "      <td>1.000000</td>\n",
       "      <td>1.000000</td>\n",
       "      <td>1.0</td>\n",
       "      <td>1.000000</td>\n",
       "      <td>1.000000</td>\n",
       "      <td>1.0</td>\n",
       "      <td>1.000000</td>\n",
       "      <td>1.000000</td>\n",
       "      <td>1.0</td>\n",
       "      <td>1.000000</td>\n",
       "    </tr>\n",
       "    <tr>\n",
       "      <th>6</th>\n",
       "      <td>1.000000</td>\n",
       "      <td>0.000022</td>\n",
       "      <td>1.0</td>\n",
       "      <td>1.000000</td>\n",
       "      <td>1.000000</td>\n",
       "      <td>1.0</td>\n",
       "      <td>1.000000</td>\n",
       "      <td>1.000000</td>\n",
       "      <td>1.0</td>\n",
       "      <td>1.000000</td>\n",
       "    </tr>\n",
       "    <tr>\n",
       "      <th>7</th>\n",
       "      <td>1.000000</td>\n",
       "      <td>1.000000</td>\n",
       "      <td>1.0</td>\n",
       "      <td>0.999984</td>\n",
       "      <td>1.000000</td>\n",
       "      <td>1.0</td>\n",
       "      <td>1.000000</td>\n",
       "      <td>1.000000</td>\n",
       "      <td>1.0</td>\n",
       "      <td>1.000000</td>\n",
       "    </tr>\n",
       "    <tr>\n",
       "      <th>8</th>\n",
       "      <td>1.000000</td>\n",
       "      <td>1.000000</td>\n",
       "      <td>1.0</td>\n",
       "      <td>1.000000</td>\n",
       "      <td>1.000000</td>\n",
       "      <td>1.0</td>\n",
       "      <td>1.000000</td>\n",
       "      <td>1.000000</td>\n",
       "      <td>1.0</td>\n",
       "      <td>1.000000</td>\n",
       "    </tr>\n",
       "    <tr>\n",
       "      <th>9</th>\n",
       "      <td>1.000000</td>\n",
       "      <td>1.000000</td>\n",
       "      <td>1.0</td>\n",
       "      <td>0.000986</td>\n",
       "      <td>1.000000</td>\n",
       "      <td>1.0</td>\n",
       "      <td>1.000000</td>\n",
       "      <td>1.000000</td>\n",
       "      <td>1.0</td>\n",
       "      <td>1.000000</td>\n",
       "    </tr>\n",
       "  </tbody>\n",
       "</table>\n",
       "</div>"
      ],
      "text/plain": [
       "          0         1    2         3         4    5         6         7    8  \\\n",
       "0  1.000000  1.000000  1.0  1.000000  0.000295  1.0  1.000000  1.000000  1.0   \n",
       "1  1.000000  1.000000  1.0  1.000000  1.000000  1.0  0.000022  1.000000  1.0   \n",
       "2  1.000000  1.000000  1.0  1.000000  1.000000  1.0  1.000000  1.000000  1.0   \n",
       "3  1.000000  1.000000  1.0  1.000000  1.000000  1.0  1.000000  0.999984  1.0   \n",
       "4  0.000295  1.000000  1.0  1.000000  1.000000  1.0  1.000000  1.000000  1.0   \n",
       "5  1.000000  1.000000  1.0  1.000000  1.000000  1.0  1.000000  1.000000  1.0   \n",
       "6  1.000000  0.000022  1.0  1.000000  1.000000  1.0  1.000000  1.000000  1.0   \n",
       "7  1.000000  1.000000  1.0  0.999984  1.000000  1.0  1.000000  1.000000  1.0   \n",
       "8  1.000000  1.000000  1.0  1.000000  1.000000  1.0  1.000000  1.000000  1.0   \n",
       "9  1.000000  1.000000  1.0  0.000986  1.000000  1.0  1.000000  1.000000  1.0   \n",
       "\n",
       "          9  \n",
       "0  1.000000  \n",
       "1  1.000000  \n",
       "2  1.000000  \n",
       "3  0.000986  \n",
       "4  1.000000  \n",
       "5  1.000000  \n",
       "6  1.000000  \n",
       "7  1.000000  \n",
       "8  1.000000  \n",
       "9  1.000000  "
      ]
     },
     "metadata": {},
     "output_type": "display_data"
    },
    {
     "name": "stdout",
     "output_type": "stream",
     "text": [
      "Significant Differences:  3\n",
      "\n",
      "GkmExplain GC-bin KS Test:\n"
     ]
    },
    {
     "data": {
      "text/html": [
       "<div>\n",
       "<style scoped>\n",
       "    .dataframe tbody tr th:only-of-type {\n",
       "        vertical-align: middle;\n",
       "    }\n",
       "\n",
       "    .dataframe tbody tr th {\n",
       "        vertical-align: top;\n",
       "    }\n",
       "\n",
       "    .dataframe thead th {\n",
       "        text-align: right;\n",
       "    }\n",
       "</style>\n",
       "<table border=\"1\" class=\"dataframe\">\n",
       "  <thead>\n",
       "    <tr style=\"text-align: right;\">\n",
       "      <th></th>\n",
       "      <th>0</th>\n",
       "      <th>1</th>\n",
       "      <th>2</th>\n",
       "      <th>3</th>\n",
       "      <th>4</th>\n",
       "      <th>5</th>\n",
       "      <th>6</th>\n",
       "      <th>7</th>\n",
       "      <th>8</th>\n",
       "      <th>9</th>\n",
       "    </tr>\n",
       "  </thead>\n",
       "  <tbody>\n",
       "    <tr>\n",
       "      <th>0</th>\n",
       "      <td>1.000000</td>\n",
       "      <td>1.000000</td>\n",
       "      <td>1.0</td>\n",
       "      <td>1.000000</td>\n",
       "      <td>0.000327</td>\n",
       "      <td>1.0</td>\n",
       "      <td>1.000000</td>\n",
       "      <td>1.000000</td>\n",
       "      <td>1.0</td>\n",
       "      <td>1.000000</td>\n",
       "    </tr>\n",
       "    <tr>\n",
       "      <th>1</th>\n",
       "      <td>1.000000</td>\n",
       "      <td>1.000000</td>\n",
       "      <td>1.0</td>\n",
       "      <td>1.000000</td>\n",
       "      <td>1.000000</td>\n",
       "      <td>1.0</td>\n",
       "      <td>0.000016</td>\n",
       "      <td>1.000000</td>\n",
       "      <td>1.0</td>\n",
       "      <td>1.000000</td>\n",
       "    </tr>\n",
       "    <tr>\n",
       "      <th>2</th>\n",
       "      <td>1.000000</td>\n",
       "      <td>1.000000</td>\n",
       "      <td>1.0</td>\n",
       "      <td>1.000000</td>\n",
       "      <td>1.000000</td>\n",
       "      <td>1.0</td>\n",
       "      <td>1.000000</td>\n",
       "      <td>1.000000</td>\n",
       "      <td>1.0</td>\n",
       "      <td>1.000000</td>\n",
       "    </tr>\n",
       "    <tr>\n",
       "      <th>3</th>\n",
       "      <td>1.000000</td>\n",
       "      <td>1.000000</td>\n",
       "      <td>1.0</td>\n",
       "      <td>1.000000</td>\n",
       "      <td>1.000000</td>\n",
       "      <td>1.0</td>\n",
       "      <td>1.000000</td>\n",
       "      <td>0.999986</td>\n",
       "      <td>1.0</td>\n",
       "      <td>0.001213</td>\n",
       "    </tr>\n",
       "    <tr>\n",
       "      <th>4</th>\n",
       "      <td>0.000327</td>\n",
       "      <td>1.000000</td>\n",
       "      <td>1.0</td>\n",
       "      <td>1.000000</td>\n",
       "      <td>1.000000</td>\n",
       "      <td>1.0</td>\n",
       "      <td>1.000000</td>\n",
       "      <td>1.000000</td>\n",
       "      <td>1.0</td>\n",
       "      <td>1.000000</td>\n",
       "    </tr>\n",
       "    <tr>\n",
       "      <th>5</th>\n",
       "      <td>1.000000</td>\n",
       "      <td>1.000000</td>\n",
       "      <td>1.0</td>\n",
       "      <td>1.000000</td>\n",
       "      <td>1.000000</td>\n",
       "      <td>1.0</td>\n",
       "      <td>1.000000</td>\n",
       "      <td>1.000000</td>\n",
       "      <td>1.0</td>\n",
       "      <td>1.000000</td>\n",
       "    </tr>\n",
       "    <tr>\n",
       "      <th>6</th>\n",
       "      <td>1.000000</td>\n",
       "      <td>0.000016</td>\n",
       "      <td>1.0</td>\n",
       "      <td>1.000000</td>\n",
       "      <td>1.000000</td>\n",
       "      <td>1.0</td>\n",
       "      <td>1.000000</td>\n",
       "      <td>1.000000</td>\n",
       "      <td>1.0</td>\n",
       "      <td>1.000000</td>\n",
       "    </tr>\n",
       "    <tr>\n",
       "      <th>7</th>\n",
       "      <td>1.000000</td>\n",
       "      <td>1.000000</td>\n",
       "      <td>1.0</td>\n",
       "      <td>0.999986</td>\n",
       "      <td>1.000000</td>\n",
       "      <td>1.0</td>\n",
       "      <td>1.000000</td>\n",
       "      <td>1.000000</td>\n",
       "      <td>1.0</td>\n",
       "      <td>1.000000</td>\n",
       "    </tr>\n",
       "    <tr>\n",
       "      <th>8</th>\n",
       "      <td>1.000000</td>\n",
       "      <td>1.000000</td>\n",
       "      <td>1.0</td>\n",
       "      <td>1.000000</td>\n",
       "      <td>1.000000</td>\n",
       "      <td>1.0</td>\n",
       "      <td>1.000000</td>\n",
       "      <td>1.000000</td>\n",
       "      <td>1.0</td>\n",
       "      <td>1.000000</td>\n",
       "    </tr>\n",
       "    <tr>\n",
       "      <th>9</th>\n",
       "      <td>1.000000</td>\n",
       "      <td>1.000000</td>\n",
       "      <td>1.0</td>\n",
       "      <td>0.001213</td>\n",
       "      <td>1.000000</td>\n",
       "      <td>1.0</td>\n",
       "      <td>1.000000</td>\n",
       "      <td>1.000000</td>\n",
       "      <td>1.0</td>\n",
       "      <td>1.000000</td>\n",
       "    </tr>\n",
       "  </tbody>\n",
       "</table>\n",
       "</div>"
      ],
      "text/plain": [
       "          0         1    2         3         4    5         6         7    8  \\\n",
       "0  1.000000  1.000000  1.0  1.000000  0.000327  1.0  1.000000  1.000000  1.0   \n",
       "1  1.000000  1.000000  1.0  1.000000  1.000000  1.0  0.000016  1.000000  1.0   \n",
       "2  1.000000  1.000000  1.0  1.000000  1.000000  1.0  1.000000  1.000000  1.0   \n",
       "3  1.000000  1.000000  1.0  1.000000  1.000000  1.0  1.000000  0.999986  1.0   \n",
       "4  0.000327  1.000000  1.0  1.000000  1.000000  1.0  1.000000  1.000000  1.0   \n",
       "5  1.000000  1.000000  1.0  1.000000  1.000000  1.0  1.000000  1.000000  1.0   \n",
       "6  1.000000  0.000016  1.0  1.000000  1.000000  1.0  1.000000  1.000000  1.0   \n",
       "7  1.000000  1.000000  1.0  0.999986  1.000000  1.0  1.000000  1.000000  1.0   \n",
       "8  1.000000  1.000000  1.0  1.000000  1.000000  1.0  1.000000  1.000000  1.0   \n",
       "9  1.000000  1.000000  1.0  0.001213  1.000000  1.0  1.000000  1.000000  1.0   \n",
       "\n",
       "          9  \n",
       "0  1.000000  \n",
       "1  1.000000  \n",
       "2  1.000000  \n",
       "3  0.001213  \n",
       "4  1.000000  \n",
       "5  1.000000  \n",
       "6  1.000000  \n",
       "7  1.000000  \n",
       "8  1.000000  \n",
       "9  1.000000  "
      ]
     },
     "metadata": {},
     "output_type": "display_data"
    },
    {
     "name": "stdout",
     "output_type": "stream",
     "text": [
      "Significant Differences:  3\n",
      "\n",
      "deltaSVM GC-bin KS Test:\n"
     ]
    },
    {
     "data": {
      "text/html": [
       "<div>\n",
       "<style scoped>\n",
       "    .dataframe tbody tr th:only-of-type {\n",
       "        vertical-align: middle;\n",
       "    }\n",
       "\n",
       "    .dataframe tbody tr th {\n",
       "        vertical-align: top;\n",
       "    }\n",
       "\n",
       "    .dataframe thead th {\n",
       "        text-align: right;\n",
       "    }\n",
       "</style>\n",
       "<table border=\"1\" class=\"dataframe\">\n",
       "  <thead>\n",
       "    <tr style=\"text-align: right;\">\n",
       "      <th></th>\n",
       "      <th>0</th>\n",
       "      <th>1</th>\n",
       "      <th>2</th>\n",
       "      <th>3</th>\n",
       "      <th>4</th>\n",
       "      <th>5</th>\n",
       "      <th>6</th>\n",
       "      <th>7</th>\n",
       "      <th>8</th>\n",
       "      <th>9</th>\n",
       "    </tr>\n",
       "  </thead>\n",
       "  <tbody>\n",
       "    <tr>\n",
       "      <th>0</th>\n",
       "      <td>1.000000</td>\n",
       "      <td>1.000000</td>\n",
       "      <td>1.0</td>\n",
       "      <td>1.000000</td>\n",
       "      <td>0.000265</td>\n",
       "      <td>1.0</td>\n",
       "      <td>1.000000</td>\n",
       "      <td>1.000000</td>\n",
       "      <td>1.0</td>\n",
       "      <td>1.000000</td>\n",
       "    </tr>\n",
       "    <tr>\n",
       "      <th>1</th>\n",
       "      <td>1.000000</td>\n",
       "      <td>1.000000</td>\n",
       "      <td>1.0</td>\n",
       "      <td>1.000000</td>\n",
       "      <td>1.000000</td>\n",
       "      <td>1.0</td>\n",
       "      <td>0.000016</td>\n",
       "      <td>1.000000</td>\n",
       "      <td>1.0</td>\n",
       "      <td>1.000000</td>\n",
       "    </tr>\n",
       "    <tr>\n",
       "      <th>2</th>\n",
       "      <td>1.000000</td>\n",
       "      <td>1.000000</td>\n",
       "      <td>1.0</td>\n",
       "      <td>1.000000</td>\n",
       "      <td>1.000000</td>\n",
       "      <td>1.0</td>\n",
       "      <td>1.000000</td>\n",
       "      <td>1.000000</td>\n",
       "      <td>1.0</td>\n",
       "      <td>1.000000</td>\n",
       "    </tr>\n",
       "    <tr>\n",
       "      <th>3</th>\n",
       "      <td>1.000000</td>\n",
       "      <td>1.000000</td>\n",
       "      <td>1.0</td>\n",
       "      <td>1.000000</td>\n",
       "      <td>1.000000</td>\n",
       "      <td>1.0</td>\n",
       "      <td>1.000000</td>\n",
       "      <td>0.999984</td>\n",
       "      <td>1.0</td>\n",
       "      <td>0.000888</td>\n",
       "    </tr>\n",
       "    <tr>\n",
       "      <th>4</th>\n",
       "      <td>0.000265</td>\n",
       "      <td>1.000000</td>\n",
       "      <td>1.0</td>\n",
       "      <td>1.000000</td>\n",
       "      <td>1.000000</td>\n",
       "      <td>1.0</td>\n",
       "      <td>1.000000</td>\n",
       "      <td>1.000000</td>\n",
       "      <td>1.0</td>\n",
       "      <td>1.000000</td>\n",
       "    </tr>\n",
       "    <tr>\n",
       "      <th>5</th>\n",
       "      <td>1.000000</td>\n",
       "      <td>1.000000</td>\n",
       "      <td>1.0</td>\n",
       "      <td>1.000000</td>\n",
       "      <td>1.000000</td>\n",
       "      <td>1.0</td>\n",
       "      <td>1.000000</td>\n",
       "      <td>1.000000</td>\n",
       "      <td>1.0</td>\n",
       "      <td>1.000000</td>\n",
       "    </tr>\n",
       "    <tr>\n",
       "      <th>6</th>\n",
       "      <td>1.000000</td>\n",
       "      <td>0.000016</td>\n",
       "      <td>1.0</td>\n",
       "      <td>1.000000</td>\n",
       "      <td>1.000000</td>\n",
       "      <td>1.0</td>\n",
       "      <td>1.000000</td>\n",
       "      <td>1.000000</td>\n",
       "      <td>1.0</td>\n",
       "      <td>1.000000</td>\n",
       "    </tr>\n",
       "    <tr>\n",
       "      <th>7</th>\n",
       "      <td>1.000000</td>\n",
       "      <td>1.000000</td>\n",
       "      <td>1.0</td>\n",
       "      <td>0.999984</td>\n",
       "      <td>1.000000</td>\n",
       "      <td>1.0</td>\n",
       "      <td>1.000000</td>\n",
       "      <td>1.000000</td>\n",
       "      <td>1.0</td>\n",
       "      <td>1.000000</td>\n",
       "    </tr>\n",
       "    <tr>\n",
       "      <th>8</th>\n",
       "      <td>1.000000</td>\n",
       "      <td>1.000000</td>\n",
       "      <td>1.0</td>\n",
       "      <td>1.000000</td>\n",
       "      <td>1.000000</td>\n",
       "      <td>1.0</td>\n",
       "      <td>1.000000</td>\n",
       "      <td>1.000000</td>\n",
       "      <td>1.0</td>\n",
       "      <td>1.000000</td>\n",
       "    </tr>\n",
       "    <tr>\n",
       "      <th>9</th>\n",
       "      <td>1.000000</td>\n",
       "      <td>1.000000</td>\n",
       "      <td>1.0</td>\n",
       "      <td>0.000888</td>\n",
       "      <td>1.000000</td>\n",
       "      <td>1.0</td>\n",
       "      <td>1.000000</td>\n",
       "      <td>1.000000</td>\n",
       "      <td>1.0</td>\n",
       "      <td>1.000000</td>\n",
       "    </tr>\n",
       "  </tbody>\n",
       "</table>\n",
       "</div>"
      ],
      "text/plain": [
       "          0         1    2         3         4    5         6         7    8  \\\n",
       "0  1.000000  1.000000  1.0  1.000000  0.000265  1.0  1.000000  1.000000  1.0   \n",
       "1  1.000000  1.000000  1.0  1.000000  1.000000  1.0  0.000016  1.000000  1.0   \n",
       "2  1.000000  1.000000  1.0  1.000000  1.000000  1.0  1.000000  1.000000  1.0   \n",
       "3  1.000000  1.000000  1.0  1.000000  1.000000  1.0  1.000000  0.999984  1.0   \n",
       "4  0.000265  1.000000  1.0  1.000000  1.000000  1.0  1.000000  1.000000  1.0   \n",
       "5  1.000000  1.000000  1.0  1.000000  1.000000  1.0  1.000000  1.000000  1.0   \n",
       "6  1.000000  0.000016  1.0  1.000000  1.000000  1.0  1.000000  1.000000  1.0   \n",
       "7  1.000000  1.000000  1.0  0.999984  1.000000  1.0  1.000000  1.000000  1.0   \n",
       "8  1.000000  1.000000  1.0  1.000000  1.000000  1.0  1.000000  1.000000  1.0   \n",
       "9  1.000000  1.000000  1.0  0.000888  1.000000  1.0  1.000000  1.000000  1.0   \n",
       "\n",
       "          9  \n",
       "0  1.000000  \n",
       "1  1.000000  \n",
       "2  1.000000  \n",
       "3  0.000888  \n",
       "4  1.000000  \n",
       "5  1.000000  \n",
       "6  1.000000  \n",
       "7  1.000000  \n",
       "8  1.000000  \n",
       "9  1.000000  "
      ]
     },
     "metadata": {},
     "output_type": "display_data"
    },
    {
     "name": "stdout",
     "output_type": "stream",
     "text": [
      "Significant Differences:  3\n",
      "\n",
      "Magnitude GC-bin KS Test:\n"
     ]
    },
    {
     "data": {
      "text/html": [
       "<div>\n",
       "<style scoped>\n",
       "    .dataframe tbody tr th:only-of-type {\n",
       "        vertical-align: middle;\n",
       "    }\n",
       "\n",
       "    .dataframe tbody tr th {\n",
       "        vertical-align: top;\n",
       "    }\n",
       "\n",
       "    .dataframe thead th {\n",
       "        text-align: right;\n",
       "    }\n",
       "</style>\n",
       "<table border=\"1\" class=\"dataframe\">\n",
       "  <thead>\n",
       "    <tr style=\"text-align: right;\">\n",
       "      <th></th>\n",
       "      <th>0</th>\n",
       "      <th>1</th>\n",
       "      <th>2</th>\n",
       "      <th>3</th>\n",
       "      <th>4</th>\n",
       "      <th>5</th>\n",
       "      <th>6</th>\n",
       "      <th>7</th>\n",
       "      <th>8</th>\n",
       "      <th>9</th>\n",
       "    </tr>\n",
       "  </thead>\n",
       "  <tbody>\n",
       "    <tr>\n",
       "      <th>0</th>\n",
       "      <td>1.000000e+00</td>\n",
       "      <td>1.000000</td>\n",
       "      <td>1.0</td>\n",
       "      <td>1.000000</td>\n",
       "      <td>5.187480e-12</td>\n",
       "      <td>1.0</td>\n",
       "      <td>1.000000</td>\n",
       "      <td>1.000000</td>\n",
       "      <td>1.0</td>\n",
       "      <td>1.000000</td>\n",
       "    </tr>\n",
       "    <tr>\n",
       "      <th>1</th>\n",
       "      <td>1.000000e+00</td>\n",
       "      <td>1.000000</td>\n",
       "      <td>1.0</td>\n",
       "      <td>1.000000</td>\n",
       "      <td>1.000000e+00</td>\n",
       "      <td>1.0</td>\n",
       "      <td>0.000472</td>\n",
       "      <td>1.000000</td>\n",
       "      <td>1.0</td>\n",
       "      <td>1.000000</td>\n",
       "    </tr>\n",
       "    <tr>\n",
       "      <th>2</th>\n",
       "      <td>1.000000e+00</td>\n",
       "      <td>1.000000</td>\n",
       "      <td>1.0</td>\n",
       "      <td>1.000000</td>\n",
       "      <td>1.000000e+00</td>\n",
       "      <td>1.0</td>\n",
       "      <td>1.000000</td>\n",
       "      <td>1.000000</td>\n",
       "      <td>1.0</td>\n",
       "      <td>1.000000</td>\n",
       "    </tr>\n",
       "    <tr>\n",
       "      <th>3</th>\n",
       "      <td>1.000000e+00</td>\n",
       "      <td>1.000000</td>\n",
       "      <td>1.0</td>\n",
       "      <td>1.000000</td>\n",
       "      <td>1.000000e+00</td>\n",
       "      <td>1.0</td>\n",
       "      <td>1.000000</td>\n",
       "      <td>0.999979</td>\n",
       "      <td>1.0</td>\n",
       "      <td>0.000024</td>\n",
       "    </tr>\n",
       "    <tr>\n",
       "      <th>4</th>\n",
       "      <td>5.187480e-12</td>\n",
       "      <td>1.000000</td>\n",
       "      <td>1.0</td>\n",
       "      <td>1.000000</td>\n",
       "      <td>1.000000e+00</td>\n",
       "      <td>1.0</td>\n",
       "      <td>1.000000</td>\n",
       "      <td>1.000000</td>\n",
       "      <td>1.0</td>\n",
       "      <td>1.000000</td>\n",
       "    </tr>\n",
       "    <tr>\n",
       "      <th>5</th>\n",
       "      <td>1.000000e+00</td>\n",
       "      <td>1.000000</td>\n",
       "      <td>1.0</td>\n",
       "      <td>1.000000</td>\n",
       "      <td>1.000000e+00</td>\n",
       "      <td>1.0</td>\n",
       "      <td>1.000000</td>\n",
       "      <td>1.000000</td>\n",
       "      <td>1.0</td>\n",
       "      <td>1.000000</td>\n",
       "    </tr>\n",
       "    <tr>\n",
       "      <th>6</th>\n",
       "      <td>1.000000e+00</td>\n",
       "      <td>0.000472</td>\n",
       "      <td>1.0</td>\n",
       "      <td>1.000000</td>\n",
       "      <td>1.000000e+00</td>\n",
       "      <td>1.0</td>\n",
       "      <td>1.000000</td>\n",
       "      <td>1.000000</td>\n",
       "      <td>1.0</td>\n",
       "      <td>1.000000</td>\n",
       "    </tr>\n",
       "    <tr>\n",
       "      <th>7</th>\n",
       "      <td>1.000000e+00</td>\n",
       "      <td>1.000000</td>\n",
       "      <td>1.0</td>\n",
       "      <td>0.999979</td>\n",
       "      <td>1.000000e+00</td>\n",
       "      <td>1.0</td>\n",
       "      <td>1.000000</td>\n",
       "      <td>1.000000</td>\n",
       "      <td>1.0</td>\n",
       "      <td>1.000000</td>\n",
       "    </tr>\n",
       "    <tr>\n",
       "      <th>8</th>\n",
       "      <td>1.000000e+00</td>\n",
       "      <td>1.000000</td>\n",
       "      <td>1.0</td>\n",
       "      <td>1.000000</td>\n",
       "      <td>1.000000e+00</td>\n",
       "      <td>1.0</td>\n",
       "      <td>1.000000</td>\n",
       "      <td>1.000000</td>\n",
       "      <td>1.0</td>\n",
       "      <td>1.000000</td>\n",
       "    </tr>\n",
       "    <tr>\n",
       "      <th>9</th>\n",
       "      <td>1.000000e+00</td>\n",
       "      <td>1.000000</td>\n",
       "      <td>1.0</td>\n",
       "      <td>0.000024</td>\n",
       "      <td>1.000000e+00</td>\n",
       "      <td>1.0</td>\n",
       "      <td>1.000000</td>\n",
       "      <td>1.000000</td>\n",
       "      <td>1.0</td>\n",
       "      <td>1.000000</td>\n",
       "    </tr>\n",
       "  </tbody>\n",
       "</table>\n",
       "</div>"
      ],
      "text/plain": [
       "              0         1    2         3             4    5         6  \\\n",
       "0  1.000000e+00  1.000000  1.0  1.000000  5.187480e-12  1.0  1.000000   \n",
       "1  1.000000e+00  1.000000  1.0  1.000000  1.000000e+00  1.0  0.000472   \n",
       "2  1.000000e+00  1.000000  1.0  1.000000  1.000000e+00  1.0  1.000000   \n",
       "3  1.000000e+00  1.000000  1.0  1.000000  1.000000e+00  1.0  1.000000   \n",
       "4  5.187480e-12  1.000000  1.0  1.000000  1.000000e+00  1.0  1.000000   \n",
       "5  1.000000e+00  1.000000  1.0  1.000000  1.000000e+00  1.0  1.000000   \n",
       "6  1.000000e+00  0.000472  1.0  1.000000  1.000000e+00  1.0  1.000000   \n",
       "7  1.000000e+00  1.000000  1.0  0.999979  1.000000e+00  1.0  1.000000   \n",
       "8  1.000000e+00  1.000000  1.0  1.000000  1.000000e+00  1.0  1.000000   \n",
       "9  1.000000e+00  1.000000  1.0  0.000024  1.000000e+00  1.0  1.000000   \n",
       "\n",
       "          7    8         9  \n",
       "0  1.000000  1.0  1.000000  \n",
       "1  1.000000  1.0  1.000000  \n",
       "2  1.000000  1.0  1.000000  \n",
       "3  0.999979  1.0  0.000024  \n",
       "4  1.000000  1.0  1.000000  \n",
       "5  1.000000  1.0  1.000000  \n",
       "6  1.000000  1.0  1.000000  \n",
       "7  1.000000  1.0  1.000000  \n",
       "8  1.000000  1.0  1.000000  \n",
       "9  1.000000  1.0  1.000000  "
      ]
     },
     "metadata": {},
     "output_type": "display_data"
    },
    {
     "name": "stdout",
     "output_type": "stream",
     "text": [
      "Significant Differences:  3\n",
      "\n",
      "Prominence GC-bin KS Test:\n"
     ]
    },
    {
     "data": {
      "text/html": [
       "<div>\n",
       "<style scoped>\n",
       "    .dataframe tbody tr th:only-of-type {\n",
       "        vertical-align: middle;\n",
       "    }\n",
       "\n",
       "    .dataframe tbody tr th {\n",
       "        vertical-align: top;\n",
       "    }\n",
       "\n",
       "    .dataframe thead th {\n",
       "        text-align: right;\n",
       "    }\n",
       "</style>\n",
       "<table border=\"1\" class=\"dataframe\">\n",
       "  <thead>\n",
       "    <tr style=\"text-align: right;\">\n",
       "      <th></th>\n",
       "      <th>0</th>\n",
       "      <th>1</th>\n",
       "      <th>2</th>\n",
       "      <th>3</th>\n",
       "      <th>4</th>\n",
       "      <th>5</th>\n",
       "      <th>6</th>\n",
       "      <th>7</th>\n",
       "      <th>8</th>\n",
       "      <th>9</th>\n",
       "    </tr>\n",
       "  </thead>\n",
       "  <tbody>\n",
       "    <tr>\n",
       "      <th>0</th>\n",
       "      <td>1.000000</td>\n",
       "      <td>1.000000</td>\n",
       "      <td>1.0</td>\n",
       "      <td>1.000000</td>\n",
       "      <td>0.000064</td>\n",
       "      <td>1.0</td>\n",
       "      <td>1.000000</td>\n",
       "      <td>1.0</td>\n",
       "      <td>1.0</td>\n",
       "      <td>1.000000</td>\n",
       "    </tr>\n",
       "    <tr>\n",
       "      <th>1</th>\n",
       "      <td>1.000000</td>\n",
       "      <td>1.000000</td>\n",
       "      <td>1.0</td>\n",
       "      <td>1.000000</td>\n",
       "      <td>1.000000</td>\n",
       "      <td>1.0</td>\n",
       "      <td>0.137421</td>\n",
       "      <td>1.0</td>\n",
       "      <td>1.0</td>\n",
       "      <td>1.000000</td>\n",
       "    </tr>\n",
       "    <tr>\n",
       "      <th>2</th>\n",
       "      <td>1.000000</td>\n",
       "      <td>1.000000</td>\n",
       "      <td>1.0</td>\n",
       "      <td>1.000000</td>\n",
       "      <td>1.000000</td>\n",
       "      <td>1.0</td>\n",
       "      <td>1.000000</td>\n",
       "      <td>1.0</td>\n",
       "      <td>1.0</td>\n",
       "      <td>1.000000</td>\n",
       "    </tr>\n",
       "    <tr>\n",
       "      <th>3</th>\n",
       "      <td>1.000000</td>\n",
       "      <td>1.000000</td>\n",
       "      <td>1.0</td>\n",
       "      <td>1.000000</td>\n",
       "      <td>1.000000</td>\n",
       "      <td>1.0</td>\n",
       "      <td>1.000000</td>\n",
       "      <td>1.0</td>\n",
       "      <td>1.0</td>\n",
       "      <td>0.015051</td>\n",
       "    </tr>\n",
       "    <tr>\n",
       "      <th>4</th>\n",
       "      <td>0.000064</td>\n",
       "      <td>1.000000</td>\n",
       "      <td>1.0</td>\n",
       "      <td>1.000000</td>\n",
       "      <td>1.000000</td>\n",
       "      <td>1.0</td>\n",
       "      <td>1.000000</td>\n",
       "      <td>1.0</td>\n",
       "      <td>1.0</td>\n",
       "      <td>1.000000</td>\n",
       "    </tr>\n",
       "    <tr>\n",
       "      <th>5</th>\n",
       "      <td>1.000000</td>\n",
       "      <td>1.000000</td>\n",
       "      <td>1.0</td>\n",
       "      <td>1.000000</td>\n",
       "      <td>1.000000</td>\n",
       "      <td>1.0</td>\n",
       "      <td>1.000000</td>\n",
       "      <td>1.0</td>\n",
       "      <td>1.0</td>\n",
       "      <td>1.000000</td>\n",
       "    </tr>\n",
       "    <tr>\n",
       "      <th>6</th>\n",
       "      <td>1.000000</td>\n",
       "      <td>0.137421</td>\n",
       "      <td>1.0</td>\n",
       "      <td>1.000000</td>\n",
       "      <td>1.000000</td>\n",
       "      <td>1.0</td>\n",
       "      <td>1.000000</td>\n",
       "      <td>1.0</td>\n",
       "      <td>1.0</td>\n",
       "      <td>1.000000</td>\n",
       "    </tr>\n",
       "    <tr>\n",
       "      <th>7</th>\n",
       "      <td>1.000000</td>\n",
       "      <td>1.000000</td>\n",
       "      <td>1.0</td>\n",
       "      <td>1.000000</td>\n",
       "      <td>1.000000</td>\n",
       "      <td>1.0</td>\n",
       "      <td>1.000000</td>\n",
       "      <td>1.0</td>\n",
       "      <td>1.0</td>\n",
       "      <td>1.000000</td>\n",
       "    </tr>\n",
       "    <tr>\n",
       "      <th>8</th>\n",
       "      <td>1.000000</td>\n",
       "      <td>1.000000</td>\n",
       "      <td>1.0</td>\n",
       "      <td>1.000000</td>\n",
       "      <td>1.000000</td>\n",
       "      <td>1.0</td>\n",
       "      <td>1.000000</td>\n",
       "      <td>1.0</td>\n",
       "      <td>1.0</td>\n",
       "      <td>1.000000</td>\n",
       "    </tr>\n",
       "    <tr>\n",
       "      <th>9</th>\n",
       "      <td>1.000000</td>\n",
       "      <td>1.000000</td>\n",
       "      <td>1.0</td>\n",
       "      <td>0.015051</td>\n",
       "      <td>1.000000</td>\n",
       "      <td>1.0</td>\n",
       "      <td>1.000000</td>\n",
       "      <td>1.0</td>\n",
       "      <td>1.0</td>\n",
       "      <td>1.000000</td>\n",
       "    </tr>\n",
       "  </tbody>\n",
       "</table>\n",
       "</div>"
      ],
      "text/plain": [
       "          0         1    2         3         4    5         6    7    8  \\\n",
       "0  1.000000  1.000000  1.0  1.000000  0.000064  1.0  1.000000  1.0  1.0   \n",
       "1  1.000000  1.000000  1.0  1.000000  1.000000  1.0  0.137421  1.0  1.0   \n",
       "2  1.000000  1.000000  1.0  1.000000  1.000000  1.0  1.000000  1.0  1.0   \n",
       "3  1.000000  1.000000  1.0  1.000000  1.000000  1.0  1.000000  1.0  1.0   \n",
       "4  0.000064  1.000000  1.0  1.000000  1.000000  1.0  1.000000  1.0  1.0   \n",
       "5  1.000000  1.000000  1.0  1.000000  1.000000  1.0  1.000000  1.0  1.0   \n",
       "6  1.000000  0.137421  1.0  1.000000  1.000000  1.0  1.000000  1.0  1.0   \n",
       "7  1.000000  1.000000  1.0  1.000000  1.000000  1.0  1.000000  1.0  1.0   \n",
       "8  1.000000  1.000000  1.0  1.000000  1.000000  1.0  1.000000  1.0  1.0   \n",
       "9  1.000000  1.000000  1.0  0.015051  1.000000  1.0  1.000000  1.0  1.0   \n",
       "\n",
       "          9  \n",
       "0  1.000000  \n",
       "1  1.000000  \n",
       "2  1.000000  \n",
       "3  0.015051  \n",
       "4  1.000000  \n",
       "5  1.000000  \n",
       "6  1.000000  \n",
       "7  1.000000  \n",
       "8  1.000000  \n",
       "9  1.000000  "
      ]
     },
     "metadata": {},
     "output_type": "display_data"
    },
    {
     "name": "stdout",
     "output_type": "stream",
     "text": [
      "Significant Differences:  1\n"
     ]
    }
   ],
   "source": [
    "null_ism_kstest_dict = {0:[], 1:[], 2:[], 3:[], 4:[], 5:[], 6:[], 7:[], 8:[], 9:[]}\n",
    "null_explain_kstest_dict = {0:[], 1:[], 2:[], 3:[], 4:[], 5:[], 6:[], 7:[], 8:[], 9:[]}\n",
    "null_delta_kstest_dict = {0:[], 1:[], 2:[], 3:[], 4:[], 5:[], 6:[], 7:[], 8:[], 9:[]}\n",
    "null_magnitude_kstest_dict = {0:[], 1:[], 2:[], 3:[], 4:[], 5:[], 6:[], 7:[], 8:[], 9:[]}\n",
    "null_prominence_kstest_dict = {0:[], 1:[], 2:[], 3:[], 4:[], 5:[], 6:[], 7:[], 8:[], 9:[]}\n",
    "\n",
    "for i in range(10):\n",
    "    for j in range(10):\n",
    "        null_ism_kstest_dict[j].append(ks_2samp(list(null_scores.loc[null_scores['gc_bin'] == i]['null_ism_score']),\n",
    "                                                      list(null_scores.loc[null_scores['gc_bin'] == j]['null_ism_score']))[1])\n",
    "        null_explain_kstest_dict[j].append(ks_2samp(list(null_scores.loc[null_scores['gc_bin'] == i]['null_explain_score']),\n",
    "                                                          list(null_scores.loc[null_scores['gc_bin'] == j]['null_explain_score']))[1])\n",
    "        null_delta_kstest_dict[j].append(ks_2samp(list(null_scores.loc[null_scores['gc_bin'] == i]['null_delta_score']),\n",
    "                                                        list(null_scores.loc[null_scores['gc_bin'] == j]['null_delta_score']))[1])\n",
    "        null_magnitude_kstest_dict[j].append(ks_2samp(list(null_scores.loc[null_scores['gc_bin'] == i]['null_magnitude_score']),\n",
    "                                                            list(null_scores.loc[null_scores['gc_bin'] == j]['null_magnitude_score']))[1])\n",
    "        null_prominence_kstest_dict[j].append(ks_2samp(list(null_scores.loc[null_scores['gc_bin'] == i]['null_prominence_score']),\n",
    "                                                             list(null_scores.loc[null_scores['gc_bin'] == j]['null_prominence_score']))[1])\n",
    "        \n",
    "null_ism_kstest_df = pd.DataFrame.from_dict(null_ism_kstest_dict)\n",
    "print('ISM GC-bin KS Test:')\n",
    "display(null_ism_kstest_df)\n",
    "print('Significant Differences: ', int(sum([(null_ism_kstest_df[i] < 0.01).sum() for i in range(10)]) / 2))\n",
    "print()\n",
    "null_explain_kstest_df = pd.DataFrame.from_dict(null_explain_kstest_dict)\n",
    "print('GkmExplain GC-bin KS Test:')\n",
    "display(null_explain_kstest_df)\n",
    "print('Significant Differences: ', int(sum([(null_explain_kstest_df[i] < 0.01).sum() for i in range(10)]) / 2))\n",
    "print()\n",
    "null_delta_kstest_df = pd.DataFrame.from_dict(null_delta_kstest_dict)\n",
    "print('deltaSVM GC-bin KS Test:')\n",
    "display(null_delta_kstest_df)\n",
    "print('Significant Differences: ', int(sum([(null_delta_kstest_df[i] < 0.01).sum() for i in range(10)]) / 2))\n",
    "print()\n",
    "null_magnitude_kstest_df = pd.DataFrame.from_dict(null_magnitude_kstest_dict)\n",
    "print('Magnitude GC-bin KS Test:')\n",
    "display(null_magnitude_kstest_df)\n",
    "print('Significant Differences: ', int(sum([(null_magnitude_kstest_df[i] < 0.01).sum() for i in range(10)]) / 2))\n",
    "print()\n",
    "null_prominence_kstest_df = pd.DataFrame.from_dict(null_prominence_kstest_dict)\n",
    "print('Prominence GC-bin KS Test:')\n",
    "display(null_prominence_kstest_df)\n",
    "print('Significant Differences: ', int(sum([(null_prominence_kstest_df[i] < 0.01).sum() for i in range(10)]) / 2))"
   ]
  },
  {
   "cell_type": "markdown",
   "metadata": {},
   "source": [
    "# Plot Null GkmExplain Score Distribution by GC Bin <a name='plot_score_distrib' />"
   ]
  },
  {
   "cell_type": "code",
   "execution_count": 13,
   "metadata": {},
   "outputs": [
    {
     "data": {
      "image/png": "[encoded data removed]",
      "text/plain": [
       "<Figure size 640x480 with 10 Axes>"
      ]
     },
     "metadata": {},
     "output_type": "display_data"
    },
    {
     "data": {
      "text/plain": [
       "<ggplot: (8733732792917)>"
      ]
     },
     "metadata": {},
     "output_type": "display_data"
    }
   ],
   "source": [
    "display(ggplot(data=null_scores, mapping=aes(x='null_explain_score'))\n",
    "        + geom_histogram(bins=100)\n",
    "        + labs(title='Null GkmExplain Scores by GC Bin: Cluster ' + cluster, x='GkmExplain Score')\n",
    "        + facet_wrap(\"gc_bin\"))"
   ]
  },
  {
   "cell_type": "markdown",
   "metadata": {},
   "source": [
    "# Fit Distribution to Null GkmExplain Scores"
   ]
  },
  {
   "cell_type": "code",
   "execution_count": 14,
   "metadata": {},
   "outputs": [
    {
     "name": "stdout",
     "output_type": "stream",
     "text": [
      "Fitted t Distribution: \n",
      "\n",
      "Mean: \t -0.003830460204619167\n",
      "Stdev: \t 0.16754682468304932\n",
      "\n",
      "KstestResult(statistic=0.006760102176243232, pvalue=0.11760859551397507)\n",
      "\n"
     ]
    },
    {
     "data": {
      "image/png": "[encoded data removed]",
      "text/plain": [
       "<Figure size 640x480 with 1 Axes>"
      ]
     },
     "metadata": {},
     "output_type": "display_data"
    },
    {
     "data": {
      "text/plain": [
       "<ggplot: (8733709893419)>"
      ]
     },
     "metadata": {},
     "output_type": "display_data"
    }
   ],
   "source": [
    "distrib_name = 't'\n",
    "distrib = getattr(scipy.stats, distrib_name)\n",
    "explain_params = distrib.fit(merged_null_explain_scores)\n",
    "x_explain = np.linspace(distrib.ppf(0.0001, *explain_params[:-2], explain_params[-2], explain_params[-1]),\n",
    "                        distrib.ppf(0.9999, *explain_params[:-2], explain_params[-2], explain_params[-1]), 10000)\n",
    "y_explain = distrib.pdf(x_explain, *explain_params[:-2], explain_params[-2], explain_params[-1])\n",
    "distrib_explain = pd.DataFrame(list(zip(x_explain, y_explain)), columns =['x', 'y'])\n",
    "\n",
    "print('Fitted ' + distrib_name + ' Distribution: ')\n",
    "print()\n",
    "print('Mean:', '\\t', explain_params[-2])\n",
    "print('Stdev:', '\\t', explain_params[-1])\n",
    "print()\n",
    "print(kstest(merged_null_explain_scores, distrib_name, args=[*explain_params[:-2], explain_params[-2], explain_params[-1]]))\n",
    "print()\n",
    "\n",
    "display(ggplot(data=null_scores, mapping=aes(x='null_explain_score'))\n",
    "        + geom_histogram(mapping=aes(y='stat(density)'), fill='#ffa500', alpha=0.8, bins=100)\n",
    "        + labs(title='GkmExplain Scores: Cluster ' + cluster, x='GkmExplain Score')\n",
    "        + geom_line(data=distrib_explain, mapping=aes(x='x', y='y'), color='red', size=1)\n",
    "        + geom_vline(mapping=aes(xintercept=distrib.ppf(0.025, *explain_params[:-2], explain_params[-2], explain_params[-1])), color='red')\n",
    "        + geom_vline(mapping=aes(xintercept=distrib.ppf(0.975, *explain_params[:-2], explain_params[-2], explain_params[-1])), color='red')\n",
    "        + geom_histogram(data=snp_scores, mapping=aes(x='explain_score', y='stat(density)'), fill='#0000ff', alpha=0.2, bins=50))"
   ]
  },
  {
   "cell_type": "markdown",
   "metadata": {},
   "source": [
    "# Plot Null ISM Score Distribution by GC Bin"
   ]
  },
  {
   "cell_type": "code",
   "execution_count": 15,
   "metadata": {},
   "outputs": [
    {
     "data": {
      "image/png": "[encoded data removed]",
      "text/plain": [
       "<Figure size 640x480 with 10 Axes>"
      ]
     },
     "metadata": {},
     "output_type": "display_data"
    },
    {
     "data": {
      "text/plain": [
       "<ggplot: (-9223363303144890750)>"
      ]
     },
     "metadata": {},
     "output_type": "display_data"
    }
   ],
   "source": [
    "display(ggplot(data=null_scores, mapping=aes(x='null_ism_score'))\n",
    "        + geom_histogram(bins=100)\n",
    "        + labs(title='Null ISM Scores by GC Bin: Cluster ' + cluster, x='ISM Score')\n",
    "        + facet_wrap(\"gc_bin\"))"
   ]
  },
  {
   "cell_type": "markdown",
   "metadata": {},
   "source": [
    "# Fit Distribution to Null ISM Scores"
   ]
  },
  {
   "cell_type": "code",
   "execution_count": 16,
   "metadata": {},
   "outputs": [
    {
     "name": "stdout",
     "output_type": "stream",
     "text": [
      "Fitted t Distribution: \n",
      "\n",
      "Mean: \t -0.005675427180929168\n",
      "Stdev: \t 0.24973422636910528\n",
      "\n",
      "KstestResult(statistic=0.006729789734017888, pvalue=0.12062644742501567)\n",
      "\n"
     ]
    },
    {
     "data": {
      "image/png": "[encoded data removed]",
      "text/plain": [
       "<Figure size 640x480 with 1 Axes>"
      ]
     },
     "metadata": {},
     "output_type": "display_data"
    },
    {
     "data": {
      "text/plain": [
       "<ggplot: (-9223363303153980896)>"
      ]
     },
     "metadata": {},
     "output_type": "display_data"
    }
   ],
   "source": [
    "distrib_name = 't'\n",
    "distrib = getattr(scipy.stats, distrib_name)\n",
    "ism_params = distrib.fit(merged_null_ism_scores)\n",
    "x_ism = np.linspace(distrib.ppf(0.0001, *ism_params[:-2], ism_params[-2], ism_params[-1]),\n",
    "                        distrib.ppf(0.9999, *ism_params[:-2], ism_params[-2], ism_params[-1]), 10000)\n",
    "y_ism = distrib.pdf(x_ism, *ism_params[:-2], ism_params[-2], ism_params[-1])\n",
    "distrib_ism = pd.DataFrame(list(zip(x_ism, y_ism)), columns =['x', 'y'])\n",
    "\n",
    "print('Fitted ' + distrib_name + ' Distribution: ')\n",
    "print()\n",
    "print('Mean:', '\\t', ism_params[-2])\n",
    "print('Stdev:', '\\t', ism_params[-1])\n",
    "print()\n",
    "print(kstest(merged_null_ism_scores, distrib_name, args=[*ism_params[:-2], ism_params[-2], ism_params[-1]]))\n",
    "print()\n",
    "\n",
    "display(ggplot(data=null_scores, mapping=aes(x='null_ism_score'))\n",
    "        + geom_histogram(mapping=aes(y='stat(density)'), fill='#ffa500', alpha=0.8, bins=100)\n",
    "        + labs(title='ISM Scores: Cluster ' + cluster, x='ISM Score')\n",
    "        + geom_line(data=distrib_ism, mapping=aes(x='x', y='y'), color='red', size=1)\n",
    "        + geom_vline(mapping=aes(xintercept=distrib.ppf(0.025, *ism_params[:-2], ism_params[-2], ism_params[-1])), color='red')\n",
    "        + geom_vline(mapping=aes(xintercept=distrib.ppf(0.975, *ism_params[:-2], ism_params[-2], ism_params[-1])), color='red')\n",
    "        + geom_histogram(data=snp_scores, mapping=aes(x='ism_score', y='stat(density)'), fill='#0000ff', alpha=0.2, bins=50))"
   ]
  },
  {
   "cell_type": "markdown",
   "metadata": {},
   "source": [
    "# Plot Null deltaSVM Score Distribution by GC Bin"
   ]
  },
  {
   "cell_type": "code",
   "execution_count": 17,
   "metadata": {},
   "outputs": [
    {
     "data": {
      "image/png": "[encoded data removed]",
      "text/plain": [
       "<Figure size 640x480 with 10 Axes>"
      ]
     },
     "metadata": {},
     "output_type": "display_data"
    },
    {
     "data": {
      "text/plain": [
       "<ggplot: (8733700789298)>"
      ]
     },
     "metadata": {},
     "output_type": "display_data"
    }
   ],
   "source": [
    "display(ggplot(data=null_scores, mapping=aes(x='null_delta_score'))\n",
    "        + geom_histogram(bins=100)\n",
    "        + labs(title='Null deltaSVM Scores by GC Bin: Cluster ' + cluster, x='deltaSVM Score')\n",
    "        + facet_wrap(\"gc_bin\"))"
   ]
  },
  {
   "cell_type": "markdown",
   "metadata": {},
   "source": [
    "# Fit Distribution to Null deltaSVM Scores"
   ]
  },
  {
   "cell_type": "code",
   "execution_count": 18,
   "metadata": {},
   "outputs": [
    {
     "name": "stdout",
     "output_type": "stream",
     "text": [
      "Fitted t Distribution: \n",
      "\n",
      "Mean: \t -0.033124648620840864\n",
      "Stdev: \t 1.4418415125047561\n",
      "\n",
      "KstestResult(statistic=0.006433341387540217, pvalue=0.1536074071147941)\n",
      "\n"
     ]
    },
    {
     "data": {
      "image/png": "[encoded data removed]",
      "text/plain": [
       "<Figure size 640x480 with 1 Axes>"
      ]
     },
     "metadata": {},
     "output_type": "display_data"
    },
    {
     "data": {
      "text/plain": [
       "<ggplot: (-9223363303154339005)>"
      ]
     },
     "metadata": {},
     "output_type": "display_data"
    }
   ],
   "source": [
    "distrib_name = 't'\n",
    "distrib = getattr(scipy.stats, distrib_name)\n",
    "delta_params = distrib.fit(merged_null_delta_scores)\n",
    "x_delta = np.linspace(distrib.ppf(0.0001, *delta_params[:-2], delta_params[-2], delta_params[-1]),\n",
    "                        distrib.ppf(0.9999, *delta_params[:-2], delta_params[-2], delta_params[-1]), 10000)\n",
    "y_delta = distrib.pdf(x_delta, *delta_params[:-2], delta_params[-2], delta_params[-1])\n",
    "distrib_delta = pd.DataFrame(list(zip(x_delta, y_delta)), columns =['x', 'y'])\n",
    "\n",
    "print('Fitted ' + distrib_name + ' Distribution: ')\n",
    "print()\n",
    "print('Mean:', '\\t', delta_params[-2])\n",
    "print('Stdev:', '\\t', delta_params[-1])\n",
    "print()\n",
    "print(kstest(merged_null_delta_scores, distrib_name, args=[*delta_params[:-2], delta_params[-2], delta_params[-1]]))\n",
    "print()\n",
    "\n",
    "display(ggplot(data=null_scores, mapping=aes(x='null_delta_score'))\n",
    "        + geom_histogram(mapping=aes(y='stat(density)'), fill='#ffa500', alpha=0.8, bins=100)\n",
    "        + labs(title='deltaSVM Scores: Cluster ' + cluster, x='deltaSVM Score')\n",
    "        + geom_line(data=distrib_delta, mapping=aes(x='x', y='y'), color='red', size=1)\n",
    "        + geom_vline(mapping=aes(xintercept=distrib.ppf(0.025, *delta_params[:-2], delta_params[-2], delta_params[-1])), color='red')\n",
    "        + geom_vline(mapping=aes(xintercept=distrib.ppf(0.975, *delta_params[:-2], delta_params[-2], delta_params[-1])), color='red')\n",
    "        + geom_histogram(data=snp_scores, mapping=aes(x='delta_score', y='stat(density)'), fill='#0000ff', alpha=0.2, bins=50))"
   ]
  },
  {
   "cell_type": "markdown",
   "metadata": {},
   "source": [
    "# Plot Null Magnitude Score Distribution by GC Bin"
   ]
  },
  {
   "cell_type": "code",
   "execution_count": 19,
   "metadata": {},
   "outputs": [
    {
     "data": {
      "image/png": "[encoded data removed]",
      "text/plain": [
       "<Figure size 640x480 with 10 Axes>"
      ]
     },
     "metadata": {},
     "output_type": "display_data"
    },
    {
     "data": {
      "text/plain": [
       "<ggplot: (-9223363303154346373)>"
      ]
     },
     "metadata": {},
     "output_type": "display_data"
    }
   ],
   "source": [
    "display(ggplot(data=null_scores, mapping=aes(x='null_magnitude_score'))\n",
    "        + geom_histogram(bins=100)\n",
    "        + labs(title='Null Magnitude Scores by GC Bin: Cluster ' + cluster, x='Magnitude Score')\n",
    "        + facet_wrap(\"gc_bin\"))"
   ]
  },
  {
   "cell_type": "markdown",
   "metadata": {},
   "source": [
    "# Plot All Null Magnitude Scores"
   ]
  },
  {
   "cell_type": "code",
   "execution_count": 20,
   "metadata": {},
   "outputs": [
    {
     "name": "stdout",
     "output_type": "stream",
     "text": [
      "Fitted t Distribution: \n",
      "\n",
      "Mean: \t -0.002006778466396321\n",
      "Stdev: \t 0.05104869102089998\n",
      "\n",
      "KstestResult(statistic=0.04262209627801461, pvalue=2.430130809716517e-49)\n",
      "\n"
     ]
    },
    {
     "data": {
      "image/png": "[encoded data removed]",
      "text/plain": [
       "<Figure size 640x480 with 1 Axes>"
      ]
     },
     "metadata": {},
     "output_type": "display_data"
    },
    {
     "data": {
      "text/plain": [
       "<ggplot: (8733710226110)>"
      ]
     },
     "metadata": {},
     "output_type": "display_data"
    }
   ],
   "source": [
    "distrib_name = 't'\n",
    "distrib = getattr(scipy.stats, distrib_name)\n",
    "magnitude_params = distrib.fit(null_confidence_dict['null_magnitude_score'])\n",
    "x_magnitude = np.linspace(distrib.ppf(0.0001, *magnitude_params[:-2], magnitude_params[-2], magnitude_params[-1]),\n",
    "                        distrib.ppf(0.9999, *magnitude_params[:-2], magnitude_params[-2], magnitude_params[-1]), 10000)\n",
    "y_magnitude = distrib.pdf(x_magnitude, *magnitude_params[:-2], magnitude_params[-2], magnitude_params[-1])\n",
    "distrib_magnitude = pd.DataFrame(list(zip(x_magnitude, y_magnitude)), columns =['x', 'y'])\n",
    "\n",
    "print('Fitted ' + distrib_name + ' Distribution: ')\n",
    "print()\n",
    "print('Mean:', '\\t', magnitude_params[-2])\n",
    "print('Stdev:', '\\t', magnitude_params[-1])\n",
    "print()\n",
    "print(kstest(null_confidence_dict['null_magnitude_score'], distrib_name, args=[*magnitude_params[:-2], magnitude_params[-2], magnitude_params[-1]]))\n",
    "print()\n",
    "\n",
    "null_magnitude_quantiles = list(null_scores['null_magnitude_score'].quantile([0.025, 0.975]))\n",
    "display(ggplot(data=null_scores, mapping=aes(x='null_magnitude_score'))\n",
    "        + geom_histogram(mapping=aes(y='stat(density)'), fill='#ffa500', alpha=0.8, bins=100)\n",
    "        + labs(title='Magnitude Scores: Cluster ' + cluster, x='Magnitude Score')\n",
    "        + geom_line(data=distrib_magnitude, mapping=aes(x='x', y='y'), color='red', size=1)\n",
    "        + geom_vline(mapping=aes(xintercept=null_magnitude_quantiles[0]), color='blue')\n",
    "        + geom_vline(mapping=aes(xintercept=null_magnitude_quantiles[1]), color='blue')\n",
    "        + geom_vline(mapping=aes(xintercept=distrib.ppf(0.025, *magnitude_params[:-2], magnitude_params[-2], magnitude_params[-1])), color='red')\n",
    "        + geom_vline(mapping=aes(xintercept=distrib.ppf(0.975, *magnitude_params[:-2], magnitude_params[-2], magnitude_params[-1])), color='red')\n",
    "        + geom_histogram(data=snp_scores, mapping=aes(x='magnitude_score', y='stat(density)'), fill='#0000ff', alpha=0.2, bins=50))"
   ]
  },
  {
   "cell_type": "markdown",
   "metadata": {},
   "source": [
    "# Plot Null Prominence Score Distribution by GC Bin"
   ]
  },
  {
   "cell_type": "code",
   "execution_count": 21,
   "metadata": {},
   "outputs": [
    {
     "data": {
      "image/png": "[encoded data removed]",
      "text/plain": [
       "<Figure size 640x480 with 10 Axes>"
      ]
     },
     "metadata": {},
     "output_type": "display_data"
    },
    {
     "data": {
      "text/plain": [
       "<ggplot: (-9223363303144462332)>"
      ]
     },
     "metadata": {},
     "output_type": "display_data"
    }
   ],
   "source": [
    "display(ggplot(data=null_scores, mapping=aes(x='null_prominence_score'))\n",
    "        + geom_histogram(bins=100)\n",
    "        + labs(title='Null Prominence Scores by GC Bin: Cluster ' + cluster, x='Prominence Score')\n",
    "        + facet_wrap(\"gc_bin\"))"
   ]
  },
  {
   "cell_type": "markdown",
   "metadata": {},
   "source": [
    "# Plot All Null Prominence Scores"
   ]
  },
  {
   "cell_type": "code",
   "execution_count": 22,
   "metadata": {},
   "outputs": [
    {
     "name": "stdout",
     "output_type": "stream",
     "text": [
      "Fitted t Distribution: \n",
      "\n",
      "Mean: \t -0.0015561815226996759\n",
      "Stdev: \t 0.04379475436192279\n",
      "\n",
      "KstestResult(statistic=0.04006607994654354, pvalue=1.1927706972010823e-43)\n",
      "\n"
     ]
    },
    {
     "data": {
      "image/png": "[encoded data removed]",
      "text/plain": [
       "<Figure size 640x480 with 1 Axes>"
      ]
     },
     "metadata": {},
     "output_type": "display_data"
    },
    {
     "data": {
      "text/plain": [
       "<ggplot: (-9223363303154697363)>"
      ]
     },
     "metadata": {},
     "output_type": "display_data"
    }
   ],
   "source": [
    "distrib_name = 't'\n",
    "distrib = getattr(scipy.stats, distrib_name)\n",
    "prominence_params = distrib.fit(null_confidence_dict['null_prominence_score'])\n",
    "x_prominence = np.linspace(distrib.ppf(0.0001, *prominence_params[:-2], prominence_params[-2], prominence_params[-1]),\n",
    "                        distrib.ppf(0.9999, *prominence_params[:-2], prominence_params[-2], prominence_params[-1]), 10000)\n",
    "y_prominence = distrib.pdf(x_prominence, *prominence_params[:-2], prominence_params[-2], prominence_params[-1])\n",
    "distrib_prominence = pd.DataFrame(list(zip(x_prominence, y_prominence)), columns =['x', 'y'])\n",
    "\n",
    "print('Fitted ' + distrib_name + ' Distribution: ')\n",
    "print()\n",
    "print('Mean:', '\\t', prominence_params[-2])\n",
    "print('Stdev:', '\\t', prominence_params[-1])\n",
    "print()\n",
    "print(kstest(null_confidence_dict['null_prominence_score'], distrib_name, args=[*prominence_params[:-2], prominence_params[-2], prominence_params[-1]]))\n",
    "print()\n",
    "null_prominence_quantiles = list(null_scores['null_prominence_score'].quantile([0.025, 0.975]))\n",
    "\n",
    "display(ggplot(data=null_scores, mapping=aes(x='null_prominence_score'))\n",
    "        + geom_histogram(mapping=aes(y='stat(density)'), fill='#ffa500', alpha=0.8, bins=100)\n",
    "        + labs(title='Prominence Scores: Cluster ' + cluster, x='Prominence Score')\n",
    "        + geom_line(data=distrib_prominence, mapping=aes(x='x', y='y'), color='red', size=1)\n",
    "        + geom_vline(mapping=aes(xintercept=null_prominence_quantiles[0]), color='blue')\n",
    "        + geom_vline(mapping=aes(xintercept=null_prominence_quantiles[1]), color='blue')\n",
    "        + geom_vline(mapping=aes(xintercept=distrib.ppf(0.025, *prominence_params[:-2], prominence_params[-2], prominence_params[-1])), color='red')\n",
    "        + geom_vline(mapping=aes(xintercept=distrib.ppf(0.975, *prominence_params[:-2], prominence_params[-2], prominence_params[-1])), color='red')\n",
    "        + geom_histogram(data=snp_scores, mapping=aes(x='prominence_score', y='stat(density)'), fill='#0000ff', alpha=0.2, bins=50))"
   ]
  },
  {
   "cell_type": "markdown",
   "metadata": {},
   "source": [
    "# Plot Null Importance Scores"
   ]
  },
  {
   "cell_type": "code",
   "execution_count": 23,
   "metadata": {},
   "outputs": [
    {
     "name": "stdout",
     "output_type": "stream",
     "text": [
      "Fitted t Distribution: \n",
      "\n",
      "Mean: \t 0.0025401748697792413\n",
      "Stdev: \t 0.008356519763697948\n",
      "\n"
     ]
    },
    {
     "name": "stdout",
     "output_type": "stream",
     "text": [
      "KstestResult(statistic=0.01652546629221452, pvalue=1.2507481220329644e-237)\n",
      "\n"
     ]
    },
    {
     "data": {
      "image/png": "[encoded data removed]",
      "text/plain": [
       "<Figure size 640x480 with 1 Axes>"
      ]
     },
     "metadata": {},
     "output_type": "display_data"
    },
    {
     "data": {
      "text/plain": [
       "<ggplot: (-9223363303154690858)>"
      ]
     },
     "metadata": {},
     "output_type": "display_data"
    }
   ],
   "source": [
    "distrib_name = 't'\n",
    "distrib = getattr(scipy.stats, distrib_name)\n",
    "sampled_null_importance_scores = random.sample(null_importance_scores, 1000000)\n",
    "null_importance_df = pd.DataFrame(sampled_null_importance_scores, columns=['null_importance_score'])\n",
    "importance_params = distrib.fit(sampled_null_importance_scores)\n",
    "x_importance = np.linspace(distrib.ppf(0.0001, *importance_params[:-2], importance_params[-2], importance_params[-1]),\n",
    "                           distrib.ppf(0.9999, *importance_params[:-2], importance_params[-2], importance_params[-1]), 10000)\n",
    "y_importance = distrib.pdf(x_importance, *importance_params[:-2], importance_params[-2], importance_params[-1])\n",
    "distrib_importance = pd.DataFrame(list(zip(x_importance, y_importance)), columns =['x', 'y'])\n",
    "\n",
    "print('Fitted ' + distrib_name + ' Distribution: ')\n",
    "print()\n",
    "print('Mean:', '\\t', importance_params[-2])\n",
    "print('Stdev:', '\\t', importance_params[-1])\n",
    "print()\n",
    "print(stats.kstest(sampled_null_importance_scores, distrib_name, args=[*importance_params[:-2], importance_params[-2], importance_params[-1]]))\n",
    "print()\n",
    "null_importance_quantiles = list(null_importance_df['null_importance_score'].quantile([0.025, 0.975]))\n",
    "\n",
    "display(ggplot(data=null_importance_df, mapping=aes(x='null_importance_score'))       \n",
    "        + geom_histogram(mapping=aes(y='stat(density)'), fill='#ffa500', alpha=0.8, bins=100)\n",
    "        + labs(title='Null Importance Scores: Cluster ' + cluster, x='Null Importance Score')\n",
    "        + geom_vline(mapping=aes(xintercept=null_importance_quantiles[0]), color='blue')\n",
    "        + geom_vline(mapping=aes(xintercept=null_importance_quantiles[1]), color='blue')\n",
    "        + geom_line(data=distrib_importance, mapping=aes(x='x', y='y'), color='red', size=1)\n",
    "        + geom_vline(mapping=aes(xintercept=distrib.ppf(0.025, *importance_params[:-2], importance_params[-2], importance_params[-1])), color='red')\n",
    "        + geom_vline(mapping=aes(xintercept=distrib.ppf(0.975, *importance_params[:-2], importance_params[-2], importance_params[-1])), color='red'))"
   ]
  },
  {
   "cell_type": "markdown",
   "metadata": {},
   "source": [
    "# Get P-Values for SNP Scores <a name='calculate_pvals' />"
   ]
  },
  {
   "cell_type": "code",
   "execution_count": 24,
   "metadata": {},
   "outputs": [
    {
     "name": "stdout",
     "output_type": "stream",
     "text": [
      "Unique Significant SNPs:\n",
      "\n"
     ]
    },
    {
     "data": {
      "text/html": [
       "<div>\n",
       "<style scoped>\n",
       "    .dataframe tbody tr th:only-of-type {\n",
       "        vertical-align: middle;\n",
       "    }\n",
       "\n",
       "    .dataframe tbody tr th {\n",
       "        vertical-align: top;\n",
       "    }\n",
       "\n",
       "    .dataframe thead th {\n",
       "        text-align: right;\n",
       "    }\n",
       "</style>\n",
       "<table border=\"1\" class=\"dataframe\">\n",
       "  <thead>\n",
       "    <tr style=\"text-align: right;\">\n",
       "      <th></th>\n",
       "      <th>chr</th>\n",
       "      <th>start</th>\n",
       "      <th>end</th>\n",
       "      <th>rsid</th>\n",
       "      <th>effect</th>\n",
       "      <th>noneffect</th>\n",
       "      <th>ref</th>\n",
       "      <th>alt</th>\n",
       "      <th>major</th>\n",
       "      <th>minor</th>\n",
       "      <th>direction</th>\n",
       "      <th>locus_num</th>\n",
       "      <th>gc</th>\n",
       "      <th>explain_score</th>\n",
       "      <th>ism_score</th>\n",
       "      <th>delta_score</th>\n",
       "      <th>magnitude_score</th>\n",
       "      <th>prominence_score</th>\n",
       "      <th>gc_bin</th>\n",
       "      <th>gwas</th>\n",
       "      <th>gwas_pval</th>\n",
       "      <th>coloc</th>\n",
       "      <th>active_seqlet</th>\n",
       "      <th>inactive_seqlet</th>\n",
       "      <th>diff_seqlet</th>\n",
       "      <th>active_allele</th>\n",
       "      <th>explain_pval</th>\n",
       "      <th>ism_pval</th>\n",
       "      <th>delta_pval</th>\n",
       "      <th>magnitude_pval</th>\n",
       "      <th>prominence_pval</th>\n",
       "      <th>confidence</th>\n",
       "    </tr>\n",
       "  </thead>\n",
       "  <tbody>\n",
       "    <tr>\n",
       "      <th>123</th>\n",
       "      <td>chr17</td>\n",
       "      <td>45897109</td>\n",
       "      <td>45897110</td>\n",
       "      <td>rs80346216</td>\n",
       "      <td>T</td>\n",
       "      <td>G</td>\n",
       "      <td>G</td>\n",
       "      <td>T</td>\n",
       "      <td>G</td>\n",
       "      <td>T</td>\n",
       "      <td>-</td>\n",
       "      <td>54</td>\n",
       "      <td>0.609</td>\n",
       "      <td>0.427505</td>\n",
       "      <td>0.667678</td>\n",
       "      <td>3.835443</td>\n",
       "      <td>0.360707</td>\n",
       "      <td>0.133270</td>\n",
       "      <td>6</td>\n",
       "      <td>23andme_PD_hg38</td>\n",
       "      <td>3.94e-22</td>\n",
       "      <td>True</td>\n",
       "      <td>GCCGCTAGGGG</td>\n",
       "      <td>GCCGCGAGGGG</td>\n",
       "      <td>GCCGC(T/G)AGGGG</td>\n",
       "      <td>effect</td>\n",
       "      <td>0.038002</td>\n",
       "      <td>0.031954</td>\n",
       "      <td>0.032716</td>\n",
       "      <td>0.012258</td>\n",
       "      <td>0.051032</td>\n",
       "      <td>1</td>\n",
       "    </tr>\n",
       "    <tr>\n",
       "      <th>162</th>\n",
       "      <td>chr17</td>\n",
       "      <td>46771150</td>\n",
       "      <td>46771151</td>\n",
       "      <td>rs199523</td>\n",
       "      <td>C</td>\n",
       "      <td>A</td>\n",
       "      <td>C</td>\n",
       "      <td>A</td>\n",
       "      <td>A</td>\n",
       "      <td>C</td>\n",
       "      <td>-</td>\n",
       "      <td>54</td>\n",
       "      <td>0.693</td>\n",
       "      <td>0.521938</td>\n",
       "      <td>0.828293</td>\n",
       "      <td>4.788346</td>\n",
       "      <td>0.415206</td>\n",
       "      <td>0.129755</td>\n",
       "      <td>9</td>\n",
       "      <td>23andme_PD_hg38</td>\n",
       "      <td>9.49e-14</td>\n",
       "      <td>True</td>\n",
       "      <td>GCGCCACCTAC</td>\n",
       "      <td>GAGCCACCTAC</td>\n",
       "      <td>G(C/A)GCCACCTAC</td>\n",
       "      <td>effect</td>\n",
       "      <td>0.017265</td>\n",
       "      <td>0.013156</td>\n",
       "      <td>0.013175</td>\n",
       "      <td>0.006839</td>\n",
       "      <td>0.054839</td>\n",
       "      <td>1</td>\n",
       "    </tr>\n",
       "    <tr>\n",
       "      <th>48</th>\n",
       "      <td>chr16</td>\n",
       "      <td>30010080</td>\n",
       "      <td>30010081</td>\n",
       "      <td>rs1140239</td>\n",
       "      <td>T</td>\n",
       "      <td>C</td>\n",
       "      <td>C</td>\n",
       "      <td>A,T</td>\n",
       "      <td>C</td>\n",
       "      <td>A,T</td>\n",
       "      <td>-</td>\n",
       "      <td>48</td>\n",
       "      <td>0.664</td>\n",
       "      <td>0.884056</td>\n",
       "      <td>1.319767</td>\n",
       "      <td>8.606146</td>\n",
       "      <td>0.099484</td>\n",
       "      <td>0.127907</td>\n",
       "      <td>8</td>\n",
       "      <td>Alzheimers_Jansen_2018</td>\n",
       "      <td>0.00440315</td>\n",
       "      <td>True</td>\n",
       "      <td>CGCTCCC</td>\n",
       "      <td>CGCCCCC</td>\n",
       "      <td>CGC(T/C)CCC</td>\n",
       "      <td>effect</td>\n",
       "      <td>0.001271</td>\n",
       "      <td>0.001261</td>\n",
       "      <td>0.000645</td>\n",
       "      <td>0.204710</td>\n",
       "      <td>0.057097</td>\n",
       "      <td>1</td>\n",
       "    </tr>\n",
       "    <tr>\n",
       "      <th>244</th>\n",
       "      <td>chr3</td>\n",
       "      <td>49007333</td>\n",
       "      <td>49007334</td>\n",
       "      <td>rs6781790</td>\n",
       "      <td>T</td>\n",
       "      <td>C</td>\n",
       "      <td>C</td>\n",
       "      <td>T</td>\n",
       "      <td>T</td>\n",
       "      <td>C</td>\n",
       "      <td>+</td>\n",
       "      <td>92</td>\n",
       "      <td>0.658</td>\n",
       "      <td>-0.418735</td>\n",
       "      <td>-0.659850</td>\n",
       "      <td>-3.835450</td>\n",
       "      <td>-0.346625</td>\n",
       "      <td>-0.102950</td>\n",
       "      <td>8</td>\n",
       "      <td>Chang_23andMe_Parkinsons</td>\n",
       "      <td>0.00234934</td>\n",
       "      <td>False</td>\n",
       "      <td>GAGGGCGCTGT</td>\n",
       "      <td>GAGGGTGCTGT</td>\n",
       "      <td>GAGGG(C/T)GCTGT</td>\n",
       "      <td>noneffect</td>\n",
       "      <td>0.043739</td>\n",
       "      <td>0.035641</td>\n",
       "      <td>0.034918</td>\n",
       "      <td>0.016968</td>\n",
       "      <td>0.112452</td>\n",
       "      <td>1</td>\n",
       "    </tr>\n",
       "    <tr>\n",
       "      <th>189</th>\n",
       "      <td>chr19</td>\n",
       "      <td>44890946</td>\n",
       "      <td>44890947</td>\n",
       "      <td>19_44890947</td>\n",
       "      <td>A</td>\n",
       "      <td>G</td>\n",
       "      <td>.</td>\n",
       "      <td>.</td>\n",
       "      <td>.</td>\n",
       "      <td>.</td>\n",
       "      <td>+</td>\n",
       "      <td>71</td>\n",
       "      <td>0.639</td>\n",
       "      <td>-0.519323</td>\n",
       "      <td>-0.816801</td>\n",
       "      <td>-4.752326</td>\n",
       "      <td>-0.465528</td>\n",
       "      <td>-0.100012</td>\n",
       "      <td>7</td>\n",
       "      <td>Alzheimers_Jansen_2018</td>\n",
       "      <td>9.36e-19</td>\n",
       "      <td>True</td>\n",
       "      <td>GAGGCGGGGCGATG</td>\n",
       "      <td>GAGGCGGGACGATG</td>\n",
       "      <td>GAGGCGGG(G/A)CGATG</td>\n",
       "      <td>noneffect</td>\n",
       "      <td>0.018778</td>\n",
       "      <td>0.014876</td>\n",
       "      <td>0.014486</td>\n",
       "      <td>0.007419</td>\n",
       "      <td>0.121677</td>\n",
       "      <td>1</td>\n",
       "    </tr>\n",
       "    <tr>\n",
       "      <th>24</th>\n",
       "      <td>chr11</td>\n",
       "      <td>86069405</td>\n",
       "      <td>86069406</td>\n",
       "      <td>rs3016327</td>\n",
       "      <td>T</td>\n",
       "      <td>C</td>\n",
       "      <td>T</td>\n",
       "      <td>C</td>\n",
       "      <td>C</td>\n",
       "      <td>T</td>\n",
       "      <td>-</td>\n",
       "      <td>16</td>\n",
       "      <td>0.615</td>\n",
       "      <td>0.482709</td>\n",
       "      <td>0.804909</td>\n",
       "      <td>4.765793</td>\n",
       "      <td>0.232537</td>\n",
       "      <td>0.084954</td>\n",
       "      <td>6</td>\n",
       "      <td>Alzheimers_Jansen_2018</td>\n",
       "      <td>1.41e-11</td>\n",
       "      <td>False</td>\n",
       "      <td>GCGGTGT</td>\n",
       "      <td>GCGGCGT</td>\n",
       "      <td>GCGG(T/C)GT</td>\n",
       "      <td>effect</td>\n",
       "      <td>0.023854</td>\n",
       "      <td>0.014920</td>\n",
       "      <td>0.013453</td>\n",
       "      <td>0.037161</td>\n",
       "      <td>0.154323</td>\n",
       "      <td>1</td>\n",
       "    </tr>\n",
       "    <tr>\n",
       "      <th>96</th>\n",
       "      <td>chr17</td>\n",
       "      <td>45775254</td>\n",
       "      <td>45775255</td>\n",
       "      <td>rs62055948</td>\n",
       "      <td>T</td>\n",
       "      <td>C</td>\n",
       "      <td>T</td>\n",
       "      <td>C</td>\n",
       "      <td>T</td>\n",
       "      <td>C</td>\n",
       "      <td>+</td>\n",
       "      <td>54</td>\n",
       "      <td>0.579</td>\n",
       "      <td>-0.483666</td>\n",
       "      <td>-0.762077</td>\n",
       "      <td>-4.366666</td>\n",
       "      <td>-0.130967</td>\n",
       "      <td>-0.077710</td>\n",
       "      <td>5</td>\n",
       "      <td>23andme_PD_hg38</td>\n",
       "      <td>2.66e-22</td>\n",
       "      <td>True</td>\n",
       "      <td>GGGCGGA</td>\n",
       "      <td>GGGTGGA</td>\n",
       "      <td>GGG(C/T)GGA</td>\n",
       "      <td>noneffect</td>\n",
       "      <td>0.025226</td>\n",
       "      <td>0.020063</td>\n",
       "      <td>0.020845</td>\n",
       "      <td>0.132065</td>\n",
       "      <td>0.200839</td>\n",
       "      <td>0</td>\n",
       "    </tr>\n",
       "    <tr>\n",
       "      <th>221</th>\n",
       "      <td>chr19</td>\n",
       "      <td>45326535</td>\n",
       "      <td>45326536</td>\n",
       "      <td>rs344791</td>\n",
       "      <td>C</td>\n",
       "      <td>G</td>\n",
       "      <td>G</td>\n",
       "      <td>C</td>\n",
       "      <td>C</td>\n",
       "      <td>G</td>\n",
       "      <td>-</td>\n",
       "      <td>71</td>\n",
       "      <td>0.543</td>\n",
       "      <td>-0.577299</td>\n",
       "      <td>-0.927179</td>\n",
       "      <td>-5.328066</td>\n",
       "      <td>-0.059282</td>\n",
       "      <td>-0.060367</td>\n",
       "      <td>4</td>\n",
       "      <td>Alzheimers_Jansen_2018</td>\n",
       "      <td>0.000122</td>\n",
       "      <td>True</td>\n",
       "      <td>ACCGCCT</td>\n",
       "      <td>ACCCCCT</td>\n",
       "      <td>ACC(G/C)CCT</td>\n",
       "      <td>noneffect</td>\n",
       "      <td>0.011771</td>\n",
       "      <td>0.008307</td>\n",
       "      <td>0.008574</td>\n",
       "      <td>0.397419</td>\n",
       "      <td>0.292323</td>\n",
       "      <td>0</td>\n",
       "    </tr>\n",
       "    <tr>\n",
       "      <th>137</th>\n",
       "      <td>chr17</td>\n",
       "      <td>45966011</td>\n",
       "      <td>45966012</td>\n",
       "      <td>rs62063291</td>\n",
       "      <td>T</td>\n",
       "      <td>C</td>\n",
       "      <td>T</td>\n",
       "      <td>C</td>\n",
       "      <td>T</td>\n",
       "      <td>C</td>\n",
       "      <td>+</td>\n",
       "      <td>54</td>\n",
       "      <td>0.482</td>\n",
       "      <td>0.489853</td>\n",
       "      <td>0.765672</td>\n",
       "      <td>4.389108</td>\n",
       "      <td>0.030116</td>\n",
       "      <td>0.035758</td>\n",
       "      <td>1</td>\n",
       "      <td>23andme_PD_hg38</td>\n",
       "      <td>2.3e-22</td>\n",
       "      <td>True</td>\n",
       "      <td>AGCTCCC</td>\n",
       "      <td>AGCCCCC</td>\n",
       "      <td>AGC(T/C)CCC</td>\n",
       "      <td>effect</td>\n",
       "      <td>0.022479</td>\n",
       "      <td>0.018477</td>\n",
       "      <td>0.019155</td>\n",
       "      <td>0.564000</td>\n",
       "      <td>0.448903</td>\n",
       "      <td>0</td>\n",
       "    </tr>\n",
       "    <tr>\n",
       "      <th>304</th>\n",
       "      <td>chr8</td>\n",
       "      <td>22604860</td>\n",
       "      <td>22604861</td>\n",
       "      <td>rs3735901</td>\n",
       "      <td>T</td>\n",
       "      <td>C</td>\n",
       "      <td>T</td>\n",
       "      <td>C</td>\n",
       "      <td>T</td>\n",
       "      <td>C</td>\n",
       "      <td>-</td>\n",
       "      <td>125</td>\n",
       "      <td>0.683</td>\n",
       "      <td>0.574779</td>\n",
       "      <td>0.901678</td>\n",
       "      <td>5.966658</td>\n",
       "      <td>0.034431</td>\n",
       "      <td>0.017797</td>\n",
       "      <td>8</td>\n",
       "      <td>Chang_23andMe_Parkinsons</td>\n",
       "      <td>0.0508112</td>\n",
       "      <td>False</td>\n",
       "      <td>CCCTGCC</td>\n",
       "      <td>CCCCGCC</td>\n",
       "      <td>CCC(T/C)GCC</td>\n",
       "      <td>effect</td>\n",
       "      <td>0.011302</td>\n",
       "      <td>0.008937</td>\n",
       "      <td>0.004661</td>\n",
       "      <td>0.531290</td>\n",
       "      <td>0.630774</td>\n",
       "      <td>0</td>\n",
       "    </tr>\n",
       "    <tr>\n",
       "      <th>251</th>\n",
       "      <td>chr3</td>\n",
       "      <td>52307781</td>\n",
       "      <td>52307782</td>\n",
       "      <td>rs149776414</td>\n",
       "      <td>G</td>\n",
       "      <td>A</td>\n",
       "      <td>G</td>\n",
       "      <td>A,T</td>\n",
       "      <td>G</td>\n",
       "      <td>A,T</td>\n",
       "      <td>-</td>\n",
       "      <td>93</td>\n",
       "      <td>0.563</td>\n",
       "      <td>0.485019</td>\n",
       "      <td>0.788474</td>\n",
       "      <td>4.543862</td>\n",
       "      <td>0.022288</td>\n",
       "      <td>0.016523</td>\n",
       "      <td>5</td>\n",
       "      <td>Chang_23andMe_Parkinsons</td>\n",
       "      <td>0.00100246</td>\n",
       "      <td>False</td>\n",
       "      <td>CCCGCCA</td>\n",
       "      <td>CCCACCA</td>\n",
       "      <td>CCC(G/A)CCA</td>\n",
       "      <td>effect</td>\n",
       "      <td>0.023400</td>\n",
       "      <td>0.016311</td>\n",
       "      <td>0.016548</td>\n",
       "      <td>0.629355</td>\n",
       "      <td>0.648194</td>\n",
       "      <td>0</td>\n",
       "    </tr>\n",
       "    <tr>\n",
       "      <th>121</th>\n",
       "      <td>chr17</td>\n",
       "      <td>45896131</td>\n",
       "      <td>45896132</td>\n",
       "      <td>rs4792891</td>\n",
       "      <td>T</td>\n",
       "      <td>G</td>\n",
       "      <td>T</td>\n",
       "      <td>G</td>\n",
       "      <td>T</td>\n",
       "      <td>G</td>\n",
       "      <td>+</td>\n",
       "      <td>54</td>\n",
       "      <td>0.653</td>\n",
       "      <td>0.455226</td>\n",
       "      <td>0.712483</td>\n",
       "      <td>4.135450</td>\n",
       "      <td>0.010684</td>\n",
       "      <td>0.006413</td>\n",
       "      <td>8</td>\n",
       "      <td>23andme_PD_hg38</td>\n",
       "      <td>7.03e-12</td>\n",
       "      <td>True</td>\n",
       "      <td>GGGTTCG</td>\n",
       "      <td>GGGGTCG</td>\n",
       "      <td>GGG(T/G)TCG</td>\n",
       "      <td>effect</td>\n",
       "      <td>0.030035</td>\n",
       "      <td>0.024819</td>\n",
       "      <td>0.024426</td>\n",
       "      <td>0.745097</td>\n",
       "      <td>0.788452</td>\n",
       "      <td>0</td>\n",
       "    </tr>\n",
       "    <tr>\n",
       "      <th>193</th>\n",
       "      <td>chr19</td>\n",
       "      <td>44915228</td>\n",
       "      <td>44915229</td>\n",
       "      <td>rs12691088</td>\n",
       "      <td>A</td>\n",
       "      <td>G</td>\n",
       "      <td>G</td>\n",
       "      <td>A,C</td>\n",
       "      <td>G</td>\n",
       "      <td>A,C</td>\n",
       "      <td>+</td>\n",
       "      <td>71</td>\n",
       "      <td>0.583</td>\n",
       "      <td>0.595105</td>\n",
       "      <td>0.995677</td>\n",
       "      <td>5.724386</td>\n",
       "      <td>0.012039</td>\n",
       "      <td>0.005242</td>\n",
       "      <td>5</td>\n",
       "      <td>Alzheimers_Kunkle_2019</td>\n",
       "      <td>2.69e-238</td>\n",
       "      <td>True</td>\n",
       "      <td>GGTAGGG</td>\n",
       "      <td>GGTGGGG</td>\n",
       "      <td>GGT(A/G)GGG</td>\n",
       "      <td>effect</td>\n",
       "      <td>0.009639</td>\n",
       "      <td>0.005550</td>\n",
       "      <td>0.005724</td>\n",
       "      <td>0.729677</td>\n",
       "      <td>0.806645</td>\n",
       "      <td>0</td>\n",
       "    </tr>\n",
       "  </tbody>\n",
       "</table>\n",
       "</div>"
      ],
      "text/plain": [
       "       chr     start       end         rsid effect noneffect ref  alt major  \\\n",
       "123  chr17  45897109  45897110   rs80346216      T         G   G    T     G   \n",
       "162  chr17  46771150  46771151     rs199523      C         A   C    A     A   \n",
       "48   chr16  30010080  30010081    rs1140239      T         C   C  A,T     C   \n",
       "244   chr3  49007333  49007334    rs6781790      T         C   C    T     T   \n",
       "189  chr19  44890946  44890947  19_44890947      A         G   .    .     .   \n",
       "24   chr11  86069405  86069406    rs3016327      T         C   T    C     C   \n",
       "96   chr17  45775254  45775255   rs62055948      T         C   T    C     T   \n",
       "221  chr19  45326535  45326536     rs344791      C         G   G    C     C   \n",
       "137  chr17  45966011  45966012   rs62063291      T         C   T    C     T   \n",
       "304   chr8  22604860  22604861    rs3735901      T         C   T    C     T   \n",
       "251   chr3  52307781  52307782  rs149776414      G         A   G  A,T     G   \n",
       "121  chr17  45896131  45896132    rs4792891      T         G   T    G     T   \n",
       "193  chr19  44915228  44915229   rs12691088      A         G   G  A,C     G   \n",
       "\n",
       "    minor direction  locus_num     gc  explain_score  ism_score  delta_score  \\\n",
       "123     T         -         54  0.609       0.427505   0.667678     3.835443   \n",
       "162     C         -         54  0.693       0.521938   0.828293     4.788346   \n",
       "48    A,T         -         48  0.664       0.884056   1.319767     8.606146   \n",
       "244     C         +         92  0.658      -0.418735  -0.659850    -3.835450   \n",
       "189     .         +         71  0.639      -0.519323  -0.816801    -4.752326   \n",
       "24      T         -         16  0.615       0.482709   0.804909     4.765793   \n",
       "96      C         +         54  0.579      -0.483666  -0.762077    -4.366666   \n",
       "221     G         -         71  0.543      -0.577299  -0.927179    -5.328066   \n",
       "137     C         +         54  0.482       0.489853   0.765672     4.389108   \n",
       "304     C         -        125  0.683       0.574779   0.901678     5.966658   \n",
       "251   A,T         -         93  0.563       0.485019   0.788474     4.543862   \n",
       "121     G         +         54  0.653       0.455226   0.712483     4.135450   \n",
       "193   A,C         +         71  0.583       0.595105   0.995677     5.724386   \n",
       "\n",
       "     magnitude_score  prominence_score  gc_bin                      gwas  \\\n",
       "123         0.360707          0.133270       6           23andme_PD_hg38   \n",
       "162         0.415206          0.129755       9           23andme_PD_hg38   \n",
       "48          0.099484          0.127907       8    Alzheimers_Jansen_2018   \n",
       "244        -0.346625         -0.102950       8  Chang_23andMe_Parkinsons   \n",
       "189        -0.465528         -0.100012       7    Alzheimers_Jansen_2018   \n",
       "24          0.232537          0.084954       6    Alzheimers_Jansen_2018   \n",
       "96         -0.130967         -0.077710       5           23andme_PD_hg38   \n",
       "221        -0.059282         -0.060367       4    Alzheimers_Jansen_2018   \n",
       "137         0.030116          0.035758       1           23andme_PD_hg38   \n",
       "304         0.034431          0.017797       8  Chang_23andMe_Parkinsons   \n",
       "251         0.022288          0.016523       5  Chang_23andMe_Parkinsons   \n",
       "121         0.010684          0.006413       8           23andme_PD_hg38   \n",
       "193         0.012039          0.005242       5    Alzheimers_Kunkle_2019   \n",
       "\n",
       "      gwas_pval  coloc   active_seqlet inactive_seqlet         diff_seqlet  \\\n",
       "123    3.94e-22   True     GCCGCTAGGGG     GCCGCGAGGGG     GCCGC(T/G)AGGGG   \n",
       "162    9.49e-14   True     GCGCCACCTAC     GAGCCACCTAC     G(C/A)GCCACCTAC   \n",
       "48   0.00440315   True         CGCTCCC         CGCCCCC         CGC(T/C)CCC   \n",
       "244  0.00234934  False     GAGGGCGCTGT     GAGGGTGCTGT     GAGGG(C/T)GCTGT   \n",
       "189    9.36e-19   True  GAGGCGGGGCGATG  GAGGCGGGACGATG  GAGGCGGG(G/A)CGATG   \n",
       "24     1.41e-11  False         GCGGTGT         GCGGCGT         GCGG(T/C)GT   \n",
       "96     2.66e-22   True         GGGCGGA         GGGTGGA         GGG(C/T)GGA   \n",
       "221    0.000122   True         ACCGCCT         ACCCCCT         ACC(G/C)CCT   \n",
       "137     2.3e-22   True         AGCTCCC         AGCCCCC         AGC(T/C)CCC   \n",
       "304   0.0508112  False         CCCTGCC         CCCCGCC         CCC(T/C)GCC   \n",
       "251  0.00100246  False         CCCGCCA         CCCACCA         CCC(G/A)CCA   \n",
       "121    7.03e-12   True         GGGTTCG         GGGGTCG         GGG(T/G)TCG   \n",
       "193   2.69e-238   True         GGTAGGG         GGTGGGG         GGT(A/G)GGG   \n",
       "\n",
       "    active_allele  explain_pval  ism_pval  delta_pval  magnitude_pval  \\\n",
       "123        effect      0.038002  0.031954    0.032716        0.012258   \n",
       "162        effect      0.017265  0.013156    0.013175        0.006839   \n",
       "48         effect      0.001271  0.001261    0.000645        0.204710   \n",
       "244     noneffect      0.043739  0.035641    0.034918        0.016968   \n",
       "189     noneffect      0.018778  0.014876    0.014486        0.007419   \n",
       "24         effect      0.023854  0.014920    0.013453        0.037161   \n",
       "96      noneffect      0.025226  0.020063    0.020845        0.132065   \n",
       "221     noneffect      0.011771  0.008307    0.008574        0.397419   \n",
       "137        effect      0.022479  0.018477    0.019155        0.564000   \n",
       "304        effect      0.011302  0.008937    0.004661        0.531290   \n",
       "251        effect      0.023400  0.016311    0.016548        0.629355   \n",
       "121        effect      0.030035  0.024819    0.024426        0.745097   \n",
       "193        effect      0.009639  0.005550    0.005724        0.729677   \n",
       "\n",
       "     prominence_pval  confidence  \n",
       "123         0.051032           1  \n",
       "162         0.054839           1  \n",
       "48          0.057097           1  \n",
       "244         0.112452           1  \n",
       "189         0.121677           1  \n",
       "24          0.154323           1  \n",
       "96          0.200839           0  \n",
       "221         0.292323           0  \n",
       "137         0.448903           0  \n",
       "304         0.630774           0  \n",
       "251         0.648194           0  \n",
       "121         0.788452           0  \n",
       "193         0.806645           0  "
      ]
     },
     "metadata": {},
     "output_type": "display_data"
    },
    {
     "name": "stdout",
     "output_type": "stream",
     "text": [
      "\n",
      "Shape:  (13, 32)\n",
      "\n",
      "SNPs with Significant Scores: \t \t \t 13\n",
      "Significant SNPs with Low Confidence: \t \t 7\n",
      "Significant SNPs with Moderate Confidence: \t 6\n",
      "Significant SNPs with High Confidence: \t \t 0\n",
      "\n",
      "Total SNPs Scored:  \t \t \t \t 320\n",
      "Unique SNPs Scored:  \t \t \t \t 294\n"
     ]
    }
   ],
   "source": [
    "snp_scores['explain_pval'] = [(2 * min(distrib.cdf(x, *explain_params[:-2], explain_params[-2], explain_params[-1]),\n",
    "                                      1 - distrib.cdf(x, *explain_params[:-2], explain_params[-2], explain_params[-1]))) \\\n",
    "                              for x in snp_scores['explain_score']]\n",
    "snp_scores['ism_pval'] = [(2 * min(distrib.cdf(x, *ism_params[:-2], ism_params[-2], ism_params[-1]),\n",
    "                                  1 - distrib.cdf(x, *ism_params[:-2], ism_params[-2], ism_params[-1]))) \\\n",
    "                              for x in snp_scores['ism_score']]\n",
    "snp_scores['delta_pval'] = [(2 * min(distrib.cdf(x, *delta_params[:-2], delta_params[-2], delta_params[-1]),\n",
    "                                  1 - distrib.cdf(x, *delta_params[:-2], delta_params[-2], delta_params[-1]))) \\\n",
    "                              for x in snp_scores['delta_score']]\n",
    "snp_scores['magnitude_pval'] = [(2 * min((percentileofscore(list(null_scores['null_magnitude_score']), x) / 100),\n",
    "                                         (1 - (percentileofscore(list(null_scores['null_magnitude_score']), x) / 100)))) \\\n",
    "                                for x in snp_scores['magnitude_score']]\n",
    "snp_scores['prominence_pval'] = [(2 * min((percentileofscore(list(null_scores['null_prominence_score']), x) / 100),\n",
    "                                          (1 - (percentileofscore(list(null_scores['null_prominence_score']), x) / 100)))) \\\n",
    "                                 for x in snp_scores['prominence_score']]\n",
    "\n",
    "confidence_values = []\n",
    "\n",
    "for index, row in snp_scores.iterrows():\n",
    "    confidence = -1\n",
    "    if row['explain_pval'] < 0.05 and row['ism_pval'] < 0.05 and row['delta_pval'] < 0.5:\n",
    "        confidence += 1\n",
    "        if row['prominence_pval'] < 0.05:\n",
    "            confidence += 2\n",
    "        elif row['magnitude_pval'] < 0.05 or row['prominence_pval'] < 0.10:\n",
    "            confidence += 1\n",
    "    confidence_values.append(confidence)\n",
    "\n",
    "snp_scores['confidence'] = confidence_values\n",
    "snp_scores.to_csv('/oak/stanford/groups/akundaje/projects/alzheimers_parkinsons/updated_snp_scores/Cluster'\n",
    "                       + cluster + '.' + celltype + '.updated.snp_scores.tsv', sep='\\t', index=False)\n",
    "\n",
    "sig_snps = snp_scores.loc[snp_scores['confidence'] >= 0].copy()\n",
    "sig_snps = sig_snps.loc[sig_snps['effect'] != 'NA']\n",
    "sig_snps = sig_snps.loc[sig_snps['noneffect'] != 'NA']\n",
    "unique_sig_snps = sig_snps.sort_values(by=['rsid','prominence_pval'])\n",
    "unique_sig_snps.drop_duplicates(subset=['rsid'], inplace=True)\n",
    "unique_sig_snps.sort_values(by=['prominence_pval', 'magnitude_pval', 'explain_pval'], inplace=True)\n",
    "unique_sig_snps.sort_values(by=['confidence'], ascending=False, inplace=True)\n",
    "\n",
    "print('Unique Significant SNPs:')\n",
    "print()\n",
    "display(unique_sig_snps)\n",
    "print()\n",
    "print('Shape: ', unique_sig_snps.shape)\n",
    "print()\n",
    "print('SNPs with Significant Scores:', '\\t', '\\t', '\\t', len(unique_sig_snps))\n",
    "print('Significant SNPs with Low Confidence:', '\\t', '\\t', len(unique_sig_snps.loc[unique_sig_snps['confidence'] == 0]))\n",
    "print('Significant SNPs with Moderate Confidence:', '\\t', len(unique_sig_snps.loc[unique_sig_snps['confidence'] == 1]))\n",
    "print('Significant SNPs with High Confidence:', '\\t', '\\t', len(unique_sig_snps.loc[unique_sig_snps['confidence'] == 2]))\n",
    "print()\n",
    "print('Total SNPs Scored: ', '\\t', '\\t', '\\t', '\\t', len(snp_scores))\n",
    "print('Unique SNPs Scored: ', '\\t', '\\t', '\\t', '\\t', len(snp_scores.sort_values(by='rsid').drop_duplicates(subset='rsid')))"
   ]
  },
  {
   "cell_type": "markdown",
   "metadata": {},
   "source": [
    "# Visualize High Confidence SNPs <a name='visualize_high_conf' />"
   ]
  },
  {
   "cell_type": "code",
   "execution_count": 25,
   "metadata": {},
   "outputs": [],
   "source": [
    "for index,row in unique_sig_snps.loc[unique_sig_snps['confidence'] == 2].iterrows():\n",
    "    print()\n",
    "    print('Index:', index)\n",
    "    print()\n",
    "    print('RSID:', row['rsid'],\n",
    "          '\\t', '\\t', '||', '\\t',\n",
    "          row['chr'], ':', row['start'], '-', row['end'],\n",
    "          '\\t', '||', '\\t',\n",
    "          'Locus:', row['locus_num'])\n",
    "    print()\n",
    "    print('GWAS:', row['gwas'],\n",
    "          '\\t', '||', '\\t',\n",
    "          'P-Value:', '%.4E' % Decimal(row['gwas_pval']),\n",
    "          '\\t', '\\t', '||', '\\t',\n",
    "          'Coloc:', row['coloc'])\n",
    "    print()\n",
    "    print('Prominence P-Value:', '%.4E' % Decimal(row['prominence_pval']),\n",
    "          '\\t', '||', '\\t',\n",
    "          'Magnitude P-Value:', '%.4E' % Decimal(row['magnitude_pval']),\n",
    "          '\\t', '||', '\\t',\n",
    "          'Confidence:', row['confidence'])\n",
    "    print()\n",
    "    print('GkmExplain P-Value:', '%.4E' % Decimal(row['explain_pval']),\n",
    "          '\\t', '||', '\\t',\n",
    "          'ISM P-Value:', '%.4E' % Decimal(row['ism_pval']),\n",
    "          '\\t', '||', '\\t',\n",
    "          'deltaSVM P-Value:', '%.4E' % Decimal(row['delta_pval']))    \n",
    "    print()\n",
    "    print('-'*100)\n",
    "    print()\n",
    "    \n",
    "    #--------------------------------------#\n",
    "    \n",
    "    if row['active_allele'] == 'effect':\n",
    "        if row['effect'] != 'NA':\n",
    "            print('Effect Allele:', row['effect'],\n",
    "                  '\\t', '\\t', '||', '\\t',\n",
    "                  'Active Seqlet:', row['active_seqlet'])\n",
    "        else:\n",
    "            print('Minor Allele:', row['minor'],\n",
    "                  '\\t', '\\t', '||', '\\t',\n",
    "                  'Active Seqlet:', row['active_seqlet'])\n",
    "        print()\n",
    "        ylim = plot_weights(merged_observed_effect_scores[index],\n",
    "                            subticks_frequency=10, xlim=(400,600))\n",
    "        print()\n",
    "    else:\n",
    "        if row['noneffect'] != 'NA':\n",
    "            print('Non-Effect Allele:', row['noneffect'],\n",
    "                  '\\t', '\\t', '||', '\\t',\n",
    "                  'Active Seqlet:', row['active_seqlet'])\n",
    "        else:\n",
    "            print('Major Allele:', row['major'],\n",
    "                  '\\t', '\\t', '||', '\\t',\n",
    "                  'Active Seqlet:', row['active_seqlet'])\n",
    "        print()\n",
    "        ylim = plot_weights(merged_observed_noneffect_scores[index],\n",
    "                            subticks_frequency=10, xlim=(400,600))\n",
    "        print()\n",
    "        \n",
    "    #--------------------------------------#\n",
    "        \n",
    "    if row['active_allele'] != 'effect':\n",
    "        if row['effect'] != 'NA':\n",
    "            print('Effect Allele:', row['effect'],\n",
    "                  '\\t', '\\t', '||', '\\t',\n",
    "                  'Inactive Seqlet:', row['inactive_seqlet'])\n",
    "        else:\n",
    "            print('Minor Allele:', row['minor'],\n",
    "                  '\\t', '\\t', '||', '\\t',\n",
    "                  'Inactive Seqlet:', row['inactive_seqlet'])\n",
    "        print()\n",
    "        a = plot_weights(merged_observed_effect_scores[index],\n",
    "                         subticks_frequency=10, ylim=ylim, xlim=(400,600))\n",
    "        print()\n",
    "    else:\n",
    "        if row['noneffect'] != 'NA':\n",
    "            print('Non-Effect Allele:', row['noneffect'],\n",
    "                  '\\t', '\\t', '||', '\\t',\n",
    "                  'Inactive Seqlet:', row['inactive_seqlet'])\n",
    "        else:\n",
    "            print('Major Allele:', row['major'],\n",
    "                  '\\t', '\\t', '||', '\\t',\n",
    "                  'Inactive Seqlet:', row['inactive_seqlet'])\n",
    "        print()\n",
    "        a = plot_weights(merged_observed_noneffect_scores[index],\n",
    "                         subticks_frequency=10, ylim=ylim, xlim=(400,600))\n",
    "        print()\n",
    "    \n",
    "    #--------------------------------------#\n",
    "    \n",
    "    print('Difference Seqlet:', row['diff_seqlet'])\n",
    "    print()\n",
    "    if row['active_allele'] == 'effect':\n",
    "        a = plot_weights(merged_observed_noneffect_scores[index] - merged_observed_effect_scores[index],\n",
    "                         subticks_frequency=10, xlim=(400,600))\n",
    "    else:\n",
    "        a = plot_weights(merged_observed_effect_scores[index] - merged_observed_noneffect_scores[index],\n",
    "                         subticks_frequency=10, xlim=(400,600))\n",
    "    print()\n",
    "    print('-'*100)\n",
    "    print('-'*100)\n",
    "    print()"
   ]
  },
  {
   "cell_type": "markdown",
   "metadata": {},
   "source": [
    "## Generate Signal Tracks"
   ]
  },
  {
   "cell_type": "code",
   "execution_count": 26,
   "metadata": {},
   "outputs": [
    {
     "name": "stdout",
     "output_type": "stream",
     "text": [
      "INFO:pygenometracks.tracksClass:time initializing track(s):\r\n",
      "INFO:pygenometracks.tracksClass:0.8002221584320068\r\n",
      "DEBUG:pygenometracks.tracksClass:Figure size in cm is 40 x 114.375. Dpi is set to 72\r\n",
      "\r\n"
     ]
    },
    {
     "name": "stdout",
     "output_type": "stream",
     "text": [
      "INFO:pygenometracks.tracksClass:plotting 1. [cluster1]\r\n"
     ]
    },
    {
     "name": "stdout",
     "output_type": "stream",
     "text": [
      "INFO:pygenometracks.tracksClass:plotting 2. [spacer]\r\n",
      "INFO:pygenometracks.tracksClass:plotting 3. [cluster2]\r\n"
     ]
    },
    {
     "name": "stdout",
     "output_type": "stream",
     "text": [
      "INFO:pygenometracks.tracksClass:plotting 4. [spacer]\r\n"
     ]
    },
    {
     "name": "stdout",
     "output_type": "stream",
     "text": [
      "INFO:pygenometracks.tracksClass:plotting 5. [cluster3]\r\n"
     ]
    },
    {
     "name": "stdout",
     "output_type": "stream",
     "text": [
      "INFO:pygenometracks.tracksClass:plotting 6. [spacer]\r\n"
     ]
    },
    {
     "name": "stdout",
     "output_type": "stream",
     "text": [
      "INFO:pygenometracks.tracksClass:plotting 7. [cluster4]\r\n"
     ]
    },
    {
     "name": "stdout",
     "output_type": "stream",
     "text": [
      "INFO:pygenometracks.tracksClass:plotting 8. [spacer]\r\n"
     ]
    },
    {
     "name": "stdout",
     "output_type": "stream",
     "text": [
      "INFO:pygenometracks.tracksClass:plotting 9. [cluster5]\r\n"
     ]
    },
    {
     "name": "stdout",
     "output_type": "stream",
     "text": [
      "INFO:pygenometracks.tracksClass:plotting 10. [spacer]\r\n",
      "INFO:pygenometracks.tracksClass:plotting 11. [cluster6]\r\n"
     ]
    },
    {
     "name": "stdout",
     "output_type": "stream",
     "text": [
      "INFO:pygenometracks.tracksClass:plotting 12. [spacer]\r\n"
     ]
    },
    {
     "name": "stdout",
     "output_type": "stream",
     "text": [
      "INFO:pygenometracks.tracksClass:plotting 13. [cluster7]\r\n"
     ]
    },
    {
     "name": "stdout",
     "output_type": "stream",
     "text": [
      "INFO:pygenometracks.tracksClass:plotting 14. [spacer]\r\n"
     ]
    },
    {
     "name": "stdout",
     "output_type": "stream",
     "text": [
      "INFO:pygenometracks.tracksClass:plotting 15. [cluster8]\r\n"
     ]
    },
    {
     "name": "stdout",
     "output_type": "stream",
     "text": [
      "INFO:pygenometracks.tracksClass:plotting 16. [spacer]\r\n"
     ]
    },
    {
     "name": "stdout",
     "output_type": "stream",
     "text": [
      "INFO:pygenometracks.tracksClass:plotting 17. [cluster9]\r\n"
     ]
    },
    {
     "name": "stdout",
     "output_type": "stream",
     "text": [
      "INFO:pygenometracks.tracksClass:plotting 18. [spacer]\r\n",
      "INFO:pygenometracks.tracksClass:plotting 19. [cluster10]\r\n"
     ]
    },
    {
     "name": "stdout",
     "output_type": "stream",
     "text": [
      "INFO:pygenometracks.tracksClass:plotting 20. [spacer]\r\n"
     ]
    },
    {
     "name": "stdout",
     "output_type": "stream",
     "text": [
      "INFO:pygenometracks.tracksClass:plotting 21. [cluster11]\r\n"
     ]
    },
    {
     "name": "stdout",
     "output_type": "stream",
     "text": [
      "INFO:pygenometracks.tracksClass:plotting 22. [spacer]\r\n",
      "INFO:pygenometracks.tracksClass:plotting 23. [cluster12]\r\n"
     ]
    },
    {
     "name": "stdout",
     "output_type": "stream",
     "text": [
      "INFO:pygenometracks.tracksClass:plotting 24. [spacer]\r\n"
     ]
    },
    {
     "name": "stdout",
     "output_type": "stream",
     "text": [
      "INFO:pygenometracks.tracksClass:plotting 25. [cluster13]\r\n"
     ]
    },
    {
     "name": "stdout",
     "output_type": "stream",
     "text": [
      "INFO:pygenometracks.tracksClass:plotting 26. [spacer]\r\n"
     ]
    },
    {
     "name": "stdout",
     "output_type": "stream",
     "text": [
      "INFO:pygenometracks.tracksClass:plotting 27. [cluster14]\r\n"
     ]
    },
    {
     "name": "stdout",
     "output_type": "stream",
     "text": [
      "INFO:pygenometracks.tracksClass:plotting 28. [spacer]\r\n"
     ]
    },
    {
     "name": "stdout",
     "output_type": "stream",
     "text": [
      "INFO:pygenometracks.tracksClass:plotting 29. [cluster15]\r\n"
     ]
    },
    {
     "name": "stdout",
     "output_type": "stream",
     "text": [
      "INFO:pygenometracks.tracksClass:plotting 30. [spacer]\r\n"
     ]
    },
    {
     "name": "stdout",
     "output_type": "stream",
     "text": [
      "INFO:pygenometracks.tracksClass:plotting 31. [cluster16]\r\n"
     ]
    },
    {
     "name": "stdout",
     "output_type": "stream",
     "text": [
      "INFO:pygenometracks.tracksClass:plotting 32. [spacer]\r\n"
     ]
    },
    {
     "name": "stdout",
     "output_type": "stream",
     "text": [
      "INFO:pygenometracks.tracksClass:plotting 33. [cluster17]\r\n"
     ]
    },
    {
     "name": "stdout",
     "output_type": "stream",
     "text": [
      "INFO:pygenometracks.tracksClass:plotting 34. [spacer]\r\n"
     ]
    },
    {
     "name": "stdout",
     "output_type": "stream",
     "text": [
      "INFO:pygenometracks.tracksClass:plotting 35. [cluster18]\r\n"
     ]
    },
    {
     "name": "stdout",
     "output_type": "stream",
     "text": [
      "INFO:pygenometracks.tracksClass:plotting 36. [spacer]\r\n"
     ]
    },
    {
     "name": "stdout",
     "output_type": "stream",
     "text": [
      "INFO:pygenometracks.tracksClass:plotting 37. [cluster19]\r\n"
     ]
    },
    {
     "name": "stdout",
     "output_type": "stream",
     "text": [
      "INFO:pygenometracks.tracksClass:plotting 38. [spacer]\r\n"
     ]
    },
    {
     "name": "stdout",
     "output_type": "stream",
     "text": [
      "INFO:pygenometracks.tracksClass:plotting 39. [cluster20]\r\n"
     ]
    },
    {
     "name": "stdout",
     "output_type": "stream",
     "text": [
      "INFO:pygenometracks.tracksClass:plotting 40. [spacer]\r\n"
     ]
    },
    {
     "name": "stdout",
     "output_type": "stream",
     "text": [
      "INFO:pygenometracks.tracksClass:plotting 41. [cluster21]\r\n"
     ]
    },
    {
     "name": "stdout",
     "output_type": "stream",
     "text": [
      "INFO:pygenometracks.tracksClass:plotting 42. [spacer]\r\n"
     ]
    },
    {
     "name": "stdout",
     "output_type": "stream",
     "text": [
      "INFO:pygenometracks.tracksClass:plotting 43. [cluster22]\r\n"
     ]
    },
    {
     "name": "stdout",
     "output_type": "stream",
     "text": [
      "INFO:pygenometracks.tracksClass:plotting 44. [spacer]\r\n"
     ]
    },
    {
     "name": "stdout",
     "output_type": "stream",
     "text": [
      "INFO:pygenometracks.tracksClass:plotting 45. [cluster23]\r\n"
     ]
    },
    {
     "name": "stdout",
     "output_type": "stream",
     "text": [
      "INFO:pygenometracks.tracksClass:plotting 46. [spacer]\r\n"
     ]
    },
    {
     "name": "stdout",
     "output_type": "stream",
     "text": [
      "INFO:pygenometracks.tracksClass:plotting 47. [cluster24]\r\n"
     ]
    },
    {
     "name": "stdout",
     "output_type": "stream",
     "text": [
      "INFO:pygenometracks.tracksClass:plotting 48. [spacer]\r\n"
     ]
    },
    {
     "name": "stdout",
     "output_type": "stream",
     "text": [
      "INFO:pygenometracks.tracksClass:plotting 49. [snps]\r\n"
     ]
    },
    {
     "name": "stdout",
     "output_type": "stream",
     "text": [
      "DEBUG:pygenometracks.tracks.GenomeTrack:ylim 1479.9999999999998,0\r\n",
      "INFO:pygenometracks.tracksClass:plotting 50. [spacer]\r\n"
     ]
    },
    {
     "name": "stdout",
     "output_type": "stream",
     "text": [
      "INFO:pygenometracks.tracksClass:plotting 51. [x-axis]\r\n"
     ]
    },
    {
     "name": "stdout",
     "output_type": "stream",
     "text": [
      "INFO:pygenometracks.tracksClass:time initializing track(s):\r\n",
      "INFO:pygenometracks.tracksClass:0.5645301342010498\r\n",
      "DEBUG:pygenometracks.tracksClass:Figure size in cm is 40 x 114.375. Dpi is set to 72\r\n",
      "\r\n"
     ]
    },
    {
     "name": "stdout",
     "output_type": "stream",
     "text": [
      "INFO:pygenometracks.tracksClass:plotting 1. [cluster1]\r\n"
     ]
    },
    {
     "name": "stdout",
     "output_type": "stream",
     "text": [
      "INFO:pygenometracks.tracksClass:plotting 2. [spacer]\r\n"
     ]
    },
    {
     "name": "stdout",
     "output_type": "stream",
     "text": [
      "INFO:pygenometracks.tracksClass:plotting 3. [cluster2]\r\n"
     ]
    },
    {
     "name": "stdout",
     "output_type": "stream",
     "text": [
      "INFO:pygenometracks.tracksClass:plotting 4. [spacer]\r\n"
     ]
    },
    {
     "name": "stdout",
     "output_type": "stream",
     "text": [
      "INFO:pygenometracks.tracksClass:plotting 5. [cluster3]\r\n"
     ]
    },
    {
     "name": "stdout",
     "output_type": "stream",
     "text": [
      "INFO:pygenometracks.tracksClass:plotting 6. [spacer]\r\n"
     ]
    },
    {
     "name": "stdout",
     "output_type": "stream",
     "text": [
      "INFO:pygenometracks.tracksClass:plotting 7. [cluster4]\r\n"
     ]
    },
    {
     "name": "stdout",
     "output_type": "stream",
     "text": [
      "INFO:pygenometracks.tracksClass:plotting 8. [spacer]\r\n"
     ]
    },
    {
     "name": "stdout",
     "output_type": "stream",
     "text": [
      "INFO:pygenometracks.tracksClass:plotting 9. [cluster5]\r\n"
     ]
    },
    {
     "name": "stdout",
     "output_type": "stream",
     "text": [
      "INFO:pygenometracks.tracksClass:plotting 10. [spacer]\r\n"
     ]
    },
    {
     "name": "stdout",
     "output_type": "stream",
     "text": [
      "INFO:pygenometracks.tracksClass:plotting 11. [cluster6]\r\n"
     ]
    },
    {
     "name": "stdout",
     "output_type": "stream",
     "text": [
      "INFO:pygenometracks.tracksClass:plotting 12. [spacer]\r\n"
     ]
    },
    {
     "name": "stdout",
     "output_type": "stream",
     "text": [
      "INFO:pygenometracks.tracksClass:plotting 13. [cluster7]\r\n"
     ]
    },
    {
     "name": "stdout",
     "output_type": "stream",
     "text": [
      "INFO:pygenometracks.tracksClass:plotting 14. [spacer]\r\n"
     ]
    },
    {
     "name": "stdout",
     "output_type": "stream",
     "text": [
      "INFO:pygenometracks.tracksClass:plotting 15. [cluster8]\r\n"
     ]
    },
    {
     "name": "stdout",
     "output_type": "stream",
     "text": [
      "INFO:pygenometracks.tracksClass:plotting 16. [spacer]\r\n"
     ]
    },
    {
     "name": "stdout",
     "output_type": "stream",
     "text": [
      "INFO:pygenometracks.tracksClass:plotting 17. [cluster9]\r\n"
     ]
    },
    {
     "name": "stdout",
     "output_type": "stream",
     "text": [
      "INFO:pygenometracks.tracksClass:plotting 18. [spacer]\r\n",
      "INFO:pygenometracks.tracksClass:plotting 19. [cluster10]\r\n"
     ]
    },
    {
     "name": "stdout",
     "output_type": "stream",
     "text": [
      "INFO:pygenometracks.tracksClass:plotting 20. [spacer]\r\n"
     ]
    },
    {
     "name": "stdout",
     "output_type": "stream",
     "text": [
      "INFO:pygenometracks.tracksClass:plotting 21. [cluster11]\r\n"
     ]
    },
    {
     "name": "stdout",
     "output_type": "stream",
     "text": [
      "INFO:pygenometracks.tracksClass:plotting 22. [spacer]\r\n"
     ]
    },
    {
     "name": "stdout",
     "output_type": "stream",
     "text": [
      "INFO:pygenometracks.tracksClass:plotting 23. [cluster12]\r\n"
     ]
    },
    {
     "name": "stdout",
     "output_type": "stream",
     "text": [
      "INFO:pygenometracks.tracksClass:plotting 24. [spacer]\r\n",
      "INFO:pygenometracks.tracksClass:plotting 25. [cluster13]\r\n"
     ]
    },
    {
     "name": "stdout",
     "output_type": "stream",
     "text": [
      "INFO:pygenometracks.tracksClass:plotting 26. [spacer]\r\n"
     ]
    },
    {
     "name": "stdout",
     "output_type": "stream",
     "text": [
      "INFO:pygenometracks.tracksClass:plotting 27. [cluster14]\r\n"
     ]
    },
    {
     "name": "stdout",
     "output_type": "stream",
     "text": [
      "INFO:pygenometracks.tracksClass:plotting 28. [spacer]\r\n"
     ]
    },
    {
     "name": "stdout",
     "output_type": "stream",
     "text": [
      "INFO:pygenometracks.tracksClass:plotting 29. [cluster15]\r\n"
     ]
    },
    {
     "name": "stdout",
     "output_type": "stream",
     "text": [
      "INFO:pygenometracks.tracksClass:plotting 30. [spacer]\r\n"
     ]
    },
    {
     "name": "stdout",
     "output_type": "stream",
     "text": [
      "INFO:pygenometracks.tracksClass:plotting 31. [cluster16]\r\n"
     ]
    },
    {
     "name": "stdout",
     "output_type": "stream",
     "text": [
      "INFO:pygenometracks.tracksClass:plotting 32. [spacer]\r\n"
     ]
    },
    {
     "name": "stdout",
     "output_type": "stream",
     "text": [
      "INFO:pygenometracks.tracksClass:plotting 33. [cluster17]\r\n"
     ]
    },
    {
     "name": "stdout",
     "output_type": "stream",
     "text": [
      "INFO:pygenometracks.tracksClass:plotting 34. [spacer]\r\n"
     ]
    },
    {
     "name": "stdout",
     "output_type": "stream",
     "text": [
      "INFO:pygenometracks.tracksClass:plotting 35. [cluster18]\r\n"
     ]
    },
    {
     "name": "stdout",
     "output_type": "stream",
     "text": [
      "INFO:pygenometracks.tracksClass:plotting 36. [spacer]\r\n"
     ]
    },
    {
     "name": "stdout",
     "output_type": "stream",
     "text": [
      "INFO:pygenometracks.tracksClass:plotting 37. [cluster19]\r\n"
     ]
    },
    {
     "name": "stdout",
     "output_type": "stream",
     "text": [
      "INFO:pygenometracks.tracksClass:plotting 38. [spacer]\r\n"
     ]
    },
    {
     "name": "stdout",
     "output_type": "stream",
     "text": [
      "INFO:pygenometracks.tracksClass:plotting 39. [cluster20]\r\n"
     ]
    },
    {
     "name": "stdout",
     "output_type": "stream",
     "text": [
      "INFO:pygenometracks.tracksClass:plotting 40. [spacer]\r\n"
     ]
    },
    {
     "name": "stdout",
     "output_type": "stream",
     "text": [
      "INFO:pygenometracks.tracksClass:plotting 41. [cluster21]\r\n"
     ]
    },
    {
     "name": "stdout",
     "output_type": "stream",
     "text": [
      "INFO:pygenometracks.tracksClass:plotting 42. [spacer]\r\n"
     ]
    },
    {
     "name": "stdout",
     "output_type": "stream",
     "text": [
      "INFO:pygenometracks.tracksClass:plotting 43. [cluster22]\r\n"
     ]
    },
    {
     "name": "stdout",
     "output_type": "stream",
     "text": [
      "INFO:pygenometracks.tracksClass:plotting 44. [spacer]\r\n"
     ]
    },
    {
     "name": "stdout",
     "output_type": "stream",
     "text": [
      "INFO:pygenometracks.tracksClass:plotting 45. [cluster23]\r\n"
     ]
    },
    {
     "name": "stdout",
     "output_type": "stream",
     "text": [
      "INFO:pygenometracks.tracksClass:plotting 46. [spacer]\r\n"
     ]
    },
    {
     "name": "stdout",
     "output_type": "stream",
     "text": [
      "INFO:pygenometracks.tracksClass:plotting 47. [cluster24]\r\n"
     ]
    },
    {
     "name": "stdout",
     "output_type": "stream",
     "text": [
      "INFO:pygenometracks.tracksClass:plotting 48. [spacer]\r\n",
      "INFO:pygenometracks.tracksClass:plotting 49. [snps]\r\n"
     ]
    },
    {
     "name": "stdout",
     "output_type": "stream",
     "text": [
      "DEBUG:pygenometracks.tracks.GenomeTrack:ylim 1479.9999999999998,0\r\n",
      "INFO:pygenometracks.tracksClass:plotting 50. [spacer]\r\n"
     ]
    },
    {
     "name": "stdout",
     "output_type": "stream",
     "text": [
      "INFO:pygenometracks.tracksClass:plotting 51. [x-axis]\r\n"
     ]
    },
    {
     "name": "stdout",
     "output_type": "stream",
     "text": [
      "INFO:pygenometracks.tracksClass:time initializing track(s):\r\n",
      "INFO:pygenometracks.tracksClass:0.1558694839477539\r\n",
      "DEBUG:pygenometracks.tracksClass:Figure size in cm is 40 x 114.375. Dpi is set to 72\r\n",
      "\r\n"
     ]
    },
    {
     "name": "stdout",
     "output_type": "stream",
     "text": [
      "INFO:pygenometracks.tracksClass:plotting 1. [cluster1]\r\n"
     ]
    },
    {
     "name": "stdout",
     "output_type": "stream",
     "text": [
      "INFO:pygenometracks.tracksClass:plotting 2. [spacer]\r\n",
      "INFO:pygenometracks.tracksClass:plotting 3. [cluster2]\r\n"
     ]
    },
    {
     "name": "stdout",
     "output_type": "stream",
     "text": [
      "INFO:pygenometracks.tracksClass:plotting 4. [spacer]\r\n"
     ]
    },
    {
     "name": "stdout",
     "output_type": "stream",
     "text": [
      "INFO:pygenometracks.tracksClass:plotting 5. [cluster3]\r\n"
     ]
    },
    {
     "name": "stdout",
     "output_type": "stream",
     "text": [
      "INFO:pygenometracks.tracksClass:plotting 6. [spacer]\r\n"
     ]
    },
    {
     "name": "stdout",
     "output_type": "stream",
     "text": [
      "INFO:pygenometracks.tracksClass:plotting 7. [cluster4]\r\n"
     ]
    },
    {
     "name": "stdout",
     "output_type": "stream",
     "text": [
      "INFO:pygenometracks.tracksClass:plotting 8. [spacer]\r\n"
     ]
    },
    {
     "name": "stdout",
     "output_type": "stream",
     "text": [
      "INFO:pygenometracks.tracksClass:plotting 9. [cluster5]\r\n"
     ]
    },
    {
     "name": "stdout",
     "output_type": "stream",
     "text": [
      "INFO:pygenometracks.tracksClass:plotting 10. [spacer]\r\n"
     ]
    },
    {
     "name": "stdout",
     "output_type": "stream",
     "text": [
      "INFO:pygenometracks.tracksClass:plotting 11. [cluster6]\r\n"
     ]
    },
    {
     "name": "stdout",
     "output_type": "stream",
     "text": [
      "INFO:pygenometracks.tracksClass:plotting 12. [spacer]\r\n"
     ]
    },
    {
     "name": "stdout",
     "output_type": "stream",
     "text": [
      "INFO:pygenometracks.tracksClass:plotting 13. [cluster7]\r\n"
     ]
    },
    {
     "name": "stdout",
     "output_type": "stream",
     "text": [
      "INFO:pygenometracks.tracksClass:plotting 14. [spacer]\r\n"
     ]
    },
    {
     "name": "stdout",
     "output_type": "stream",
     "text": [
      "INFO:pygenometracks.tracksClass:plotting 15. [cluster8]\r\n"
     ]
    },
    {
     "name": "stdout",
     "output_type": "stream",
     "text": [
      "INFO:pygenometracks.tracksClass:plotting 16. [spacer]\r\n"
     ]
    },
    {
     "name": "stdout",
     "output_type": "stream",
     "text": [
      "INFO:pygenometracks.tracksClass:plotting 17. [cluster9]\r\n"
     ]
    },
    {
     "name": "stdout",
     "output_type": "stream",
     "text": [
      "INFO:pygenometracks.tracksClass:plotting 18. [spacer]\r\n",
      "INFO:pygenometracks.tracksClass:plotting 19. [cluster10]\r\n"
     ]
    },
    {
     "name": "stdout",
     "output_type": "stream",
     "text": [
      "INFO:pygenometracks.tracksClass:plotting 20. [spacer]\r\n"
     ]
    },
    {
     "name": "stdout",
     "output_type": "stream",
     "text": [
      "INFO:pygenometracks.tracksClass:plotting 21. [cluster11]\r\n"
     ]
    },
    {
     "name": "stdout",
     "output_type": "stream",
     "text": [
      "INFO:pygenometracks.tracksClass:plotting 22. [spacer]\r\n",
      "INFO:pygenometracks.tracksClass:plotting 23. [cluster12]\r\n"
     ]
    },
    {
     "name": "stdout",
     "output_type": "stream",
     "text": [
      "INFO:pygenometracks.tracksClass:plotting 24. [spacer]\r\n"
     ]
    },
    {
     "name": "stdout",
     "output_type": "stream",
     "text": [
      "INFO:pygenometracks.tracksClass:plotting 25. [cluster13]\r\n"
     ]
    },
    {
     "name": "stdout",
     "output_type": "stream",
     "text": [
      "INFO:pygenometracks.tracksClass:plotting 26. [spacer]\r\n",
      "INFO:pygenometracks.tracksClass:plotting 27. [cluster14]\r\n"
     ]
    },
    {
     "name": "stdout",
     "output_type": "stream",
     "text": [
      "INFO:pygenometracks.tracksClass:plotting 28. [spacer]\r\n"
     ]
    },
    {
     "name": "stdout",
     "output_type": "stream",
     "text": [
      "INFO:pygenometracks.tracksClass:plotting 29. [cluster15]\r\n"
     ]
    },
    {
     "name": "stdout",
     "output_type": "stream",
     "text": [
      "INFO:pygenometracks.tracksClass:plotting 30. [spacer]\r\n"
     ]
    },
    {
     "name": "stdout",
     "output_type": "stream",
     "text": [
      "INFO:pygenometracks.tracksClass:plotting 31. [cluster16]\r\n"
     ]
    },
    {
     "name": "stdout",
     "output_type": "stream",
     "text": [
      "INFO:pygenometracks.tracksClass:plotting 32. [spacer]\r\n"
     ]
    },
    {
     "name": "stdout",
     "output_type": "stream",
     "text": [
      "INFO:pygenometracks.tracksClass:plotting 33. [cluster17]\r\n"
     ]
    },
    {
     "name": "stdout",
     "output_type": "stream",
     "text": [
      "INFO:pygenometracks.tracksClass:plotting 34. [spacer]\r\n",
      "INFO:pygenometracks.tracksClass:plotting 35. [cluster18]\r\n"
     ]
    },
    {
     "name": "stdout",
     "output_type": "stream",
     "text": [
      "INFO:pygenometracks.tracksClass:plotting 36. [spacer]\r\n"
     ]
    },
    {
     "name": "stdout",
     "output_type": "stream",
     "text": [
      "INFO:pygenometracks.tracksClass:plotting 37. [cluster19]\r\n"
     ]
    },
    {
     "name": "stdout",
     "output_type": "stream",
     "text": [
      "INFO:pygenometracks.tracksClass:plotting 38. [spacer]\r\n",
      "INFO:pygenometracks.tracksClass:plotting 39. [cluster20]\r\n"
     ]
    },
    {
     "name": "stdout",
     "output_type": "stream",
     "text": [
      "INFO:pygenometracks.tracksClass:plotting 40. [spacer]\r\n"
     ]
    },
    {
     "name": "stdout",
     "output_type": "stream",
     "text": [
      "INFO:pygenometracks.tracksClass:plotting 41. [cluster21]\r\n"
     ]
    },
    {
     "name": "stdout",
     "output_type": "stream",
     "text": [
      "INFO:pygenometracks.tracksClass:plotting 42. [spacer]\r\n"
     ]
    },
    {
     "name": "stdout",
     "output_type": "stream",
     "text": [
      "INFO:pygenometracks.tracksClass:plotting 43. [cluster22]\r\n"
     ]
    },
    {
     "name": "stdout",
     "output_type": "stream",
     "text": [
      "INFO:pygenometracks.tracksClass:plotting 44. [spacer]\r\n",
      "INFO:pygenometracks.tracksClass:plotting 45. [cluster23]\r\n"
     ]
    },
    {
     "name": "stdout",
     "output_type": "stream",
     "text": [
      "INFO:pygenometracks.tracksClass:plotting 46. [spacer]\r\n"
     ]
    },
    {
     "name": "stdout",
     "output_type": "stream",
     "text": [
      "INFO:pygenometracks.tracksClass:plotting 47. [cluster24]\r\n"
     ]
    },
    {
     "name": "stdout",
     "output_type": "stream",
     "text": [
      "INFO:pygenometracks.tracksClass:plotting 48. [spacer]\r\n"
     ]
    },
    {
     "name": "stdout",
     "output_type": "stream",
     "text": [
      "INFO:pygenometracks.tracksClass:plotting 49. [snps]\r\n"
     ]
    },
    {
     "name": "stdout",
     "output_type": "stream",
     "text": [
      "DEBUG:pygenometracks.tracks.GenomeTrack:ylim 330.0,0\r\n",
      "INFO:pygenometracks.tracksClass:plotting 50. [spacer]\r\n"
     ]
    },
    {
     "name": "stdout",
     "output_type": "stream",
     "text": [
      "INFO:pygenometracks.tracksClass:plotting 51. [x-axis]\r\n"
     ]
    },
    {
     "name": "stdout",
     "output_type": "stream",
     "text": [
      "INFO:pygenometracks.tracksClass:time initializing track(s):\r\n",
      "INFO:pygenometracks.tracksClass:0.27930402755737305\r\n",
      "DEBUG:pygenometracks.tracksClass:Figure size in cm is 40 x 114.375. Dpi is set to 72\r\n",
      "\r\n"
     ]
    },
    {
     "name": "stdout",
     "output_type": "stream",
     "text": [
      "INFO:pygenometracks.tracksClass:plotting 1. [cluster1]\r\n"
     ]
    },
    {
     "name": "stdout",
     "output_type": "stream",
     "text": [
      "INFO:pygenometracks.tracksClass:plotting 2. [spacer]\r\n"
     ]
    },
    {
     "name": "stdout",
     "output_type": "stream",
     "text": [
      "INFO:pygenometracks.tracksClass:plotting 3. [cluster2]\r\n"
     ]
    },
    {
     "name": "stdout",
     "output_type": "stream",
     "text": [
      "INFO:pygenometracks.tracksClass:plotting 4. [spacer]\r\n"
     ]
    },
    {
     "name": "stdout",
     "output_type": "stream",
     "text": [
      "INFO:pygenometracks.tracksClass:plotting 5. [cluster3]\r\n"
     ]
    },
    {
     "name": "stdout",
     "output_type": "stream",
     "text": [
      "INFO:pygenometracks.tracksClass:plotting 6. [spacer]\r\n"
     ]
    },
    {
     "name": "stdout",
     "output_type": "stream",
     "text": [
      "INFO:pygenometracks.tracksClass:plotting 7. [cluster4]\r\n"
     ]
    },
    {
     "name": "stdout",
     "output_type": "stream",
     "text": [
      "INFO:pygenometracks.tracksClass:plotting 8. [spacer]\r\n"
     ]
    },
    {
     "name": "stdout",
     "output_type": "stream",
     "text": [
      "INFO:pygenometracks.tracksClass:plotting 9. [cluster5]\r\n"
     ]
    },
    {
     "name": "stdout",
     "output_type": "stream",
     "text": [
      "INFO:pygenometracks.tracksClass:plotting 10. [spacer]\r\n"
     ]
    },
    {
     "name": "stdout",
     "output_type": "stream",
     "text": [
      "INFO:pygenometracks.tracksClass:plotting 11. [cluster6]\r\n"
     ]
    },
    {
     "name": "stdout",
     "output_type": "stream",
     "text": [
      "INFO:pygenometracks.tracksClass:plotting 12. [spacer]\r\n"
     ]
    },
    {
     "name": "stdout",
     "output_type": "stream",
     "text": [
      "INFO:pygenometracks.tracksClass:plotting 13. [cluster7]\r\n"
     ]
    },
    {
     "name": "stdout",
     "output_type": "stream",
     "text": [
      "INFO:pygenometracks.tracksClass:plotting 14. [spacer]\r\n"
     ]
    },
    {
     "name": "stdout",
     "output_type": "stream",
     "text": [
      "INFO:pygenometracks.tracksClass:plotting 15. [cluster8]\r\n"
     ]
    },
    {
     "name": "stdout",
     "output_type": "stream",
     "text": [
      "INFO:pygenometracks.tracksClass:plotting 16. [spacer]\r\n"
     ]
    },
    {
     "name": "stdout",
     "output_type": "stream",
     "text": [
      "INFO:pygenometracks.tracksClass:plotting 17. [cluster9]\r\n"
     ]
    },
    {
     "name": "stdout",
     "output_type": "stream",
     "text": [
      "INFO:pygenometracks.tracksClass:plotting 18. [spacer]\r\n"
     ]
    },
    {
     "name": "stdout",
     "output_type": "stream",
     "text": [
      "INFO:pygenometracks.tracksClass:plotting 19. [cluster10]\r\n"
     ]
    },
    {
     "name": "stdout",
     "output_type": "stream",
     "text": [
      "INFO:pygenometracks.tracksClass:plotting 20. [spacer]\r\n"
     ]
    },
    {
     "name": "stdout",
     "output_type": "stream",
     "text": [
      "INFO:pygenometracks.tracksClass:plotting 21. [cluster11]\r\n"
     ]
    },
    {
     "name": "stdout",
     "output_type": "stream",
     "text": [
      "INFO:pygenometracks.tracksClass:plotting 22. [spacer]\r\n"
     ]
    },
    {
     "name": "stdout",
     "output_type": "stream",
     "text": [
      "INFO:pygenometracks.tracksClass:plotting 23. [cluster12]\r\n"
     ]
    },
    {
     "name": "stdout",
     "output_type": "stream",
     "text": [
      "INFO:pygenometracks.tracksClass:plotting 24. [spacer]\r\n"
     ]
    },
    {
     "name": "stdout",
     "output_type": "stream",
     "text": [
      "INFO:pygenometracks.tracksClass:plotting 25. [cluster13]\r\n"
     ]
    },
    {
     "name": "stdout",
     "output_type": "stream",
     "text": [
      "INFO:pygenometracks.tracksClass:plotting 26. [spacer]\r\n",
      "INFO:pygenometracks.tracksClass:plotting 27. [cluster14]\r\n"
     ]
    },
    {
     "name": "stdout",
     "output_type": "stream",
     "text": [
      "INFO:pygenometracks.tracksClass:plotting 28. [spacer]\r\n"
     ]
    },
    {
     "name": "stdout",
     "output_type": "stream",
     "text": [
      "INFO:pygenometracks.tracksClass:plotting 29. [cluster15]\r\n"
     ]
    },
    {
     "name": "stdout",
     "output_type": "stream",
     "text": [
      "INFO:pygenometracks.tracksClass:plotting 30. [spacer]\r\n"
     ]
    },
    {
     "name": "stdout",
     "output_type": "stream",
     "text": [
      "INFO:pygenometracks.tracksClass:plotting 31. [cluster16]\r\n"
     ]
    },
    {
     "name": "stdout",
     "output_type": "stream",
     "text": [
      "INFO:pygenometracks.tracksClass:plotting 32. [spacer]\r\n"
     ]
    },
    {
     "name": "stdout",
     "output_type": "stream",
     "text": [
      "INFO:pygenometracks.tracksClass:plotting 33. [cluster17]\r\n"
     ]
    },
    {
     "name": "stdout",
     "output_type": "stream",
     "text": [
      "INFO:pygenometracks.tracksClass:plotting 34. [spacer]\r\n"
     ]
    },
    {
     "name": "stdout",
     "output_type": "stream",
     "text": [
      "INFO:pygenometracks.tracksClass:plotting 35. [cluster18]\r\n"
     ]
    },
    {
     "name": "stdout",
     "output_type": "stream",
     "text": [
      "INFO:pygenometracks.tracksClass:plotting 36. [spacer]\r\n"
     ]
    },
    {
     "name": "stdout",
     "output_type": "stream",
     "text": [
      "INFO:pygenometracks.tracksClass:plotting 37. [cluster19]\r\n"
     ]
    },
    {
     "name": "stdout",
     "output_type": "stream",
     "text": [
      "INFO:pygenometracks.tracksClass:plotting 38. [spacer]\r\n",
      "INFO:pygenometracks.tracksClass:plotting 39. [cluster20]\r\n"
     ]
    },
    {
     "name": "stdout",
     "output_type": "stream",
     "text": [
      "INFO:pygenometracks.tracksClass:plotting 40. [spacer]\r\n"
     ]
    },
    {
     "name": "stdout",
     "output_type": "stream",
     "text": [
      "INFO:pygenometracks.tracksClass:plotting 41. [cluster21]\r\n"
     ]
    },
    {
     "name": "stdout",
     "output_type": "stream",
     "text": [
      "INFO:pygenometracks.tracksClass:plotting 42. [spacer]\r\n"
     ]
    },
    {
     "name": "stdout",
     "output_type": "stream",
     "text": [
      "INFO:pygenometracks.tracksClass:plotting 43. [cluster22]\r\n"
     ]
    },
    {
     "name": "stdout",
     "output_type": "stream",
     "text": [
      "INFO:pygenometracks.tracksClass:plotting 44. [spacer]\r\n"
     ]
    },
    {
     "name": "stdout",
     "output_type": "stream",
     "text": [
      "INFO:pygenometracks.tracksClass:plotting 45. [cluster23]\r\n"
     ]
    },
    {
     "name": "stdout",
     "output_type": "stream",
     "text": [
      "INFO:pygenometracks.tracksClass:plotting 46. [spacer]\r\n"
     ]
    },
    {
     "name": "stdout",
     "output_type": "stream",
     "text": [
      "INFO:pygenometracks.tracksClass:plotting 47. [cluster24]\r\n"
     ]
    },
    {
     "name": "stdout",
     "output_type": "stream",
     "text": [
      "INFO:pygenometracks.tracksClass:plotting 48. [spacer]\r\n"
     ]
    },
    {
     "name": "stdout",
     "output_type": "stream",
     "text": [
      "INFO:pygenometracks.tracksClass:plotting 49. [snps]\r\n"
     ]
    },
    {
     "name": "stdout",
     "output_type": "stream",
     "text": [
      "DEBUG:pygenometracks.tracks.GenomeTrack:ylim 330.0,0\r\n",
      "INFO:pygenometracks.tracksClass:plotting 50. [spacer]\r\n"
     ]
    },
    {
     "name": "stdout",
     "output_type": "stream",
     "text": [
      "INFO:pygenometracks.tracksClass:plotting 51. [x-axis]\r\n"
     ]
    },
    {
     "name": "stdout",
     "output_type": "stream",
     "text": [
      "INFO:pygenometracks.tracksClass:time initializing track(s):\r\n",
      "INFO:pygenometracks.tracksClass:0.15616154670715332\r\n",
      "DEBUG:pygenometracks.tracksClass:Figure size in cm is 40 x 114.375. Dpi is set to 72\r\n",
      "\r\n"
     ]
    },
    {
     "name": "stdout",
     "output_type": "stream",
     "text": [
      "INFO:pygenometracks.tracksClass:plotting 1. [cluster1]\r\n"
     ]
    },
    {
     "name": "stdout",
     "output_type": "stream",
     "text": [
      "INFO:pygenometracks.tracksClass:plotting 2. [spacer]\r\n"
     ]
    },
    {
     "name": "stdout",
     "output_type": "stream",
     "text": [
      "INFO:pygenometracks.tracksClass:plotting 3. [cluster2]\r\n"
     ]
    },
    {
     "name": "stdout",
     "output_type": "stream",
     "text": [
      "INFO:pygenometracks.tracksClass:plotting 4. [spacer]\r\n"
     ]
    },
    {
     "name": "stdout",
     "output_type": "stream",
     "text": [
      "INFO:pygenometracks.tracksClass:plotting 5. [cluster3]\r\n"
     ]
    },
    {
     "name": "stdout",
     "output_type": "stream",
     "text": [
      "INFO:pygenometracks.tracksClass:plotting 6. [spacer]\r\n"
     ]
    },
    {
     "name": "stdout",
     "output_type": "stream",
     "text": [
      "INFO:pygenometracks.tracksClass:plotting 7. [cluster4]\r\n"
     ]
    },
    {
     "name": "stdout",
     "output_type": "stream",
     "text": [
      "INFO:pygenometracks.tracksClass:plotting 8. [spacer]\r\n"
     ]
    },
    {
     "name": "stdout",
     "output_type": "stream",
     "text": [
      "INFO:pygenometracks.tracksClass:plotting 9. [cluster5]\r\n"
     ]
    },
    {
     "name": "stdout",
     "output_type": "stream",
     "text": [
      "INFO:pygenometracks.tracksClass:plotting 10. [spacer]\r\n",
      "INFO:pygenometracks.tracksClass:plotting 11. [cluster6]\r\n"
     ]
    },
    {
     "name": "stdout",
     "output_type": "stream",
     "text": [
      "INFO:pygenometracks.tracksClass:plotting 12. [spacer]\r\n"
     ]
    },
    {
     "name": "stdout",
     "output_type": "stream",
     "text": [
      "INFO:pygenometracks.tracksClass:plotting 13. [cluster7]\r\n"
     ]
    },
    {
     "name": "stdout",
     "output_type": "stream",
     "text": [
      "INFO:pygenometracks.tracksClass:plotting 14. [spacer]\r\n"
     ]
    },
    {
     "name": "stdout",
     "output_type": "stream",
     "text": [
      "INFO:pygenometracks.tracksClass:plotting 15. [cluster8]\r\n"
     ]
    },
    {
     "name": "stdout",
     "output_type": "stream",
     "text": [
      "INFO:pygenometracks.tracksClass:plotting 16. [spacer]\r\n",
      "INFO:pygenometracks.tracksClass:plotting 17. [cluster9]\r\n"
     ]
    },
    {
     "name": "stdout",
     "output_type": "stream",
     "text": [
      "INFO:pygenometracks.tracksClass:plotting 18. [spacer]\r\n"
     ]
    },
    {
     "name": "stdout",
     "output_type": "stream",
     "text": [
      "INFO:pygenometracks.tracksClass:plotting 19. [cluster10]\r\n"
     ]
    },
    {
     "name": "stdout",
     "output_type": "stream",
     "text": [
      "INFO:pygenometracks.tracksClass:plotting 20. [spacer]\r\n"
     ]
    },
    {
     "name": "stdout",
     "output_type": "stream",
     "text": [
      "INFO:pygenometracks.tracksClass:plotting 21. [cluster11]\r\n"
     ]
    },
    {
     "name": "stdout",
     "output_type": "stream",
     "text": [
      "INFO:pygenometracks.tracksClass:plotting 22. [spacer]\r\n",
      "INFO:pygenometracks.tracksClass:plotting 23. [cluster12]\r\n"
     ]
    },
    {
     "name": "stdout",
     "output_type": "stream",
     "text": [
      "INFO:pygenometracks.tracksClass:plotting 24. [spacer]\r\n"
     ]
    },
    {
     "name": "stdout",
     "output_type": "stream",
     "text": [
      "INFO:pygenometracks.tracksClass:plotting 25. [cluster13]\r\n"
     ]
    },
    {
     "name": "stdout",
     "output_type": "stream",
     "text": [
      "INFO:pygenometracks.tracksClass:plotting 26. [spacer]\r\n"
     ]
    },
    {
     "name": "stdout",
     "output_type": "stream",
     "text": [
      "INFO:pygenometracks.tracksClass:plotting 27. [cluster14]\r\n"
     ]
    },
    {
     "name": "stdout",
     "output_type": "stream",
     "text": [
      "INFO:pygenometracks.tracksClass:plotting 28. [spacer]\r\n"
     ]
    },
    {
     "name": "stdout",
     "output_type": "stream",
     "text": [
      "INFO:pygenometracks.tracksClass:plotting 29. [cluster15]\r\n"
     ]
    },
    {
     "name": "stdout",
     "output_type": "stream",
     "text": [
      "INFO:pygenometracks.tracksClass:plotting 30. [spacer]\r\n"
     ]
    },
    {
     "name": "stdout",
     "output_type": "stream",
     "text": [
      "INFO:pygenometracks.tracksClass:plotting 31. [cluster16]\r\n"
     ]
    },
    {
     "name": "stdout",
     "output_type": "stream",
     "text": [
      "INFO:pygenometracks.tracksClass:plotting 32. [spacer]\r\n",
      "INFO:pygenometracks.tracksClass:plotting 33. [cluster17]\r\n"
     ]
    },
    {
     "name": "stdout",
     "output_type": "stream",
     "text": [
      "INFO:pygenometracks.tracksClass:plotting 34. [spacer]\r\n"
     ]
    },
    {
     "name": "stdout",
     "output_type": "stream",
     "text": [
      "INFO:pygenometracks.tracksClass:plotting 35. [cluster18]\r\n"
     ]
    },
    {
     "name": "stdout",
     "output_type": "stream",
     "text": [
      "INFO:pygenometracks.tracksClass:plotting 36. [spacer]\r\n",
      "INFO:pygenometracks.tracksClass:plotting 37. [cluster19]\r\n"
     ]
    },
    {
     "name": "stdout",
     "output_type": "stream",
     "text": [
      "INFO:pygenometracks.tracksClass:plotting 38. [spacer]\r\n"
     ]
    },
    {
     "name": "stdout",
     "output_type": "stream",
     "text": [
      "INFO:pygenometracks.tracksClass:plotting 39. [cluster20]\r\n"
     ]
    },
    {
     "name": "stdout",
     "output_type": "stream",
     "text": [
      "INFO:pygenometracks.tracksClass:plotting 40. [spacer]\r\n"
     ]
    },
    {
     "name": "stdout",
     "output_type": "stream",
     "text": [
      "INFO:pygenometracks.tracksClass:plotting 41. [cluster21]\r\n"
     ]
    },
    {
     "name": "stdout",
     "output_type": "stream",
     "text": [
      "INFO:pygenometracks.tracksClass:plotting 42. [spacer]\r\n"
     ]
    },
    {
     "name": "stdout",
     "output_type": "stream",
     "text": [
      "INFO:pygenometracks.tracksClass:plotting 43. [cluster22]\r\n"
     ]
    },
    {
     "name": "stdout",
     "output_type": "stream",
     "text": [
      "INFO:pygenometracks.tracksClass:plotting 44. [spacer]\r\n"
     ]
    },
    {
     "name": "stdout",
     "output_type": "stream",
     "text": [
      "INFO:pygenometracks.tracksClass:plotting 45. [cluster23]\r\n"
     ]
    },
    {
     "name": "stdout",
     "output_type": "stream",
     "text": [
      "INFO:pygenometracks.tracksClass:plotting 46. [spacer]\r\n"
     ]
    },
    {
     "name": "stdout",
     "output_type": "stream",
     "text": [
      "INFO:pygenometracks.tracksClass:plotting 47. [cluster24]\r\n"
     ]
    },
    {
     "name": "stdout",
     "output_type": "stream",
     "text": [
      "INFO:pygenometracks.tracksClass:plotting 48. [spacer]\r\n"
     ]
    },
    {
     "name": "stdout",
     "output_type": "stream",
     "text": [
      "INFO:pygenometracks.tracksClass:plotting 49. [snps]\r\n"
     ]
    },
    {
     "name": "stdout",
     "output_type": "stream",
     "text": [
      "DEBUG:pygenometracks.tracks.GenomeTrack:ylim 100,0\r\n",
      "INFO:pygenometracks.tracksClass:plotting 50. [spacer]\r\n"
     ]
    },
    {
     "name": "stdout",
     "output_type": "stream",
     "text": [
      "INFO:pygenometracks.tracksClass:plotting 51. [x-axis]\r\n"
     ]
    },
    {
     "name": "stdout",
     "output_type": "stream",
     "text": [
      "INFO:pygenometracks.tracksClass:time initializing track(s):\r\n",
      "INFO:pygenometracks.tracksClass:0.15103840827941895\r\n",
      "DEBUG:pygenometracks.tracksClass:Figure size in cm is 40 x 114.375. Dpi is set to 72\r\n",
      "\r\n"
     ]
    },
    {
     "name": "stdout",
     "output_type": "stream",
     "text": [
      "INFO:pygenometracks.tracksClass:plotting 1. [cluster1]\r\n"
     ]
    },
    {
     "name": "stdout",
     "output_type": "stream",
     "text": [
      "INFO:pygenometracks.tracksClass:plotting 2. [spacer]\r\n"
     ]
    },
    {
     "name": "stdout",
     "output_type": "stream",
     "text": [
      "INFO:pygenometracks.tracksClass:plotting 3. [cluster2]\r\n"
     ]
    },
    {
     "name": "stdout",
     "output_type": "stream",
     "text": [
      "INFO:pygenometracks.tracksClass:plotting 4. [spacer]\r\n"
     ]
    },
    {
     "name": "stdout",
     "output_type": "stream",
     "text": [
      "INFO:pygenometracks.tracksClass:plotting 5. [cluster3]\r\n"
     ]
    },
    {
     "name": "stdout",
     "output_type": "stream",
     "text": [
      "INFO:pygenometracks.tracksClass:plotting 6. [spacer]\r\n"
     ]
    },
    {
     "name": "stdout",
     "output_type": "stream",
     "text": [
      "INFO:pygenometracks.tracksClass:plotting 7. [cluster4]\r\n"
     ]
    },
    {
     "name": "stdout",
     "output_type": "stream",
     "text": [
      "INFO:pygenometracks.tracksClass:plotting 8. [spacer]\r\n"
     ]
    },
    {
     "name": "stdout",
     "output_type": "stream",
     "text": [
      "INFO:pygenometracks.tracksClass:plotting 9. [cluster5]\r\n"
     ]
    },
    {
     "name": "stdout",
     "output_type": "stream",
     "text": [
      "INFO:pygenometracks.tracksClass:plotting 10. [spacer]\r\n"
     ]
    },
    {
     "name": "stdout",
     "output_type": "stream",
     "text": [
      "INFO:pygenometracks.tracksClass:plotting 11. [cluster6]\r\n"
     ]
    },
    {
     "name": "stdout",
     "output_type": "stream",
     "text": [
      "INFO:pygenometracks.tracksClass:plotting 12. [spacer]\r\n"
     ]
    },
    {
     "name": "stdout",
     "output_type": "stream",
     "text": [
      "INFO:pygenometracks.tracksClass:plotting 13. [cluster7]\r\n"
     ]
    },
    {
     "name": "stdout",
     "output_type": "stream",
     "text": [
      "INFO:pygenometracks.tracksClass:plotting 14. [spacer]\r\n"
     ]
    },
    {
     "name": "stdout",
     "output_type": "stream",
     "text": [
      "INFO:pygenometracks.tracksClass:plotting 15. [cluster8]\r\n"
     ]
    },
    {
     "name": "stdout",
     "output_type": "stream",
     "text": [
      "INFO:pygenometracks.tracksClass:plotting 16. [spacer]\r\n"
     ]
    },
    {
     "name": "stdout",
     "output_type": "stream",
     "text": [
      "INFO:pygenometracks.tracksClass:plotting 17. [cluster9]\r\n"
     ]
    },
    {
     "name": "stdout",
     "output_type": "stream",
     "text": [
      "INFO:pygenometracks.tracksClass:plotting 18. [spacer]\r\n"
     ]
    },
    {
     "name": "stdout",
     "output_type": "stream",
     "text": [
      "INFO:pygenometracks.tracksClass:plotting 19. [cluster10]\r\n"
     ]
    },
    {
     "name": "stdout",
     "output_type": "stream",
     "text": [
      "INFO:pygenometracks.tracksClass:plotting 20. [spacer]\r\n"
     ]
    },
    {
     "name": "stdout",
     "output_type": "stream",
     "text": [
      "INFO:pygenometracks.tracksClass:plotting 21. [cluster11]\r\n"
     ]
    },
    {
     "name": "stdout",
     "output_type": "stream",
     "text": [
      "INFO:pygenometracks.tracksClass:plotting 22. [spacer]\r\n"
     ]
    },
    {
     "name": "stdout",
     "output_type": "stream",
     "text": [
      "INFO:pygenometracks.tracksClass:plotting 23. [cluster12]\r\n"
     ]
    },
    {
     "name": "stdout",
     "output_type": "stream",
     "text": [
      "INFO:pygenometracks.tracksClass:plotting 24. [spacer]\r\n",
      "INFO:pygenometracks.tracksClass:plotting 25. [cluster13]\r\n"
     ]
    },
    {
     "name": "stdout",
     "output_type": "stream",
     "text": [
      "INFO:pygenometracks.tracksClass:plotting 26. [spacer]\r\n"
     ]
    },
    {
     "name": "stdout",
     "output_type": "stream",
     "text": [
      "INFO:pygenometracks.tracksClass:plotting 27. [cluster14]\r\n"
     ]
    },
    {
     "name": "stdout",
     "output_type": "stream",
     "text": [
      "INFO:pygenometracks.tracksClass:plotting 28. [spacer]\r\n"
     ]
    },
    {
     "name": "stdout",
     "output_type": "stream",
     "text": [
      "INFO:pygenometracks.tracksClass:plotting 29. [cluster15]\r\n"
     ]
    },
    {
     "name": "stdout",
     "output_type": "stream",
     "text": [
      "INFO:pygenometracks.tracksClass:plotting 30. [spacer]\r\n"
     ]
    },
    {
     "name": "stdout",
     "output_type": "stream",
     "text": [
      "INFO:pygenometracks.tracksClass:plotting 31. [cluster16]\r\n"
     ]
    },
    {
     "name": "stdout",
     "output_type": "stream",
     "text": [
      "INFO:pygenometracks.tracksClass:plotting 32. [spacer]\r\n",
      "INFO:pygenometracks.tracksClass:plotting 33. [cluster17]\r\n"
     ]
    },
    {
     "name": "stdout",
     "output_type": "stream",
     "text": [
      "INFO:pygenometracks.tracksClass:plotting 34. [spacer]\r\n"
     ]
    },
    {
     "name": "stdout",
     "output_type": "stream",
     "text": [
      "INFO:pygenometracks.tracksClass:plotting 35. [cluster18]\r\n"
     ]
    },
    {
     "name": "stdout",
     "output_type": "stream",
     "text": [
      "INFO:pygenometracks.tracksClass:plotting 36. [spacer]\r\n"
     ]
    },
    {
     "name": "stdout",
     "output_type": "stream",
     "text": [
      "INFO:pygenometracks.tracksClass:plotting 37. [cluster19]\r\n"
     ]
    },
    {
     "name": "stdout",
     "output_type": "stream",
     "text": [
      "INFO:pygenometracks.tracksClass:plotting 38. [spacer]\r\n"
     ]
    },
    {
     "name": "stdout",
     "output_type": "stream",
     "text": [
      "INFO:pygenometracks.tracksClass:plotting 39. [cluster20]\r\n"
     ]
    },
    {
     "name": "stdout",
     "output_type": "stream",
     "text": [
      "INFO:pygenometracks.tracksClass:plotting 40. [spacer]\r\n"
     ]
    },
    {
     "name": "stdout",
     "output_type": "stream",
     "text": [
      "INFO:pygenometracks.tracksClass:plotting 41. [cluster21]\r\n"
     ]
    },
    {
     "name": "stdout",
     "output_type": "stream",
     "text": [
      "INFO:pygenometracks.tracksClass:plotting 42. [spacer]\r\n",
      "INFO:pygenometracks.tracksClass:plotting 43. [cluster22]\r\n"
     ]
    },
    {
     "name": "stdout",
     "output_type": "stream",
     "text": [
      "INFO:pygenometracks.tracksClass:plotting 44. [spacer]\r\n"
     ]
    },
    {
     "name": "stdout",
     "output_type": "stream",
     "text": [
      "INFO:pygenometracks.tracksClass:plotting 45. [cluster23]\r\n"
     ]
    },
    {
     "name": "stdout",
     "output_type": "stream",
     "text": [
      "INFO:pygenometracks.tracksClass:plotting 46. [spacer]\r\n"
     ]
    },
    {
     "name": "stdout",
     "output_type": "stream",
     "text": [
      "INFO:pygenometracks.tracksClass:plotting 47. [cluster24]\r\n"
     ]
    },
    {
     "name": "stdout",
     "output_type": "stream",
     "text": [
      "INFO:pygenometracks.tracksClass:plotting 48. [spacer]\r\n"
     ]
    },
    {
     "name": "stdout",
     "output_type": "stream",
     "text": [
      "INFO:pygenometracks.tracksClass:plotting 49. [snps]\r\n"
     ]
    },
    {
     "name": "stdout",
     "output_type": "stream",
     "text": [
      "DEBUG:pygenometracks.tracks.GenomeTrack:ylim 100,0\r\n",
      "INFO:pygenometracks.tracksClass:plotting 50. [spacer]\r\n",
      "INFO:pygenometracks.tracksClass:plotting 51. [x-axis]\r\n"
     ]
    },
    {
     "name": "stdout",
     "output_type": "stream",
     "text": [
      "INFO:pygenometracks.tracksClass:time initializing track(s):\r\n",
      "INFO:pygenometracks.tracksClass:0.1448993682861328\r\n",
      "DEBUG:pygenometracks.tracksClass:Figure size in cm is 40 x 114.375. Dpi is set to 72\r\n",
      "\r\n"
     ]
    },
    {
     "name": "stdout",
     "output_type": "stream",
     "text": [
      "INFO:pygenometracks.tracksClass:plotting 1. [cluster1]\r\n"
     ]
    },
    {
     "name": "stdout",
     "output_type": "stream",
     "text": [
      "INFO:pygenometracks.tracksClass:plotting 2. [spacer]\r\n"
     ]
    },
    {
     "name": "stdout",
     "output_type": "stream",
     "text": [
      "INFO:pygenometracks.tracksClass:plotting 3. [cluster2]\r\n"
     ]
    },
    {
     "name": "stdout",
     "output_type": "stream",
     "text": [
      "INFO:pygenometracks.tracksClass:plotting 4. [spacer]\r\n"
     ]
    },
    {
     "name": "stdout",
     "output_type": "stream",
     "text": [
      "INFO:pygenometracks.tracksClass:plotting 5. [cluster3]\r\n"
     ]
    },
    {
     "name": "stdout",
     "output_type": "stream",
     "text": [
      "INFO:pygenometracks.tracksClass:plotting 6. [spacer]\r\n",
      "INFO:pygenometracks.tracksClass:plotting 7. [cluster4]\r\n"
     ]
    },
    {
     "name": "stdout",
     "output_type": "stream",
     "text": [
      "INFO:pygenometracks.tracksClass:plotting 8. [spacer]\r\n"
     ]
    },
    {
     "name": "stdout",
     "output_type": "stream",
     "text": [
      "INFO:pygenometracks.tracksClass:plotting 9. [cluster5]\r\n"
     ]
    },
    {
     "name": "stdout",
     "output_type": "stream",
     "text": [
      "INFO:pygenometracks.tracksClass:plotting 10. [spacer]\r\n"
     ]
    },
    {
     "name": "stdout",
     "output_type": "stream",
     "text": [
      "INFO:pygenometracks.tracksClass:plotting 11. [cluster6]\r\n"
     ]
    },
    {
     "name": "stdout",
     "output_type": "stream",
     "text": [
      "INFO:pygenometracks.tracksClass:plotting 12. [spacer]\r\n"
     ]
    },
    {
     "name": "stdout",
     "output_type": "stream",
     "text": [
      "INFO:pygenometracks.tracksClass:plotting 13. [cluster7]\r\n"
     ]
    },
    {
     "name": "stdout",
     "output_type": "stream",
     "text": [
      "INFO:pygenometracks.tracksClass:plotting 14. [spacer]\r\n"
     ]
    },
    {
     "name": "stdout",
     "output_type": "stream",
     "text": [
      "INFO:pygenometracks.tracksClass:plotting 15. [cluster8]\r\n"
     ]
    },
    {
     "name": "stdout",
     "output_type": "stream",
     "text": [
      "INFO:pygenometracks.tracksClass:plotting 16. [spacer]\r\n",
      "INFO:pygenometracks.tracksClass:plotting 17. [cluster9]\r\n"
     ]
    },
    {
     "name": "stdout",
     "output_type": "stream",
     "text": [
      "INFO:pygenometracks.tracksClass:plotting 18. [spacer]\r\n"
     ]
    },
    {
     "name": "stdout",
     "output_type": "stream",
     "text": [
      "INFO:pygenometracks.tracksClass:plotting 19. [cluster10]\r\n"
     ]
    },
    {
     "name": "stdout",
     "output_type": "stream",
     "text": [
      "INFO:pygenometracks.tracksClass:plotting 20. [spacer]\r\n",
      "INFO:pygenometracks.tracksClass:plotting 21. [cluster11]\r\n"
     ]
    },
    {
     "name": "stdout",
     "output_type": "stream",
     "text": [
      "INFO:pygenometracks.tracksClass:plotting 22. [spacer]\r\n"
     ]
    },
    {
     "name": "stdout",
     "output_type": "stream",
     "text": [
      "INFO:pygenometracks.tracksClass:plotting 23. [cluster12]\r\n"
     ]
    },
    {
     "name": "stdout",
     "output_type": "stream",
     "text": [
      "INFO:pygenometracks.tracksClass:plotting 24. [spacer]\r\n"
     ]
    },
    {
     "name": "stdout",
     "output_type": "stream",
     "text": [
      "INFO:pygenometracks.tracksClass:plotting 25. [cluster13]\r\n"
     ]
    },
    {
     "name": "stdout",
     "output_type": "stream",
     "text": [
      "INFO:pygenometracks.tracksClass:plotting 26. [spacer]\r\n"
     ]
    },
    {
     "name": "stdout",
     "output_type": "stream",
     "text": [
      "INFO:pygenometracks.tracksClass:plotting 27. [cluster14]\r\n"
     ]
    },
    {
     "name": "stdout",
     "output_type": "stream",
     "text": [
      "INFO:pygenometracks.tracksClass:plotting 28. [spacer]\r\n"
     ]
    },
    {
     "name": "stdout",
     "output_type": "stream",
     "text": [
      "INFO:pygenometracks.tracksClass:plotting 29. [cluster15]\r\n"
     ]
    },
    {
     "name": "stdout",
     "output_type": "stream",
     "text": [
      "INFO:pygenometracks.tracksClass:plotting 30. [spacer]\r\n"
     ]
    },
    {
     "name": "stdout",
     "output_type": "stream",
     "text": [
      "INFO:pygenometracks.tracksClass:plotting 31. [cluster16]\r\n"
     ]
    },
    {
     "name": "stdout",
     "output_type": "stream",
     "text": [
      "INFO:pygenometracks.tracksClass:plotting 32. [spacer]\r\n"
     ]
    },
    {
     "name": "stdout",
     "output_type": "stream",
     "text": [
      "INFO:pygenometracks.tracksClass:plotting 33. [cluster17]\r\n"
     ]
    },
    {
     "name": "stdout",
     "output_type": "stream",
     "text": [
      "INFO:pygenometracks.tracksClass:plotting 34. [spacer]\r\n"
     ]
    },
    {
     "name": "stdout",
     "output_type": "stream",
     "text": [
      "INFO:pygenometracks.tracksClass:plotting 35. [cluster18]\r\n"
     ]
    },
    {
     "name": "stdout",
     "output_type": "stream",
     "text": [
      "INFO:pygenometracks.tracksClass:plotting 36. [spacer]\r\n"
     ]
    },
    {
     "name": "stdout",
     "output_type": "stream",
     "text": [
      "INFO:pygenometracks.tracksClass:plotting 37. [cluster19]\r\n"
     ]
    },
    {
     "name": "stdout",
     "output_type": "stream",
     "text": [
      "INFO:pygenometracks.tracksClass:plotting 38. [spacer]\r\n",
      "INFO:pygenometracks.tracksClass:plotting 39. [cluster20]\r\n"
     ]
    },
    {
     "name": "stdout",
     "output_type": "stream",
     "text": [
      "INFO:pygenometracks.tracksClass:plotting 40. [spacer]\r\n"
     ]
    },
    {
     "name": "stdout",
     "output_type": "stream",
     "text": [
      "INFO:pygenometracks.tracksClass:plotting 41. [cluster21]\r\n"
     ]
    },
    {
     "name": "stdout",
     "output_type": "stream",
     "text": [
      "INFO:pygenometracks.tracksClass:plotting 42. [spacer]\r\n",
      "INFO:pygenometracks.tracksClass:plotting 43. [cluster22]\r\n"
     ]
    },
    {
     "name": "stdout",
     "output_type": "stream",
     "text": [
      "INFO:pygenometracks.tracksClass:plotting 44. [spacer]\r\n"
     ]
    },
    {
     "name": "stdout",
     "output_type": "stream",
     "text": [
      "INFO:pygenometracks.tracksClass:plotting 45. [cluster23]\r\n"
     ]
    },
    {
     "name": "stdout",
     "output_type": "stream",
     "text": [
      "INFO:pygenometracks.tracksClass:plotting 46. [spacer]\r\n"
     ]
    },
    {
     "name": "stdout",
     "output_type": "stream",
     "text": [
      "INFO:pygenometracks.tracksClass:plotting 47. [cluster24]\r\n"
     ]
    },
    {
     "name": "stdout",
     "output_type": "stream",
     "text": [
      "INFO:pygenometracks.tracksClass:plotting 48. [spacer]\r\n",
      "INFO:pygenometracks.tracksClass:plotting 49. [snps]\r\n"
     ]
    },
    {
     "name": "stdout",
     "output_type": "stream",
     "text": [
      "DEBUG:pygenometracks.tracks.GenomeTrack:ylim 100,0\r\n",
      "INFO:pygenometracks.tracksClass:plotting 50. [spacer]\r\n"
     ]
    },
    {
     "name": "stdout",
     "output_type": "stream",
     "text": [
      "INFO:pygenometracks.tracksClass:plotting 51. [x-axis]\r\n"
     ]
    },
    {
     "name": "stdout",
     "output_type": "stream",
     "text": [
      "INFO:pygenometracks.tracksClass:time initializing track(s):\r\n",
      "INFO:pygenometracks.tracksClass:0.15838241577148438\r\n",
      "DEBUG:pygenometracks.tracksClass:Figure size in cm is 40 x 114.375. Dpi is set to 72\r\n",
      "\r\n"
     ]
    },
    {
     "name": "stdout",
     "output_type": "stream",
     "text": [
      "INFO:pygenometracks.tracksClass:plotting 1. [cluster1]\r\n"
     ]
    },
    {
     "name": "stdout",
     "output_type": "stream",
     "text": [
      "INFO:pygenometracks.tracksClass:plotting 2. [spacer]\r\n",
      "INFO:pygenometracks.tracksClass:plotting 3. [cluster2]\r\n"
     ]
    },
    {
     "name": "stdout",
     "output_type": "stream",
     "text": [
      "INFO:pygenometracks.tracksClass:plotting 4. [spacer]\r\n"
     ]
    },
    {
     "name": "stdout",
     "output_type": "stream",
     "text": [
      "INFO:pygenometracks.tracksClass:plotting 5. [cluster3]\r\n"
     ]
    },
    {
     "name": "stdout",
     "output_type": "stream",
     "text": [
      "INFO:pygenometracks.tracksClass:plotting 6. [spacer]\r\n"
     ]
    },
    {
     "name": "stdout",
     "output_type": "stream",
     "text": [
      "INFO:pygenometracks.tracksClass:plotting 7. [cluster4]\r\n"
     ]
    },
    {
     "name": "stdout",
     "output_type": "stream",
     "text": [
      "INFO:pygenometracks.tracksClass:plotting 8. [spacer]\r\n"
     ]
    },
    {
     "name": "stdout",
     "output_type": "stream",
     "text": [
      "INFO:pygenometracks.tracksClass:plotting 9. [cluster5]\r\n"
     ]
    },
    {
     "name": "stdout",
     "output_type": "stream",
     "text": [
      "INFO:pygenometracks.tracksClass:plotting 10. [spacer]\r\n",
      "INFO:pygenometracks.tracksClass:plotting 11. [cluster6]\r\n"
     ]
    },
    {
     "name": "stdout",
     "output_type": "stream",
     "text": [
      "INFO:pygenometracks.tracksClass:plotting 12. [spacer]\r\n"
     ]
    },
    {
     "name": "stdout",
     "output_type": "stream",
     "text": [
      "INFO:pygenometracks.tracksClass:plotting 13. [cluster7]\r\n"
     ]
    },
    {
     "name": "stdout",
     "output_type": "stream",
     "text": [
      "INFO:pygenometracks.tracksClass:plotting 14. [spacer]\r\n",
      "INFO:pygenometracks.tracksClass:plotting 15. [cluster8]\r\n"
     ]
    },
    {
     "name": "stdout",
     "output_type": "stream",
     "text": [
      "INFO:pygenometracks.tracksClass:plotting 16. [spacer]\r\n",
      "INFO:pygenometracks.tracksClass:plotting 17. [cluster9]\r\n"
     ]
    },
    {
     "name": "stdout",
     "output_type": "stream",
     "text": [
      "INFO:pygenometracks.tracksClass:plotting 18. [spacer]\r\n"
     ]
    },
    {
     "name": "stdout",
     "output_type": "stream",
     "text": [
      "INFO:pygenometracks.tracksClass:plotting 19. [cluster10]\r\n"
     ]
    },
    {
     "name": "stdout",
     "output_type": "stream",
     "text": [
      "INFO:pygenometracks.tracksClass:plotting 20. [spacer]\r\n"
     ]
    },
    {
     "name": "stdout",
     "output_type": "stream",
     "text": [
      "INFO:pygenometracks.tracksClass:plotting 21. [cluster11]\r\n"
     ]
    },
    {
     "name": "stdout",
     "output_type": "stream",
     "text": [
      "INFO:pygenometracks.tracksClass:plotting 22. [spacer]\r\n",
      "INFO:pygenometracks.tracksClass:plotting 23. [cluster12]\r\n"
     ]
    },
    {
     "name": "stdout",
     "output_type": "stream",
     "text": [
      "INFO:pygenometracks.tracksClass:plotting 24. [spacer]\r\n"
     ]
    },
    {
     "name": "stdout",
     "output_type": "stream",
     "text": [
      "INFO:pygenometracks.tracksClass:plotting 25. [cluster13]\r\n"
     ]
    },
    {
     "name": "stdout",
     "output_type": "stream",
     "text": [
      "INFO:pygenometracks.tracksClass:plotting 26. [spacer]\r\n"
     ]
    },
    {
     "name": "stdout",
     "output_type": "stream",
     "text": [
      "INFO:pygenometracks.tracksClass:plotting 27. [cluster14]\r\n"
     ]
    },
    {
     "name": "stdout",
     "output_type": "stream",
     "text": [
      "INFO:pygenometracks.tracksClass:plotting 28. [spacer]\r\n"
     ]
    },
    {
     "name": "stdout",
     "output_type": "stream",
     "text": [
      "INFO:pygenometracks.tracksClass:plotting 29. [cluster15]\r\n"
     ]
    },
    {
     "name": "stdout",
     "output_type": "stream",
     "text": [
      "INFO:pygenometracks.tracksClass:plotting 30. [spacer]\r\n",
      "INFO:pygenometracks.tracksClass:plotting 31. [cluster16]\r\n"
     ]
    },
    {
     "name": "stdout",
     "output_type": "stream",
     "text": [
      "INFO:pygenometracks.tracksClass:plotting 32. [spacer]\r\n",
      "INFO:pygenometracks.tracksClass:plotting 33. [cluster17]\r\n"
     ]
    },
    {
     "name": "stdout",
     "output_type": "stream",
     "text": [
      "INFO:pygenometracks.tracksClass:plotting 34. [spacer]\r\n"
     ]
    },
    {
     "name": "stdout",
     "output_type": "stream",
     "text": [
      "INFO:pygenometracks.tracksClass:plotting 35. [cluster18]\r\n"
     ]
    },
    {
     "name": "stdout",
     "output_type": "stream",
     "text": [
      "INFO:pygenometracks.tracksClass:plotting 36. [spacer]\r\n"
     ]
    },
    {
     "name": "stdout",
     "output_type": "stream",
     "text": [
      "INFO:pygenometracks.tracksClass:plotting 37. [cluster19]\r\n"
     ]
    },
    {
     "name": "stdout",
     "output_type": "stream",
     "text": [
      "INFO:pygenometracks.tracksClass:plotting 38. [spacer]\r\n"
     ]
    },
    {
     "name": "stdout",
     "output_type": "stream",
     "text": [
      "INFO:pygenometracks.tracksClass:plotting 39. [cluster20]\r\n"
     ]
    },
    {
     "name": "stdout",
     "output_type": "stream",
     "text": [
      "INFO:pygenometracks.tracksClass:plotting 40. [spacer]\r\n"
     ]
    },
    {
     "name": "stdout",
     "output_type": "stream",
     "text": [
      "INFO:pygenometracks.tracksClass:plotting 41. [cluster21]\r\n"
     ]
    },
    {
     "name": "stdout",
     "output_type": "stream",
     "text": [
      "INFO:pygenometracks.tracksClass:plotting 42. [spacer]\r\n",
      "INFO:pygenometracks.tracksClass:plotting 43. [cluster22]\r\n"
     ]
    },
    {
     "name": "stdout",
     "output_type": "stream",
     "text": [
      "INFO:pygenometracks.tracksClass:plotting 44. [spacer]\r\n"
     ]
    },
    {
     "name": "stdout",
     "output_type": "stream",
     "text": [
      "INFO:pygenometracks.tracksClass:plotting 45. [cluster23]\r\n"
     ]
    },
    {
     "name": "stdout",
     "output_type": "stream",
     "text": [
      "INFO:pygenometracks.tracksClass:plotting 46. [spacer]\r\n"
     ]
    },
    {
     "name": "stdout",
     "output_type": "stream",
     "text": [
      "INFO:pygenometracks.tracksClass:plotting 47. [cluster24]\r\n"
     ]
    },
    {
     "name": "stdout",
     "output_type": "stream",
     "text": [
      "INFO:pygenometracks.tracksClass:plotting 48. [spacer]\r\n"
     ]
    },
    {
     "name": "stdout",
     "output_type": "stream",
     "text": [
      "INFO:pygenometracks.tracksClass:plotting 49. [snps]\r\n"
     ]
    },
    {
     "name": "stdout",
     "output_type": "stream",
     "text": [
      "DEBUG:pygenometracks.tracks.GenomeTrack:ylim 100,0\r\n",
      "INFO:pygenometracks.tracksClass:plotting 50. [spacer]\r\n"
     ]
    },
    {
     "name": "stdout",
     "output_type": "stream",
     "text": [
      "INFO:pygenometracks.tracksClass:plotting 51. [x-axis]\r\n"
     ]
    },
    {
     "name": "stdout",
     "output_type": "stream",
     "text": [
      "INFO:pygenometracks.tracksClass:time initializing track(s):\r\n",
      "INFO:pygenometracks.tracksClass:0.14865660667419434\r\n",
      "DEBUG:pygenometracks.tracksClass:Figure size in cm is 40 x 114.375. Dpi is set to 72\r\n",
      "\r\n"
     ]
    },
    {
     "name": "stdout",
     "output_type": "stream",
     "text": [
      "INFO:pygenometracks.tracksClass:plotting 1. [cluster1]\r\n"
     ]
    },
    {
     "name": "stdout",
     "output_type": "stream",
     "text": [
      "INFO:pygenometracks.tracksClass:plotting 2. [spacer]\r\n"
     ]
    },
    {
     "name": "stdout",
     "output_type": "stream",
     "text": [
      "INFO:pygenometracks.tracksClass:plotting 3. [cluster2]\r\n"
     ]
    },
    {
     "name": "stdout",
     "output_type": "stream",
     "text": [
      "INFO:pygenometracks.tracksClass:plotting 4. [spacer]\r\n"
     ]
    },
    {
     "name": "stdout",
     "output_type": "stream",
     "text": [
      "INFO:pygenometracks.tracksClass:plotting 5. [cluster3]\r\n"
     ]
    },
    {
     "name": "stdout",
     "output_type": "stream",
     "text": [
      "INFO:pygenometracks.tracksClass:plotting 6. [spacer]\r\n"
     ]
    },
    {
     "name": "stdout",
     "output_type": "stream",
     "text": [
      "INFO:pygenometracks.tracksClass:plotting 7. [cluster4]\r\n"
     ]
    },
    {
     "name": "stdout",
     "output_type": "stream",
     "text": [
      "INFO:pygenometracks.tracksClass:plotting 8. [spacer]\r\n"
     ]
    },
    {
     "name": "stdout",
     "output_type": "stream",
     "text": [
      "INFO:pygenometracks.tracksClass:plotting 9. [cluster5]\r\n"
     ]
    },
    {
     "name": "stdout",
     "output_type": "stream",
     "text": [
      "INFO:pygenometracks.tracksClass:plotting 10. [spacer]\r\n",
      "INFO:pygenometracks.tracksClass:plotting 11. [cluster6]\r\n"
     ]
    },
    {
     "name": "stdout",
     "output_type": "stream",
     "text": [
      "INFO:pygenometracks.tracksClass:plotting 12. [spacer]\r\n"
     ]
    },
    {
     "name": "stdout",
     "output_type": "stream",
     "text": [
      "INFO:pygenometracks.tracksClass:plotting 13. [cluster7]\r\n"
     ]
    },
    {
     "name": "stdout",
     "output_type": "stream",
     "text": [
      "INFO:pygenometracks.tracksClass:plotting 14. [spacer]\r\n",
      "INFO:pygenometracks.tracksClass:plotting 15. [cluster8]\r\n"
     ]
    },
    {
     "name": "stdout",
     "output_type": "stream",
     "text": [
      "INFO:pygenometracks.tracksClass:plotting 16. [spacer]\r\n"
     ]
    },
    {
     "name": "stdout",
     "output_type": "stream",
     "text": [
      "INFO:pygenometracks.tracksClass:plotting 17. [cluster9]\r\n"
     ]
    },
    {
     "name": "stdout",
     "output_type": "stream",
     "text": [
      "INFO:pygenometracks.tracksClass:plotting 18. [spacer]\r\n"
     ]
    },
    {
     "name": "stdout",
     "output_type": "stream",
     "text": [
      "INFO:pygenometracks.tracksClass:plotting 19. [cluster10]\r\n"
     ]
    },
    {
     "name": "stdout",
     "output_type": "stream",
     "text": [
      "INFO:pygenometracks.tracksClass:plotting 20. [spacer]\r\n",
      "INFO:pygenometracks.tracksClass:plotting 21. [cluster11]\r\n"
     ]
    },
    {
     "name": "stdout",
     "output_type": "stream",
     "text": [
      "INFO:pygenometracks.tracksClass:plotting 22. [spacer]\r\n"
     ]
    },
    {
     "name": "stdout",
     "output_type": "stream",
     "text": [
      "INFO:pygenometracks.tracksClass:plotting 23. [cluster12]\r\n"
     ]
    },
    {
     "name": "stdout",
     "output_type": "stream",
     "text": [
      "INFO:pygenometracks.tracksClass:plotting 24. [spacer]\r\n"
     ]
    },
    {
     "name": "stdout",
     "output_type": "stream",
     "text": [
      "INFO:pygenometracks.tracksClass:plotting 25. [cluster13]\r\n"
     ]
    },
    {
     "name": "stdout",
     "output_type": "stream",
     "text": [
      "INFO:pygenometracks.tracksClass:plotting 26. [spacer]\r\n",
      "INFO:pygenometracks.tracksClass:plotting 27. [cluster14]\r\n"
     ]
    },
    {
     "name": "stdout",
     "output_type": "stream",
     "text": [
      "INFO:pygenometracks.tracksClass:plotting 28. [spacer]\r\n"
     ]
    },
    {
     "name": "stdout",
     "output_type": "stream",
     "text": [
      "INFO:pygenometracks.tracksClass:plotting 29. [cluster15]\r\n"
     ]
    },
    {
     "name": "stdout",
     "output_type": "stream",
     "text": [
      "INFO:pygenometracks.tracksClass:plotting 30. [spacer]\r\n"
     ]
    },
    {
     "name": "stdout",
     "output_type": "stream",
     "text": [
      "INFO:pygenometracks.tracksClass:plotting 31. [cluster16]\r\n"
     ]
    },
    {
     "name": "stdout",
     "output_type": "stream",
     "text": [
      "INFO:pygenometracks.tracksClass:plotting 32. [spacer]\r\n",
      "INFO:pygenometracks.tracksClass:plotting 33. [cluster17]\r\n"
     ]
    },
    {
     "name": "stdout",
     "output_type": "stream",
     "text": [
      "INFO:pygenometracks.tracksClass:plotting 34. [spacer]\r\n"
     ]
    },
    {
     "name": "stdout",
     "output_type": "stream",
     "text": [
      "INFO:pygenometracks.tracksClass:plotting 35. [cluster18]\r\n"
     ]
    },
    {
     "name": "stdout",
     "output_type": "stream",
     "text": [
      "INFO:pygenometracks.tracksClass:plotting 36. [spacer]\r\n"
     ]
    },
    {
     "name": "stdout",
     "output_type": "stream",
     "text": [
      "INFO:pygenometracks.tracksClass:plotting 37. [cluster19]\r\n"
     ]
    },
    {
     "name": "stdout",
     "output_type": "stream",
     "text": [
      "INFO:pygenometracks.tracksClass:plotting 38. [spacer]\r\n"
     ]
    },
    {
     "name": "stdout",
     "output_type": "stream",
     "text": [
      "INFO:pygenometracks.tracksClass:plotting 39. [cluster20]\r\n"
     ]
    },
    {
     "name": "stdout",
     "output_type": "stream",
     "text": [
      "INFO:pygenometracks.tracksClass:plotting 40. [spacer]\r\n"
     ]
    },
    {
     "name": "stdout",
     "output_type": "stream",
     "text": [
      "INFO:pygenometracks.tracksClass:plotting 41. [cluster21]\r\n"
     ]
    },
    {
     "name": "stdout",
     "output_type": "stream",
     "text": [
      "INFO:pygenometracks.tracksClass:plotting 42. [spacer]\r\n"
     ]
    },
    {
     "name": "stdout",
     "output_type": "stream",
     "text": [
      "INFO:pygenometracks.tracksClass:plotting 43. [cluster22]\r\n"
     ]
    },
    {
     "name": "stdout",
     "output_type": "stream",
     "text": [
      "INFO:pygenometracks.tracksClass:plotting 44. [spacer]\r\n"
     ]
    },
    {
     "name": "stdout",
     "output_type": "stream",
     "text": [
      "INFO:pygenometracks.tracksClass:plotting 45. [cluster23]\r\n"
     ]
    },
    {
     "name": "stdout",
     "output_type": "stream",
     "text": [
      "INFO:pygenometracks.tracksClass:plotting 46. [spacer]\r\n"
     ]
    },
    {
     "name": "stdout",
     "output_type": "stream",
     "text": [
      "INFO:pygenometracks.tracksClass:plotting 47. [cluster24]\r\n"
     ]
    },
    {
     "name": "stdout",
     "output_type": "stream",
     "text": [
      "INFO:pygenometracks.tracksClass:plotting 48. [spacer]\r\n",
      "INFO:pygenometracks.tracksClass:plotting 49. [snps]\r\n"
     ]
    },
    {
     "name": "stdout",
     "output_type": "stream",
     "text": [
      "DEBUG:pygenometracks.tracks.GenomeTrack:ylim 560.0,0\r\n",
      "INFO:pygenometracks.tracksClass:plotting 50. [spacer]\r\n"
     ]
    },
    {
     "name": "stdout",
     "output_type": "stream",
     "text": [
      "INFO:pygenometracks.tracksClass:plotting 51. [x-axis]\r\n"
     ]
    },
    {
     "name": "stdout",
     "output_type": "stream",
     "text": [
      "INFO:pygenometracks.tracksClass:time initializing track(s):\r\n",
      "INFO:pygenometracks.tracksClass:0.15269136428833008\r\n",
      "DEBUG:pygenometracks.tracksClass:Figure size in cm is 40 x 114.375. Dpi is set to 72\r\n",
      "\r\n"
     ]
    },
    {
     "name": "stdout",
     "output_type": "stream",
     "text": [
      "INFO:pygenometracks.tracksClass:plotting 1. [cluster1]\r\n"
     ]
    },
    {
     "name": "stdout",
     "output_type": "stream",
     "text": [
      "INFO:pygenometracks.tracksClass:plotting 2. [spacer]\r\n"
     ]
    },
    {
     "name": "stdout",
     "output_type": "stream",
     "text": [
      "INFO:pygenometracks.tracksClass:plotting 3. [cluster2]\r\n"
     ]
    },
    {
     "name": "stdout",
     "output_type": "stream",
     "text": [
      "INFO:pygenometracks.tracksClass:plotting 4. [spacer]\r\n"
     ]
    },
    {
     "name": "stdout",
     "output_type": "stream",
     "text": [
      "INFO:pygenometracks.tracksClass:plotting 5. [cluster3]\r\n"
     ]
    },
    {
     "name": "stdout",
     "output_type": "stream",
     "text": [
      "INFO:pygenometracks.tracksClass:plotting 6. [spacer]\r\n"
     ]
    },
    {
     "name": "stdout",
     "output_type": "stream",
     "text": [
      "INFO:pygenometracks.tracksClass:plotting 7. [cluster4]\r\n"
     ]
    },
    {
     "name": "stdout",
     "output_type": "stream",
     "text": [
      "INFO:pygenometracks.tracksClass:plotting 8. [spacer]\r\n"
     ]
    },
    {
     "name": "stdout",
     "output_type": "stream",
     "text": [
      "INFO:pygenometracks.tracksClass:plotting 9. [cluster5]\r\n"
     ]
    },
    {
     "name": "stdout",
     "output_type": "stream",
     "text": [
      "INFO:pygenometracks.tracksClass:plotting 10. [spacer]\r\n"
     ]
    },
    {
     "name": "stdout",
     "output_type": "stream",
     "text": [
      "INFO:pygenometracks.tracksClass:plotting 11. [cluster6]\r\n"
     ]
    },
    {
     "name": "stdout",
     "output_type": "stream",
     "text": [
      "INFO:pygenometracks.tracksClass:plotting 12. [spacer]\r\n"
     ]
    },
    {
     "name": "stdout",
     "output_type": "stream",
     "text": [
      "INFO:pygenometracks.tracksClass:plotting 13. [cluster7]\r\n"
     ]
    },
    {
     "name": "stdout",
     "output_type": "stream",
     "text": [
      "INFO:pygenometracks.tracksClass:plotting 14. [spacer]\r\n"
     ]
    },
    {
     "name": "stdout",
     "output_type": "stream",
     "text": [
      "INFO:pygenometracks.tracksClass:plotting 15. [cluster8]\r\n"
     ]
    },
    {
     "name": "stdout",
     "output_type": "stream",
     "text": [
      "INFO:pygenometracks.tracksClass:plotting 16. [spacer]\r\n",
      "INFO:pygenometracks.tracksClass:plotting 17. [cluster9]\r\n"
     ]
    },
    {
     "name": "stdout",
     "output_type": "stream",
     "text": [
      "INFO:pygenometracks.tracksClass:plotting 18. [spacer]\r\n"
     ]
    },
    {
     "name": "stdout",
     "output_type": "stream",
     "text": [
      "INFO:pygenometracks.tracksClass:plotting 19. [cluster10]\r\n"
     ]
    },
    {
     "name": "stdout",
     "output_type": "stream",
     "text": [
      "INFO:pygenometracks.tracksClass:plotting 20. [spacer]\r\n"
     ]
    },
    {
     "name": "stdout",
     "output_type": "stream",
     "text": [
      "INFO:pygenometracks.tracksClass:plotting 21. [cluster11]\r\n"
     ]
    },
    {
     "name": "stdout",
     "output_type": "stream",
     "text": [
      "INFO:pygenometracks.tracksClass:plotting 22. [spacer]\r\n",
      "INFO:pygenometracks.tracksClass:plotting 23. [cluster12]\r\n"
     ]
    },
    {
     "name": "stdout",
     "output_type": "stream",
     "text": [
      "INFO:pygenometracks.tracksClass:plotting 24. [spacer]\r\n"
     ]
    },
    {
     "name": "stdout",
     "output_type": "stream",
     "text": [
      "INFO:pygenometracks.tracksClass:plotting 25. [cluster13]\r\n"
     ]
    },
    {
     "name": "stdout",
     "output_type": "stream",
     "text": [
      "INFO:pygenometracks.tracksClass:plotting 26. [spacer]\r\n"
     ]
    },
    {
     "name": "stdout",
     "output_type": "stream",
     "text": [
      "INFO:pygenometracks.tracksClass:plotting 27. [cluster14]\r\n"
     ]
    },
    {
     "name": "stdout",
     "output_type": "stream",
     "text": [
      "INFO:pygenometracks.tracksClass:plotting 28. [spacer]\r\n"
     ]
    },
    {
     "name": "stdout",
     "output_type": "stream",
     "text": [
      "INFO:pygenometracks.tracksClass:plotting 29. [cluster15]\r\n"
     ]
    },
    {
     "name": "stdout",
     "output_type": "stream",
     "text": [
      "INFO:pygenometracks.tracksClass:plotting 30. [spacer]\r\n",
      "INFO:pygenometracks.tracksClass:plotting 31. [cluster16]\r\n"
     ]
    },
    {
     "name": "stdout",
     "output_type": "stream",
     "text": [
      "INFO:pygenometracks.tracksClass:plotting 32. [spacer]\r\n"
     ]
    },
    {
     "name": "stdout",
     "output_type": "stream",
     "text": [
      "INFO:pygenometracks.tracksClass:plotting 33. [cluster17]\r\n"
     ]
    },
    {
     "name": "stdout",
     "output_type": "stream",
     "text": [
      "INFO:pygenometracks.tracksClass:plotting 34. [spacer]\r\n"
     ]
    },
    {
     "name": "stdout",
     "output_type": "stream",
     "text": [
      "INFO:pygenometracks.tracksClass:plotting 35. [cluster18]\r\n"
     ]
    },
    {
     "name": "stdout",
     "output_type": "stream",
     "text": [
      "INFO:pygenometracks.tracksClass:plotting 36. [spacer]\r\n"
     ]
    },
    {
     "name": "stdout",
     "output_type": "stream",
     "text": [
      "INFO:pygenometracks.tracksClass:plotting 37. [cluster19]\r\n"
     ]
    },
    {
     "name": "stdout",
     "output_type": "stream",
     "text": [
      "INFO:pygenometracks.tracksClass:plotting 38. [spacer]\r\n",
      "INFO:pygenometracks.tracksClass:plotting 39. [cluster20]\r\n"
     ]
    },
    {
     "name": "stdout",
     "output_type": "stream",
     "text": [
      "INFO:pygenometracks.tracksClass:plotting 40. [spacer]\r\n"
     ]
    },
    {
     "name": "stdout",
     "output_type": "stream",
     "text": [
      "INFO:pygenometracks.tracksClass:plotting 41. [cluster21]\r\n"
     ]
    },
    {
     "name": "stdout",
     "output_type": "stream",
     "text": [
      "INFO:pygenometracks.tracksClass:plotting 42. [spacer]\r\n"
     ]
    },
    {
     "name": "stdout",
     "output_type": "stream",
     "text": [
      "INFO:pygenometracks.tracksClass:plotting 43. [cluster22]\r\n"
     ]
    },
    {
     "name": "stdout",
     "output_type": "stream",
     "text": [
      "INFO:pygenometracks.tracksClass:plotting 44. [spacer]\r\n"
     ]
    },
    {
     "name": "stdout",
     "output_type": "stream",
     "text": [
      "INFO:pygenometracks.tracksClass:plotting 45. [cluster23]\r\n"
     ]
    },
    {
     "name": "stdout",
     "output_type": "stream",
     "text": [
      "INFO:pygenometracks.tracksClass:plotting 46. [spacer]\r\n"
     ]
    },
    {
     "name": "stdout",
     "output_type": "stream",
     "text": [
      "INFO:pygenometracks.tracksClass:plotting 47. [cluster24]\r\n"
     ]
    },
    {
     "name": "stdout",
     "output_type": "stream",
     "text": [
      "INFO:pygenometracks.tracksClass:plotting 48. [spacer]\r\n"
     ]
    },
    {
     "name": "stdout",
     "output_type": "stream",
     "text": [
      "INFO:pygenometracks.tracksClass:plotting 49. [snps]\r\n"
     ]
    },
    {
     "name": "stdout",
     "output_type": "stream",
     "text": [
      "DEBUG:pygenometracks.tracks.GenomeTrack:ylim 560.0,0\r\n",
      "INFO:pygenometracks.tracksClass:plotting 50. [spacer]\r\n"
     ]
    },
    {
     "name": "stdout",
     "output_type": "stream",
     "text": [
      "INFO:pygenometracks.tracksClass:plotting 51. [x-axis]\r\n"
     ]
    },
    {
     "name": "stdout",
     "output_type": "stream",
     "text": [
      "INFO:pygenometracks.tracksClass:time initializing track(s):\r\n",
      "INFO:pygenometracks.tracksClass:0.13828587532043457\r\n",
      "DEBUG:pygenometracks.tracksClass:Figure size in cm is 40 x 114.375. Dpi is set to 72\r\n",
      "\r\n"
     ]
    },
    {
     "name": "stdout",
     "output_type": "stream",
     "text": [
      "INFO:pygenometracks.tracksClass:plotting 1. [cluster1]\r\n"
     ]
    },
    {
     "name": "stdout",
     "output_type": "stream",
     "text": [
      "INFO:pygenometracks.tracksClass:plotting 2. [spacer]\r\n"
     ]
    },
    {
     "name": "stdout",
     "output_type": "stream",
     "text": [
      "INFO:pygenometracks.tracksClass:plotting 3. [cluster2]\r\n"
     ]
    },
    {
     "name": "stdout",
     "output_type": "stream",
     "text": [
      "INFO:pygenometracks.tracksClass:plotting 4. [spacer]\r\n"
     ]
    },
    {
     "name": "stdout",
     "output_type": "stream",
     "text": [
      "INFO:pygenometracks.tracksClass:plotting 5. [cluster3]\r\n"
     ]
    },
    {
     "name": "stdout",
     "output_type": "stream",
     "text": [
      "INFO:pygenometracks.tracksClass:plotting 6. [spacer]\r\n",
      "INFO:pygenometracks.tracksClass:plotting 7. [cluster4]\r\n"
     ]
    },
    {
     "name": "stdout",
     "output_type": "stream",
     "text": [
      "INFO:pygenometracks.tracksClass:plotting 8. [spacer]\r\n"
     ]
    },
    {
     "name": "stdout",
     "output_type": "stream",
     "text": [
      "INFO:pygenometracks.tracksClass:plotting 9. [cluster5]\r\n"
     ]
    },
    {
     "name": "stdout",
     "output_type": "stream",
     "text": [
      "INFO:pygenometracks.tracksClass:plotting 10. [spacer]\r\n"
     ]
    },
    {
     "name": "stdout",
     "output_type": "stream",
     "text": [
      "INFO:pygenometracks.tracksClass:plotting 11. [cluster6]\r\n"
     ]
    },
    {
     "name": "stdout",
     "output_type": "stream",
     "text": [
      "INFO:pygenometracks.tracksClass:plotting 12. [spacer]\r\n"
     ]
    },
    {
     "name": "stdout",
     "output_type": "stream",
     "text": [
      "INFO:pygenometracks.tracksClass:plotting 13. [cluster7]\r\n"
     ]
    },
    {
     "name": "stdout",
     "output_type": "stream",
     "text": [
      "INFO:pygenometracks.tracksClass:plotting 14. [spacer]\r\n"
     ]
    },
    {
     "name": "stdout",
     "output_type": "stream",
     "text": [
      "INFO:pygenometracks.tracksClass:plotting 15. [cluster8]\r\n"
     ]
    },
    {
     "name": "stdout",
     "output_type": "stream",
     "text": [
      "INFO:pygenometracks.tracksClass:plotting 16. [spacer]\r\n"
     ]
    },
    {
     "name": "stdout",
     "output_type": "stream",
     "text": [
      "INFO:pygenometracks.tracksClass:plotting 17. [cluster9]\r\n"
     ]
    },
    {
     "name": "stdout",
     "output_type": "stream",
     "text": [
      "INFO:pygenometracks.tracksClass:plotting 18. [spacer]\r\n"
     ]
    },
    {
     "name": "stdout",
     "output_type": "stream",
     "text": [
      "INFO:pygenometracks.tracksClass:plotting 19. [cluster10]\r\n"
     ]
    },
    {
     "name": "stdout",
     "output_type": "stream",
     "text": [
      "INFO:pygenometracks.tracksClass:plotting 20. [spacer]\r\n"
     ]
    },
    {
     "name": "stdout",
     "output_type": "stream",
     "text": [
      "INFO:pygenometracks.tracksClass:plotting 21. [cluster11]\r\n"
     ]
    },
    {
     "name": "stdout",
     "output_type": "stream",
     "text": [
      "INFO:pygenometracks.tracksClass:plotting 22. [spacer]\r\n",
      "INFO:pygenometracks.tracksClass:plotting 23. [cluster12]\r\n"
     ]
    },
    {
     "name": "stdout",
     "output_type": "stream",
     "text": [
      "INFO:pygenometracks.tracksClass:plotting 24. [spacer]\r\n"
     ]
    },
    {
     "name": "stdout",
     "output_type": "stream",
     "text": [
      "INFO:pygenometracks.tracksClass:plotting 25. [cluster13]\r\n"
     ]
    },
    {
     "name": "stdout",
     "output_type": "stream",
     "text": [
      "INFO:pygenometracks.tracksClass:plotting 26. [spacer]\r\n"
     ]
    },
    {
     "name": "stdout",
     "output_type": "stream",
     "text": [
      "INFO:pygenometracks.tracksClass:plotting 27. [cluster14]\r\n"
     ]
    },
    {
     "name": "stdout",
     "output_type": "stream",
     "text": [
      "INFO:pygenometracks.tracksClass:plotting 28. [spacer]\r\n"
     ]
    },
    {
     "name": "stdout",
     "output_type": "stream",
     "text": [
      "INFO:pygenometracks.tracksClass:plotting 29. [cluster15]\r\n"
     ]
    },
    {
     "name": "stdout",
     "output_type": "stream",
     "text": [
      "INFO:pygenometracks.tracksClass:plotting 30. [spacer]\r\n"
     ]
    },
    {
     "name": "stdout",
     "output_type": "stream",
     "text": [
      "INFO:pygenometracks.tracksClass:plotting 31. [cluster16]\r\n"
     ]
    },
    {
     "name": "stdout",
     "output_type": "stream",
     "text": [
      "INFO:pygenometracks.tracksClass:plotting 32. [spacer]\r\n",
      "INFO:pygenometracks.tracksClass:plotting 33. [cluster17]\r\n"
     ]
    },
    {
     "name": "stdout",
     "output_type": "stream",
     "text": [
      "INFO:pygenometracks.tracksClass:plotting 34. [spacer]\r\n"
     ]
    },
    {
     "name": "stdout",
     "output_type": "stream",
     "text": [
      "INFO:pygenometracks.tracksClass:plotting 35. [cluster18]\r\n"
     ]
    },
    {
     "name": "stdout",
     "output_type": "stream",
     "text": [
      "INFO:pygenometracks.tracksClass:plotting 36. [spacer]\r\n"
     ]
    },
    {
     "name": "stdout",
     "output_type": "stream",
     "text": [
      "INFO:pygenometracks.tracksClass:plotting 37. [cluster19]\r\n"
     ]
    },
    {
     "name": "stdout",
     "output_type": "stream",
     "text": [
      "INFO:pygenometracks.tracksClass:plotting 38. [spacer]\r\n"
     ]
    },
    {
     "name": "stdout",
     "output_type": "stream",
     "text": [
      "INFO:pygenometracks.tracksClass:plotting 39. [cluster20]\r\n"
     ]
    },
    {
     "name": "stdout",
     "output_type": "stream",
     "text": [
      "INFO:pygenometracks.tracksClass:plotting 40. [spacer]\r\n"
     ]
    },
    {
     "name": "stdout",
     "output_type": "stream",
     "text": [
      "INFO:pygenometracks.tracksClass:plotting 41. [cluster21]\r\n"
     ]
    },
    {
     "name": "stdout",
     "output_type": "stream",
     "text": [
      "INFO:pygenometracks.tracksClass:plotting 42. [spacer]\r\n"
     ]
    },
    {
     "name": "stdout",
     "output_type": "stream",
     "text": [
      "INFO:pygenometracks.tracksClass:plotting 43. [cluster22]\r\n"
     ]
    },
    {
     "name": "stdout",
     "output_type": "stream",
     "text": [
      "INFO:pygenometracks.tracksClass:plotting 44. [spacer]\r\n",
      "INFO:pygenometracks.tracksClass:plotting 45. [cluster23]\r\n"
     ]
    },
    {
     "name": "stdout",
     "output_type": "stream",
     "text": [
      "INFO:pygenometracks.tracksClass:plotting 46. [spacer]\r\n"
     ]
    },
    {
     "name": "stdout",
     "output_type": "stream",
     "text": [
      "INFO:pygenometracks.tracksClass:plotting 47. [cluster24]\r\n"
     ]
    },
    {
     "name": "stdout",
     "output_type": "stream",
     "text": [
      "INFO:pygenometracks.tracksClass:plotting 48. [spacer]\r\n"
     ]
    },
    {
     "name": "stdout",
     "output_type": "stream",
     "text": [
      "INFO:pygenometracks.tracksClass:plotting 49. [snps]\r\n"
     ]
    },
    {
     "name": "stdout",
     "output_type": "stream",
     "text": [
      "DEBUG:pygenometracks.tracks.GenomeTrack:ylim 789.9999999999999,0\r\n",
      "INFO:pygenometracks.tracksClass:plotting 50. [spacer]\r\n"
     ]
    },
    {
     "name": "stdout",
     "output_type": "stream",
     "text": [
      "INFO:pygenometracks.tracksClass:plotting 51. [x-axis]\r\n"
     ]
    },
    {
     "name": "stdout",
     "output_type": "stream",
     "text": [
      "INFO:pygenometracks.tracksClass:time initializing track(s):\r\n",
      "INFO:pygenometracks.tracksClass:0.15512847900390625\r\n",
      "DEBUG:pygenometracks.tracksClass:Figure size in cm is 40 x 114.375. Dpi is set to 72\r\n",
      "\r\n"
     ]
    },
    {
     "name": "stdout",
     "output_type": "stream",
     "text": [
      "INFO:pygenometracks.tracksClass:plotting 1. [cluster1]\r\n"
     ]
    },
    {
     "name": "stdout",
     "output_type": "stream",
     "text": [
      "INFO:pygenometracks.tracksClass:plotting 2. [spacer]\r\n"
     ]
    },
    {
     "name": "stdout",
     "output_type": "stream",
     "text": [
      "INFO:pygenometracks.tracksClass:plotting 3. [cluster2]\r\n"
     ]
    },
    {
     "name": "stdout",
     "output_type": "stream",
     "text": [
      "INFO:pygenometracks.tracksClass:plotting 4. [spacer]\r\n"
     ]
    },
    {
     "name": "stdout",
     "output_type": "stream",
     "text": [
      "INFO:pygenometracks.tracksClass:plotting 5. [cluster3]\r\n"
     ]
    },
    {
     "name": "stdout",
     "output_type": "stream",
     "text": [
      "INFO:pygenometracks.tracksClass:plotting 6. [spacer]\r\n",
      "INFO:pygenometracks.tracksClass:plotting 7. [cluster4]\r\n"
     ]
    },
    {
     "name": "stdout",
     "output_type": "stream",
     "text": [
      "INFO:pygenometracks.tracksClass:plotting 8. [spacer]\r\n"
     ]
    },
    {
     "name": "stdout",
     "output_type": "stream",
     "text": [
      "INFO:pygenometracks.tracksClass:plotting 9. [cluster5]\r\n"
     ]
    },
    {
     "name": "stdout",
     "output_type": "stream",
     "text": [
      "INFO:pygenometracks.tracksClass:plotting 10. [spacer]\r\n",
      "INFO:pygenometracks.tracksClass:plotting 11. [cluster6]\r\n"
     ]
    },
    {
     "name": "stdout",
     "output_type": "stream",
     "text": [
      "INFO:pygenometracks.tracksClass:plotting 12. [spacer]\r\n"
     ]
    },
    {
     "name": "stdout",
     "output_type": "stream",
     "text": [
      "INFO:pygenometracks.tracksClass:plotting 13. [cluster7]\r\n"
     ]
    },
    {
     "name": "stdout",
     "output_type": "stream",
     "text": [
      "INFO:pygenometracks.tracksClass:plotting 14. [spacer]\r\n",
      "INFO:pygenometracks.tracksClass:plotting 15. [cluster8]\r\n"
     ]
    },
    {
     "name": "stdout",
     "output_type": "stream",
     "text": [
      "INFO:pygenometracks.tracksClass:plotting 16. [spacer]\r\n"
     ]
    },
    {
     "name": "stdout",
     "output_type": "stream",
     "text": [
      "INFO:pygenometracks.tracksClass:plotting 17. [cluster9]\r\n"
     ]
    },
    {
     "name": "stdout",
     "output_type": "stream",
     "text": [
      "INFO:pygenometracks.tracksClass:plotting 18. [spacer]\r\n"
     ]
    },
    {
     "name": "stdout",
     "output_type": "stream",
     "text": [
      "INFO:pygenometracks.tracksClass:plotting 19. [cluster10]\r\n"
     ]
    },
    {
     "name": "stdout",
     "output_type": "stream",
     "text": [
      "INFO:pygenometracks.tracksClass:plotting 20. [spacer]\r\n",
      "INFO:pygenometracks.tracksClass:plotting 21. [cluster11]\r\n"
     ]
    },
    {
     "name": "stdout",
     "output_type": "stream",
     "text": [
      "INFO:pygenometracks.tracksClass:plotting 22. [spacer]\r\n"
     ]
    },
    {
     "name": "stdout",
     "output_type": "stream",
     "text": [
      "INFO:pygenometracks.tracksClass:plotting 23. [cluster12]\r\n"
     ]
    },
    {
     "name": "stdout",
     "output_type": "stream",
     "text": [
      "INFO:pygenometracks.tracksClass:plotting 24. [spacer]\r\n"
     ]
    },
    {
     "name": "stdout",
     "output_type": "stream",
     "text": [
      "INFO:pygenometracks.tracksClass:plotting 25. [cluster13]\r\n"
     ]
    },
    {
     "name": "stdout",
     "output_type": "stream",
     "text": [
      "INFO:pygenometracks.tracksClass:plotting 26. [spacer]\r\n",
      "INFO:pygenometracks.tracksClass:plotting 27. [cluster14]\r\n"
     ]
    },
    {
     "name": "stdout",
     "output_type": "stream",
     "text": [
      "INFO:pygenometracks.tracksClass:plotting 28. [spacer]\r\n"
     ]
    },
    {
     "name": "stdout",
     "output_type": "stream",
     "text": [
      "INFO:pygenometracks.tracksClass:plotting 29. [cluster15]\r\n"
     ]
    },
    {
     "name": "stdout",
     "output_type": "stream",
     "text": [
      "INFO:pygenometracks.tracksClass:plotting 30. [spacer]\r\n",
      "INFO:pygenometracks.tracksClass:plotting 31. [cluster16]\r\n"
     ]
    },
    {
     "name": "stdout",
     "output_type": "stream",
     "text": [
      "INFO:pygenometracks.tracksClass:plotting 32. [spacer]\r\n"
     ]
    },
    {
     "name": "stdout",
     "output_type": "stream",
     "text": [
      "INFO:pygenometracks.tracksClass:plotting 33. [cluster17]\r\n"
     ]
    },
    {
     "name": "stdout",
     "output_type": "stream",
     "text": [
      "INFO:pygenometracks.tracksClass:plotting 34. [spacer]\r\n"
     ]
    },
    {
     "name": "stdout",
     "output_type": "stream",
     "text": [
      "INFO:pygenometracks.tracksClass:plotting 35. [cluster18]\r\n"
     ]
    },
    {
     "name": "stdout",
     "output_type": "stream",
     "text": [
      "INFO:pygenometracks.tracksClass:plotting 36. [spacer]\r\n",
      "INFO:pygenometracks.tracksClass:plotting 37. [cluster19]\r\n"
     ]
    },
    {
     "name": "stdout",
     "output_type": "stream",
     "text": [
      "INFO:pygenometracks.tracksClass:plotting 38. [spacer]\r\n"
     ]
    },
    {
     "name": "stdout",
     "output_type": "stream",
     "text": [
      "INFO:pygenometracks.tracksClass:plotting 39. [cluster20]\r\n"
     ]
    },
    {
     "name": "stdout",
     "output_type": "stream",
     "text": [
      "INFO:pygenometracks.tracksClass:plotting 40. [spacer]\r\n",
      "INFO:pygenometracks.tracksClass:plotting 41. [cluster21]\r\n"
     ]
    },
    {
     "name": "stdout",
     "output_type": "stream",
     "text": [
      "INFO:pygenometracks.tracksClass:plotting 42. [spacer]\r\n"
     ]
    },
    {
     "name": "stdout",
     "output_type": "stream",
     "text": [
      "INFO:pygenometracks.tracksClass:plotting 43. [cluster22]\r\n"
     ]
    },
    {
     "name": "stdout",
     "output_type": "stream",
     "text": [
      "INFO:pygenometracks.tracksClass:plotting 44. [spacer]\r\n"
     ]
    },
    {
     "name": "stdout",
     "output_type": "stream",
     "text": [
      "INFO:pygenometracks.tracksClass:plotting 45. [cluster23]\r\n"
     ]
    },
    {
     "name": "stdout",
     "output_type": "stream",
     "text": [
      "INFO:pygenometracks.tracksClass:plotting 46. [spacer]\r\n",
      "INFO:pygenometracks.tracksClass:plotting 47. [cluster24]\r\n"
     ]
    },
    {
     "name": "stdout",
     "output_type": "stream",
     "text": [
      "INFO:pygenometracks.tracksClass:plotting 48. [spacer]\r\n"
     ]
    },
    {
     "name": "stdout",
     "output_type": "stream",
     "text": [
      "INFO:pygenometracks.tracksClass:plotting 49. [snps]\r\n"
     ]
    },
    {
     "name": "stdout",
     "output_type": "stream",
     "text": [
      "DEBUG:pygenometracks.tracks.GenomeTrack:ylim 789.9999999999999,0\r\n",
      "INFO:pygenometracks.tracksClass:plotting 50. [spacer]\r\n",
      "INFO:pygenometracks.tracksClass:plotting 51. [x-axis]\r\n"
     ]
    },
    {
     "name": "stdout",
     "output_type": "stream",
     "text": [
      "INFO:pygenometracks.tracksClass:time initializing track(s):\r\n",
      "INFO:pygenometracks.tracksClass:0.14604926109313965\r\n",
      "DEBUG:pygenometracks.tracksClass:Figure size in cm is 40 x 114.375. Dpi is set to 72\r\n",
      "\r\n"
     ]
    },
    {
     "name": "stdout",
     "output_type": "stream",
     "text": [
      "INFO:pygenometracks.tracksClass:plotting 1. [cluster1]\r\n"
     ]
    },
    {
     "name": "stdout",
     "output_type": "stream",
     "text": [
      "INFO:pygenometracks.tracksClass:plotting 2. [spacer]\r\n"
     ]
    },
    {
     "name": "stdout",
     "output_type": "stream",
     "text": [
      "INFO:pygenometracks.tracksClass:plotting 3. [cluster2]\r\n"
     ]
    },
    {
     "name": "stdout",
     "output_type": "stream",
     "text": [
      "INFO:pygenometracks.tracksClass:plotting 4. [spacer]\r\n"
     ]
    },
    {
     "name": "stdout",
     "output_type": "stream",
     "text": [
      "INFO:pygenometracks.tracksClass:plotting 5. [cluster3]\r\n"
     ]
    },
    {
     "name": "stdout",
     "output_type": "stream",
     "text": [
      "INFO:pygenometracks.tracksClass:plotting 6. [spacer]\r\n"
     ]
    },
    {
     "name": "stdout",
     "output_type": "stream",
     "text": [
      "INFO:pygenometracks.tracksClass:plotting 7. [cluster4]\r\n"
     ]
    },
    {
     "name": "stdout",
     "output_type": "stream",
     "text": [
      "INFO:pygenometracks.tracksClass:plotting 8. [spacer]\r\n",
      "INFO:pygenometracks.tracksClass:plotting 9. [cluster5]\r\n"
     ]
    },
    {
     "name": "stdout",
     "output_type": "stream",
     "text": [
      "INFO:pygenometracks.tracksClass:plotting 10. [spacer]\r\n"
     ]
    },
    {
     "name": "stdout",
     "output_type": "stream",
     "text": [
      "INFO:pygenometracks.tracksClass:plotting 11. [cluster6]\r\n"
     ]
    },
    {
     "name": "stdout",
     "output_type": "stream",
     "text": [
      "INFO:pygenometracks.tracksClass:plotting 12. [spacer]\r\n"
     ]
    },
    {
     "name": "stdout",
     "output_type": "stream",
     "text": [
      "INFO:pygenometracks.tracksClass:plotting 13. [cluster7]\r\n"
     ]
    },
    {
     "name": "stdout",
     "output_type": "stream",
     "text": [
      "INFO:pygenometracks.tracksClass:plotting 14. [spacer]\r\n"
     ]
    },
    {
     "name": "stdout",
     "output_type": "stream",
     "text": [
      "INFO:pygenometracks.tracksClass:plotting 15. [cluster8]\r\n"
     ]
    },
    {
     "name": "stdout",
     "output_type": "stream",
     "text": [
      "INFO:pygenometracks.tracksClass:plotting 16. [spacer]\r\n"
     ]
    },
    {
     "name": "stdout",
     "output_type": "stream",
     "text": [
      "INFO:pygenometracks.tracksClass:plotting 17. [cluster9]\r\n"
     ]
    },
    {
     "name": "stdout",
     "output_type": "stream",
     "text": [
      "INFO:pygenometracks.tracksClass:plotting 18. [spacer]\r\n",
      "INFO:pygenometracks.tracksClass:plotting 19. [cluster10]\r\n"
     ]
    },
    {
     "name": "stdout",
     "output_type": "stream",
     "text": [
      "INFO:pygenometracks.tracksClass:plotting 20. [spacer]\r\n"
     ]
    },
    {
     "name": "stdout",
     "output_type": "stream",
     "text": [
      "INFO:pygenometracks.tracksClass:plotting 21. [cluster11]\r\n"
     ]
    },
    {
     "name": "stdout",
     "output_type": "stream",
     "text": [
      "INFO:pygenometracks.tracksClass:plotting 22. [spacer]\r\n"
     ]
    },
    {
     "name": "stdout",
     "output_type": "stream",
     "text": [
      "INFO:pygenometracks.tracksClass:plotting 23. [cluster12]\r\n"
     ]
    },
    {
     "name": "stdout",
     "output_type": "stream",
     "text": [
      "INFO:pygenometracks.tracksClass:plotting 24. [spacer]\r\n"
     ]
    },
    {
     "name": "stdout",
     "output_type": "stream",
     "text": [
      "INFO:pygenometracks.tracksClass:plotting 25. [cluster13]\r\n"
     ]
    },
    {
     "name": "stdout",
     "output_type": "stream",
     "text": [
      "INFO:pygenometracks.tracksClass:plotting 26. [spacer]\r\n"
     ]
    },
    {
     "name": "stdout",
     "output_type": "stream",
     "text": [
      "INFO:pygenometracks.tracksClass:plotting 27. [cluster14]\r\n"
     ]
    },
    {
     "name": "stdout",
     "output_type": "stream",
     "text": [
      "INFO:pygenometracks.tracksClass:plotting 28. [spacer]\r\n"
     ]
    },
    {
     "name": "stdout",
     "output_type": "stream",
     "text": [
      "INFO:pygenometracks.tracksClass:plotting 29. [cluster15]\r\n"
     ]
    },
    {
     "name": "stdout",
     "output_type": "stream",
     "text": [
      "INFO:pygenometracks.tracksClass:plotting 30. [spacer]\r\n"
     ]
    },
    {
     "name": "stdout",
     "output_type": "stream",
     "text": [
      "INFO:pygenometracks.tracksClass:plotting 31. [cluster16]\r\n"
     ]
    },
    {
     "name": "stdout",
     "output_type": "stream",
     "text": [
      "INFO:pygenometracks.tracksClass:plotting 32. [spacer]\r\n",
      "INFO:pygenometracks.tracksClass:plotting 33. [cluster17]\r\n"
     ]
    },
    {
     "name": "stdout",
     "output_type": "stream",
     "text": [
      "INFO:pygenometracks.tracksClass:plotting 34. [spacer]\r\n"
     ]
    },
    {
     "name": "stdout",
     "output_type": "stream",
     "text": [
      "INFO:pygenometracks.tracksClass:plotting 35. [cluster18]\r\n"
     ]
    },
    {
     "name": "stdout",
     "output_type": "stream",
     "text": [
      "INFO:pygenometracks.tracksClass:plotting 36. [spacer]\r\n"
     ]
    },
    {
     "name": "stdout",
     "output_type": "stream",
     "text": [
      "INFO:pygenometracks.tracksClass:plotting 37. [cluster19]\r\n"
     ]
    },
    {
     "name": "stdout",
     "output_type": "stream",
     "text": [
      "INFO:pygenometracks.tracksClass:plotting 38. [spacer]\r\n"
     ]
    },
    {
     "name": "stdout",
     "output_type": "stream",
     "text": [
      "INFO:pygenometracks.tracksClass:plotting 39. [cluster20]\r\n"
     ]
    },
    {
     "name": "stdout",
     "output_type": "stream",
     "text": [
      "INFO:pygenometracks.tracksClass:plotting 40. [spacer]\r\n"
     ]
    },
    {
     "name": "stdout",
     "output_type": "stream",
     "text": [
      "INFO:pygenometracks.tracksClass:plotting 41. [cluster21]\r\n"
     ]
    },
    {
     "name": "stdout",
     "output_type": "stream",
     "text": [
      "INFO:pygenometracks.tracksClass:plotting 42. [spacer]\r\n",
      "INFO:pygenometracks.tracksClass:plotting 43. [cluster22]\r\n"
     ]
    },
    {
     "name": "stdout",
     "output_type": "stream",
     "text": [
      "INFO:pygenometracks.tracksClass:plotting 44. [spacer]\r\n"
     ]
    },
    {
     "name": "stdout",
     "output_type": "stream",
     "text": [
      "INFO:pygenometracks.tracksClass:plotting 45. [cluster23]\r\n"
     ]
    },
    {
     "name": "stdout",
     "output_type": "stream",
     "text": [
      "INFO:pygenometracks.tracksClass:plotting 46. [spacer]\r\n"
     ]
    },
    {
     "name": "stdout",
     "output_type": "stream",
     "text": [
      "INFO:pygenometracks.tracksClass:plotting 47. [cluster24]\r\n"
     ]
    },
    {
     "name": "stdout",
     "output_type": "stream",
     "text": [
      "INFO:pygenometracks.tracksClass:plotting 48. [spacer]\r\n"
     ]
    },
    {
     "name": "stdout",
     "output_type": "stream",
     "text": [
      "INFO:pygenometracks.tracksClass:plotting 49. [snps]\r\n"
     ]
    },
    {
     "name": "stdout",
     "output_type": "stream",
     "text": [
      "DEBUG:pygenometracks.tracks.GenomeTrack:ylim 1479.9999999999998,0\r\n",
      "INFO:pygenometracks.tracksClass:plotting 50. [spacer]\r\n"
     ]
    },
    {
     "name": "stdout",
     "output_type": "stream",
     "text": [
      "INFO:pygenometracks.tracksClass:plotting 51. [x-axis]\r\n"
     ]
    },
    {
     "name": "stdout",
     "output_type": "stream",
     "text": [
      "INFO:pygenometracks.tracksClass:time initializing track(s):\r\n",
      "INFO:pygenometracks.tracksClass:0.15248513221740723\r\n",
      "DEBUG:pygenometracks.tracksClass:Figure size in cm is 40 x 114.375. Dpi is set to 72\r\n",
      "\r\n"
     ]
    },
    {
     "name": "stdout",
     "output_type": "stream",
     "text": [
      "INFO:pygenometracks.tracksClass:plotting 1. [cluster1]\r\n"
     ]
    },
    {
     "name": "stdout",
     "output_type": "stream",
     "text": [
      "INFO:pygenometracks.tracksClass:plotting 2. [spacer]\r\n"
     ]
    },
    {
     "name": "stdout",
     "output_type": "stream",
     "text": [
      "INFO:pygenometracks.tracksClass:plotting 3. [cluster2]\r\n"
     ]
    },
    {
     "name": "stdout",
     "output_type": "stream",
     "text": [
      "INFO:pygenometracks.tracksClass:plotting 4. [spacer]\r\n"
     ]
    },
    {
     "name": "stdout",
     "output_type": "stream",
     "text": [
      "INFO:pygenometracks.tracksClass:plotting 5. [cluster3]\r\n"
     ]
    },
    {
     "name": "stdout",
     "output_type": "stream",
     "text": [
      "INFO:pygenometracks.tracksClass:plotting 6. [spacer]\r\n"
     ]
    },
    {
     "name": "stdout",
     "output_type": "stream",
     "text": [
      "INFO:pygenometracks.tracksClass:plotting 7. [cluster4]\r\n"
     ]
    },
    {
     "name": "stdout",
     "output_type": "stream",
     "text": [
      "INFO:pygenometracks.tracksClass:plotting 8. [spacer]\r\n",
      "INFO:pygenometracks.tracksClass:plotting 9. [cluster5]\r\n"
     ]
    },
    {
     "name": "stdout",
     "output_type": "stream",
     "text": [
      "INFO:pygenometracks.tracksClass:plotting 10. [spacer]\r\n"
     ]
    },
    {
     "name": "stdout",
     "output_type": "stream",
     "text": [
      "INFO:pygenometracks.tracksClass:plotting 11. [cluster6]\r\n"
     ]
    },
    {
     "name": "stdout",
     "output_type": "stream",
     "text": [
      "INFO:pygenometracks.tracksClass:plotting 12. [spacer]\r\n"
     ]
    },
    {
     "name": "stdout",
     "output_type": "stream",
     "text": [
      "INFO:pygenometracks.tracksClass:plotting 13. [cluster7]\r\n"
     ]
    },
    {
     "name": "stdout",
     "output_type": "stream",
     "text": [
      "INFO:pygenometracks.tracksClass:plotting 14. [spacer]\r\n"
     ]
    },
    {
     "name": "stdout",
     "output_type": "stream",
     "text": [
      "INFO:pygenometracks.tracksClass:plotting 15. [cluster8]\r\n"
     ]
    },
    {
     "name": "stdout",
     "output_type": "stream",
     "text": [
      "INFO:pygenometracks.tracksClass:plotting 16. [spacer]\r\n"
     ]
    },
    {
     "name": "stdout",
     "output_type": "stream",
     "text": [
      "INFO:pygenometracks.tracksClass:plotting 17. [cluster9]\r\n"
     ]
    },
    {
     "name": "stdout",
     "output_type": "stream",
     "text": [
      "INFO:pygenometracks.tracksClass:plotting 18. [spacer]\r\n",
      "INFO:pygenometracks.tracksClass:plotting 19. [cluster10]\r\n"
     ]
    },
    {
     "name": "stdout",
     "output_type": "stream",
     "text": [
      "INFO:pygenometracks.tracksClass:plotting 20. [spacer]\r\n"
     ]
    },
    {
     "name": "stdout",
     "output_type": "stream",
     "text": [
      "INFO:pygenometracks.tracksClass:plotting 21. [cluster11]\r\n"
     ]
    },
    {
     "name": "stdout",
     "output_type": "stream",
     "text": [
      "INFO:pygenometracks.tracksClass:plotting 22. [spacer]\r\n"
     ]
    },
    {
     "name": "stdout",
     "output_type": "stream",
     "text": [
      "INFO:pygenometracks.tracksClass:plotting 23. [cluster12]\r\n"
     ]
    },
    {
     "name": "stdout",
     "output_type": "stream",
     "text": [
      "INFO:pygenometracks.tracksClass:plotting 24. [spacer]\r\n"
     ]
    },
    {
     "name": "stdout",
     "output_type": "stream",
     "text": [
      "INFO:pygenometracks.tracksClass:plotting 25. [cluster13]\r\n"
     ]
    },
    {
     "name": "stdout",
     "output_type": "stream",
     "text": [
      "INFO:pygenometracks.tracksClass:plotting 26. [spacer]\r\n",
      "INFO:pygenometracks.tracksClass:plotting 27. [cluster14]\r\n"
     ]
    },
    {
     "name": "stdout",
     "output_type": "stream",
     "text": [
      "INFO:pygenometracks.tracksClass:plotting 28. [spacer]\r\n"
     ]
    },
    {
     "name": "stdout",
     "output_type": "stream",
     "text": [
      "INFO:pygenometracks.tracksClass:plotting 29. [cluster15]\r\n"
     ]
    },
    {
     "name": "stdout",
     "output_type": "stream",
     "text": [
      "INFO:pygenometracks.tracksClass:plotting 30. [spacer]\r\n"
     ]
    },
    {
     "name": "stdout",
     "output_type": "stream",
     "text": [
      "INFO:pygenometracks.tracksClass:plotting 31. [cluster16]\r\n"
     ]
    },
    {
     "name": "stdout",
     "output_type": "stream",
     "text": [
      "INFO:pygenometracks.tracksClass:plotting 32. [spacer]\r\n"
     ]
    },
    {
     "name": "stdout",
     "output_type": "stream",
     "text": [
      "INFO:pygenometracks.tracksClass:plotting 33. [cluster17]\r\n"
     ]
    },
    {
     "name": "stdout",
     "output_type": "stream",
     "text": [
      "INFO:pygenometracks.tracksClass:plotting 34. [spacer]\r\n",
      "INFO:pygenometracks.tracksClass:plotting 35. [cluster18]\r\n"
     ]
    },
    {
     "name": "stdout",
     "output_type": "stream",
     "text": [
      "INFO:pygenometracks.tracksClass:plotting 36. [spacer]\r\n"
     ]
    },
    {
     "name": "stdout",
     "output_type": "stream",
     "text": [
      "INFO:pygenometracks.tracksClass:plotting 37. [cluster19]\r\n"
     ]
    },
    {
     "name": "stdout",
     "output_type": "stream",
     "text": [
      "INFO:pygenometracks.tracksClass:plotting 38. [spacer]\r\n"
     ]
    },
    {
     "name": "stdout",
     "output_type": "stream",
     "text": [
      "INFO:pygenometracks.tracksClass:plotting 39. [cluster20]\r\n"
     ]
    },
    {
     "name": "stdout",
     "output_type": "stream",
     "text": [
      "INFO:pygenometracks.tracksClass:plotting 40. [spacer]\r\n"
     ]
    },
    {
     "name": "stdout",
     "output_type": "stream",
     "text": [
      "INFO:pygenometracks.tracksClass:plotting 41. [cluster21]\r\n"
     ]
    },
    {
     "name": "stdout",
     "output_type": "stream",
     "text": [
      "INFO:pygenometracks.tracksClass:plotting 42. [spacer]\r\n"
     ]
    },
    {
     "name": "stdout",
     "output_type": "stream",
     "text": [
      "INFO:pygenometracks.tracksClass:plotting 43. [cluster22]\r\n"
     ]
    },
    {
     "name": "stdout",
     "output_type": "stream",
     "text": [
      "INFO:pygenometracks.tracksClass:plotting 44. [spacer]\r\n",
      "INFO:pygenometracks.tracksClass:plotting 45. [cluster23]\r\n"
     ]
    },
    {
     "name": "stdout",
     "output_type": "stream",
     "text": [
      "INFO:pygenometracks.tracksClass:plotting 46. [spacer]\r\n",
      "INFO:pygenometracks.tracksClass:plotting 47. [cluster24]\r\n"
     ]
    },
    {
     "name": "stdout",
     "output_type": "stream",
     "text": [
      "INFO:pygenometracks.tracksClass:plotting 48. [spacer]\r\n"
     ]
    },
    {
     "name": "stdout",
     "output_type": "stream",
     "text": [
      "INFO:pygenometracks.tracksClass:plotting 49. [snps]\r\n",
      "DEBUG:pygenometracks.tracks.GenomeTrack:ylim 1479.9999999999998,0\r\n"
     ]
    },
    {
     "name": "stdout",
     "output_type": "stream",
     "text": [
      "INFO:pygenometracks.tracksClass:plotting 50. [spacer]\r\n",
      "INFO:pygenometracks.tracksClass:plotting 51. [x-axis]\r\n"
     ]
    },
    {
     "name": "stdout",
     "output_type": "stream",
     "text": [
      "INFO:pygenometracks.tracksClass:time initializing track(s):\r\n",
      "INFO:pygenometracks.tracksClass:0.1446514129638672\r\n",
      "DEBUG:pygenometracks.tracksClass:Figure size in cm is 40 x 114.375. Dpi is set to 72\r\n",
      "\r\n"
     ]
    },
    {
     "name": "stdout",
     "output_type": "stream",
     "text": [
      "INFO:pygenometracks.tracksClass:plotting 1. [cluster1]\r\n"
     ]
    },
    {
     "name": "stdout",
     "output_type": "stream",
     "text": [
      "INFO:pygenometracks.tracksClass:plotting 2. [spacer]\r\n",
      "INFO:pygenometracks.tracksClass:plotting 3. [cluster2]\r\n"
     ]
    },
    {
     "name": "stdout",
     "output_type": "stream",
     "text": [
      "INFO:pygenometracks.tracksClass:plotting 4. [spacer]\r\n"
     ]
    },
    {
     "name": "stdout",
     "output_type": "stream",
     "text": [
      "INFO:pygenometracks.tracksClass:plotting 5. [cluster3]\r\n"
     ]
    },
    {
     "name": "stdout",
     "output_type": "stream",
     "text": [
      "INFO:pygenometracks.tracksClass:plotting 6. [spacer]\r\n"
     ]
    },
    {
     "name": "stdout",
     "output_type": "stream",
     "text": [
      "INFO:pygenometracks.tracksClass:plotting 7. [cluster4]\r\n"
     ]
    },
    {
     "name": "stdout",
     "output_type": "stream",
     "text": [
      "INFO:pygenometracks.tracksClass:plotting 8. [spacer]\r\n"
     ]
    },
    {
     "name": "stdout",
     "output_type": "stream",
     "text": [
      "INFO:pygenometracks.tracksClass:plotting 9. [cluster5]\r\n"
     ]
    },
    {
     "name": "stdout",
     "output_type": "stream",
     "text": [
      "INFO:pygenometracks.tracksClass:plotting 10. [spacer]\r\n"
     ]
    },
    {
     "name": "stdout",
     "output_type": "stream",
     "text": [
      "INFO:pygenometracks.tracksClass:plotting 11. [cluster6]\r\n"
     ]
    },
    {
     "name": "stdout",
     "output_type": "stream",
     "text": [
      "INFO:pygenometracks.tracksClass:plotting 12. [spacer]\r\n"
     ]
    },
    {
     "name": "stdout",
     "output_type": "stream",
     "text": [
      "INFO:pygenometracks.tracksClass:plotting 13. [cluster7]\r\n"
     ]
    },
    {
     "name": "stdout",
     "output_type": "stream",
     "text": [
      "INFO:pygenometracks.tracksClass:plotting 14. [spacer]\r\n"
     ]
    },
    {
     "name": "stdout",
     "output_type": "stream",
     "text": [
      "INFO:pygenometracks.tracksClass:plotting 15. [cluster8]\r\n"
     ]
    },
    {
     "name": "stdout",
     "output_type": "stream",
     "text": [
      "INFO:pygenometracks.tracksClass:plotting 16. [spacer]\r\n"
     ]
    },
    {
     "name": "stdout",
     "output_type": "stream",
     "text": [
      "INFO:pygenometracks.tracksClass:plotting 17. [cluster9]\r\n"
     ]
    },
    {
     "name": "stdout",
     "output_type": "stream",
     "text": [
      "INFO:pygenometracks.tracksClass:plotting 18. [spacer]\r\n"
     ]
    },
    {
     "name": "stdout",
     "output_type": "stream",
     "text": [
      "INFO:pygenometracks.tracksClass:plotting 19. [cluster10]\r\n"
     ]
    },
    {
     "name": "stdout",
     "output_type": "stream",
     "text": [
      "INFO:pygenometracks.tracksClass:plotting 20. [spacer]\r\n",
      "INFO:pygenometracks.tracksClass:plotting 21. [cluster11]\r\n"
     ]
    },
    {
     "name": "stdout",
     "output_type": "stream",
     "text": [
      "INFO:pygenometracks.tracksClass:plotting 22. [spacer]\r\n"
     ]
    },
    {
     "name": "stdout",
     "output_type": "stream",
     "text": [
      "INFO:pygenometracks.tracksClass:plotting 23. [cluster12]\r\n"
     ]
    },
    {
     "name": "stdout",
     "output_type": "stream",
     "text": [
      "INFO:pygenometracks.tracksClass:plotting 24. [spacer]\r\n"
     ]
    },
    {
     "name": "stdout",
     "output_type": "stream",
     "text": [
      "INFO:pygenometracks.tracksClass:plotting 25. [cluster13]\r\n"
     ]
    },
    {
     "name": "stdout",
     "output_type": "stream",
     "text": [
      "INFO:pygenometracks.tracksClass:plotting 26. [spacer]\r\n"
     ]
    },
    {
     "name": "stdout",
     "output_type": "stream",
     "text": [
      "INFO:pygenometracks.tracksClass:plotting 27. [cluster14]\r\n"
     ]
    },
    {
     "name": "stdout",
     "output_type": "stream",
     "text": [
      "INFO:pygenometracks.tracksClass:plotting 28. [spacer]\r\n"
     ]
    },
    {
     "name": "stdout",
     "output_type": "stream",
     "text": [
      "INFO:pygenometracks.tracksClass:plotting 29. [cluster15]\r\n"
     ]
    },
    {
     "name": "stdout",
     "output_type": "stream",
     "text": [
      "INFO:pygenometracks.tracksClass:plotting 30. [spacer]\r\n",
      "INFO:pygenometracks.tracksClass:plotting 31. [cluster16]\r\n"
     ]
    },
    {
     "name": "stdout",
     "output_type": "stream",
     "text": [
      "INFO:pygenometracks.tracksClass:plotting 32. [spacer]\r\n"
     ]
    },
    {
     "name": "stdout",
     "output_type": "stream",
     "text": [
      "INFO:pygenometracks.tracksClass:plotting 33. [cluster17]\r\n"
     ]
    },
    {
     "name": "stdout",
     "output_type": "stream",
     "text": [
      "INFO:pygenometracks.tracksClass:plotting 34. [spacer]\r\n"
     ]
    },
    {
     "name": "stdout",
     "output_type": "stream",
     "text": [
      "INFO:pygenometracks.tracksClass:plotting 35. [cluster18]\r\n"
     ]
    },
    {
     "name": "stdout",
     "output_type": "stream",
     "text": [
      "INFO:pygenometracks.tracksClass:plotting 36. [spacer]\r\n",
      "INFO:pygenometracks.tracksClass:plotting 37. [cluster19]\r\n"
     ]
    },
    {
     "name": "stdout",
     "output_type": "stream",
     "text": [
      "INFO:pygenometracks.tracksClass:plotting 38. [spacer]\r\n"
     ]
    },
    {
     "name": "stdout",
     "output_type": "stream",
     "text": [
      "INFO:pygenometracks.tracksClass:plotting 39. [cluster20]\r\n"
     ]
    },
    {
     "name": "stdout",
     "output_type": "stream",
     "text": [
      "INFO:pygenometracks.tracksClass:plotting 40. [spacer]\r\n"
     ]
    },
    {
     "name": "stdout",
     "output_type": "stream",
     "text": [
      "INFO:pygenometracks.tracksClass:plotting 41. [cluster21]\r\n"
     ]
    },
    {
     "name": "stdout",
     "output_type": "stream",
     "text": [
      "INFO:pygenometracks.tracksClass:plotting 42. [spacer]\r\n",
      "INFO:pygenometracks.tracksClass:plotting 43. [cluster22]\r\n"
     ]
    },
    {
     "name": "stdout",
     "output_type": "stream",
     "text": [
      "INFO:pygenometracks.tracksClass:plotting 44. [spacer]\r\n"
     ]
    },
    {
     "name": "stdout",
     "output_type": "stream",
     "text": [
      "INFO:pygenometracks.tracksClass:plotting 45. [cluster23]\r\n"
     ]
    },
    {
     "name": "stdout",
     "output_type": "stream",
     "text": [
      "INFO:pygenometracks.tracksClass:plotting 46. [spacer]\r\n"
     ]
    },
    {
     "name": "stdout",
     "output_type": "stream",
     "text": [
      "INFO:pygenometracks.tracksClass:plotting 47. [cluster24]\r\n"
     ]
    },
    {
     "name": "stdout",
     "output_type": "stream",
     "text": [
      "INFO:pygenometracks.tracksClass:plotting 48. [spacer]\r\n"
     ]
    },
    {
     "name": "stdout",
     "output_type": "stream",
     "text": [
      "INFO:pygenometracks.tracksClass:plotting 49. [snps]\r\n"
     ]
    },
    {
     "name": "stdout",
     "output_type": "stream",
     "text": [
      "DEBUG:pygenometracks.tracks.GenomeTrack:ylim 330.0,0\r\n",
      "INFO:pygenometracks.tracksClass:plotting 50. [spacer]\r\n"
     ]
    },
    {
     "name": "stdout",
     "output_type": "stream",
     "text": [
      "INFO:pygenometracks.tracksClass:plotting 51. [x-axis]\r\n"
     ]
    },
    {
     "name": "stdout",
     "output_type": "stream",
     "text": [
      "INFO:pygenometracks.tracksClass:time initializing track(s):\r\n",
      "INFO:pygenometracks.tracksClass:0.14191174507141113\r\n",
      "DEBUG:pygenometracks.tracksClass:Figure size in cm is 40 x 114.375. Dpi is set to 72\r\n",
      "\r\n"
     ]
    },
    {
     "name": "stdout",
     "output_type": "stream",
     "text": [
      "INFO:pygenometracks.tracksClass:plotting 1. [cluster1]\r\n"
     ]
    },
    {
     "name": "stdout",
     "output_type": "stream",
     "text": [
      "INFO:pygenometracks.tracksClass:plotting 2. [spacer]\r\n"
     ]
    },
    {
     "name": "stdout",
     "output_type": "stream",
     "text": [
      "INFO:pygenometracks.tracksClass:plotting 3. [cluster2]\r\n"
     ]
    },
    {
     "name": "stdout",
     "output_type": "stream",
     "text": [
      "INFO:pygenometracks.tracksClass:plotting 4. [spacer]\r\n"
     ]
    },
    {
     "name": "stdout",
     "output_type": "stream",
     "text": [
      "INFO:pygenometracks.tracksClass:plotting 5. [cluster3]\r\n"
     ]
    },
    {
     "name": "stdout",
     "output_type": "stream",
     "text": [
      "INFO:pygenometracks.tracksClass:plotting 6. [spacer]\r\n",
      "INFO:pygenometracks.tracksClass:plotting 7. [cluster4]\r\n"
     ]
    },
    {
     "name": "stdout",
     "output_type": "stream",
     "text": [
      "INFO:pygenometracks.tracksClass:plotting 8. [spacer]\r\n"
     ]
    },
    {
     "name": "stdout",
     "output_type": "stream",
     "text": [
      "INFO:pygenometracks.tracksClass:plotting 9. [cluster5]\r\n"
     ]
    },
    {
     "name": "stdout",
     "output_type": "stream",
     "text": [
      "INFO:pygenometracks.tracksClass:plotting 10. [spacer]\r\n"
     ]
    },
    {
     "name": "stdout",
     "output_type": "stream",
     "text": [
      "INFO:pygenometracks.tracksClass:plotting 11. [cluster6]\r\n"
     ]
    },
    {
     "name": "stdout",
     "output_type": "stream",
     "text": [
      "INFO:pygenometracks.tracksClass:plotting 12. [spacer]\r\n"
     ]
    },
    {
     "name": "stdout",
     "output_type": "stream",
     "text": [
      "INFO:pygenometracks.tracksClass:plotting 13. [cluster7]\r\n"
     ]
    },
    {
     "name": "stdout",
     "output_type": "stream",
     "text": [
      "INFO:pygenometracks.tracksClass:plotting 14. [spacer]\r\n"
     ]
    },
    {
     "name": "stdout",
     "output_type": "stream",
     "text": [
      "INFO:pygenometracks.tracksClass:plotting 15. [cluster8]\r\n"
     ]
    },
    {
     "name": "stdout",
     "output_type": "stream",
     "text": [
      "INFO:pygenometracks.tracksClass:plotting 16. [spacer]\r\n"
     ]
    },
    {
     "name": "stdout",
     "output_type": "stream",
     "text": [
      "INFO:pygenometracks.tracksClass:plotting 17. [cluster9]\r\n"
     ]
    },
    {
     "name": "stdout",
     "output_type": "stream",
     "text": [
      "INFO:pygenometracks.tracksClass:plotting 18. [spacer]\r\n"
     ]
    },
    {
     "name": "stdout",
     "output_type": "stream",
     "text": [
      "INFO:pygenometracks.tracksClass:plotting 19. [cluster10]\r\n"
     ]
    },
    {
     "name": "stdout",
     "output_type": "stream",
     "text": [
      "INFO:pygenometracks.tracksClass:plotting 20. [spacer]\r\n",
      "INFO:pygenometracks.tracksClass:plotting 21. [cluster11]\r\n"
     ]
    },
    {
     "name": "stdout",
     "output_type": "stream",
     "text": [
      "INFO:pygenometracks.tracksClass:plotting 22. [spacer]\r\n"
     ]
    },
    {
     "name": "stdout",
     "output_type": "stream",
     "text": [
      "INFO:pygenometracks.tracksClass:plotting 23. [cluster12]\r\n"
     ]
    },
    {
     "name": "stdout",
     "output_type": "stream",
     "text": [
      "INFO:pygenometracks.tracksClass:plotting 24. [spacer]\r\n"
     ]
    },
    {
     "name": "stdout",
     "output_type": "stream",
     "text": [
      "INFO:pygenometracks.tracksClass:plotting 25. [cluster13]\r\n"
     ]
    },
    {
     "name": "stdout",
     "output_type": "stream",
     "text": [
      "INFO:pygenometracks.tracksClass:plotting 26. [spacer]\r\n",
      "INFO:pygenometracks.tracksClass:plotting 27. [cluster14]\r\n"
     ]
    },
    {
     "name": "stdout",
     "output_type": "stream",
     "text": [
      "INFO:pygenometracks.tracksClass:plotting 28. [spacer]\r\n"
     ]
    },
    {
     "name": "stdout",
     "output_type": "stream",
     "text": [
      "INFO:pygenometracks.tracksClass:plotting 29. [cluster15]\r\n"
     ]
    },
    {
     "name": "stdout",
     "output_type": "stream",
     "text": [
      "INFO:pygenometracks.tracksClass:plotting 30. [spacer]\r\n"
     ]
    },
    {
     "name": "stdout",
     "output_type": "stream",
     "text": [
      "INFO:pygenometracks.tracksClass:plotting 31. [cluster16]\r\n"
     ]
    },
    {
     "name": "stdout",
     "output_type": "stream",
     "text": [
      "INFO:pygenometracks.tracksClass:plotting 32. [spacer]\r\n"
     ]
    },
    {
     "name": "stdout",
     "output_type": "stream",
     "text": [
      "INFO:pygenometracks.tracksClass:plotting 33. [cluster17]\r\n"
     ]
    },
    {
     "name": "stdout",
     "output_type": "stream",
     "text": [
      "INFO:pygenometracks.tracksClass:plotting 34. [spacer]\r\n",
      "INFO:pygenometracks.tracksClass:plotting 35. [cluster18]\r\n"
     ]
    },
    {
     "name": "stdout",
     "output_type": "stream",
     "text": [
      "INFO:pygenometracks.tracksClass:plotting 36. [spacer]\r\n"
     ]
    },
    {
     "name": "stdout",
     "output_type": "stream",
     "text": [
      "INFO:pygenometracks.tracksClass:plotting 37. [cluster19]\r\n"
     ]
    },
    {
     "name": "stdout",
     "output_type": "stream",
     "text": [
      "INFO:pygenometracks.tracksClass:plotting 38. [spacer]\r\n"
     ]
    },
    {
     "name": "stdout",
     "output_type": "stream",
     "text": [
      "INFO:pygenometracks.tracksClass:plotting 39. [cluster20]\r\n"
     ]
    },
    {
     "name": "stdout",
     "output_type": "stream",
     "text": [
      "INFO:pygenometracks.tracksClass:plotting 40. [spacer]\r\n",
      "INFO:pygenometracks.tracksClass:plotting 41. [cluster21]\r\n"
     ]
    },
    {
     "name": "stdout",
     "output_type": "stream",
     "text": [
      "INFO:pygenometracks.tracksClass:plotting 42. [spacer]\r\n"
     ]
    },
    {
     "name": "stdout",
     "output_type": "stream",
     "text": [
      "INFO:pygenometracks.tracksClass:plotting 43. [cluster22]\r\n"
     ]
    },
    {
     "name": "stdout",
     "output_type": "stream",
     "text": [
      "INFO:pygenometracks.tracksClass:plotting 44. [spacer]\r\n"
     ]
    },
    {
     "name": "stdout",
     "output_type": "stream",
     "text": [
      "INFO:pygenometracks.tracksClass:plotting 45. [cluster23]\r\n"
     ]
    },
    {
     "name": "stdout",
     "output_type": "stream",
     "text": [
      "INFO:pygenometracks.tracksClass:plotting 46. [spacer]\r\n"
     ]
    },
    {
     "name": "stdout",
     "output_type": "stream",
     "text": [
      "INFO:pygenometracks.tracksClass:plotting 47. [cluster24]\r\n"
     ]
    },
    {
     "name": "stdout",
     "output_type": "stream",
     "text": [
      "INFO:pygenometracks.tracksClass:plotting 48. [spacer]\r\n",
      "INFO:pygenometracks.tracksClass:plotting 49. [snps]\r\n"
     ]
    },
    {
     "name": "stdout",
     "output_type": "stream",
     "text": [
      "DEBUG:pygenometracks.tracks.GenomeTrack:ylim 330.0,0\r\n",
      "INFO:pygenometracks.tracksClass:plotting 50. [spacer]\r\n"
     ]
    },
    {
     "name": "stdout",
     "output_type": "stream",
     "text": [
      "INFO:pygenometracks.tracksClass:plotting 51. [x-axis]\r\n"
     ]
    },
    {
     "name": "stdout",
     "output_type": "stream",
     "text": [
      "INFO:pygenometracks.tracksClass:time initializing track(s):\r\n",
      "INFO:pygenometracks.tracksClass:0.1489865779876709\r\n",
      "DEBUG:pygenometracks.tracksClass:Figure size in cm is 40 x 114.375. Dpi is set to 72\r\n",
      "\r\n"
     ]
    },
    {
     "name": "stdout",
     "output_type": "stream",
     "text": [
      "INFO:pygenometracks.tracksClass:plotting 1. [cluster1]\r\n"
     ]
    },
    {
     "name": "stdout",
     "output_type": "stream",
     "text": [
      "INFO:pygenometracks.tracksClass:plotting 2. [spacer]\r\n"
     ]
    },
    {
     "name": "stdout",
     "output_type": "stream",
     "text": [
      "INFO:pygenometracks.tracksClass:plotting 3. [cluster2]\r\n"
     ]
    },
    {
     "name": "stdout",
     "output_type": "stream",
     "text": [
      "INFO:pygenometracks.tracksClass:plotting 4. [spacer]\r\n"
     ]
    },
    {
     "name": "stdout",
     "output_type": "stream",
     "text": [
      "INFO:pygenometracks.tracksClass:plotting 5. [cluster3]\r\n"
     ]
    },
    {
     "name": "stdout",
     "output_type": "stream",
     "text": [
      "INFO:pygenometracks.tracksClass:plotting 6. [spacer]\r\n"
     ]
    },
    {
     "name": "stdout",
     "output_type": "stream",
     "text": [
      "INFO:pygenometracks.tracksClass:plotting 7. [cluster4]\r\n"
     ]
    },
    {
     "name": "stdout",
     "output_type": "stream",
     "text": [
      "INFO:pygenometracks.tracksClass:plotting 8. [spacer]\r\n"
     ]
    },
    {
     "name": "stdout",
     "output_type": "stream",
     "text": [
      "INFO:pygenometracks.tracksClass:plotting 9. [cluster5]\r\n"
     ]
    },
    {
     "name": "stdout",
     "output_type": "stream",
     "text": [
      "INFO:pygenometracks.tracksClass:plotting 10. [spacer]\r\n"
     ]
    },
    {
     "name": "stdout",
     "output_type": "stream",
     "text": [
      "INFO:pygenometracks.tracksClass:plotting 11. [cluster6]\r\n"
     ]
    },
    {
     "name": "stdout",
     "output_type": "stream",
     "text": [
      "INFO:pygenometracks.tracksClass:plotting 12. [spacer]\r\n"
     ]
    },
    {
     "name": "stdout",
     "output_type": "stream",
     "text": [
      "INFO:pygenometracks.tracksClass:plotting 13. [cluster7]\r\n"
     ]
    },
    {
     "name": "stdout",
     "output_type": "stream",
     "text": [
      "INFO:pygenometracks.tracksClass:plotting 14. [spacer]\r\n",
      "INFO:pygenometracks.tracksClass:plotting 15. [cluster8]\r\n"
     ]
    },
    {
     "name": "stdout",
     "output_type": "stream",
     "text": [
      "INFO:pygenometracks.tracksClass:plotting 16. [spacer]\r\n"
     ]
    },
    {
     "name": "stdout",
     "output_type": "stream",
     "text": [
      "INFO:pygenometracks.tracksClass:plotting 17. [cluster9]\r\n"
     ]
    },
    {
     "name": "stdout",
     "output_type": "stream",
     "text": [
      "INFO:pygenometracks.tracksClass:plotting 18. [spacer]\r\n"
     ]
    },
    {
     "name": "stdout",
     "output_type": "stream",
     "text": [
      "INFO:pygenometracks.tracksClass:plotting 19. [cluster10]\r\n"
     ]
    },
    {
     "name": "stdout",
     "output_type": "stream",
     "text": [
      "INFO:pygenometracks.tracksClass:plotting 20. [spacer]\r\n",
      "INFO:pygenometracks.tracksClass:plotting 21. [cluster11]\r\n"
     ]
    },
    {
     "name": "stdout",
     "output_type": "stream",
     "text": [
      "INFO:pygenometracks.tracksClass:plotting 22. [spacer]\r\n"
     ]
    },
    {
     "name": "stdout",
     "output_type": "stream",
     "text": [
      "INFO:pygenometracks.tracksClass:plotting 23. [cluster12]\r\n"
     ]
    },
    {
     "name": "stdout",
     "output_type": "stream",
     "text": [
      "INFO:pygenometracks.tracksClass:plotting 24. [spacer]\r\n"
     ]
    },
    {
     "name": "stdout",
     "output_type": "stream",
     "text": [
      "INFO:pygenometracks.tracksClass:plotting 25. [cluster13]\r\n"
     ]
    },
    {
     "name": "stdout",
     "output_type": "stream",
     "text": [
      "INFO:pygenometracks.tracksClass:plotting 26. [spacer]\r\n",
      "INFO:pygenometracks.tracksClass:plotting 27. [cluster14]\r\n"
     ]
    },
    {
     "name": "stdout",
     "output_type": "stream",
     "text": [
      "INFO:pygenometracks.tracksClass:plotting 28. [spacer]\r\n"
     ]
    },
    {
     "name": "stdout",
     "output_type": "stream",
     "text": [
      "INFO:pygenometracks.tracksClass:plotting 29. [cluster15]\r\n"
     ]
    },
    {
     "name": "stdout",
     "output_type": "stream",
     "text": [
      "INFO:pygenometracks.tracksClass:plotting 30. [spacer]\r\n"
     ]
    },
    {
     "name": "stdout",
     "output_type": "stream",
     "text": [
      "INFO:pygenometracks.tracksClass:plotting 31. [cluster16]\r\n"
     ]
    },
    {
     "name": "stdout",
     "output_type": "stream",
     "text": [
      "INFO:pygenometracks.tracksClass:plotting 32. [spacer]\r\n",
      "INFO:pygenometracks.tracksClass:plotting 33. [cluster17]\r\n"
     ]
    },
    {
     "name": "stdout",
     "output_type": "stream",
     "text": [
      "INFO:pygenometracks.tracksClass:plotting 34. [spacer]\r\n"
     ]
    },
    {
     "name": "stdout",
     "output_type": "stream",
     "text": [
      "INFO:pygenometracks.tracksClass:plotting 35. [cluster18]\r\n"
     ]
    },
    {
     "name": "stdout",
     "output_type": "stream",
     "text": [
      "INFO:pygenometracks.tracksClass:plotting 36. [spacer]\r\n"
     ]
    },
    {
     "name": "stdout",
     "output_type": "stream",
     "text": [
      "INFO:pygenometracks.tracksClass:plotting 37. [cluster19]\r\n"
     ]
    },
    {
     "name": "stdout",
     "output_type": "stream",
     "text": [
      "INFO:pygenometracks.tracksClass:plotting 38. [spacer]\r\n"
     ]
    },
    {
     "name": "stdout",
     "output_type": "stream",
     "text": [
      "INFO:pygenometracks.tracksClass:plotting 39. [cluster20]\r\n"
     ]
    },
    {
     "name": "stdout",
     "output_type": "stream",
     "text": [
      "INFO:pygenometracks.tracksClass:plotting 40. [spacer]\r\n"
     ]
    },
    {
     "name": "stdout",
     "output_type": "stream",
     "text": [
      "INFO:pygenometracks.tracksClass:plotting 41. [cluster21]\r\n"
     ]
    },
    {
     "name": "stdout",
     "output_type": "stream",
     "text": [
      "INFO:pygenometracks.tracksClass:plotting 42. [spacer]\r\n"
     ]
    },
    {
     "name": "stdout",
     "output_type": "stream",
     "text": [
      "INFO:pygenometracks.tracksClass:plotting 43. [cluster22]\r\n"
     ]
    },
    {
     "name": "stdout",
     "output_type": "stream",
     "text": [
      "INFO:pygenometracks.tracksClass:plotting 44. [spacer]\r\n"
     ]
    },
    {
     "name": "stdout",
     "output_type": "stream",
     "text": [
      "INFO:pygenometracks.tracksClass:plotting 45. [cluster23]\r\n"
     ]
    },
    {
     "name": "stdout",
     "output_type": "stream",
     "text": [
      "INFO:pygenometracks.tracksClass:plotting 46. [spacer]\r\n"
     ]
    },
    {
     "name": "stdout",
     "output_type": "stream",
     "text": [
      "INFO:pygenometracks.tracksClass:plotting 47. [cluster24]\r\n"
     ]
    },
    {
     "name": "stdout",
     "output_type": "stream",
     "text": [
      "INFO:pygenometracks.tracksClass:plotting 48. [spacer]\r\n"
     ]
    },
    {
     "name": "stdout",
     "output_type": "stream",
     "text": [
      "INFO:pygenometracks.tracksClass:plotting 49. [snps]\r\n"
     ]
    },
    {
     "name": "stdout",
     "output_type": "stream",
     "text": [
      "DEBUG:pygenometracks.tracks.GenomeTrack:ylim 1019.9999999999999,0\r\n",
      "INFO:pygenometracks.tracksClass:plotting 50. [spacer]\r\n"
     ]
    },
    {
     "name": "stdout",
     "output_type": "stream",
     "text": [
      "INFO:pygenometracks.tracksClass:plotting 51. [x-axis]\r\n"
     ]
    },
    {
     "name": "stdout",
     "output_type": "stream",
     "text": [
      "INFO:pygenometracks.tracksClass:time initializing track(s):\r\n",
      "INFO:pygenometracks.tracksClass:0.15066146850585938\r\n",
      "DEBUG:pygenometracks.tracksClass:Figure size in cm is 40 x 114.375. Dpi is set to 72\r\n",
      "\r\n"
     ]
    },
    {
     "name": "stdout",
     "output_type": "stream",
     "text": [
      "INFO:pygenometracks.tracksClass:plotting 1. [cluster1]\r\n"
     ]
    },
    {
     "name": "stdout",
     "output_type": "stream",
     "text": [
      "INFO:pygenometracks.tracksClass:plotting 2. [spacer]\r\n"
     ]
    },
    {
     "name": "stdout",
     "output_type": "stream",
     "text": [
      "INFO:pygenometracks.tracksClass:plotting 3. [cluster2]\r\n"
     ]
    },
    {
     "name": "stdout",
     "output_type": "stream",
     "text": [
      "INFO:pygenometracks.tracksClass:plotting 4. [spacer]\r\n",
      "INFO:pygenometracks.tracksClass:plotting 5. [cluster3]\r\n"
     ]
    },
    {
     "name": "stdout",
     "output_type": "stream",
     "text": [
      "INFO:pygenometracks.tracksClass:plotting 6. [spacer]\r\n"
     ]
    },
    {
     "name": "stdout",
     "output_type": "stream",
     "text": [
      "INFO:pygenometracks.tracksClass:plotting 7. [cluster4]\r\n"
     ]
    },
    {
     "name": "stdout",
     "output_type": "stream",
     "text": [
      "INFO:pygenometracks.tracksClass:plotting 8. [spacer]\r\n"
     ]
    },
    {
     "name": "stdout",
     "output_type": "stream",
     "text": [
      "INFO:pygenometracks.tracksClass:plotting 9. [cluster5]\r\n"
     ]
    },
    {
     "name": "stdout",
     "output_type": "stream",
     "text": [
      "INFO:pygenometracks.tracksClass:plotting 10. [spacer]\r\n"
     ]
    },
    {
     "name": "stdout",
     "output_type": "stream",
     "text": [
      "INFO:pygenometracks.tracksClass:plotting 11. [cluster6]\r\n"
     ]
    },
    {
     "name": "stdout",
     "output_type": "stream",
     "text": [
      "INFO:pygenometracks.tracksClass:plotting 12. [spacer]\r\n"
     ]
    },
    {
     "name": "stdout",
     "output_type": "stream",
     "text": [
      "INFO:pygenometracks.tracksClass:plotting 13. [cluster7]\r\n"
     ]
    },
    {
     "name": "stdout",
     "output_type": "stream",
     "text": [
      "INFO:pygenometracks.tracksClass:plotting 14. [spacer]\r\n"
     ]
    },
    {
     "name": "stdout",
     "output_type": "stream",
     "text": [
      "INFO:pygenometracks.tracksClass:plotting 15. [cluster8]\r\n"
     ]
    },
    {
     "name": "stdout",
     "output_type": "stream",
     "text": [
      "INFO:pygenometracks.tracksClass:plotting 16. [spacer]\r\n"
     ]
    },
    {
     "name": "stdout",
     "output_type": "stream",
     "text": [
      "INFO:pygenometracks.tracksClass:plotting 17. [cluster9]\r\n"
     ]
    },
    {
     "name": "stdout",
     "output_type": "stream",
     "text": [
      "INFO:pygenometracks.tracksClass:plotting 18. [spacer]\r\n",
      "INFO:pygenometracks.tracksClass:plotting 19. [cluster10]\r\n"
     ]
    },
    {
     "name": "stdout",
     "output_type": "stream",
     "text": [
      "INFO:pygenometracks.tracksClass:plotting 20. [spacer]\r\n"
     ]
    },
    {
     "name": "stdout",
     "output_type": "stream",
     "text": [
      "INFO:pygenometracks.tracksClass:plotting 21. [cluster11]\r\n"
     ]
    },
    {
     "name": "stdout",
     "output_type": "stream",
     "text": [
      "INFO:pygenometracks.tracksClass:plotting 22. [spacer]\r\n"
     ]
    },
    {
     "name": "stdout",
     "output_type": "stream",
     "text": [
      "INFO:pygenometracks.tracksClass:plotting 23. [cluster12]\r\n"
     ]
    },
    {
     "name": "stdout",
     "output_type": "stream",
     "text": [
      "INFO:pygenometracks.tracksClass:plotting 24. [spacer]\r\n",
      "INFO:pygenometracks.tracksClass:plotting 25. [cluster13]\r\n"
     ]
    },
    {
     "name": "stdout",
     "output_type": "stream",
     "text": [
      "INFO:pygenometracks.tracksClass:plotting 26. [spacer]\r\n"
     ]
    },
    {
     "name": "stdout",
     "output_type": "stream",
     "text": [
      "INFO:pygenometracks.tracksClass:plotting 27. [cluster14]\r\n"
     ]
    },
    {
     "name": "stdout",
     "output_type": "stream",
     "text": [
      "INFO:pygenometracks.tracksClass:plotting 28. [spacer]\r\n"
     ]
    },
    {
     "name": "stdout",
     "output_type": "stream",
     "text": [
      "INFO:pygenometracks.tracksClass:plotting 29. [cluster15]\r\n"
     ]
    },
    {
     "name": "stdout",
     "output_type": "stream",
     "text": [
      "INFO:pygenometracks.tracksClass:plotting 30. [spacer]\r\n",
      "INFO:pygenometracks.tracksClass:plotting 31. [cluster16]\r\n"
     ]
    },
    {
     "name": "stdout",
     "output_type": "stream",
     "text": [
      "INFO:pygenometracks.tracksClass:plotting 32. [spacer]\r\n"
     ]
    },
    {
     "name": "stdout",
     "output_type": "stream",
     "text": [
      "INFO:pygenometracks.tracksClass:plotting 33. [cluster17]\r\n"
     ]
    },
    {
     "name": "stdout",
     "output_type": "stream",
     "text": [
      "INFO:pygenometracks.tracksClass:plotting 34. [spacer]\r\n"
     ]
    },
    {
     "name": "stdout",
     "output_type": "stream",
     "text": [
      "INFO:pygenometracks.tracksClass:plotting 35. [cluster18]\r\n"
     ]
    },
    {
     "name": "stdout",
     "output_type": "stream",
     "text": [
      "INFO:pygenometracks.tracksClass:plotting 36. [spacer]\r\n",
      "INFO:pygenometracks.tracksClass:plotting 37. [cluster19]\r\n"
     ]
    },
    {
     "name": "stdout",
     "output_type": "stream",
     "text": [
      "INFO:pygenometracks.tracksClass:plotting 38. [spacer]\r\n"
     ]
    },
    {
     "name": "stdout",
     "output_type": "stream",
     "text": [
      "INFO:pygenometracks.tracksClass:plotting 39. [cluster20]\r\n"
     ]
    },
    {
     "name": "stdout",
     "output_type": "stream",
     "text": [
      "INFO:pygenometracks.tracksClass:plotting 40. [spacer]\r\n"
     ]
    },
    {
     "name": "stdout",
     "output_type": "stream",
     "text": [
      "INFO:pygenometracks.tracksClass:plotting 41. [cluster21]\r\n"
     ]
    },
    {
     "name": "stdout",
     "output_type": "stream",
     "text": [
      "INFO:pygenometracks.tracksClass:plotting 42. [spacer]\r\n",
      "INFO:pygenometracks.tracksClass:plotting 43. [cluster22]\r\n"
     ]
    },
    {
     "name": "stdout",
     "output_type": "stream",
     "text": [
      "INFO:pygenometracks.tracksClass:plotting 44. [spacer]\r\n"
     ]
    },
    {
     "name": "stdout",
     "output_type": "stream",
     "text": [
      "INFO:pygenometracks.tracksClass:plotting 45. [cluster23]\r\n"
     ]
    },
    {
     "name": "stdout",
     "output_type": "stream",
     "text": [
      "INFO:pygenometracks.tracksClass:plotting 46. [spacer]\r\n"
     ]
    },
    {
     "name": "stdout",
     "output_type": "stream",
     "text": [
      "INFO:pygenometracks.tracksClass:plotting 47. [cluster24]\r\n"
     ]
    },
    {
     "name": "stdout",
     "output_type": "stream",
     "text": [
      "INFO:pygenometracks.tracksClass:plotting 48. [spacer]\r\n",
      "INFO:pygenometracks.tracksClass:plotting 49. [snps]\r\n"
     ]
    },
    {
     "name": "stdout",
     "output_type": "stream",
     "text": [
      "DEBUG:pygenometracks.tracks.GenomeTrack:ylim 1019.9999999999999,0\r\n",
      "INFO:pygenometracks.tracksClass:plotting 50. [spacer]\r\n"
     ]
    },
    {
     "name": "stdout",
     "output_type": "stream",
     "text": [
      "INFO:pygenometracks.tracksClass:plotting 51. [x-axis]\r\n"
     ]
    },
    {
     "name": "stdout",
     "output_type": "stream",
     "text": [
      "INFO:pygenometracks.tracksClass:time initializing track(s):\r\n",
      "INFO:pygenometracks.tracksClass:0.13379526138305664\r\n",
      "DEBUG:pygenometracks.tracksClass:Figure size in cm is 40 x 114.375. Dpi is set to 72\r\n",
      "\r\n"
     ]
    },
    {
     "name": "stdout",
     "output_type": "stream",
     "text": [
      "INFO:pygenometracks.tracksClass:plotting 1. [cluster1]\r\n"
     ]
    },
    {
     "name": "stdout",
     "output_type": "stream",
     "text": [
      "INFO:pygenometracks.tracksClass:plotting 2. [spacer]\r\n"
     ]
    },
    {
     "name": "stdout",
     "output_type": "stream",
     "text": [
      "INFO:pygenometracks.tracksClass:plotting 3. [cluster2]\r\n"
     ]
    },
    {
     "name": "stdout",
     "output_type": "stream",
     "text": [
      "INFO:pygenometracks.tracksClass:plotting 4. [spacer]\r\n"
     ]
    },
    {
     "name": "stdout",
     "output_type": "stream",
     "text": [
      "INFO:pygenometracks.tracksClass:plotting 5. [cluster3]\r\n"
     ]
    },
    {
     "name": "stdout",
     "output_type": "stream",
     "text": [
      "INFO:pygenometracks.tracksClass:plotting 6. [spacer]\r\n"
     ]
    },
    {
     "name": "stdout",
     "output_type": "stream",
     "text": [
      "INFO:pygenometracks.tracksClass:plotting 7. [cluster4]\r\n"
     ]
    },
    {
     "name": "stdout",
     "output_type": "stream",
     "text": [
      "INFO:pygenometracks.tracksClass:plotting 8. [spacer]\r\n",
      "INFO:pygenometracks.tracksClass:plotting 9. [cluster5]\r\n"
     ]
    },
    {
     "name": "stdout",
     "output_type": "stream",
     "text": [
      "INFO:pygenometracks.tracksClass:plotting 10. [spacer]\r\n"
     ]
    },
    {
     "name": "stdout",
     "output_type": "stream",
     "text": [
      "INFO:pygenometracks.tracksClass:plotting 11. [cluster6]\r\n"
     ]
    },
    {
     "name": "stdout",
     "output_type": "stream",
     "text": [
      "INFO:pygenometracks.tracksClass:plotting 12. [spacer]\r\n"
     ]
    },
    {
     "name": "stdout",
     "output_type": "stream",
     "text": [
      "INFO:pygenometracks.tracksClass:plotting 13. [cluster7]\r\n"
     ]
    },
    {
     "name": "stdout",
     "output_type": "stream",
     "text": [
      "INFO:pygenometracks.tracksClass:plotting 14. [spacer]\r\n",
      "INFO:pygenometracks.tracksClass:plotting 15. [cluster8]\r\n"
     ]
    },
    {
     "name": "stdout",
     "output_type": "stream",
     "text": [
      "INFO:pygenometracks.tracksClass:plotting 16. [spacer]\r\n"
     ]
    },
    {
     "name": "stdout",
     "output_type": "stream",
     "text": [
      "INFO:pygenometracks.tracksClass:plotting 17. [cluster9]\r\n"
     ]
    },
    {
     "name": "stdout",
     "output_type": "stream",
     "text": [
      "INFO:pygenometracks.tracksClass:plotting 18. [spacer]\r\n"
     ]
    },
    {
     "name": "stdout",
     "output_type": "stream",
     "text": [
      "INFO:pygenometracks.tracksClass:plotting 19. [cluster10]\r\n"
     ]
    },
    {
     "name": "stdout",
     "output_type": "stream",
     "text": [
      "INFO:pygenometracks.tracksClass:plotting 20. [spacer]\r\n",
      "INFO:pygenometracks.tracksClass:plotting 21. [cluster11]\r\n"
     ]
    },
    {
     "name": "stdout",
     "output_type": "stream",
     "text": [
      "INFO:pygenometracks.tracksClass:plotting 22. [spacer]\r\n"
     ]
    },
    {
     "name": "stdout",
     "output_type": "stream",
     "text": [
      "INFO:pygenometracks.tracksClass:plotting 23. [cluster12]\r\n"
     ]
    },
    {
     "name": "stdout",
     "output_type": "stream",
     "text": [
      "INFO:pygenometracks.tracksClass:plotting 24. [spacer]\r\n"
     ]
    },
    {
     "name": "stdout",
     "output_type": "stream",
     "text": [
      "INFO:pygenometracks.tracksClass:plotting 25. [cluster13]\r\n"
     ]
    },
    {
     "name": "stdout",
     "output_type": "stream",
     "text": [
      "INFO:pygenometracks.tracksClass:plotting 26. [spacer]\r\n",
      "INFO:pygenometracks.tracksClass:plotting 27. [cluster14]\r\n"
     ]
    },
    {
     "name": "stdout",
     "output_type": "stream",
     "text": [
      "INFO:pygenometracks.tracksClass:plotting 28. [spacer]\r\n"
     ]
    },
    {
     "name": "stdout",
     "output_type": "stream",
     "text": [
      "INFO:pygenometracks.tracksClass:plotting 29. [cluster15]\r\n"
     ]
    },
    {
     "name": "stdout",
     "output_type": "stream",
     "text": [
      "INFO:pygenometracks.tracksClass:plotting 30. [spacer]\r\n"
     ]
    },
    {
     "name": "stdout",
     "output_type": "stream",
     "text": [
      "INFO:pygenometracks.tracksClass:plotting 31. [cluster16]\r\n"
     ]
    },
    {
     "name": "stdout",
     "output_type": "stream",
     "text": [
      "INFO:pygenometracks.tracksClass:plotting 32. [spacer]\r\n",
      "INFO:pygenometracks.tracksClass:plotting 33. [cluster17]\r\n"
     ]
    },
    {
     "name": "stdout",
     "output_type": "stream",
     "text": [
      "INFO:pygenometracks.tracksClass:plotting 34. [spacer]\r\n"
     ]
    },
    {
     "name": "stdout",
     "output_type": "stream",
     "text": [
      "INFO:pygenometracks.tracksClass:plotting 35. [cluster18]\r\n"
     ]
    },
    {
     "name": "stdout",
     "output_type": "stream",
     "text": [
      "INFO:pygenometracks.tracksClass:plotting 36. [spacer]\r\n"
     ]
    },
    {
     "name": "stdout",
     "output_type": "stream",
     "text": [
      "INFO:pygenometracks.tracksClass:plotting 37. [cluster19]\r\n"
     ]
    },
    {
     "name": "stdout",
     "output_type": "stream",
     "text": [
      "INFO:pygenometracks.tracksClass:plotting 38. [spacer]\r\n",
      "INFO:pygenometracks.tracksClass:plotting 39. [cluster20]\r\n"
     ]
    },
    {
     "name": "stdout",
     "output_type": "stream",
     "text": [
      "INFO:pygenometracks.tracksClass:plotting 40. [spacer]\r\n"
     ]
    },
    {
     "name": "stdout",
     "output_type": "stream",
     "text": [
      "INFO:pygenometracks.tracksClass:plotting 41. [cluster21]\r\n"
     ]
    },
    {
     "name": "stdout",
     "output_type": "stream",
     "text": [
      "INFO:pygenometracks.tracksClass:plotting 42. [spacer]\r\n",
      "INFO:pygenometracks.tracksClass:plotting 43. [cluster22]\r\n"
     ]
    },
    {
     "name": "stdout",
     "output_type": "stream",
     "text": [
      "INFO:pygenometracks.tracksClass:plotting 44. [spacer]\r\n"
     ]
    },
    {
     "name": "stdout",
     "output_type": "stream",
     "text": [
      "INFO:pygenometracks.tracksClass:plotting 45. [cluster23]\r\n"
     ]
    },
    {
     "name": "stdout",
     "output_type": "stream",
     "text": [
      "INFO:pygenometracks.tracksClass:plotting 46. [spacer]\r\n"
     ]
    },
    {
     "name": "stdout",
     "output_type": "stream",
     "text": [
      "INFO:pygenometracks.tracksClass:plotting 47. [cluster24]\r\n"
     ]
    },
    {
     "name": "stdout",
     "output_type": "stream",
     "text": [
      "INFO:pygenometracks.tracksClass:plotting 48. [spacer]\r\n"
     ]
    },
    {
     "name": "stdout",
     "output_type": "stream",
     "text": [
      "INFO:pygenometracks.tracksClass:plotting 49. [snps]\r\n"
     ]
    },
    {
     "name": "stdout",
     "output_type": "stream",
     "text": [
      "DEBUG:pygenometracks.tracks.GenomeTrack:ylim 100,0\r\n",
      "INFO:pygenometracks.tracksClass:plotting 50. [spacer]\r\n"
     ]
    },
    {
     "name": "stdout",
     "output_type": "stream",
     "text": [
      "INFO:pygenometracks.tracksClass:plotting 51. [x-axis]\r\n"
     ]
    },
    {
     "name": "stdout",
     "output_type": "stream",
     "text": [
      "INFO:pygenometracks.tracksClass:time initializing track(s):\r\n",
      "INFO:pygenometracks.tracksClass:0.22600626945495605\r\n",
      "DEBUG:pygenometracks.tracksClass:Figure size in cm is 40 x 114.375. Dpi is set to 72\r\n",
      "\r\n"
     ]
    },
    {
     "name": "stdout",
     "output_type": "stream",
     "text": [
      "INFO:pygenometracks.tracksClass:plotting 1. [cluster1]\r\n"
     ]
    },
    {
     "name": "stdout",
     "output_type": "stream",
     "text": [
      "INFO:pygenometracks.tracksClass:plotting 2. [spacer]\r\n"
     ]
    },
    {
     "name": "stdout",
     "output_type": "stream",
     "text": [
      "INFO:pygenometracks.tracksClass:plotting 3. [cluster2]\r\n"
     ]
    },
    {
     "name": "stdout",
     "output_type": "stream",
     "text": [
      "INFO:pygenometracks.tracksClass:plotting 4. [spacer]\r\n"
     ]
    },
    {
     "name": "stdout",
     "output_type": "stream",
     "text": [
      "INFO:pygenometracks.tracksClass:plotting 5. [cluster3]\r\n"
     ]
    },
    {
     "name": "stdout",
     "output_type": "stream",
     "text": [
      "INFO:pygenometracks.tracksClass:plotting 6. [spacer]\r\n",
      "INFO:pygenometracks.tracksClass:plotting 7. [cluster4]\r\n"
     ]
    },
    {
     "name": "stdout",
     "output_type": "stream",
     "text": [
      "INFO:pygenometracks.tracksClass:plotting 8. [spacer]\r\n"
     ]
    },
    {
     "name": "stdout",
     "output_type": "stream",
     "text": [
      "INFO:pygenometracks.tracksClass:plotting 9. [cluster5]\r\n"
     ]
    },
    {
     "name": "stdout",
     "output_type": "stream",
     "text": [
      "INFO:pygenometracks.tracksClass:plotting 10. [spacer]\r\n"
     ]
    },
    {
     "name": "stdout",
     "output_type": "stream",
     "text": [
      "INFO:pygenometracks.tracksClass:plotting 11. [cluster6]\r\n"
     ]
    },
    {
     "name": "stdout",
     "output_type": "stream",
     "text": [
      "INFO:pygenometracks.tracksClass:plotting 12. [spacer]\r\n"
     ]
    },
    {
     "name": "stdout",
     "output_type": "stream",
     "text": [
      "INFO:pygenometracks.tracksClass:plotting 13. [cluster7]\r\n"
     ]
    },
    {
     "name": "stdout",
     "output_type": "stream",
     "text": [
      "INFO:pygenometracks.tracksClass:plotting 14. [spacer]\r\n"
     ]
    },
    {
     "name": "stdout",
     "output_type": "stream",
     "text": [
      "INFO:pygenometracks.tracksClass:plotting 15. [cluster8]\r\n"
     ]
    },
    {
     "name": "stdout",
     "output_type": "stream",
     "text": [
      "INFO:pygenometracks.tracksClass:plotting 16. [spacer]\r\n",
      "INFO:pygenometracks.tracksClass:plotting 17. [cluster9]\r\n"
     ]
    },
    {
     "name": "stdout",
     "output_type": "stream",
     "text": [
      "INFO:pygenometracks.tracksClass:plotting 18. [spacer]\r\n"
     ]
    },
    {
     "name": "stdout",
     "output_type": "stream",
     "text": [
      "INFO:pygenometracks.tracksClass:plotting 19. [cluster10]\r\n"
     ]
    },
    {
     "name": "stdout",
     "output_type": "stream",
     "text": [
      "INFO:pygenometracks.tracksClass:plotting 20. [spacer]\r\n"
     ]
    },
    {
     "name": "stdout",
     "output_type": "stream",
     "text": [
      "INFO:pygenometracks.tracksClass:plotting 21. [cluster11]\r\n"
     ]
    },
    {
     "name": "stdout",
     "output_type": "stream",
     "text": [
      "INFO:pygenometracks.tracksClass:plotting 22. [spacer]\r\n"
     ]
    },
    {
     "name": "stdout",
     "output_type": "stream",
     "text": [
      "INFO:pygenometracks.tracksClass:plotting 23. [cluster12]\r\n"
     ]
    },
    {
     "name": "stdout",
     "output_type": "stream",
     "text": [
      "INFO:pygenometracks.tracksClass:plotting 24. [spacer]\r\n"
     ]
    },
    {
     "name": "stdout",
     "output_type": "stream",
     "text": [
      "INFO:pygenometracks.tracksClass:plotting 25. [cluster13]\r\n"
     ]
    },
    {
     "name": "stdout",
     "output_type": "stream",
     "text": [
      "INFO:pygenometracks.tracksClass:plotting 26. [spacer]\r\n"
     ]
    },
    {
     "name": "stdout",
     "output_type": "stream",
     "text": [
      "INFO:pygenometracks.tracksClass:plotting 27. [cluster14]\r\n"
     ]
    },
    {
     "name": "stdout",
     "output_type": "stream",
     "text": [
      "INFO:pygenometracks.tracksClass:plotting 28. [spacer]\r\n"
     ]
    },
    {
     "name": "stdout",
     "output_type": "stream",
     "text": [
      "INFO:pygenometracks.tracksClass:plotting 29. [cluster15]\r\n"
     ]
    },
    {
     "name": "stdout",
     "output_type": "stream",
     "text": [
      "INFO:pygenometracks.tracksClass:plotting 30. [spacer]\r\n"
     ]
    },
    {
     "name": "stdout",
     "output_type": "stream",
     "text": [
      "INFO:pygenometracks.tracksClass:plotting 31. [cluster16]\r\n"
     ]
    },
    {
     "name": "stdout",
     "output_type": "stream",
     "text": [
      "INFO:pygenometracks.tracksClass:plotting 32. [spacer]\r\n"
     ]
    },
    {
     "name": "stdout",
     "output_type": "stream",
     "text": [
      "INFO:pygenometracks.tracksClass:plotting 33. [cluster17]\r\n"
     ]
    },
    {
     "name": "stdout",
     "output_type": "stream",
     "text": [
      "INFO:pygenometracks.tracksClass:plotting 34. [spacer]\r\n"
     ]
    },
    {
     "name": "stdout",
     "output_type": "stream",
     "text": [
      "INFO:pygenometracks.tracksClass:plotting 35. [cluster18]\r\n"
     ]
    },
    {
     "name": "stdout",
     "output_type": "stream",
     "text": [
      "INFO:pygenometracks.tracksClass:plotting 36. [spacer]\r\n"
     ]
    },
    {
     "name": "stdout",
     "output_type": "stream",
     "text": [
      "INFO:pygenometracks.tracksClass:plotting 37. [cluster19]\r\n"
     ]
    },
    {
     "name": "stdout",
     "output_type": "stream",
     "text": [
      "INFO:pygenometracks.tracksClass:plotting 38. [spacer]\r\n"
     ]
    },
    {
     "name": "stdout",
     "output_type": "stream",
     "text": [
      "INFO:pygenometracks.tracksClass:plotting 39. [cluster20]\r\n"
     ]
    },
    {
     "name": "stdout",
     "output_type": "stream",
     "text": [
      "INFO:pygenometracks.tracksClass:plotting 40. [spacer]\r\n"
     ]
    },
    {
     "name": "stdout",
     "output_type": "stream",
     "text": [
      "INFO:pygenometracks.tracksClass:plotting 41. [cluster21]\r\n"
     ]
    },
    {
     "name": "stdout",
     "output_type": "stream",
     "text": [
      "INFO:pygenometracks.tracksClass:plotting 42. [spacer]\r\n"
     ]
    },
    {
     "name": "stdout",
     "output_type": "stream",
     "text": [
      "INFO:pygenometracks.tracksClass:plotting 43. [cluster22]\r\n"
     ]
    },
    {
     "name": "stdout",
     "output_type": "stream",
     "text": [
      "INFO:pygenometracks.tracksClass:plotting 44. [spacer]\r\n"
     ]
    },
    {
     "name": "stdout",
     "output_type": "stream",
     "text": [
      "INFO:pygenometracks.tracksClass:plotting 45. [cluster23]\r\n"
     ]
    },
    {
     "name": "stdout",
     "output_type": "stream",
     "text": [
      "INFO:pygenometracks.tracksClass:plotting 46. [spacer]\r\n"
     ]
    },
    {
     "name": "stdout",
     "output_type": "stream",
     "text": [
      "INFO:pygenometracks.tracksClass:plotting 47. [cluster24]\r\n"
     ]
    },
    {
     "name": "stdout",
     "output_type": "stream",
     "text": [
      "INFO:pygenometracks.tracksClass:plotting 48. [spacer]\r\n"
     ]
    },
    {
     "name": "stdout",
     "output_type": "stream",
     "text": [
      "INFO:pygenometracks.tracksClass:plotting 49. [snps]\r\n"
     ]
    },
    {
     "name": "stdout",
     "output_type": "stream",
     "text": [
      "DEBUG:pygenometracks.tracks.GenomeTrack:ylim 100,0\r\n",
      "INFO:pygenometracks.tracksClass:plotting 50. [spacer]\r\n"
     ]
    },
    {
     "name": "stdout",
     "output_type": "stream",
     "text": [
      "INFO:pygenometracks.tracksClass:plotting 51. [x-axis]\r\n"
     ]
    },
    {
     "name": "stdout",
     "output_type": "stream",
     "text": [
      "INFO:pygenometracks.tracksClass:time initializing track(s):\r\n",
      "INFO:pygenometracks.tracksClass:0.15238070487976074\r\n",
      "DEBUG:pygenometracks.tracksClass:Figure size in cm is 40 x 114.375. Dpi is set to 72\r\n",
      "\r\n"
     ]
    },
    {
     "name": "stdout",
     "output_type": "stream",
     "text": [
      "INFO:pygenometracks.tracksClass:plotting 1. [cluster1]\r\n"
     ]
    },
    {
     "name": "stdout",
     "output_type": "stream",
     "text": [
      "INFO:pygenometracks.tracksClass:plotting 2. [spacer]\r\n",
      "INFO:pygenometracks.tracksClass:plotting 3. [cluster2]\r\n"
     ]
    },
    {
     "name": "stdout",
     "output_type": "stream",
     "text": [
      "INFO:pygenometracks.tracksClass:plotting 4. [spacer]\r\n"
     ]
    },
    {
     "name": "stdout",
     "output_type": "stream",
     "text": [
      "INFO:pygenometracks.tracksClass:plotting 5. [cluster3]\r\n"
     ]
    },
    {
     "name": "stdout",
     "output_type": "stream",
     "text": [
      "INFO:pygenometracks.tracksClass:plotting 6. [spacer]\r\n"
     ]
    },
    {
     "name": "stdout",
     "output_type": "stream",
     "text": [
      "INFO:pygenometracks.tracksClass:plotting 7. [cluster4]\r\n"
     ]
    },
    {
     "name": "stdout",
     "output_type": "stream",
     "text": [
      "INFO:pygenometracks.tracksClass:plotting 8. [spacer]\r\n"
     ]
    },
    {
     "name": "stdout",
     "output_type": "stream",
     "text": [
      "INFO:pygenometracks.tracksClass:plotting 9. [cluster5]\r\n"
     ]
    },
    {
     "name": "stdout",
     "output_type": "stream",
     "text": [
      "INFO:pygenometracks.tracksClass:plotting 10. [spacer]\r\n"
     ]
    },
    {
     "name": "stdout",
     "output_type": "stream",
     "text": [
      "INFO:pygenometracks.tracksClass:plotting 11. [cluster6]\r\n"
     ]
    },
    {
     "name": "stdout",
     "output_type": "stream",
     "text": [
      "INFO:pygenometracks.tracksClass:plotting 12. [spacer]\r\n"
     ]
    },
    {
     "name": "stdout",
     "output_type": "stream",
     "text": [
      "INFO:pygenometracks.tracksClass:plotting 13. [cluster7]\r\n"
     ]
    },
    {
     "name": "stdout",
     "output_type": "stream",
     "text": [
      "INFO:pygenometracks.tracksClass:plotting 14. [spacer]\r\n",
      "INFO:pygenometracks.tracksClass:plotting 15. [cluster8]\r\n"
     ]
    },
    {
     "name": "stdout",
     "output_type": "stream",
     "text": [
      "INFO:pygenometracks.tracksClass:plotting 16. [spacer]\r\n"
     ]
    },
    {
     "name": "stdout",
     "output_type": "stream",
     "text": [
      "INFO:pygenometracks.tracksClass:plotting 17. [cluster9]\r\n"
     ]
    },
    {
     "name": "stdout",
     "output_type": "stream",
     "text": [
      "INFO:pygenometracks.tracksClass:plotting 18. [spacer]\r\n"
     ]
    },
    {
     "name": "stdout",
     "output_type": "stream",
     "text": [
      "INFO:pygenometracks.tracksClass:plotting 19. [cluster10]\r\n"
     ]
    },
    {
     "name": "stdout",
     "output_type": "stream",
     "text": [
      "INFO:pygenometracks.tracksClass:plotting 20. [spacer]\r\n",
      "INFO:pygenometracks.tracksClass:plotting 21. [cluster11]\r\n"
     ]
    },
    {
     "name": "stdout",
     "output_type": "stream",
     "text": [
      "INFO:pygenometracks.tracksClass:plotting 22. [spacer]\r\n"
     ]
    },
    {
     "name": "stdout",
     "output_type": "stream",
     "text": [
      "INFO:pygenometracks.tracksClass:plotting 23. [cluster12]\r\n"
     ]
    },
    {
     "name": "stdout",
     "output_type": "stream",
     "text": [
      "INFO:pygenometracks.tracksClass:plotting 24. [spacer]\r\n"
     ]
    },
    {
     "name": "stdout",
     "output_type": "stream",
     "text": [
      "INFO:pygenometracks.tracksClass:plotting 25. [cluster13]\r\n"
     ]
    },
    {
     "name": "stdout",
     "output_type": "stream",
     "text": [
      "INFO:pygenometracks.tracksClass:plotting 26. [spacer]\r\n",
      "INFO:pygenometracks.tracksClass:plotting 27. [cluster14]\r\n"
     ]
    },
    {
     "name": "stdout",
     "output_type": "stream",
     "text": [
      "INFO:pygenometracks.tracksClass:plotting 28. [spacer]\r\n"
     ]
    },
    {
     "name": "stdout",
     "output_type": "stream",
     "text": [
      "INFO:pygenometracks.tracksClass:plotting 29. [cluster15]\r\n"
     ]
    },
    {
     "name": "stdout",
     "output_type": "stream",
     "text": [
      "INFO:pygenometracks.tracksClass:plotting 30. [spacer]\r\n"
     ]
    },
    {
     "name": "stdout",
     "output_type": "stream",
     "text": [
      "INFO:pygenometracks.tracksClass:plotting 31. [cluster16]\r\n"
     ]
    },
    {
     "name": "stdout",
     "output_type": "stream",
     "text": [
      "INFO:pygenometracks.tracksClass:plotting 32. [spacer]\r\n"
     ]
    },
    {
     "name": "stdout",
     "output_type": "stream",
     "text": [
      "INFO:pygenometracks.tracksClass:plotting 33. [cluster17]\r\n"
     ]
    },
    {
     "name": "stdout",
     "output_type": "stream",
     "text": [
      "INFO:pygenometracks.tracksClass:plotting 34. [spacer]\r\n"
     ]
    },
    {
     "name": "stdout",
     "output_type": "stream",
     "text": [
      "INFO:pygenometracks.tracksClass:plotting 35. [cluster18]\r\n"
     ]
    },
    {
     "name": "stdout",
     "output_type": "stream",
     "text": [
      "INFO:pygenometracks.tracksClass:plotting 36. [spacer]\r\n",
      "INFO:pygenometracks.tracksClass:plotting 37. [cluster19]\r\n"
     ]
    },
    {
     "name": "stdout",
     "output_type": "stream",
     "text": [
      "INFO:pygenometracks.tracksClass:plotting 38. [spacer]\r\n"
     ]
    },
    {
     "name": "stdout",
     "output_type": "stream",
     "text": [
      "INFO:pygenometracks.tracksClass:plotting 39. [cluster20]\r\n"
     ]
    },
    {
     "name": "stdout",
     "output_type": "stream",
     "text": [
      "INFO:pygenometracks.tracksClass:plotting 40. [spacer]\r\n"
     ]
    },
    {
     "name": "stdout",
     "output_type": "stream",
     "text": [
      "INFO:pygenometracks.tracksClass:plotting 41. [cluster21]\r\n"
     ]
    },
    {
     "name": "stdout",
     "output_type": "stream",
     "text": [
      "INFO:pygenometracks.tracksClass:plotting 42. [spacer]\r\n"
     ]
    },
    {
     "name": "stdout",
     "output_type": "stream",
     "text": [
      "INFO:pygenometracks.tracksClass:plotting 43. [cluster22]\r\n"
     ]
    },
    {
     "name": "stdout",
     "output_type": "stream",
     "text": [
      "INFO:pygenometracks.tracksClass:plotting 44. [spacer]\r\n"
     ]
    },
    {
     "name": "stdout",
     "output_type": "stream",
     "text": [
      "INFO:pygenometracks.tracksClass:plotting 45. [cluster23]\r\n"
     ]
    },
    {
     "name": "stdout",
     "output_type": "stream",
     "text": [
      "INFO:pygenometracks.tracksClass:plotting 46. [spacer]\r\n"
     ]
    },
    {
     "name": "stdout",
     "output_type": "stream",
     "text": [
      "INFO:pygenometracks.tracksClass:plotting 47. [cluster24]\r\n"
     ]
    },
    {
     "name": "stdout",
     "output_type": "stream",
     "text": [
      "INFO:pygenometracks.tracksClass:plotting 48. [spacer]\r\n"
     ]
    },
    {
     "name": "stdout",
     "output_type": "stream",
     "text": [
      "INFO:pygenometracks.tracksClass:plotting 49. [snps]\r\n",
      "DEBUG:pygenometracks.tracks.GenomeTrack:ylim 330.0,0\r\n",
      "INFO:pygenometracks.tracksClass:plotting 50. [spacer]\r\n"
     ]
    },
    {
     "name": "stdout",
     "output_type": "stream",
     "text": [
      "INFO:pygenometracks.tracksClass:plotting 51. [x-axis]\r\n"
     ]
    },
    {
     "name": "stdout",
     "output_type": "stream",
     "text": [
      "INFO:pygenometracks.tracksClass:time initializing track(s):\r\n",
      "INFO:pygenometracks.tracksClass:0.15502619743347168\r\n",
      "DEBUG:pygenometracks.tracksClass:Figure size in cm is 40 x 114.375. Dpi is set to 72\r\n",
      "\r\n"
     ]
    },
    {
     "name": "stdout",
     "output_type": "stream",
     "text": [
      "INFO:pygenometracks.tracksClass:plotting 1. [cluster1]\r\n"
     ]
    },
    {
     "name": "stdout",
     "output_type": "stream",
     "text": [
      "INFO:pygenometracks.tracksClass:plotting 2. [spacer]\r\n"
     ]
    },
    {
     "name": "stdout",
     "output_type": "stream",
     "text": [
      "INFO:pygenometracks.tracksClass:plotting 3. [cluster2]\r\n"
     ]
    },
    {
     "name": "stdout",
     "output_type": "stream",
     "text": [
      "INFO:pygenometracks.tracksClass:plotting 4. [spacer]\r\n",
      "INFO:pygenometracks.tracksClass:plotting 5. [cluster3]\r\n"
     ]
    },
    {
     "name": "stdout",
     "output_type": "stream",
     "text": [
      "INFO:pygenometracks.tracksClass:plotting 6. [spacer]\r\n"
     ]
    },
    {
     "name": "stdout",
     "output_type": "stream",
     "text": [
      "INFO:pygenometracks.tracksClass:plotting 7. [cluster4]\r\n"
     ]
    },
    {
     "name": "stdout",
     "output_type": "stream",
     "text": [
      "INFO:pygenometracks.tracksClass:plotting 8. [spacer]\r\n"
     ]
    },
    {
     "name": "stdout",
     "output_type": "stream",
     "text": [
      "INFO:pygenometracks.tracksClass:plotting 9. [cluster5]\r\n"
     ]
    },
    {
     "name": "stdout",
     "output_type": "stream",
     "text": [
      "INFO:pygenometracks.tracksClass:plotting 10. [spacer]\r\n"
     ]
    },
    {
     "name": "stdout",
     "output_type": "stream",
     "text": [
      "INFO:pygenometracks.tracksClass:plotting 11. [cluster6]\r\n"
     ]
    },
    {
     "name": "stdout",
     "output_type": "stream",
     "text": [
      "INFO:pygenometracks.tracksClass:plotting 12. [spacer]\r\n"
     ]
    },
    {
     "name": "stdout",
     "output_type": "stream",
     "text": [
      "INFO:pygenometracks.tracksClass:plotting 13. [cluster7]\r\n"
     ]
    },
    {
     "name": "stdout",
     "output_type": "stream",
     "text": [
      "INFO:pygenometracks.tracksClass:plotting 14. [spacer]\r\n",
      "INFO:pygenometracks.tracksClass:plotting 15. [cluster8]\r\n"
     ]
    },
    {
     "name": "stdout",
     "output_type": "stream",
     "text": [
      "INFO:pygenometracks.tracksClass:plotting 16. [spacer]\r\n"
     ]
    },
    {
     "name": "stdout",
     "output_type": "stream",
     "text": [
      "INFO:pygenometracks.tracksClass:plotting 17. [cluster9]\r\n"
     ]
    },
    {
     "name": "stdout",
     "output_type": "stream",
     "text": [
      "INFO:pygenometracks.tracksClass:plotting 18. [spacer]\r\n"
     ]
    },
    {
     "name": "stdout",
     "output_type": "stream",
     "text": [
      "INFO:pygenometracks.tracksClass:plotting 19. [cluster10]\r\n"
     ]
    },
    {
     "name": "stdout",
     "output_type": "stream",
     "text": [
      "INFO:pygenometracks.tracksClass:plotting 20. [spacer]\r\n"
     ]
    },
    {
     "name": "stdout",
     "output_type": "stream",
     "text": [
      "INFO:pygenometracks.tracksClass:plotting 21. [cluster11]\r\n"
     ]
    },
    {
     "name": "stdout",
     "output_type": "stream",
     "text": [
      "INFO:pygenometracks.tracksClass:plotting 22. [spacer]\r\n"
     ]
    },
    {
     "name": "stdout",
     "output_type": "stream",
     "text": [
      "INFO:pygenometracks.tracksClass:plotting 23. [cluster12]\r\n"
     ]
    },
    {
     "name": "stdout",
     "output_type": "stream",
     "text": [
      "INFO:pygenometracks.tracksClass:plotting 24. [spacer]\r\n"
     ]
    },
    {
     "name": "stdout",
     "output_type": "stream",
     "text": [
      "INFO:pygenometracks.tracksClass:plotting 25. [cluster13]\r\n"
     ]
    },
    {
     "name": "stdout",
     "output_type": "stream",
     "text": [
      "INFO:pygenometracks.tracksClass:plotting 26. [spacer]\r\n"
     ]
    },
    {
     "name": "stdout",
     "output_type": "stream",
     "text": [
      "INFO:pygenometracks.tracksClass:plotting 27. [cluster14]\r\n"
     ]
    },
    {
     "name": "stdout",
     "output_type": "stream",
     "text": [
      "INFO:pygenometracks.tracksClass:plotting 28. [spacer]\r\n"
     ]
    },
    {
     "name": "stdout",
     "output_type": "stream",
     "text": [
      "INFO:pygenometracks.tracksClass:plotting 29. [cluster15]\r\n"
     ]
    },
    {
     "name": "stdout",
     "output_type": "stream",
     "text": [
      "INFO:pygenometracks.tracksClass:plotting 30. [spacer]\r\n"
     ]
    },
    {
     "name": "stdout",
     "output_type": "stream",
     "text": [
      "INFO:pygenometracks.tracksClass:plotting 31. [cluster16]\r\n"
     ]
    },
    {
     "name": "stdout",
     "output_type": "stream",
     "text": [
      "INFO:pygenometracks.tracksClass:plotting 32. [spacer]\r\n",
      "INFO:pygenometracks.tracksClass:plotting 33. [cluster17]\r\n"
     ]
    },
    {
     "name": "stdout",
     "output_type": "stream",
     "text": [
      "INFO:pygenometracks.tracksClass:plotting 34. [spacer]\r\n"
     ]
    },
    {
     "name": "stdout",
     "output_type": "stream",
     "text": [
      "INFO:pygenometracks.tracksClass:plotting 35. [cluster18]\r\n"
     ]
    },
    {
     "name": "stdout",
     "output_type": "stream",
     "text": [
      "INFO:pygenometracks.tracksClass:plotting 36. [spacer]\r\n"
     ]
    },
    {
     "name": "stdout",
     "output_type": "stream",
     "text": [
      "INFO:pygenometracks.tracksClass:plotting 37. [cluster19]\r\n"
     ]
    },
    {
     "name": "stdout",
     "output_type": "stream",
     "text": [
      "INFO:pygenometracks.tracksClass:plotting 38. [spacer]\r\n"
     ]
    },
    {
     "name": "stdout",
     "output_type": "stream",
     "text": [
      "INFO:pygenometracks.tracksClass:plotting 39. [cluster20]\r\n"
     ]
    },
    {
     "name": "stdout",
     "output_type": "stream",
     "text": [
      "INFO:pygenometracks.tracksClass:plotting 40. [spacer]\r\n"
     ]
    },
    {
     "name": "stdout",
     "output_type": "stream",
     "text": [
      "INFO:pygenometracks.tracksClass:plotting 41. [cluster21]\r\n"
     ]
    },
    {
     "name": "stdout",
     "output_type": "stream",
     "text": [
      "INFO:pygenometracks.tracksClass:plotting 42. [spacer]\r\n"
     ]
    },
    {
     "name": "stdout",
     "output_type": "stream",
     "text": [
      "INFO:pygenometracks.tracksClass:plotting 43. [cluster22]\r\n"
     ]
    },
    {
     "name": "stdout",
     "output_type": "stream",
     "text": [
      "INFO:pygenometracks.tracksClass:plotting 44. [spacer]\r\n"
     ]
    },
    {
     "name": "stdout",
     "output_type": "stream",
     "text": [
      "INFO:pygenometracks.tracksClass:plotting 45. [cluster23]\r\n"
     ]
    },
    {
     "name": "stdout",
     "output_type": "stream",
     "text": [
      "INFO:pygenometracks.tracksClass:plotting 46. [spacer]\r\n"
     ]
    },
    {
     "name": "stdout",
     "output_type": "stream",
     "text": [
      "INFO:pygenometracks.tracksClass:plotting 47. [cluster24]\r\n"
     ]
    },
    {
     "name": "stdout",
     "output_type": "stream",
     "text": [
      "INFO:pygenometracks.tracksClass:plotting 48. [spacer]\r\n"
     ]
    },
    {
     "name": "stdout",
     "output_type": "stream",
     "text": [
      "INFO:pygenometracks.tracksClass:plotting 49. [snps]\r\n"
     ]
    },
    {
     "name": "stdout",
     "output_type": "stream",
     "text": [
      "DEBUG:pygenometracks.tracks.GenomeTrack:ylim 330.0,0\r\n",
      "INFO:pygenometracks.tracksClass:plotting 50. [spacer]\r\n",
      "INFO:pygenometracks.tracksClass:plotting 51. [x-axis]\r\n"
     ]
    },
    {
     "name": "stdout",
     "output_type": "stream",
     "text": [
      "INFO:pygenometracks.tracksClass:time initializing track(s):\r\n",
      "INFO:pygenometracks.tracksClass:0.16452622413635254\r\n",
      "DEBUG:pygenometracks.tracksClass:Figure size in cm is 40 x 114.375. Dpi is set to 72\r\n",
      "\r\n"
     ]
    },
    {
     "name": "stdout",
     "output_type": "stream",
     "text": [
      "INFO:pygenometracks.tracksClass:plotting 1. [cluster1]\r\n"
     ]
    },
    {
     "name": "stdout",
     "output_type": "stream",
     "text": [
      "INFO:pygenometracks.tracksClass:plotting 2. [spacer]\r\n",
      "INFO:pygenometracks.tracksClass:plotting 3. [cluster2]\r\n"
     ]
    },
    {
     "name": "stdout",
     "output_type": "stream",
     "text": [
      "INFO:pygenometracks.tracksClass:plotting 4. [spacer]\r\n"
     ]
    },
    {
     "name": "stdout",
     "output_type": "stream",
     "text": [
      "INFO:pygenometracks.tracksClass:plotting 5. [cluster3]\r\n"
     ]
    },
    {
     "name": "stdout",
     "output_type": "stream",
     "text": [
      "INFO:pygenometracks.tracksClass:plotting 6. [spacer]\r\n"
     ]
    },
    {
     "name": "stdout",
     "output_type": "stream",
     "text": [
      "INFO:pygenometracks.tracksClass:plotting 7. [cluster4]\r\n"
     ]
    },
    {
     "name": "stdout",
     "output_type": "stream",
     "text": [
      "INFO:pygenometracks.tracksClass:plotting 8. [spacer]\r\n",
      "INFO:pygenometracks.tracksClass:plotting 9. [cluster5]\r\n"
     ]
    },
    {
     "name": "stdout",
     "output_type": "stream",
     "text": [
      "INFO:pygenometracks.tracksClass:plotting 10. [spacer]\r\n"
     ]
    },
    {
     "name": "stdout",
     "output_type": "stream",
     "text": [
      "INFO:pygenometracks.tracksClass:plotting 11. [cluster6]\r\n"
     ]
    },
    {
     "name": "stdout",
     "output_type": "stream",
     "text": [
      "INFO:pygenometracks.tracksClass:plotting 12. [spacer]\r\n"
     ]
    },
    {
     "name": "stdout",
     "output_type": "stream",
     "text": [
      "INFO:pygenometracks.tracksClass:plotting 13. [cluster7]\r\n"
     ]
    },
    {
     "name": "stdout",
     "output_type": "stream",
     "text": [
      "INFO:pygenometracks.tracksClass:plotting 14. [spacer]\r\n"
     ]
    },
    {
     "name": "stdout",
     "output_type": "stream",
     "text": [
      "INFO:pygenometracks.tracksClass:plotting 15. [cluster8]\r\n"
     ]
    },
    {
     "name": "stdout",
     "output_type": "stream",
     "text": [
      "INFO:pygenometracks.tracksClass:plotting 16. [spacer]\r\n",
      "INFO:pygenometracks.tracksClass:plotting 17. [cluster9]\r\n"
     ]
    },
    {
     "name": "stdout",
     "output_type": "stream",
     "text": [
      "INFO:pygenometracks.tracksClass:plotting 18. [spacer]\r\n"
     ]
    },
    {
     "name": "stdout",
     "output_type": "stream",
     "text": [
      "INFO:pygenometracks.tracksClass:plotting 19. [cluster10]\r\n"
     ]
    },
    {
     "name": "stdout",
     "output_type": "stream",
     "text": [
      "INFO:pygenometracks.tracksClass:plotting 20. [spacer]\r\n"
     ]
    },
    {
     "name": "stdout",
     "output_type": "stream",
     "text": [
      "INFO:pygenometracks.tracksClass:plotting 21. [cluster11]\r\n"
     ]
    },
    {
     "name": "stdout",
     "output_type": "stream",
     "text": [
      "INFO:pygenometracks.tracksClass:plotting 22. [spacer]\r\n"
     ]
    },
    {
     "name": "stdout",
     "output_type": "stream",
     "text": [
      "INFO:pygenometracks.tracksClass:plotting 23. [cluster12]\r\n"
     ]
    },
    {
     "name": "stdout",
     "output_type": "stream",
     "text": [
      "INFO:pygenometracks.tracksClass:plotting 24. [spacer]\r\n"
     ]
    },
    {
     "name": "stdout",
     "output_type": "stream",
     "text": [
      "INFO:pygenometracks.tracksClass:plotting 25. [cluster13]\r\n"
     ]
    },
    {
     "name": "stdout",
     "output_type": "stream",
     "text": [
      "INFO:pygenometracks.tracksClass:plotting 26. [spacer]\r\n"
     ]
    },
    {
     "name": "stdout",
     "output_type": "stream",
     "text": [
      "INFO:pygenometracks.tracksClass:plotting 27. [cluster14]\r\n"
     ]
    },
    {
     "name": "stdout",
     "output_type": "stream",
     "text": [
      "INFO:pygenometracks.tracksClass:plotting 28. [spacer]\r\n"
     ]
    },
    {
     "name": "stdout",
     "output_type": "stream",
     "text": [
      "INFO:pygenometracks.tracksClass:plotting 29. [cluster15]\r\n"
     ]
    },
    {
     "name": "stdout",
     "output_type": "stream",
     "text": [
      "INFO:pygenometracks.tracksClass:plotting 30. [spacer]\r\n"
     ]
    },
    {
     "name": "stdout",
     "output_type": "stream",
     "text": [
      "INFO:pygenometracks.tracksClass:plotting 31. [cluster16]\r\n"
     ]
    },
    {
     "name": "stdout",
     "output_type": "stream",
     "text": [
      "INFO:pygenometracks.tracksClass:plotting 32. [spacer]\r\n"
     ]
    },
    {
     "name": "stdout",
     "output_type": "stream",
     "text": [
      "INFO:pygenometracks.tracksClass:plotting 33. [cluster17]\r\n"
     ]
    },
    {
     "name": "stdout",
     "output_type": "stream",
     "text": [
      "INFO:pygenometracks.tracksClass:plotting 34. [spacer]\r\n"
     ]
    },
    {
     "name": "stdout",
     "output_type": "stream",
     "text": [
      "INFO:pygenometracks.tracksClass:plotting 35. [cluster18]\r\n"
     ]
    },
    {
     "name": "stdout",
     "output_type": "stream",
     "text": [
      "INFO:pygenometracks.tracksClass:plotting 36. [spacer]\r\n",
      "INFO:pygenometracks.tracksClass:plotting 37. [cluster19]\r\n"
     ]
    },
    {
     "name": "stdout",
     "output_type": "stream",
     "text": [
      "INFO:pygenometracks.tracksClass:plotting 38. [spacer]\r\n"
     ]
    },
    {
     "name": "stdout",
     "output_type": "stream",
     "text": [
      "INFO:pygenometracks.tracksClass:plotting 39. [cluster20]\r\n"
     ]
    },
    {
     "name": "stdout",
     "output_type": "stream",
     "text": [
      "INFO:pygenometracks.tracksClass:plotting 40. [spacer]\r\n"
     ]
    },
    {
     "name": "stdout",
     "output_type": "stream",
     "text": [
      "INFO:pygenometracks.tracksClass:plotting 41. [cluster21]\r\n"
     ]
    },
    {
     "name": "stdout",
     "output_type": "stream",
     "text": [
      "INFO:pygenometracks.tracksClass:plotting 42. [spacer]\r\n"
     ]
    },
    {
     "name": "stdout",
     "output_type": "stream",
     "text": [
      "INFO:pygenometracks.tracksClass:plotting 43. [cluster22]\r\n"
     ]
    },
    {
     "name": "stdout",
     "output_type": "stream",
     "text": [
      "INFO:pygenometracks.tracksClass:plotting 44. [spacer]\r\n"
     ]
    },
    {
     "name": "stdout",
     "output_type": "stream",
     "text": [
      "INFO:pygenometracks.tracksClass:plotting 45. [cluster23]\r\n"
     ]
    },
    {
     "name": "stdout",
     "output_type": "stream",
     "text": [
      "INFO:pygenometracks.tracksClass:plotting 46. [spacer]\r\n"
     ]
    },
    {
     "name": "stdout",
     "output_type": "stream",
     "text": [
      "INFO:pygenometracks.tracksClass:plotting 47. [cluster24]\r\n"
     ]
    },
    {
     "name": "stdout",
     "output_type": "stream",
     "text": [
      "INFO:pygenometracks.tracksClass:plotting 48. [spacer]\r\n"
     ]
    },
    {
     "name": "stdout",
     "output_type": "stream",
     "text": [
      "INFO:pygenometracks.tracksClass:plotting 49. [snps]\r\n"
     ]
    },
    {
     "name": "stdout",
     "output_type": "stream",
     "text": [
      "DEBUG:pygenometracks.tracks.GenomeTrack:ylim 1479.9999999999998,0\r\n",
      "INFO:pygenometracks.tracksClass:plotting 50. [spacer]\r\n"
     ]
    },
    {
     "name": "stdout",
     "output_type": "stream",
     "text": [
      "INFO:pygenometracks.tracksClass:plotting 51. [x-axis]\r\n"
     ]
    },
    {
     "name": "stdout",
     "output_type": "stream",
     "text": [
      "INFO:pygenometracks.tracksClass:time initializing track(s):\r\n",
      "INFO:pygenometracks.tracksClass:0.16553711891174316\r\n",
      "DEBUG:pygenometracks.tracksClass:Figure size in cm is 40 x 114.375. Dpi is set to 72\r\n",
      "\r\n"
     ]
    },
    {
     "name": "stdout",
     "output_type": "stream",
     "text": [
      "INFO:pygenometracks.tracksClass:plotting 1. [cluster1]\r\n"
     ]
    },
    {
     "name": "stdout",
     "output_type": "stream",
     "text": [
      "INFO:pygenometracks.tracksClass:plotting 2. [spacer]\r\n"
     ]
    },
    {
     "name": "stdout",
     "output_type": "stream",
     "text": [
      "INFO:pygenometracks.tracksClass:plotting 3. [cluster2]\r\n"
     ]
    },
    {
     "name": "stdout",
     "output_type": "stream",
     "text": [
      "INFO:pygenometracks.tracksClass:plotting 4. [spacer]\r\n",
      "INFO:pygenometracks.tracksClass:plotting 5. [cluster3]\r\n"
     ]
    },
    {
     "name": "stdout",
     "output_type": "stream",
     "text": [
      "INFO:pygenometracks.tracksClass:plotting 6. [spacer]\r\n"
     ]
    },
    {
     "name": "stdout",
     "output_type": "stream",
     "text": [
      "INFO:pygenometracks.tracksClass:plotting 7. [cluster4]\r\n"
     ]
    },
    {
     "name": "stdout",
     "output_type": "stream",
     "text": [
      "INFO:pygenometracks.tracksClass:plotting 8. [spacer]\r\n"
     ]
    },
    {
     "name": "stdout",
     "output_type": "stream",
     "text": [
      "INFO:pygenometracks.tracksClass:plotting 9. [cluster5]\r\n"
     ]
    },
    {
     "name": "stdout",
     "output_type": "stream",
     "text": [
      "INFO:pygenometracks.tracksClass:plotting 10. [spacer]\r\n"
     ]
    },
    {
     "name": "stdout",
     "output_type": "stream",
     "text": [
      "INFO:pygenometracks.tracksClass:plotting 11. [cluster6]\r\n"
     ]
    },
    {
     "name": "stdout",
     "output_type": "stream",
     "text": [
      "INFO:pygenometracks.tracksClass:plotting 12. [spacer]\r\n"
     ]
    },
    {
     "name": "stdout",
     "output_type": "stream",
     "text": [
      "INFO:pygenometracks.tracksClass:plotting 13. [cluster7]\r\n"
     ]
    },
    {
     "name": "stdout",
     "output_type": "stream",
     "text": [
      "INFO:pygenometracks.tracksClass:plotting 14. [spacer]\r\n"
     ]
    },
    {
     "name": "stdout",
     "output_type": "stream",
     "text": [
      "INFO:pygenometracks.tracksClass:plotting 15. [cluster8]\r\n"
     ]
    },
    {
     "name": "stdout",
     "output_type": "stream",
     "text": [
      "INFO:pygenometracks.tracksClass:plotting 16. [spacer]\r\n",
      "INFO:pygenometracks.tracksClass:plotting 17. [cluster9]\r\n"
     ]
    },
    {
     "name": "stdout",
     "output_type": "stream",
     "text": [
      "INFO:pygenometracks.tracksClass:plotting 18. [spacer]\r\n"
     ]
    },
    {
     "name": "stdout",
     "output_type": "stream",
     "text": [
      "INFO:pygenometracks.tracksClass:plotting 19. [cluster10]\r\n"
     ]
    },
    {
     "name": "stdout",
     "output_type": "stream",
     "text": [
      "INFO:pygenometracks.tracksClass:plotting 20. [spacer]\r\n",
      "INFO:pygenometracks.tracksClass:plotting 21. [cluster11]\r\n"
     ]
    },
    {
     "name": "stdout",
     "output_type": "stream",
     "text": [
      "INFO:pygenometracks.tracksClass:plotting 22. [spacer]\r\n"
     ]
    },
    {
     "name": "stdout",
     "output_type": "stream",
     "text": [
      "INFO:pygenometracks.tracksClass:plotting 23. [cluster12]\r\n"
     ]
    },
    {
     "name": "stdout",
     "output_type": "stream",
     "text": [
      "INFO:pygenometracks.tracksClass:plotting 24. [spacer]\r\n"
     ]
    },
    {
     "name": "stdout",
     "output_type": "stream",
     "text": [
      "INFO:pygenometracks.tracksClass:plotting 25. [cluster13]\r\n"
     ]
    },
    {
     "name": "stdout",
     "output_type": "stream",
     "text": [
      "INFO:pygenometracks.tracksClass:plotting 26. [spacer]\r\n",
      "INFO:pygenometracks.tracksClass:plotting 27. [cluster14]\r\n"
     ]
    },
    {
     "name": "stdout",
     "output_type": "stream",
     "text": [
      "INFO:pygenometracks.tracksClass:plotting 28. [spacer]\r\n"
     ]
    },
    {
     "name": "stdout",
     "output_type": "stream",
     "text": [
      "INFO:pygenometracks.tracksClass:plotting 29. [cluster15]\r\n"
     ]
    },
    {
     "name": "stdout",
     "output_type": "stream",
     "text": [
      "INFO:pygenometracks.tracksClass:plotting 30. [spacer]\r\n"
     ]
    },
    {
     "name": "stdout",
     "output_type": "stream",
     "text": [
      "INFO:pygenometracks.tracksClass:plotting 31. [cluster16]\r\n"
     ]
    },
    {
     "name": "stdout",
     "output_type": "stream",
     "text": [
      "INFO:pygenometracks.tracksClass:plotting 32. [spacer]\r\n",
      "INFO:pygenometracks.tracksClass:plotting 33. [cluster17]\r\n"
     ]
    },
    {
     "name": "stdout",
     "output_type": "stream",
     "text": [
      "INFO:pygenometracks.tracksClass:plotting 34. [spacer]\r\n"
     ]
    },
    {
     "name": "stdout",
     "output_type": "stream",
     "text": [
      "INFO:pygenometracks.tracksClass:plotting 35. [cluster18]\r\n"
     ]
    },
    {
     "name": "stdout",
     "output_type": "stream",
     "text": [
      "INFO:pygenometracks.tracksClass:plotting 36. [spacer]\r\n",
      "INFO:pygenometracks.tracksClass:plotting 37. [cluster19]\r\n"
     ]
    },
    {
     "name": "stdout",
     "output_type": "stream",
     "text": [
      "INFO:pygenometracks.tracksClass:plotting 38. [spacer]\r\n"
     ]
    },
    {
     "name": "stdout",
     "output_type": "stream",
     "text": [
      "INFO:pygenometracks.tracksClass:plotting 39. [cluster20]\r\n"
     ]
    },
    {
     "name": "stdout",
     "output_type": "stream",
     "text": [
      "INFO:pygenometracks.tracksClass:plotting 40. [spacer]\r\n",
      "INFO:pygenometracks.tracksClass:plotting 41. [cluster21]\r\n"
     ]
    },
    {
     "name": "stdout",
     "output_type": "stream",
     "text": [
      "INFO:pygenometracks.tracksClass:plotting 42. [spacer]\r\n"
     ]
    },
    {
     "name": "stdout",
     "output_type": "stream",
     "text": [
      "INFO:pygenometracks.tracksClass:plotting 43. [cluster22]\r\n"
     ]
    },
    {
     "name": "stdout",
     "output_type": "stream",
     "text": [
      "INFO:pygenometracks.tracksClass:plotting 44. [spacer]\r\n"
     ]
    },
    {
     "name": "stdout",
     "output_type": "stream",
     "text": [
      "INFO:pygenometracks.tracksClass:plotting 45. [cluster23]\r\n"
     ]
    },
    {
     "name": "stdout",
     "output_type": "stream",
     "text": [
      "INFO:pygenometracks.tracksClass:plotting 46. [spacer]\r\n",
      "INFO:pygenometracks.tracksClass:plotting 47. [cluster24]\r\n"
     ]
    },
    {
     "name": "stdout",
     "output_type": "stream",
     "text": [
      "INFO:pygenometracks.tracksClass:plotting 48. [spacer]\r\n"
     ]
    },
    {
     "name": "stdout",
     "output_type": "stream",
     "text": [
      "INFO:pygenometracks.tracksClass:plotting 49. [snps]\r\n"
     ]
    },
    {
     "name": "stdout",
     "output_type": "stream",
     "text": [
      "DEBUG:pygenometracks.tracks.GenomeTrack:ylim 1479.9999999999998,0\r\n",
      "INFO:pygenometracks.tracksClass:plotting 50. [spacer]\r\n"
     ]
    },
    {
     "name": "stdout",
     "output_type": "stream",
     "text": [
      "INFO:pygenometracks.tracksClass:plotting 51. [x-axis]\r\n"
     ]
    },
    {
     "name": "stdout",
     "output_type": "stream",
     "text": [
      "INFO:pygenometracks.tracksClass:time initializing track(s):\r\n",
      "INFO:pygenometracks.tracksClass:0.16204595565795898\r\n",
      "DEBUG:pygenometracks.tracksClass:Figure size in cm is 40 x 114.375. Dpi is set to 72\r\n",
      "\r\n"
     ]
    },
    {
     "name": "stdout",
     "output_type": "stream",
     "text": [
      "INFO:pygenometracks.tracksClass:plotting 1. [cluster1]\r\n"
     ]
    },
    {
     "name": "stdout",
     "output_type": "stream",
     "text": [
      "INFO:pygenometracks.tracksClass:plotting 2. [spacer]\r\n",
      "INFO:pygenometracks.tracksClass:plotting 3. [cluster2]\r\n"
     ]
    },
    {
     "name": "stdout",
     "output_type": "stream",
     "text": [
      "INFO:pygenometracks.tracksClass:plotting 4. [spacer]\r\n"
     ]
    },
    {
     "name": "stdout",
     "output_type": "stream",
     "text": [
      "INFO:pygenometracks.tracksClass:plotting 5. [cluster3]\r\n"
     ]
    },
    {
     "name": "stdout",
     "output_type": "stream",
     "text": [
      "INFO:pygenometracks.tracksClass:plotting 6. [spacer]\r\n"
     ]
    },
    {
     "name": "stdout",
     "output_type": "stream",
     "text": [
      "INFO:pygenometracks.tracksClass:plotting 7. [cluster4]\r\n"
     ]
    },
    {
     "name": "stdout",
     "output_type": "stream",
     "text": [
      "INFO:pygenometracks.tracksClass:plotting 8. [spacer]\r\n"
     ]
    },
    {
     "name": "stdout",
     "output_type": "stream",
     "text": [
      "INFO:pygenometracks.tracksClass:plotting 9. [cluster5]\r\n"
     ]
    },
    {
     "name": "stdout",
     "output_type": "stream",
     "text": [
      "INFO:pygenometracks.tracksClass:plotting 10. [spacer]\r\n",
      "INFO:pygenometracks.tracksClass:plotting 11. [cluster6]\r\n"
     ]
    },
    {
     "name": "stdout",
     "output_type": "stream",
     "text": [
      "INFO:pygenometracks.tracksClass:plotting 12. [spacer]\r\n"
     ]
    },
    {
     "name": "stdout",
     "output_type": "stream",
     "text": [
      "INFO:pygenometracks.tracksClass:plotting 13. [cluster7]\r\n"
     ]
    },
    {
     "name": "stdout",
     "output_type": "stream",
     "text": [
      "INFO:pygenometracks.tracksClass:plotting 14. [spacer]\r\n",
      "INFO:pygenometracks.tracksClass:plotting 15. [cluster8]\r\n"
     ]
    },
    {
     "name": "stdout",
     "output_type": "stream",
     "text": [
      "INFO:pygenometracks.tracksClass:plotting 16. [spacer]\r\n"
     ]
    },
    {
     "name": "stdout",
     "output_type": "stream",
     "text": [
      "INFO:pygenometracks.tracksClass:plotting 17. [cluster9]\r\n"
     ]
    },
    {
     "name": "stdout",
     "output_type": "stream",
     "text": [
      "INFO:pygenometracks.tracksClass:plotting 18. [spacer]\r\n"
     ]
    },
    {
     "name": "stdout",
     "output_type": "stream",
     "text": [
      "INFO:pygenometracks.tracksClass:plotting 19. [cluster10]\r\n"
     ]
    },
    {
     "name": "stdout",
     "output_type": "stream",
     "text": [
      "INFO:pygenometracks.tracksClass:plotting 20. [spacer]\r\n",
      "INFO:pygenometracks.tracksClass:plotting 21. [cluster11]\r\n"
     ]
    },
    {
     "name": "stdout",
     "output_type": "stream",
     "text": [
      "INFO:pygenometracks.tracksClass:plotting 22. [spacer]\r\n"
     ]
    },
    {
     "name": "stdout",
     "output_type": "stream",
     "text": [
      "INFO:pygenometracks.tracksClass:plotting 23. [cluster12]\r\n"
     ]
    },
    {
     "name": "stdout",
     "output_type": "stream",
     "text": [
      "INFO:pygenometracks.tracksClass:plotting 24. [spacer]\r\n"
     ]
    },
    {
     "name": "stdout",
     "output_type": "stream",
     "text": [
      "INFO:pygenometracks.tracksClass:plotting 25. [cluster13]\r\n"
     ]
    },
    {
     "name": "stdout",
     "output_type": "stream",
     "text": [
      "INFO:pygenometracks.tracksClass:plotting 26. [spacer]\r\n",
      "INFO:pygenometracks.tracksClass:plotting 27. [cluster14]\r\n"
     ]
    },
    {
     "name": "stdout",
     "output_type": "stream",
     "text": [
      "INFO:pygenometracks.tracksClass:plotting 28. [spacer]\r\n"
     ]
    },
    {
     "name": "stdout",
     "output_type": "stream",
     "text": [
      "INFO:pygenometracks.tracksClass:plotting 29. [cluster15]\r\n"
     ]
    },
    {
     "name": "stdout",
     "output_type": "stream",
     "text": [
      "INFO:pygenometracks.tracksClass:plotting 30. [spacer]\r\n"
     ]
    },
    {
     "name": "stdout",
     "output_type": "stream",
     "text": [
      "INFO:pygenometracks.tracksClass:plotting 31. [cluster16]\r\n"
     ]
    },
    {
     "name": "stdout",
     "output_type": "stream",
     "text": [
      "INFO:pygenometracks.tracksClass:plotting 32. [spacer]\r\n"
     ]
    },
    {
     "name": "stdout",
     "output_type": "stream",
     "text": [
      "INFO:pygenometracks.tracksClass:plotting 33. [cluster17]\r\n"
     ]
    },
    {
     "name": "stdout",
     "output_type": "stream",
     "text": [
      "INFO:pygenometracks.tracksClass:plotting 34. [spacer]\r\n",
      "INFO:pygenometracks.tracksClass:plotting 35. [cluster18]\r\n"
     ]
    },
    {
     "name": "stdout",
     "output_type": "stream",
     "text": [
      "INFO:pygenometracks.tracksClass:plotting 36. [spacer]\r\n"
     ]
    },
    {
     "name": "stdout",
     "output_type": "stream",
     "text": [
      "INFO:pygenometracks.tracksClass:plotting 37. [cluster19]\r\n"
     ]
    },
    {
     "name": "stdout",
     "output_type": "stream",
     "text": [
      "INFO:pygenometracks.tracksClass:plotting 38. [spacer]\r\n",
      "INFO:pygenometracks.tracksClass:plotting 39. [cluster20]\r\n"
     ]
    },
    {
     "name": "stdout",
     "output_type": "stream",
     "text": [
      "INFO:pygenometracks.tracksClass:plotting 40. [spacer]\r\n"
     ]
    },
    {
     "name": "stdout",
     "output_type": "stream",
     "text": [
      "INFO:pygenometracks.tracksClass:plotting 41. [cluster21]\r\n"
     ]
    },
    {
     "name": "stdout",
     "output_type": "stream",
     "text": [
      "INFO:pygenometracks.tracksClass:plotting 42. [spacer]\r\n",
      "INFO:pygenometracks.tracksClass:plotting 43. [cluster22]\r\n"
     ]
    },
    {
     "name": "stdout",
     "output_type": "stream",
     "text": [
      "INFO:pygenometracks.tracksClass:plotting 44. [spacer]\r\n"
     ]
    },
    {
     "name": "stdout",
     "output_type": "stream",
     "text": [
      "INFO:pygenometracks.tracksClass:plotting 45. [cluster23]\r\n"
     ]
    },
    {
     "name": "stdout",
     "output_type": "stream",
     "text": [
      "INFO:pygenometracks.tracksClass:plotting 46. [spacer]\r\n"
     ]
    },
    {
     "name": "stdout",
     "output_type": "stream",
     "text": [
      "INFO:pygenometracks.tracksClass:plotting 47. [cluster24]\r\n"
     ]
    },
    {
     "name": "stdout",
     "output_type": "stream",
     "text": [
      "INFO:pygenometracks.tracksClass:plotting 48. [spacer]\r\n"
     ]
    },
    {
     "name": "stdout",
     "output_type": "stream",
     "text": [
      "INFO:pygenometracks.tracksClass:plotting 49. [snps]\r\n"
     ]
    },
    {
     "name": "stdout",
     "output_type": "stream",
     "text": [
      "DEBUG:pygenometracks.tracks.GenomeTrack:ylim 789.9999999999999,0\r\n",
      "INFO:pygenometracks.tracksClass:plotting 50. [spacer]\r\n"
     ]
    },
    {
     "name": "stdout",
     "output_type": "stream",
     "text": [
      "INFO:pygenometracks.tracksClass:plotting 51. [x-axis]\r\n"
     ]
    },
    {
     "name": "stdout",
     "output_type": "stream",
     "text": [
      "INFO:pygenometracks.tracksClass:time initializing track(s):\r\n",
      "INFO:pygenometracks.tracksClass:0.2860991954803467\r\n",
      "DEBUG:pygenometracks.tracksClass:Figure size in cm is 40 x 114.375. Dpi is set to 72\r\n",
      "\r\n"
     ]
    },
    {
     "name": "stdout",
     "output_type": "stream",
     "text": [
      "INFO:pygenometracks.tracksClass:plotting 1. [cluster1]\r\n"
     ]
    },
    {
     "name": "stdout",
     "output_type": "stream",
     "text": [
      "INFO:pygenometracks.tracksClass:plotting 2. [spacer]\r\n"
     ]
    },
    {
     "name": "stdout",
     "output_type": "stream",
     "text": [
      "INFO:pygenometracks.tracksClass:plotting 3. [cluster2]\r\n"
     ]
    },
    {
     "name": "stdout",
     "output_type": "stream",
     "text": [
      "INFO:pygenometracks.tracksClass:plotting 4. [spacer]\r\n"
     ]
    },
    {
     "name": "stdout",
     "output_type": "stream",
     "text": [
      "INFO:pygenometracks.tracksClass:plotting 5. [cluster3]\r\n"
     ]
    },
    {
     "name": "stdout",
     "output_type": "stream",
     "text": [
      "INFO:pygenometracks.tracksClass:plotting 6. [spacer]\r\n"
     ]
    },
    {
     "name": "stdout",
     "output_type": "stream",
     "text": [
      "INFO:pygenometracks.tracksClass:plotting 7. [cluster4]\r\n"
     ]
    },
    {
     "name": "stdout",
     "output_type": "stream",
     "text": [
      "INFO:pygenometracks.tracksClass:plotting 8. [spacer]\r\n",
      "INFO:pygenometracks.tracksClass:plotting 9. [cluster5]\r\n"
     ]
    },
    {
     "name": "stdout",
     "output_type": "stream",
     "text": [
      "INFO:pygenometracks.tracksClass:plotting 10. [spacer]\r\n"
     ]
    },
    {
     "name": "stdout",
     "output_type": "stream",
     "text": [
      "INFO:pygenometracks.tracksClass:plotting 11. [cluster6]\r\n"
     ]
    },
    {
     "name": "stdout",
     "output_type": "stream",
     "text": [
      "INFO:pygenometracks.tracksClass:plotting 12. [spacer]\r\n"
     ]
    },
    {
     "name": "stdout",
     "output_type": "stream",
     "text": [
      "INFO:pygenometracks.tracksClass:plotting 13. [cluster7]\r\n"
     ]
    },
    {
     "name": "stdout",
     "output_type": "stream",
     "text": [
      "INFO:pygenometracks.tracksClass:plotting 14. [spacer]\r\n"
     ]
    },
    {
     "name": "stdout",
     "output_type": "stream",
     "text": [
      "INFO:pygenometracks.tracksClass:plotting 15. [cluster8]\r\n"
     ]
    },
    {
     "name": "stdout",
     "output_type": "stream",
     "text": [
      "INFO:pygenometracks.tracksClass:plotting 16. [spacer]\r\n"
     ]
    },
    {
     "name": "stdout",
     "output_type": "stream",
     "text": [
      "INFO:pygenometracks.tracksClass:plotting 17. [cluster9]\r\n"
     ]
    },
    {
     "name": "stdout",
     "output_type": "stream",
     "text": [
      "INFO:pygenometracks.tracksClass:plotting 18. [spacer]\r\n"
     ]
    },
    {
     "name": "stdout",
     "output_type": "stream",
     "text": [
      "INFO:pygenometracks.tracksClass:plotting 19. [cluster10]\r\n"
     ]
    },
    {
     "name": "stdout",
     "output_type": "stream",
     "text": [
      "INFO:pygenometracks.tracksClass:plotting 20. [spacer]\r\n",
      "INFO:pygenometracks.tracksClass:plotting 21. [cluster11]\r\n"
     ]
    },
    {
     "name": "stdout",
     "output_type": "stream",
     "text": [
      "INFO:pygenometracks.tracksClass:plotting 22. [spacer]\r\n"
     ]
    },
    {
     "name": "stdout",
     "output_type": "stream",
     "text": [
      "INFO:pygenometracks.tracksClass:plotting 23. [cluster12]\r\n"
     ]
    },
    {
     "name": "stdout",
     "output_type": "stream",
     "text": [
      "INFO:pygenometracks.tracksClass:plotting 24. [spacer]\r\n"
     ]
    },
    {
     "name": "stdout",
     "output_type": "stream",
     "text": [
      "INFO:pygenometracks.tracksClass:plotting 25. [cluster13]\r\n"
     ]
    },
    {
     "name": "stdout",
     "output_type": "stream",
     "text": [
      "INFO:pygenometracks.tracksClass:plotting 26. [spacer]\r\n"
     ]
    },
    {
     "name": "stdout",
     "output_type": "stream",
     "text": [
      "INFO:pygenometracks.tracksClass:plotting 27. [cluster14]\r\n"
     ]
    },
    {
     "name": "stdout",
     "output_type": "stream",
     "text": [
      "INFO:pygenometracks.tracksClass:plotting 28. [spacer]\r\n"
     ]
    },
    {
     "name": "stdout",
     "output_type": "stream",
     "text": [
      "INFO:pygenometracks.tracksClass:plotting 29. [cluster15]\r\n"
     ]
    },
    {
     "name": "stdout",
     "output_type": "stream",
     "text": [
      "INFO:pygenometracks.tracksClass:plotting 30. [spacer]\r\n",
      "INFO:pygenometracks.tracksClass:plotting 31. [cluster16]\r\n"
     ]
    },
    {
     "name": "stdout",
     "output_type": "stream",
     "text": [
      "INFO:pygenometracks.tracksClass:plotting 32. [spacer]\r\n"
     ]
    },
    {
     "name": "stdout",
     "output_type": "stream",
     "text": [
      "INFO:pygenometracks.tracksClass:plotting 33. [cluster17]\r\n"
     ]
    },
    {
     "name": "stdout",
     "output_type": "stream",
     "text": [
      "INFO:pygenometracks.tracksClass:plotting 34. [spacer]\r\n"
     ]
    },
    {
     "name": "stdout",
     "output_type": "stream",
     "text": [
      "INFO:pygenometracks.tracksClass:plotting 35. [cluster18]\r\n"
     ]
    },
    {
     "name": "stdout",
     "output_type": "stream",
     "text": [
      "INFO:pygenometracks.tracksClass:plotting 36. [spacer]\r\n",
      "INFO:pygenometracks.tracksClass:plotting 37. [cluster19]\r\n"
     ]
    },
    {
     "name": "stdout",
     "output_type": "stream",
     "text": [
      "INFO:pygenometracks.tracksClass:plotting 38. [spacer]\r\n"
     ]
    },
    {
     "name": "stdout",
     "output_type": "stream",
     "text": [
      "INFO:pygenometracks.tracksClass:plotting 39. [cluster20]\r\n"
     ]
    },
    {
     "name": "stdout",
     "output_type": "stream",
     "text": [
      "INFO:pygenometracks.tracksClass:plotting 40. [spacer]\r\n"
     ]
    },
    {
     "name": "stdout",
     "output_type": "stream",
     "text": [
      "INFO:pygenometracks.tracksClass:plotting 41. [cluster21]\r\n"
     ]
    },
    {
     "name": "stdout",
     "output_type": "stream",
     "text": [
      "INFO:pygenometracks.tracksClass:plotting 42. [spacer]\r\n",
      "INFO:pygenometracks.tracksClass:plotting 43. [cluster22]\r\n"
     ]
    },
    {
     "name": "stdout",
     "output_type": "stream",
     "text": [
      "INFO:pygenometracks.tracksClass:plotting 44. [spacer]\r\n"
     ]
    },
    {
     "name": "stdout",
     "output_type": "stream",
     "text": [
      "INFO:pygenometracks.tracksClass:plotting 45. [cluster23]\r\n"
     ]
    },
    {
     "name": "stdout",
     "output_type": "stream",
     "text": [
      "INFO:pygenometracks.tracksClass:plotting 46. [spacer]\r\n"
     ]
    },
    {
     "name": "stdout",
     "output_type": "stream",
     "text": [
      "INFO:pygenometracks.tracksClass:plotting 47. [cluster24]\r\n"
     ]
    },
    {
     "name": "stdout",
     "output_type": "stream",
     "text": [
      "INFO:pygenometracks.tracksClass:plotting 48. [spacer]\r\n",
      "INFO:pygenometracks.tracksClass:plotting 49. [snps]\r\n"
     ]
    },
    {
     "name": "stdout",
     "output_type": "stream",
     "text": [
      "DEBUG:pygenometracks.tracks.GenomeTrack:ylim 789.9999999999999,0\r\n",
      "INFO:pygenometracks.tracksClass:plotting 50. [spacer]\r\n"
     ]
    },
    {
     "name": "stdout",
     "output_type": "stream",
     "text": [
      "INFO:pygenometracks.tracksClass:plotting 51. [x-axis]\r\n"
     ]
    }
   ],
   "source": [
    "fc_tracks = []\n",
    "pval_tracks = []\n",
    "\n",
    "for index, row in unique_sig_snps.iterrows():\n",
    "    chrom = row['chr']\n",
    "    start = row['start'] - 2500\n",
    "    end = row['end'] + 2500\n",
    "    rsid = row['rsid']\n",
    "    ! pyGenomeTracks --tracks /mnt/lab_data3/soumyak/adpd/pytracks/fc_bigwig_snps.ini --region {chrom}:{start}-{end} -o /oak/stanford/groups/akundaje/projects/alzheimers_parkinsons/updated_snp_fc_signal_tracks/{rsid}.fc.png\n",
    "    ! pyGenomeTracks --tracks /mnt/lab_data3/soumyak/adpd/pytracks/pval_bigwig_snps.ini --region {chrom}:{start}-{end} -o /oak/stanford/groups/akundaje/projects/alzheimers_parkinsons/updated_snp_pval_signal_tracks/{rsid}.pval.png\n",
    "    fc_tracks.append('http://mitra.stanford.edu/kundaje/projects/alzheimers_parkinsons/updated_snp_fc_signal_tracks/'+rsid+'.fc.png')\n",
    "    pval_tracks.append('http://mitra.stanford.edu/kundaje/projects/alzheimers_parkinsons/updated_snp_pval_signal_tracks/'+rsid+'.pval.png')\n",
    "        \n",
    "unique_sig_snps['fc_track'] = fc_tracks\n",
    "unique_sig_snps['pval_track'] = pval_tracks"
   ]
  },
  {
   "cell_type": "markdown",
   "metadata": {},
   "source": [
    "# Final Significant SNPs Table <a name='prep_final_table' />"
   ]
  },
  {
   "cell_type": "code",
   "execution_count": 27,
   "metadata": {},
   "outputs": [
    {
     "name": "stdout",
     "output_type": "stream",
     "text": [
      "Final Significant SNPs Table:\n",
      "\n"
     ]
    },
    {
     "data": {
      "text/html": [
       "<div>\n",
       "<style scoped>\n",
       "    .dataframe tbody tr th:only-of-type {\n",
       "        vertical-align: middle;\n",
       "    }\n",
       "\n",
       "    .dataframe tbody tr th {\n",
       "        vertical-align: top;\n",
       "    }\n",
       "\n",
       "    .dataframe thead th {\n",
       "        text-align: right;\n",
       "    }\n",
       "</style>\n",
       "<table border=\"1\" class=\"dataframe\">\n",
       "  <thead>\n",
       "    <tr style=\"text-align: right;\">\n",
       "      <th></th>\n",
       "      <th>chr</th>\n",
       "      <th>start</th>\n",
       "      <th>end</th>\n",
       "      <th>rsid</th>\n",
       "      <th>effect</th>\n",
       "      <th>noneffect</th>\n",
       "      <th>major</th>\n",
       "      <th>minor</th>\n",
       "      <th>direction</th>\n",
       "      <th>locus_num</th>\n",
       "      <th>gwas</th>\n",
       "      <th>gwas_pval</th>\n",
       "      <th>coloc</th>\n",
       "      <th>explain_pval</th>\n",
       "      <th>ism_pval</th>\n",
       "      <th>delta_pval</th>\n",
       "      <th>magnitude_pval</th>\n",
       "      <th>prominence_pval</th>\n",
       "      <th>confidence</th>\n",
       "      <th>active_seqlet</th>\n",
       "      <th>diff_seqlet</th>\n",
       "      <th>active_allele</th>\n",
       "      <th>fc_track</th>\n",
       "      <th>pval_track</th>\n",
       "    </tr>\n",
       "  </thead>\n",
       "  <tbody>\n",
       "    <tr>\n",
       "      <th>123</th>\n",
       "      <td>chr17</td>\n",
       "      <td>45897109</td>\n",
       "      <td>45897110</td>\n",
       "      <td>rs80346216</td>\n",
       "      <td>T</td>\n",
       "      <td>G</td>\n",
       "      <td>G</td>\n",
       "      <td>T</td>\n",
       "      <td>-</td>\n",
       "      <td>54</td>\n",
       "      <td>23andme_PD_hg38</td>\n",
       "      <td>3.94e-22</td>\n",
       "      <td>True</td>\n",
       "      <td>0.038002</td>\n",
       "      <td>0.031954</td>\n",
       "      <td>0.032716</td>\n",
       "      <td>0.012258</td>\n",
       "      <td>0.051032</td>\n",
       "      <td>1</td>\n",
       "      <td>GCCGCTAGGGG</td>\n",
       "      <td>GCCGC(T/G)AGGGG</td>\n",
       "      <td>effect</td>\n",
       "      <td>http://mitra.stanford.edu/kundaje/projects/alz...</td>\n",
       "      <td>http://mitra.stanford.edu/kundaje/projects/alz...</td>\n",
       "    </tr>\n",
       "    <tr>\n",
       "      <th>162</th>\n",
       "      <td>chr17</td>\n",
       "      <td>46771150</td>\n",
       "      <td>46771151</td>\n",
       "      <td>rs199523</td>\n",
       "      <td>C</td>\n",
       "      <td>A</td>\n",
       "      <td>A</td>\n",
       "      <td>C</td>\n",
       "      <td>-</td>\n",
       "      <td>54</td>\n",
       "      <td>23andme_PD_hg38</td>\n",
       "      <td>9.49e-14</td>\n",
       "      <td>True</td>\n",
       "      <td>0.017265</td>\n",
       "      <td>0.013156</td>\n",
       "      <td>0.013175</td>\n",
       "      <td>0.006839</td>\n",
       "      <td>0.054839</td>\n",
       "      <td>1</td>\n",
       "      <td>GCGCCACCTAC</td>\n",
       "      <td>G(C/A)GCCACCTAC</td>\n",
       "      <td>effect</td>\n",
       "      <td>http://mitra.stanford.edu/kundaje/projects/alz...</td>\n",
       "      <td>http://mitra.stanford.edu/kundaje/projects/alz...</td>\n",
       "    </tr>\n",
       "    <tr>\n",
       "      <th>48</th>\n",
       "      <td>chr16</td>\n",
       "      <td>30010080</td>\n",
       "      <td>30010081</td>\n",
       "      <td>rs1140239</td>\n",
       "      <td>T</td>\n",
       "      <td>C</td>\n",
       "      <td>C</td>\n",
       "      <td>A,T</td>\n",
       "      <td>-</td>\n",
       "      <td>48</td>\n",
       "      <td>Alzheimers_Jansen_2018</td>\n",
       "      <td>0.00440315</td>\n",
       "      <td>True</td>\n",
       "      <td>0.001271</td>\n",
       "      <td>0.001261</td>\n",
       "      <td>0.000645</td>\n",
       "      <td>0.204710</td>\n",
       "      <td>0.057097</td>\n",
       "      <td>1</td>\n",
       "      <td>CGCTCCC</td>\n",
       "      <td>CGC(T/C)CCC</td>\n",
       "      <td>effect</td>\n",
       "      <td>http://mitra.stanford.edu/kundaje/projects/alz...</td>\n",
       "      <td>http://mitra.stanford.edu/kundaje/projects/alz...</td>\n",
       "    </tr>\n",
       "    <tr>\n",
       "      <th>244</th>\n",
       "      <td>chr3</td>\n",
       "      <td>49007333</td>\n",
       "      <td>49007334</td>\n",
       "      <td>rs6781790</td>\n",
       "      <td>T</td>\n",
       "      <td>C</td>\n",
       "      <td>T</td>\n",
       "      <td>C</td>\n",
       "      <td>+</td>\n",
       "      <td>92</td>\n",
       "      <td>Chang_23andMe_Parkinsons</td>\n",
       "      <td>0.00234934</td>\n",
       "      <td>False</td>\n",
       "      <td>0.043739</td>\n",
       "      <td>0.035641</td>\n",
       "      <td>0.034918</td>\n",
       "      <td>0.016968</td>\n",
       "      <td>0.112452</td>\n",
       "      <td>1</td>\n",
       "      <td>GAGGGCGCTGT</td>\n",
       "      <td>GAGGG(C/T)GCTGT</td>\n",
       "      <td>noneffect</td>\n",
       "      <td>http://mitra.stanford.edu/kundaje/projects/alz...</td>\n",
       "      <td>http://mitra.stanford.edu/kundaje/projects/alz...</td>\n",
       "    </tr>\n",
       "    <tr>\n",
       "      <th>189</th>\n",
       "      <td>chr19</td>\n",
       "      <td>44890946</td>\n",
       "      <td>44890947</td>\n",
       "      <td>19_44890947</td>\n",
       "      <td>A</td>\n",
       "      <td>G</td>\n",
       "      <td>.</td>\n",
       "      <td>.</td>\n",
       "      <td>+</td>\n",
       "      <td>71</td>\n",
       "      <td>Alzheimers_Jansen_2018</td>\n",
       "      <td>9.36e-19</td>\n",
       "      <td>True</td>\n",
       "      <td>0.018778</td>\n",
       "      <td>0.014876</td>\n",
       "      <td>0.014486</td>\n",
       "      <td>0.007419</td>\n",
       "      <td>0.121677</td>\n",
       "      <td>1</td>\n",
       "      <td>GAGGCGGGGCGATG</td>\n",
       "      <td>GAGGCGGG(G/A)CGATG</td>\n",
       "      <td>noneffect</td>\n",
       "      <td>http://mitra.stanford.edu/kundaje/projects/alz...</td>\n",
       "      <td>http://mitra.stanford.edu/kundaje/projects/alz...</td>\n",
       "    </tr>\n",
       "    <tr>\n",
       "      <th>24</th>\n",
       "      <td>chr11</td>\n",
       "      <td>86069405</td>\n",
       "      <td>86069406</td>\n",
       "      <td>rs3016327</td>\n",
       "      <td>T</td>\n",
       "      <td>C</td>\n",
       "      <td>C</td>\n",
       "      <td>T</td>\n",
       "      <td>-</td>\n",
       "      <td>16</td>\n",
       "      <td>Alzheimers_Jansen_2018</td>\n",
       "      <td>1.41e-11</td>\n",
       "      <td>False</td>\n",
       "      <td>0.023854</td>\n",
       "      <td>0.014920</td>\n",
       "      <td>0.013453</td>\n",
       "      <td>0.037161</td>\n",
       "      <td>0.154323</td>\n",
       "      <td>1</td>\n",
       "      <td>GCGGTGT</td>\n",
       "      <td>GCGG(T/C)GT</td>\n",
       "      <td>effect</td>\n",
       "      <td>http://mitra.stanford.edu/kundaje/projects/alz...</td>\n",
       "      <td>http://mitra.stanford.edu/kundaje/projects/alz...</td>\n",
       "    </tr>\n",
       "    <tr>\n",
       "      <th>96</th>\n",
       "      <td>chr17</td>\n",
       "      <td>45775254</td>\n",
       "      <td>45775255</td>\n",
       "      <td>rs62055948</td>\n",
       "      <td>T</td>\n",
       "      <td>C</td>\n",
       "      <td>T</td>\n",
       "      <td>C</td>\n",
       "      <td>+</td>\n",
       "      <td>54</td>\n",
       "      <td>23andme_PD_hg38</td>\n",
       "      <td>2.66e-22</td>\n",
       "      <td>True</td>\n",
       "      <td>0.025226</td>\n",
       "      <td>0.020063</td>\n",
       "      <td>0.020845</td>\n",
       "      <td>0.132065</td>\n",
       "      <td>0.200839</td>\n",
       "      <td>0</td>\n",
       "      <td>GGGCGGA</td>\n",
       "      <td>GGG(C/T)GGA</td>\n",
       "      <td>noneffect</td>\n",
       "      <td>http://mitra.stanford.edu/kundaje/projects/alz...</td>\n",
       "      <td>http://mitra.stanford.edu/kundaje/projects/alz...</td>\n",
       "    </tr>\n",
       "    <tr>\n",
       "      <th>221</th>\n",
       "      <td>chr19</td>\n",
       "      <td>45326535</td>\n",
       "      <td>45326536</td>\n",
       "      <td>rs344791</td>\n",
       "      <td>C</td>\n",
       "      <td>G</td>\n",
       "      <td>C</td>\n",
       "      <td>G</td>\n",
       "      <td>-</td>\n",
       "      <td>71</td>\n",
       "      <td>Alzheimers_Jansen_2018</td>\n",
       "      <td>0.000122</td>\n",
       "      <td>True</td>\n",
       "      <td>0.011771</td>\n",
       "      <td>0.008307</td>\n",
       "      <td>0.008574</td>\n",
       "      <td>0.397419</td>\n",
       "      <td>0.292323</td>\n",
       "      <td>0</td>\n",
       "      <td>ACCGCCT</td>\n",
       "      <td>ACC(G/C)CCT</td>\n",
       "      <td>noneffect</td>\n",
       "      <td>http://mitra.stanford.edu/kundaje/projects/alz...</td>\n",
       "      <td>http://mitra.stanford.edu/kundaje/projects/alz...</td>\n",
       "    </tr>\n",
       "    <tr>\n",
       "      <th>137</th>\n",
       "      <td>chr17</td>\n",
       "      <td>45966011</td>\n",
       "      <td>45966012</td>\n",
       "      <td>rs62063291</td>\n",
       "      <td>T</td>\n",
       "      <td>C</td>\n",
       "      <td>T</td>\n",
       "      <td>C</td>\n",
       "      <td>+</td>\n",
       "      <td>54</td>\n",
       "      <td>23andme_PD_hg38</td>\n",
       "      <td>2.3e-22</td>\n",
       "      <td>True</td>\n",
       "      <td>0.022479</td>\n",
       "      <td>0.018477</td>\n",
       "      <td>0.019155</td>\n",
       "      <td>0.564000</td>\n",
       "      <td>0.448903</td>\n",
       "      <td>0</td>\n",
       "      <td>AGCTCCC</td>\n",
       "      <td>AGC(T/C)CCC</td>\n",
       "      <td>effect</td>\n",
       "      <td>http://mitra.stanford.edu/kundaje/projects/alz...</td>\n",
       "      <td>http://mitra.stanford.edu/kundaje/projects/alz...</td>\n",
       "    </tr>\n",
       "    <tr>\n",
       "      <th>304</th>\n",
       "      <td>chr8</td>\n",
       "      <td>22604860</td>\n",
       "      <td>22604861</td>\n",
       "      <td>rs3735901</td>\n",
       "      <td>T</td>\n",
       "      <td>C</td>\n",
       "      <td>T</td>\n",
       "      <td>C</td>\n",
       "      <td>-</td>\n",
       "      <td>125</td>\n",
       "      <td>Chang_23andMe_Parkinsons</td>\n",
       "      <td>0.0508112</td>\n",
       "      <td>False</td>\n",
       "      <td>0.011302</td>\n",
       "      <td>0.008937</td>\n",
       "      <td>0.004661</td>\n",
       "      <td>0.531290</td>\n",
       "      <td>0.630774</td>\n",
       "      <td>0</td>\n",
       "      <td>CCCTGCC</td>\n",
       "      <td>CCC(T/C)GCC</td>\n",
       "      <td>effect</td>\n",
       "      <td>http://mitra.stanford.edu/kundaje/projects/alz...</td>\n",
       "      <td>http://mitra.stanford.edu/kundaje/projects/alz...</td>\n",
       "    </tr>\n",
       "    <tr>\n",
       "      <th>251</th>\n",
       "      <td>chr3</td>\n",
       "      <td>52307781</td>\n",
       "      <td>52307782</td>\n",
       "      <td>rs149776414</td>\n",
       "      <td>G</td>\n",
       "      <td>A</td>\n",
       "      <td>G</td>\n",
       "      <td>A,T</td>\n",
       "      <td>-</td>\n",
       "      <td>93</td>\n",
       "      <td>Chang_23andMe_Parkinsons</td>\n",
       "      <td>0.00100246</td>\n",
       "      <td>False</td>\n",
       "      <td>0.023400</td>\n",
       "      <td>0.016311</td>\n",
       "      <td>0.016548</td>\n",
       "      <td>0.629355</td>\n",
       "      <td>0.648194</td>\n",
       "      <td>0</td>\n",
       "      <td>CCCGCCA</td>\n",
       "      <td>CCC(G/A)CCA</td>\n",
       "      <td>effect</td>\n",
       "      <td>http://mitra.stanford.edu/kundaje/projects/alz...</td>\n",
       "      <td>http://mitra.stanford.edu/kundaje/projects/alz...</td>\n",
       "    </tr>\n",
       "    <tr>\n",
       "      <th>121</th>\n",
       "      <td>chr17</td>\n",
       "      <td>45896131</td>\n",
       "      <td>45896132</td>\n",
       "      <td>rs4792891</td>\n",
       "      <td>T</td>\n",
       "      <td>G</td>\n",
       "      <td>T</td>\n",
       "      <td>G</td>\n",
       "      <td>+</td>\n",
       "      <td>54</td>\n",
       "      <td>23andme_PD_hg38</td>\n",
       "      <td>7.03e-12</td>\n",
       "      <td>True</td>\n",
       "      <td>0.030035</td>\n",
       "      <td>0.024819</td>\n",
       "      <td>0.024426</td>\n",
       "      <td>0.745097</td>\n",
       "      <td>0.788452</td>\n",
       "      <td>0</td>\n",
       "      <td>GGGTTCG</td>\n",
       "      <td>GGG(T/G)TCG</td>\n",
       "      <td>effect</td>\n",
       "      <td>http://mitra.stanford.edu/kundaje/projects/alz...</td>\n",
       "      <td>http://mitra.stanford.edu/kundaje/projects/alz...</td>\n",
       "    </tr>\n",
       "    <tr>\n",
       "      <th>193</th>\n",
       "      <td>chr19</td>\n",
       "      <td>44915228</td>\n",
       "      <td>44915229</td>\n",
       "      <td>rs12691088</td>\n",
       "      <td>A</td>\n",
       "      <td>G</td>\n",
       "      <td>G</td>\n",
       "      <td>A,C</td>\n",
       "      <td>+</td>\n",
       "      <td>71</td>\n",
       "      <td>Alzheimers_Kunkle_2019</td>\n",
       "      <td>2.69e-238</td>\n",
       "      <td>True</td>\n",
       "      <td>0.009639</td>\n",
       "      <td>0.005550</td>\n",
       "      <td>0.005724</td>\n",
       "      <td>0.729677</td>\n",
       "      <td>0.806645</td>\n",
       "      <td>0</td>\n",
       "      <td>GGTAGGG</td>\n",
       "      <td>GGT(A/G)GGG</td>\n",
       "      <td>effect</td>\n",
       "      <td>http://mitra.stanford.edu/kundaje/projects/alz...</td>\n",
       "      <td>http://mitra.stanford.edu/kundaje/projects/alz...</td>\n",
       "    </tr>\n",
       "  </tbody>\n",
       "</table>\n",
       "</div>"
      ],
      "text/plain": [
       "       chr     start       end         rsid effect noneffect major minor  \\\n",
       "123  chr17  45897109  45897110   rs80346216      T         G     G     T   \n",
       "162  chr17  46771150  46771151     rs199523      C         A     A     C   \n",
       "48   chr16  30010080  30010081    rs1140239      T         C     C   A,T   \n",
       "244   chr3  49007333  49007334    rs6781790      T         C     T     C   \n",
       "189  chr19  44890946  44890947  19_44890947      A         G     .     .   \n",
       "24   chr11  86069405  86069406    rs3016327      T         C     C     T   \n",
       "96   chr17  45775254  45775255   rs62055948      T         C     T     C   \n",
       "221  chr19  45326535  45326536     rs344791      C         G     C     G   \n",
       "137  chr17  45966011  45966012   rs62063291      T         C     T     C   \n",
       "304   chr8  22604860  22604861    rs3735901      T         C     T     C   \n",
       "251   chr3  52307781  52307782  rs149776414      G         A     G   A,T   \n",
       "121  chr17  45896131  45896132    rs4792891      T         G     T     G   \n",
       "193  chr19  44915228  44915229   rs12691088      A         G     G   A,C   \n",
       "\n",
       "    direction  locus_num                      gwas   gwas_pval  coloc  \\\n",
       "123         -         54           23andme_PD_hg38    3.94e-22   True   \n",
       "162         -         54           23andme_PD_hg38    9.49e-14   True   \n",
       "48          -         48    Alzheimers_Jansen_2018  0.00440315   True   \n",
       "244         +         92  Chang_23andMe_Parkinsons  0.00234934  False   \n",
       "189         +         71    Alzheimers_Jansen_2018    9.36e-19   True   \n",
       "24          -         16    Alzheimers_Jansen_2018    1.41e-11  False   \n",
       "96          +         54           23andme_PD_hg38    2.66e-22   True   \n",
       "221         -         71    Alzheimers_Jansen_2018    0.000122   True   \n",
       "137         +         54           23andme_PD_hg38     2.3e-22   True   \n",
       "304         -        125  Chang_23andMe_Parkinsons   0.0508112  False   \n",
       "251         -         93  Chang_23andMe_Parkinsons  0.00100246  False   \n",
       "121         +         54           23andme_PD_hg38    7.03e-12   True   \n",
       "193         +         71    Alzheimers_Kunkle_2019   2.69e-238   True   \n",
       "\n",
       "     explain_pval  ism_pval  delta_pval  magnitude_pval  prominence_pval  \\\n",
       "123      0.038002  0.031954    0.032716        0.012258         0.051032   \n",
       "162      0.017265  0.013156    0.013175        0.006839         0.054839   \n",
       "48       0.001271  0.001261    0.000645        0.204710         0.057097   \n",
       "244      0.043739  0.035641    0.034918        0.016968         0.112452   \n",
       "189      0.018778  0.014876    0.014486        0.007419         0.121677   \n",
       "24       0.023854  0.014920    0.013453        0.037161         0.154323   \n",
       "96       0.025226  0.020063    0.020845        0.132065         0.200839   \n",
       "221      0.011771  0.008307    0.008574        0.397419         0.292323   \n",
       "137      0.022479  0.018477    0.019155        0.564000         0.448903   \n",
       "304      0.011302  0.008937    0.004661        0.531290         0.630774   \n",
       "251      0.023400  0.016311    0.016548        0.629355         0.648194   \n",
       "121      0.030035  0.024819    0.024426        0.745097         0.788452   \n",
       "193      0.009639  0.005550    0.005724        0.729677         0.806645   \n",
       "\n",
       "     confidence   active_seqlet         diff_seqlet active_allele  \\\n",
       "123           1     GCCGCTAGGGG     GCCGC(T/G)AGGGG        effect   \n",
       "162           1     GCGCCACCTAC     G(C/A)GCCACCTAC        effect   \n",
       "48            1         CGCTCCC         CGC(T/C)CCC        effect   \n",
       "244           1     GAGGGCGCTGT     GAGGG(C/T)GCTGT     noneffect   \n",
       "189           1  GAGGCGGGGCGATG  GAGGCGGG(G/A)CGATG     noneffect   \n",
       "24            1         GCGGTGT         GCGG(T/C)GT        effect   \n",
       "96            0         GGGCGGA         GGG(C/T)GGA     noneffect   \n",
       "221           0         ACCGCCT         ACC(G/C)CCT     noneffect   \n",
       "137           0         AGCTCCC         AGC(T/C)CCC        effect   \n",
       "304           0         CCCTGCC         CCC(T/C)GCC        effect   \n",
       "251           0         CCCGCCA         CCC(G/A)CCA        effect   \n",
       "121           0         GGGTTCG         GGG(T/G)TCG        effect   \n",
       "193           0         GGTAGGG         GGT(A/G)GGG        effect   \n",
       "\n",
       "                                              fc_track  \\\n",
       "123  http://mitra.stanford.edu/kundaje/projects/alz...   \n",
       "162  http://mitra.stanford.edu/kundaje/projects/alz...   \n",
       "48   http://mitra.stanford.edu/kundaje/projects/alz...   \n",
       "244  http://mitra.stanford.edu/kundaje/projects/alz...   \n",
       "189  http://mitra.stanford.edu/kundaje/projects/alz...   \n",
       "24   http://mitra.stanford.edu/kundaje/projects/alz...   \n",
       "96   http://mitra.stanford.edu/kundaje/projects/alz...   \n",
       "221  http://mitra.stanford.edu/kundaje/projects/alz...   \n",
       "137  http://mitra.stanford.edu/kundaje/projects/alz...   \n",
       "304  http://mitra.stanford.edu/kundaje/projects/alz...   \n",
       "251  http://mitra.stanford.edu/kundaje/projects/alz...   \n",
       "121  http://mitra.stanford.edu/kundaje/projects/alz...   \n",
       "193  http://mitra.stanford.edu/kundaje/projects/alz...   \n",
       "\n",
       "                                            pval_track  \n",
       "123  http://mitra.stanford.edu/kundaje/projects/alz...  \n",
       "162  http://mitra.stanford.edu/kundaje/projects/alz...  \n",
       "48   http://mitra.stanford.edu/kundaje/projects/alz...  \n",
       "244  http://mitra.stanford.edu/kundaje/projects/alz...  \n",
       "189  http://mitra.stanford.edu/kundaje/projects/alz...  \n",
       "24   http://mitra.stanford.edu/kundaje/projects/alz...  \n",
       "96   http://mitra.stanford.edu/kundaje/projects/alz...  \n",
       "221  http://mitra.stanford.edu/kundaje/projects/alz...  \n",
       "137  http://mitra.stanford.edu/kundaje/projects/alz...  \n",
       "304  http://mitra.stanford.edu/kundaje/projects/alz...  \n",
       "251  http://mitra.stanford.edu/kundaje/projects/alz...  \n",
       "121  http://mitra.stanford.edu/kundaje/projects/alz...  \n",
       "193  http://mitra.stanford.edu/kundaje/projects/alz...  "
      ]
     },
     "metadata": {},
     "output_type": "display_data"
    },
    {
     "name": "stdout",
     "output_type": "stream",
     "text": [
      "\n",
      "Shape:  (13, 24)\n"
     ]
    }
   ],
   "source": [
    "final_sig_snps = unique_sig_snps[['chr', 'start', 'end', 'rsid',\n",
    "                                  'effect', 'noneffect', 'major', 'minor', 'direction',\n",
    "                                  'locus_num', 'gwas', 'gwas_pval', 'coloc',\n",
    "                                  'explain_pval', 'ism_pval', 'delta_pval',\n",
    "                                  'magnitude_pval', 'prominence_pval', 'confidence',\n",
    "                                  'active_seqlet', 'diff_seqlet', 'active_allele',\n",
    "                                  'fc_track', 'pval_track']]\n",
    "\n",
    "final_sig_snps.to_csv('/oak/stanford/groups/akundaje/projects/alzheimers_parkinsons/updated_sig_snps/Cluster'\n",
    "                       + cluster + '.' + celltype + '.updated.unique.sig_snps.tsv', sep='\\t', index=False)\n",
    "print('Final Significant SNPs Table:')\n",
    "print()\n",
    "display(final_sig_snps)\n",
    "print()\n",
    "print('Shape: ', final_sig_snps.shape)"
   ]
  },
  {
   "cell_type": "code",
   "execution_count": null,
   "metadata": {},
   "outputs": [],
   "source": []
  }
 ],
 "metadata": {
  "kernelspec": {
   "display_name": "Python 3",
   "language": "python",
   "name": "python3"
  },
  "language_info": {
   "codemirror_mode": {
    "name": "ipython",
    "version": 3
   },
   "file_extension": ".py",
   "mimetype": "text/x-python",
   "name": "python",
   "nbconvert_exporter": "python",
   "pygments_lexer": "ipython3",
   "version": "3.7.3"
  }
 },
 "nbformat": 4,
 "nbformat_minor": 4
}
