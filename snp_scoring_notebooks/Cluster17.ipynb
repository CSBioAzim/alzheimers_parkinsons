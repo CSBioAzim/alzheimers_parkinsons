{
 "cells": [
  {
   "cell_type": "markdown",
   "metadata": {},
   "source": [
    "# Choose Cluster"
   ]
  },
  {
   "cell_type": "code",
   "execution_count": 1,
   "metadata": {},
   "outputs": [],
   "source": [
    "cluster_input = 17"
   ]
  },
  {
   "cell_type": "markdown",
   "metadata": {},
   "source": [
    "# Quick Links\n",
    "\n",
    "<ol>\n",
    "    <li><a href=#prep_main_scores>Prepare GkmExplain, ISM, and deltaSVM Scores</a></li>\n",
    "    <li><a href=#prep_conf_scores>Prepare Magnitude and Prominence Scores</a></li>\n",
    "    <li><a href=#prep_score_df>Prepare Score DataFrames</a></li>\n",
    "    <li><a href=#plot_score_distrib>Plot Score Distributions</a></li>\n",
    "    <li><a href=#calculate_pvals>Calculate P-Values</a></li>\n",
    "    <li><a href=#visualize_high_conf>Visualize High Confidence SNPs</a></li>\n",
    "    <li><a href=#prep_final_table>Prepare Final SNPs Table</a></li>\n",
    "</ol>"
   ]
  },
  {
   "cell_type": "markdown",
   "metadata": {},
   "source": [
    "## Imports"
   ]
  },
  {
   "cell_type": "code",
   "execution_count": 2,
   "metadata": {},
   "outputs": [],
   "source": [
    "# Basic\n",
    "\n",
    "import sys\n",
    "import math\n",
    "import random\n",
    "import statistics\n",
    "from decimal import Decimal\n",
    "\n",
    "# Data / ML / Stats Libraries\n",
    "\n",
    "import numpy as np\n",
    "import pandas as pd\n",
    "import scipy\n",
    "from scipy.stats import *\n",
    "pd.set_option('display.max_columns', None)\n",
    "\n",
    "# Visualization\n",
    "\n",
    "from matplotlib import pyplot as plt\n",
    "from plotnine import *\n",
    "sys.path.insert(0, '/users/soumyak/alzheimers_parkinsons/clusters_gkmsvm')\n",
    "from viz_preprocess import *\n",
    "from viz_sequence import *\n",
    "import warnings\n",
    "warnings.filterwarnings('ignore')\n",
    "plt.style.use('default')"
   ]
  },
  {
   "cell_type": "markdown",
   "metadata": {},
   "source": [
    "## Addresses"
   ]
  },
  {
   "cell_type": "code",
   "execution_count": 3,
   "metadata": {},
   "outputs": [],
   "source": [
    "cluster = str(cluster_input)\n",
    "clust_to_celltype = {1: 'excitatory_neurons', 2: 'inhibitory_neurons', 3: 'excitatory_neurons',\n",
    "                     4: 'excitatory_neurons', 5: 'nigral_neurons', 6: 'nigral_neurons', 7: 'unknown_neurons',\n",
    "                     8: 'opcs', 9: 'opcs', 10: 'opcs', 11: 'inhibitory_neurons',12: 'inhibitory_neurons',\n",
    "                     13: 'astrocytes', 14: 'astrocytes', 15: 'astrocytes', 16: 'astrocytes', 17: 'astrocytes',\n",
    "                     18: 'doublets', 19: 'oligodendrocytes', 20: 'oligodendrocytes', 21: 'oligodendrocytes',\n",
    "                     22: 'oligodendrocytes', 23: 'oligodendrocytes', 24: 'microglia'}\n",
    "celltype = clust_to_celltype[cluster_input]\n",
    "observed_base = '/mnt/lab_data3/soumyak/adpd/'\n",
    "observed_effect_fasta = observed_base + 'fasta_inputs/Cluster' + cluster + '.effect.fasta'\n",
    "observed_noneffect_fasta = observed_base + 'fasta_inputs/Cluster' + cluster + '.noneffect.fasta'\n",
    "null_base = '/oak/stanford/groups/akundaje/projects/alzheimers_parkinsons/'"
   ]
  },
  {
   "cell_type": "markdown",
   "metadata": {},
   "source": [
    "## Get Input Sequences"
   ]
  },
  {
   "cell_type": "code",
   "execution_count": 4,
   "metadata": {},
   "outputs": [
    {
     "name": "stdout",
     "output_type": "stream",
     "text": [
      "Num Observed effect sequences: \t \t 191\n",
      "Num Observed noneffect sequences: \t 191\n"
     ]
    }
   ],
   "source": [
    "observed_effect_seqs = [x.rstrip() for (i,x) in enumerate(open(observed_effect_fasta)) if i%2==1]\n",
    "observed_effect_onehot = [np.array(one_hot_encode_along_channel_axis(x)) for x in observed_effect_seqs]\n",
    "\n",
    "print('Num Observed effect sequences:', '\\t', '\\t', len(observed_effect_onehot))\n",
    "\n",
    "observed_noneffect_seqs = [x.rstrip() for (i,x) in enumerate(open(observed_noneffect_fasta)) if i%2==1]\n",
    "observed_noneffect_onehot = [np.array(one_hot_encode_along_channel_axis(x)) for x in observed_noneffect_seqs]\n",
    "\n",
    "print('Num Observed noneffect sequences:', '\\t', len(observed_noneffect_onehot))"
   ]
  },
  {
   "cell_type": "markdown",
   "metadata": {},
   "source": [
    "# Prepare Observed GkmExplain, ISM, and deltaSVM Scores <a name='prep_main_scores' />"
   ]
  },
  {
   "cell_type": "code",
   "execution_count": 5,
   "metadata": {},
   "outputs": [
    {
     "name": "stdout",
     "output_type": "stream",
     "text": [
      "Num Observed GkmExplain scores: \t 191\n",
      "Num Observed Effect scores: \t \t 191\n",
      "Num Observed Non-Effect scores: \t 191\n",
      "Num Observed ISM scores: \t \t 191\n",
      "Num Observed deltaSVM scores: \t \t 191\n"
     ]
    }
   ],
   "source": [
    "merged_observed_effect_scores = np.zeros(shape=(len(observed_effect_seqs), 1000, 4))\n",
    "merged_observed_noneffect_scores = np.zeros(shape=(len(observed_noneffect_seqs), 1000, 4))\n",
    "merged_observed_explain_scores = np.zeros(shape=(len(observed_effect_seqs),))\n",
    "\n",
    "for fold in range(10):\n",
    "    observed_effect_file = observed_base + 'explain_scores/Cluster' + cluster + '/fold' + str(fold) + '.effect.scores.txt'\n",
    "    observed_effect_scores = get_hyp_scores(observed_effect_file, observed_effect_seqs)\n",
    "    observed_effect_scores = np.array(observed_effect_scores)\n",
    "    merged_observed_effect_scores = merged_observed_effect_scores + observed_effect_scores\n",
    "    \n",
    "    observed_noneffect_file = observed_base + 'explain_scores/Cluster' + cluster + '/fold' + str(fold) + '.noneffect.scores.txt'\n",
    "    observed_noneffect_scores = get_hyp_scores(observed_noneffect_file, observed_noneffect_seqs)\n",
    "    observed_noneffect_scores = np.array(observed_noneffect_scores)\n",
    "    merged_observed_noneffect_scores = merged_observed_noneffect_scores + observed_noneffect_scores\n",
    "       \n",
    "    observed_explain_scores = []\n",
    "    \n",
    "    for i,j in enumerate(observed_effect_scores): # iterate over sequences\n",
    "        observed_50bp_imp_effect = np.sum(np.array([np.sum(j) \\\n",
    "                                for j in \\\n",
    "                                observed_effect_scores[i][475:525]]))\n",
    "        observed_50bp_imp_noneffect = np.sum(np.array([np.sum(j) \\\n",
    "                                    for j in \\\n",
    "                                    observed_noneffect_scores[i][475:525]]))\n",
    "        observed_explain_score_seq = observed_50bp_imp_effect - observed_50bp_imp_noneffect\n",
    "        observed_explain_scores.append(observed_explain_score_seq)\n",
    "    \n",
    "    merged_observed_explain_scores = merged_observed_explain_scores + np.array(observed_explain_scores)\n",
    "    \n",
    "merged_observed_effect_scores = merged_observed_effect_scores / (fold + 1)\n",
    "merged_observed_noneffect_scores = merged_observed_noneffect_scores / (fold + 1)\n",
    "merged_observed_explain_scores = merged_observed_explain_scores / (fold + 1)\n",
    "\n",
    "print('Num Observed GkmExplain scores:', '\\t', len(merged_observed_explain_scores))\n",
    "print('Num Observed Effect scores:', '\\t', '\\t', len(merged_observed_effect_scores))\n",
    "print('Num Observed Non-Effect scores:', '\\t', len(merged_observed_noneffect_scores))\n",
    "\n",
    "#--------------------------------------------------------#\n",
    "\n",
    "merged_observed_ism_scores = np.zeros(shape=(len(observed_effect_seqs),))\n",
    "merged_observed_delta_scores = np.zeros(shape=(len(observed_effect_seqs),))\n",
    "\n",
    "for fold in range(10):\n",
    "    observed_ism_scores = np.array([float(i.strip().split('\\t')[1]) \\\n",
    "                                    for i in open(observed_base + 'ism_scores/Cluster'\n",
    "                                    + cluster + '/fold' + str(fold) + '.ism.scores').readlines()])\n",
    "    observed_delta_scores = np.array([float(i.strip().split('\\t')[1]) \\\n",
    "                                    for i in open(observed_base + 'delta_scores/Cluster'\n",
    "                                    + cluster + '/fold' + str(fold) + '.delta.scores').readlines()])\n",
    "    merged_observed_ism_scores = merged_observed_ism_scores + observed_ism_scores\n",
    "    merged_observed_delta_scores = merged_observed_delta_scores + observed_delta_scores\n",
    "        \n",
    "merged_observed_ism_scores = merged_observed_ism_scores / (fold + 1)\n",
    "merged_observed_delta_scores = merged_observed_delta_scores / (fold + 1)\n",
    "\n",
    "print('Num Observed ISM scores:', '\\t', '\\t', len(merged_observed_ism_scores))\n",
    "print('Num Observed deltaSVM scores:', '\\t', '\\t', len(merged_observed_delta_scores))"
   ]
  },
  {
   "cell_type": "markdown",
   "metadata": {},
   "source": [
    "# Prepare Null GkmExplain, ISM, and deltaSVM Scores"
   ]
  },
  {
   "cell_type": "code",
   "execution_count": 6,
   "metadata": {},
   "outputs": [
    {
     "name": "stdout",
     "output_type": "stream",
     "text": [
      "Num Null importance scores: \t 3700000\n",
      "Num Null GkmExplain scores: \t 18500\n"
     ]
    },
    {
     "name": "stdout",
     "output_type": "stream",
     "text": [
      "Num Null ISM scores: \t \t 18500\n",
      "Num Null deltaSVM scores: \t 18500\n"
     ]
    }
   ],
   "source": [
    "null_importance_scores = []\n",
    "merged_null_effect_scores = []\n",
    "merged_null_noneffect_scores = []\n",
    "merged_null_explain_scores = []\n",
    "\n",
    "for fold in range(10):\n",
    "    for shuf in range(10):\n",
    "        null_effect_file = null_base + 'shuffled_explain_scores/Cluster' \\\n",
    "                            + cluster + '/fold' + str(fold) + '.shuf' + str(shuf) + '.effect.scores'\n",
    "        null_effect_scores = get_scores(null_effect_file)\n",
    "                \n",
    "        null_noneffect_file = null_base + 'shuffled_explain_scores/Cluster' \\\n",
    "                                + cluster + '/fold' + str(fold) + '.shuf' + str(shuf) + '.noneffect.scores'\n",
    "        null_noneffect_scores = get_scores(null_noneffect_file)\n",
    "        \n",
    "        for i,j in enumerate(null_effect_scores):\n",
    "            merged_null_effect_scores.append([sum(k) for k in null_effect_scores[i]])\n",
    "            merged_null_noneffect_scores.append([sum(k) for k in null_noneffect_scores[i]])\n",
    "            \n",
    "for i,j in enumerate(merged_null_effect_scores):\n",
    "    null_effect_50bp = sum(merged_null_effect_scores[i][75:125])\n",
    "    null_noneffect_50bp = sum(merged_null_noneffect_scores[i][75:125])\n",
    "    null_explain_score = null_effect_50bp - null_noneffect_50bp\n",
    "    merged_null_explain_scores.append(null_explain_score)\n",
    "    \n",
    "    for k,l in enumerate(merged_null_effect_scores[i]):\n",
    "        null_importance_scores.append(l)\n",
    "        assert l == merged_null_effect_scores[i][k]                \n",
    "            \n",
    "print('Num Null importance scores:', '\\t', len(null_importance_scores))\n",
    "print('Num Null GkmExplain scores:', '\\t', len(merged_null_explain_scores))\n",
    "    \n",
    "#--------------------------------------------------------#\n",
    "\n",
    "merged_null_ism_scores = []\n",
    "merged_null_delta_scores = []\n",
    "\n",
    "for fold in range(10):\n",
    "    for shuf in range(10):\n",
    "        null_ism_scores = np.array([float(i.strip().split('\\t')[1]) \\\n",
    "                            for i in open(null_base + 'shuffled_ism_scores/Cluster'\n",
    "                            + cluster + '/fold' + str(fold) + '.shuf' + str(shuf) + '.ism.scores').readlines()])\n",
    "        null_delta_scores = np.array([float(i.strip().split('\\t')[1]) \\\n",
    "                                for i in open(null_base + 'shuffled_delta_scores/Cluster'\n",
    "                                + cluster + '/fold' + str(fold) + '.shuf' + str(shuf) + '.delta.scores').readlines()])\n",
    "        for null_i_score in null_ism_scores:\n",
    "            merged_null_ism_scores.append(null_i_score)\n",
    "        for null_d_score in null_delta_scores:\n",
    "            merged_null_delta_scores.append(null_d_score)\n",
    "\n",
    "print('Num Null ISM scores:', '\\t', '\\t', len(merged_null_ism_scores))\n",
    "print('Num Null deltaSVM scores:', '\\t', len(merged_null_delta_scores))"
   ]
  },
  {
   "cell_type": "markdown",
   "metadata": {},
   "source": [
    "# Get Observed Magnitude and Prominence Scores <a name='prep_conf_scores' />"
   ]
  },
  {
   "cell_type": "code",
   "execution_count": 7,
   "metadata": {},
   "outputs": [
    {
     "name": "stdout",
     "output_type": "stream",
     "text": [
      "Per-base Importance Score Threshold:  \t 0.035473104999999984\n"
     ]
    },
    {
     "name": "stdout",
     "output_type": "stream",
     "text": [
      "Mean observed seqlet length: \t \t 7.984293193717278\n",
      "Median observed seqlet length: \t \t 7\n",
      "St. Dev observed seqlet length: \t 2.6005595345102903\n",
      "Mode observed seqlet length: \t \t 7\n",
      "Max observed seqlet length: \t \t 22\n",
      "Min observed seqlet lenght: \t \t 7\n"
     ]
    }
   ],
   "source": [
    "observed_confidence_dict = {'observed_seqlet_start': [], 'observed_seqlet_end': [],\n",
    "                            'observed_seqlet_effect': [], 'observed_seqlet_noneffect': [],\n",
    "                            'observed_bg_effect': [], 'observed_bg_noneffect': [],\n",
    "                            'observed_magnitude_score': [], 'observed_prominence_score': [],\n",
    "                            'observed_active_allele': [], 'observed_inactive_allele': [],\n",
    "                            'observed_seqlet_len': []}\n",
    "\n",
    "null_upper_thresh = np.quantile(null_importance_scores, 0.975)\n",
    "print('Per-base Importance Score Threshold: ', '\\t', null_upper_thresh)\n",
    "\n",
    "for seq in range(len(observed_effect_seqs)):\n",
    "    observed_per_seq_dict = {'observed_scores_active': [], 'observed_scores_inactive': [],\n",
    "                             'observed_scores_effect': [], 'observed_scores_noneffect': [],\n",
    "                             'observed_active_allele': ''}\n",
    "    observed_seqlet_start = 0\n",
    "    observed_seqlet_end = 0\n",
    "    observed_seqlet_effect = 0\n",
    "    observed_seqlet_noneffect = 0\n",
    "    observed_bg_effect = 0\n",
    "    observed_bg_noneffect = 0\n",
    "    \n",
    "    observed_effect_total = np.sum(np.array([max(0, np.sum(i)) for i in merged_observed_effect_scores[seq][475:525]]))\n",
    "    observed_noneffect_total = np.sum(np.array([max(0, np.sum(i)) for i in merged_observed_noneffect_scores[seq][475:525]]))\n",
    "    observed_per_seq_dict['observed_scores_effect'] = [np.sum(j) for j in merged_observed_effect_scores[seq]]\n",
    "    observed_per_seq_dict['observed_scores_noneffect'] = [np.sum(j) for j in merged_observed_noneffect_scores[seq]]\n",
    "    if observed_effect_total > observed_noneffect_total:\n",
    "        observed_per_seq_dict['observed_active_allele'] = 'effect'\n",
    "        observed_per_seq_dict['observed_inactive_allele'] = 'noneffect'\n",
    "        observed_confidence_dict['observed_active_allele'].append('effect')\n",
    "        observed_confidence_dict['observed_inactive_allele'].append('noneffect')\n",
    "    else:\n",
    "        observed_per_seq_dict['observed_active_allele'] = 'noneffect'\n",
    "        observed_per_seq_dict['observed_inactive_allele'] = 'effect'\n",
    "        observed_confidence_dict['observed_active_allele'].append('noneffect')\n",
    "        observed_confidence_dict['observed_inactive_allele'].append('effect')\n",
    "    observed_per_seq_dict['observed_scores_active'] = observed_per_seq_dict['observed_scores_'+observed_per_seq_dict['observed_active_allele']]\n",
    "    observed_per_seq_dict['observed_scores_inactive'] = observed_per_seq_dict['observed_scores_'+observed_per_seq_dict['observed_inactive_allele']]\n",
    "    \n",
    "    start = 499\n",
    "    end = 500\n",
    "    while True:\n",
    "        if observed_per_seq_dict['observed_scores_active'][start - 1] <= null_upper_thresh:\n",
    "            if observed_per_seq_dict['observed_scores_active'][start - 2] <= null_upper_thresh:\n",
    "                break\n",
    "            else:\n",
    "                start -= 1\n",
    "        else:\n",
    "            start -= 1\n",
    "    while True:\n",
    "        if observed_per_seq_dict['observed_scores_active'][end] <= null_upper_thresh:\n",
    "            if observed_per_seq_dict['observed_scores_active'][end + 1] <= null_upper_thresh:\n",
    "                break\n",
    "            else:\n",
    "                end += 1\n",
    "        else:\n",
    "            end += 1\n",
    "    if start != (end - 1):\n",
    "        observed_seqlet_len = end - start\n",
    "        if (observed_seqlet_len) < 7:\n",
    "            if (end - 500) > (499 - start):\n",
    "                observed_seqlet_start = start - math.ceil((7 - observed_seqlet_len) / 2)\n",
    "                observed_seqlet_end = end + math.floor((7 - observed_seqlet_len) / 2)\n",
    "            else:           \n",
    "                observed_seqlet_start = start - math.floor((7 - observed_seqlet_len) / 2)\n",
    "                observed_seqlet_end = end + math.ceil((7 - observed_seqlet_len) / 2)\n",
    "        else:\n",
    "            observed_seqlet_start = start\n",
    "            observed_seqlet_end = end\n",
    "    else:\n",
    "        observed_seqlet_start = start - 3\n",
    "        observed_seqlet_end = end + 3\n",
    "    \n",
    "    observed_confidence_dict['observed_seqlet_start'].append(observed_seqlet_start)\n",
    "    observed_confidence_dict['observed_seqlet_end'].append(observed_seqlet_end)\n",
    "    observed_confidence_dict['observed_seqlet_len'].append(observed_seqlet_end - observed_seqlet_start)\n",
    "    \n",
    "    for i,j in enumerate(observed_per_seq_dict['observed_scores_active'][observed_seqlet_start:observed_seqlet_end]):\n",
    "        if observed_per_seq_dict['observed_scores_effect'][i+observed_seqlet_start] >= 0:\n",
    "            observed_seqlet_effect += observed_per_seq_dict['observed_scores_effect'][i+observed_seqlet_start]\n",
    "        if observed_per_seq_dict['observed_scores_noneffect'][i+observed_seqlet_start] >= 0:\n",
    "            observed_seqlet_noneffect += observed_per_seq_dict['observed_scores_noneffect'][i+observed_seqlet_start]\n",
    "        assert j == observed_per_seq_dict['observed_scores_active'][i+observed_seqlet_start]\n",
    "    for i,j in enumerate(observed_per_seq_dict['observed_scores_active']):\n",
    "        if observed_per_seq_dict['observed_scores_effect'][i] >= 0:\n",
    "            observed_bg_effect += observed_per_seq_dict['observed_scores_effect'][i]\n",
    "        if observed_per_seq_dict['observed_scores_noneffect'][i] >= 0:\n",
    "            observed_bg_noneffect += observed_per_seq_dict['observed_scores_noneffect'][i]\n",
    "        assert j == observed_per_seq_dict['observed_scores_active'][i]\n",
    "    \n",
    "    observed_magnitude_score = observed_seqlet_effect - observed_seqlet_noneffect\n",
    "    observed_prominence_score = (observed_seqlet_effect / observed_bg_effect) - (observed_seqlet_noneffect / observed_bg_noneffect)\n",
    "    \n",
    "    observed_confidence_dict['observed_seqlet_effect'].append(observed_seqlet_effect)\n",
    "    observed_confidence_dict['observed_seqlet_noneffect'].append(observed_seqlet_noneffect)\n",
    "    observed_confidence_dict['observed_bg_effect'].append(observed_bg_effect)\n",
    "    observed_confidence_dict['observed_bg_noneffect'].append(observed_bg_noneffect)\n",
    "    observed_confidence_dict['observed_magnitude_score'].append(observed_magnitude_score)\n",
    "    observed_confidence_dict['observed_prominence_score'].append(observed_prominence_score)\n",
    "\n",
    "print('Mean observed seqlet length:', '\\t', '\\t', statistics.mean(observed_confidence_dict['observed_seqlet_len']))\n",
    "print('Median observed seqlet length:', '\\t', '\\t', statistics.median(observed_confidence_dict['observed_seqlet_len']))\n",
    "print('St. Dev observed seqlet length:', '\\t', statistics.stdev(observed_confidence_dict['observed_seqlet_len']))\n",
    "print('Mode observed seqlet length:', '\\t', '\\t', statistics.mode(observed_confidence_dict['observed_seqlet_len']))\n",
    "print('Max observed seqlet length:', '\\t', '\\t', max(observed_confidence_dict['observed_seqlet_len']))\n",
    "print('Min observed seqlet lenght:', '\\t', '\\t', min(observed_confidence_dict['observed_seqlet_len']))"
   ]
  },
  {
   "cell_type": "markdown",
   "metadata": {},
   "source": [
    "# Get Null Magnitude and Prominence Scores"
   ]
  },
  {
   "cell_type": "code",
   "execution_count": 8,
   "metadata": {},
   "outputs": [
    {
     "name": "stdout",
     "output_type": "stream",
     "text": [
      "Per-base Importance Score Threshold:  \t 0.035473104999999984\n"
     ]
    },
    {
     "name": "stdout",
     "output_type": "stream",
     "text": [
      "Mean Null seqlet length: \t \t 7.676432432432432\n",
      "Median Null seqlet length: \t \t 7.0\n",
      "St. Dev Null seqlet length: \t \t 2.1995818116139843\n",
      "Mode Null seqlet length: \t \t 7\n",
      "Max Null seqlet length: \t \t 35\n",
      "Min Null seqlet lenght: \t \t 7\n"
     ]
    }
   ],
   "source": [
    "null_confidence_dict = {'null_seqlet_start': [], 'null_seqlet_end': [],\n",
    "                        'null_seqlet_effect': [], 'null_seqlet_noneffect': [],\n",
    "                        'null_bg_effect': [], 'null_bg_noneffect': [],\n",
    "                        'null_magnitude_score': [], 'null_prominence_score': [],\n",
    "                        'null_active_allele': [], 'null_inactive_allele': [],\n",
    "                        'null_seqlet_len': []}\n",
    "\n",
    "null_upper_thresh = np.quantile(null_importance_scores, 0.975)\n",
    "print('Per-base Importance Score Threshold: ', '\\t', null_upper_thresh)\n",
    "\n",
    "for seq in range(len(merged_null_effect_scores)):\n",
    "    null_per_seq_dict = {'null_scores_active': [], 'null_scores_inactive': [],\n",
    "                         'null_scores_effect': [], 'null_scores_noneffect': [],\n",
    "                         'null_active_allele': ''}\n",
    "    null_seqlet_start = 0\n",
    "    null_seqlet_end = 0\n",
    "    null_seqlet_effect = 0\n",
    "    null_seqlet_noneffect = 0\n",
    "    null_bg_effect = 0\n",
    "    null_bg_noneffect = 0\n",
    "    \n",
    "    null_effect_total = sum([max(0,i) for i in merged_null_effect_scores[seq][75:125]])\n",
    "    null_noneffect_total = sum([max(0,i) for i in merged_null_noneffect_scores[seq][75:125]])\n",
    "    null_per_seq_dict['null_scores_effect'] = merged_null_effect_scores[seq]\n",
    "    null_per_seq_dict['null_scores_noneffect'] = merged_null_noneffect_scores[seq]\n",
    "    if null_effect_total > null_noneffect_total:\n",
    "        null_per_seq_dict['null_active_allele'] = 'effect'\n",
    "        null_per_seq_dict['null_inactive_allele'] = 'noneffect'\n",
    "        null_confidence_dict['null_active_allele'].append('effect')\n",
    "        null_confidence_dict['null_inactive_allele'].append('noneffect')\n",
    "    else:\n",
    "        null_per_seq_dict['null_active_allele'] = 'noneffect'\n",
    "        null_per_seq_dict['null_inactive_allele'] = 'effect'\n",
    "        null_confidence_dict['null_active_allele'].append('noneffect')\n",
    "        null_confidence_dict['null_inactive_allele'].append('effect')\n",
    "    null_per_seq_dict['null_scores_active'] = null_per_seq_dict['null_scores_'+null_per_seq_dict['null_active_allele']]\n",
    "    null_per_seq_dict['null_scores_inactive'] = null_per_seq_dict['null_scores_'+null_per_seq_dict['null_inactive_allele']]\n",
    "    \n",
    "    start = 99\n",
    "    end = 100\n",
    "    while True:\n",
    "        if null_per_seq_dict['null_scores_active'][start - 1] <= null_upper_thresh:\n",
    "            if null_per_seq_dict['null_scores_active'][start - 2] <= null_upper_thresh:\n",
    "                break\n",
    "            else:\n",
    "                start -= 1\n",
    "        else:\n",
    "            start -= 1\n",
    "    while True:\n",
    "        if null_per_seq_dict['null_scores_active'][end] <= null_upper_thresh:\n",
    "            if null_per_seq_dict['null_scores_active'][end + 1] <= null_upper_thresh:\n",
    "                break\n",
    "            else:\n",
    "                end += 1\n",
    "        else:\n",
    "            end += 1\n",
    "    if start != (end - 1):\n",
    "        null_seqlet_len = end - start\n",
    "        if (null_seqlet_len) < 7:\n",
    "            if (end - 100) > (99 - start):\n",
    "                null_seqlet_start = start - math.ceil((7 - null_seqlet_len) / 2)\n",
    "                null_seqlet_end = end + math.floor((7 - null_seqlet_len) / 2)\n",
    "            else:\n",
    "                null_seqlet_start = start - math.floor((7 - null_seqlet_len) / 2)\n",
    "                null_seqlet_end = end + math.ceil((7 - null_seqlet_len) / 2)\n",
    "        else:\n",
    "            null_seqlet_start = start\n",
    "            null_seqlet_end = end\n",
    "    else:\n",
    "        null_seqlet_start = start - 3\n",
    "        null_seqlet_end = end + 3\n",
    "    \n",
    "    null_confidence_dict['null_seqlet_start'].append(null_seqlet_start)\n",
    "    null_confidence_dict['null_seqlet_end'].append(null_seqlet_end)\n",
    "    null_confidence_dict['null_seqlet_len'].append(null_seqlet_end - null_seqlet_start)\n",
    "    \n",
    "    for i,j in enumerate(null_per_seq_dict['null_scores_active'][null_seqlet_start:null_seqlet_end]):\n",
    "        if null_per_seq_dict['null_scores_effect'][i+null_seqlet_start] >= 0:\n",
    "            null_seqlet_effect += null_per_seq_dict['null_scores_effect'][i+null_seqlet_start]\n",
    "        if null_per_seq_dict['null_scores_noneffect'][i+null_seqlet_start] >= 0:\n",
    "            null_seqlet_noneffect += null_per_seq_dict['null_scores_noneffect'][i+null_seqlet_start]\n",
    "        assert j == null_per_seq_dict['null_scores_active'][i+null_seqlet_start]\n",
    "    for i,j in enumerate(null_per_seq_dict['null_scores_active']):\n",
    "        if null_per_seq_dict['null_scores_effect'][i] >= 0:\n",
    "            null_bg_effect += null_per_seq_dict['null_scores_effect'][i]\n",
    "        if null_per_seq_dict['null_scores_noneffect'][i] >= 0:\n",
    "            null_bg_noneffect += null_per_seq_dict['null_scores_noneffect'][i]\n",
    "        assert j == null_per_seq_dict['null_scores_active'][i]\n",
    "    \n",
    "    null_magnitude_score = null_seqlet_effect - null_seqlet_noneffect\n",
    "    null_prominence_score = (null_seqlet_effect / null_bg_effect) - (null_seqlet_noneffect / null_bg_noneffect)\n",
    "    \n",
    "    null_confidence_dict['null_seqlet_effect'].append(null_seqlet_effect)\n",
    "    null_confidence_dict['null_seqlet_noneffect'].append(null_seqlet_noneffect)\n",
    "    null_confidence_dict['null_bg_effect'].append(null_bg_effect)\n",
    "    null_confidence_dict['null_bg_noneffect'].append(null_bg_noneffect)\n",
    "    null_confidence_dict['null_magnitude_score'].append(null_magnitude_score)\n",
    "    null_confidence_dict['null_prominence_score'].append(null_prominence_score)\n",
    "\n",
    "print('Mean Null seqlet length:', '\\t', '\\t', statistics.mean(null_confidence_dict['null_seqlet_len']))\n",
    "print('Median Null seqlet length:', '\\t', '\\t', statistics.median(null_confidence_dict['null_seqlet_len']))\n",
    "print('St. Dev Null seqlet length:', '\\t', '\\t', statistics.stdev(null_confidence_dict['null_seqlet_len']))\n",
    "print('Mode Null seqlet length:', '\\t', '\\t', statistics.mode(null_confidence_dict['null_seqlet_len']))\n",
    "print('Max Null seqlet length:', '\\t', '\\t', max(null_confidence_dict['null_seqlet_len']))\n",
    "print('Min Null seqlet lenght:', '\\t', '\\t', min(null_confidence_dict['null_seqlet_len']))"
   ]
  },
  {
   "cell_type": "markdown",
   "metadata": {},
   "source": [
    "# Make Observed Scores DataFrame <a name='prep_score_df' />"
   ]
  },
  {
   "cell_type": "code",
   "execution_count": 9,
   "metadata": {},
   "outputs": [
    {
     "name": "stdout",
     "output_type": "stream",
     "text": [
      "Observed Scores:\n",
      "\n"
     ]
    },
    {
     "data": {
      "text/html": [
       "<div>\n",
       "<style scoped>\n",
       "    .dataframe tbody tr th:only-of-type {\n",
       "        vertical-align: middle;\n",
       "    }\n",
       "\n",
       "    .dataframe tbody tr th {\n",
       "        vertical-align: top;\n",
       "    }\n",
       "\n",
       "    .dataframe thead th {\n",
       "        text-align: right;\n",
       "    }\n",
       "</style>\n",
       "<table border=\"1\" class=\"dataframe\">\n",
       "  <thead>\n",
       "    <tr style=\"text-align: right;\">\n",
       "      <th></th>\n",
       "      <th>chr</th>\n",
       "      <th>start</th>\n",
       "      <th>end</th>\n",
       "      <th>rsid</th>\n",
       "      <th>effect</th>\n",
       "      <th>noneffect</th>\n",
       "      <th>ref</th>\n",
       "      <th>alt</th>\n",
       "      <th>major</th>\n",
       "      <th>minor</th>\n",
       "      <th>direction</th>\n",
       "      <th>locus_num</th>\n",
       "      <th>gc</th>\n",
       "      <th>explain_score</th>\n",
       "      <th>ism_score</th>\n",
       "      <th>delta_score</th>\n",
       "      <th>magnitude_score</th>\n",
       "      <th>prominence_score</th>\n",
       "      <th>gc_bin</th>\n",
       "      <th>gwas</th>\n",
       "      <th>gwas_pval</th>\n",
       "      <th>coloc</th>\n",
       "      <th>active_seqlet</th>\n",
       "      <th>inactive_seqlet</th>\n",
       "      <th>diff_seqlet</th>\n",
       "      <th>active_allele</th>\n",
       "    </tr>\n",
       "  </thead>\n",
       "  <tbody>\n",
       "    <tr>\n",
       "      <th>0</th>\n",
       "      <td>chr1</td>\n",
       "      <td>155135690</td>\n",
       "      <td>155135691</td>\n",
       "      <td>rs12726330</td>\n",
       "      <td>G</td>\n",
       "      <td>A</td>\n",
       "      <td>G</td>\n",
       "      <td>A,C</td>\n",
       "      <td>G</td>\n",
       "      <td>A,C</td>\n",
       "      <td>-</td>\n",
       "      <td>10</td>\n",
       "      <td>0.628</td>\n",
       "      <td>-0.090000</td>\n",
       "      <td>-0.140528</td>\n",
       "      <td>-0.833094</td>\n",
       "      <td>-0.068521</td>\n",
       "      <td>-0.024946</td>\n",
       "      <td>7</td>\n",
       "      <td>23andme_PD_hg38</td>\n",
       "      <td>1.64e-14</td>\n",
       "      <td>False</td>\n",
       "      <td>CCAAGGT</td>\n",
       "      <td>CCAGGGT</td>\n",
       "      <td>CCA(A/G)GGT</td>\n",
       "      <td>noneffect</td>\n",
       "    </tr>\n",
       "    <tr>\n",
       "      <th>1</th>\n",
       "      <td>chr1</td>\n",
       "      <td>171742011</td>\n",
       "      <td>171742012</td>\n",
       "      <td>rs12119232</td>\n",
       "      <td>C</td>\n",
       "      <td>A</td>\n",
       "      <td>A</td>\n",
       "      <td>C</td>\n",
       "      <td>A</td>\n",
       "      <td>C</td>\n",
       "      <td>-</td>\n",
       "      <td>14</td>\n",
       "      <td>0.626</td>\n",
       "      <td>-0.070537</td>\n",
       "      <td>-0.112013</td>\n",
       "      <td>-0.613510</td>\n",
       "      <td>-0.034491</td>\n",
       "      <td>-0.012224</td>\n",
       "      <td>7</td>\n",
       "      <td>Nalls_23andMe</td>\n",
       "      <td>0.0563648</td>\n",
       "      <td>False</td>\n",
       "      <td>GACAGTT</td>\n",
       "      <td>GACCGTT</td>\n",
       "      <td>GAC(A/C)GTT</td>\n",
       "      <td>noneffect</td>\n",
       "    </tr>\n",
       "    <tr>\n",
       "      <th>2</th>\n",
       "      <td>chr1</td>\n",
       "      <td>205750403</td>\n",
       "      <td>205750404</td>\n",
       "      <td>rs823114</td>\n",
       "      <td>G</td>\n",
       "      <td>A</td>\n",
       "      <td>G</td>\n",
       "      <td>A</td>\n",
       "      <td>G</td>\n",
       "      <td>A</td>\n",
       "      <td>-</td>\n",
       "      <td>17</td>\n",
       "      <td>0.539</td>\n",
       "      <td>0.105340</td>\n",
       "      <td>0.164278</td>\n",
       "      <td>0.958634</td>\n",
       "      <td>0.048378</td>\n",
       "      <td>0.013964</td>\n",
       "      <td>4</td>\n",
       "      <td>Chang_23andMe_Parkinsons</td>\n",
       "      <td>9.56e-09</td>\n",
       "      <td>True</td>\n",
       "      <td>CACGGCC</td>\n",
       "      <td>CACAGCC</td>\n",
       "      <td>CAC(G/A)GCC</td>\n",
       "      <td>effect</td>\n",
       "    </tr>\n",
       "    <tr>\n",
       "      <th>3</th>\n",
       "      <td>chr1</td>\n",
       "      <td>232524293</td>\n",
       "      <td>232524294</td>\n",
       "      <td>rs2182431</td>\n",
       "      <td>G</td>\n",
       "      <td>A</td>\n",
       "      <td>A</td>\n",
       "      <td>G</td>\n",
       "      <td>A</td>\n",
       "      <td>G</td>\n",
       "      <td>+</td>\n",
       "      <td>22</td>\n",
       "      <td>0.337</td>\n",
       "      <td>0.057058</td>\n",
       "      <td>0.089727</td>\n",
       "      <td>0.519829</td>\n",
       "      <td>0.001365</td>\n",
       "      <td>0.000555</td>\n",
       "      <td>0</td>\n",
       "      <td>Chang_23andMe_Parkinsons</td>\n",
       "      <td>0.00113505</td>\n",
       "      <td>False</td>\n",
       "      <td>TAAGACA</td>\n",
       "      <td>TAAAACA</td>\n",
       "      <td>TAA(G/A)ACA</td>\n",
       "      <td>effect</td>\n",
       "    </tr>\n",
       "    <tr>\n",
       "      <th>4</th>\n",
       "      <td>chr10</td>\n",
       "      <td>80492012</td>\n",
       "      <td>80492013</td>\n",
       "      <td>rs7910643</td>\n",
       "      <td>A</td>\n",
       "      <td>G</td>\n",
       "      <td>G</td>\n",
       "      <td>A</td>\n",
       "      <td>A</td>\n",
       "      <td>G</td>\n",
       "      <td>+</td>\n",
       "      <td>5</td>\n",
       "      <td>0.475</td>\n",
       "      <td>0.036717</td>\n",
       "      <td>0.056935</td>\n",
       "      <td>0.329338</td>\n",
       "      <td>-0.007136</td>\n",
       "      <td>-0.002976</td>\n",
       "      <td>1</td>\n",
       "      <td>Alzheimers_Kunkle_2019</td>\n",
       "      <td>2.77e-05</td>\n",
       "      <td>True</td>\n",
       "      <td>GGTGTAG</td>\n",
       "      <td>GGTATAG</td>\n",
       "      <td>GGT(G/A)TAG</td>\n",
       "      <td>noneffect</td>\n",
       "    </tr>\n",
       "  </tbody>\n",
       "</table>\n",
       "</div>"
      ],
      "text/plain": [
       "     chr      start        end        rsid effect noneffect ref  alt major  \\\n",
       "0   chr1  155135690  155135691  rs12726330      G         A   G  A,C     G   \n",
       "1   chr1  171742011  171742012  rs12119232      C         A   A    C     A   \n",
       "2   chr1  205750403  205750404    rs823114      G         A   G    A     G   \n",
       "3   chr1  232524293  232524294   rs2182431      G         A   A    G     A   \n",
       "4  chr10   80492012   80492013   rs7910643      A         G   G    A     A   \n",
       "\n",
       "  minor direction  locus_num     gc  explain_score  ism_score  delta_score  \\\n",
       "0   A,C         -         10  0.628      -0.090000  -0.140528    -0.833094   \n",
       "1     C         -         14  0.626      -0.070537  -0.112013    -0.613510   \n",
       "2     A         -         17  0.539       0.105340   0.164278     0.958634   \n",
       "3     G         +         22  0.337       0.057058   0.089727     0.519829   \n",
       "4     G         +          5  0.475       0.036717   0.056935     0.329338   \n",
       "\n",
       "   magnitude_score  prominence_score  gc_bin                      gwas  \\\n",
       "0        -0.068521         -0.024946       7           23andme_PD_hg38   \n",
       "1        -0.034491         -0.012224       7             Nalls_23andMe   \n",
       "2         0.048378          0.013964       4  Chang_23andMe_Parkinsons   \n",
       "3         0.001365          0.000555       0  Chang_23andMe_Parkinsons   \n",
       "4        -0.007136         -0.002976       1    Alzheimers_Kunkle_2019   \n",
       "\n",
       "    gwas_pval  coloc active_seqlet inactive_seqlet  diff_seqlet active_allele  \n",
       "0    1.64e-14  False       CCAAGGT         CCAGGGT  CCA(A/G)GGT     noneffect  \n",
       "1   0.0563648  False       GACAGTT         GACCGTT  GAC(A/C)GTT     noneffect  \n",
       "2    9.56e-09   True       CACGGCC         CACAGCC  CAC(G/A)GCC        effect  \n",
       "3  0.00113505  False       TAAGACA         TAAAACA  TAA(G/A)ACA        effect  \n",
       "4    2.77e-05   True       GGTGTAG         GGTATAG  GGT(G/A)TAG     noneffect  "
      ]
     },
     "metadata": {},
     "output_type": "display_data"
    },
    {
     "name": "stdout",
     "output_type": "stream",
     "text": [
      "\n",
      "Shape:  (191, 26)\n"
     ]
    }
   ],
   "source": [
    "snp_scores = pd.read_csv('/mnt/lab_data3/soumyak/adpd/snp_lists/Cluster'\n",
    "                         + cluster + '.overlap.expanded.snps.hg38.bed', sep='\\t')\n",
    "full_snp_list = pd.read_csv('/oak/stanford/groups/akundaje/projects/alzheimers_parkinsons/'\n",
    "                            + 'snps_final/191121_ld_buddies_table_stage3.tsv', sep='\\t')\n",
    "\n",
    "snp_scores['gc'] = [((observed_noneffect_seqs[index].count('G') + observed_noneffect_seqs[index].count('C'))\n",
    "                     / len(observed_noneffect_seqs[index])) for index in range(len(observed_noneffect_seqs))]\n",
    "snp_scores['explain_score'] = merged_observed_explain_scores\n",
    "snp_scores['ism_score'] = merged_observed_ism_scores\n",
    "snp_scores['delta_score'] = merged_observed_delta_scores\n",
    "snp_scores['magnitude_score'] = observed_confidence_dict['observed_magnitude_score']\n",
    "snp_scores['prominence_score'] = observed_confidence_dict['observed_prominence_score']\n",
    "\n",
    "gc_quantiles = list(snp_scores['gc'].quantile([i/10 for i in range(11)]))\n",
    "snp_scores['gc_bin'] = np.searchsorted(gc_quantiles[1:], snp_scores['gc'])\n",
    "\n",
    "gwas = []\n",
    "gwas_pval = []\n",
    "coloc = []\n",
    "locus_num = []\n",
    "active_seqlet = []\n",
    "inactive_seqlet = []\n",
    "diff_seqlet = []\n",
    "\n",
    "for index,row in snp_scores.iterrows():\n",
    "    best_gwas = ''\n",
    "    lowest_pval = 1\n",
    "    has_coloc = False\n",
    "    locus = 0\n",
    "    na_gwas = ''\n",
    "    na_pval = ''\n",
    "    for ind,rw in full_snp_list.loc[full_snp_list['rsid']==row['rsid']].iterrows():\n",
    "        if rw['pvalue'] < lowest_pval:\n",
    "            best_gwas = rw['source_gwas']\n",
    "            lowest_pval = rw['pvalue']\n",
    "        elif math.isnan(rw['pvalue']):\n",
    "            na_gwas = rw['source_gwas']\n",
    "            na_pval = 'NA'\n",
    "        if rw['has_coloc'] == True:\n",
    "            has_coloc = True\n",
    "        locus = rw['locus_num']\n",
    "    if best_gwas == '':\n",
    "        gwas.append(na_gwas)\n",
    "        gwas_pval.append(na_pval)\n",
    "    else:\n",
    "        gwas.append(best_gwas)\n",
    "        gwas_pval.append(lowest_pval)\n",
    "    coloc.append(has_coloc)\n",
    "    locus_num.append(locus)\n",
    "    if observed_confidence_dict['observed_active_allele'][index] == 'effect':\n",
    "        active_seq = observed_effect_seqs[index]\n",
    "        inactive_seq = observed_noneffect_seqs[index]\n",
    "    else:\n",
    "        active_seq = observed_noneffect_seqs[index]\n",
    "        inactive_seq = observed_effect_seqs[index]\n",
    "    seqlet_start = observed_confidence_dict['observed_seqlet_start'][index]\n",
    "    seqlet_end = observed_confidence_dict['observed_seqlet_end'][index]\n",
    "    active_seqlet.append(active_seq[seqlet_start:seqlet_end])\n",
    "    inactive_seqlet.append(inactive_seq[seqlet_start:seqlet_end])\n",
    "    diff_seqlet.append(active_seq[seqlet_start:499]\n",
    "                      + '(' + active_seq[499]\n",
    "                      + '/' + inactive_seq[499]\n",
    "                      + ')' + active_seq[500:seqlet_end])\n",
    "    if row['effect'] == 'NAN':\n",
    "        snp_scores.at[index, 'effect'] = 'NA'\n",
    "    if row['noneffect'] == 'NAN':\n",
    "        snp_scores.at[index, 'noneffect'] = 'NA'\n",
    "\n",
    "snp_scores['gwas'] = gwas\n",
    "snp_scores['gwas_pval'] = gwas_pval\n",
    "snp_scores['coloc'] = coloc\n",
    "snp_scores['locus_num'] = locus_num\n",
    "snp_scores['active_seqlet'] = active_seqlet\n",
    "snp_scores['inactive_seqlet'] = inactive_seqlet\n",
    "snp_scores['diff_seqlet'] = diff_seqlet\n",
    "snp_scores['active_allele'] = observed_confidence_dict['observed_active_allele']\n",
    "snp_scores.drop(['source_gwas','pvalue','ld_tag_chr','ld_tag_pos','r2_with_ld_tag'], axis=1, inplace=True)\n",
    "#snp_scores = snp_scores.loc[snp_scores['effect'] != 'NA']\n",
    "#snp_scores = snp_scores.loc[snp_scores['noneffect'] != 'NA']\n",
    "\n",
    "print('Observed Scores:')\n",
    "print()\n",
    "display(snp_scores.head())\n",
    "print()\n",
    "print('Shape: ', snp_scores.shape)"
   ]
  },
  {
   "cell_type": "markdown",
   "metadata": {},
   "source": [
    "# Make Null Scores DataFrame"
   ]
  },
  {
   "cell_type": "code",
   "execution_count": 10,
   "metadata": {},
   "outputs": [
    {
     "name": "stdout",
     "output_type": "stream",
     "text": [
      "Null Scores:\n",
      "\n"
     ]
    },
    {
     "data": {
      "text/html": [
       "<div>\n",
       "<style scoped>\n",
       "    .dataframe tbody tr th:only-of-type {\n",
       "        vertical-align: middle;\n",
       "    }\n",
       "\n",
       "    .dataframe tbody tr th {\n",
       "        vertical-align: top;\n",
       "    }\n",
       "\n",
       "    .dataframe thead th {\n",
       "        text-align: right;\n",
       "    }\n",
       "</style>\n",
       "<table border=\"1\" class=\"dataframe\">\n",
       "  <thead>\n",
       "    <tr style=\"text-align: right;\">\n",
       "      <th></th>\n",
       "      <th>rsid</th>\n",
       "      <th>null_explain_score</th>\n",
       "      <th>null_ism_score</th>\n",
       "      <th>null_delta_score</th>\n",
       "      <th>null_magnitude_score</th>\n",
       "      <th>null_prominence_score</th>\n",
       "      <th>gc</th>\n",
       "      <th>gc_bin</th>\n",
       "    </tr>\n",
       "  </thead>\n",
       "  <tbody>\n",
       "    <tr>\n",
       "      <th>0</th>\n",
       "      <td>rs12726330</td>\n",
       "      <td>-0.320507</td>\n",
       "      <td>-0.477583</td>\n",
       "      <td>-2.735798</td>\n",
       "      <td>-0.306529</td>\n",
       "      <td>-0.061414</td>\n",
       "      <td>0.628</td>\n",
       "      <td>7</td>\n",
       "    </tr>\n",
       "    <tr>\n",
       "      <th>1</th>\n",
       "      <td>rs12119232</td>\n",
       "      <td>0.109337</td>\n",
       "      <td>0.163220</td>\n",
       "      <td>0.944928</td>\n",
       "      <td>0.052806</td>\n",
       "      <td>0.036369</td>\n",
       "      <td>0.626</td>\n",
       "      <td>7</td>\n",
       "    </tr>\n",
       "    <tr>\n",
       "      <th>2</th>\n",
       "      <td>rs823114</td>\n",
       "      <td>-0.196784</td>\n",
       "      <td>-0.291767</td>\n",
       "      <td>-1.705073</td>\n",
       "      <td>-0.038029</td>\n",
       "      <td>-0.022247</td>\n",
       "      <td>0.539</td>\n",
       "      <td>4</td>\n",
       "    </tr>\n",
       "    <tr>\n",
       "      <th>3</th>\n",
       "      <td>rs2182431</td>\n",
       "      <td>0.170096</td>\n",
       "      <td>0.252915</td>\n",
       "      <td>1.454900</td>\n",
       "      <td>0.000000</td>\n",
       "      <td>0.000000</td>\n",
       "      <td>0.337</td>\n",
       "      <td>0</td>\n",
       "    </tr>\n",
       "    <tr>\n",
       "      <th>4</th>\n",
       "      <td>rs7910643</td>\n",
       "      <td>-0.090991</td>\n",
       "      <td>-0.134980</td>\n",
       "      <td>-0.731102</td>\n",
       "      <td>-0.041543</td>\n",
       "      <td>-0.033387</td>\n",
       "      <td>0.475</td>\n",
       "      <td>1</td>\n",
       "    </tr>\n",
       "  </tbody>\n",
       "</table>\n",
       "</div>"
      ],
      "text/plain": [
       "         rsid  null_explain_score  null_ism_score  null_delta_score  \\\n",
       "0  rs12726330           -0.320507       -0.477583         -2.735798   \n",
       "1  rs12119232            0.109337        0.163220          0.944928   \n",
       "2    rs823114           -0.196784       -0.291767         -1.705073   \n",
       "3   rs2182431            0.170096        0.252915          1.454900   \n",
       "4   rs7910643           -0.090991       -0.134980         -0.731102   \n",
       "\n",
       "   null_magnitude_score  null_prominence_score     gc  gc_bin  \n",
       "0             -0.306529              -0.061414  0.628       7  \n",
       "1              0.052806               0.036369  0.626       7  \n",
       "2             -0.038029              -0.022247  0.539       4  \n",
       "3              0.000000               0.000000  0.337       0  \n",
       "4             -0.041543              -0.033387  0.475       1  "
      ]
     },
     "metadata": {},
     "output_type": "display_data"
    },
    {
     "name": "stdout",
     "output_type": "stream",
     "text": [
      "\n",
      "Shape:  (18500, 8)\n"
     ]
    }
   ],
   "source": [
    "bases = ['A', 'T', 'C', 'G']\n",
    "null_dict = {'rsid': [], 'null_explain_score': merged_null_explain_scores,\n",
    "             'null_ism_score': merged_null_ism_scores, 'null_delta_score': merged_null_delta_scores, \n",
    "             'null_magnitude_score': null_confidence_dict['null_magnitude_score'],\n",
    "             'null_prominence_score': null_confidence_dict['null_prominence_score'],\n",
    "             'gc':[]}\n",
    "\n",
    "for fold in range(10):\n",
    "    for shuf in range(10):\n",
    "        with open('/oak/stanford/groups/akundaje/projects/alzheimers_parkinsons/shuffled_1kb_fasta/Cluster'\n",
    "                  + cluster + '/shuf' + str(shuf) + '.initial.fasta', 'r') as shuf_file:\n",
    "            shuf_seqs = shuf_file.readlines()\n",
    "            for index, row in snp_scores.iterrows():\n",
    "                rsid = row['rsid']\n",
    "                effect = row['effect']\n",
    "                noneffect = row['noneffect']\n",
    "                if effect.upper() in bases and noneffect.upper() in bases:\n",
    "                    null_dict['rsid'].append(rsid)\n",
    "                    orig_seq = observed_noneffect_seqs[index]\n",
    "                    orig_gc = (orig_seq.count('G') + orig_seq.count('C')) / len(orig_seq)\n",
    "                    shuffled_seq = shuf_seqs[(2 * index) + 1]\n",
    "                    shuffled_seq = shuffled_seq.strip()\n",
    "                    shuffled_gc = (shuffled_seq.count('G') + shuffled_seq.count('C')) / len(shuffled_seq)\n",
    "                    assert orig_gc == shuffled_gc\n",
    "                    null_dict['gc'].append(orig_gc)\n",
    "\n",
    "null_scores = pd.DataFrame.from_dict(null_dict)\n",
    "null_scores['gc_bin'] = np.searchsorted(gc_quantiles[1:], null_scores['gc'])\n",
    "\n",
    "print('Null Scores:')\n",
    "print()\n",
    "display(null_scores.head())\n",
    "print()\n",
    "print('Shape: ', null_scores.shape)"
   ]
  },
  {
   "cell_type": "markdown",
   "metadata": {},
   "source": [
    "## Get Null Quantiles"
   ]
  },
  {
   "cell_type": "code",
   "execution_count": 11,
   "metadata": {},
   "outputs": [
    {
     "name": "stdout",
     "output_type": "stream",
     "text": [
      "0.025 Quantiles:\n",
      "\n"
     ]
    },
    {
     "data": {
      "text/plain": [
       "null_explain_score      -0.458026\n",
       "null_ism_score          -0.684086\n",
       "null_delta_score        -3.943357\n",
       "null_magnitude_score    -0.231342\n",
       "null_prominence_score   -0.117190\n",
       "gc                       0.357000\n",
       "gc_bin                   0.000000\n",
       "Name: 0.025, dtype: float64"
      ]
     },
     "metadata": {},
     "output_type": "display_data"
    },
    {
     "name": "stdout",
     "output_type": "stream",
     "text": [
      "\n",
      "0.975 Quantiles:\n",
      "\n"
     ]
    },
    {
     "data": {
      "text/plain": [
       "null_explain_score       0.453936\n",
       "null_ism_score           0.678182\n",
       "null_delta_score         3.898391\n",
       "null_magnitude_score     0.227821\n",
       "null_prominence_score    0.116439\n",
       "gc                       0.722000\n",
       "gc_bin                   9.000000\n",
       "Name: 0.975, dtype: float64"
      ]
     },
     "metadata": {},
     "output_type": "display_data"
    },
    {
     "name": "stdout",
     "output_type": "stream",
     "text": [
      "\n",
      "GC Bin Quantiles:\n",
      "\n"
     ]
    },
    {
     "data": {
      "text/plain": [
       "0.0    0.3370\n",
       "0.1    0.4350\n",
       "0.2    0.4808\n",
       "0.3    0.5070\n",
       "0.4    0.5238\n",
       "0.5    0.5400\n",
       "0.6    0.5644\n",
       "0.7    0.6020\n",
       "0.8    0.6350\n",
       "0.9    0.6840\n",
       "1.0    0.7840\n",
       "Name: gc, dtype: float64"
      ]
     },
     "metadata": {},
     "output_type": "display_data"
    }
   ],
   "source": [
    "print('0.025 Quantiles:')\n",
    "print()\n",
    "display(null_scores.quantile(0.025))\n",
    "print()\n",
    "print('0.975 Quantiles:')\n",
    "print()\n",
    "display(null_scores.quantile(0.975))\n",
    "print()\n",
    "print('GC Bin Quantiles:')\n",
    "print()\n",
    "display(null_scores['gc'].quantile([i/10 for i in range(11)]))"
   ]
  },
  {
   "cell_type": "markdown",
   "metadata": {},
   "source": [
    "## Check if Null Scores are Distributed Identically across GC bins"
   ]
  },
  {
   "cell_type": "code",
   "execution_count": 12,
   "metadata": {},
   "outputs": [
    {
     "name": "stdout",
     "output_type": "stream",
     "text": [
      "ISM GC-bin KS Test:\n"
     ]
    },
    {
     "data": {
      "text/html": [
       "<div>\n",
       "<style scoped>\n",
       "    .dataframe tbody tr th:only-of-type {\n",
       "        vertical-align: middle;\n",
       "    }\n",
       "\n",
       "    .dataframe tbody tr th {\n",
       "        vertical-align: top;\n",
       "    }\n",
       "\n",
       "    .dataframe thead th {\n",
       "        text-align: right;\n",
       "    }\n",
       "</style>\n",
       "<table border=\"1\" class=\"dataframe\">\n",
       "  <thead>\n",
       "    <tr style=\"text-align: right;\">\n",
       "      <th></th>\n",
       "      <th>0</th>\n",
       "      <th>1</th>\n",
       "      <th>2</th>\n",
       "      <th>3</th>\n",
       "      <th>4</th>\n",
       "      <th>5</th>\n",
       "      <th>6</th>\n",
       "      <th>7</th>\n",
       "      <th>8</th>\n",
       "      <th>9</th>\n",
       "    </tr>\n",
       "  </thead>\n",
       "  <tbody>\n",
       "    <tr>\n",
       "      <th>0</th>\n",
       "      <td>1.000000</td>\n",
       "      <td>0.007804</td>\n",
       "      <td>0.001486</td>\n",
       "      <td>1.284092e-03</td>\n",
       "      <td>0.000241</td>\n",
       "      <td>4.056930e-02</td>\n",
       "      <td>0.034308</td>\n",
       "      <td>0.063056</td>\n",
       "      <td>0.000014</td>\n",
       "      <td>0.003150</td>\n",
       "    </tr>\n",
       "    <tr>\n",
       "      <th>1</th>\n",
       "      <td>0.007804</td>\n",
       "      <td>1.000000</td>\n",
       "      <td>0.392819</td>\n",
       "      <td>4.469671e-01</td>\n",
       "      <td>0.757288</td>\n",
       "      <td>8.916944e-04</td>\n",
       "      <td>0.392819</td>\n",
       "      <td>0.522651</td>\n",
       "      <td>0.077080</td>\n",
       "      <td>0.159401</td>\n",
       "    </tr>\n",
       "    <tr>\n",
       "      <th>2</th>\n",
       "      <td>0.001486</td>\n",
       "      <td>0.392819</td>\n",
       "      <td>1.000000</td>\n",
       "      <td>8.880865e-01</td>\n",
       "      <td>0.772937</td>\n",
       "      <td>2.176692e-05</td>\n",
       "      <td>0.288354</td>\n",
       "      <td>0.326119</td>\n",
       "      <td>0.052034</td>\n",
       "      <td>0.075111</td>\n",
       "    </tr>\n",
       "    <tr>\n",
       "      <th>3</th>\n",
       "      <td>0.001284</td>\n",
       "      <td>0.446967</td>\n",
       "      <td>0.888086</td>\n",
       "      <td>1.000000e+00</td>\n",
       "      <td>0.475272</td>\n",
       "      <td>6.965801e-07</td>\n",
       "      <td>0.221205</td>\n",
       "      <td>0.163152</td>\n",
       "      <td>0.016231</td>\n",
       "      <td>0.058077</td>\n",
       "    </tr>\n",
       "    <tr>\n",
       "      <th>4</th>\n",
       "      <td>0.000241</td>\n",
       "      <td>0.757288</td>\n",
       "      <td>0.772937</td>\n",
       "      <td>4.752718e-01</td>\n",
       "      <td>1.000000</td>\n",
       "      <td>2.729568e-04</td>\n",
       "      <td>0.142940</td>\n",
       "      <td>0.318903</td>\n",
       "      <td>0.018622</td>\n",
       "      <td>0.103570</td>\n",
       "    </tr>\n",
       "    <tr>\n",
       "      <th>5</th>\n",
       "      <td>0.040569</td>\n",
       "      <td>0.000892</td>\n",
       "      <td>0.000022</td>\n",
       "      <td>6.965801e-07</td>\n",
       "      <td>0.000273</td>\n",
       "      <td>1.000000e+00</td>\n",
       "      <td>0.000803</td>\n",
       "      <td>0.004307</td>\n",
       "      <td>0.000132</td>\n",
       "      <td>0.010347</td>\n",
       "    </tr>\n",
       "    <tr>\n",
       "      <th>6</th>\n",
       "      <td>0.034308</td>\n",
       "      <td>0.392819</td>\n",
       "      <td>0.288354</td>\n",
       "      <td>2.212050e-01</td>\n",
       "      <td>0.142940</td>\n",
       "      <td>8.026423e-04</td>\n",
       "      <td>1.000000</td>\n",
       "      <td>0.828521</td>\n",
       "      <td>0.001913</td>\n",
       "      <td>0.075798</td>\n",
       "    </tr>\n",
       "    <tr>\n",
       "      <th>7</th>\n",
       "      <td>0.063056</td>\n",
       "      <td>0.522651</td>\n",
       "      <td>0.326119</td>\n",
       "      <td>1.631518e-01</td>\n",
       "      <td>0.318903</td>\n",
       "      <td>4.307091e-03</td>\n",
       "      <td>0.828521</td>\n",
       "      <td>1.000000</td>\n",
       "      <td>0.006647</td>\n",
       "      <td>0.163152</td>\n",
       "    </tr>\n",
       "    <tr>\n",
       "      <th>8</th>\n",
       "      <td>0.000014</td>\n",
       "      <td>0.077080</td>\n",
       "      <td>0.052034</td>\n",
       "      <td>1.623064e-02</td>\n",
       "      <td>0.018622</td>\n",
       "      <td>1.320501e-04</td>\n",
       "      <td>0.001913</td>\n",
       "      <td>0.006647</td>\n",
       "      <td>1.000000</td>\n",
       "      <td>0.266243</td>\n",
       "    </tr>\n",
       "    <tr>\n",
       "      <th>9</th>\n",
       "      <td>0.003150</td>\n",
       "      <td>0.159401</td>\n",
       "      <td>0.075111</td>\n",
       "      <td>5.807664e-02</td>\n",
       "      <td>0.103570</td>\n",
       "      <td>1.034702e-02</td>\n",
       "      <td>0.075798</td>\n",
       "      <td>0.163152</td>\n",
       "      <td>0.266243</td>\n",
       "      <td>1.000000</td>\n",
       "    </tr>\n",
       "  </tbody>\n",
       "</table>\n",
       "</div>"
      ],
      "text/plain": [
       "          0         1         2             3         4             5  \\\n",
       "0  1.000000  0.007804  0.001486  1.284092e-03  0.000241  4.056930e-02   \n",
       "1  0.007804  1.000000  0.392819  4.469671e-01  0.757288  8.916944e-04   \n",
       "2  0.001486  0.392819  1.000000  8.880865e-01  0.772937  2.176692e-05   \n",
       "3  0.001284  0.446967  0.888086  1.000000e+00  0.475272  6.965801e-07   \n",
       "4  0.000241  0.757288  0.772937  4.752718e-01  1.000000  2.729568e-04   \n",
       "5  0.040569  0.000892  0.000022  6.965801e-07  0.000273  1.000000e+00   \n",
       "6  0.034308  0.392819  0.288354  2.212050e-01  0.142940  8.026423e-04   \n",
       "7  0.063056  0.522651  0.326119  1.631518e-01  0.318903  4.307091e-03   \n",
       "8  0.000014  0.077080  0.052034  1.623064e-02  0.018622  1.320501e-04   \n",
       "9  0.003150  0.159401  0.075111  5.807664e-02  0.103570  1.034702e-02   \n",
       "\n",
       "          6         7         8         9  \n",
       "0  0.034308  0.063056  0.000014  0.003150  \n",
       "1  0.392819  0.522651  0.077080  0.159401  \n",
       "2  0.288354  0.326119  0.052034  0.075111  \n",
       "3  0.221205  0.163152  0.016231  0.058077  \n",
       "4  0.142940  0.318903  0.018622  0.103570  \n",
       "5  0.000803  0.004307  0.000132  0.010347  \n",
       "6  1.000000  0.828521  0.001913  0.075798  \n",
       "7  0.828521  1.000000  0.006647  0.163152  \n",
       "8  0.001913  0.006647  1.000000  0.266243  \n",
       "9  0.075798  0.163152  0.266243  1.000000  "
      ]
     },
     "metadata": {},
     "output_type": "display_data"
    },
    {
     "name": "stdout",
     "output_type": "stream",
     "text": [
      "Significant Differences:  15\n",
      "\n",
      "GkmExplain GC-bin KS Test:\n"
     ]
    },
    {
     "data": {
      "text/html": [
       "<div>\n",
       "<style scoped>\n",
       "    .dataframe tbody tr th:only-of-type {\n",
       "        vertical-align: middle;\n",
       "    }\n",
       "\n",
       "    .dataframe tbody tr th {\n",
       "        vertical-align: top;\n",
       "    }\n",
       "\n",
       "    .dataframe thead th {\n",
       "        text-align: right;\n",
       "    }\n",
       "</style>\n",
       "<table border=\"1\" class=\"dataframe\">\n",
       "  <thead>\n",
       "    <tr style=\"text-align: right;\">\n",
       "      <th></th>\n",
       "      <th>0</th>\n",
       "      <th>1</th>\n",
       "      <th>2</th>\n",
       "      <th>3</th>\n",
       "      <th>4</th>\n",
       "      <th>5</th>\n",
       "      <th>6</th>\n",
       "      <th>7</th>\n",
       "      <th>8</th>\n",
       "      <th>9</th>\n",
       "    </tr>\n",
       "  </thead>\n",
       "  <tbody>\n",
       "    <tr>\n",
       "      <th>0</th>\n",
       "      <td>1.000000</td>\n",
       "      <td>0.008643</td>\n",
       "      <td>0.001448</td>\n",
       "      <td>1.549550e-03</td>\n",
       "      <td>0.000315</td>\n",
       "      <td>4.246851e-02</td>\n",
       "      <td>0.038536</td>\n",
       "      <td>0.069299</td>\n",
       "      <td>0.000008</td>\n",
       "      <td>0.002732</td>\n",
       "    </tr>\n",
       "    <tr>\n",
       "      <th>1</th>\n",
       "      <td>0.008643</td>\n",
       "      <td>1.000000</td>\n",
       "      <td>0.416244</td>\n",
       "      <td>4.751921e-01</td>\n",
       "      <td>0.755853</td>\n",
       "      <td>1.003755e-03</td>\n",
       "      <td>0.327555</td>\n",
       "      <td>0.568966</td>\n",
       "      <td>0.077879</td>\n",
       "      <td>0.219566</td>\n",
       "    </tr>\n",
       "    <tr>\n",
       "      <th>2</th>\n",
       "      <td>0.001448</td>\n",
       "      <td>0.416244</td>\n",
       "      <td>1.000000</td>\n",
       "      <td>9.076722e-01</td>\n",
       "      <td>0.720916</td>\n",
       "      <td>3.001067e-05</td>\n",
       "      <td>0.327555</td>\n",
       "      <td>0.340477</td>\n",
       "      <td>0.062504</td>\n",
       "      <td>0.087924</td>\n",
       "    </tr>\n",
       "    <tr>\n",
       "      <th>3</th>\n",
       "      <td>0.001550</td>\n",
       "      <td>0.475192</td>\n",
       "      <td>0.907672</td>\n",
       "      <td>1.000000e+00</td>\n",
       "      <td>0.526296</td>\n",
       "      <td>8.312335e-07</td>\n",
       "      <td>0.260575</td>\n",
       "      <td>0.151656</td>\n",
       "      <td>0.021076</td>\n",
       "      <td>0.074891</td>\n",
       "    </tr>\n",
       "    <tr>\n",
       "      <th>4</th>\n",
       "      <td>0.000315</td>\n",
       "      <td>0.755853</td>\n",
       "      <td>0.720916</td>\n",
       "      <td>5.262965e-01</td>\n",
       "      <td>1.000000</td>\n",
       "      <td>2.070911e-04</td>\n",
       "      <td>0.141778</td>\n",
       "      <td>0.263911</td>\n",
       "      <td>0.021199</td>\n",
       "      <td>0.112017</td>\n",
       "    </tr>\n",
       "    <tr>\n",
       "      <th>5</th>\n",
       "      <td>0.042469</td>\n",
       "      <td>0.001004</td>\n",
       "      <td>0.000030</td>\n",
       "      <td>8.312335e-07</td>\n",
       "      <td>0.000207</td>\n",
       "      <td>1.000000e+00</td>\n",
       "      <td>0.000917</td>\n",
       "      <td>0.003423</td>\n",
       "      <td>0.000132</td>\n",
       "      <td>0.009308</td>\n",
       "    </tr>\n",
       "    <tr>\n",
       "      <th>6</th>\n",
       "      <td>0.038536</td>\n",
       "      <td>0.327555</td>\n",
       "      <td>0.327555</td>\n",
       "      <td>2.605745e-01</td>\n",
       "      <td>0.141778</td>\n",
       "      <td>9.169566e-04</td>\n",
       "      <td>1.000000</td>\n",
       "      <td>0.800659</td>\n",
       "      <td>0.001644</td>\n",
       "      <td>0.081122</td>\n",
       "    </tr>\n",
       "    <tr>\n",
       "      <th>7</th>\n",
       "      <td>0.069299</td>\n",
       "      <td>0.568966</td>\n",
       "      <td>0.340477</td>\n",
       "      <td>1.516563e-01</td>\n",
       "      <td>0.263911</td>\n",
       "      <td>3.423274e-03</td>\n",
       "      <td>0.800659</td>\n",
       "      <td>1.000000</td>\n",
       "      <td>0.008613</td>\n",
       "      <td>0.216179</td>\n",
       "    </tr>\n",
       "    <tr>\n",
       "      <th>8</th>\n",
       "      <td>0.000008</td>\n",
       "      <td>0.077879</td>\n",
       "      <td>0.062504</td>\n",
       "      <td>2.107555e-02</td>\n",
       "      <td>0.021199</td>\n",
       "      <td>1.320501e-04</td>\n",
       "      <td>0.001644</td>\n",
       "      <td>0.008613</td>\n",
       "      <td>1.000000</td>\n",
       "      <td>0.275621</td>\n",
       "    </tr>\n",
       "    <tr>\n",
       "      <th>9</th>\n",
       "      <td>0.002732</td>\n",
       "      <td>0.219566</td>\n",
       "      <td>0.087924</td>\n",
       "      <td>7.489084e-02</td>\n",
       "      <td>0.112017</td>\n",
       "      <td>9.307665e-03</td>\n",
       "      <td>0.081122</td>\n",
       "      <td>0.216179</td>\n",
       "      <td>0.275621</td>\n",
       "      <td>1.000000</td>\n",
       "    </tr>\n",
       "  </tbody>\n",
       "</table>\n",
       "</div>"
      ],
      "text/plain": [
       "          0         1         2             3         4             5  \\\n",
       "0  1.000000  0.008643  0.001448  1.549550e-03  0.000315  4.246851e-02   \n",
       "1  0.008643  1.000000  0.416244  4.751921e-01  0.755853  1.003755e-03   \n",
       "2  0.001448  0.416244  1.000000  9.076722e-01  0.720916  3.001067e-05   \n",
       "3  0.001550  0.475192  0.907672  1.000000e+00  0.526296  8.312335e-07   \n",
       "4  0.000315  0.755853  0.720916  5.262965e-01  1.000000  2.070911e-04   \n",
       "5  0.042469  0.001004  0.000030  8.312335e-07  0.000207  1.000000e+00   \n",
       "6  0.038536  0.327555  0.327555  2.605745e-01  0.141778  9.169566e-04   \n",
       "7  0.069299  0.568966  0.340477  1.516563e-01  0.263911  3.423274e-03   \n",
       "8  0.000008  0.077879  0.062504  2.107555e-02  0.021199  1.320501e-04   \n",
       "9  0.002732  0.219566  0.087924  7.489084e-02  0.112017  9.307665e-03   \n",
       "\n",
       "          6         7         8         9  \n",
       "0  0.038536  0.069299  0.000008  0.002732  \n",
       "1  0.327555  0.568966  0.077879  0.219566  \n",
       "2  0.327555  0.340477  0.062504  0.087924  \n",
       "3  0.260575  0.151656  0.021076  0.074891  \n",
       "4  0.141778  0.263911  0.021199  0.112017  \n",
       "5  0.000917  0.003423  0.000132  0.009308  \n",
       "6  1.000000  0.800659  0.001644  0.081122  \n",
       "7  0.800659  1.000000  0.008613  0.216179  \n",
       "8  0.001644  0.008613  1.000000  0.275621  \n",
       "9  0.081122  0.216179  0.275621  1.000000  "
      ]
     },
     "metadata": {},
     "output_type": "display_data"
    },
    {
     "name": "stdout",
     "output_type": "stream",
     "text": [
      "Significant Differences:  16\n",
      "\n",
      "deltaSVM GC-bin KS Test:\n"
     ]
    },
    {
     "data": {
      "text/html": [
       "<div>\n",
       "<style scoped>\n",
       "    .dataframe tbody tr th:only-of-type {\n",
       "        vertical-align: middle;\n",
       "    }\n",
       "\n",
       "    .dataframe tbody tr th {\n",
       "        vertical-align: top;\n",
       "    }\n",
       "\n",
       "    .dataframe thead th {\n",
       "        text-align: right;\n",
       "    }\n",
       "</style>\n",
       "<table border=\"1\" class=\"dataframe\">\n",
       "  <thead>\n",
       "    <tr style=\"text-align: right;\">\n",
       "      <th></th>\n",
       "      <th>0</th>\n",
       "      <th>1</th>\n",
       "      <th>2</th>\n",
       "      <th>3</th>\n",
       "      <th>4</th>\n",
       "      <th>5</th>\n",
       "      <th>6</th>\n",
       "      <th>7</th>\n",
       "      <th>8</th>\n",
       "      <th>9</th>\n",
       "    </tr>\n",
       "  </thead>\n",
       "  <tbody>\n",
       "    <tr>\n",
       "      <th>0</th>\n",
       "      <td>1.000000</td>\n",
       "      <td>0.006345</td>\n",
       "      <td>0.000715</td>\n",
       "      <td>1.786717e-03</td>\n",
       "      <td>0.000104</td>\n",
       "      <td>3.109553e-02</td>\n",
       "      <td>0.021633</td>\n",
       "      <td>0.056801</td>\n",
       "      <td>0.000006</td>\n",
       "      <td>0.002781</td>\n",
       "    </tr>\n",
       "    <tr>\n",
       "      <th>1</th>\n",
       "      <td>0.006345</td>\n",
       "      <td>1.000000</td>\n",
       "      <td>0.392819</td>\n",
       "      <td>3.540996e-01</td>\n",
       "      <td>0.704649</td>\n",
       "      <td>6.443250e-04</td>\n",
       "      <td>0.348456</td>\n",
       "      <td>0.585171</td>\n",
       "      <td>0.084524</td>\n",
       "      <td>0.136640</td>\n",
       "    </tr>\n",
       "    <tr>\n",
       "      <th>2</th>\n",
       "      <td>0.000715</td>\n",
       "      <td>0.392819</td>\n",
       "      <td>1.000000</td>\n",
       "      <td>9.226794e-01</td>\n",
       "      <td>0.709098</td>\n",
       "      <td>9.145728e-06</td>\n",
       "      <td>0.270052</td>\n",
       "      <td>0.300706</td>\n",
       "      <td>0.044583</td>\n",
       "      <td>0.043988</td>\n",
       "    </tr>\n",
       "    <tr>\n",
       "      <th>3</th>\n",
       "      <td>0.001787</td>\n",
       "      <td>0.354100</td>\n",
       "      <td>0.922679</td>\n",
       "      <td>1.000000e+00</td>\n",
       "      <td>0.475272</td>\n",
       "      <td>8.312335e-07</td>\n",
       "      <td>0.261504</td>\n",
       "      <td>0.130617</td>\n",
       "      <td>0.009599</td>\n",
       "      <td>0.053245</td>\n",
       "    </tr>\n",
       "    <tr>\n",
       "      <th>4</th>\n",
       "      <td>0.000104</td>\n",
       "      <td>0.704649</td>\n",
       "      <td>0.709098</td>\n",
       "      <td>4.752718e-01</td>\n",
       "      <td>1.000000</td>\n",
       "      <td>1.564559e-04</td>\n",
       "      <td>0.104763</td>\n",
       "      <td>0.231302</td>\n",
       "      <td>0.017338</td>\n",
       "      <td>0.063280</td>\n",
       "    </tr>\n",
       "    <tr>\n",
       "      <th>5</th>\n",
       "      <td>0.031096</td>\n",
       "      <td>0.000644</td>\n",
       "      <td>0.000009</td>\n",
       "      <td>8.312335e-07</td>\n",
       "      <td>0.000156</td>\n",
       "      <td>1.000000e+00</td>\n",
       "      <td>0.001651</td>\n",
       "      <td>0.003423</td>\n",
       "      <td>0.000084</td>\n",
       "      <td>0.014125</td>\n",
       "    </tr>\n",
       "    <tr>\n",
       "      <th>6</th>\n",
       "      <td>0.021633</td>\n",
       "      <td>0.348456</td>\n",
       "      <td>0.270052</td>\n",
       "      <td>2.615044e-01</td>\n",
       "      <td>0.104763</td>\n",
       "      <td>1.651463e-03</td>\n",
       "      <td>1.000000</td>\n",
       "      <td>0.785538</td>\n",
       "      <td>0.001801</td>\n",
       "      <td>0.051892</td>\n",
       "    </tr>\n",
       "    <tr>\n",
       "      <th>7</th>\n",
       "      <td>0.056801</td>\n",
       "      <td>0.585171</td>\n",
       "      <td>0.300706</td>\n",
       "      <td>1.306171e-01</td>\n",
       "      <td>0.231302</td>\n",
       "      <td>3.423274e-03</td>\n",
       "      <td>0.785538</td>\n",
       "      <td>1.000000</td>\n",
       "      <td>0.008669</td>\n",
       "      <td>0.130617</td>\n",
       "    </tr>\n",
       "    <tr>\n",
       "      <th>8</th>\n",
       "      <td>0.000006</td>\n",
       "      <td>0.084524</td>\n",
       "      <td>0.044583</td>\n",
       "      <td>9.598642e-03</td>\n",
       "      <td>0.017338</td>\n",
       "      <td>8.363244e-05</td>\n",
       "      <td>0.001801</td>\n",
       "      <td>0.008669</td>\n",
       "      <td>1.000000</td>\n",
       "      <td>0.263170</td>\n",
       "    </tr>\n",
       "    <tr>\n",
       "      <th>9</th>\n",
       "      <td>0.002781</td>\n",
       "      <td>0.136640</td>\n",
       "      <td>0.043988</td>\n",
       "      <td>5.324454e-02</td>\n",
       "      <td>0.063280</td>\n",
       "      <td>1.412503e-02</td>\n",
       "      <td>0.051892</td>\n",
       "      <td>0.130617</td>\n",
       "      <td>0.263170</td>\n",
       "      <td>1.000000</td>\n",
       "    </tr>\n",
       "  </tbody>\n",
       "</table>\n",
       "</div>"
      ],
      "text/plain": [
       "          0         1         2             3         4             5  \\\n",
       "0  1.000000  0.006345  0.000715  1.786717e-03  0.000104  3.109553e-02   \n",
       "1  0.006345  1.000000  0.392819  3.540996e-01  0.704649  6.443250e-04   \n",
       "2  0.000715  0.392819  1.000000  9.226794e-01  0.709098  9.145728e-06   \n",
       "3  0.001787  0.354100  0.922679  1.000000e+00  0.475272  8.312335e-07   \n",
       "4  0.000104  0.704649  0.709098  4.752718e-01  1.000000  1.564559e-04   \n",
       "5  0.031096  0.000644  0.000009  8.312335e-07  0.000156  1.000000e+00   \n",
       "6  0.021633  0.348456  0.270052  2.615044e-01  0.104763  1.651463e-03   \n",
       "7  0.056801  0.585171  0.300706  1.306171e-01  0.231302  3.423274e-03   \n",
       "8  0.000006  0.084524  0.044583  9.598642e-03  0.017338  8.363244e-05   \n",
       "9  0.002781  0.136640  0.043988  5.324454e-02  0.063280  1.412503e-02   \n",
       "\n",
       "          6         7         8         9  \n",
       "0  0.021633  0.056801  0.000006  0.002781  \n",
       "1  0.348456  0.585171  0.084524  0.136640  \n",
       "2  0.270052  0.300706  0.044583  0.043988  \n",
       "3  0.261504  0.130617  0.009599  0.053245  \n",
       "4  0.104763  0.231302  0.017338  0.063280  \n",
       "5  0.001651  0.003423  0.000084  0.014125  \n",
       "6  1.000000  0.785538  0.001801  0.051892  \n",
       "7  0.785538  1.000000  0.008669  0.130617  \n",
       "8  0.001801  0.008669  1.000000  0.263170  \n",
       "9  0.051892  0.130617  0.263170  1.000000  "
      ]
     },
     "metadata": {},
     "output_type": "display_data"
    },
    {
     "name": "stdout",
     "output_type": "stream",
     "text": [
      "Significant Differences:  16\n",
      "\n",
      "Magnitude GC-bin KS Test:\n"
     ]
    },
    {
     "data": {
      "text/html": [
       "<div>\n",
       "<style scoped>\n",
       "    .dataframe tbody tr th:only-of-type {\n",
       "        vertical-align: middle;\n",
       "    }\n",
       "\n",
       "    .dataframe tbody tr th {\n",
       "        vertical-align: top;\n",
       "    }\n",
       "\n",
       "    .dataframe thead th {\n",
       "        text-align: right;\n",
       "    }\n",
       "</style>\n",
       "<table border=\"1\" class=\"dataframe\">\n",
       "  <thead>\n",
       "    <tr style=\"text-align: right;\">\n",
       "      <th></th>\n",
       "      <th>0</th>\n",
       "      <th>1</th>\n",
       "      <th>2</th>\n",
       "      <th>3</th>\n",
       "      <th>4</th>\n",
       "      <th>5</th>\n",
       "      <th>6</th>\n",
       "      <th>7</th>\n",
       "      <th>8</th>\n",
       "      <th>9</th>\n",
       "    </tr>\n",
       "  </thead>\n",
       "  <tbody>\n",
       "    <tr>\n",
       "      <th>0</th>\n",
       "      <td>1.000000e+00</td>\n",
       "      <td>0.000049</td>\n",
       "      <td>0.000032</td>\n",
       "      <td>0.000004</td>\n",
       "      <td>0.000372</td>\n",
       "      <td>0.109800</td>\n",
       "      <td>0.000215</td>\n",
       "      <td>0.013352</td>\n",
       "      <td>2.252222e-07</td>\n",
       "      <td>3.395972e-09</td>\n",
       "    </tr>\n",
       "    <tr>\n",
       "      <th>1</th>\n",
       "      <td>4.915199e-05</td>\n",
       "      <td>1.000000</td>\n",
       "      <td>0.885683</td>\n",
       "      <td>0.040645</td>\n",
       "      <td>0.060138</td>\n",
       "      <td>0.000134</td>\n",
       "      <td>0.599331</td>\n",
       "      <td>0.079672</td>\n",
       "      <td>4.311266e-02</td>\n",
       "      <td>9.644184e-03</td>\n",
       "    </tr>\n",
       "    <tr>\n",
       "      <th>2</th>\n",
       "      <td>3.248399e-05</td>\n",
       "      <td>0.885683</td>\n",
       "      <td>1.000000</td>\n",
       "      <td>0.098588</td>\n",
       "      <td>0.056284</td>\n",
       "      <td>0.000104</td>\n",
       "      <td>0.711385</td>\n",
       "      <td>0.090295</td>\n",
       "      <td>2.026039e-01</td>\n",
       "      <td>2.662616e-02</td>\n",
       "    </tr>\n",
       "    <tr>\n",
       "      <th>3</th>\n",
       "      <td>3.850666e-06</td>\n",
       "      <td>0.040645</td>\n",
       "      <td>0.098588</td>\n",
       "      <td>1.000000</td>\n",
       "      <td>0.068878</td>\n",
       "      <td>0.000076</td>\n",
       "      <td>0.096036</td>\n",
       "      <td>0.005396</td>\n",
       "      <td>7.820200e-02</td>\n",
       "      <td>8.825744e-02</td>\n",
       "    </tr>\n",
       "    <tr>\n",
       "      <th>4</th>\n",
       "      <td>3.716275e-04</td>\n",
       "      <td>0.060138</td>\n",
       "      <td>0.056284</td>\n",
       "      <td>0.068878</td>\n",
       "      <td>1.000000</td>\n",
       "      <td>0.000180</td>\n",
       "      <td>0.004067</td>\n",
       "      <td>0.048763</td>\n",
       "      <td>3.481536e-03</td>\n",
       "      <td>1.910025e-02</td>\n",
       "    </tr>\n",
       "    <tr>\n",
       "      <th>5</th>\n",
       "      <td>1.097998e-01</td>\n",
       "      <td>0.000134</td>\n",
       "      <td>0.000104</td>\n",
       "      <td>0.000076</td>\n",
       "      <td>0.000180</td>\n",
       "      <td>1.000000</td>\n",
       "      <td>0.002226</td>\n",
       "      <td>0.002407</td>\n",
       "      <td>7.399575e-05</td>\n",
       "      <td>1.952299e-05</td>\n",
       "    </tr>\n",
       "    <tr>\n",
       "      <th>6</th>\n",
       "      <td>2.148538e-04</td>\n",
       "      <td>0.599331</td>\n",
       "      <td>0.711385</td>\n",
       "      <td>0.096036</td>\n",
       "      <td>0.004067</td>\n",
       "      <td>0.002226</td>\n",
       "      <td>1.000000</td>\n",
       "      <td>0.085605</td>\n",
       "      <td>1.289062e-01</td>\n",
       "      <td>5.189183e-02</td>\n",
       "    </tr>\n",
       "    <tr>\n",
       "      <th>7</th>\n",
       "      <td>1.335240e-02</td>\n",
       "      <td>0.079672</td>\n",
       "      <td>0.090295</td>\n",
       "      <td>0.005396</td>\n",
       "      <td>0.048763</td>\n",
       "      <td>0.002407</td>\n",
       "      <td>0.085605</td>\n",
       "      <td>1.000000</td>\n",
       "      <td>3.485904e-04</td>\n",
       "      <td>1.019278e-04</td>\n",
       "    </tr>\n",
       "    <tr>\n",
       "      <th>8</th>\n",
       "      <td>2.252222e-07</td>\n",
       "      <td>0.043113</td>\n",
       "      <td>0.202604</td>\n",
       "      <td>0.078202</td>\n",
       "      <td>0.003482</td>\n",
       "      <td>0.000074</td>\n",
       "      <td>0.128906</td>\n",
       "      <td>0.000349</td>\n",
       "      <td>1.000000e+00</td>\n",
       "      <td>7.728399e-01</td>\n",
       "    </tr>\n",
       "    <tr>\n",
       "      <th>9</th>\n",
       "      <td>3.395972e-09</td>\n",
       "      <td>0.009644</td>\n",
       "      <td>0.026626</td>\n",
       "      <td>0.088257</td>\n",
       "      <td>0.019100</td>\n",
       "      <td>0.000020</td>\n",
       "      <td>0.051892</td>\n",
       "      <td>0.000102</td>\n",
       "      <td>7.728399e-01</td>\n",
       "      <td>1.000000e+00</td>\n",
       "    </tr>\n",
       "  </tbody>\n",
       "</table>\n",
       "</div>"
      ],
      "text/plain": [
       "              0         1         2         3         4         5         6  \\\n",
       "0  1.000000e+00  0.000049  0.000032  0.000004  0.000372  0.109800  0.000215   \n",
       "1  4.915199e-05  1.000000  0.885683  0.040645  0.060138  0.000134  0.599331   \n",
       "2  3.248399e-05  0.885683  1.000000  0.098588  0.056284  0.000104  0.711385   \n",
       "3  3.850666e-06  0.040645  0.098588  1.000000  0.068878  0.000076  0.096036   \n",
       "4  3.716275e-04  0.060138  0.056284  0.068878  1.000000  0.000180  0.004067   \n",
       "5  1.097998e-01  0.000134  0.000104  0.000076  0.000180  1.000000  0.002226   \n",
       "6  2.148538e-04  0.599331  0.711385  0.096036  0.004067  0.002226  1.000000   \n",
       "7  1.335240e-02  0.079672  0.090295  0.005396  0.048763  0.002407  0.085605   \n",
       "8  2.252222e-07  0.043113  0.202604  0.078202  0.003482  0.000074  0.128906   \n",
       "9  3.395972e-09  0.009644  0.026626  0.088257  0.019100  0.000020  0.051892   \n",
       "\n",
       "          7             8             9  \n",
       "0  0.013352  2.252222e-07  3.395972e-09  \n",
       "1  0.079672  4.311266e-02  9.644184e-03  \n",
       "2  0.090295  2.026039e-01  2.662616e-02  \n",
       "3  0.005396  7.820200e-02  8.825744e-02  \n",
       "4  0.048763  3.481536e-03  1.910025e-02  \n",
       "5  0.002407  7.399575e-05  1.952299e-05  \n",
       "6  0.085605  1.289062e-01  5.189183e-02  \n",
       "7  1.000000  3.485904e-04  1.019278e-04  \n",
       "8  0.000349  1.000000e+00  7.728399e-01  \n",
       "9  0.000102  7.728399e-01  1.000000e+00  "
      ]
     },
     "metadata": {},
     "output_type": "display_data"
    },
    {
     "name": "stdout",
     "output_type": "stream",
     "text": [
      "Significant Differences:  21\n",
      "\n",
      "Prominence GC-bin KS Test:\n"
     ]
    },
    {
     "data": {
      "text/html": [
       "<div>\n",
       "<style scoped>\n",
       "    .dataframe tbody tr th:only-of-type {\n",
       "        vertical-align: middle;\n",
       "    }\n",
       "\n",
       "    .dataframe tbody tr th {\n",
       "        vertical-align: top;\n",
       "    }\n",
       "\n",
       "    .dataframe thead th {\n",
       "        text-align: right;\n",
       "    }\n",
       "</style>\n",
       "<table border=\"1\" class=\"dataframe\">\n",
       "  <thead>\n",
       "    <tr style=\"text-align: right;\">\n",
       "      <th></th>\n",
       "      <th>0</th>\n",
       "      <th>1</th>\n",
       "      <th>2</th>\n",
       "      <th>3</th>\n",
       "      <th>4</th>\n",
       "      <th>5</th>\n",
       "      <th>6</th>\n",
       "      <th>7</th>\n",
       "      <th>8</th>\n",
       "      <th>9</th>\n",
       "    </tr>\n",
       "  </thead>\n",
       "  <tbody>\n",
       "    <tr>\n",
       "      <th>0</th>\n",
       "      <td>1.000000</td>\n",
       "      <td>0.000103</td>\n",
       "      <td>0.000070</td>\n",
       "      <td>0.002497</td>\n",
       "      <td>0.000674</td>\n",
       "      <td>0.397585</td>\n",
       "      <td>0.012197</td>\n",
       "      <td>0.009467</td>\n",
       "      <td>0.000672</td>\n",
       "      <td>0.000324</td>\n",
       "    </tr>\n",
       "    <tr>\n",
       "      <th>1</th>\n",
       "      <td>0.000103</td>\n",
       "      <td>1.000000</td>\n",
       "      <td>0.765914</td>\n",
       "      <td>0.133851</td>\n",
       "      <td>0.209137</td>\n",
       "      <td>0.000089</td>\n",
       "      <td>0.711385</td>\n",
       "      <td>0.080033</td>\n",
       "      <td>0.379039</td>\n",
       "      <td>0.148268</td>\n",
       "    </tr>\n",
       "    <tr>\n",
       "      <th>2</th>\n",
       "      <td>0.000070</td>\n",
       "      <td>0.765914</td>\n",
       "      <td>1.000000</td>\n",
       "      <td>0.323947</td>\n",
       "      <td>0.384812</td>\n",
       "      <td>0.000063</td>\n",
       "      <td>0.544268</td>\n",
       "      <td>0.087145</td>\n",
       "      <td>0.718289</td>\n",
       "      <td>0.356404</td>\n",
       "    </tr>\n",
       "    <tr>\n",
       "      <th>3</th>\n",
       "      <td>0.002497</td>\n",
       "      <td>0.133851</td>\n",
       "      <td>0.323947</td>\n",
       "      <td>1.000000</td>\n",
       "      <td>0.475272</td>\n",
       "      <td>0.000049</td>\n",
       "      <td>0.068526</td>\n",
       "      <td>0.021077</td>\n",
       "      <td>0.112053</td>\n",
       "      <td>0.103570</td>\n",
       "    </tr>\n",
       "    <tr>\n",
       "      <th>4</th>\n",
       "      <td>0.000674</td>\n",
       "      <td>0.209137</td>\n",
       "      <td>0.384812</td>\n",
       "      <td>0.475272</td>\n",
       "      <td>1.000000</td>\n",
       "      <td>0.000534</td>\n",
       "      <td>0.370435</td>\n",
       "      <td>0.053245</td>\n",
       "      <td>0.052324</td>\n",
       "      <td>0.247208</td>\n",
       "    </tr>\n",
       "    <tr>\n",
       "      <th>5</th>\n",
       "      <td>0.397585</td>\n",
       "      <td>0.000089</td>\n",
       "      <td>0.000063</td>\n",
       "      <td>0.000049</td>\n",
       "      <td>0.000534</td>\n",
       "      <td>1.000000</td>\n",
       "      <td>0.004811</td>\n",
       "      <td>0.004824</td>\n",
       "      <td>0.000159</td>\n",
       "      <td>0.000313</td>\n",
       "    </tr>\n",
       "    <tr>\n",
       "      <th>6</th>\n",
       "      <td>0.012197</td>\n",
       "      <td>0.711385</td>\n",
       "      <td>0.544268</td>\n",
       "      <td>0.068526</td>\n",
       "      <td>0.370435</td>\n",
       "      <td>0.004811</td>\n",
       "      <td>1.000000</td>\n",
       "      <td>0.382392</td>\n",
       "      <td>0.602848</td>\n",
       "      <td>0.258722</td>\n",
       "    </tr>\n",
       "    <tr>\n",
       "      <th>7</th>\n",
       "      <td>0.009467</td>\n",
       "      <td>0.080033</td>\n",
       "      <td>0.087145</td>\n",
       "      <td>0.021077</td>\n",
       "      <td>0.053245</td>\n",
       "      <td>0.004824</td>\n",
       "      <td>0.382392</td>\n",
       "      <td>1.000000</td>\n",
       "      <td>0.069039</td>\n",
       "      <td>0.012746</td>\n",
       "    </tr>\n",
       "    <tr>\n",
       "      <th>8</th>\n",
       "      <td>0.000672</td>\n",
       "      <td>0.379039</td>\n",
       "      <td>0.718289</td>\n",
       "      <td>0.112053</td>\n",
       "      <td>0.052324</td>\n",
       "      <td>0.000159</td>\n",
       "      <td>0.602848</td>\n",
       "      <td>0.069039</td>\n",
       "      <td>1.000000</td>\n",
       "      <td>0.628029</td>\n",
       "    </tr>\n",
       "    <tr>\n",
       "      <th>9</th>\n",
       "      <td>0.000324</td>\n",
       "      <td>0.148268</td>\n",
       "      <td>0.356404</td>\n",
       "      <td>0.103570</td>\n",
       "      <td>0.247208</td>\n",
       "      <td>0.000313</td>\n",
       "      <td>0.258722</td>\n",
       "      <td>0.012746</td>\n",
       "      <td>0.628029</td>\n",
       "      <td>1.000000</td>\n",
       "    </tr>\n",
       "  </tbody>\n",
       "</table>\n",
       "</div>"
      ],
      "text/plain": [
       "          0         1         2         3         4         5         6  \\\n",
       "0  1.000000  0.000103  0.000070  0.002497  0.000674  0.397585  0.012197   \n",
       "1  0.000103  1.000000  0.765914  0.133851  0.209137  0.000089  0.711385   \n",
       "2  0.000070  0.765914  1.000000  0.323947  0.384812  0.000063  0.544268   \n",
       "3  0.002497  0.133851  0.323947  1.000000  0.475272  0.000049  0.068526   \n",
       "4  0.000674  0.209137  0.384812  0.475272  1.000000  0.000534  0.370435   \n",
       "5  0.397585  0.000089  0.000063  0.000049  0.000534  1.000000  0.004811   \n",
       "6  0.012197  0.711385  0.544268  0.068526  0.370435  0.004811  1.000000   \n",
       "7  0.009467  0.080033  0.087145  0.021077  0.053245  0.004824  0.382392   \n",
       "8  0.000672  0.379039  0.718289  0.112053  0.052324  0.000159  0.602848   \n",
       "9  0.000324  0.148268  0.356404  0.103570  0.247208  0.000313  0.258722   \n",
       "\n",
       "          7         8         9  \n",
       "0  0.009467  0.000672  0.000324  \n",
       "1  0.080033  0.379039  0.148268  \n",
       "2  0.087145  0.718289  0.356404  \n",
       "3  0.021077  0.112053  0.103570  \n",
       "4  0.053245  0.052324  0.247208  \n",
       "5  0.004824  0.000159  0.000313  \n",
       "6  0.382392  0.602848  0.258722  \n",
       "7  1.000000  0.069039  0.012746  \n",
       "8  0.069039  1.000000  0.628029  \n",
       "9  0.012746  0.628029  1.000000  "
      ]
     },
     "metadata": {},
     "output_type": "display_data"
    },
    {
     "name": "stdout",
     "output_type": "stream",
     "text": [
      "Significant Differences:  15\n"
     ]
    }
   ],
   "source": [
    "null_ism_kstest_dict = {0:[], 1:[], 2:[], 3:[], 4:[], 5:[], 6:[], 7:[], 8:[], 9:[]}\n",
    "null_explain_kstest_dict = {0:[], 1:[], 2:[], 3:[], 4:[], 5:[], 6:[], 7:[], 8:[], 9:[]}\n",
    "null_delta_kstest_dict = {0:[], 1:[], 2:[], 3:[], 4:[], 5:[], 6:[], 7:[], 8:[], 9:[]}\n",
    "null_magnitude_kstest_dict = {0:[], 1:[], 2:[], 3:[], 4:[], 5:[], 6:[], 7:[], 8:[], 9:[]}\n",
    "null_prominence_kstest_dict = {0:[], 1:[], 2:[], 3:[], 4:[], 5:[], 6:[], 7:[], 8:[], 9:[]}\n",
    "\n",
    "for i in range(10):\n",
    "    for j in range(10):\n",
    "        null_ism_kstest_dict[j].append(ks_2samp(list(null_scores.loc[null_scores['gc_bin'] == i]['null_ism_score']),\n",
    "                                                      list(null_scores.loc[null_scores['gc_bin'] == j]['null_ism_score']))[1])\n",
    "        null_explain_kstest_dict[j].append(ks_2samp(list(null_scores.loc[null_scores['gc_bin'] == i]['null_explain_score']),\n",
    "                                                          list(null_scores.loc[null_scores['gc_bin'] == j]['null_explain_score']))[1])\n",
    "        null_delta_kstest_dict[j].append(ks_2samp(list(null_scores.loc[null_scores['gc_bin'] == i]['null_delta_score']),\n",
    "                                                        list(null_scores.loc[null_scores['gc_bin'] == j]['null_delta_score']))[1])\n",
    "        null_magnitude_kstest_dict[j].append(ks_2samp(list(null_scores.loc[null_scores['gc_bin'] == i]['null_magnitude_score']),\n",
    "                                                            list(null_scores.loc[null_scores['gc_bin'] == j]['null_magnitude_score']))[1])\n",
    "        null_prominence_kstest_dict[j].append(ks_2samp(list(null_scores.loc[null_scores['gc_bin'] == i]['null_prominence_score']),\n",
    "                                                             list(null_scores.loc[null_scores['gc_bin'] == j]['null_prominence_score']))[1])\n",
    "        \n",
    "null_ism_kstest_df = pd.DataFrame.from_dict(null_ism_kstest_dict)\n",
    "print('ISM GC-bin KS Test:')\n",
    "display(null_ism_kstest_df)\n",
    "print('Significant Differences: ', int(sum([(null_ism_kstest_df[i] < 0.01).sum() for i in range(10)]) / 2))\n",
    "print()\n",
    "null_explain_kstest_df = pd.DataFrame.from_dict(null_explain_kstest_dict)\n",
    "print('GkmExplain GC-bin KS Test:')\n",
    "display(null_explain_kstest_df)\n",
    "print('Significant Differences: ', int(sum([(null_explain_kstest_df[i] < 0.01).sum() for i in range(10)]) / 2))\n",
    "print()\n",
    "null_delta_kstest_df = pd.DataFrame.from_dict(null_delta_kstest_dict)\n",
    "print('deltaSVM GC-bin KS Test:')\n",
    "display(null_delta_kstest_df)\n",
    "print('Significant Differences: ', int(sum([(null_delta_kstest_df[i] < 0.01).sum() for i in range(10)]) / 2))\n",
    "print()\n",
    "null_magnitude_kstest_df = pd.DataFrame.from_dict(null_magnitude_kstest_dict)\n",
    "print('Magnitude GC-bin KS Test:')\n",
    "display(null_magnitude_kstest_df)\n",
    "print('Significant Differences: ', int(sum([(null_magnitude_kstest_df[i] < 0.01).sum() for i in range(10)]) / 2))\n",
    "print()\n",
    "null_prominence_kstest_df = pd.DataFrame.from_dict(null_prominence_kstest_dict)\n",
    "print('Prominence GC-bin KS Test:')\n",
    "display(null_prominence_kstest_df)\n",
    "print('Significant Differences: ', int(sum([(null_prominence_kstest_df[i] < 0.01).sum() for i in range(10)]) / 2))"
   ]
  },
  {
   "cell_type": "markdown",
   "metadata": {},
   "source": [
    "# Plot Null GkmExplain Score Distribution by GC Bin <a name='plot_score_distrib' />"
   ]
  },
  {
   "cell_type": "code",
   "execution_count": 13,
   "metadata": {},
   "outputs": [
    {
     "data": {
      "image/png": "[encoded data removed]",
      "text/plain": [
       "<Figure size 640x480 with 10 Axes>"
      ]
     },
     "metadata": {},
     "output_type": "display_data"
    },
    {
     "data": {
      "text/plain": [
       "<ggplot: (-9223363266881049968)>"
      ]
     },
     "metadata": {},
     "output_type": "display_data"
    }
   ],
   "source": [
    "display(ggplot(data=null_scores, mapping=aes(x='null_explain_score'))\n",
    "        + geom_histogram(bins=100)\n",
    "        + labs(title='Null GkmExplain Scores by GC Bin: Cluster ' + cluster, x='GkmExplain Score')\n",
    "        + facet_wrap(\"gc_bin\"))"
   ]
  },
  {
   "cell_type": "markdown",
   "metadata": {},
   "source": [
    "# Fit Distribution to Null GkmExplain Scores"
   ]
  },
  {
   "cell_type": "code",
   "execution_count": 14,
   "metadata": {},
   "outputs": [
    {
     "name": "stdout",
     "output_type": "stream",
     "text": [
      "Fitted t Distribution: \n",
      "\n",
      "Mean: \t -0.004756937109210089\n",
      "Stdev: \t 0.20961855937679058\n",
      "\n",
      "KstestResult(statistic=0.004445312347997499, pvalue=0.8580962230672273)\n",
      "\n"
     ]
    },
    {
     "data": {
      "image/png": "[encoded data removed]",
      "text/plain": [
       "<Figure size 640x480 with 1 Axes>"
      ]
     },
     "metadata": {},
     "output_type": "display_data"
    },
    {
     "data": {
      "text/plain": [
       "<ggplot: (-9223363266892276115)>"
      ]
     },
     "metadata": {},
     "output_type": "display_data"
    }
   ],
   "source": [
    "distrib_name = 't'\n",
    "distrib = getattr(scipy.stats, distrib_name)\n",
    "explain_params = distrib.fit(merged_null_explain_scores)\n",
    "x_explain = np.linspace(distrib.ppf(0.0001, *explain_params[:-2], explain_params[-2], explain_params[-1]),\n",
    "                        distrib.ppf(0.9999, *explain_params[:-2], explain_params[-2], explain_params[-1]), 10000)\n",
    "y_explain = distrib.pdf(x_explain, *explain_params[:-2], explain_params[-2], explain_params[-1])\n",
    "distrib_explain = pd.DataFrame(list(zip(x_explain, y_explain)), columns =['x', 'y'])\n",
    "\n",
    "print('Fitted ' + distrib_name + ' Distribution: ')\n",
    "print()\n",
    "print('Mean:', '\\t', explain_params[-2])\n",
    "print('Stdev:', '\\t', explain_params[-1])\n",
    "print()\n",
    "print(kstest(merged_null_explain_scores, distrib_name, args=[*explain_params[:-2], explain_params[-2], explain_params[-1]]))\n",
    "print()\n",
    "\n",
    "display(ggplot(data=null_scores, mapping=aes(x='null_explain_score'))\n",
    "        + geom_histogram(mapping=aes(y='stat(density)'), fill='#ffa500', alpha=0.8, bins=100)\n",
    "        + labs(title='GkmExplain Scores: Cluster ' + cluster, x='GkmExplain Score')\n",
    "        + geom_line(data=distrib_explain, mapping=aes(x='x', y='y'), color='red', size=1)\n",
    "        + geom_vline(mapping=aes(xintercept=distrib.ppf(0.025, *explain_params[:-2], explain_params[-2], explain_params[-1])), color='red')\n",
    "        + geom_vline(mapping=aes(xintercept=distrib.ppf(0.975, *explain_params[:-2], explain_params[-2], explain_params[-1])), color='red')\n",
    "        + geom_histogram(data=snp_scores, mapping=aes(x='explain_score', y='stat(density)'), fill='#0000ff', alpha=0.2, bins=50))"
   ]
  },
  {
   "cell_type": "markdown",
   "metadata": {},
   "source": [
    "# Plot Null ISM Score Distribution by GC Bin"
   ]
  },
  {
   "cell_type": "code",
   "execution_count": 15,
   "metadata": {},
   "outputs": [
    {
     "data": {
      "image/png": "[encoded data removed]",
      "text/plain": [
       "<Figure size 640x480 with 10 Axes>"
      ]
     },
     "metadata": {},
     "output_type": "display_data"
    },
    {
     "data": {
      "text/plain": [
       "<ggplot: (8770139246228)>"
      ]
     },
     "metadata": {},
     "output_type": "display_data"
    }
   ],
   "source": [
    "display(ggplot(data=null_scores, mapping=aes(x='null_ism_score'))\n",
    "        + geom_histogram(bins=100)\n",
    "        + labs(title='Null ISM Scores by GC Bin: Cluster ' + cluster, x='ISM Score')\n",
    "        + facet_wrap(\"gc_bin\"))"
   ]
  },
  {
   "cell_type": "markdown",
   "metadata": {},
   "source": [
    "# Fit Distribution to Null ISM Scores"
   ]
  },
  {
   "cell_type": "code",
   "execution_count": 16,
   "metadata": {},
   "outputs": [
    {
     "name": "stdout",
     "output_type": "stream",
     "text": [
      "Fitted t Distribution: \n",
      "\n",
      "Mean: \t -0.007201368523058688\n",
      "Stdev: \t 0.3123380286607536\n",
      "\n",
      "KstestResult(statistic=0.004392922503243302, pvalue=0.8675729621218214)\n",
      "\n"
     ]
    },
    {
     "data": {
      "image/png": "[encoded data removed]",
      "text/plain": [
       "<Figure size 640x480 with 1 Axes>"
      ]
     },
     "metadata": {},
     "output_type": "display_data"
    },
    {
     "data": {
      "text/plain": [
       "<ggplot: (8769962173220)>"
      ]
     },
     "metadata": {},
     "output_type": "display_data"
    }
   ],
   "source": [
    "distrib_name = 't'\n",
    "distrib = getattr(scipy.stats, distrib_name)\n",
    "ism_params = distrib.fit(merged_null_ism_scores)\n",
    "x_ism = np.linspace(distrib.ppf(0.0001, *ism_params[:-2], ism_params[-2], ism_params[-1]),\n",
    "                        distrib.ppf(0.9999, *ism_params[:-2], ism_params[-2], ism_params[-1]), 10000)\n",
    "y_ism = distrib.pdf(x_ism, *ism_params[:-2], ism_params[-2], ism_params[-1])\n",
    "distrib_ism = pd.DataFrame(list(zip(x_ism, y_ism)), columns =['x', 'y'])\n",
    "\n",
    "print('Fitted ' + distrib_name + ' Distribution: ')\n",
    "print()\n",
    "print('Mean:', '\\t', ism_params[-2])\n",
    "print('Stdev:', '\\t', ism_params[-1])\n",
    "print()\n",
    "print(kstest(merged_null_ism_scores, distrib_name, args=[*ism_params[:-2], ism_params[-2], ism_params[-1]]))\n",
    "print()\n",
    "\n",
    "display(ggplot(data=null_scores, mapping=aes(x='null_ism_score'))\n",
    "        + geom_histogram(mapping=aes(y='stat(density)'), fill='#ffa500', alpha=0.8, bins=100)\n",
    "        + labs(title='ISM Scores: Cluster ' + cluster, x='ISM Score')\n",
    "        + geom_line(data=distrib_ism, mapping=aes(x='x', y='y'), color='red', size=1)\n",
    "        + geom_vline(mapping=aes(xintercept=distrib.ppf(0.025, *ism_params[:-2], ism_params[-2], ism_params[-1])), color='red')\n",
    "        + geom_vline(mapping=aes(xintercept=distrib.ppf(0.975, *ism_params[:-2], ism_params[-2], ism_params[-1])), color='red')\n",
    "        + geom_histogram(data=snp_scores, mapping=aes(x='ism_score', y='stat(density)'), fill='#0000ff', alpha=0.2, bins=50))"
   ]
  },
  {
   "cell_type": "markdown",
   "metadata": {},
   "source": [
    "# Plot Null deltaSVM Score Distribution by GC Bin"
   ]
  },
  {
   "cell_type": "code",
   "execution_count": 17,
   "metadata": {},
   "outputs": [
    {
     "data": {
      "image/png": "[encoded data removed]",
      "text/plain": [
       "<Figure size 640x480 with 10 Axes>"
      ]
     },
     "metadata": {},
     "output_type": "display_data"
    },
    {
     "data": {
      "text/plain": [
       "<ggplot: (-9223363266892251725)>"
      ]
     },
     "metadata": {},
     "output_type": "display_data"
    }
   ],
   "source": [
    "display(ggplot(data=null_scores, mapping=aes(x='null_delta_score'))\n",
    "        + geom_histogram(bins=100)\n",
    "        + labs(title='Null deltaSVM Scores by GC Bin: Cluster ' + cluster, x='deltaSVM Score')\n",
    "        + facet_wrap(\"gc_bin\"))"
   ]
  },
  {
   "cell_type": "markdown",
   "metadata": {},
   "source": [
    "# Fit Distribution to Null deltaSVM Scores"
   ]
  },
  {
   "cell_type": "code",
   "execution_count": 18,
   "metadata": {},
   "outputs": [
    {
     "name": "stdout",
     "output_type": "stream",
     "text": [
      "Fitted t Distribution: \n",
      "\n",
      "Mean: \t -0.04059902373428139\n",
      "Stdev: \t 1.8078971737737\n",
      "\n",
      "KstestResult(statistic=0.003956250148137941, pvalue=0.9342544753640756)\n",
      "\n"
     ]
    },
    {
     "data": {
      "image/png": "[encoded data removed]",
      "text/plain": [
       "<Figure size 640x480 with 1 Axes>"
      ]
     },
     "metadata": {},
     "output_type": "display_data"
    },
    {
     "data": {
      "text/plain": [
       "<ggplot: (-9223363266892818365)>"
      ]
     },
     "metadata": {},
     "output_type": "display_data"
    }
   ],
   "source": [
    "distrib_name = 't'\n",
    "distrib = getattr(scipy.stats, distrib_name)\n",
    "delta_params = distrib.fit(merged_null_delta_scores)\n",
    "x_delta = np.linspace(distrib.ppf(0.0001, *delta_params[:-2], delta_params[-2], delta_params[-1]),\n",
    "                        distrib.ppf(0.9999, *delta_params[:-2], delta_params[-2], delta_params[-1]), 10000)\n",
    "y_delta = distrib.pdf(x_delta, *delta_params[:-2], delta_params[-2], delta_params[-1])\n",
    "distrib_delta = pd.DataFrame(list(zip(x_delta, y_delta)), columns =['x', 'y'])\n",
    "\n",
    "print('Fitted ' + distrib_name + ' Distribution: ')\n",
    "print()\n",
    "print('Mean:', '\\t', delta_params[-2])\n",
    "print('Stdev:', '\\t', delta_params[-1])\n",
    "print()\n",
    "print(kstest(merged_null_delta_scores, distrib_name, args=[*delta_params[:-2], delta_params[-2], delta_params[-1]]))\n",
    "print()\n",
    "\n",
    "display(ggplot(data=null_scores, mapping=aes(x='null_delta_score'))\n",
    "        + geom_histogram(mapping=aes(y='stat(density)'), fill='#ffa500', alpha=0.8, bins=100)\n",
    "        + labs(title='deltaSVM Scores: Cluster ' + cluster, x='deltaSVM Score')\n",
    "        + geom_line(data=distrib_delta, mapping=aes(x='x', y='y'), color='red', size=1)\n",
    "        + geom_vline(mapping=aes(xintercept=distrib.ppf(0.025, *delta_params[:-2], delta_params[-2], delta_params[-1])), color='red')\n",
    "        + geom_vline(mapping=aes(xintercept=distrib.ppf(0.975, *delta_params[:-2], delta_params[-2], delta_params[-1])), color='red')\n",
    "        + geom_histogram(data=snp_scores, mapping=aes(x='delta_score', y='stat(density)'), fill='#0000ff', alpha=0.2, bins=50))"
   ]
  },
  {
   "cell_type": "markdown",
   "metadata": {},
   "source": [
    "# Plot Null Magnitude Score Distribution by GC Bin"
   ]
  },
  {
   "cell_type": "code",
   "execution_count": 19,
   "metadata": {},
   "outputs": [
    {
     "data": {
      "image/png": "[encoded data removed]",
      "text/plain": [
       "<Figure size 640x480 with 10 Axes>"
      ]
     },
     "metadata": {},
     "output_type": "display_data"
    },
    {
     "data": {
      "text/plain": [
       "<ggplot: (8769962156534)>"
      ]
     },
     "metadata": {},
     "output_type": "display_data"
    }
   ],
   "source": [
    "display(ggplot(data=null_scores, mapping=aes(x='null_magnitude_score'))\n",
    "        + geom_histogram(bins=100)\n",
    "        + labs(title='Null Magnitude Scores by GC Bin: Cluster ' + cluster, x='Magnitude Score')\n",
    "        + facet_wrap(\"gc_bin\"))"
   ]
  },
  {
   "cell_type": "markdown",
   "metadata": {},
   "source": [
    "# Plot All Null Magnitude Scores"
   ]
  },
  {
   "cell_type": "code",
   "execution_count": 20,
   "metadata": {},
   "outputs": [
    {
     "name": "stdout",
     "output_type": "stream",
     "text": [
      "Fitted t Distribution: \n",
      "\n",
      "Mean: \t -0.0032601688643770646\n",
      "Stdev: \t 0.07416020658517519\n",
      "\n",
      "KstestResult(statistic=0.03320862279518916, pvalue=3.802320811541402e-18)\n",
      "\n"
     ]
    },
    {
     "data": {
      "image/png": "[encoded data removed]",
      "text/plain": [
       "<Figure size 640x480 with 1 Axes>"
      ]
     },
     "metadata": {},
     "output_type": "display_data"
    },
    {
     "data": {
      "text/plain": [
       "<ggplot: (8769961771349)>"
      ]
     },
     "metadata": {},
     "output_type": "display_data"
    }
   ],
   "source": [
    "distrib_name = 't'\n",
    "distrib = getattr(scipy.stats, distrib_name)\n",
    "magnitude_params = distrib.fit(null_confidence_dict['null_magnitude_score'])\n",
    "x_magnitude = np.linspace(distrib.ppf(0.0001, *magnitude_params[:-2], magnitude_params[-2], magnitude_params[-1]),\n",
    "                        distrib.ppf(0.9999, *magnitude_params[:-2], magnitude_params[-2], magnitude_params[-1]), 10000)\n",
    "y_magnitude = distrib.pdf(x_magnitude, *magnitude_params[:-2], magnitude_params[-2], magnitude_params[-1])\n",
    "distrib_magnitude = pd.DataFrame(list(zip(x_magnitude, y_magnitude)), columns =['x', 'y'])\n",
    "\n",
    "print('Fitted ' + distrib_name + ' Distribution: ')\n",
    "print()\n",
    "print('Mean:', '\\t', magnitude_params[-2])\n",
    "print('Stdev:', '\\t', magnitude_params[-1])\n",
    "print()\n",
    "print(kstest(null_confidence_dict['null_magnitude_score'], distrib_name, args=[*magnitude_params[:-2], magnitude_params[-2], magnitude_params[-1]]))\n",
    "print()\n",
    "\n",
    "null_magnitude_quantiles = list(null_scores['null_magnitude_score'].quantile([0.025, 0.975]))\n",
    "display(ggplot(data=null_scores, mapping=aes(x='null_magnitude_score'))\n",
    "        + geom_histogram(mapping=aes(y='stat(density)'), fill='#ffa500', alpha=0.8, bins=100)\n",
    "        + labs(title='Magnitude Scores: Cluster ' + cluster, x='Magnitude Score')\n",
    "        + geom_line(data=distrib_magnitude, mapping=aes(x='x', y='y'), color='red', size=1)\n",
    "        + geom_vline(mapping=aes(xintercept=null_magnitude_quantiles[0]), color='blue')\n",
    "        + geom_vline(mapping=aes(xintercept=null_magnitude_quantiles[1]), color='blue')\n",
    "        + geom_vline(mapping=aes(xintercept=distrib.ppf(0.025, *magnitude_params[:-2], magnitude_params[-2], magnitude_params[-1])), color='red')\n",
    "        + geom_vline(mapping=aes(xintercept=distrib.ppf(0.975, *magnitude_params[:-2], magnitude_params[-2], magnitude_params[-1])), color='red')\n",
    "        + geom_histogram(data=snp_scores, mapping=aes(x='magnitude_score', y='stat(density)'), fill='#0000ff', alpha=0.2, bins=50))"
   ]
  },
  {
   "cell_type": "markdown",
   "metadata": {},
   "source": [
    "# Plot Null Prominence Score Distribution by GC Bin"
   ]
  },
  {
   "cell_type": "code",
   "execution_count": 21,
   "metadata": {},
   "outputs": [
    {
     "data": {
      "image/png": "[encoded data removed]",
      "text/plain": [
       "<Figure size 640x480 with 10 Axes>"
      ]
     },
     "metadata": {},
     "output_type": "display_data"
    },
    {
     "data": {
      "text/plain": [
       "<ggplot: (8769963218899)>"
      ]
     },
     "metadata": {},
     "output_type": "display_data"
    }
   ],
   "source": [
    "display(ggplot(data=null_scores, mapping=aes(x='null_prominence_score'))\n",
    "        + geom_histogram(bins=100)\n",
    "        + labs(title='Null Prominence Scores by GC Bin: Cluster ' + cluster, x='Prominence Score')\n",
    "        + facet_wrap(\"gc_bin\"))"
   ]
  },
  {
   "cell_type": "markdown",
   "metadata": {},
   "source": [
    "# Plot All Null Prominence Scores"
   ]
  },
  {
   "cell_type": "code",
   "execution_count": 22,
   "metadata": {},
   "outputs": [
    {
     "name": "stdout",
     "output_type": "stream",
     "text": [
      "Fitted t Distribution: \n",
      "\n",
      "Mean: \t -0.0017157310743043885\n",
      "Stdev: \t 0.043378554507059144\n",
      "\n",
      "KstestResult(statistic=0.028125449314150952, pvalue=3.889342506721191e-13)\n",
      "\n"
     ]
    },
    {
     "data": {
      "image/png": "[encoded data removed]",
      "text/plain": [
       "<Figure size 640x480 with 1 Axes>"
      ]
     },
     "metadata": {},
     "output_type": "display_data"
    },
    {
     "data": {
      "text/plain": [
       "<ggplot: (-9223363266892498460)>"
      ]
     },
     "metadata": {},
     "output_type": "display_data"
    }
   ],
   "source": [
    "distrib_name = 't'\n",
    "distrib = getattr(scipy.stats, distrib_name)\n",
    "prominence_params = distrib.fit(null_confidence_dict['null_prominence_score'])\n",
    "x_prominence = np.linspace(distrib.ppf(0.0001, *prominence_params[:-2], prominence_params[-2], prominence_params[-1]),\n",
    "                        distrib.ppf(0.9999, *prominence_params[:-2], prominence_params[-2], prominence_params[-1]), 10000)\n",
    "y_prominence = distrib.pdf(x_prominence, *prominence_params[:-2], prominence_params[-2], prominence_params[-1])\n",
    "distrib_prominence = pd.DataFrame(list(zip(x_prominence, y_prominence)), columns =['x', 'y'])\n",
    "\n",
    "print('Fitted ' + distrib_name + ' Distribution: ')\n",
    "print()\n",
    "print('Mean:', '\\t', prominence_params[-2])\n",
    "print('Stdev:', '\\t', prominence_params[-1])\n",
    "print()\n",
    "print(kstest(null_confidence_dict['null_prominence_score'], distrib_name, args=[*prominence_params[:-2], prominence_params[-2], prominence_params[-1]]))\n",
    "print()\n",
    "null_prominence_quantiles = list(null_scores['null_prominence_score'].quantile([0.025, 0.975]))\n",
    "\n",
    "display(ggplot(data=null_scores, mapping=aes(x='null_prominence_score'))\n",
    "        + geom_histogram(mapping=aes(y='stat(density)'), fill='#ffa500', alpha=0.8, bins=100)\n",
    "        + labs(title='Prominence Scores: Cluster ' + cluster, x='Prominence Score')\n",
    "        + geom_line(data=distrib_prominence, mapping=aes(x='x', y='y'), color='red', size=1)\n",
    "        + geom_vline(mapping=aes(xintercept=null_prominence_quantiles[0]), color='blue')\n",
    "        + geom_vline(mapping=aes(xintercept=null_prominence_quantiles[1]), color='blue')\n",
    "        + geom_vline(mapping=aes(xintercept=distrib.ppf(0.025, *prominence_params[:-2], prominence_params[-2], prominence_params[-1])), color='red')\n",
    "        + geom_vline(mapping=aes(xintercept=distrib.ppf(0.975, *prominence_params[:-2], prominence_params[-2], prominence_params[-1])), color='red')\n",
    "        + geom_histogram(data=snp_scores, mapping=aes(x='prominence_score', y='stat(density)'), fill='#0000ff', alpha=0.2, bins=50))"
   ]
  },
  {
   "cell_type": "markdown",
   "metadata": {},
   "source": [
    "# Plot Null Importance Scores"
   ]
  },
  {
   "cell_type": "code",
   "execution_count": 23,
   "metadata": {},
   "outputs": [
    {
     "name": "stdout",
     "output_type": "stream",
     "text": [
      "Fitted t Distribution: \n",
      "\n",
      "Mean: \t 0.004763896514692116\n",
      "Stdev: \t 0.010162775128457452\n",
      "\n"
     ]
    },
    {
     "name": "stdout",
     "output_type": "stream",
     "text": [
      "KstestResult(statistic=0.018271614968535493, pvalue=2.093834412114874e-290)\n",
      "\n"
     ]
    },
    {
     "data": {
      "image/png": "[encoded data removed]",
      "text/plain": [
       "<Figure size 640x480 with 1 Axes>"
      ]
     },
     "metadata": {},
     "output_type": "display_data"
    },
    {
     "data": {
      "text/plain": [
       "<ggplot: (8769962380580)>"
      ]
     },
     "metadata": {},
     "output_type": "display_data"
    }
   ],
   "source": [
    "distrib_name = 't'\n",
    "distrib = getattr(scipy.stats, distrib_name)\n",
    "sampled_null_importance_scores = random.sample(null_importance_scores, 1000000)\n",
    "null_importance_df = pd.DataFrame(sampled_null_importance_scores, columns=['null_importance_score'])\n",
    "importance_params = distrib.fit(sampled_null_importance_scores)\n",
    "x_importance = np.linspace(distrib.ppf(0.0001, *importance_params[:-2], importance_params[-2], importance_params[-1]),\n",
    "                           distrib.ppf(0.9999, *importance_params[:-2], importance_params[-2], importance_params[-1]), 10000)\n",
    "y_importance = distrib.pdf(x_importance, *importance_params[:-2], importance_params[-2], importance_params[-1])\n",
    "distrib_importance = pd.DataFrame(list(zip(x_importance, y_importance)), columns =['x', 'y'])\n",
    "\n",
    "print('Fitted ' + distrib_name + ' Distribution: ')\n",
    "print()\n",
    "print('Mean:', '\\t', importance_params[-2])\n",
    "print('Stdev:', '\\t', importance_params[-1])\n",
    "print()\n",
    "print(stats.kstest(sampled_null_importance_scores, distrib_name, args=[*importance_params[:-2], importance_params[-2], importance_params[-1]]))\n",
    "print()\n",
    "null_importance_quantiles = list(null_importance_df['null_importance_score'].quantile([0.025, 0.975]))\n",
    "\n",
    "display(ggplot(data=null_importance_df, mapping=aes(x='null_importance_score'))       \n",
    "        + geom_histogram(mapping=aes(y='stat(density)'), fill='#ffa500', alpha=0.8, bins=100)\n",
    "        + labs(title='Null Importance Scores: Cluster ' + cluster, x='Null Importance Score')\n",
    "        + geom_vline(mapping=aes(xintercept=null_importance_quantiles[0]), color='blue')\n",
    "        + geom_vline(mapping=aes(xintercept=null_importance_quantiles[1]), color='blue')\n",
    "        + geom_line(data=distrib_importance, mapping=aes(x='x', y='y'), color='red', size=1)\n",
    "        + geom_vline(mapping=aes(xintercept=distrib.ppf(0.025, *importance_params[:-2], importance_params[-2], importance_params[-1])), color='red')\n",
    "        + geom_vline(mapping=aes(xintercept=distrib.ppf(0.975, *importance_params[:-2], importance_params[-2], importance_params[-1])), color='red'))"
   ]
  },
  {
   "cell_type": "markdown",
   "metadata": {},
   "source": [
    "# Get P-Values for SNP Scores <a name='calculate_pvals' />"
   ]
  },
  {
   "cell_type": "code",
   "execution_count": 24,
   "metadata": {},
   "outputs": [
    {
     "name": "stdout",
     "output_type": "stream",
     "text": [
      "Unique Significant SNPs:\n",
      "\n"
     ]
    },
    {
     "data": {
      "text/html": [
       "<div>\n",
       "<style scoped>\n",
       "    .dataframe tbody tr th:only-of-type {\n",
       "        vertical-align: middle;\n",
       "    }\n",
       "\n",
       "    .dataframe tbody tr th {\n",
       "        vertical-align: top;\n",
       "    }\n",
       "\n",
       "    .dataframe thead th {\n",
       "        text-align: right;\n",
       "    }\n",
       "</style>\n",
       "<table border=\"1\" class=\"dataframe\">\n",
       "  <thead>\n",
       "    <tr style=\"text-align: right;\">\n",
       "      <th></th>\n",
       "      <th>chr</th>\n",
       "      <th>start</th>\n",
       "      <th>end</th>\n",
       "      <th>rsid</th>\n",
       "      <th>effect</th>\n",
       "      <th>noneffect</th>\n",
       "      <th>ref</th>\n",
       "      <th>alt</th>\n",
       "      <th>major</th>\n",
       "      <th>minor</th>\n",
       "      <th>direction</th>\n",
       "      <th>locus_num</th>\n",
       "      <th>gc</th>\n",
       "      <th>explain_score</th>\n",
       "      <th>ism_score</th>\n",
       "      <th>delta_score</th>\n",
       "      <th>magnitude_score</th>\n",
       "      <th>prominence_score</th>\n",
       "      <th>gc_bin</th>\n",
       "      <th>gwas</th>\n",
       "      <th>gwas_pval</th>\n",
       "      <th>coloc</th>\n",
       "      <th>active_seqlet</th>\n",
       "      <th>inactive_seqlet</th>\n",
       "      <th>diff_seqlet</th>\n",
       "      <th>active_allele</th>\n",
       "      <th>explain_pval</th>\n",
       "      <th>ism_pval</th>\n",
       "      <th>delta_pval</th>\n",
       "      <th>magnitude_pval</th>\n",
       "      <th>prominence_pval</th>\n",
       "      <th>confidence</th>\n",
       "    </tr>\n",
       "  </thead>\n",
       "  <tbody>\n",
       "    <tr>\n",
       "      <th>148</th>\n",
       "      <td>chr3</td>\n",
       "      <td>49007333</td>\n",
       "      <td>49007334</td>\n",
       "      <td>rs6781790</td>\n",
       "      <td>T</td>\n",
       "      <td>C</td>\n",
       "      <td>C</td>\n",
       "      <td>T</td>\n",
       "      <td>T</td>\n",
       "      <td>C</td>\n",
       "      <td>+</td>\n",
       "      <td>92</td>\n",
       "      <td>0.658</td>\n",
       "      <td>-0.607184</td>\n",
       "      <td>-0.956098</td>\n",
       "      <td>-5.511831</td>\n",
       "      <td>-0.434050</td>\n",
       "      <td>-0.134401</td>\n",
       "      <td>8</td>\n",
       "      <td>Chang_23andMe_Parkinsons</td>\n",
       "      <td>0.00234934</td>\n",
       "      <td>False</td>\n",
       "      <td>GGGCGCTGT</td>\n",
       "      <td>GGGTGCTGT</td>\n",
       "      <td>GGG(C/T)GCTGT</td>\n",
       "      <td>noneffect</td>\n",
       "      <td>0.013879</td>\n",
       "      <td>0.010218</td>\n",
       "      <td>0.010332</td>\n",
       "      <td>0.004000</td>\n",
       "      <td>0.030486</td>\n",
       "      <td>2</td>\n",
       "    </tr>\n",
       "    <tr>\n",
       "      <th>69</th>\n",
       "      <td>chr17</td>\n",
       "      <td>45955512</td>\n",
       "      <td>45955513</td>\n",
       "      <td>rs78555354</td>\n",
       "      <td>G</td>\n",
       "      <td>A</td>\n",
       "      <td>A</td>\n",
       "      <td>G</td>\n",
       "      <td>A</td>\n",
       "      <td>G</td>\n",
       "      <td>-</td>\n",
       "      <td>54</td>\n",
       "      <td>0.522</td>\n",
       "      <td>0.455716</td>\n",
       "      <td>0.708928</td>\n",
       "      <td>4.092548</td>\n",
       "      <td>0.222631</td>\n",
       "      <td>0.091321</td>\n",
       "      <td>3</td>\n",
       "      <td>23andme_PD_hg38</td>\n",
       "      <td>3.22e-22</td>\n",
       "      <td>True</td>\n",
       "      <td>CCCGCCT</td>\n",
       "      <td>CCCACCT</td>\n",
       "      <td>CCC(G/A)CCT</td>\n",
       "      <td>effect</td>\n",
       "      <td>0.048234</td>\n",
       "      <td>0.040545</td>\n",
       "      <td>0.040822</td>\n",
       "      <td>0.053514</td>\n",
       "      <td>0.099351</td>\n",
       "      <td>1</td>\n",
       "    </tr>\n",
       "    <tr>\n",
       "      <th>77</th>\n",
       "      <td>chr17</td>\n",
       "      <td>45992473</td>\n",
       "      <td>45992474</td>\n",
       "      <td>rs17651887</td>\n",
       "      <td>G</td>\n",
       "      <td>A</td>\n",
       "      <td>G</td>\n",
       "      <td>A</td>\n",
       "      <td>G</td>\n",
       "      <td>A</td>\n",
       "      <td>+</td>\n",
       "      <td>54</td>\n",
       "      <td>0.510</td>\n",
       "      <td>-0.622712</td>\n",
       "      <td>-0.976282</td>\n",
       "      <td>-5.608183</td>\n",
       "      <td>-0.131319</td>\n",
       "      <td>-0.042855</td>\n",
       "      <td>3</td>\n",
       "      <td>23andme_PD_hg38</td>\n",
       "      <td>2.19e-22</td>\n",
       "      <td>True</td>\n",
       "      <td>GAGAGTC</td>\n",
       "      <td>GAGGGTC</td>\n",
       "      <td>GAG(A/G)GTC</td>\n",
       "      <td>noneffect</td>\n",
       "      <td>0.012089</td>\n",
       "      <td>0.009058</td>\n",
       "      <td>0.009350</td>\n",
       "      <td>0.199243</td>\n",
       "      <td>0.392973</td>\n",
       "      <td>0</td>\n",
       "    </tr>\n",
       "    <tr>\n",
       "      <th>185</th>\n",
       "      <td>chr8</td>\n",
       "      <td>22604860</td>\n",
       "      <td>22604861</td>\n",
       "      <td>rs3735901</td>\n",
       "      <td>T</td>\n",
       "      <td>C</td>\n",
       "      <td>T</td>\n",
       "      <td>C</td>\n",
       "      <td>T</td>\n",
       "      <td>C</td>\n",
       "      <td>-</td>\n",
       "      <td>125</td>\n",
       "      <td>0.683</td>\n",
       "      <td>0.647217</td>\n",
       "      <td>1.017007</td>\n",
       "      <td>6.713743</td>\n",
       "      <td>0.070075</td>\n",
       "      <td>0.034884</td>\n",
       "      <td>8</td>\n",
       "      <td>Chang_23andMe_Parkinsons</td>\n",
       "      <td>0.0508112</td>\n",
       "      <td>False</td>\n",
       "      <td>CCCTGCC</td>\n",
       "      <td>CCCCGCC</td>\n",
       "      <td>CCC(T/C)GCC</td>\n",
       "      <td>effect</td>\n",
       "      <td>0.008931</td>\n",
       "      <td>0.006519</td>\n",
       "      <td>0.002751</td>\n",
       "      <td>0.392216</td>\n",
       "      <td>0.431676</td>\n",
       "      <td>0</td>\n",
       "    </tr>\n",
       "    <tr>\n",
       "      <th>120</th>\n",
       "      <td>chr19</td>\n",
       "      <td>44915228</td>\n",
       "      <td>44915229</td>\n",
       "      <td>rs12691088</td>\n",
       "      <td>A</td>\n",
       "      <td>G</td>\n",
       "      <td>G</td>\n",
       "      <td>A,C</td>\n",
       "      <td>G</td>\n",
       "      <td>A,C</td>\n",
       "      <td>+</td>\n",
       "      <td>71</td>\n",
       "      <td>0.583</td>\n",
       "      <td>0.507692</td>\n",
       "      <td>0.849107</td>\n",
       "      <td>4.886123</td>\n",
       "      <td>0.000000</td>\n",
       "      <td>0.000000</td>\n",
       "      <td>6</td>\n",
       "      <td>Alzheimers_Kunkle_2019</td>\n",
       "      <td>2.69e-238</td>\n",
       "      <td>True</td>\n",
       "      <td>GGTAGGG</td>\n",
       "      <td>GGTGGGG</td>\n",
       "      <td>GGT(A/G)GGG</td>\n",
       "      <td>effect</td>\n",
       "      <td>0.030735</td>\n",
       "      <td>0.017753</td>\n",
       "      <td>0.018154</td>\n",
       "      <td>0.980162</td>\n",
       "      <td>0.979297</td>\n",
       "      <td>0</td>\n",
       "    </tr>\n",
       "  </tbody>\n",
       "</table>\n",
       "</div>"
      ],
      "text/plain": [
       "       chr     start       end        rsid effect noneffect ref  alt major  \\\n",
       "148   chr3  49007333  49007334   rs6781790      T         C   C    T     T   \n",
       "69   chr17  45955512  45955513  rs78555354      G         A   A    G     A   \n",
       "77   chr17  45992473  45992474  rs17651887      G         A   G    A     G   \n",
       "185   chr8  22604860  22604861   rs3735901      T         C   T    C     T   \n",
       "120  chr19  44915228  44915229  rs12691088      A         G   G  A,C     G   \n",
       "\n",
       "    minor direction  locus_num     gc  explain_score  ism_score  delta_score  \\\n",
       "148     C         +         92  0.658      -0.607184  -0.956098    -5.511831   \n",
       "69      G         -         54  0.522       0.455716   0.708928     4.092548   \n",
       "77      A         +         54  0.510      -0.622712  -0.976282    -5.608183   \n",
       "185     C         -        125  0.683       0.647217   1.017007     6.713743   \n",
       "120   A,C         +         71  0.583       0.507692   0.849107     4.886123   \n",
       "\n",
       "     magnitude_score  prominence_score  gc_bin                      gwas  \\\n",
       "148        -0.434050         -0.134401       8  Chang_23andMe_Parkinsons   \n",
       "69          0.222631          0.091321       3           23andme_PD_hg38   \n",
       "77         -0.131319         -0.042855       3           23andme_PD_hg38   \n",
       "185         0.070075          0.034884       8  Chang_23andMe_Parkinsons   \n",
       "120         0.000000          0.000000       6    Alzheimers_Kunkle_2019   \n",
       "\n",
       "      gwas_pval  coloc active_seqlet inactive_seqlet    diff_seqlet  \\\n",
       "148  0.00234934  False     GGGCGCTGT       GGGTGCTGT  GGG(C/T)GCTGT   \n",
       "69     3.22e-22   True       CCCGCCT         CCCACCT    CCC(G/A)CCT   \n",
       "77     2.19e-22   True       GAGAGTC         GAGGGTC    GAG(A/G)GTC   \n",
       "185   0.0508112  False       CCCTGCC         CCCCGCC    CCC(T/C)GCC   \n",
       "120   2.69e-238   True       GGTAGGG         GGTGGGG    GGT(A/G)GGG   \n",
       "\n",
       "    active_allele  explain_pval  ism_pval  delta_pval  magnitude_pval  \\\n",
       "148     noneffect      0.013879  0.010218    0.010332        0.004000   \n",
       "69         effect      0.048234  0.040545    0.040822        0.053514   \n",
       "77      noneffect      0.012089  0.009058    0.009350        0.199243   \n",
       "185        effect      0.008931  0.006519    0.002751        0.392216   \n",
       "120        effect      0.030735  0.017753    0.018154        0.980162   \n",
       "\n",
       "     prominence_pval  confidence  \n",
       "148         0.030486           2  \n",
       "69          0.099351           1  \n",
       "77          0.392973           0  \n",
       "185         0.431676           0  \n",
       "120         0.979297           0  "
      ]
     },
     "metadata": {},
     "output_type": "display_data"
    },
    {
     "name": "stdout",
     "output_type": "stream",
     "text": [
      "\n",
      "Shape:  (5, 32)\n",
      "\n",
      "SNPs with Significant Scores: \t \t \t 5\n",
      "Significant SNPs with Low Confidence: \t \t 3\n",
      "Significant SNPs with Moderate Confidence: \t 1\n",
      "Significant SNPs with High Confidence: \t \t 1\n",
      "\n",
      "Total SNPs Scored:  \t \t \t \t 191\n",
      "Unique SNPs Scored:  \t \t \t \t 172\n"
     ]
    }
   ],
   "source": [
    "snp_scores['explain_pval'] = [(2 * min(distrib.cdf(x, *explain_params[:-2], explain_params[-2], explain_params[-1]),\n",
    "                                      1 - distrib.cdf(x, *explain_params[:-2], explain_params[-2], explain_params[-1]))) \\\n",
    "                              for x in snp_scores['explain_score']]\n",
    "snp_scores['ism_pval'] = [(2 * min(distrib.cdf(x, *ism_params[:-2], ism_params[-2], ism_params[-1]),\n",
    "                                  1 - distrib.cdf(x, *ism_params[:-2], ism_params[-2], ism_params[-1]))) \\\n",
    "                              for x in snp_scores['ism_score']]\n",
    "snp_scores['delta_pval'] = [(2 * min(distrib.cdf(x, *delta_params[:-2], delta_params[-2], delta_params[-1]),\n",
    "                                  1 - distrib.cdf(x, *delta_params[:-2], delta_params[-2], delta_params[-1]))) \\\n",
    "                              for x in snp_scores['delta_score']]\n",
    "snp_scores['magnitude_pval'] = [(2 * min((percentileofscore(list(null_scores['null_magnitude_score']), x) / 100),\n",
    "                                         (1 - (percentileofscore(list(null_scores['null_magnitude_score']), x) / 100)))) \\\n",
    "                                for x in snp_scores['magnitude_score']]\n",
    "snp_scores['prominence_pval'] = [(2 * min((percentileofscore(list(null_scores['null_prominence_score']), x) / 100),\n",
    "                                          (1 - (percentileofscore(list(null_scores['null_prominence_score']), x) / 100)))) \\\n",
    "                                 for x in snp_scores['prominence_score']]\n",
    "\n",
    "confidence_values = []\n",
    "\n",
    "for index, row in snp_scores.iterrows():\n",
    "    confidence = -1\n",
    "    if row['explain_pval'] < 0.05 and row['ism_pval'] < 0.05 and row['delta_pval'] < 0.5:\n",
    "        confidence += 1\n",
    "        if row['prominence_pval'] < 0.05:\n",
    "            confidence += 2\n",
    "        elif row['magnitude_pval'] < 0.05 or row['prominence_pval'] < 0.10:\n",
    "            confidence += 1\n",
    "    confidence_values.append(confidence)\n",
    "\n",
    "snp_scores['confidence'] = confidence_values\n",
    "snp_scores.sort_values(by=['prominence_pval', 'magnitude_pval', 'explain_pval'], inplace=True)\n",
    "snp_scores.sort_values(by=['confidence'], ascending=False, inplace=True)\n",
    "snp_scores.to_csv('/oak/stanford/groups/akundaje/projects/alzheimers_parkinsons/updated_snp_scores/Cluster'\n",
    "                       + cluster + '.' + celltype + '.updated.snp_scores.tsv', sep='\\t', index=False)\n",
    "\n",
    "sig_snps = snp_scores.loc[snp_scores['confidence'] >= 0].copy()\n",
    "sig_snps = sig_snps.loc[sig_snps['effect'] != 'NA']\n",
    "sig_snps = sig_snps.loc[sig_snps['noneffect'] != 'NA']\n",
    "unique_sig_snps = sig_snps.sort_values(by=['rsid','prominence_pval'])\n",
    "unique_sig_snps.drop_duplicates(subset=['rsid'], inplace=True)\n",
    "unique_sig_snps.sort_values(by=['prominence_pval', 'magnitude_pval', 'explain_pval'], inplace=True)\n",
    "unique_sig_snps.sort_values(by=['confidence'], ascending=False, inplace=True)\n",
    "\n",
    "print('Unique Significant SNPs:')\n",
    "print()\n",
    "display(unique_sig_snps)\n",
    "print()\n",
    "print('Shape: ', unique_sig_snps.shape)\n",
    "print()\n",
    "print('SNPs with Significant Scores:', '\\t', '\\t', '\\t', len(unique_sig_snps))\n",
    "print('Significant SNPs with Low Confidence:', '\\t', '\\t', len(unique_sig_snps.loc[unique_sig_snps['confidence'] == 0]))\n",
    "print('Significant SNPs with Moderate Confidence:', '\\t', len(unique_sig_snps.loc[unique_sig_snps['confidence'] == 1]))\n",
    "print('Significant SNPs with High Confidence:', '\\t', '\\t', len(unique_sig_snps.loc[unique_sig_snps['confidence'] == 2]))\n",
    "print()\n",
    "print('Total SNPs Scored: ', '\\t', '\\t', '\\t', '\\t', len(snp_scores))\n",
    "print('Unique SNPs Scored: ', '\\t', '\\t', '\\t', '\\t', len(snp_scores.sort_values(by='rsid').drop_duplicates(subset='rsid')))"
   ]
  },
  {
   "cell_type": "markdown",
   "metadata": {},
   "source": [
    "# Visualize High Confidence SNPs <a name='visualize_high_conf' />"
   ]
  },
  {
   "cell_type": "code",
   "execution_count": 25,
   "metadata": {},
   "outputs": [
    {
     "name": "stdout",
     "output_type": "stream",
     "text": [
      "\n",
      "Index: 148\n",
      "\n",
      "RSID: rs6781790 \t \t || \t chr3 : 49007333 - 49007334 \t || \t Locus: 92\n",
      "\n",
      "GWAS: Chang_23andMe_Parkinsons \t || \t GWAS P-Value: 2.3493E-03 \t || \t Coloc: False\n",
      "\n",
      "Prominence P-Value: 3.0486E-02 \t || \t Magnitude P-Value: 4.0000E-03 \t || \t Confidence: 2\n",
      "\n",
      "GkmExplain P-Value: 1.3879E-02 \t || \t ISM P-Value: 1.0218E-02 \t || \t deltaSVM P-Value: 1.0332E-02\n",
      "\n",
      "----------------------------------------------------------------------------------------------------\n",
      "\n",
      "Non-Effect Allele: C \t \t || \t Active Seqlet: GGGCGCTGT\n",
      "\n"
     ]
    },
    {
     "data": {
      "image/png": "[encoded data removed]",
      "text/plain": [
       "<Figure size 2000x300 with 1 Axes>"
      ]
     },
     "metadata": {},
     "output_type": "display_data"
    },
    {
     "name": "stdout",
     "output_type": "stream",
     "text": [
      "\n",
      "Effect Allele: T \t \t || \t Inactive Seqlet: GGGTGCTGT\n",
      "\n"
     ]
    },
    {
     "data": {
      "image/png": "[encoded data removed]",
      "text/plain": [
       "<Figure size 2000x300 with 1 Axes>"
      ]
     },
     "metadata": {},
     "output_type": "display_data"
    },
    {
     "name": "stdout",
     "output_type": "stream",
     "text": [
      "\n",
      "Difference Seqlet: GGG(C/T)GCTGT\n",
      "\n"
     ]
    },
    {
     "data": {
      "image/png": "[encoded data removed]",
      "text/plain": [
       "<Figure size 2000x300 with 1 Axes>"
      ]
     },
     "metadata": {},
     "output_type": "display_data"
    },
    {
     "name": "stdout",
     "output_type": "stream",
     "text": [
      "\n",
      "----------------------------------------------------------------------------------------------------\n",
      "----------------------------------------------------------------------------------------------------\n",
      "\n"
     ]
    }
   ],
   "source": [
    "for index,row in unique_sig_snps.loc[unique_sig_snps['confidence'] == 2].iterrows():\n",
    "    print()\n",
    "    print('Index:', index)\n",
    "    print()\n",
    "    print('RSID:', row['rsid'],\n",
    "          '\\t', '\\t', '||', '\\t',\n",
    "          row['chr'], ':', row['start'], '-', row['end'],\n",
    "          '\\t', '||', '\\t',\n",
    "          'Locus:', row['locus_num'])\n",
    "    print()\n",
    "    print('GWAS:', row['gwas'],\n",
    "          '\\t', '||', '\\t',\n",
    "          'GWAS P-Value:', '%.4E' % Decimal(row['gwas_pval']),\n",
    "          '\\t', '||', '\\t',\n",
    "          'Coloc:', row['coloc'])\n",
    "    print()\n",
    "    print('Prominence P-Value:', '%.4E' % Decimal(row['prominence_pval']),\n",
    "          '\\t', '||', '\\t',\n",
    "          'Magnitude P-Value:', '%.4E' % Decimal(row['magnitude_pval']),\n",
    "          '\\t', '||', '\\t',\n",
    "          'Confidence:', row['confidence'])\n",
    "    print()\n",
    "    print('GkmExplain P-Value:', '%.4E' % Decimal(row['explain_pval']),\n",
    "          '\\t', '||', '\\t',\n",
    "          'ISM P-Value:', '%.4E' % Decimal(row['ism_pval']),\n",
    "          '\\t', '||', '\\t',\n",
    "          'deltaSVM P-Value:', '%.4E' % Decimal(row['delta_pval']))    \n",
    "    print()\n",
    "    print('-'*100)\n",
    "    print()\n",
    "    \n",
    "    #--------------------------------------#\n",
    "    \n",
    "    if row['active_allele'] == 'effect':\n",
    "        if row['effect'] != 'NA':\n",
    "            print('Effect Allele:', row['effect'],\n",
    "                  '\\t', '\\t', '||', '\\t',\n",
    "                  'Active Seqlet:', row['active_seqlet'])\n",
    "        else:\n",
    "            print('Minor Allele:', row['minor'],\n",
    "                  '\\t', '\\t', '||', '\\t',\n",
    "                  'Active Seqlet:', row['active_seqlet'])\n",
    "        print()\n",
    "        ylim = plot_weights(merged_observed_effect_scores[index],\n",
    "                            subticks_frequency=10, xlim=(400,600))\n",
    "        print()\n",
    "    else:\n",
    "        if row['noneffect'] != 'NA':\n",
    "            print('Non-Effect Allele:', row['noneffect'],\n",
    "                  '\\t', '\\t', '||', '\\t',\n",
    "                  'Active Seqlet:', row['active_seqlet'])\n",
    "        else:\n",
    "            print('Major Allele:', row['major'],\n",
    "                  '\\t', '\\t', '||', '\\t',\n",
    "                  'Active Seqlet:', row['active_seqlet'])\n",
    "        print()\n",
    "        ylim = plot_weights(merged_observed_noneffect_scores[index],\n",
    "                            subticks_frequency=10, xlim=(400,600))\n",
    "        print()\n",
    "        \n",
    "    #--------------------------------------#\n",
    "        \n",
    "    if row['active_allele'] != 'effect':\n",
    "        if row['effect'] != 'NA':\n",
    "            print('Effect Allele:', row['effect'],\n",
    "                  '\\t', '\\t', '||', '\\t',\n",
    "                  'Inactive Seqlet:', row['inactive_seqlet'])\n",
    "        else:\n",
    "            print('Minor Allele:', row['minor'],\n",
    "                  '\\t', '\\t', '||', '\\t',\n",
    "                  'Inactive Seqlet:', row['inactive_seqlet'])\n",
    "        print()\n",
    "        a = plot_weights(merged_observed_effect_scores[index],\n",
    "                         subticks_frequency=10, ylim=ylim, xlim=(400,600))\n",
    "        print()\n",
    "    else:\n",
    "        if row['noneffect'] != 'NA':\n",
    "            print('Non-Effect Allele:', row['noneffect'],\n",
    "                  '\\t', '\\t', '||', '\\t',\n",
    "                  'Inactive Seqlet:', row['inactive_seqlet'])\n",
    "        else:\n",
    "            print('Major Allele:', row['major'],\n",
    "                  '\\t', '\\t', '||', '\\t',\n",
    "                  'Inactive Seqlet:', row['inactive_seqlet'])\n",
    "        print()\n",
    "        a = plot_weights(merged_observed_noneffect_scores[index],\n",
    "                         subticks_frequency=10, ylim=ylim, xlim=(400,600))\n",
    "        print()\n",
    "    \n",
    "    #--------------------------------------#\n",
    "    \n",
    "    print('Difference Seqlet:', row['diff_seqlet'])\n",
    "    print()\n",
    "    if row['active_allele'] == 'effect':\n",
    "        a = plot_weights(merged_observed_noneffect_scores[index] - merged_observed_effect_scores[index],\n",
    "                         subticks_frequency=10, xlim=(400,600))\n",
    "    else:\n",
    "        a = plot_weights(merged_observed_effect_scores[index] - merged_observed_noneffect_scores[index],\n",
    "                         subticks_frequency=10, xlim=(400,600))\n",
    "    print()\n",
    "    print('-'*100)\n",
    "    print('-'*100)\n",
    "    print()"
   ]
  },
  {
   "cell_type": "markdown",
   "metadata": {},
   "source": [
    "## Generate Signal Tracks"
   ]
  },
  {
   "cell_type": "code",
   "execution_count": 26,
   "metadata": {},
   "outputs": [
    {
     "name": "stdout",
     "output_type": "stream",
     "text": [
      "INFO:pygenometracks.tracksClass:time initializing track(s):\r\n",
      "INFO:pygenometracks.tracksClass:0.19319438934326172\r\n",
      "DEBUG:pygenometracks.tracksClass:Figure size in cm is 40 x 114.375. Dpi is set to 72\r\n",
      "\r\n"
     ]
    },
    {
     "name": "stdout",
     "output_type": "stream",
     "text": [
      "INFO:pygenometracks.tracksClass:plotting 1. [cluster1]\r\n"
     ]
    },
    {
     "name": "stdout",
     "output_type": "stream",
     "text": [
      "INFO:pygenometracks.tracksClass:plotting 2. [spacer]\r\n"
     ]
    },
    {
     "name": "stdout",
     "output_type": "stream",
     "text": [
      "INFO:pygenometracks.tracksClass:plotting 3. [cluster2]\r\n"
     ]
    },
    {
     "name": "stdout",
     "output_type": "stream",
     "text": [
      "INFO:pygenometracks.tracksClass:plotting 4. [spacer]\r\n"
     ]
    },
    {
     "name": "stdout",
     "output_type": "stream",
     "text": [
      "INFO:pygenometracks.tracksClass:plotting 5. [cluster3]\r\n"
     ]
    },
    {
     "name": "stdout",
     "output_type": "stream",
     "text": [
      "INFO:pygenometracks.tracksClass:plotting 6. [spacer]\r\n",
      "INFO:pygenometracks.tracksClass:plotting 7. [cluster4]\r\n"
     ]
    },
    {
     "name": "stdout",
     "output_type": "stream",
     "text": [
      "INFO:pygenometracks.tracksClass:plotting 8. [spacer]\r\n"
     ]
    },
    {
     "name": "stdout",
     "output_type": "stream",
     "text": [
      "INFO:pygenometracks.tracksClass:plotting 9. [cluster5]\r\n"
     ]
    },
    {
     "name": "stdout",
     "output_type": "stream",
     "text": [
      "INFO:pygenometracks.tracksClass:plotting 10. [spacer]\r\n"
     ]
    },
    {
     "name": "stdout",
     "output_type": "stream",
     "text": [
      "INFO:pygenometracks.tracksClass:plotting 11. [cluster6]\r\n"
     ]
    },
    {
     "name": "stdout",
     "output_type": "stream",
     "text": [
      "INFO:pygenometracks.tracksClass:plotting 12. [spacer]\r\n"
     ]
    },
    {
     "name": "stdout",
     "output_type": "stream",
     "text": [
      "INFO:pygenometracks.tracksClass:plotting 13. [cluster7]\r\n"
     ]
    },
    {
     "name": "stdout",
     "output_type": "stream",
     "text": [
      "INFO:pygenometracks.tracksClass:plotting 14. [spacer]\r\n"
     ]
    },
    {
     "name": "stdout",
     "output_type": "stream",
     "text": [
      "INFO:pygenometracks.tracksClass:plotting 15. [cluster8]\r\n"
     ]
    },
    {
     "name": "stdout",
     "output_type": "stream",
     "text": [
      "INFO:pygenometracks.tracksClass:plotting 16. [spacer]\r\n"
     ]
    },
    {
     "name": "stdout",
     "output_type": "stream",
     "text": [
      "INFO:pygenometracks.tracksClass:plotting 17. [cluster9]\r\n"
     ]
    },
    {
     "name": "stdout",
     "output_type": "stream",
     "text": [
      "INFO:pygenometracks.tracksClass:plotting 18. [spacer]\r\n"
     ]
    },
    {
     "name": "stdout",
     "output_type": "stream",
     "text": [
      "INFO:pygenometracks.tracksClass:plotting 19. [cluster10]\r\n"
     ]
    },
    {
     "name": "stdout",
     "output_type": "stream",
     "text": [
      "INFO:pygenometracks.tracksClass:plotting 20. [spacer]\r\n",
      "INFO:pygenometracks.tracksClass:plotting 21. [cluster11]\r\n"
     ]
    },
    {
     "name": "stdout",
     "output_type": "stream",
     "text": [
      "INFO:pygenometracks.tracksClass:plotting 22. [spacer]\r\n"
     ]
    },
    {
     "name": "stdout",
     "output_type": "stream",
     "text": [
      "INFO:pygenometracks.tracksClass:plotting 23. [cluster12]\r\n"
     ]
    },
    {
     "name": "stdout",
     "output_type": "stream",
     "text": [
      "INFO:pygenometracks.tracksClass:plotting 24. [spacer]\r\n",
      "INFO:pygenometracks.tracksClass:plotting 25. [cluster13]\r\n"
     ]
    },
    {
     "name": "stdout",
     "output_type": "stream",
     "text": [
      "INFO:pygenometracks.tracksClass:plotting 26. [spacer]\r\n"
     ]
    },
    {
     "name": "stdout",
     "output_type": "stream",
     "text": [
      "INFO:pygenometracks.tracksClass:plotting 27. [cluster14]\r\n"
     ]
    },
    {
     "name": "stdout",
     "output_type": "stream",
     "text": [
      "INFO:pygenometracks.tracksClass:plotting 28. [spacer]\r\n"
     ]
    },
    {
     "name": "stdout",
     "output_type": "stream",
     "text": [
      "INFO:pygenometracks.tracksClass:plotting 29. [cluster15]\r\n"
     ]
    },
    {
     "name": "stdout",
     "output_type": "stream",
     "text": [
      "INFO:pygenometracks.tracksClass:plotting 30. [spacer]\r\n"
     ]
    },
    {
     "name": "stdout",
     "output_type": "stream",
     "text": [
      "INFO:pygenometracks.tracksClass:plotting 31. [cluster16]\r\n"
     ]
    },
    {
     "name": "stdout",
     "output_type": "stream",
     "text": [
      "INFO:pygenometracks.tracksClass:plotting 32. [spacer]\r\n"
     ]
    },
    {
     "name": "stdout",
     "output_type": "stream",
     "text": [
      "INFO:pygenometracks.tracksClass:plotting 33. [cluster17]\r\n"
     ]
    },
    {
     "name": "stdout",
     "output_type": "stream",
     "text": [
      "INFO:pygenometracks.tracksClass:plotting 34. [spacer]\r\n"
     ]
    },
    {
     "name": "stdout",
     "output_type": "stream",
     "text": [
      "INFO:pygenometracks.tracksClass:plotting 35. [cluster18]\r\n"
     ]
    },
    {
     "name": "stdout",
     "output_type": "stream",
     "text": [
      "INFO:pygenometracks.tracksClass:plotting 36. [spacer]\r\n"
     ]
    },
    {
     "name": "stdout",
     "output_type": "stream",
     "text": [
      "INFO:pygenometracks.tracksClass:plotting 37. [cluster19]\r\n"
     ]
    },
    {
     "name": "stdout",
     "output_type": "stream",
     "text": [
      "INFO:pygenometracks.tracksClass:plotting 38. [spacer]\r\n"
     ]
    },
    {
     "name": "stdout",
     "output_type": "stream",
     "text": [
      "INFO:pygenometracks.tracksClass:plotting 39. [cluster20]\r\n"
     ]
    },
    {
     "name": "stdout",
     "output_type": "stream",
     "text": [
      "INFO:pygenometracks.tracksClass:plotting 40. [spacer]\r\n"
     ]
    },
    {
     "name": "stdout",
     "output_type": "stream",
     "text": [
      "INFO:pygenometracks.tracksClass:plotting 41. [cluster21]\r\n"
     ]
    },
    {
     "name": "stdout",
     "output_type": "stream",
     "text": [
      "INFO:pygenometracks.tracksClass:plotting 42. [spacer]\r\n"
     ]
    },
    {
     "name": "stdout",
     "output_type": "stream",
     "text": [
      "INFO:pygenometracks.tracksClass:plotting 43. [cluster22]\r\n"
     ]
    },
    {
     "name": "stdout",
     "output_type": "stream",
     "text": [
      "INFO:pygenometracks.tracksClass:plotting 44. [spacer]\r\n"
     ]
    },
    {
     "name": "stdout",
     "output_type": "stream",
     "text": [
      "INFO:pygenometracks.tracksClass:plotting 45. [cluster23]\r\n"
     ]
    },
    {
     "name": "stdout",
     "output_type": "stream",
     "text": [
      "INFO:pygenometracks.tracksClass:plotting 46. [spacer]\r\n"
     ]
    },
    {
     "name": "stdout",
     "output_type": "stream",
     "text": [
      "INFO:pygenometracks.tracksClass:plotting 47. [cluster24]\r\n"
     ]
    },
    {
     "name": "stdout",
     "output_type": "stream",
     "text": [
      "INFO:pygenometracks.tracksClass:plotting 48. [spacer]\r\n"
     ]
    },
    {
     "name": "stdout",
     "output_type": "stream",
     "text": [
      "INFO:pygenometracks.tracksClass:plotting 49. [snps]\r\n",
      "DEBUG:pygenometracks.tracks.GenomeTrack:ylim 100,0\r\n",
      "INFO:pygenometracks.tracksClass:plotting 50. [spacer]\r\n"
     ]
    },
    {
     "name": "stdout",
     "output_type": "stream",
     "text": [
      "INFO:pygenometracks.tracksClass:plotting 51. [x-axis]\r\n"
     ]
    },
    {
     "name": "stdout",
     "output_type": "stream",
     "text": [
      "INFO:pygenometracks.tracksClass:time initializing track(s):\r\n",
      "INFO:pygenometracks.tracksClass:0.14445924758911133\r\n",
      "DEBUG:pygenometracks.tracksClass:Figure size in cm is 40 x 114.375. Dpi is set to 72\r\n",
      "\r\n"
     ]
    },
    {
     "name": "stdout",
     "output_type": "stream",
     "text": [
      "INFO:pygenometracks.tracksClass:plotting 1. [cluster1]\r\n"
     ]
    },
    {
     "name": "stdout",
     "output_type": "stream",
     "text": [
      "INFO:pygenometracks.tracksClass:plotting 2. [spacer]\r\n"
     ]
    },
    {
     "name": "stdout",
     "output_type": "stream",
     "text": [
      "INFO:pygenometracks.tracksClass:plotting 3. [cluster2]\r\n"
     ]
    },
    {
     "name": "stdout",
     "output_type": "stream",
     "text": [
      "INFO:pygenometracks.tracksClass:plotting 4. [spacer]\r\n"
     ]
    },
    {
     "name": "stdout",
     "output_type": "stream",
     "text": [
      "INFO:pygenometracks.tracksClass:plotting 5. [cluster3]\r\n"
     ]
    },
    {
     "name": "stdout",
     "output_type": "stream",
     "text": [
      "INFO:pygenometracks.tracksClass:plotting 6. [spacer]\r\n"
     ]
    },
    {
     "name": "stdout",
     "output_type": "stream",
     "text": [
      "INFO:pygenometracks.tracksClass:plotting 7. [cluster4]\r\n"
     ]
    },
    {
     "name": "stdout",
     "output_type": "stream",
     "text": [
      "INFO:pygenometracks.tracksClass:plotting 8. [spacer]\r\n"
     ]
    },
    {
     "name": "stdout",
     "output_type": "stream",
     "text": [
      "INFO:pygenometracks.tracksClass:plotting 9. [cluster5]\r\n"
     ]
    },
    {
     "name": "stdout",
     "output_type": "stream",
     "text": [
      "INFO:pygenometracks.tracksClass:plotting 10. [spacer]\r\n",
      "INFO:pygenometracks.tracksClass:plotting 11. [cluster6]\r\n"
     ]
    },
    {
     "name": "stdout",
     "output_type": "stream",
     "text": [
      "INFO:pygenometracks.tracksClass:plotting 12. [spacer]\r\n"
     ]
    },
    {
     "name": "stdout",
     "output_type": "stream",
     "text": [
      "INFO:pygenometracks.tracksClass:plotting 13. [cluster7]\r\n"
     ]
    },
    {
     "name": "stdout",
     "output_type": "stream",
     "text": [
      "INFO:pygenometracks.tracksClass:plotting 14. [spacer]\r\n",
      "INFO:pygenometracks.tracksClass:plotting 15. [cluster8]\r\n"
     ]
    },
    {
     "name": "stdout",
     "output_type": "stream",
     "text": [
      "INFO:pygenometracks.tracksClass:plotting 16. [spacer]\r\n"
     ]
    },
    {
     "name": "stdout",
     "output_type": "stream",
     "text": [
      "INFO:pygenometracks.tracksClass:plotting 17. [cluster9]\r\n"
     ]
    },
    {
     "name": "stdout",
     "output_type": "stream",
     "text": [
      "INFO:pygenometracks.tracksClass:plotting 18. [spacer]\r\n"
     ]
    },
    {
     "name": "stdout",
     "output_type": "stream",
     "text": [
      "INFO:pygenometracks.tracksClass:plotting 19. [cluster10]\r\n"
     ]
    },
    {
     "name": "stdout",
     "output_type": "stream",
     "text": [
      "INFO:pygenometracks.tracksClass:plotting 20. [spacer]\r\n"
     ]
    },
    {
     "name": "stdout",
     "output_type": "stream",
     "text": [
      "INFO:pygenometracks.tracksClass:plotting 21. [cluster11]\r\n"
     ]
    },
    {
     "name": "stdout",
     "output_type": "stream",
     "text": [
      "INFO:pygenometracks.tracksClass:plotting 22. [spacer]\r\n"
     ]
    },
    {
     "name": "stdout",
     "output_type": "stream",
     "text": [
      "INFO:pygenometracks.tracksClass:plotting 23. [cluster12]\r\n"
     ]
    },
    {
     "name": "stdout",
     "output_type": "stream",
     "text": [
      "INFO:pygenometracks.tracksClass:plotting 24. [spacer]\r\n"
     ]
    },
    {
     "name": "stdout",
     "output_type": "stream",
     "text": [
      "INFO:pygenometracks.tracksClass:plotting 25. [cluster13]\r\n"
     ]
    },
    {
     "name": "stdout",
     "output_type": "stream",
     "text": [
      "INFO:pygenometracks.tracksClass:plotting 26. [spacer]\r\n"
     ]
    },
    {
     "name": "stdout",
     "output_type": "stream",
     "text": [
      "INFO:pygenometracks.tracksClass:plotting 27. [cluster14]\r\n"
     ]
    },
    {
     "name": "stdout",
     "output_type": "stream",
     "text": [
      "INFO:pygenometracks.tracksClass:plotting 28. [spacer]\r\n"
     ]
    },
    {
     "name": "stdout",
     "output_type": "stream",
     "text": [
      "INFO:pygenometracks.tracksClass:plotting 29. [cluster15]\r\n"
     ]
    },
    {
     "name": "stdout",
     "output_type": "stream",
     "text": [
      "INFO:pygenometracks.tracksClass:plotting 30. [spacer]\r\n",
      "INFO:pygenometracks.tracksClass:plotting 31. [cluster16]\r\n"
     ]
    },
    {
     "name": "stdout",
     "output_type": "stream",
     "text": [
      "INFO:pygenometracks.tracksClass:plotting 32. [spacer]\r\n"
     ]
    },
    {
     "name": "stdout",
     "output_type": "stream",
     "text": [
      "INFO:pygenometracks.tracksClass:plotting 33. [cluster17]\r\n"
     ]
    },
    {
     "name": "stdout",
     "output_type": "stream",
     "text": [
      "INFO:pygenometracks.tracksClass:plotting 34. [spacer]\r\n",
      "INFO:pygenometracks.tracksClass:plotting 35. [cluster18]\r\n"
     ]
    },
    {
     "name": "stdout",
     "output_type": "stream",
     "text": [
      "INFO:pygenometracks.tracksClass:plotting 36. [spacer]\r\n"
     ]
    },
    {
     "name": "stdout",
     "output_type": "stream",
     "text": [
      "INFO:pygenometracks.tracksClass:plotting 37. [cluster19]\r\n"
     ]
    },
    {
     "name": "stdout",
     "output_type": "stream",
     "text": [
      "INFO:pygenometracks.tracksClass:plotting 38. [spacer]\r\n",
      "INFO:pygenometracks.tracksClass:plotting 39. [cluster20]\r\n"
     ]
    },
    {
     "name": "stdout",
     "output_type": "stream",
     "text": [
      "INFO:pygenometracks.tracksClass:plotting 40. [spacer]\r\n"
     ]
    },
    {
     "name": "stdout",
     "output_type": "stream",
     "text": [
      "INFO:pygenometracks.tracksClass:plotting 41. [cluster21]\r\n"
     ]
    },
    {
     "name": "stdout",
     "output_type": "stream",
     "text": [
      "INFO:pygenometracks.tracksClass:plotting 42. [spacer]\r\n",
      "INFO:pygenometracks.tracksClass:plotting 43. [cluster22]\r\n"
     ]
    },
    {
     "name": "stdout",
     "output_type": "stream",
     "text": [
      "INFO:pygenometracks.tracksClass:plotting 44. [spacer]\r\n"
     ]
    },
    {
     "name": "stdout",
     "output_type": "stream",
     "text": [
      "INFO:pygenometracks.tracksClass:plotting 45. [cluster23]\r\n"
     ]
    },
    {
     "name": "stdout",
     "output_type": "stream",
     "text": [
      "INFO:pygenometracks.tracksClass:plotting 46. [spacer]\r\n"
     ]
    },
    {
     "name": "stdout",
     "output_type": "stream",
     "text": [
      "INFO:pygenometracks.tracksClass:plotting 47. [cluster24]\r\n"
     ]
    },
    {
     "name": "stdout",
     "output_type": "stream",
     "text": [
      "INFO:pygenometracks.tracksClass:plotting 48. [spacer]\r\n"
     ]
    },
    {
     "name": "stdout",
     "output_type": "stream",
     "text": [
      "INFO:pygenometracks.tracksClass:plotting 49. [snps]\r\n",
      "DEBUG:pygenometracks.tracks.GenomeTrack:ylim 100,0\r\n",
      "INFO:pygenometracks.tracksClass:plotting 50. [spacer]\r\n"
     ]
    },
    {
     "name": "stdout",
     "output_type": "stream",
     "text": [
      "INFO:pygenometracks.tracksClass:plotting 51. [x-axis]\r\n"
     ]
    },
    {
     "name": "stdout",
     "output_type": "stream",
     "text": [
      "INFO:pygenometracks.tracksClass:time initializing track(s):\r\n",
      "INFO:pygenometracks.tracksClass:0.2495284080505371\r\n",
      "DEBUG:pygenometracks.tracksClass:Figure size in cm is 40 x 114.375. Dpi is set to 72\r\n",
      "\r\n"
     ]
    },
    {
     "name": "stdout",
     "output_type": "stream",
     "text": [
      "INFO:pygenometracks.tracksClass:plotting 1. [cluster1]\r\n"
     ]
    },
    {
     "name": "stdout",
     "output_type": "stream",
     "text": [
      "INFO:pygenometracks.tracksClass:plotting 2. [spacer]\r\n"
     ]
    },
    {
     "name": "stdout",
     "output_type": "stream",
     "text": [
      "INFO:pygenometracks.tracksClass:plotting 3. [cluster2]\r\n"
     ]
    },
    {
     "name": "stdout",
     "output_type": "stream",
     "text": [
      "INFO:pygenometracks.tracksClass:plotting 4. [spacer]\r\n",
      "INFO:pygenometracks.tracksClass:plotting 5. [cluster3]\r\n"
     ]
    },
    {
     "name": "stdout",
     "output_type": "stream",
     "text": [
      "INFO:pygenometracks.tracksClass:plotting 6. [spacer]\r\n"
     ]
    },
    {
     "name": "stdout",
     "output_type": "stream",
     "text": [
      "INFO:pygenometracks.tracksClass:plotting 7. [cluster4]\r\n"
     ]
    },
    {
     "name": "stdout",
     "output_type": "stream",
     "text": [
      "INFO:pygenometracks.tracksClass:plotting 8. [spacer]\r\n"
     ]
    },
    {
     "name": "stdout",
     "output_type": "stream",
     "text": [
      "INFO:pygenometracks.tracksClass:plotting 9. [cluster5]\r\n"
     ]
    },
    {
     "name": "stdout",
     "output_type": "stream",
     "text": [
      "INFO:pygenometracks.tracksClass:plotting 10. [spacer]\r\n",
      "INFO:pygenometracks.tracksClass:plotting 11. [cluster6]\r\n"
     ]
    },
    {
     "name": "stdout",
     "output_type": "stream",
     "text": [
      "INFO:pygenometracks.tracksClass:plotting 12. [spacer]\r\n"
     ]
    },
    {
     "name": "stdout",
     "output_type": "stream",
     "text": [
      "INFO:pygenometracks.tracksClass:plotting 13. [cluster7]\r\n"
     ]
    },
    {
     "name": "stdout",
     "output_type": "stream",
     "text": [
      "INFO:pygenometracks.tracksClass:plotting 14. [spacer]\r\n",
      "INFO:pygenometracks.tracksClass:plotting 15. [cluster8]\r\n"
     ]
    },
    {
     "name": "stdout",
     "output_type": "stream",
     "text": [
      "INFO:pygenometracks.tracksClass:plotting 16. [spacer]\r\n"
     ]
    },
    {
     "name": "stdout",
     "output_type": "stream",
     "text": [
      "INFO:pygenometracks.tracksClass:plotting 17. [cluster9]\r\n"
     ]
    },
    {
     "name": "stdout",
     "output_type": "stream",
     "text": [
      "INFO:pygenometracks.tracksClass:plotting 18. [spacer]\r\n"
     ]
    },
    {
     "name": "stdout",
     "output_type": "stream",
     "text": [
      "INFO:pygenometracks.tracksClass:plotting 19. [cluster10]\r\n"
     ]
    },
    {
     "name": "stdout",
     "output_type": "stream",
     "text": [
      "INFO:pygenometracks.tracksClass:plotting 20. [spacer]\r\n"
     ]
    },
    {
     "name": "stdout",
     "output_type": "stream",
     "text": [
      "INFO:pygenometracks.tracksClass:plotting 21. [cluster11]\r\n"
     ]
    },
    {
     "name": "stdout",
     "output_type": "stream",
     "text": [
      "INFO:pygenometracks.tracksClass:plotting 22. [spacer]\r\n",
      "INFO:pygenometracks.tracksClass:plotting 23. [cluster12]\r\n"
     ]
    },
    {
     "name": "stdout",
     "output_type": "stream",
     "text": [
      "INFO:pygenometracks.tracksClass:plotting 24. [spacer]\r\n"
     ]
    },
    {
     "name": "stdout",
     "output_type": "stream",
     "text": [
      "INFO:pygenometracks.tracksClass:plotting 25. [cluster13]\r\n"
     ]
    },
    {
     "name": "stdout",
     "output_type": "stream",
     "text": [
      "INFO:pygenometracks.tracksClass:plotting 26. [spacer]\r\n"
     ]
    },
    {
     "name": "stdout",
     "output_type": "stream",
     "text": [
      "INFO:pygenometracks.tracksClass:plotting 27. [cluster14]\r\n"
     ]
    },
    {
     "name": "stdout",
     "output_type": "stream",
     "text": [
      "INFO:pygenometracks.tracksClass:plotting 28. [spacer]\r\n"
     ]
    },
    {
     "name": "stdout",
     "output_type": "stream",
     "text": [
      "INFO:pygenometracks.tracksClass:plotting 29. [cluster15]\r\n"
     ]
    },
    {
     "name": "stdout",
     "output_type": "stream",
     "text": [
      "INFO:pygenometracks.tracksClass:plotting 30. [spacer]\r\n"
     ]
    },
    {
     "name": "stdout",
     "output_type": "stream",
     "text": [
      "INFO:pygenometracks.tracksClass:plotting 31. [cluster16]\r\n"
     ]
    },
    {
     "name": "stdout",
     "output_type": "stream",
     "text": [
      "INFO:pygenometracks.tracksClass:plotting 32. [spacer]\r\n"
     ]
    },
    {
     "name": "stdout",
     "output_type": "stream",
     "text": [
      "INFO:pygenometracks.tracksClass:plotting 33. [cluster17]\r\n"
     ]
    },
    {
     "name": "stdout",
     "output_type": "stream",
     "text": [
      "INFO:pygenometracks.tracksClass:plotting 34. [spacer]\r\n",
      "INFO:pygenometracks.tracksClass:plotting 35. [cluster18]\r\n"
     ]
    },
    {
     "name": "stdout",
     "output_type": "stream",
     "text": [
      "INFO:pygenometracks.tracksClass:plotting 36. [spacer]\r\n"
     ]
    },
    {
     "name": "stdout",
     "output_type": "stream",
     "text": [
      "INFO:pygenometracks.tracksClass:plotting 37. [cluster19]\r\n"
     ]
    },
    {
     "name": "stdout",
     "output_type": "stream",
     "text": [
      "INFO:pygenometracks.tracksClass:plotting 38. [spacer]\r\n"
     ]
    },
    {
     "name": "stdout",
     "output_type": "stream",
     "text": [
      "INFO:pygenometracks.tracksClass:plotting 39. [cluster20]\r\n"
     ]
    },
    {
     "name": "stdout",
     "output_type": "stream",
     "text": [
      "INFO:pygenometracks.tracksClass:plotting 40. [spacer]\r\n",
      "INFO:pygenometracks.tracksClass:plotting 41. [cluster21]\r\n"
     ]
    },
    {
     "name": "stdout",
     "output_type": "stream",
     "text": [
      "INFO:pygenometracks.tracksClass:plotting 42. [spacer]\r\n"
     ]
    },
    {
     "name": "stdout",
     "output_type": "stream",
     "text": [
      "INFO:pygenometracks.tracksClass:plotting 43. [cluster22]\r\n"
     ]
    },
    {
     "name": "stdout",
     "output_type": "stream",
     "text": [
      "INFO:pygenometracks.tracksClass:plotting 44. [spacer]\r\n",
      "INFO:pygenometracks.tracksClass:plotting 45. [cluster23]\r\n"
     ]
    },
    {
     "name": "stdout",
     "output_type": "stream",
     "text": [
      "INFO:pygenometracks.tracksClass:plotting 46. [spacer]\r\n",
      "INFO:pygenometracks.tracksClass:plotting 47. [cluster24]\r\n"
     ]
    },
    {
     "name": "stdout",
     "output_type": "stream",
     "text": [
      "INFO:pygenometracks.tracksClass:plotting 48. [spacer]\r\n"
     ]
    },
    {
     "name": "stdout",
     "output_type": "stream",
     "text": [
      "INFO:pygenometracks.tracksClass:plotting 49. [snps]\r\n"
     ]
    },
    {
     "name": "stdout",
     "output_type": "stream",
     "text": [
      "DEBUG:pygenometracks.tracks.GenomeTrack:ylim 1939.9999999999998,0\r\n",
      "INFO:pygenometracks.tracksClass:plotting 50. [spacer]\r\n",
      "INFO:pygenometracks.tracksClass:plotting 51. [x-axis]\r\n"
     ]
    },
    {
     "name": "stdout",
     "output_type": "stream",
     "text": [
      "INFO:pygenometracks.tracksClass:time initializing track(s):\r\n",
      "INFO:pygenometracks.tracksClass:0.21226859092712402\r\n",
      "DEBUG:pygenometracks.tracksClass:Figure size in cm is 40 x 114.375. Dpi is set to 72\r\n",
      "\r\n"
     ]
    },
    {
     "name": "stdout",
     "output_type": "stream",
     "text": [
      "INFO:pygenometracks.tracksClass:plotting 1. [cluster1]\r\n"
     ]
    },
    {
     "name": "stdout",
     "output_type": "stream",
     "text": [
      "INFO:pygenometracks.tracksClass:plotting 2. [spacer]\r\n"
     ]
    },
    {
     "name": "stdout",
     "output_type": "stream",
     "text": [
      "INFO:pygenometracks.tracksClass:plotting 3. [cluster2]\r\n"
     ]
    },
    {
     "name": "stdout",
     "output_type": "stream",
     "text": [
      "INFO:pygenometracks.tracksClass:plotting 4. [spacer]\r\n"
     ]
    },
    {
     "name": "stdout",
     "output_type": "stream",
     "text": [
      "INFO:pygenometracks.tracksClass:plotting 5. [cluster3]\r\n"
     ]
    },
    {
     "name": "stdout",
     "output_type": "stream",
     "text": [
      "INFO:pygenometracks.tracksClass:plotting 6. [spacer]\r\n"
     ]
    },
    {
     "name": "stdout",
     "output_type": "stream",
     "text": [
      "INFO:pygenometracks.tracksClass:plotting 7. [cluster4]\r\n"
     ]
    },
    {
     "name": "stdout",
     "output_type": "stream",
     "text": [
      "INFO:pygenometracks.tracksClass:plotting 8. [spacer]\r\n"
     ]
    },
    {
     "name": "stdout",
     "output_type": "stream",
     "text": [
      "INFO:pygenometracks.tracksClass:plotting 9. [cluster5]\r\n"
     ]
    },
    {
     "name": "stdout",
     "output_type": "stream",
     "text": [
      "INFO:pygenometracks.tracksClass:plotting 10. [spacer]\r\n"
     ]
    },
    {
     "name": "stdout",
     "output_type": "stream",
     "text": [
      "INFO:pygenometracks.tracksClass:plotting 11. [cluster6]\r\n"
     ]
    },
    {
     "name": "stdout",
     "output_type": "stream",
     "text": [
      "INFO:pygenometracks.tracksClass:plotting 12. [spacer]\r\n"
     ]
    },
    {
     "name": "stdout",
     "output_type": "stream",
     "text": [
      "INFO:pygenometracks.tracksClass:plotting 13. [cluster7]\r\n"
     ]
    },
    {
     "name": "stdout",
     "output_type": "stream",
     "text": [
      "INFO:pygenometracks.tracksClass:plotting 14. [spacer]\r\n"
     ]
    },
    {
     "name": "stdout",
     "output_type": "stream",
     "text": [
      "INFO:pygenometracks.tracksClass:plotting 15. [cluster8]\r\n"
     ]
    },
    {
     "name": "stdout",
     "output_type": "stream",
     "text": [
      "INFO:pygenometracks.tracksClass:plotting 16. [spacer]\r\n",
      "INFO:pygenometracks.tracksClass:plotting 17. [cluster9]\r\n"
     ]
    },
    {
     "name": "stdout",
     "output_type": "stream",
     "text": [
      "INFO:pygenometracks.tracksClass:plotting 18. [spacer]\r\n"
     ]
    },
    {
     "name": "stdout",
     "output_type": "stream",
     "text": [
      "INFO:pygenometracks.tracksClass:plotting 19. [cluster10]\r\n"
     ]
    },
    {
     "name": "stdout",
     "output_type": "stream",
     "text": [
      "INFO:pygenometracks.tracksClass:plotting 20. [spacer]\r\n"
     ]
    },
    {
     "name": "stdout",
     "output_type": "stream",
     "text": [
      "INFO:pygenometracks.tracksClass:plotting 21. [cluster11]\r\n"
     ]
    },
    {
     "name": "stdout",
     "output_type": "stream",
     "text": [
      "INFO:pygenometracks.tracksClass:plotting 22. [spacer]\r\n"
     ]
    },
    {
     "name": "stdout",
     "output_type": "stream",
     "text": [
      "INFO:pygenometracks.tracksClass:plotting 23. [cluster12]\r\n"
     ]
    },
    {
     "name": "stdout",
     "output_type": "stream",
     "text": [
      "INFO:pygenometracks.tracksClass:plotting 24. [spacer]\r\n"
     ]
    },
    {
     "name": "stdout",
     "output_type": "stream",
     "text": [
      "INFO:pygenometracks.tracksClass:plotting 25. [cluster13]\r\n"
     ]
    },
    {
     "name": "stdout",
     "output_type": "stream",
     "text": [
      "INFO:pygenometracks.tracksClass:plotting 26. [spacer]\r\n"
     ]
    },
    {
     "name": "stdout",
     "output_type": "stream",
     "text": [
      "INFO:pygenometracks.tracksClass:plotting 27. [cluster14]\r\n"
     ]
    },
    {
     "name": "stdout",
     "output_type": "stream",
     "text": [
      "INFO:pygenometracks.tracksClass:plotting 28. [spacer]\r\n"
     ]
    },
    {
     "name": "stdout",
     "output_type": "stream",
     "text": [
      "INFO:pygenometracks.tracksClass:plotting 29. [cluster15]\r\n"
     ]
    },
    {
     "name": "stdout",
     "output_type": "stream",
     "text": [
      "INFO:pygenometracks.tracksClass:plotting 30. [spacer]\r\n"
     ]
    },
    {
     "name": "stdout",
     "output_type": "stream",
     "text": [
      "INFO:pygenometracks.tracksClass:plotting 31. [cluster16]\r\n"
     ]
    },
    {
     "name": "stdout",
     "output_type": "stream",
     "text": [
      "INFO:pygenometracks.tracksClass:plotting 32. [spacer]\r\n",
      "INFO:pygenometracks.tracksClass:plotting 33. [cluster17]\r\n"
     ]
    },
    {
     "name": "stdout",
     "output_type": "stream",
     "text": [
      "INFO:pygenometracks.tracksClass:plotting 34. [spacer]\r\n"
     ]
    },
    {
     "name": "stdout",
     "output_type": "stream",
     "text": [
      "INFO:pygenometracks.tracksClass:plotting 35. [cluster18]\r\n"
     ]
    },
    {
     "name": "stdout",
     "output_type": "stream",
     "text": [
      "INFO:pygenometracks.tracksClass:plotting 36. [spacer]\r\n"
     ]
    },
    {
     "name": "stdout",
     "output_type": "stream",
     "text": [
      "INFO:pygenometracks.tracksClass:plotting 37. [cluster19]\r\n"
     ]
    },
    {
     "name": "stdout",
     "output_type": "stream",
     "text": [
      "INFO:pygenometracks.tracksClass:plotting 38. [spacer]\r\n"
     ]
    },
    {
     "name": "stdout",
     "output_type": "stream",
     "text": [
      "INFO:pygenometracks.tracksClass:plotting 39. [cluster20]\r\n"
     ]
    },
    {
     "name": "stdout",
     "output_type": "stream",
     "text": [
      "INFO:pygenometracks.tracksClass:plotting 40. [spacer]\r\n"
     ]
    },
    {
     "name": "stdout",
     "output_type": "stream",
     "text": [
      "INFO:pygenometracks.tracksClass:plotting 41. [cluster21]\r\n"
     ]
    },
    {
     "name": "stdout",
     "output_type": "stream",
     "text": [
      "INFO:pygenometracks.tracksClass:plotting 42. [spacer]\r\n"
     ]
    },
    {
     "name": "stdout",
     "output_type": "stream",
     "text": [
      "INFO:pygenometracks.tracksClass:plotting 43. [cluster22]\r\n"
     ]
    },
    {
     "name": "stdout",
     "output_type": "stream",
     "text": [
      "INFO:pygenometracks.tracksClass:plotting 44. [spacer]\r\n"
     ]
    },
    {
     "name": "stdout",
     "output_type": "stream",
     "text": [
      "INFO:pygenometracks.tracksClass:plotting 45. [cluster23]\r\n"
     ]
    },
    {
     "name": "stdout",
     "output_type": "stream",
     "text": [
      "INFO:pygenometracks.tracksClass:plotting 46. [spacer]\r\n"
     ]
    },
    {
     "name": "stdout",
     "output_type": "stream",
     "text": [
      "INFO:pygenometracks.tracksClass:plotting 47. [cluster24]\r\n"
     ]
    },
    {
     "name": "stdout",
     "output_type": "stream",
     "text": [
      "INFO:pygenometracks.tracksClass:plotting 48. [spacer]\r\n"
     ]
    },
    {
     "name": "stdout",
     "output_type": "stream",
     "text": [
      "INFO:pygenometracks.tracksClass:plotting 49. [snps]\r\n"
     ]
    },
    {
     "name": "stdout",
     "output_type": "stream",
     "text": [
      "DEBUG:pygenometracks.tracks.GenomeTrack:ylim 1939.9999999999998,0\r\n",
      "INFO:pygenometracks.tracksClass:plotting 50. [spacer]\r\n"
     ]
    },
    {
     "name": "stdout",
     "output_type": "stream",
     "text": [
      "INFO:pygenometracks.tracksClass:plotting 51. [x-axis]\r\n"
     ]
    },
    {
     "name": "stdout",
     "output_type": "stream",
     "text": [
      "INFO:pygenometracks.tracksClass:time initializing track(s):\r\n",
      "INFO:pygenometracks.tracksClass:0.13795685768127441\r\n",
      "DEBUG:pygenometracks.tracksClass:Figure size in cm is 40 x 114.375. Dpi is set to 72\r\n",
      "\r\n"
     ]
    },
    {
     "name": "stdout",
     "output_type": "stream",
     "text": [
      "INFO:pygenometracks.tracksClass:plotting 1. [cluster1]\r\n"
     ]
    },
    {
     "name": "stdout",
     "output_type": "stream",
     "text": [
      "INFO:pygenometracks.tracksClass:plotting 2. [spacer]\r\n",
      "INFO:pygenometracks.tracksClass:plotting 3. [cluster2]\r\n"
     ]
    },
    {
     "name": "stdout",
     "output_type": "stream",
     "text": [
      "INFO:pygenometracks.tracksClass:plotting 4. [spacer]\r\n"
     ]
    },
    {
     "name": "stdout",
     "output_type": "stream",
     "text": [
      "INFO:pygenometracks.tracksClass:plotting 5. [cluster3]\r\n"
     ]
    },
    {
     "name": "stdout",
     "output_type": "stream",
     "text": [
      "INFO:pygenometracks.tracksClass:plotting 6. [spacer]\r\n"
     ]
    },
    {
     "name": "stdout",
     "output_type": "stream",
     "text": [
      "INFO:pygenometracks.tracksClass:plotting 7. [cluster4]\r\n"
     ]
    },
    {
     "name": "stdout",
     "output_type": "stream",
     "text": [
      "INFO:pygenometracks.tracksClass:plotting 8. [spacer]\r\n"
     ]
    },
    {
     "name": "stdout",
     "output_type": "stream",
     "text": [
      "INFO:pygenometracks.tracksClass:plotting 9. [cluster5]\r\n"
     ]
    },
    {
     "name": "stdout",
     "output_type": "stream",
     "text": [
      "INFO:pygenometracks.tracksClass:plotting 10. [spacer]\r\n"
     ]
    },
    {
     "name": "stdout",
     "output_type": "stream",
     "text": [
      "INFO:pygenometracks.tracksClass:plotting 11. [cluster6]\r\n"
     ]
    },
    {
     "name": "stdout",
     "output_type": "stream",
     "text": [
      "INFO:pygenometracks.tracksClass:plotting 12. [spacer]\r\n"
     ]
    },
    {
     "name": "stdout",
     "output_type": "stream",
     "text": [
      "INFO:pygenometracks.tracksClass:plotting 13. [cluster7]\r\n"
     ]
    },
    {
     "name": "stdout",
     "output_type": "stream",
     "text": [
      "INFO:pygenometracks.tracksClass:plotting 14. [spacer]\r\n"
     ]
    },
    {
     "name": "stdout",
     "output_type": "stream",
     "text": [
      "INFO:pygenometracks.tracksClass:plotting 15. [cluster8]\r\n"
     ]
    },
    {
     "name": "stdout",
     "output_type": "stream",
     "text": [
      "INFO:pygenometracks.tracksClass:plotting 16. [spacer]\r\n"
     ]
    },
    {
     "name": "stdout",
     "output_type": "stream",
     "text": [
      "INFO:pygenometracks.tracksClass:plotting 17. [cluster9]\r\n"
     ]
    },
    {
     "name": "stdout",
     "output_type": "stream",
     "text": [
      "INFO:pygenometracks.tracksClass:plotting 18. [spacer]\r\n"
     ]
    },
    {
     "name": "stdout",
     "output_type": "stream",
     "text": [
      "INFO:pygenometracks.tracksClass:plotting 19. [cluster10]\r\n"
     ]
    },
    {
     "name": "stdout",
     "output_type": "stream",
     "text": [
      "INFO:pygenometracks.tracksClass:plotting 20. [spacer]\r\n"
     ]
    },
    {
     "name": "stdout",
     "output_type": "stream",
     "text": [
      "INFO:pygenometracks.tracksClass:plotting 21. [cluster11]\r\n"
     ]
    },
    {
     "name": "stdout",
     "output_type": "stream",
     "text": [
      "INFO:pygenometracks.tracksClass:plotting 22. [spacer]\r\n"
     ]
    },
    {
     "name": "stdout",
     "output_type": "stream",
     "text": [
      "INFO:pygenometracks.tracksClass:plotting 23. [cluster12]\r\n"
     ]
    },
    {
     "name": "stdout",
     "output_type": "stream",
     "text": [
      "INFO:pygenometracks.tracksClass:plotting 24. [spacer]\r\n"
     ]
    },
    {
     "name": "stdout",
     "output_type": "stream",
     "text": [
      "INFO:pygenometracks.tracksClass:plotting 25. [cluster13]\r\n"
     ]
    },
    {
     "name": "stdout",
     "output_type": "stream",
     "text": [
      "INFO:pygenometracks.tracksClass:plotting 26. [spacer]\r\n"
     ]
    },
    {
     "name": "stdout",
     "output_type": "stream",
     "text": [
      "INFO:pygenometracks.tracksClass:plotting 27. [cluster14]\r\n"
     ]
    },
    {
     "name": "stdout",
     "output_type": "stream",
     "text": [
      "INFO:pygenometracks.tracksClass:plotting 28. [spacer]\r\n"
     ]
    },
    {
     "name": "stdout",
     "output_type": "stream",
     "text": [
      "INFO:pygenometracks.tracksClass:plotting 29. [cluster15]\r\n"
     ]
    },
    {
     "name": "stdout",
     "output_type": "stream",
     "text": [
      "INFO:pygenometracks.tracksClass:plotting 30. [spacer]\r\n"
     ]
    },
    {
     "name": "stdout",
     "output_type": "stream",
     "text": [
      "INFO:pygenometracks.tracksClass:plotting 31. [cluster16]\r\n"
     ]
    },
    {
     "name": "stdout",
     "output_type": "stream",
     "text": [
      "INFO:pygenometracks.tracksClass:plotting 32. [spacer]\r\n"
     ]
    },
    {
     "name": "stdout",
     "output_type": "stream",
     "text": [
      "INFO:pygenometracks.tracksClass:plotting 33. [cluster17]\r\n"
     ]
    },
    {
     "name": "stdout",
     "output_type": "stream",
     "text": [
      "INFO:pygenometracks.tracksClass:plotting 34. [spacer]\r\n",
      "INFO:pygenometracks.tracksClass:plotting 35. [cluster18]\r\n"
     ]
    },
    {
     "name": "stdout",
     "output_type": "stream",
     "text": [
      "INFO:pygenometracks.tracksClass:plotting 36. [spacer]\r\n"
     ]
    },
    {
     "name": "stdout",
     "output_type": "stream",
     "text": [
      "INFO:pygenometracks.tracksClass:plotting 37. [cluster19]\r\n"
     ]
    },
    {
     "name": "stdout",
     "output_type": "stream",
     "text": [
      "INFO:pygenometracks.tracksClass:plotting 38. [spacer]\r\n",
      "INFO:pygenometracks.tracksClass:plotting 39. [cluster20]\r\n"
     ]
    },
    {
     "name": "stdout",
     "output_type": "stream",
     "text": [
      "INFO:pygenometracks.tracksClass:plotting 40. [spacer]\r\n"
     ]
    },
    {
     "name": "stdout",
     "output_type": "stream",
     "text": [
      "INFO:pygenometracks.tracksClass:plotting 41. [cluster21]\r\n"
     ]
    },
    {
     "name": "stdout",
     "output_type": "stream",
     "text": [
      "INFO:pygenometracks.tracksClass:plotting 42. [spacer]\r\n"
     ]
    },
    {
     "name": "stdout",
     "output_type": "stream",
     "text": [
      "INFO:pygenometracks.tracksClass:plotting 43. [cluster22]\r\n"
     ]
    },
    {
     "name": "stdout",
     "output_type": "stream",
     "text": [
      "INFO:pygenometracks.tracksClass:plotting 44. [spacer]\r\n"
     ]
    },
    {
     "name": "stdout",
     "output_type": "stream",
     "text": [
      "INFO:pygenometracks.tracksClass:plotting 45. [cluster23]\r\n"
     ]
    },
    {
     "name": "stdout",
     "output_type": "stream",
     "text": [
      "INFO:pygenometracks.tracksClass:plotting 46. [spacer]\r\n"
     ]
    },
    {
     "name": "stdout",
     "output_type": "stream",
     "text": [
      "INFO:pygenometracks.tracksClass:plotting 47. [cluster24]\r\n"
     ]
    },
    {
     "name": "stdout",
     "output_type": "stream",
     "text": [
      "INFO:pygenometracks.tracksClass:plotting 48. [spacer]\r\n"
     ]
    },
    {
     "name": "stdout",
     "output_type": "stream",
     "text": [
      "INFO:pygenometracks.tracksClass:plotting 49. [snps]\r\n"
     ]
    },
    {
     "name": "stdout",
     "output_type": "stream",
     "text": [
      "DEBUG:pygenometracks.tracks.GenomeTrack:ylim 1019.9999999999999,0\r\n",
      "INFO:pygenometracks.tracksClass:plotting 50. [spacer]\r\n"
     ]
    },
    {
     "name": "stdout",
     "output_type": "stream",
     "text": [
      "INFO:pygenometracks.tracksClass:plotting 51. [x-axis]\r\n"
     ]
    },
    {
     "name": "stdout",
     "output_type": "stream",
     "text": [
      "INFO:pygenometracks.tracksClass:time initializing track(s):\r\n",
      "INFO:pygenometracks.tracksClass:0.22994494438171387\r\n",
      "DEBUG:pygenometracks.tracksClass:Figure size in cm is 40 x 114.375. Dpi is set to 72\r\n",
      "\r\n"
     ]
    },
    {
     "name": "stdout",
     "output_type": "stream",
     "text": [
      "INFO:pygenometracks.tracksClass:plotting 1. [cluster1]\r\n"
     ]
    },
    {
     "name": "stdout",
     "output_type": "stream",
     "text": [
      "INFO:pygenometracks.tracksClass:plotting 2. [spacer]\r\n"
     ]
    },
    {
     "name": "stdout",
     "output_type": "stream",
     "text": [
      "INFO:pygenometracks.tracksClass:plotting 3. [cluster2]\r\n"
     ]
    },
    {
     "name": "stdout",
     "output_type": "stream",
     "text": [
      "INFO:pygenometracks.tracksClass:plotting 4. [spacer]\r\n",
      "INFO:pygenometracks.tracksClass:plotting 5. [cluster3]\r\n"
     ]
    },
    {
     "name": "stdout",
     "output_type": "stream",
     "text": [
      "INFO:pygenometracks.tracksClass:plotting 6. [spacer]\r\n"
     ]
    },
    {
     "name": "stdout",
     "output_type": "stream",
     "text": [
      "INFO:pygenometracks.tracksClass:plotting 7. [cluster4]\r\n"
     ]
    },
    {
     "name": "stdout",
     "output_type": "stream",
     "text": [
      "INFO:pygenometracks.tracksClass:plotting 8. [spacer]\r\n"
     ]
    },
    {
     "name": "stdout",
     "output_type": "stream",
     "text": [
      "INFO:pygenometracks.tracksClass:plotting 9. [cluster5]\r\n"
     ]
    },
    {
     "name": "stdout",
     "output_type": "stream",
     "text": [
      "INFO:pygenometracks.tracksClass:plotting 10. [spacer]\r\n",
      "INFO:pygenometracks.tracksClass:plotting 11. [cluster6]\r\n"
     ]
    },
    {
     "name": "stdout",
     "output_type": "stream",
     "text": [
      "INFO:pygenometracks.tracksClass:plotting 12. [spacer]\r\n"
     ]
    },
    {
     "name": "stdout",
     "output_type": "stream",
     "text": [
      "INFO:pygenometracks.tracksClass:plotting 13. [cluster7]\r\n"
     ]
    },
    {
     "name": "stdout",
     "output_type": "stream",
     "text": [
      "INFO:pygenometracks.tracksClass:plotting 14. [spacer]\r\n"
     ]
    },
    {
     "name": "stdout",
     "output_type": "stream",
     "text": [
      "INFO:pygenometracks.tracksClass:plotting 15. [cluster8]\r\n"
     ]
    },
    {
     "name": "stdout",
     "output_type": "stream",
     "text": [
      "INFO:pygenometracks.tracksClass:plotting 16. [spacer]\r\n"
     ]
    },
    {
     "name": "stdout",
     "output_type": "stream",
     "text": [
      "INFO:pygenometracks.tracksClass:plotting 17. [cluster9]\r\n"
     ]
    },
    {
     "name": "stdout",
     "output_type": "stream",
     "text": [
      "INFO:pygenometracks.tracksClass:plotting 18. [spacer]\r\n"
     ]
    },
    {
     "name": "stdout",
     "output_type": "stream",
     "text": [
      "INFO:pygenometracks.tracksClass:plotting 19. [cluster10]\r\n"
     ]
    },
    {
     "name": "stdout",
     "output_type": "stream",
     "text": [
      "INFO:pygenometracks.tracksClass:plotting 20. [spacer]\r\n"
     ]
    },
    {
     "name": "stdout",
     "output_type": "stream",
     "text": [
      "INFO:pygenometracks.tracksClass:plotting 21. [cluster11]\r\n"
     ]
    },
    {
     "name": "stdout",
     "output_type": "stream",
     "text": [
      "INFO:pygenometracks.tracksClass:plotting 22. [spacer]\r\n"
     ]
    },
    {
     "name": "stdout",
     "output_type": "stream",
     "text": [
      "INFO:pygenometracks.tracksClass:plotting 23. [cluster12]\r\n"
     ]
    },
    {
     "name": "stdout",
     "output_type": "stream",
     "text": [
      "INFO:pygenometracks.tracksClass:plotting 24. [spacer]\r\n",
      "INFO:pygenometracks.tracksClass:plotting 25. [cluster13]\r\n"
     ]
    },
    {
     "name": "stdout",
     "output_type": "stream",
     "text": [
      "INFO:pygenometracks.tracksClass:plotting 26. [spacer]\r\n"
     ]
    },
    {
     "name": "stdout",
     "output_type": "stream",
     "text": [
      "INFO:pygenometracks.tracksClass:plotting 27. [cluster14]\r\n"
     ]
    },
    {
     "name": "stdout",
     "output_type": "stream",
     "text": [
      "INFO:pygenometracks.tracksClass:plotting 28. [spacer]\r\n"
     ]
    },
    {
     "name": "stdout",
     "output_type": "stream",
     "text": [
      "INFO:pygenometracks.tracksClass:plotting 29. [cluster15]\r\n"
     ]
    },
    {
     "name": "stdout",
     "output_type": "stream",
     "text": [
      "INFO:pygenometracks.tracksClass:plotting 30. [spacer]\r\n"
     ]
    },
    {
     "name": "stdout",
     "output_type": "stream",
     "text": [
      "INFO:pygenometracks.tracksClass:plotting 31. [cluster16]\r\n"
     ]
    },
    {
     "name": "stdout",
     "output_type": "stream",
     "text": [
      "INFO:pygenometracks.tracksClass:plotting 32. [spacer]\r\n"
     ]
    },
    {
     "name": "stdout",
     "output_type": "stream",
     "text": [
      "INFO:pygenometracks.tracksClass:plotting 33. [cluster17]\r\n"
     ]
    },
    {
     "name": "stdout",
     "output_type": "stream",
     "text": [
      "INFO:pygenometracks.tracksClass:plotting 34. [spacer]\r\n",
      "INFO:pygenometracks.tracksClass:plotting 35. [cluster18]\r\n"
     ]
    },
    {
     "name": "stdout",
     "output_type": "stream",
     "text": [
      "INFO:pygenometracks.tracksClass:plotting 36. [spacer]\r\n"
     ]
    },
    {
     "name": "stdout",
     "output_type": "stream",
     "text": [
      "INFO:pygenometracks.tracksClass:plotting 37. [cluster19]\r\n"
     ]
    },
    {
     "name": "stdout",
     "output_type": "stream",
     "text": [
      "INFO:pygenometracks.tracksClass:plotting 38. [spacer]\r\n"
     ]
    },
    {
     "name": "stdout",
     "output_type": "stream",
     "text": [
      "INFO:pygenometracks.tracksClass:plotting 39. [cluster20]\r\n"
     ]
    },
    {
     "name": "stdout",
     "output_type": "stream",
     "text": [
      "INFO:pygenometracks.tracksClass:plotting 40. [spacer]\r\n"
     ]
    },
    {
     "name": "stdout",
     "output_type": "stream",
     "text": [
      "INFO:pygenometracks.tracksClass:plotting 41. [cluster21]\r\n"
     ]
    },
    {
     "name": "stdout",
     "output_type": "stream",
     "text": [
      "INFO:pygenometracks.tracksClass:plotting 42. [spacer]\r\n"
     ]
    },
    {
     "name": "stdout",
     "output_type": "stream",
     "text": [
      "INFO:pygenometracks.tracksClass:plotting 43. [cluster22]\r\n"
     ]
    },
    {
     "name": "stdout",
     "output_type": "stream",
     "text": [
      "INFO:pygenometracks.tracksClass:plotting 44. [spacer]\r\n",
      "INFO:pygenometracks.tracksClass:plotting 45. [cluster23]\r\n"
     ]
    },
    {
     "name": "stdout",
     "output_type": "stream",
     "text": [
      "INFO:pygenometracks.tracksClass:plotting 46. [spacer]\r\n",
      "INFO:pygenometracks.tracksClass:plotting 47. [cluster24]\r\n"
     ]
    },
    {
     "name": "stdout",
     "output_type": "stream",
     "text": [
      "INFO:pygenometracks.tracksClass:plotting 48. [spacer]\r\n"
     ]
    },
    {
     "name": "stdout",
     "output_type": "stream",
     "text": [
      "INFO:pygenometracks.tracksClass:plotting 49. [snps]\r\n"
     ]
    },
    {
     "name": "stdout",
     "output_type": "stream",
     "text": [
      "DEBUG:pygenometracks.tracks.GenomeTrack:ylim 1019.9999999999999,0\r\n",
      "INFO:pygenometracks.tracksClass:plotting 50. [spacer]\r\n",
      "INFO:pygenometracks.tracksClass:plotting 51. [x-axis]\r\n"
     ]
    },
    {
     "name": "stdout",
     "output_type": "stream",
     "text": [
      "INFO:pygenometracks.tracksClass:time initializing track(s):\r\n",
      "INFO:pygenometracks.tracksClass:0.1800086498260498\r\n",
      "DEBUG:pygenometracks.tracksClass:Figure size in cm is 40 x 114.375. Dpi is set to 72\r\n",
      "\r\n"
     ]
    },
    {
     "name": "stdout",
     "output_type": "stream",
     "text": [
      "INFO:pygenometracks.tracksClass:plotting 1. [cluster1]\r\n"
     ]
    },
    {
     "name": "stdout",
     "output_type": "stream",
     "text": [
      "INFO:pygenometracks.tracksClass:plotting 2. [spacer]\r\n"
     ]
    },
    {
     "name": "stdout",
     "output_type": "stream",
     "text": [
      "INFO:pygenometracks.tracksClass:plotting 3. [cluster2]\r\n"
     ]
    },
    {
     "name": "stdout",
     "output_type": "stream",
     "text": [
      "INFO:pygenometracks.tracksClass:plotting 4. [spacer]\r\n"
     ]
    },
    {
     "name": "stdout",
     "output_type": "stream",
     "text": [
      "INFO:pygenometracks.tracksClass:plotting 5. [cluster3]\r\n"
     ]
    },
    {
     "name": "stdout",
     "output_type": "stream",
     "text": [
      "INFO:pygenometracks.tracksClass:plotting 6. [spacer]\r\n"
     ]
    },
    {
     "name": "stdout",
     "output_type": "stream",
     "text": [
      "INFO:pygenometracks.tracksClass:plotting 7. [cluster4]\r\n"
     ]
    },
    {
     "name": "stdout",
     "output_type": "stream",
     "text": [
      "INFO:pygenometracks.tracksClass:plotting 8. [spacer]\r\n"
     ]
    },
    {
     "name": "stdout",
     "output_type": "stream",
     "text": [
      "INFO:pygenometracks.tracksClass:plotting 9. [cluster5]\r\n"
     ]
    },
    {
     "name": "stdout",
     "output_type": "stream",
     "text": [
      "INFO:pygenometracks.tracksClass:plotting 10. [spacer]\r\n"
     ]
    },
    {
     "name": "stdout",
     "output_type": "stream",
     "text": [
      "INFO:pygenometracks.tracksClass:plotting 11. [cluster6]\r\n"
     ]
    },
    {
     "name": "stdout",
     "output_type": "stream",
     "text": [
      "INFO:pygenometracks.tracksClass:plotting 12. [spacer]\r\n"
     ]
    },
    {
     "name": "stdout",
     "output_type": "stream",
     "text": [
      "INFO:pygenometracks.tracksClass:plotting 13. [cluster7]\r\n"
     ]
    },
    {
     "name": "stdout",
     "output_type": "stream",
     "text": [
      "INFO:pygenometracks.tracksClass:plotting 14. [spacer]\r\n"
     ]
    },
    {
     "name": "stdout",
     "output_type": "stream",
     "text": [
      "INFO:pygenometracks.tracksClass:plotting 15. [cluster8]\r\n"
     ]
    },
    {
     "name": "stdout",
     "output_type": "stream",
     "text": [
      "INFO:pygenometracks.tracksClass:plotting 16. [spacer]\r\n",
      "INFO:pygenometracks.tracksClass:plotting 17. [cluster9]\r\n"
     ]
    },
    {
     "name": "stdout",
     "output_type": "stream",
     "text": [
      "INFO:pygenometracks.tracksClass:plotting 18. [spacer]\r\n"
     ]
    },
    {
     "name": "stdout",
     "output_type": "stream",
     "text": [
      "INFO:pygenometracks.tracksClass:plotting 19. [cluster10]\r\n"
     ]
    },
    {
     "name": "stdout",
     "output_type": "stream",
     "text": [
      "INFO:pygenometracks.tracksClass:plotting 20. [spacer]\r\n",
      "INFO:pygenometracks.tracksClass:plotting 21. [cluster11]\r\n"
     ]
    },
    {
     "name": "stdout",
     "output_type": "stream",
     "text": [
      "INFO:pygenometracks.tracksClass:plotting 22. [spacer]\r\n"
     ]
    },
    {
     "name": "stdout",
     "output_type": "stream",
     "text": [
      "INFO:pygenometracks.tracksClass:plotting 23. [cluster12]\r\n"
     ]
    },
    {
     "name": "stdout",
     "output_type": "stream",
     "text": [
      "INFO:pygenometracks.tracksClass:plotting 24. [spacer]\r\n"
     ]
    },
    {
     "name": "stdout",
     "output_type": "stream",
     "text": [
      "INFO:pygenometracks.tracksClass:plotting 25. [cluster13]\r\n"
     ]
    },
    {
     "name": "stdout",
     "output_type": "stream",
     "text": [
      "INFO:pygenometracks.tracksClass:plotting 26. [spacer]\r\n",
      "INFO:pygenometracks.tracksClass:plotting 27. [cluster14]\r\n"
     ]
    },
    {
     "name": "stdout",
     "output_type": "stream",
     "text": [
      "INFO:pygenometracks.tracksClass:plotting 28. [spacer]\r\n"
     ]
    },
    {
     "name": "stdout",
     "output_type": "stream",
     "text": [
      "INFO:pygenometracks.tracksClass:plotting 29. [cluster15]\r\n"
     ]
    },
    {
     "name": "stdout",
     "output_type": "stream",
     "text": [
      "INFO:pygenometracks.tracksClass:plotting 30. [spacer]\r\n"
     ]
    },
    {
     "name": "stdout",
     "output_type": "stream",
     "text": [
      "INFO:pygenometracks.tracksClass:plotting 31. [cluster16]\r\n"
     ]
    },
    {
     "name": "stdout",
     "output_type": "stream",
     "text": [
      "INFO:pygenometracks.tracksClass:plotting 32. [spacer]\r\n",
      "INFO:pygenometracks.tracksClass:plotting 33. [cluster17]\r\n"
     ]
    },
    {
     "name": "stdout",
     "output_type": "stream",
     "text": [
      "INFO:pygenometracks.tracksClass:plotting 34. [spacer]\r\n"
     ]
    },
    {
     "name": "stdout",
     "output_type": "stream",
     "text": [
      "INFO:pygenometracks.tracksClass:plotting 35. [cluster18]\r\n"
     ]
    },
    {
     "name": "stdout",
     "output_type": "stream",
     "text": [
      "INFO:pygenometracks.tracksClass:plotting 36. [spacer]\r\n"
     ]
    },
    {
     "name": "stdout",
     "output_type": "stream",
     "text": [
      "INFO:pygenometracks.tracksClass:plotting 37. [cluster19]\r\n"
     ]
    },
    {
     "name": "stdout",
     "output_type": "stream",
     "text": [
      "INFO:pygenometracks.tracksClass:plotting 38. [spacer]\r\n",
      "INFO:pygenometracks.tracksClass:plotting 39. [cluster20]\r\n"
     ]
    },
    {
     "name": "stdout",
     "output_type": "stream",
     "text": [
      "INFO:pygenometracks.tracksClass:plotting 40. [spacer]\r\n"
     ]
    },
    {
     "name": "stdout",
     "output_type": "stream",
     "text": [
      "INFO:pygenometracks.tracksClass:plotting 41. [cluster21]\r\n"
     ]
    },
    {
     "name": "stdout",
     "output_type": "stream",
     "text": [
      "INFO:pygenometracks.tracksClass:plotting 42. [spacer]\r\n",
      "INFO:pygenometracks.tracksClass:plotting 43. [cluster22]\r\n"
     ]
    },
    {
     "name": "stdout",
     "output_type": "stream",
     "text": [
      "INFO:pygenometracks.tracksClass:plotting 44. [spacer]\r\n"
     ]
    },
    {
     "name": "stdout",
     "output_type": "stream",
     "text": [
      "INFO:pygenometracks.tracksClass:plotting 45. [cluster23]\r\n"
     ]
    },
    {
     "name": "stdout",
     "output_type": "stream",
     "text": [
      "INFO:pygenometracks.tracksClass:plotting 46. [spacer]\r\n"
     ]
    },
    {
     "name": "stdout",
     "output_type": "stream",
     "text": [
      "INFO:pygenometracks.tracksClass:plotting 47. [cluster24]\r\n"
     ]
    },
    {
     "name": "stdout",
     "output_type": "stream",
     "text": [
      "INFO:pygenometracks.tracksClass:plotting 48. [spacer]\r\n"
     ]
    },
    {
     "name": "stdout",
     "output_type": "stream",
     "text": [
      "INFO:pygenometracks.tracksClass:plotting 49. [snps]\r\n"
     ]
    },
    {
     "name": "stdout",
     "output_type": "stream",
     "text": [
      "DEBUG:pygenometracks.tracks.GenomeTrack:ylim 100,0\r\n",
      "INFO:pygenometracks.tracksClass:plotting 50. [spacer]\r\n"
     ]
    },
    {
     "name": "stdout",
     "output_type": "stream",
     "text": [
      "INFO:pygenometracks.tracksClass:plotting 51. [x-axis]\r\n"
     ]
    },
    {
     "name": "stdout",
     "output_type": "stream",
     "text": [
      "INFO:pygenometracks.tracksClass:time initializing track(s):\r\n",
      "INFO:pygenometracks.tracksClass:1.0145823955535889\r\n",
      "DEBUG:pygenometracks.tracksClass:Figure size in cm is 40 x 114.375. Dpi is set to 72\r\n",
      "\r\n"
     ]
    },
    {
     "name": "stdout",
     "output_type": "stream",
     "text": [
      "INFO:pygenometracks.tracksClass:plotting 1. [cluster1]\r\n"
     ]
    },
    {
     "name": "stdout",
     "output_type": "stream",
     "text": [
      "INFO:pygenometracks.tracksClass:plotting 2. [spacer]\r\n"
     ]
    },
    {
     "name": "stdout",
     "output_type": "stream",
     "text": [
      "INFO:pygenometracks.tracksClass:plotting 3. [cluster2]\r\n"
     ]
    },
    {
     "name": "stdout",
     "output_type": "stream",
     "text": [
      "INFO:pygenometracks.tracksClass:plotting 4. [spacer]\r\n"
     ]
    },
    {
     "name": "stdout",
     "output_type": "stream",
     "text": [
      "INFO:pygenometracks.tracksClass:plotting 5. [cluster3]\r\n"
     ]
    },
    {
     "name": "stdout",
     "output_type": "stream",
     "text": [
      "INFO:pygenometracks.tracksClass:plotting 6. [spacer]\r\n"
     ]
    },
    {
     "name": "stdout",
     "output_type": "stream",
     "text": [
      "INFO:pygenometracks.tracksClass:plotting 7. [cluster4]\r\n"
     ]
    },
    {
     "name": "stdout",
     "output_type": "stream",
     "text": [
      "INFO:pygenometracks.tracksClass:plotting 8. [spacer]\r\n"
     ]
    },
    {
     "name": "stdout",
     "output_type": "stream",
     "text": [
      "INFO:pygenometracks.tracksClass:plotting 9. [cluster5]\r\n"
     ]
    },
    {
     "name": "stdout",
     "output_type": "stream",
     "text": [
      "INFO:pygenometracks.tracksClass:plotting 10. [spacer]\r\n"
     ]
    },
    {
     "name": "stdout",
     "output_type": "stream",
     "text": [
      "INFO:pygenometracks.tracksClass:plotting 11. [cluster6]\r\n"
     ]
    },
    {
     "name": "stdout",
     "output_type": "stream",
     "text": [
      "INFO:pygenometracks.tracksClass:plotting 12. [spacer]\r\n"
     ]
    },
    {
     "name": "stdout",
     "output_type": "stream",
     "text": [
      "INFO:pygenometracks.tracksClass:plotting 13. [cluster7]\r\n"
     ]
    },
    {
     "name": "stdout",
     "output_type": "stream",
     "text": [
      "INFO:pygenometracks.tracksClass:plotting 14. [spacer]\r\n"
     ]
    },
    {
     "name": "stdout",
     "output_type": "stream",
     "text": [
      "INFO:pygenometracks.tracksClass:plotting 15. [cluster8]\r\n"
     ]
    },
    {
     "name": "stdout",
     "output_type": "stream",
     "text": [
      "INFO:pygenometracks.tracksClass:plotting 16. [spacer]\r\n",
      "INFO:pygenometracks.tracksClass:plotting 17. [cluster9]\r\n"
     ]
    },
    {
     "name": "stdout",
     "output_type": "stream",
     "text": [
      "INFO:pygenometracks.tracksClass:plotting 18. [spacer]\r\n"
     ]
    },
    {
     "name": "stdout",
     "output_type": "stream",
     "text": [
      "INFO:pygenometracks.tracksClass:plotting 19. [cluster10]\r\n"
     ]
    },
    {
     "name": "stdout",
     "output_type": "stream",
     "text": [
      "INFO:pygenometracks.tracksClass:plotting 20. [spacer]\r\n"
     ]
    },
    {
     "name": "stdout",
     "output_type": "stream",
     "text": [
      "INFO:pygenometracks.tracksClass:plotting 21. [cluster11]\r\n"
     ]
    },
    {
     "name": "stdout",
     "output_type": "stream",
     "text": [
      "INFO:pygenometracks.tracksClass:plotting 22. [spacer]\r\n"
     ]
    },
    {
     "name": "stdout",
     "output_type": "stream",
     "text": [
      "INFO:pygenometracks.tracksClass:plotting 23. [cluster12]\r\n"
     ]
    },
    {
     "name": "stdout",
     "output_type": "stream",
     "text": [
      "INFO:pygenometracks.tracksClass:plotting 24. [spacer]\r\n",
      "INFO:pygenometracks.tracksClass:plotting 25. [cluster13]\r\n"
     ]
    },
    {
     "name": "stdout",
     "output_type": "stream",
     "text": [
      "INFO:pygenometracks.tracksClass:plotting 26. [spacer]\r\n"
     ]
    },
    {
     "name": "stdout",
     "output_type": "stream",
     "text": [
      "INFO:pygenometracks.tracksClass:plotting 27. [cluster14]\r\n"
     ]
    },
    {
     "name": "stdout",
     "output_type": "stream",
     "text": [
      "INFO:pygenometracks.tracksClass:plotting 28. [spacer]\r\n"
     ]
    },
    {
     "name": "stdout",
     "output_type": "stream",
     "text": [
      "INFO:pygenometracks.tracksClass:plotting 29. [cluster15]\r\n"
     ]
    },
    {
     "name": "stdout",
     "output_type": "stream",
     "text": [
      "INFO:pygenometracks.tracksClass:plotting 30. [spacer]\r\n"
     ]
    },
    {
     "name": "stdout",
     "output_type": "stream",
     "text": [
      "INFO:pygenometracks.tracksClass:plotting 31. [cluster16]\r\n"
     ]
    },
    {
     "name": "stdout",
     "output_type": "stream",
     "text": [
      "INFO:pygenometracks.tracksClass:plotting 32. [spacer]\r\n"
     ]
    },
    {
     "name": "stdout",
     "output_type": "stream",
     "text": [
      "INFO:pygenometracks.tracksClass:plotting 33. [cluster17]\r\n"
     ]
    },
    {
     "name": "stdout",
     "output_type": "stream",
     "text": [
      "INFO:pygenometracks.tracksClass:plotting 34. [spacer]\r\n"
     ]
    },
    {
     "name": "stdout",
     "output_type": "stream",
     "text": [
      "INFO:pygenometracks.tracksClass:plotting 35. [cluster18]\r\n"
     ]
    },
    {
     "name": "stdout",
     "output_type": "stream",
     "text": [
      "INFO:pygenometracks.tracksClass:plotting 36. [spacer]\r\n"
     ]
    },
    {
     "name": "stdout",
     "output_type": "stream",
     "text": [
      "INFO:pygenometracks.tracksClass:plotting 37. [cluster19]\r\n"
     ]
    },
    {
     "name": "stdout",
     "output_type": "stream",
     "text": [
      "INFO:pygenometracks.tracksClass:plotting 38. [spacer]\r\n"
     ]
    },
    {
     "name": "stdout",
     "output_type": "stream",
     "text": [
      "INFO:pygenometracks.tracksClass:plotting 39. [cluster20]\r\n"
     ]
    },
    {
     "name": "stdout",
     "output_type": "stream",
     "text": [
      "INFO:pygenometracks.tracksClass:plotting 40. [spacer]\r\n"
     ]
    },
    {
     "name": "stdout",
     "output_type": "stream",
     "text": [
      "INFO:pygenometracks.tracksClass:plotting 41. [cluster21]\r\n"
     ]
    },
    {
     "name": "stdout",
     "output_type": "stream",
     "text": [
      "INFO:pygenometracks.tracksClass:plotting 42. [spacer]\r\n"
     ]
    },
    {
     "name": "stdout",
     "output_type": "stream",
     "text": [
      "INFO:pygenometracks.tracksClass:plotting 43. [cluster22]\r\n"
     ]
    },
    {
     "name": "stdout",
     "output_type": "stream",
     "text": [
      "INFO:pygenometracks.tracksClass:plotting 44. [spacer]\r\n"
     ]
    },
    {
     "name": "stdout",
     "output_type": "stream",
     "text": [
      "INFO:pygenometracks.tracksClass:plotting 45. [cluster23]\r\n"
     ]
    },
    {
     "name": "stdout",
     "output_type": "stream",
     "text": [
      "INFO:pygenometracks.tracksClass:plotting 46. [spacer]\r\n"
     ]
    },
    {
     "name": "stdout",
     "output_type": "stream",
     "text": [
      "INFO:pygenometracks.tracksClass:plotting 47. [cluster24]\r\n"
     ]
    },
    {
     "name": "stdout",
     "output_type": "stream",
     "text": [
      "INFO:pygenometracks.tracksClass:plotting 48. [spacer]\r\n"
     ]
    },
    {
     "name": "stdout",
     "output_type": "stream",
     "text": [
      "INFO:pygenometracks.tracksClass:plotting 49. [snps]\r\n",
      "DEBUG:pygenometracks.tracks.GenomeTrack:ylim 100,0\r\n",
      "INFO:pygenometracks.tracksClass:plotting 50. [spacer]\r\n"
     ]
    },
    {
     "name": "stdout",
     "output_type": "stream",
     "text": [
      "INFO:pygenometracks.tracksClass:plotting 51. [x-axis]\r\n"
     ]
    },
    {
     "name": "stdout",
     "output_type": "stream",
     "text": [
      "INFO:pygenometracks.tracksClass:time initializing track(s):\r\n",
      "INFO:pygenometracks.tracksClass:0.20671510696411133\r\n",
      "DEBUG:pygenometracks.tracksClass:Figure size in cm is 40 x 114.375. Dpi is set to 72\r\n",
      "\r\n"
     ]
    },
    {
     "name": "stdout",
     "output_type": "stream",
     "text": [
      "INFO:pygenometracks.tracksClass:plotting 1. [cluster1]\r\n"
     ]
    },
    {
     "name": "stdout",
     "output_type": "stream",
     "text": [
      "INFO:pygenometracks.tracksClass:plotting 2. [spacer]\r\n"
     ]
    },
    {
     "name": "stdout",
     "output_type": "stream",
     "text": [
      "INFO:pygenometracks.tracksClass:plotting 3. [cluster2]\r\n"
     ]
    },
    {
     "name": "stdout",
     "output_type": "stream",
     "text": [
      "INFO:pygenometracks.tracksClass:plotting 4. [spacer]\r\n"
     ]
    },
    {
     "name": "stdout",
     "output_type": "stream",
     "text": [
      "INFO:pygenometracks.tracksClass:plotting 5. [cluster3]\r\n"
     ]
    },
    {
     "name": "stdout",
     "output_type": "stream",
     "text": [
      "INFO:pygenometracks.tracksClass:plotting 6. [spacer]\r\n"
     ]
    },
    {
     "name": "stdout",
     "output_type": "stream",
     "text": [
      "INFO:pygenometracks.tracksClass:plotting 7. [cluster4]\r\n"
     ]
    },
    {
     "name": "stdout",
     "output_type": "stream",
     "text": [
      "INFO:pygenometracks.tracksClass:plotting 8. [spacer]\r\n"
     ]
    },
    {
     "name": "stdout",
     "output_type": "stream",
     "text": [
      "INFO:pygenometracks.tracksClass:plotting 9. [cluster5]\r\n"
     ]
    },
    {
     "name": "stdout",
     "output_type": "stream",
     "text": [
      "INFO:pygenometracks.tracksClass:plotting 10. [spacer]\r\n"
     ]
    },
    {
     "name": "stdout",
     "output_type": "stream",
     "text": [
      "INFO:pygenometracks.tracksClass:plotting 11. [cluster6]\r\n"
     ]
    },
    {
     "name": "stdout",
     "output_type": "stream",
     "text": [
      "INFO:pygenometracks.tracksClass:plotting 12. [spacer]\r\n"
     ]
    },
    {
     "name": "stdout",
     "output_type": "stream",
     "text": [
      "INFO:pygenometracks.tracksClass:plotting 13. [cluster7]\r\n"
     ]
    },
    {
     "name": "stdout",
     "output_type": "stream",
     "text": [
      "INFO:pygenometracks.tracksClass:plotting 14. [spacer]\r\n"
     ]
    },
    {
     "name": "stdout",
     "output_type": "stream",
     "text": [
      "INFO:pygenometracks.tracksClass:plotting 15. [cluster8]\r\n"
     ]
    },
    {
     "name": "stdout",
     "output_type": "stream",
     "text": [
      "INFO:pygenometracks.tracksClass:plotting 16. [spacer]\r\n"
     ]
    },
    {
     "name": "stdout",
     "output_type": "stream",
     "text": [
      "INFO:pygenometracks.tracksClass:plotting 17. [cluster9]\r\n"
     ]
    },
    {
     "name": "stdout",
     "output_type": "stream",
     "text": [
      "INFO:pygenometracks.tracksClass:plotting 18. [spacer]\r\n",
      "INFO:pygenometracks.tracksClass:plotting 19. [cluster10]\r\n"
     ]
    },
    {
     "name": "stdout",
     "output_type": "stream",
     "text": [
      "INFO:pygenometracks.tracksClass:plotting 20. [spacer]\r\n"
     ]
    },
    {
     "name": "stdout",
     "output_type": "stream",
     "text": [
      "INFO:pygenometracks.tracksClass:plotting 21. [cluster11]\r\n"
     ]
    },
    {
     "name": "stdout",
     "output_type": "stream",
     "text": [
      "INFO:pygenometracks.tracksClass:plotting 22. [spacer]\r\n"
     ]
    },
    {
     "name": "stdout",
     "output_type": "stream",
     "text": [
      "INFO:pygenometracks.tracksClass:plotting 23. [cluster12]\r\n"
     ]
    },
    {
     "name": "stdout",
     "output_type": "stream",
     "text": [
      "INFO:pygenometracks.tracksClass:plotting 24. [spacer]\r\n"
     ]
    },
    {
     "name": "stdout",
     "output_type": "stream",
     "text": [
      "INFO:pygenometracks.tracksClass:plotting 25. [cluster13]\r\n"
     ]
    },
    {
     "name": "stdout",
     "output_type": "stream",
     "text": [
      "INFO:pygenometracks.tracksClass:plotting 26. [spacer]\r\n"
     ]
    },
    {
     "name": "stdout",
     "output_type": "stream",
     "text": [
      "INFO:pygenometracks.tracksClass:plotting 27. [cluster14]\r\n"
     ]
    },
    {
     "name": "stdout",
     "output_type": "stream",
     "text": [
      "INFO:pygenometracks.tracksClass:plotting 28. [spacer]\r\n"
     ]
    },
    {
     "name": "stdout",
     "output_type": "stream",
     "text": [
      "INFO:pygenometracks.tracksClass:plotting 29. [cluster15]\r\n"
     ]
    },
    {
     "name": "stdout",
     "output_type": "stream",
     "text": [
      "INFO:pygenometracks.tracksClass:plotting 30. [spacer]\r\n"
     ]
    },
    {
     "name": "stdout",
     "output_type": "stream",
     "text": [
      "INFO:pygenometracks.tracksClass:plotting 31. [cluster16]\r\n"
     ]
    },
    {
     "name": "stdout",
     "output_type": "stream",
     "text": [
      "INFO:pygenometracks.tracksClass:plotting 32. [spacer]\r\n"
     ]
    },
    {
     "name": "stdout",
     "output_type": "stream",
     "text": [
      "INFO:pygenometracks.tracksClass:plotting 33. [cluster17]\r\n"
     ]
    },
    {
     "name": "stdout",
     "output_type": "stream",
     "text": [
      "INFO:pygenometracks.tracksClass:plotting 34. [spacer]\r\n",
      "INFO:pygenometracks.tracksClass:plotting 35. [cluster18]\r\n"
     ]
    },
    {
     "name": "stdout",
     "output_type": "stream",
     "text": [
      "INFO:pygenometracks.tracksClass:plotting 36. [spacer]\r\n"
     ]
    },
    {
     "name": "stdout",
     "output_type": "stream",
     "text": [
      "INFO:pygenometracks.tracksClass:plotting 37. [cluster19]\r\n"
     ]
    },
    {
     "name": "stdout",
     "output_type": "stream",
     "text": [
      "INFO:pygenometracks.tracksClass:plotting 38. [spacer]\r\n",
      "INFO:pygenometracks.tracksClass:plotting 39. [cluster20]\r\n"
     ]
    },
    {
     "name": "stdout",
     "output_type": "stream",
     "text": [
      "INFO:pygenometracks.tracksClass:plotting 40. [spacer]\r\n"
     ]
    },
    {
     "name": "stdout",
     "output_type": "stream",
     "text": [
      "INFO:pygenometracks.tracksClass:plotting 41. [cluster21]\r\n"
     ]
    },
    {
     "name": "stdout",
     "output_type": "stream",
     "text": [
      "INFO:pygenometracks.tracksClass:plotting 42. [spacer]\r\n"
     ]
    },
    {
     "name": "stdout",
     "output_type": "stream",
     "text": [
      "INFO:pygenometracks.tracksClass:plotting 43. [cluster22]\r\n"
     ]
    },
    {
     "name": "stdout",
     "output_type": "stream",
     "text": [
      "INFO:pygenometracks.tracksClass:plotting 44. [spacer]\r\n"
     ]
    },
    {
     "name": "stdout",
     "output_type": "stream",
     "text": [
      "INFO:pygenometracks.tracksClass:plotting 45. [cluster23]\r\n"
     ]
    },
    {
     "name": "stdout",
     "output_type": "stream",
     "text": [
      "INFO:pygenometracks.tracksClass:plotting 46. [spacer]\r\n",
      "INFO:pygenometracks.tracksClass:plotting 47. [cluster24]\r\n"
     ]
    },
    {
     "name": "stdout",
     "output_type": "stream",
     "text": [
      "INFO:pygenometracks.tracksClass:plotting 48. [spacer]\r\n"
     ]
    },
    {
     "name": "stdout",
     "output_type": "stream",
     "text": [
      "INFO:pygenometracks.tracksClass:plotting 49. [snps]\r\n"
     ]
    },
    {
     "name": "stdout",
     "output_type": "stream",
     "text": [
      "DEBUG:pygenometracks.tracks.GenomeTrack:ylim 789.9999999999999,0\r\n",
      "INFO:pygenometracks.tracksClass:plotting 50. [spacer]\r\n",
      "INFO:pygenometracks.tracksClass:plotting 51. [x-axis]\r\n"
     ]
    },
    {
     "name": "stdout",
     "output_type": "stream",
     "text": [
      "INFO:pygenometracks.tracksClass:time initializing track(s):\r\n",
      "INFO:pygenometracks.tracksClass:0.18802618980407715\r\n",
      "DEBUG:pygenometracks.tracksClass:Figure size in cm is 40 x 114.375. Dpi is set to 72\r\n",
      "\r\n"
     ]
    },
    {
     "name": "stdout",
     "output_type": "stream",
     "text": [
      "INFO:pygenometracks.tracksClass:plotting 1. [cluster1]\r\n"
     ]
    },
    {
     "name": "stdout",
     "output_type": "stream",
     "text": [
      "INFO:pygenometracks.tracksClass:plotting 2. [spacer]\r\n"
     ]
    },
    {
     "name": "stdout",
     "output_type": "stream",
     "text": [
      "INFO:pygenometracks.tracksClass:plotting 3. [cluster2]\r\n"
     ]
    },
    {
     "name": "stdout",
     "output_type": "stream",
     "text": [
      "INFO:pygenometracks.tracksClass:plotting 4. [spacer]\r\n"
     ]
    },
    {
     "name": "stdout",
     "output_type": "stream",
     "text": [
      "INFO:pygenometracks.tracksClass:plotting 5. [cluster3]\r\n"
     ]
    },
    {
     "name": "stdout",
     "output_type": "stream",
     "text": [
      "INFO:pygenometracks.tracksClass:plotting 6. [spacer]\r\n"
     ]
    },
    {
     "name": "stdout",
     "output_type": "stream",
     "text": [
      "INFO:pygenometracks.tracksClass:plotting 7. [cluster4]\r\n"
     ]
    },
    {
     "name": "stdout",
     "output_type": "stream",
     "text": [
      "INFO:pygenometracks.tracksClass:plotting 8. [spacer]\r\n"
     ]
    },
    {
     "name": "stdout",
     "output_type": "stream",
     "text": [
      "INFO:pygenometracks.tracksClass:plotting 9. [cluster5]\r\n"
     ]
    },
    {
     "name": "stdout",
     "output_type": "stream",
     "text": [
      "INFO:pygenometracks.tracksClass:plotting 10. [spacer]\r\n"
     ]
    },
    {
     "name": "stdout",
     "output_type": "stream",
     "text": [
      "INFO:pygenometracks.tracksClass:plotting 11. [cluster6]\r\n"
     ]
    },
    {
     "name": "stdout",
     "output_type": "stream",
     "text": [
      "INFO:pygenometracks.tracksClass:plotting 12. [spacer]\r\n"
     ]
    },
    {
     "name": "stdout",
     "output_type": "stream",
     "text": [
      "INFO:pygenometracks.tracksClass:plotting 13. [cluster7]\r\n"
     ]
    },
    {
     "name": "stdout",
     "output_type": "stream",
     "text": [
      "INFO:pygenometracks.tracksClass:plotting 14. [spacer]\r\n"
     ]
    },
    {
     "name": "stdout",
     "output_type": "stream",
     "text": [
      "INFO:pygenometracks.tracksClass:plotting 15. [cluster8]\r\n"
     ]
    },
    {
     "name": "stdout",
     "output_type": "stream",
     "text": [
      "INFO:pygenometracks.tracksClass:plotting 16. [spacer]\r\n"
     ]
    },
    {
     "name": "stdout",
     "output_type": "stream",
     "text": [
      "INFO:pygenometracks.tracksClass:plotting 17. [cluster9]\r\n"
     ]
    },
    {
     "name": "stdout",
     "output_type": "stream",
     "text": [
      "INFO:pygenometracks.tracksClass:plotting 18. [spacer]\r\n",
      "INFO:pygenometracks.tracksClass:plotting 19. [cluster10]\r\n"
     ]
    },
    {
     "name": "stdout",
     "output_type": "stream",
     "text": [
      "INFO:pygenometracks.tracksClass:plotting 20. [spacer]\r\n"
     ]
    },
    {
     "name": "stdout",
     "output_type": "stream",
     "text": [
      "INFO:pygenometracks.tracksClass:plotting 21. [cluster11]\r\n"
     ]
    },
    {
     "name": "stdout",
     "output_type": "stream",
     "text": [
      "INFO:pygenometracks.tracksClass:plotting 22. [spacer]\r\n"
     ]
    },
    {
     "name": "stdout",
     "output_type": "stream",
     "text": [
      "INFO:pygenometracks.tracksClass:plotting 23. [cluster12]\r\n"
     ]
    },
    {
     "name": "stdout",
     "output_type": "stream",
     "text": [
      "INFO:pygenometracks.tracksClass:plotting 24. [spacer]\r\n"
     ]
    },
    {
     "name": "stdout",
     "output_type": "stream",
     "text": [
      "INFO:pygenometracks.tracksClass:plotting 25. [cluster13]\r\n"
     ]
    },
    {
     "name": "stdout",
     "output_type": "stream",
     "text": [
      "INFO:pygenometracks.tracksClass:plotting 26. [spacer]\r\n",
      "INFO:pygenometracks.tracksClass:plotting 27. [cluster14]\r\n"
     ]
    },
    {
     "name": "stdout",
     "output_type": "stream",
     "text": [
      "INFO:pygenometracks.tracksClass:plotting 28. [spacer]\r\n"
     ]
    },
    {
     "name": "stdout",
     "output_type": "stream",
     "text": [
      "INFO:pygenometracks.tracksClass:plotting 29. [cluster15]\r\n"
     ]
    },
    {
     "name": "stdout",
     "output_type": "stream",
     "text": [
      "INFO:pygenometracks.tracksClass:plotting 30. [spacer]\r\n"
     ]
    },
    {
     "name": "stdout",
     "output_type": "stream",
     "text": [
      "INFO:pygenometracks.tracksClass:plotting 31. [cluster16]\r\n"
     ]
    },
    {
     "name": "stdout",
     "output_type": "stream",
     "text": [
      "INFO:pygenometracks.tracksClass:plotting 32. [spacer]\r\n",
      "INFO:pygenometracks.tracksClass:plotting 33. [cluster17]\r\n"
     ]
    },
    {
     "name": "stdout",
     "output_type": "stream",
     "text": [
      "INFO:pygenometracks.tracksClass:plotting 34. [spacer]\r\n"
     ]
    },
    {
     "name": "stdout",
     "output_type": "stream",
     "text": [
      "INFO:pygenometracks.tracksClass:plotting 35. [cluster18]\r\n"
     ]
    },
    {
     "name": "stdout",
     "output_type": "stream",
     "text": [
      "INFO:pygenometracks.tracksClass:plotting 36. [spacer]\r\n"
     ]
    },
    {
     "name": "stdout",
     "output_type": "stream",
     "text": [
      "INFO:pygenometracks.tracksClass:plotting 37. [cluster19]\r\n"
     ]
    },
    {
     "name": "stdout",
     "output_type": "stream",
     "text": [
      "INFO:pygenometracks.tracksClass:plotting 38. [spacer]\r\n",
      "INFO:pygenometracks.tracksClass:plotting 39. [cluster20]\r\n"
     ]
    },
    {
     "name": "stdout",
     "output_type": "stream",
     "text": [
      "INFO:pygenometracks.tracksClass:plotting 40. [spacer]\r\n"
     ]
    },
    {
     "name": "stdout",
     "output_type": "stream",
     "text": [
      "INFO:pygenometracks.tracksClass:plotting 41. [cluster21]\r\n"
     ]
    },
    {
     "name": "stdout",
     "output_type": "stream",
     "text": [
      "INFO:pygenometracks.tracksClass:plotting 42. [spacer]\r\n",
      "INFO:pygenometracks.tracksClass:plotting 43. [cluster22]\r\n"
     ]
    },
    {
     "name": "stdout",
     "output_type": "stream",
     "text": [
      "INFO:pygenometracks.tracksClass:plotting 44. [spacer]\r\n"
     ]
    },
    {
     "name": "stdout",
     "output_type": "stream",
     "text": [
      "INFO:pygenometracks.tracksClass:plotting 45. [cluster23]\r\n"
     ]
    },
    {
     "name": "stdout",
     "output_type": "stream",
     "text": [
      "INFO:pygenometracks.tracksClass:plotting 46. [spacer]\r\n"
     ]
    },
    {
     "name": "stdout",
     "output_type": "stream",
     "text": [
      "INFO:pygenometracks.tracksClass:plotting 47. [cluster24]\r\n"
     ]
    },
    {
     "name": "stdout",
     "output_type": "stream",
     "text": [
      "INFO:pygenometracks.tracksClass:plotting 48. [spacer]\r\n"
     ]
    },
    {
     "name": "stdout",
     "output_type": "stream",
     "text": [
      "INFO:pygenometracks.tracksClass:plotting 49. [snps]\r\n"
     ]
    },
    {
     "name": "stdout",
     "output_type": "stream",
     "text": [
      "DEBUG:pygenometracks.tracks.GenomeTrack:ylim 789.9999999999999,0\r\n",
      "INFO:pygenometracks.tracksClass:plotting 50. [spacer]\r\n"
     ]
    },
    {
     "name": "stdout",
     "output_type": "stream",
     "text": [
      "INFO:pygenometracks.tracksClass:plotting 51. [x-axis]\r\n"
     ]
    }
   ],
   "source": [
    "fc_tracks = []\n",
    "pval_tracks = []\n",
    "\n",
    "for index, row in unique_sig_snps.iterrows():\n",
    "    chrom = row['chr']\n",
    "    start = row['start'] - 2500\n",
    "    end = row['end'] + 2500\n",
    "    rsid = row['rsid']\n",
    "    ! pyGenomeTracks --tracks /mnt/lab_data3/soumyak/adpd/pytracks/fc_bigwig_snps.ini --region {chrom}:{start}-{end} -o /oak/stanford/groups/akundaje/projects/alzheimers_parkinsons/updated_snp_fc_signal_tracks/{rsid}.fc.png\n",
    "    ! pyGenomeTracks --tracks /mnt/lab_data3/soumyak/adpd/pytracks/pval_bigwig_snps.ini --region {chrom}:{start}-{end} -o /oak/stanford/groups/akundaje/projects/alzheimers_parkinsons/updated_snp_pval_signal_tracks/{rsid}.pval.png\n",
    "    fc_tracks.append('http://mitra.stanford.edu/kundaje/projects/alzheimers_parkinsons/updated_snp_fc_signal_tracks/'+rsid+'.fc.png')\n",
    "    pval_tracks.append('http://mitra.stanford.edu/kundaje/projects/alzheimers_parkinsons/updated_snp_pval_signal_tracks/'+rsid+'.pval.png')\n",
    "        \n",
    "unique_sig_snps['fc_track'] = fc_tracks\n",
    "unique_sig_snps['pval_track'] = pval_tracks"
   ]
  },
  {
   "cell_type": "markdown",
   "metadata": {},
   "source": [
    "# Final Significant SNPs Table <a name='prep_final_table' />"
   ]
  },
  {
   "cell_type": "code",
   "execution_count": 27,
   "metadata": {},
   "outputs": [
    {
     "name": "stdout",
     "output_type": "stream",
     "text": [
      "Final Significant SNPs Table:\n",
      "\n"
     ]
    },
    {
     "data": {
      "text/html": [
       "<div>\n",
       "<style scoped>\n",
       "    .dataframe tbody tr th:only-of-type {\n",
       "        vertical-align: middle;\n",
       "    }\n",
       "\n",
       "    .dataframe tbody tr th {\n",
       "        vertical-align: top;\n",
       "    }\n",
       "\n",
       "    .dataframe thead th {\n",
       "        text-align: right;\n",
       "    }\n",
       "</style>\n",
       "<table border=\"1\" class=\"dataframe\">\n",
       "  <thead>\n",
       "    <tr style=\"text-align: right;\">\n",
       "      <th></th>\n",
       "      <th>chr</th>\n",
       "      <th>start</th>\n",
       "      <th>end</th>\n",
       "      <th>rsid</th>\n",
       "      <th>effect</th>\n",
       "      <th>noneffect</th>\n",
       "      <th>major</th>\n",
       "      <th>minor</th>\n",
       "      <th>direction</th>\n",
       "      <th>locus_num</th>\n",
       "      <th>gwas</th>\n",
       "      <th>gwas_pval</th>\n",
       "      <th>coloc</th>\n",
       "      <th>explain_pval</th>\n",
       "      <th>ism_pval</th>\n",
       "      <th>delta_pval</th>\n",
       "      <th>magnitude_pval</th>\n",
       "      <th>prominence_pval</th>\n",
       "      <th>confidence</th>\n",
       "      <th>active_seqlet</th>\n",
       "      <th>diff_seqlet</th>\n",
       "      <th>active_allele</th>\n",
       "      <th>fc_track</th>\n",
       "      <th>pval_track</th>\n",
       "    </tr>\n",
       "  </thead>\n",
       "  <tbody>\n",
       "    <tr>\n",
       "      <th>148</th>\n",
       "      <td>chr3</td>\n",
       "      <td>49007333</td>\n",
       "      <td>49007334</td>\n",
       "      <td>rs6781790</td>\n",
       "      <td>T</td>\n",
       "      <td>C</td>\n",
       "      <td>T</td>\n",
       "      <td>C</td>\n",
       "      <td>+</td>\n",
       "      <td>92</td>\n",
       "      <td>Chang_23andMe_Parkinsons</td>\n",
       "      <td>0.00234934</td>\n",
       "      <td>False</td>\n",
       "      <td>0.013879</td>\n",
       "      <td>0.010218</td>\n",
       "      <td>0.010332</td>\n",
       "      <td>0.004000</td>\n",
       "      <td>0.030486</td>\n",
       "      <td>2</td>\n",
       "      <td>GGGCGCTGT</td>\n",
       "      <td>GGG(C/T)GCTGT</td>\n",
       "      <td>noneffect</td>\n",
       "      <td>http://mitra.stanford.edu/kundaje/projects/alz...</td>\n",
       "      <td>http://mitra.stanford.edu/kundaje/projects/alz...</td>\n",
       "    </tr>\n",
       "    <tr>\n",
       "      <th>69</th>\n",
       "      <td>chr17</td>\n",
       "      <td>45955512</td>\n",
       "      <td>45955513</td>\n",
       "      <td>rs78555354</td>\n",
       "      <td>G</td>\n",
       "      <td>A</td>\n",
       "      <td>A</td>\n",
       "      <td>G</td>\n",
       "      <td>-</td>\n",
       "      <td>54</td>\n",
       "      <td>23andme_PD_hg38</td>\n",
       "      <td>3.22e-22</td>\n",
       "      <td>True</td>\n",
       "      <td>0.048234</td>\n",
       "      <td>0.040545</td>\n",
       "      <td>0.040822</td>\n",
       "      <td>0.053514</td>\n",
       "      <td>0.099351</td>\n",
       "      <td>1</td>\n",
       "      <td>CCCGCCT</td>\n",
       "      <td>CCC(G/A)CCT</td>\n",
       "      <td>effect</td>\n",
       "      <td>http://mitra.stanford.edu/kundaje/projects/alz...</td>\n",
       "      <td>http://mitra.stanford.edu/kundaje/projects/alz...</td>\n",
       "    </tr>\n",
       "    <tr>\n",
       "      <th>77</th>\n",
       "      <td>chr17</td>\n",
       "      <td>45992473</td>\n",
       "      <td>45992474</td>\n",
       "      <td>rs17651887</td>\n",
       "      <td>G</td>\n",
       "      <td>A</td>\n",
       "      <td>G</td>\n",
       "      <td>A</td>\n",
       "      <td>+</td>\n",
       "      <td>54</td>\n",
       "      <td>23andme_PD_hg38</td>\n",
       "      <td>2.19e-22</td>\n",
       "      <td>True</td>\n",
       "      <td>0.012089</td>\n",
       "      <td>0.009058</td>\n",
       "      <td>0.009350</td>\n",
       "      <td>0.199243</td>\n",
       "      <td>0.392973</td>\n",
       "      <td>0</td>\n",
       "      <td>GAGAGTC</td>\n",
       "      <td>GAG(A/G)GTC</td>\n",
       "      <td>noneffect</td>\n",
       "      <td>http://mitra.stanford.edu/kundaje/projects/alz...</td>\n",
       "      <td>http://mitra.stanford.edu/kundaje/projects/alz...</td>\n",
       "    </tr>\n",
       "    <tr>\n",
       "      <th>185</th>\n",
       "      <td>chr8</td>\n",
       "      <td>22604860</td>\n",
       "      <td>22604861</td>\n",
       "      <td>rs3735901</td>\n",
       "      <td>T</td>\n",
       "      <td>C</td>\n",
       "      <td>T</td>\n",
       "      <td>C</td>\n",
       "      <td>-</td>\n",
       "      <td>125</td>\n",
       "      <td>Chang_23andMe_Parkinsons</td>\n",
       "      <td>0.0508112</td>\n",
       "      <td>False</td>\n",
       "      <td>0.008931</td>\n",
       "      <td>0.006519</td>\n",
       "      <td>0.002751</td>\n",
       "      <td>0.392216</td>\n",
       "      <td>0.431676</td>\n",
       "      <td>0</td>\n",
       "      <td>CCCTGCC</td>\n",
       "      <td>CCC(T/C)GCC</td>\n",
       "      <td>effect</td>\n",
       "      <td>http://mitra.stanford.edu/kundaje/projects/alz...</td>\n",
       "      <td>http://mitra.stanford.edu/kundaje/projects/alz...</td>\n",
       "    </tr>\n",
       "    <tr>\n",
       "      <th>120</th>\n",
       "      <td>chr19</td>\n",
       "      <td>44915228</td>\n",
       "      <td>44915229</td>\n",
       "      <td>rs12691088</td>\n",
       "      <td>A</td>\n",
       "      <td>G</td>\n",
       "      <td>G</td>\n",
       "      <td>A,C</td>\n",
       "      <td>+</td>\n",
       "      <td>71</td>\n",
       "      <td>Alzheimers_Kunkle_2019</td>\n",
       "      <td>2.69e-238</td>\n",
       "      <td>True</td>\n",
       "      <td>0.030735</td>\n",
       "      <td>0.017753</td>\n",
       "      <td>0.018154</td>\n",
       "      <td>0.980162</td>\n",
       "      <td>0.979297</td>\n",
       "      <td>0</td>\n",
       "      <td>GGTAGGG</td>\n",
       "      <td>GGT(A/G)GGG</td>\n",
       "      <td>effect</td>\n",
       "      <td>http://mitra.stanford.edu/kundaje/projects/alz...</td>\n",
       "      <td>http://mitra.stanford.edu/kundaje/projects/alz...</td>\n",
       "    </tr>\n",
       "  </tbody>\n",
       "</table>\n",
       "</div>"
      ],
      "text/plain": [
       "       chr     start       end        rsid effect noneffect major minor  \\\n",
       "148   chr3  49007333  49007334   rs6781790      T         C     T     C   \n",
       "69   chr17  45955512  45955513  rs78555354      G         A     A     G   \n",
       "77   chr17  45992473  45992474  rs17651887      G         A     G     A   \n",
       "185   chr8  22604860  22604861   rs3735901      T         C     T     C   \n",
       "120  chr19  44915228  44915229  rs12691088      A         G     G   A,C   \n",
       "\n",
       "    direction  locus_num                      gwas   gwas_pval  coloc  \\\n",
       "148         +         92  Chang_23andMe_Parkinsons  0.00234934  False   \n",
       "69          -         54           23andme_PD_hg38    3.22e-22   True   \n",
       "77          +         54           23andme_PD_hg38    2.19e-22   True   \n",
       "185         -        125  Chang_23andMe_Parkinsons   0.0508112  False   \n",
       "120         +         71    Alzheimers_Kunkle_2019   2.69e-238   True   \n",
       "\n",
       "     explain_pval  ism_pval  delta_pval  magnitude_pval  prominence_pval  \\\n",
       "148      0.013879  0.010218    0.010332        0.004000         0.030486   \n",
       "69       0.048234  0.040545    0.040822        0.053514         0.099351   \n",
       "77       0.012089  0.009058    0.009350        0.199243         0.392973   \n",
       "185      0.008931  0.006519    0.002751        0.392216         0.431676   \n",
       "120      0.030735  0.017753    0.018154        0.980162         0.979297   \n",
       "\n",
       "     confidence active_seqlet    diff_seqlet active_allele  \\\n",
       "148           2     GGGCGCTGT  GGG(C/T)GCTGT     noneffect   \n",
       "69            1       CCCGCCT    CCC(G/A)CCT        effect   \n",
       "77            0       GAGAGTC    GAG(A/G)GTC     noneffect   \n",
       "185           0       CCCTGCC    CCC(T/C)GCC        effect   \n",
       "120           0       GGTAGGG    GGT(A/G)GGG        effect   \n",
       "\n",
       "                                              fc_track  \\\n",
       "148  http://mitra.stanford.edu/kundaje/projects/alz...   \n",
       "69   http://mitra.stanford.edu/kundaje/projects/alz...   \n",
       "77   http://mitra.stanford.edu/kundaje/projects/alz...   \n",
       "185  http://mitra.stanford.edu/kundaje/projects/alz...   \n",
       "120  http://mitra.stanford.edu/kundaje/projects/alz...   \n",
       "\n",
       "                                            pval_track  \n",
       "148  http://mitra.stanford.edu/kundaje/projects/alz...  \n",
       "69   http://mitra.stanford.edu/kundaje/projects/alz...  \n",
       "77   http://mitra.stanford.edu/kundaje/projects/alz...  \n",
       "185  http://mitra.stanford.edu/kundaje/projects/alz...  \n",
       "120  http://mitra.stanford.edu/kundaje/projects/alz...  "
      ]
     },
     "metadata": {},
     "output_type": "display_data"
    },
    {
     "name": "stdout",
     "output_type": "stream",
     "text": [
      "\n",
      "Shape:  (5, 24)\n"
     ]
    }
   ],
   "source": [
    "final_sig_snps = unique_sig_snps[['chr', 'start', 'end', 'rsid',\n",
    "                                  'effect', 'noneffect', 'major', 'minor', 'direction',\n",
    "                                  'locus_num', 'gwas', 'gwas_pval', 'coloc',\n",
    "                                  'explain_pval', 'ism_pval', 'delta_pval',\n",
    "                                  'magnitude_pval', 'prominence_pval', 'confidence',\n",
    "                                  'active_seqlet', 'diff_seqlet', 'active_allele',\n",
    "                                  'fc_track', 'pval_track']]\n",
    "\n",
    "final_sig_snps.to_csv('/oak/stanford/groups/akundaje/projects/alzheimers_parkinsons/updated_sig_snps/Cluster'\n",
    "                       + cluster + '.' + celltype + '.updated.unique.sig_snps.tsv', sep='\\t', index=False)\n",
    "print('Final Significant SNPs Table:')\n",
    "print()\n",
    "display(final_sig_snps)\n",
    "print()\n",
    "print('Shape: ', final_sig_snps.shape)"
   ]
  },
  {
   "cell_type": "code",
   "execution_count": null,
   "metadata": {},
   "outputs": [],
   "source": []
  }
 ],
 "metadata": {
  "kernelspec": {
   "display_name": "Python 3",
   "language": "python",
   "name": "python3"
  },
  "language_info": {
   "codemirror_mode": {
    "name": "ipython",
    "version": 3
   },
   "file_extension": ".py",
   "mimetype": "text/x-python",
   "name": "python",
   "nbconvert_exporter": "python",
   "pygments_lexer": "ipython3",
   "version": "3.7.3"
  }
 },
 "nbformat": 4,
 "nbformat_minor": 4
}
