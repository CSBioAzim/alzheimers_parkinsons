{
 "cells": [
  {
   "cell_type": "markdown",
   "metadata": {},
   "source": [
    "### Limma voom analysis of AD/PD dataset"
   ]
  },
  {
   "cell_type": "code",
   "execution_count": 1,
   "metadata": {},
   "outputs": [
    {
     "name": "stderr",
     "output_type": "stream",
     "text": [
      "Loading required package: S4Vectors\n",
      "Loading required package: stats4\n",
      "Loading required package: BiocGenerics\n",
      "Loading required package: parallel\n",
      "\n",
      "Attaching package: ‘BiocGenerics’\n",
      "\n",
      "The following objects are masked from ‘package:parallel’:\n",
      "\n",
      "    clusterApply, clusterApplyLB, clusterCall, clusterEvalQ,\n",
      "    clusterExport, clusterMap, parApply, parCapply, parLapply,\n",
      "    parLapplyLB, parRapply, parSapply, parSapplyLB\n",
      "\n",
      "The following objects are masked from ‘package:stats’:\n",
      "\n",
      "    IQR, mad, sd, var, xtabs\n",
      "\n",
      "The following objects are masked from ‘package:base’:\n",
      "\n",
      "    anyDuplicated, append, as.data.frame, basename, cbind, colMeans,\n",
      "    colnames, colSums, dirname, do.call, duplicated, eval, evalq,\n",
      "    Filter, Find, get, grep, grepl, intersect, is.unsorted, lapply,\n",
      "    lengths, Map, mapply, match, mget, order, paste, pmax, pmax.int,\n",
      "    pmin, pmin.int, Position, rank, rbind, Reduce, rowMeans, rownames,\n",
      "    rowSums, sapply, setdiff, sort, table, tapply, union, unique,\n",
      "    unsplit, which, which.max, which.min\n",
      "\n",
      "\n",
      "Attaching package: ‘S4Vectors’\n",
      "\n",
      "The following object is masked from ‘package:base’:\n",
      "\n",
      "    expand.grid\n",
      "\n",
      "Loading required package: IRanges\n",
      "Loading required package: GenomicRanges\n",
      "Loading required package: GenomeInfoDb\n",
      "Loading required package: SummarizedExperiment\n",
      "Loading required package: Biobase\n",
      "Welcome to Bioconductor\n",
      "\n",
      "    Vignettes contain introductory material; view with\n",
      "    'browseVignettes()'. To cite Bioconductor, see\n",
      "    'citation(\"Biobase\")', and for packages 'citation(\"pkgname\")'.\n",
      "\n",
      "Loading required package: DelayedArray\n",
      "Loading required package: matrixStats\n",
      "\n",
      "Attaching package: ‘matrixStats’\n",
      "\n",
      "The following objects are masked from ‘package:Biobase’:\n",
      "\n",
      "    anyMissing, rowMedians\n",
      "\n",
      "Loading required package: BiocParallel\n",
      "\n",
      "Attaching package: ‘DelayedArray’\n",
      "\n",
      "The following objects are masked from ‘package:matrixStats’:\n",
      "\n",
      "    colMaxs, colMins, colRanges, rowMaxs, rowMins, rowRanges\n",
      "\n",
      "The following objects are masked from ‘package:base’:\n",
      "\n",
      "    aperm, apply\n",
      "\n",
      "\n",
      "Attaching package: ‘IHW’\n",
      "\n",
      "The following object is masked from ‘package:ggplot2’:\n",
      "\n",
      "    alpha\n",
      "\n",
      "Loading required package: mgcv\n",
      "Loading required package: nlme\n",
      "\n",
      "Attaching package: ‘nlme’\n",
      "\n",
      "The following object is masked from ‘package:IRanges’:\n",
      "\n",
      "    collapse\n",
      "\n",
      "This is mgcv 1.8-28. For overview type 'help(\"mgcv-package\")'.\n",
      "Loading required package: genefilter\n",
      "\n",
      "Attaching package: ‘genefilter’\n",
      "\n",
      "The following objects are masked from ‘package:matrixStats’:\n",
      "\n",
      "    rowSds, rowVars\n",
      "\n",
      "\n",
      "Attaching package: ‘limma’\n",
      "\n",
      "The following object is masked from ‘package:DESeq2’:\n",
      "\n",
      "    plotMA\n",
      "\n",
      "The following object is masked from ‘package:BiocGenerics’:\n",
      "\n",
      "    plotMA\n",
      "\n"
     ]
    }
   ],
   "source": [
    "rm(list=ls())\n",
    "#load necessary libraries \n",
    "library(ggplot2)\n",
    "library(DESeq2)\n",
    "library(\"BiocParallel\")\n",
    "parallelFlag=TRUE\n",
    "register(MulticoreParam(50))\n",
    "library(\"IHW\")\n",
    "library(\"pheatmap\")\n",
    "library(sva)\n",
    "library(limma)"
   ]
  },
  {
   "cell_type": "markdown",
   "metadata": {},
   "source": [
    "## Load data and design"
   ]
  },
  {
   "cell_type": "code",
   "execution_count": 2,
   "metadata": {},
   "outputs": [],
   "source": [
    "##load ATAC-seq raw read counts\n",
    "#data=read.table('../adpd.atac.idr.counts.txt.gz',header=TRUE,sep='\\t')\n",
    "\n",
    "##concatenate chrom/start/end columns values to server as rownames for the dataframe of the form chrom_start_end \n",
    "#rownames(data)=paste(data$chrom,data$start,data$end,sep=\"_\")\n",
    "#data$chrom=NULL\n",
    "#data$start=NULL\n",
    "#data$end=NULL\n",
    "\n",
    "#data=data[rowSums(data)>0,]\n"
   ]
  },
  {
   "cell_type": "code",
   "execution_count": 3,
   "metadata": {},
   "outputs": [],
   "source": [
    "#load ATAC-seq data normalized counts. These were generated below w/ voom function \n",
    "E=read.table(\"idr.voom.qnorm.txt\",header=TRUE,sep='\\t',row.names=1)\n"
   ]
  },
  {
   "cell_type": "code",
   "execution_count": null,
   "metadata": {},
   "outputs": [],
   "source": [
    "#load the metadata\n",
    "batches=read.table(\"../batches.filtered.csv\",header=TRUE,sep='\\t')"
   ]
  },
  {
   "cell_type": "markdown",
   "metadata": {},
   "source": [
    "## Normalize the data with voom "
   ]
  },
  {
   "cell_type": "code",
   "execution_count": null,
   "metadata": {},
   "outputs": [],
   "source": [
    "#tpm=voom(data,normalize.method = \"quantile\")\n",
    "#E=tpm$E\n",
    "#E=round(E,2)"
   ]
  },
  {
   "cell_type": "code",
   "execution_count": null,
   "metadata": {},
   "outputs": [],
   "source": [
    "#save the normalized data so we can load those values directly next time\n",
    "write.table(E,file=\"idr.voom.qnorm.txt\",quote=FALSE,sep='\\t')"
   ]
  },
  {
   "cell_type": "markdown",
   "metadata": {},
   "source": [
    "## Perform PCA analysis before SVA correction, find which covariates account for axes of variation"
   ]
  },
  {
   "cell_type": "code",
   "execution_count": null,
   "metadata": {},
   "outputs": [],
   "source": [
    "data.pca=prcomp(t(E))"
   ]
  },
  {
   "cell_type": "code",
   "execution_count": null,
   "metadata": {},
   "outputs": [],
   "source": [
    "var_explained=as.character(round(100*data.pca$sdev^2/sum(data.pca$sdev^2),2))\n"
   ]
  },
  {
   "cell_type": "code",
   "execution_count": null,
   "metadata": {},
   "outputs": [],
   "source": [
    "barplot(100*data.pca$sdev^2/sum(data.pca$sdev^2),las=2,ylab=\"% Variance Explained\",xlab=\"Principal Component\",ylim=c(0,40), xlim=c(0,10))"
   ]
  },
  {
   "cell_type": "code",
   "execution_count": null,
   "metadata": {},
   "outputs": [],
   "source": [
    "nrow(E)"
   ]
  },
  {
   "cell_type": "code",
   "execution_count": null,
   "metadata": {},
   "outputs": [],
   "source": [
    "var_explained[0:10]"
   ]
  },
  {
   "cell_type": "code",
   "execution_count": null,
   "metadata": {},
   "outputs": [],
   "source": [
    "pca_df=data.frame(data.pca$x)\n",
    "pca_df=cbind(pca_df,batches)"
   ]
  },
  {
   "cell_type": "code",
   "execution_count": null,
   "metadata": {},
   "outputs": [],
   "source": [
    "ggplot(data=pca_df,aes(x=pca_df$PC1,y=pca_df$PC2,color=pca_df$Region))+\n",
    "geom_point()"
   ]
  },
  {
   "cell_type": "code",
   "execution_count": null,
   "metadata": {},
   "outputs": [],
   "source": [
    "ggplot(data=pca_df,aes(x=pca_df$PC2,y=pca_df$PC3,color=pca_df$ApoE))+\n",
    "geom_point()\n",
    "#Type\tTypeMod\tRegion\tRegionMod\tCohort\tTissueCenter\tBatch\tGender\texpired_age\tPMI\tApoE"
   ]
  },
  {
   "cell_type": "code",
   "execution_count": null,
   "metadata": {},
   "outputs": [],
   "source": [
    "E_nonzero_var=E[apply(E, 1, var) >= 0.01, ]\n",
    "nrow(E_nonzero)\n",
    "nrow(E)\n",
    "#confirm that we don't have low-variance peaks in the data \n"
   ]
  },
  {
   "cell_type": "code",
   "execution_count": null,
   "metadata": {},
   "outputs": [],
   "source": [
    "Grouping <- factor(paste0(batches$Cohort,\".\",batches$RegionMod, \".\", batches$TypeMod))"
   ]
  },
  {
   "cell_type": "code",
   "execution_count": null,
   "metadata": {},
   "outputs": [],
   "source": [
    "batches$Grouping=Grouping"
   ]
  },
  {
   "cell_type": "code",
   "execution_count": null,
   "metadata": {},
   "outputs": [],
   "source": [
    "colSums(is.na(batches))"
   ]
  },
  {
   "cell_type": "code",
   "execution_count": null,
   "metadata": {},
   "outputs": [],
   "source": [
    "#SVA can't handle NA values, so we have no choice but to interpolate to the mode for missing entries in PMI & ApoE \n",
    "batches$ApoE[is.na(batches$ApoE)]='3_3'\n",
    "batches$PMI[is.na(batches$PMI)]=mean(na.omit(batches$PMI))"
   ]
  },
  {
   "cell_type": "code",
   "execution_count": null,
   "metadata": {},
   "outputs": [],
   "source": [
    "mod0=model.matrix(~1,data=batches)\n",
    "mod1=model.matrix(~Grouping,data=batches)#+Gender+expired_age+PMI+TissueCenter,data=batches)#+Cohort+ApoE+Batch,data=batches)\n",
    "#Note:  Batch is perfectly correlated with other covariates, must be excluded from sva to avoid\n",
    "# 'system is computationally singular' error "
   ]
  },
  {
   "cell_type": "code",
   "execution_count": null,
   "metadata": {},
   "outputs": [],
   "source": []
  },
  {
   "cell_type": "code",
   "execution_count": null,
   "metadata": {},
   "outputs": [],
   "source": [
    "#compute sva on the 10k most variable rows \n",
    "sva.obj=sva(E,mod1,mod0,vfilter=10000)#,n.sv = n.sv,vfilter=10000)"
   ]
  },
  {
   "cell_type": "code",
   "execution_count": null,
   "metadata": {},
   "outputs": [],
   "source": [
    "sur_var=data.frame(sva.obj$sv)"
   ]
  },
  {
   "cell_type": "code",
   "execution_count": null,
   "metadata": {},
   "outputs": [],
   "source": [
    "#summary(lm(sva.obj$sv~batches$TissueCenter))"
   ]
  },
  {
   "cell_type": "code",
   "execution_count": null,
   "metadata": {},
   "outputs": [],
   "source": [
    "#summary(lm(sva.obj$sv~batches$Batch))"
   ]
  },
  {
   "cell_type": "code",
   "execution_count": null,
   "metadata": {},
   "outputs": [],
   "source": [
    "#summary(lm(sva.obj$sv~batches$Gender))"
   ]
  },
  {
   "cell_type": "code",
   "execution_count": null,
   "metadata": {},
   "outputs": [],
   "source": [
    "#summary(lm(sva.obj$sv~batches$expired_age))"
   ]
  },
  {
   "cell_type": "code",
   "execution_count": null,
   "metadata": {},
   "outputs": [],
   "source": [
    "#summary(lm(sva.obj$sv~batches$PMI))"
   ]
  },
  {
   "cell_type": "code",
   "execution_count": null,
   "metadata": {},
   "outputs": [],
   "source": [
    "#summary(lm(sva.obj$sv~batches$ApoE))"
   ]
  },
  {
   "cell_type": "code",
   "execution_count": null,
   "metadata": {},
   "outputs": [],
   "source": [
    "#Now, we include all covariates and surrogate variables \n",
    "mod2=model.matrix(~Grouping+Gender+expired_age+PMI+ApoE,data=batches)"
   ]
  },
  {
   "cell_type": "code",
   "execution_count": null,
   "metadata": {},
   "outputs": [],
   "source": [
    "full.design.sv=cbind(mod2,sur_var)"
   ]
  },
  {
   "cell_type": "code",
   "execution_count": null,
   "metadata": {},
   "outputs": [],
   "source": [
    "#save the full design so we don't have to run SVA next time \n",
    "write.table(full.design.sv,file=\"full.design.sv.txt\",quote=FALSE,sep='\\t')"
   ]
  },
  {
   "cell_type": "code",
   "execution_count": null,
   "metadata": {},
   "outputs": [],
   "source": [
    "full.design.sv=read.table(\"full.design.sv.txt\",header=TRUE,sep='\\t')"
   ]
  },
  {
   "cell_type": "markdown",
   "metadata": {},
   "source": [
    "### perform pca on the \"cleaned\" matrix with surrogate variable contributions removes "
   ]
  },
  {
   "cell_type": "code",
   "execution_count": null,
   "metadata": {},
   "outputs": [],
   "source": [
    "cleaned_E=removeBatchEffect(E,covariates=sur_var)"
   ]
  },
  {
   "cell_type": "code",
   "execution_count": null,
   "metadata": {},
   "outputs": [],
   "source": [
    "data.pca=prcomp(t(cleaned_E))"
   ]
  },
  {
   "cell_type": "code",
   "execution_count": null,
   "metadata": {},
   "outputs": [],
   "source": [
    "var_explained=as.character(round(100*data.pca$sdev^2/sum(data.pca$sdev^2),2))"
   ]
  },
  {
   "cell_type": "code",
   "execution_count": null,
   "metadata": {},
   "outputs": [],
   "source": [
    "barplot(100*data.pca$sdev^2/sum(data.pca$sdev^2),las=2,ylab=\"% Variance Explained\",xlab=\"Principal Component\",ylim=c(0,40), xlim=c(0,10))"
   ]
  },
  {
   "cell_type": "code",
   "execution_count": null,
   "metadata": {},
   "outputs": [],
   "source": [
    "var_explained[0:10]"
   ]
  },
  {
   "cell_type": "code",
   "execution_count": null,
   "metadata": {},
   "outputs": [],
   "source": [
    "pca_df=data.frame(data.pca$x)\n",
    "pca_df=cbind(pca_df,batches)"
   ]
  },
  {
   "cell_type": "code",
   "execution_count": null,
   "metadata": {},
   "outputs": [],
   "source": [
    "ggplot(data=pca_df,aes(x=pca_df$PC1,y=pca_df$PC2,color=pca_df$Region))+\n",
    "geom_point()"
   ]
  },
  {
   "cell_type": "code",
   "execution_count": null,
   "metadata": {},
   "outputs": [],
   "source": [
    "ggplot(data=pca_df,aes(x=pca_df$PC2,y=pca_df$PC3,color=pca_df$TypeMod))+\n",
    "geom_point()"
   ]
  },
  {
   "cell_type": "markdown",
   "metadata": {},
   "source": [
    "### fit model with limma "
   ]
  },
  {
   "cell_type": "code",
   "execution_count": null,
   "metadata": {},
   "outputs": [],
   "source": [
    "fit <- lmFit(E,full.design.sv)"
   ]
  },
  {
   "cell_type": "markdown",
   "metadata": {},
   "source": [
    "###  Contrasts\n"
   ]
  },
  {
   "cell_type": "code",
   "execution_count": null,
   "metadata": {},
   "outputs": [],
   "source": [
    "#create contrasts of interest \n",
    "cont.matrix=makeContrasts(\n",
    "    pd_caud_adpd_vs_lopd=\"GroupingPD.CAUD.ADPD - GroupingPD.CAUD.LOPD\",\n",
    "    pd_caud_adpd_vs_ctrl=\"GroupingPD.CAUD.ADPD - GroupingPD.CAUD.CTRL\",\n",
    "    pd_caud_lopd_vs_ctrl=\"GroupingPD.CAUD.LOPD - GroupingPD.CAUD.CTRL\",\n",
    "    pd_hipp_adpd_vs_lopd=\"GroupingPD.HIPP.ADPD - GroupingPD.HIPP.LOPD\",\n",
    "    pd_hipp_adpd_vs_ctrl=\"GroupingPD.HIPP.ADPD - GroupingPD.HIPP.CTRL\",\n",
    "    pd_hipp_lopd_vs_ctrl=\"GroupingPD.HIPP.LOPD - GroupingPD.HIPP.CTRL\",\n",
    "    pd_mdfg_adpd_vs_lopd=\"GroupingPD.MDFG.ADPD - GroupingPD.MDFG.LOPD\",\n",
    "    pd_mdfg_adpd_vs_ctrl=\"GroupingPD.MDFG.ADPD - GroupingPD.MDFG.CTRL\",\n",
    "    pd_mdfg_lopd_vs_ctrl=\"GroupingPD.MDFG.LOPD - GroupingPD.MDFG.CTRL\",\n",
    "    pd_ptmn_adpd_vs_lopd=\"GroupingPD.PTMN.ADPD - GroupingPD.PTMN.LOPD\",\n",
    "    pd_ptmn_adpd_vs_ctrl=\"GroupingPD.PTMN.ADPD - GroupingPD.PTMN.CTRL\",\n",
    "    pd_ptmn_lopd_vs_ctrl=\"GroupingPD.PTMN.LOPD - GroupingPD.PTMN.CTRL\",\n",
    "    pd_smtg_adpd_vs_lopd=\"GroupingPD.SMTG.ADPD - GroupingPD.SMTG.LOPD\",\n",
    "    pd_smtg_adpd_vs_ctrl=\"GroupingPD.SMTG.ADPD - GroupingPD.SMTG.CTRL\",\n",
    "    pd_smtg_lopd_vs_ctrl=\"GroupingPD.SMTG.LOPD - GroupingPD.SMTG.CTRL\",\n",
    "    pd_suni_adpd_vs_lopd=\"GroupingPD.SUNI.ADPD - GroupingPD.SUNI.LOPD\",\n",
    "    pd_suni_adpd_vs_ctrl=\"GroupingPD.SUNI.ADPD - GroupingPD.SUNI.CTRL\",\n",
    "    pd_suni_lopd_vs_ctrl=\"GroupingPD.SUNI.LOPD - GroupingPD.SUNI.CTRL\",\n",
    "    levels=full.design.sv)\n"
   ]
  },
  {
   "cell_type": "code",
   "execution_count": null,
   "metadata": {},
   "outputs": [],
   "source": [
    "fit2=contrasts.fit(fit,cont.matrix)\n",
    "e=eBayes(fit2)\n",
    "comparisons=colnames(cont.matrix)"
   ]
  },
  {
   "cell_type": "code",
   "execution_count": null,
   "metadata": {},
   "outputs": [],
   "source": [
    "pval_thresh=0.05\n",
    "lfc_thresh=1"
   ]
  },
  {
   "cell_type": "code",
   "execution_count": null,
   "metadata": {},
   "outputs": [],
   "source": [
    "for(i in seq(1,length(comparisons)))\n",
    "{\n",
    "  tab<-topTable(e, number=nrow(e),coef=i,lfc=lfc_thresh, p.value = pval_thresh)\n",
    "  up=sum(tab$logFC>0)\n",
    "  down=sum(tab$logFC<0)\n",
    "  sig=nrow(tab)\n",
    "  curtitle=paste(comparisons[i],'\\n','sig:',sig,'\\n','up:',up,'\\n','down:',down,'\\n')\n",
    "  print(curtitle)\n",
    "  vals=topTable(e,number=nrow(e),coef=i)\n",
    "  vals$pscaled=-1*log10(vals$adj.P.Val)\n",
    "  vals$sig=vals$adj.P.Val<pval_thresh & abs(vals$logFC)>lfc_thresh\n",
    "  png(paste(\"sva_volcano_diff\",comparisons[i],\".png\",sep=\"\"))\n",
    "  print(ggplot(data=vals,\n",
    "               aes(y=vals$pscaled,x=vals$logFC,color=vals$sig))+\n",
    "               geom_point(alpha=0.1)+\n",
    "               xlab(\"log2(FC)\")+\n",
    "               ylab(\"-log10(pval)\")+\n",
    "               theme_bw(20)+\n",
    "               scale_color_manual(values=\"#000000\",\"#FF0000\")+\n",
    "               ggtitle(curtitle))\n",
    "  dev.off() \n",
    "  write.table(tab,file=paste(\"sva_diff_\",comparisons[i],\".tsv\",sep=\"\"),quote=FALSE,sep='\\t',row.names = TRUE,col.names = TRUE)\n",
    "}\n",
    "    "
   ]
  },
  {
   "cell_type": "code",
   "execution_count": null,
   "metadata": {},
   "outputs": [],
   "source": [
    "sur_var=full.design.sv[,88:105]"
   ]
  },
  {
   "cell_type": "markdown",
   "metadata": {},
   "source": [
    "## Looking at Type and Region (as opposed to TypeMod and RegionMod)"
   ]
  },
  {
   "cell_type": "code",
   "execution_count": null,
   "metadata": {},
   "outputs": [],
   "source": [
    "Grouping <- factor(paste0(batches$Cohort,\".\",batches$Region, \".\", batches$Type))\n",
    "batches$Grouping=Grouping\n",
    "mod=model.matrix(~~Grouping+Gender+expired_age+PMI+ApoE,data=batches)\n",
    "mod=cbind(mod,sur_var)\n",
    "fit <- lmFit(E,mod)\n",
    "colnames(fit$coefficients)"
   ]
  },
  {
   "cell_type": "code",
   "execution_count": null,
   "metadata": {},
   "outputs": [],
   "source": [
    "nrow(sur_var)"
   ]
  },
  {
   "cell_type": "code",
   "execution_count": null,
   "metadata": {},
   "outputs": [],
   "source": [
    "#create contrasts of interest \n",
    "cont.matrix=makeContrasts(\n",
    "    pd_caud_gba1_vs_lrrk=\"GroupingPD.CAUD.GBA1 - GroupingPD.CAUD.LRRK\",\n",
    "    pd_caud_gba1_vs_spor=\"GroupingPD.CAUD.GBA1 - GroupingPD.CAUD.SPOR\",\n",
    "    pd_caud_gba1_vs_ctrl=\"GroupingPD.CAUD.GBA1 - GroupingPD.CAUD.CTRL\",\n",
    "    pd_caud_lrrk_vs_spor=\"GroupingPD.CAUD.LRRK - GroupingPD.CAUD.SPOR\",\n",
    "    pd_caud_lrrk_vs_ctrl=\"GroupingPD.CAUD.LRRK - GroupingPD.CAUD.CTRL\",\n",
    "    pd_caud_spor_vs_ctrl=\"GroupingPD.CAUD.SPOR - GroupingPD.CAUD.CTRL\",\n",
    "    pd_hipp_gba1_vs_lrrk=\"GroupingPD.HIPP.GBA1 - GroupingPD.HIPP.LRRK\",\n",
    "    pd_hipp_gba1_vs_spor=\"GroupingPD.HIPP.GBA1 - GroupingPD.HIPP.SPOR\",\n",
    "    pd_hipp_gba1_vs_ctrl=\"GroupingPD.HIPP.GBA1 - GroupingPD.HIPP.CTRL\",\n",
    "    pd_hipp_lrrk_vs_spor=\"GroupingPD.HIPP.LRRK - GroupingPD.HIPP.SPOR\",\n",
    "    pd_hipp_lrrk_vs_ctrl=\"GroupingPD.HIPP.LRRK - GroupingPD.HIPP.CTRL\",\n",
    "    pd_hipp_spor_vs_ctrl=\"GroupingPD.HIPP.SPOR - GroupingPD.HIPP.CTRL\",\n",
    "    pd_mdfg_gba1_vs_lrrk=\"GroupingPD.MDFG.GBA1 - GroupingPD.MDFG.LRRK\",\n",
    "    pd_mdfg_gba1_vs_spor=\"GroupingPD.MDFG.GBA1 - GroupingPD.MDFG.SPOR\",\n",
    "    pd_mdfg_gba1_vs_ctrl=\"GroupingPD.MDFG.GBA1 - GroupingPD.MDFG.CTRL\",\n",
    "    pd_mdfg_lrrk_vs_spor=\"GroupingPD.MDFG.LRRK - GroupingPD.MDFG.SPOR\",\n",
    "    pd_mdfg_lrrk_vs_ctrl=\"GroupingPD.MDFG.LRRK - GroupingPD.MDFG.CTRL\",\n",
    "    pd_mdfg_spor_vs_ctrl=\"GroupingPD.MDFG.SPOR - GroupingPD.MDFG.CTRL\",\n",
    "    pd_mdtg_gba1_vs_lrrk=\"GroupingPD.MDTG.GBA1 - GroupingPD.MDTG.LRRK\",\n",
    "    pd_mdtg_gba1_vs_spor=\"GroupingPD.MDTG.GBA1 - GroupingPD.MDTG.SPOR\",\n",
    "    pd_mdtg_gba1_vs_ctrl=\"GroupingPD.MDTG.GBA1 - GroupingPD.MDTG.CTRL\",\n",
    "    pd_mdtg_lrrk_vs_spor=\"GroupingPD.MDTG.LRRK - GroupingPD.MDTG.SPOR\",\n",
    "    pd_mdtg_lrrk_vs_ctrl=\"GroupingPD.MDTG.LRRK - GroupingPD.MDTG.CTRL\",\n",
    "    pd_mdtg_spor_vs_ctrl=\"GroupingPD.MDTG.SPOR - GroupingPD.MDTG.CTRL\",\n",
    "    pd_ptmn_gba1_vs_lrrk=\"GroupingPD.PTMN.GBA1 - GroupingPD.PTMN.LRRK\",\n",
    "    pd_ptmn_gba1_vs_spor=\"GroupingPD.PTMN.GBA1 - GroupingPD.PTMN.SPOR\",\n",
    "    pd_ptmn_gba1_vs_ctrl=\"GroupingPD.PTMN.GBA1 - GroupingPD.PTMN.CTRL\",\n",
    "    pd_ptmn_lrrk_vs_spor=\"GroupingPD.PTMN.LRRK - GroupingPD.PTMN.SPOR\",\n",
    "    pd_ptmn_lrrk_vs_ctrl=\"GroupingPD.PTMN.LRRK - GroupingPD.PTMN.CTRL\",\n",
    "    pd_ptmn_spor_vs_ctrl=\"GroupingPD.PTMN.SPOR - GroupingPD.PTMN.CTRL\",\n",
    "    pd_suni_gba1_vs_lrrk=\"GroupingPD.SUNI.GBA1 - GroupingPD.SUNI.LRRK\",\n",
    "    pd_suni_gba1_vs_spor=\"GroupingPD.SUNI.GBA1 - GroupingPD.SUNI.SPOR\",\n",
    "    pd_suni_gba1_vs_ctrl=\"GroupingPD.SUNI.GBA1 - GroupingPD.SUNI.CTRL\",\n",
    "    pd_suni_lrrk_vs_spor=\"GroupingPD.SUNI.LRRK - GroupingPD.SUNI.SPOR\",\n",
    "    pd_suni_lrrk_vs_ctrl=\"GroupingPD.SUNI.LRRK - GroupingPD.SUNI.CTRL\",\n",
    "    pd_suni_spor_vs_ctrl=\"GroupingPD.SUNI.SPOR - GroupingPD.SUNI.CTRL\",    \n",
    "    levels=mod)\n"
   ]
  },
  {
   "cell_type": "code",
   "execution_count": null,
   "metadata": {},
   "outputs": [],
   "source": [
    "fit2=contrasts.fit(fit,cont.matrix)\n",
    "e=eBayes(fit2)\n",
    "comparisons=colnames(cont.matrix)"
   ]
  },
  {
   "cell_type": "code",
   "execution_count": null,
   "metadata": {},
   "outputs": [],
   "source": [
    "for(i in seq(1,length(comparisons)))\n",
    "{\n",
    "  tab<-topTable(e, number=nrow(e),coef=i,lfc=lfc_thresh,p.value = pval_thresh)\n",
    "  up=sum(tab$logFC>0)\n",
    "  down=sum(tab$logFC<0)\n",
    "  sig=nrow(tab)\n",
    "  curtitle=paste(comparisons[i],'\\n','sig:',sig,'\\n','up:',up,'\\n','down:',down,'\\n')\n",
    "  print(curtitle)\n",
    "  vals=topTable(e,number=nrow(e),coef=i)\n",
    "  vals$pscaled=-1*log10(vals$adj.P.Val)\n",
    "  vals$sig=vals$adj.P.Val<pval_thresh & abs(vals$logFC)>lfc_thresh\n",
    "  png(paste(\"expanded_sva_volcano_diff\",comparisons[i],\".png\",sep=\"\"))\n",
    "  print(ggplot(data=vals,\n",
    "               aes(y=vals$pscaled,x=vals$logFC,color=vals$sig))+\n",
    "               geom_point(alpha=0.1)+\n",
    "               xlab(\"log2(FC)\")+\n",
    "               ylab(\"-log10(pval)\")+\n",
    "               theme_bw()+\n",
    "               scale_color_manual(values=c(\"#000000\",\"#FF0000\"))+\n",
    "               ggtitle(curtitle))\n",
    "  dev.off() \n",
    "  write.table(tab,file=paste(\"expanded_sva_diff_\",comparisons[i],\".tsv\",sep=\"\"),quote=FALSE,sep='\\t',row.names = TRUE,col.names = TRUE)\n",
    "}\n",
    "    \n",
    "    "
   ]
  }
 ],
 "metadata": {
  "kernelspec": {
   "display_name": "R 3.5",
   "language": "R",
   "name": "ir35"
  },
  "language_info": {
   "codemirror_mode": "r",
   "file_extension": ".r",
   "mimetype": "text/x-r-source",
   "name": "R",
   "pygments_lexer": "r",
   "version": "3.5.1"
  }
 },
 "nbformat": 4,
 "nbformat_minor": 2
}
