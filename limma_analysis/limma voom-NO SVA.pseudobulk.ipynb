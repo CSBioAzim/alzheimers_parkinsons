{
 "cells": [
  {
   "cell_type": "markdown",
   "metadata": {},
   "source": [
    "### Limma voom analysis of AD/PD dataset, NO SVA, ON PSEUDOREPS "
   ]
  },
  {
   "cell_type": "code",
   "execution_count": 1,
   "metadata": {},
   "outputs": [
    {
     "name": "stderr",
     "output_type": "stream",
     "text": [
      "Loading required package: S4Vectors\n",
      "Loading required package: stats4\n",
      "Loading required package: BiocGenerics\n",
      "Loading required package: parallel\n",
      "\n",
      "Attaching package: ‘BiocGenerics’\n",
      "\n",
      "The following objects are masked from ‘package:parallel’:\n",
      "\n",
      "    clusterApply, clusterApplyLB, clusterCall, clusterEvalQ,\n",
      "    clusterExport, clusterMap, parApply, parCapply, parLapply,\n",
      "    parLapplyLB, parRapply, parSapply, parSapplyLB\n",
      "\n",
      "The following objects are masked from ‘package:stats’:\n",
      "\n",
      "    IQR, mad, sd, var, xtabs\n",
      "\n",
      "The following objects are masked from ‘package:base’:\n",
      "\n",
      "    anyDuplicated, append, as.data.frame, basename, cbind, colMeans,\n",
      "    colnames, colSums, dirname, do.call, duplicated, eval, evalq,\n",
      "    Filter, Find, get, grep, grepl, intersect, is.unsorted, lapply,\n",
      "    lengths, Map, mapply, match, mget, order, paste, pmax, pmax.int,\n",
      "    pmin, pmin.int, Position, rank, rbind, Reduce, rowMeans, rownames,\n",
      "    rowSums, sapply, setdiff, sort, table, tapply, union, unique,\n",
      "    unsplit, which, which.max, which.min\n",
      "\n",
      "\n",
      "Attaching package: ‘S4Vectors’\n",
      "\n",
      "The following object is masked from ‘package:base’:\n",
      "\n",
      "    expand.grid\n",
      "\n",
      "Loading required package: IRanges\n",
      "Loading required package: GenomicRanges\n",
      "Loading required package: GenomeInfoDb\n",
      "Loading required package: SummarizedExperiment\n",
      "Loading required package: Biobase\n",
      "Welcome to Bioconductor\n",
      "\n",
      "    Vignettes contain introductory material; view with\n",
      "    'browseVignettes()'. To cite Bioconductor, see\n",
      "    'citation(\"Biobase\")', and for packages 'citation(\"pkgname\")'.\n",
      "\n",
      "Loading required package: DelayedArray\n",
      "Loading required package: matrixStats\n",
      "\n",
      "Attaching package: ‘matrixStats’\n",
      "\n",
      "The following objects are masked from ‘package:Biobase’:\n",
      "\n",
      "    anyMissing, rowMedians\n",
      "\n",
      "Loading required package: BiocParallel\n",
      "\n",
      "Attaching package: ‘DelayedArray’\n",
      "\n",
      "The following objects are masked from ‘package:matrixStats’:\n",
      "\n",
      "    colMaxs, colMins, colRanges, rowMaxs, rowMins, rowRanges\n",
      "\n",
      "The following objects are masked from ‘package:base’:\n",
      "\n",
      "    aperm, apply\n",
      "\n",
      "\n",
      "Attaching package: ‘IHW’\n",
      "\n",
      "The following object is masked from ‘package:ggplot2’:\n",
      "\n",
      "    alpha\n",
      "\n",
      "Loading required package: mgcv\n",
      "Loading required package: nlme\n",
      "\n",
      "Attaching package: ‘nlme’\n",
      "\n",
      "The following object is masked from ‘package:IRanges’:\n",
      "\n",
      "    collapse\n",
      "\n",
      "This is mgcv 1.8-28. For overview type 'help(\"mgcv-package\")'.\n",
      "Loading required package: genefilter\n",
      "\n",
      "Attaching package: ‘genefilter’\n",
      "\n",
      "The following objects are masked from ‘package:matrixStats’:\n",
      "\n",
      "    rowSds, rowVars\n",
      "\n",
      "\n",
      "Attaching package: ‘limma’\n",
      "\n",
      "The following object is masked from ‘package:DESeq2’:\n",
      "\n",
      "    plotMA\n",
      "\n",
      "The following object is masked from ‘package:BiocGenerics’:\n",
      "\n",
      "    plotMA\n",
      "\n"
     ]
    }
   ],
   "source": [
    "rm(list=ls())\n",
    "#load necessary libraries \n",
    "library(ggplot2)\n",
    "library(DESeq2)\n",
    "library(\"BiocParallel\")\n",
    "parallelFlag=TRUE\n",
    "register(MulticoreParam(50))\n",
    "library(\"IHW\")\n",
    "library(\"pheatmap\")\n",
    "library(sva)\n",
    "library(limma)"
   ]
  },
  {
   "cell_type": "markdown",
   "metadata": {},
   "source": [
    "## Load data and design"
   ]
  },
  {
   "cell_type": "code",
   "execution_count": 3,
   "metadata": {},
   "outputs": [],
   "source": [
    "##load ATAC-seq raw read counts\n",
    "data=read.table('/oak/stanford/groups/akundaje/projects/alzheimers_parkinsons/pseudobulk/count_matrix_overlap/adpd.pseudobulk.overlap.atac.counts.txt.gz',header=TRUE,sep='\\t')\n",
    "\n",
    "##concatenate chrom/start/end columns values to server as rownames for the dataframe of the form chrom_start_end \n",
    "rownames(data)=paste(data$chrom,data$start,data$end,sep=\"_\")\n",
    "data$chrom=NULL\n",
    "data$start=NULL\n",
    "data$end=NULL\n",
    "\n",
    "data=data[rowSums(data)>0,]\n"
   ]
  },
  {
   "cell_type": "code",
   "execution_count": 4,
   "metadata": {},
   "outputs": [
    {
     "data": {
      "text/html": [
       "24"
      ],
      "text/latex": [
       "24"
      ],
      "text/markdown": [
       "24"
      ],
      "text/plain": [
       "[1] 24"
      ]
     },
     "metadata": {},
     "output_type": "display_data"
    }
   ],
   "source": [
    "ncol(data)"
   ]
  },
  {
   "cell_type": "code",
   "execution_count": 3,
   "metadata": {},
   "outputs": [],
   "source": [
    "#load ATAC-seq data normalized counts. These were generated below w/ voom function \n",
    "#E=read.table(\"pr.idr.voom.qnorm.txt\",header=TRUE,sep='\\t',row.names=1)"
   ]
  },
  {
   "cell_type": "code",
   "execution_count": 5,
   "metadata": {},
   "outputs": [],
   "source": [
    "#load the metadata\n",
    "batches=read.table(\"celltype.csv\",header=TRUE,sep='\\t')"
   ]
  },
  {
   "cell_type": "code",
   "execution_count": 6,
   "metadata": {},
   "outputs": [
    {
     "data": {
      "text/html": [
       "<table>\n",
       "<caption>A data.frame: 6 × 1</caption>\n",
       "<thead>\n",
       "\t<tr><th scope=col>CellType</th></tr>\n",
       "\t<tr><th scope=col>&lt;fct&gt;</th></tr>\n",
       "</thead>\n",
       "<tbody>\n",
       "\t<tr><td>OPCs             </td></tr>\n",
       "\t<tr><td>InhibitoryNeurons</td></tr>\n",
       "\t<tr><td>InhibitoryNeurons</td></tr>\n",
       "\t<tr><td>Astrocytes       </td></tr>\n",
       "\t<tr><td>Astrocytes       </td></tr>\n",
       "\t<tr><td>Astrocytes       </td></tr>\n",
       "</tbody>\n",
       "</table>\n"
      ],
      "text/latex": [
       "A data.frame: 6 × 1\n",
       "\\begin{tabular}{r|l}\n",
       " CellType\\\\\n",
       " <fct>\\\\\n",
       "\\hline\n",
       "\t OPCs             \\\\\n",
       "\t InhibitoryNeurons\\\\\n",
       "\t InhibitoryNeurons\\\\\n",
       "\t Astrocytes       \\\\\n",
       "\t Astrocytes       \\\\\n",
       "\t Astrocytes       \\\\\n",
       "\\end{tabular}\n"
      ],
      "text/markdown": [
       "\n",
       "A data.frame: 6 × 1\n",
       "\n",
       "| CellType &lt;fct&gt; |\n",
       "|---|\n",
       "| OPCs              |\n",
       "| InhibitoryNeurons |\n",
       "| InhibitoryNeurons |\n",
       "| Astrocytes        |\n",
       "| Astrocytes        |\n",
       "| Astrocytes        |\n",
       "\n"
      ],
      "text/plain": [
       "  CellType         \n",
       "1 OPCs             \n",
       "2 InhibitoryNeurons\n",
       "3 InhibitoryNeurons\n",
       "4 Astrocytes       \n",
       "5 Astrocytes       \n",
       "6 Astrocytes       "
      ]
     },
     "metadata": {},
     "output_type": "display_data"
    }
   ],
   "source": [
    "head(batches)"
   ]
  },
  {
   "cell_type": "markdown",
   "metadata": {},
   "source": [
    "## Normalize the data with Limma  "
   ]
  },
  {
   "cell_type": "code",
   "execution_count": 7,
   "metadata": {},
   "outputs": [],
   "source": [
    "tpm=voom(data,normalize.method = \"quantile\")\n",
    "E=tpm$E\n",
    "E=round(E,2)"
   ]
  },
  {
   "cell_type": "code",
   "execution_count": 8,
   "metadata": {},
   "outputs": [],
   "source": [
    "#save the normalized data so we can load those values directly next time\n",
    "write.table(E,file=\"pr.idr.voom.qnorm.txt\",quote=FALSE,sep='\\t')"
   ]
  },
  {
   "cell_type": "markdown",
   "metadata": {},
   "source": [
    "## Perform PCA analysis find which covariates account for axes of variation"
   ]
  },
  {
   "cell_type": "code",
   "execution_count": 9,
   "metadata": {},
   "outputs": [],
   "source": [
    "data.pca=prcomp(t(E))"
   ]
  },
  {
   "cell_type": "code",
   "execution_count": 10,
   "metadata": {},
   "outputs": [],
   "source": [
    "var_explained=as.character(round(100*data.pca$sdev^2/sum(data.pca$sdev^2),2))\n"
   ]
  },
  {
   "cell_type": "code",
   "execution_count": 11,
   "metadata": {},
   "outputs": [
    {
     "data": {
      "image/png": "[encoded data removed]",
      "text/plain": [
       "plot without title"
      ]
     },
     "metadata": {},
     "output_type": "display_data"
    }
   ],
   "source": [
    "barplot(100*data.pca$sdev^2/sum(data.pca$sdev^2),las=2,ylab=\"% Variance Explained\",xlab=\"Principal Component\",ylim=c(0,40), xlim=c(0,10))"
   ]
  },
  {
   "cell_type": "code",
   "execution_count": 12,
   "metadata": {},
   "outputs": [
    {
     "data": {
      "text/html": [
       "<ol class=list-inline>\n",
       "\t<li>'24.71'</li>\n",
       "\t<li>'13.95'</li>\n",
       "\t<li>'10.59'</li>\n",
       "\t<li>'6.62'</li>\n",
       "\t<li>'5.67'</li>\n",
       "\t<li>'4.54'</li>\n",
       "\t<li>'4.03'</li>\n",
       "\t<li>'3.16'</li>\n",
       "\t<li>'2.92'</li>\n",
       "\t<li>'2.85'</li>\n",
       "</ol>\n"
      ],
      "text/latex": [
       "\\begin{enumerate*}\n",
       "\\item '24.71'\n",
       "\\item '13.95'\n",
       "\\item '10.59'\n",
       "\\item '6.62'\n",
       "\\item '5.67'\n",
       "\\item '4.54'\n",
       "\\item '4.03'\n",
       "\\item '3.16'\n",
       "\\item '2.92'\n",
       "\\item '2.85'\n",
       "\\end{enumerate*}\n"
      ],
      "text/markdown": [
       "1. '24.71'\n",
       "2. '13.95'\n",
       "3. '10.59'\n",
       "4. '6.62'\n",
       "5. '5.67'\n",
       "6. '4.54'\n",
       "7. '4.03'\n",
       "8. '3.16'\n",
       "9. '2.92'\n",
       "10. '2.85'\n",
       "\n",
       "\n"
      ],
      "text/plain": [
       " [1] \"24.71\" \"13.95\" \"10.59\" \"6.62\"  \"5.67\"  \"4.54\"  \"4.03\"  \"3.16\"  \"2.92\" \n",
       "[10] \"2.85\" "
      ]
     },
     "metadata": {},
     "output_type": "display_data"
    }
   ],
   "source": [
    "var_explained[0:10]"
   ]
  },
  {
   "cell_type": "code",
   "execution_count": 13,
   "metadata": {},
   "outputs": [
    {
     "data": {
      "text/html": [
       "24"
      ],
      "text/latex": [
       "24"
      ],
      "text/markdown": [
       "24"
      ],
      "text/plain": [
       "[1] 24"
      ]
     },
     "metadata": {},
     "output_type": "display_data"
    }
   ],
   "source": [
    "nrow(batches)"
   ]
  },
  {
   "cell_type": "code",
   "execution_count": 14,
   "metadata": {},
   "outputs": [
    {
     "data": {
      "text/html": [
       "<table>\n",
       "<caption>A data.frame: 24 × 25</caption>\n",
       "<thead>\n",
       "\t<tr><th></th><th scope=col>PC1</th><th scope=col>PC2</th><th scope=col>PC3</th><th scope=col>PC4</th><th scope=col>PC5</th><th scope=col>PC6</th><th scope=col>PC7</th><th scope=col>PC8</th><th scope=col>PC9</th><th scope=col>PC10</th><th scope=col>⋯</th><th scope=col>PC16</th><th scope=col>PC17</th><th scope=col>PC18</th><th scope=col>PC19</th><th scope=col>PC20</th><th scope=col>PC21</th><th scope=col>PC22</th><th scope=col>PC23</th><th scope=col>PC24</th><th scope=col>CellType</th></tr>\n",
       "\t<tr><th></th><th scope=col>&lt;dbl&gt;</th><th scope=col>&lt;dbl&gt;</th><th scope=col>&lt;dbl&gt;</th><th scope=col>&lt;dbl&gt;</th><th scope=col>&lt;dbl&gt;</th><th scope=col>&lt;dbl&gt;</th><th scope=col>&lt;dbl&gt;</th><th scope=col>&lt;dbl&gt;</th><th scope=col>&lt;dbl&gt;</th><th scope=col>&lt;dbl&gt;</th><th scope=col>⋯</th><th scope=col>&lt;dbl&gt;</th><th scope=col>&lt;dbl&gt;</th><th scope=col>&lt;dbl&gt;</th><th scope=col>&lt;dbl&gt;</th><th scope=col>&lt;dbl&gt;</th><th scope=col>&lt;dbl&gt;</th><th scope=col>&lt;dbl&gt;</th><th scope=col>&lt;dbl&gt;</th><th scope=col>&lt;dbl&gt;</th><th scope=col>&lt;fct&gt;</th></tr>\n",
       "</thead>\n",
       "<tbody>\n",
       "\t<tr><th scope=row>Cluster10</th><td>-233.34902</td><td>-147.794973</td><td>   16.57922</td><td>-358.07657</td><td> 446.15918</td><td>-382.33159</td><td>  46.628781</td><td>  -7.577562</td><td> 255.984366</td><td>-151.435782</td><td>⋯</td><td>  83.935997</td><td>   9.613738</td><td>  21.761843</td><td>  49.81824193</td><td> -13.544112</td><td>   3.5696414</td><td> 3.132048e+00</td><td> 1.272044e+00</td><td>-6.072288e-11</td><td>OPCs             </td></tr>\n",
       "\t<tr><th scope=row>Cluster11</th><td> 412.86255</td><td>  31.921118</td><td>  237.28454</td><td>-425.88357</td><td> -95.49215</td><td> 205.75060</td><td>-119.098698</td><td> 144.862709</td><td> -47.648520</td><td> -40.224119</td><td>⋯</td><td> 344.117726</td><td>-326.320580</td><td>  52.579058</td><td>   0.06447876</td><td>  21.598519</td><td>   9.4136312</td><td>-1.040993e+01</td><td>-8.332574e-01</td><td> 6.019184e-12</td><td>InhibitoryNeurons</td></tr>\n",
       "\t<tr><th scope=row>Cluster12</th><td> 378.99717</td><td> -55.677062</td><td>  196.09940</td><td>-497.01672</td><td>  30.30146</td><td> 524.94153</td><td>  -4.693004</td><td> 314.927185</td><td>   2.036142</td><td> -33.970171</td><td>⋯</td><td>-221.036808</td><td> 227.917608</td><td> -17.281521</td><td>  -7.57084183</td><td>   6.271631</td><td>  -1.5835569</td><td> 3.908405e+00</td><td> 1.452644e+00</td><td>-8.747862e-12</td><td>InhibitoryNeurons</td></tr>\n",
       "\t<tr><th scope=row>Cluster13</th><td>-228.45200</td><td>-279.339407</td><td>  -49.21556</td><td> 215.57428</td><td>  57.77881</td><td>  60.73143</td><td>-283.652606</td><td>  -2.560281</td><td>  46.093504</td><td> 139.007226</td><td>⋯</td><td>-244.186729</td><td>-167.821462</td><td>  88.280426</td><td> -54.34643942</td><td> -16.862374</td><td>   8.2232467</td><td> 1.941193e+00</td><td>-2.523674e+00</td><td>-5.300552e-12</td><td>Astrocytes       </td></tr>\n",
       "\t<tr><th scope=row>Cluster14</th><td> -54.38240</td><td>-461.792000</td><td>   94.62575</td><td> 260.68179</td><td> -10.17845</td><td> -14.24315</td><td>-323.928428</td><td>   1.752237</td><td>  62.892890</td><td>  37.356484</td><td>⋯</td><td> 157.405290</td><td> 211.135273</td><td> -71.971204</td><td>  37.95737663</td><td> 330.192414</td><td>  13.2630366</td><td>-7.387744e+00</td><td>-1.212093e+00</td><td> 2.127449e-12</td><td>Astrocytes       </td></tr>\n",
       "\t<tr><th scope=row>Cluster15</th><td>-185.84041</td><td>-713.171871</td><td>  133.06763</td><td> 128.28513</td><td>-145.03832</td><td> -19.53677</td><td>-262.609519</td><td>  -4.860151</td><td> -24.613903</td><td>   8.409596</td><td>⋯</td><td> 130.742821</td><td> 170.100932</td><td> 141.710938</td><td>  25.45253190</td><td>-325.945342</td><td>  -3.1205602</td><td> 3.864756e-01</td><td>-2.172480e+00</td><td> 7.589841e-12</td><td>Astrocytes       </td></tr>\n",
       "\t<tr><th scope=row>Cluster16</th><td>-150.31062</td><td>-756.386063</td><td>   81.09162</td><td> 140.21131</td><td>-150.59387</td><td>  27.60043</td><td> -21.197061</td><td> -23.085859</td><td>-133.733481</td><td>  16.409149</td><td>⋯</td><td>-142.698110</td><td>-265.003638</td><td>-114.290559</td><td> -44.54956036</td><td>  55.983444</td><td>  -6.6325922</td><td> 8.746212e-03</td><td> 1.222028e+00</td><td> 2.703770e-12</td><td>Astrocytes       </td></tr>\n",
       "\t<tr><th scope=row>Cluster17</th><td>-165.29414</td><td>-734.217240</td><td>  -45.10137</td><td> 123.00114</td><td>-181.46980</td><td>  44.16578</td><td> 688.248004</td><td>  71.583823</td><td> 111.619394</td><td>-104.382756</td><td>⋯</td><td>  59.064775</td><td>  30.123568</td><td> -32.639075</td><td>  14.25402894</td><td>  14.866892</td><td>  -2.3455217</td><td> 6.209576e+00</td><td> 4.468009e-01</td><td> 6.342282e-12</td><td>Astrocytes       </td></tr>\n",
       "\t<tr><th scope=row>Cluster18</th><td>-479.07883</td><td> 215.223867</td><td> -508.38438</td><td> -99.43581</td><td> -66.91681</td><td>  47.46850</td><td> 141.204443</td><td> -26.394692</td><td>-195.452511</td><td> 431.391823</td><td>⋯</td><td>  34.408942</td><td>  28.830056</td><td>  25.077741</td><td> -12.94188072</td><td>  -1.091342</td><td>  10.8686431</td><td> 2.096603e+00</td><td>-3.173213e+00</td><td> 6.182080e-12</td><td>Doublets         </td></tr>\n",
       "\t<tr><th scope=row>Cluster19</th><td>-645.87264</td><td> 406.063280</td><td>  126.30981</td><td>  48.52706</td><td> -97.22780</td><td> -34.74344</td><td>   9.015668</td><td>  31.588701</td><td> 163.359086</td><td> -75.071420</td><td>⋯</td><td>  44.474160</td><td>  31.918585</td><td> -60.945161</td><td>-416.76603060</td><td> -20.129288</td><td> -86.3823314</td><td> 2.410872e+01</td><td> 2.337253e+01</td><td> 5.044683e-12</td><td>Oligodendrocytes </td></tr>\n",
       "\t<tr><th scope=row>Cluster1</th><td> 771.74190</td><td> 201.699952</td><td>   76.77631</td><td>  46.49998</td><td>-223.18024</td><td>-285.42655</td><td>   2.980450</td><td> -33.112427</td><td>-151.863082</td><td>-109.292833</td><td>⋯</td><td> -58.249652</td><td>  36.085604</td><td>  10.680550</td><td>   9.66743354</td><td>   3.763530</td><td>  44.5817401</td><td> 2.996872e+02</td><td> 3.924445e+00</td><td> 5.066261e-12</td><td>ExcitatoryNeurons</td></tr>\n",
       "\t<tr><th scope=row>Cluster20</th><td>-619.81415</td><td> 369.063254</td><td>  240.59409</td><td>  62.99081</td><td> -98.96252</td><td>  45.94460</td><td>  -5.490342</td><td> -19.916956</td><td> -92.811979</td><td> -59.902848</td><td>⋯</td><td>  38.956573</td><td>  36.872185</td><td>  10.306599</td><td>  55.32250415</td><td>  12.437189</td><td>  -7.6347405</td><td> 5.052755e+00</td><td>-3.122920e+02</td><td> 3.441663e-12</td><td>Oligodendrocytes </td></tr>\n",
       "\t<tr><th scope=row>Cluster21</th><td>-578.02294</td><td> 335.711494</td><td>  260.84100</td><td>  57.19122</td><td>-100.09322</td><td>  62.71855</td><td> -20.809876</td><td> -42.718454</td><td>-150.710885</td><td> -32.790913</td><td>⋯</td><td>  46.491952</td><td>  37.543723</td><td>  41.811218</td><td> 149.93749462</td><td>  29.896921</td><td>-237.6765203</td><td> 2.649629e+01</td><td> 1.699149e+02</td><td> 5.879541e-12</td><td>Oligodendrocytes </td></tr>\n",
       "\t<tr><th scope=row>Cluster22</th><td>-631.93135</td><td> 376.853377</td><td>  217.44376</td><td>  77.24636</td><td> -99.49446</td><td>  37.14545</td><td>   5.439514</td><td>  -8.935249</td><td> -70.798905</td><td> -71.992297</td><td>⋯</td><td>  31.201852</td><td>  37.244163</td><td>  -5.501115</td><td>   3.96478646</td><td>  -5.962203</td><td> 317.7828856</td><td>-4.471713e+01</td><td> 1.253779e+02</td><td> 4.148970e-12</td><td>Oligodendrocytes </td></tr>\n",
       "\t<tr><th scope=row>Cluster23</th><td>-596.81723</td><td> 379.898123</td><td>   96.31993</td><td>  55.96914</td><td> -98.74056</td><td> -27.95330</td><td>  74.841036</td><td>  57.530856</td><td> 266.914127</td><td> -41.727466</td><td>⋯</td><td>-176.608772</td><td>-125.563662</td><td> 101.968051</td><td> 211.63382395</td><td>  16.625336</td><td>  -3.6983060</td><td> 9.066983e-01</td><td> 1.946653e+00</td><td>-1.444206e-12</td><td>Oligodendrocytes </td></tr>\n",
       "\t<tr><th scope=row>Cluster24</th><td>-190.09676</td><td>  -1.485626</td><td>-1144.37534</td><td>-249.87689</td><td>-146.32724</td><td>   8.60701</td><td>-110.073676</td><td>  -8.842731</td><td>-131.657611</td><td>-240.408488</td><td>⋯</td><td>   8.362944</td><td>   3.071334</td><td> -55.793294</td><td>  18.19832139</td><td>   4.897102</td><td>  -6.7366974</td><td> 9.213803e-01</td><td> 4.105925e-03</td><td>-6.946427e-12</td><td>Microglia        </td></tr>\n",
       "\t<tr><th scope=row>Cluster2</th><td> 766.99461</td><td> 220.626429</td><td>  -30.94682</td><td> 495.61694</td><td> 257.92214</td><td> 239.24561</td><td> 128.271482</td><td> -39.254667</td><td>-115.573493</td><td>-230.398300</td><td>⋯</td><td>  -5.370720</td><td> -35.483317</td><td> 212.030885</td><td> -74.34343564</td><td>  31.921697</td><td>  -4.5767209</td><td>-4.265443e+01</td><td>-3.060558e+00</td><td> 1.024895e-11</td><td>InhibitoryNeurons</td></tr>\n",
       "\t<tr><th scope=row>Cluster3</th><td> 642.79301</td><td> 135.786348</td><td>   75.71551</td><td> -46.77630</td><td>-208.54507</td><td>-264.53054</td><td>  54.421237</td><td> 252.289849</td><td> 174.598037</td><td> 383.163479</td><td>⋯</td><td>   1.133658</td><td>  -4.104016</td><td>  26.468942</td><td> -19.76494385</td><td>  12.064225</td><td>   1.8570373</td><td>-1.488173e+00</td><td>-1.802375e+00</td><td> 8.720838e-12</td><td>ExcitatoryNeurons</td></tr>\n",
       "\t<tr><th scope=row>Cluster4</th><td> 719.60641</td><td> 183.291625</td><td>   75.55890</td><td> -61.34498</td><td>-324.08443</td><td>-387.39470</td><td>  20.963550</td><td> -56.145430</td><td>-149.274563</td><td> -84.128211</td><td>⋯</td><td> -85.801932</td><td>  66.641970</td><td>  21.029360</td><td>  -8.91669311</td><td>   6.943908</td><td> -35.2689239</td><td>-2.487297e+02</td><td>-3.370916e+00</td><td>-2.809721e-13</td><td>ExcitatoryNeurons</td></tr>\n",
       "\t<tr><th scope=row>Cluster5</th><td> 433.70568</td><td>   3.768228</td><td>  108.69956</td><td>-282.48296</td><td> -80.07023</td><td> 240.64786</td><td>  41.331065</td><td>-682.021779</td><td> 203.018016</td><td> 113.670451</td><td>⋯</td><td> -16.808903</td><td>  24.482297</td><td> -22.874626</td><td>  -4.96296807</td><td>  -2.676696</td><td>   7.7936961</td><td> 6.031513e+00</td><td>-1.343577e+00</td><td>-2.257842e-13</td><td>NigralNeurons    </td></tr>\n",
       "\t<tr><th scope=row>Cluster6</th><td> 375.81607</td><td> 162.762993</td><td> -532.01224</td><td> 231.38222</td><td> 160.89097</td><td>  57.15449</td><td>-140.162527</td><td>  80.142921</td><td> 348.969441</td><td>  -6.022068</td><td>⋯</td><td>  20.143920</td><td>  -3.036713</td><td>  48.262332</td><td>  17.57193227</td><td> -12.272690</td><td>  -2.9980630</td><td>-9.524975e-01</td><td> 1.808633e+00</td><td> 2.445986e-12</td><td>NigralNeurons    </td></tr>\n",
       "\t<tr><th scope=row>Cluster7</th><td> 387.04025</td><td> 304.228802</td><td>   80.18706</td><td> 315.43408</td><td> 157.59874</td><td>  83.76656</td><td> -39.514092</td><td>  47.739387</td><td>  20.862915</td><td>  -3.569047</td><td>⋯</td><td>  31.679993</td><td> -34.093766</td><td>-418.888377</td><td>  97.47710734</td><td>-161.463178</td><td> -16.5571854</td><td>-2.584733e+01</td><td> 1.593990e+00</td><td> 5.442273e-12</td><td>NeuronsUnknown   </td></tr>\n",
       "\t<tr><th scope=row>Cluster8</th><td>  65.26367</td><td>  40.061187</td><td>  -33.99289</td><td>  95.89162</td><td> 594.37208</td><td> -15.99643</td><td> 186.916929</td><td> -16.600018</td><td>-229.349845</td><td> 233.298039</td><td>⋯</td><td>  78.367836</td><td>  31.998958</td><td>  40.109396</td><td>  -1.38944560</td><td>  -3.576161</td><td>  -0.6204775</td><td> 5.936490e+00</td><td> 1.024857e-02</td><td> 4.764500e-12</td><td>OPCs             </td></tr>\n",
       "\t<tr><th scope=row>Cluster9</th><td>-195.55883</td><td>-217.095835</td><td>  226.83450</td><td>-333.60927</td><td> 421.39179</td><td>-253.73191</td><td> -69.032329</td><td> -30.391411</td><td>-162.859138</td><td> -77.389529</td><td>⋯</td><td>-159.726813</td><td> -22.152840</td><td> -41.892407</td><td> -45.76782268</td><td>  16.060578</td><td>  -1.5213610</td><td>-4.637191e+00</td><td>-5.627370e-01</td><td>-2.457289e-12</td><td>OPCs             </td></tr>\n",
       "</tbody>\n",
       "</table>\n"
      ],
      "text/latex": [
       "A data.frame: 24 × 25\n",
       "\\begin{tabular}{r|lllllllllllllllllllllllll}\n",
       "  & PC1 & PC2 & PC3 & PC4 & PC5 & PC6 & PC7 & PC8 & PC9 & PC10 & PC11 & PC12 & PC13 & PC14 & PC15 & PC16 & PC17 & PC18 & PC19 & PC20 & PC21 & PC22 & PC23 & PC24 & CellType\\\\\n",
       "  & <dbl> & <dbl> & <dbl> & <dbl> & <dbl> & <dbl> & <dbl> & <dbl> & <dbl> & <dbl> & <dbl> & <dbl> & <dbl> & <dbl> & <dbl> & <dbl> & <dbl> & <dbl> & <dbl> & <dbl> & <dbl> & <dbl> & <dbl> & <dbl> & <fct>\\\\\n",
       "\\hline\n",
       "\tCluster10 & -233.34902 & -147.794973 &    16.57922 & -358.07657 &  446.15918 & -382.33159 &   46.628781 &   -7.577562 &  255.984366 & -151.435782 &   92.8554155 & -248.904038 &  192.163192 &  -30.958169 & -252.220826 &   83.935997 &    9.613738 &   21.761843 &   49.81824193 &  -13.544112 &    3.5696414 &  3.132048e+00 &  1.272044e+00 & -6.072288e-11 & OPCs             \\\\\n",
       "\tCluster11 &  412.86255 &   31.921118 &   237.28454 & -425.88357 &  -95.49215 &  205.75060 & -119.098698 &  144.862709 &  -47.648520 &  -40.224119 &  110.7426864 &   53.883683 &  -52.131740 &  -63.985656 &   71.924884 &  344.117726 & -326.320580 &   52.579058 &    0.06447876 &   21.598519 &    9.4136312 & -1.040993e+01 & -8.332574e-01 &  6.019184e-12 & InhibitoryNeurons\\\\\n",
       "\tCluster12 &  378.99717 &  -55.677062 &   196.09940 & -497.01672 &   30.30146 &  524.94153 &   -4.693004 &  314.927185 &    2.036142 &  -33.970171 &   70.4369732 &    3.985195 &   56.304199 &   40.511980 &  -82.023870 & -221.036808 &  227.917608 &  -17.281521 &   -7.57084183 &    6.271631 &   -1.5835569 &  3.908405e+00 &  1.452644e+00 & -8.747862e-12 & InhibitoryNeurons\\\\\n",
       "\tCluster13 & -228.45200 & -279.339407 &   -49.21556 &  215.57428 &   57.77881 &   60.73143 & -283.652606 &   -2.560281 &   46.093504 &  139.007226 &  102.3433260 &   23.547076 &  -81.921769 & -426.784305 & -130.387436 & -244.186729 & -167.821462 &   88.280426 &  -54.34643942 &  -16.862374 &    8.2232467 &  1.941193e+00 & -2.523674e+00 & -5.300552e-12 & Astrocytes       \\\\\n",
       "\tCluster14 &  -54.38240 & -461.792000 &    94.62575 &  260.68179 &  -10.17845 &  -14.24315 & -323.928428 &    1.752237 &   62.892890 &   37.356484 &   67.5018043 &    8.119395 &   78.069475 &  -44.568366 &  111.012960 &  157.405290 &  211.135273 &  -71.971204 &   37.95737663 &  330.192414 &   13.2630366 & -7.387744e+00 & -1.212093e+00 &  2.127449e-12 & Astrocytes       \\\\\n",
       "\tCluster15 & -185.84041 & -713.171871 &   133.06763 &  128.28513 & -145.03832 &  -19.53677 & -262.609519 &   -4.860151 &  -24.613903 &    8.409596 &  -10.5351583 &   17.924122 &   66.571886 &   67.053593 &   97.622488 &  130.742821 &  170.100932 &  141.710938 &   25.45253190 & -325.945342 &   -3.1205602 &  3.864756e-01 & -2.172480e+00 &  7.589841e-12 & Astrocytes       \\\\\n",
       "\tCluster16 & -150.31062 & -756.386063 &    81.09162 &  140.21131 & -150.59387 &   27.60043 &  -21.197061 &  -23.085859 & -133.733481 &   16.409149 &  -55.0301247 &  -36.390521 &  118.820987 &  355.172978 & -164.962545 & -142.698110 & -265.003638 & -114.290559 &  -44.54956036 &   55.983444 &   -6.6325922 &  8.746212e-03 &  1.222028e+00 &  2.703770e-12 & Astrocytes       \\\\\n",
       "\tCluster17 & -165.29414 & -734.217240 &   -45.10137 &  123.00114 & -181.46980 &   44.16578 &  688.248004 &   71.583823 &  111.619394 & -104.382756 &   29.1403722 &   33.608655 & -166.054348 & -160.197153 &   39.912648 &   59.064775 &   30.123568 &  -32.639075 &   14.25402894 &   14.866892 &   -2.3455217 &  6.209576e+00 &  4.468009e-01 &  6.342282e-12 & Astrocytes       \\\\\n",
       "\tCluster18 & -479.07883 &  215.223867 &  -508.38438 &  -99.43581 &  -66.91681 &   47.46850 &  141.204443 &  -26.394692 & -195.452511 &  431.391823 &  291.8300312 & -331.776021 &   12.425361 &   60.947624 &   89.966165 &   34.408942 &   28.830056 &   25.077741 &  -12.94188072 &   -1.091342 &   10.8686431 &  2.096603e+00 & -3.173213e+00 &  6.182080e-12 & Doublets         \\\\\n",
       "\tCluster19 & -645.87264 &  406.063280 &   126.30981 &   48.52706 &  -97.22780 &  -34.74344 &    9.015668 &   31.588701 &  163.359086 &  -75.071420 &   52.3084278 &   94.115473 &   82.020106 &   25.213164 &   48.539938 &   44.474160 &   31.918585 &  -60.945161 & -416.76603060 &  -20.129288 &  -86.3823314 &  2.410872e+01 &  2.337253e+01 &  5.044683e-12 & Oligodendrocytes \\\\\n",
       "\tCluster1 &  771.74190 &  201.699952 &    76.77631 &   46.49998 & -223.18024 & -285.42655 &    2.980450 &  -33.112427 & -151.863082 & -109.292833 &  165.8769479 &   33.911335 &  -12.206024 &   -3.206976 &  -21.400089 &  -58.249652 &   36.085604 &   10.680550 &    9.66743354 &    3.763530 &   44.5817401 &  2.996872e+02 &  3.924445e+00 &  5.066261e-12 & ExcitatoryNeurons\\\\\n",
       "\tCluster20 & -619.81415 &  369.063254 &   240.59409 &   62.99081 &  -98.96252 &   45.94460 &   -5.490342 &  -19.916956 &  -92.811979 &  -59.902848 & -110.7328232 &  -21.617606 & -100.189815 &    7.182399 & -118.645093 &   38.956573 &   36.872185 &   10.306599 &   55.32250415 &   12.437189 &   -7.6347405 &  5.052755e+00 & -3.122920e+02 &  3.441663e-12 & Oligodendrocytes \\\\\n",
       "\tCluster21 & -578.02294 &  335.711494 &   260.84100 &   57.19122 & -100.09322 &   62.71855 &  -20.809876 &  -42.718454 & -150.710885 &  -32.790913 & -135.3231251 &  -59.163335 & -136.280183 &  -12.050142 & -145.886861 &   46.491952 &   37.543723 &   41.811218 &  149.93749462 &   29.896921 & -237.6765203 &  2.649629e+01 &  1.699149e+02 &  5.879541e-12 & Oligodendrocytes \\\\\n",
       "\tCluster22 & -631.93135 &  376.853377 &   217.44376 &   77.24636 &  -99.49446 &   37.14545 &    5.439514 &   -8.935249 &  -70.798905 &  -71.992297 & -106.4160962 &   -4.055175 &  -78.977398 &   15.672627 & -100.037829 &   31.201852 &   37.244163 &   -5.501115 &    3.96478646 &   -5.962203 &  317.7828856 & -4.471713e+01 &  1.253779e+02 &  4.148970e-12 & Oligodendrocytes \\\\\n",
       "\tCluster23 & -596.81723 &  379.898123 &    96.31993 &   55.96914 &  -98.74056 &  -27.95330 &   74.841036 &   57.530856 &  266.914127 &  -41.727466 &  108.7110528 &  171.919598 &  230.452591 &   79.767548 &  267.191107 & -176.608772 & -125.563662 &  101.968051 &  211.63382395 &   16.625336 &   -3.6983060 &  9.066983e-01 &  1.946653e+00 & -1.444206e-12 & Oligodendrocytes \\\\\n",
       "\tCluster24 & -190.09676 &   -1.485626 & -1144.37534 & -249.87689 & -146.32724 &    8.60701 & -110.073676 &   -8.842731 & -131.657611 & -240.408488 & -232.8605931 &  111.261450 &  113.956836 &  -93.188508 &   22.043604 &    8.362944 &    3.071334 &  -55.793294 &   18.19832139 &    4.897102 &   -6.7366974 &  9.213803e-01 &  4.105925e-03 & -6.946427e-12 & Microglia        \\\\\n",
       "\tCluster2 &  766.99461 &  220.626429 &   -30.94682 &  495.61694 &  257.92214 &  239.24561 &  128.271482 &  -39.254667 & -115.573493 & -230.398300 & -113.6991199 & -276.946340 &  149.252926 &   -2.113094 &   84.816997 &   -5.370720 &  -35.483317 &  212.030885 &  -74.34343564 &   31.921697 &   -4.5767209 & -4.265443e+01 & -3.060558e+00 &  1.024895e-11 & InhibitoryNeurons\\\\\n",
       "\tCluster3 &  642.79301 &  135.786348 &    75.71551 &  -46.77630 & -208.54507 & -264.53054 &   54.421237 &  252.289849 &  174.598037 &  383.163479 & -451.2583290 &  -61.390698 &   57.717880 &  -35.497721 &    1.165035 &    1.133658 &   -4.104016 &   26.468942 &  -19.76494385 &   12.064225 &    1.8570373 & -1.488173e+00 & -1.802375e+00 &  8.720838e-12 & ExcitatoryNeurons\\\\\n",
       "\tCluster4 &  719.60641 &  183.291625 &    75.55890 &  -61.34498 & -324.08443 & -387.39470 &   20.963550 &  -56.145430 & -149.274563 &  -84.128211 &  224.0335147 &  107.294571 &  -31.955157 &    1.847614 &  -58.440676 &  -85.801932 &   66.641970 &   21.029360 &   -8.91669311 &    6.943908 &  -35.2689239 & -2.487297e+02 & -3.370916e+00 & -2.809721e-13 & ExcitatoryNeurons\\\\\n",
       "\tCluster5 &  433.70568 &    3.768228 &   108.69956 & -282.48296 &  -80.07023 &  240.64786 &   41.331065 & -682.021779 &  203.018016 &  113.670451 &  -90.7951284 &   31.830659 &    9.649166 &   -7.002632 &    8.973038 &  -16.808903 &   24.482297 &  -22.874626 &   -4.96296807 &   -2.676696 &    7.7936961 &  6.031513e+00 & -1.343577e+00 & -2.257842e-13 & NigralNeurons    \\\\\n",
       "\tCluster6 &  375.81607 &  162.762993 &  -532.01224 &  231.38222 &  160.89097 &   57.15449 & -140.162527 &   80.142921 &  348.969441 &   -6.022068 &   87.6261855 &   58.250955 & -386.641093 &  259.101277 &  -76.563671 &   20.143920 &   -3.036713 &   48.262332 &   17.57193227 &  -12.272690 &   -2.9980630 & -9.524975e-01 &  1.808633e+00 &  2.445986e-12 & NigralNeurons    \\\\\n",
       "\tCluster7 &  387.04025 &  304.228802 &    80.18706 &  315.43408 &  157.59874 &   83.76656 &  -39.514092 &   47.739387 &   20.862915 &   -3.569047 &   46.0294483 &  -82.117653 &   57.396110 &  -98.273750 &   60.991500 &   31.679993 &  -34.093766 & -418.888377 &   97.47710734 & -161.463178 &  -16.5571854 & -2.584733e+01 &  1.593990e+00 &  5.442273e-12 & NeuronsUnknown   \\\\\n",
       "\tCluster8 &   65.26367 &   40.061187 &   -33.99289 &   95.89162 &  594.37208 &  -15.99643 &  186.916929 &  -16.600018 & -229.349845 &  233.298039 &   -0.9665387 &  461.249635 &   97.905047 &   31.103593 &  -84.404988 &   78.367836 &   31.998958 &   40.109396 &   -1.38944560 &   -3.576161 &   -0.6204775 &  5.936490e+00 &  1.024857e-02 &  4.764500e-12 & OPCs             \\\\\n",
       "\tCluster9 & -195.55883 & -217.095835 &   226.83450 & -333.60927 &  421.39179 & -253.73191 &  -69.032329 &  -30.391411 & -162.859138 &  -77.389529 & -141.8191490 &  -88.540412 & -276.348235 &   34.252073 &  330.813520 & -159.726813 &  -22.152840 &  -41.892407 &  -45.76782268 &   16.060578 &   -1.5213610 & -4.637191e+00 & -5.627370e-01 & -2.457289e-12 & OPCs             \\\\\n",
       "\\end{tabular}\n"
      ],
      "text/markdown": [
       "\n",
       "A data.frame: 24 × 25\n",
       "\n",
       "| <!--/--> | PC1 &lt;dbl&gt; | PC2 &lt;dbl&gt; | PC3 &lt;dbl&gt; | PC4 &lt;dbl&gt; | PC5 &lt;dbl&gt; | PC6 &lt;dbl&gt; | PC7 &lt;dbl&gt; | PC8 &lt;dbl&gt; | PC9 &lt;dbl&gt; | PC10 &lt;dbl&gt; | ⋯ ⋯ | PC16 &lt;dbl&gt; | PC17 &lt;dbl&gt; | PC18 &lt;dbl&gt; | PC19 &lt;dbl&gt; | PC20 &lt;dbl&gt; | PC21 &lt;dbl&gt; | PC22 &lt;dbl&gt; | PC23 &lt;dbl&gt; | PC24 &lt;dbl&gt; | CellType &lt;fct&gt; |\n",
       "|---|---|---|---|---|---|---|---|---|---|---|---|---|---|---|---|---|---|---|---|---|---|\n",
       "| Cluster10 | -233.34902 | -147.794973 |    16.57922 | -358.07657 |  446.15918 | -382.33159 |   46.628781 |   -7.577562 |  255.984366 | -151.435782 | ⋯ |   83.935997 |    9.613738 |   21.761843 |   49.81824193 |  -13.544112 |    3.5696414 |  3.132048e+00 |  1.272044e+00 | -6.072288e-11 | OPCs              |\n",
       "| Cluster11 |  412.86255 |   31.921118 |   237.28454 | -425.88357 |  -95.49215 |  205.75060 | -119.098698 |  144.862709 |  -47.648520 |  -40.224119 | ⋯ |  344.117726 | -326.320580 |   52.579058 |    0.06447876 |   21.598519 |    9.4136312 | -1.040993e+01 | -8.332574e-01 |  6.019184e-12 | InhibitoryNeurons |\n",
       "| Cluster12 |  378.99717 |  -55.677062 |   196.09940 | -497.01672 |   30.30146 |  524.94153 |   -4.693004 |  314.927185 |    2.036142 |  -33.970171 | ⋯ | -221.036808 |  227.917608 |  -17.281521 |   -7.57084183 |    6.271631 |   -1.5835569 |  3.908405e+00 |  1.452644e+00 | -8.747862e-12 | InhibitoryNeurons |\n",
       "| Cluster13 | -228.45200 | -279.339407 |   -49.21556 |  215.57428 |   57.77881 |   60.73143 | -283.652606 |   -2.560281 |   46.093504 |  139.007226 | ⋯ | -244.186729 | -167.821462 |   88.280426 |  -54.34643942 |  -16.862374 |    8.2232467 |  1.941193e+00 | -2.523674e+00 | -5.300552e-12 | Astrocytes        |\n",
       "| Cluster14 |  -54.38240 | -461.792000 |    94.62575 |  260.68179 |  -10.17845 |  -14.24315 | -323.928428 |    1.752237 |   62.892890 |   37.356484 | ⋯ |  157.405290 |  211.135273 |  -71.971204 |   37.95737663 |  330.192414 |   13.2630366 | -7.387744e+00 | -1.212093e+00 |  2.127449e-12 | Astrocytes        |\n",
       "| Cluster15 | -185.84041 | -713.171871 |   133.06763 |  128.28513 | -145.03832 |  -19.53677 | -262.609519 |   -4.860151 |  -24.613903 |    8.409596 | ⋯ |  130.742821 |  170.100932 |  141.710938 |   25.45253190 | -325.945342 |   -3.1205602 |  3.864756e-01 | -2.172480e+00 |  7.589841e-12 | Astrocytes        |\n",
       "| Cluster16 | -150.31062 | -756.386063 |    81.09162 |  140.21131 | -150.59387 |   27.60043 |  -21.197061 |  -23.085859 | -133.733481 |   16.409149 | ⋯ | -142.698110 | -265.003638 | -114.290559 |  -44.54956036 |   55.983444 |   -6.6325922 |  8.746212e-03 |  1.222028e+00 |  2.703770e-12 | Astrocytes        |\n",
       "| Cluster17 | -165.29414 | -734.217240 |   -45.10137 |  123.00114 | -181.46980 |   44.16578 |  688.248004 |   71.583823 |  111.619394 | -104.382756 | ⋯ |   59.064775 |   30.123568 |  -32.639075 |   14.25402894 |   14.866892 |   -2.3455217 |  6.209576e+00 |  4.468009e-01 |  6.342282e-12 | Astrocytes        |\n",
       "| Cluster18 | -479.07883 |  215.223867 |  -508.38438 |  -99.43581 |  -66.91681 |   47.46850 |  141.204443 |  -26.394692 | -195.452511 |  431.391823 | ⋯ |   34.408942 |   28.830056 |   25.077741 |  -12.94188072 |   -1.091342 |   10.8686431 |  2.096603e+00 | -3.173213e+00 |  6.182080e-12 | Doublets          |\n",
       "| Cluster19 | -645.87264 |  406.063280 |   126.30981 |   48.52706 |  -97.22780 |  -34.74344 |    9.015668 |   31.588701 |  163.359086 |  -75.071420 | ⋯ |   44.474160 |   31.918585 |  -60.945161 | -416.76603060 |  -20.129288 |  -86.3823314 |  2.410872e+01 |  2.337253e+01 |  5.044683e-12 | Oligodendrocytes  |\n",
       "| Cluster1 |  771.74190 |  201.699952 |    76.77631 |   46.49998 | -223.18024 | -285.42655 |    2.980450 |  -33.112427 | -151.863082 | -109.292833 | ⋯ |  -58.249652 |   36.085604 |   10.680550 |    9.66743354 |    3.763530 |   44.5817401 |  2.996872e+02 |  3.924445e+00 |  5.066261e-12 | ExcitatoryNeurons |\n",
       "| Cluster20 | -619.81415 |  369.063254 |   240.59409 |   62.99081 |  -98.96252 |   45.94460 |   -5.490342 |  -19.916956 |  -92.811979 |  -59.902848 | ⋯ |   38.956573 |   36.872185 |   10.306599 |   55.32250415 |   12.437189 |   -7.6347405 |  5.052755e+00 | -3.122920e+02 |  3.441663e-12 | Oligodendrocytes  |\n",
       "| Cluster21 | -578.02294 |  335.711494 |   260.84100 |   57.19122 | -100.09322 |   62.71855 |  -20.809876 |  -42.718454 | -150.710885 |  -32.790913 | ⋯ |   46.491952 |   37.543723 |   41.811218 |  149.93749462 |   29.896921 | -237.6765203 |  2.649629e+01 |  1.699149e+02 |  5.879541e-12 | Oligodendrocytes  |\n",
       "| Cluster22 | -631.93135 |  376.853377 |   217.44376 |   77.24636 |  -99.49446 |   37.14545 |    5.439514 |   -8.935249 |  -70.798905 |  -71.992297 | ⋯ |   31.201852 |   37.244163 |   -5.501115 |    3.96478646 |   -5.962203 |  317.7828856 | -4.471713e+01 |  1.253779e+02 |  4.148970e-12 | Oligodendrocytes  |\n",
       "| Cluster23 | -596.81723 |  379.898123 |    96.31993 |   55.96914 |  -98.74056 |  -27.95330 |   74.841036 |   57.530856 |  266.914127 |  -41.727466 | ⋯ | -176.608772 | -125.563662 |  101.968051 |  211.63382395 |   16.625336 |   -3.6983060 |  9.066983e-01 |  1.946653e+00 | -1.444206e-12 | Oligodendrocytes  |\n",
       "| Cluster24 | -190.09676 |   -1.485626 | -1144.37534 | -249.87689 | -146.32724 |    8.60701 | -110.073676 |   -8.842731 | -131.657611 | -240.408488 | ⋯ |    8.362944 |    3.071334 |  -55.793294 |   18.19832139 |    4.897102 |   -6.7366974 |  9.213803e-01 |  4.105925e-03 | -6.946427e-12 | Microglia         |\n",
       "| Cluster2 |  766.99461 |  220.626429 |   -30.94682 |  495.61694 |  257.92214 |  239.24561 |  128.271482 |  -39.254667 | -115.573493 | -230.398300 | ⋯ |   -5.370720 |  -35.483317 |  212.030885 |  -74.34343564 |   31.921697 |   -4.5767209 | -4.265443e+01 | -3.060558e+00 |  1.024895e-11 | InhibitoryNeurons |\n",
       "| Cluster3 |  642.79301 |  135.786348 |    75.71551 |  -46.77630 | -208.54507 | -264.53054 |   54.421237 |  252.289849 |  174.598037 |  383.163479 | ⋯ |    1.133658 |   -4.104016 |   26.468942 |  -19.76494385 |   12.064225 |    1.8570373 | -1.488173e+00 | -1.802375e+00 |  8.720838e-12 | ExcitatoryNeurons |\n",
       "| Cluster4 |  719.60641 |  183.291625 |    75.55890 |  -61.34498 | -324.08443 | -387.39470 |   20.963550 |  -56.145430 | -149.274563 |  -84.128211 | ⋯ |  -85.801932 |   66.641970 |   21.029360 |   -8.91669311 |    6.943908 |  -35.2689239 | -2.487297e+02 | -3.370916e+00 | -2.809721e-13 | ExcitatoryNeurons |\n",
       "| Cluster5 |  433.70568 |    3.768228 |   108.69956 | -282.48296 |  -80.07023 |  240.64786 |   41.331065 | -682.021779 |  203.018016 |  113.670451 | ⋯ |  -16.808903 |   24.482297 |  -22.874626 |   -4.96296807 |   -2.676696 |    7.7936961 |  6.031513e+00 | -1.343577e+00 | -2.257842e-13 | NigralNeurons     |\n",
       "| Cluster6 |  375.81607 |  162.762993 |  -532.01224 |  231.38222 |  160.89097 |   57.15449 | -140.162527 |   80.142921 |  348.969441 |   -6.022068 | ⋯ |   20.143920 |   -3.036713 |   48.262332 |   17.57193227 |  -12.272690 |   -2.9980630 | -9.524975e-01 |  1.808633e+00 |  2.445986e-12 | NigralNeurons     |\n",
       "| Cluster7 |  387.04025 |  304.228802 |    80.18706 |  315.43408 |  157.59874 |   83.76656 |  -39.514092 |   47.739387 |   20.862915 |   -3.569047 | ⋯ |   31.679993 |  -34.093766 | -418.888377 |   97.47710734 | -161.463178 |  -16.5571854 | -2.584733e+01 |  1.593990e+00 |  5.442273e-12 | NeuronsUnknown    |\n",
       "| Cluster8 |   65.26367 |   40.061187 |   -33.99289 |   95.89162 |  594.37208 |  -15.99643 |  186.916929 |  -16.600018 | -229.349845 |  233.298039 | ⋯ |   78.367836 |   31.998958 |   40.109396 |   -1.38944560 |   -3.576161 |   -0.6204775 |  5.936490e+00 |  1.024857e-02 |  4.764500e-12 | OPCs              |\n",
       "| Cluster9 | -195.55883 | -217.095835 |   226.83450 | -333.60927 |  421.39179 | -253.73191 |  -69.032329 |  -30.391411 | -162.859138 |  -77.389529 | ⋯ | -159.726813 |  -22.152840 |  -41.892407 |  -45.76782268 |   16.060578 |   -1.5213610 | -4.637191e+00 | -5.627370e-01 | -2.457289e-12 | OPCs              |\n",
       "\n"
      ],
      "text/plain": [
       "          PC1        PC2         PC3         PC4        PC5        PC6       \n",
       "Cluster10 -233.34902 -147.794973    16.57922 -358.07657  446.15918 -382.33159\n",
       "Cluster11  412.86255   31.921118   237.28454 -425.88357  -95.49215  205.75060\n",
       "Cluster12  378.99717  -55.677062   196.09940 -497.01672   30.30146  524.94153\n",
       "Cluster13 -228.45200 -279.339407   -49.21556  215.57428   57.77881   60.73143\n",
       "Cluster14  -54.38240 -461.792000    94.62575  260.68179  -10.17845  -14.24315\n",
       "Cluster15 -185.84041 -713.171871   133.06763  128.28513 -145.03832  -19.53677\n",
       "Cluster16 -150.31062 -756.386063    81.09162  140.21131 -150.59387   27.60043\n",
       "Cluster17 -165.29414 -734.217240   -45.10137  123.00114 -181.46980   44.16578\n",
       "Cluster18 -479.07883  215.223867  -508.38438  -99.43581  -66.91681   47.46850\n",
       "Cluster19 -645.87264  406.063280   126.30981   48.52706  -97.22780  -34.74344\n",
       "Cluster1   771.74190  201.699952    76.77631   46.49998 -223.18024 -285.42655\n",
       "Cluster20 -619.81415  369.063254   240.59409   62.99081  -98.96252   45.94460\n",
       "Cluster21 -578.02294  335.711494   260.84100   57.19122 -100.09322   62.71855\n",
       "Cluster22 -631.93135  376.853377   217.44376   77.24636  -99.49446   37.14545\n",
       "Cluster23 -596.81723  379.898123    96.31993   55.96914  -98.74056  -27.95330\n",
       "Cluster24 -190.09676   -1.485626 -1144.37534 -249.87689 -146.32724    8.60701\n",
       "Cluster2   766.99461  220.626429   -30.94682  495.61694  257.92214  239.24561\n",
       "Cluster3   642.79301  135.786348    75.71551  -46.77630 -208.54507 -264.53054\n",
       "Cluster4   719.60641  183.291625    75.55890  -61.34498 -324.08443 -387.39470\n",
       "Cluster5   433.70568    3.768228   108.69956 -282.48296  -80.07023  240.64786\n",
       "Cluster6   375.81607  162.762993  -532.01224  231.38222  160.89097   57.15449\n",
       "Cluster7   387.04025  304.228802    80.18706  315.43408  157.59874   83.76656\n",
       "Cluster8    65.26367   40.061187   -33.99289   95.89162  594.37208  -15.99643\n",
       "Cluster9  -195.55883 -217.095835   226.83450 -333.60927  421.39179 -253.73191\n",
       "          PC7         PC8         PC9         PC10        ⋯ PC16       \n",
       "Cluster10   46.628781   -7.577562  255.984366 -151.435782 ⋯   83.935997\n",
       "Cluster11 -119.098698  144.862709  -47.648520  -40.224119 ⋯  344.117726\n",
       "Cluster12   -4.693004  314.927185    2.036142  -33.970171 ⋯ -221.036808\n",
       "Cluster13 -283.652606   -2.560281   46.093504  139.007226 ⋯ -244.186729\n",
       "Cluster14 -323.928428    1.752237   62.892890   37.356484 ⋯  157.405290\n",
       "Cluster15 -262.609519   -4.860151  -24.613903    8.409596 ⋯  130.742821\n",
       "Cluster16  -21.197061  -23.085859 -133.733481   16.409149 ⋯ -142.698110\n",
       "Cluster17  688.248004   71.583823  111.619394 -104.382756 ⋯   59.064775\n",
       "Cluster18  141.204443  -26.394692 -195.452511  431.391823 ⋯   34.408942\n",
       "Cluster19    9.015668   31.588701  163.359086  -75.071420 ⋯   44.474160\n",
       "Cluster1     2.980450  -33.112427 -151.863082 -109.292833 ⋯  -58.249652\n",
       "Cluster20   -5.490342  -19.916956  -92.811979  -59.902848 ⋯   38.956573\n",
       "Cluster21  -20.809876  -42.718454 -150.710885  -32.790913 ⋯   46.491952\n",
       "Cluster22    5.439514   -8.935249  -70.798905  -71.992297 ⋯   31.201852\n",
       "Cluster23   74.841036   57.530856  266.914127  -41.727466 ⋯ -176.608772\n",
       "Cluster24 -110.073676   -8.842731 -131.657611 -240.408488 ⋯    8.362944\n",
       "Cluster2   128.271482  -39.254667 -115.573493 -230.398300 ⋯   -5.370720\n",
       "Cluster3    54.421237  252.289849  174.598037  383.163479 ⋯    1.133658\n",
       "Cluster4    20.963550  -56.145430 -149.274563  -84.128211 ⋯  -85.801932\n",
       "Cluster5    41.331065 -682.021779  203.018016  113.670451 ⋯  -16.808903\n",
       "Cluster6  -140.162527   80.142921  348.969441   -6.022068 ⋯   20.143920\n",
       "Cluster7   -39.514092   47.739387   20.862915   -3.569047 ⋯   31.679993\n",
       "Cluster8   186.916929  -16.600018 -229.349845  233.298039 ⋯   78.367836\n",
       "Cluster9   -69.032329  -30.391411 -162.859138  -77.389529 ⋯ -159.726813\n",
       "          PC17        PC18        PC19          PC20        PC21        \n",
       "Cluster10    9.613738   21.761843   49.81824193  -13.544112    3.5696414\n",
       "Cluster11 -326.320580   52.579058    0.06447876   21.598519    9.4136312\n",
       "Cluster12  227.917608  -17.281521   -7.57084183    6.271631   -1.5835569\n",
       "Cluster13 -167.821462   88.280426  -54.34643942  -16.862374    8.2232467\n",
       "Cluster14  211.135273  -71.971204   37.95737663  330.192414   13.2630366\n",
       "Cluster15  170.100932  141.710938   25.45253190 -325.945342   -3.1205602\n",
       "Cluster16 -265.003638 -114.290559  -44.54956036   55.983444   -6.6325922\n",
       "Cluster17   30.123568  -32.639075   14.25402894   14.866892   -2.3455217\n",
       "Cluster18   28.830056   25.077741  -12.94188072   -1.091342   10.8686431\n",
       "Cluster19   31.918585  -60.945161 -416.76603060  -20.129288  -86.3823314\n",
       "Cluster1    36.085604   10.680550    9.66743354    3.763530   44.5817401\n",
       "Cluster20   36.872185   10.306599   55.32250415   12.437189   -7.6347405\n",
       "Cluster21   37.543723   41.811218  149.93749462   29.896921 -237.6765203\n",
       "Cluster22   37.244163   -5.501115    3.96478646   -5.962203  317.7828856\n",
       "Cluster23 -125.563662  101.968051  211.63382395   16.625336   -3.6983060\n",
       "Cluster24    3.071334  -55.793294   18.19832139    4.897102   -6.7366974\n",
       "Cluster2   -35.483317  212.030885  -74.34343564   31.921697   -4.5767209\n",
       "Cluster3    -4.104016   26.468942  -19.76494385   12.064225    1.8570373\n",
       "Cluster4    66.641970   21.029360   -8.91669311    6.943908  -35.2689239\n",
       "Cluster5    24.482297  -22.874626   -4.96296807   -2.676696    7.7936961\n",
       "Cluster6    -3.036713   48.262332   17.57193227  -12.272690   -2.9980630\n",
       "Cluster7   -34.093766 -418.888377   97.47710734 -161.463178  -16.5571854\n",
       "Cluster8    31.998958   40.109396   -1.38944560   -3.576161   -0.6204775\n",
       "Cluster9   -22.152840  -41.892407  -45.76782268   16.060578   -1.5213610\n",
       "          PC22          PC23          PC24          CellType         \n",
       "Cluster10  3.132048e+00  1.272044e+00 -6.072288e-11 OPCs             \n",
       "Cluster11 -1.040993e+01 -8.332574e-01  6.019184e-12 InhibitoryNeurons\n",
       "Cluster12  3.908405e+00  1.452644e+00 -8.747862e-12 InhibitoryNeurons\n",
       "Cluster13  1.941193e+00 -2.523674e+00 -5.300552e-12 Astrocytes       \n",
       "Cluster14 -7.387744e+00 -1.212093e+00  2.127449e-12 Astrocytes       \n",
       "Cluster15  3.864756e-01 -2.172480e+00  7.589841e-12 Astrocytes       \n",
       "Cluster16  8.746212e-03  1.222028e+00  2.703770e-12 Astrocytes       \n",
       "Cluster17  6.209576e+00  4.468009e-01  6.342282e-12 Astrocytes       \n",
       "Cluster18  2.096603e+00 -3.173213e+00  6.182080e-12 Doublets         \n",
       "Cluster19  2.410872e+01  2.337253e+01  5.044683e-12 Oligodendrocytes \n",
       "Cluster1   2.996872e+02  3.924445e+00  5.066261e-12 ExcitatoryNeurons\n",
       "Cluster20  5.052755e+00 -3.122920e+02  3.441663e-12 Oligodendrocytes \n",
       "Cluster21  2.649629e+01  1.699149e+02  5.879541e-12 Oligodendrocytes \n",
       "Cluster22 -4.471713e+01  1.253779e+02  4.148970e-12 Oligodendrocytes \n",
       "Cluster23  9.066983e-01  1.946653e+00 -1.444206e-12 Oligodendrocytes \n",
       "Cluster24  9.213803e-01  4.105925e-03 -6.946427e-12 Microglia        \n",
       "Cluster2  -4.265443e+01 -3.060558e+00  1.024895e-11 InhibitoryNeurons\n",
       "Cluster3  -1.488173e+00 -1.802375e+00  8.720838e-12 ExcitatoryNeurons\n",
       "Cluster4  -2.487297e+02 -3.370916e+00 -2.809721e-13 ExcitatoryNeurons\n",
       "Cluster5   6.031513e+00 -1.343577e+00 -2.257842e-13 NigralNeurons    \n",
       "Cluster6  -9.524975e-01  1.808633e+00  2.445986e-12 NigralNeurons    \n",
       "Cluster7  -2.584733e+01  1.593990e+00  5.442273e-12 NeuronsUnknown   \n",
       "Cluster8   5.936490e+00  1.024857e-02  4.764500e-12 OPCs             \n",
       "Cluster9  -4.637191e+00 -5.627370e-01 -2.457289e-12 OPCs             "
      ]
     },
     "metadata": {},
     "output_type": "display_data"
    }
   ],
   "source": [
    "pca_df=data.frame(data.pca$x)\n",
    "pca_df=cbind(pca_df,batches)\n",
    "pca_df"
   ]
  },
  {
   "cell_type": "code",
   "execution_count": 15,
   "metadata": {},
   "outputs": [
    {
     "data": {
      "image/png": "[encoded data removed]",
      "text/plain": [
       "plot without title"
      ]
     },
     "metadata": {},
     "output_type": "display_data"
    }
   ],
   "source": [
    "ggplot(data=pca_df,aes(x=pca_df$PC1,y=pca_df$PC2,color=pca_df$CellType))+\n",
    "geom_point(position='jitter')+\n",
    "geom_jitter(width = 5, height = 5)"
   ]
  },
  {
   "cell_type": "markdown",
   "metadata": {},
   "source": [
    "## Grouping on Cohort, Region, and Type"
   ]
  },
  {
   "cell_type": "code",
   "execution_count": 16,
   "metadata": {},
   "outputs": [],
   "source": [
    "Grouping <- factor(paste0(batches$CellType))"
   ]
  },
  {
   "cell_type": "code",
   "execution_count": 17,
   "metadata": {},
   "outputs": [],
   "source": [
    "batches$Grouping=Grouping"
   ]
  },
  {
   "cell_type": "code",
   "execution_count": 18,
   "metadata": {},
   "outputs": [
    {
     "data": {
      "text/html": [
       "<dl class=dl-horizontal>\n",
       "\t<dt>CellType</dt>\n",
       "\t\t<dd>0</dd>\n",
       "\t<dt>Grouping</dt>\n",
       "\t\t<dd>0</dd>\n",
       "</dl>\n"
      ],
      "text/latex": [
       "\\begin{description*}\n",
       "\\item[CellType] 0\n",
       "\\item[Grouping] 0\n",
       "\\end{description*}\n"
      ],
      "text/markdown": [
       "CellType\n",
       ":   0Grouping\n",
       ":   0\n",
       "\n"
      ],
      "text/plain": [
       "CellType Grouping \n",
       "       0        0 "
      ]
     },
     "metadata": {},
     "output_type": "display_data"
    }
   ],
   "source": [
    "colSums(is.na(batches))"
   ]
  },
  {
   "cell_type": "code",
   "execution_count": 19,
   "metadata": {},
   "outputs": [],
   "source": [
    "mod=model.matrix(~Grouping,data=batches)"
   ]
  },
  {
   "cell_type": "markdown",
   "metadata": {},
   "source": [
    "### fit model with limma "
   ]
  },
  {
   "cell_type": "code",
   "execution_count": 20,
   "metadata": {},
   "outputs": [],
   "source": [
    "fit <- lmFit(E,mod)"
   ]
  },
  {
   "cell_type": "code",
   "execution_count": 21,
   "metadata": {},
   "outputs": [
    {
     "data": {
      "text/html": [
       "<ol class=list-inline>\n",
       "\t<li>'(Intercept)'</li>\n",
       "\t<li>'GroupingDoublets'</li>\n",
       "\t<li>'GroupingExcitatoryNeurons'</li>\n",
       "\t<li>'GroupingInhibitoryNeurons'</li>\n",
       "\t<li>'GroupingMicroglia'</li>\n",
       "\t<li>'GroupingNeuronsUnknown'</li>\n",
       "\t<li>'GroupingNigralNeurons'</li>\n",
       "\t<li>'GroupingOligodendrocytes'</li>\n",
       "\t<li>'GroupingOPCs'</li>\n",
       "</ol>\n"
      ],
      "text/latex": [
       "\\begin{enumerate*}\n",
       "\\item '(Intercept)'\n",
       "\\item 'GroupingDoublets'\n",
       "\\item 'GroupingExcitatoryNeurons'\n",
       "\\item 'GroupingInhibitoryNeurons'\n",
       "\\item 'GroupingMicroglia'\n",
       "\\item 'GroupingNeuronsUnknown'\n",
       "\\item 'GroupingNigralNeurons'\n",
       "\\item 'GroupingOligodendrocytes'\n",
       "\\item 'GroupingOPCs'\n",
       "\\end{enumerate*}\n"
      ],
      "text/markdown": [
       "1. '(Intercept)'\n",
       "2. 'GroupingDoublets'\n",
       "3. 'GroupingExcitatoryNeurons'\n",
       "4. 'GroupingInhibitoryNeurons'\n",
       "5. 'GroupingMicroglia'\n",
       "6. 'GroupingNeuronsUnknown'\n",
       "7. 'GroupingNigralNeurons'\n",
       "8. 'GroupingOligodendrocytes'\n",
       "9. 'GroupingOPCs'\n",
       "\n",
       "\n"
      ],
      "text/plain": [
       "[1] \"(Intercept)\"               \"GroupingDoublets\"         \n",
       "[3] \"GroupingExcitatoryNeurons\" \"GroupingInhibitoryNeurons\"\n",
       "[5] \"GroupingMicroglia\"         \"GroupingNeuronsUnknown\"   \n",
       "[7] \"GroupingNigralNeurons\"     \"GroupingOligodendrocytes\" \n",
       "[9] \"GroupingOPCs\"             "
      ]
     },
     "metadata": {},
     "output_type": "display_data"
    }
   ],
   "source": [
    "colnames(mod)\n"
   ]
  },
  {
   "cell_type": "code",
   "execution_count": 22,
   "metadata": {},
   "outputs": [
    {
     "data": {
      "text/html": [
       "<ol class=list-inline>\n",
       "\t<li>'(Intercept)'</li>\n",
       "\t<li>'GroupingDoublets'</li>\n",
       "\t<li>'GroupingExcitatoryNeurons'</li>\n",
       "\t<li>'GroupingInhibitoryNeurons'</li>\n",
       "\t<li>'GroupingMicroglia'</li>\n",
       "\t<li>'GroupingNeuronsUnknown'</li>\n",
       "\t<li>'GroupingNigralNeurons'</li>\n",
       "\t<li>'GroupingOligodendrocytes'</li>\n",
       "\t<li>'GroupingOPCs'</li>\n",
       "</ol>\n"
      ],
      "text/latex": [
       "\\begin{enumerate*}\n",
       "\\item '(Intercept)'\n",
       "\\item 'GroupingDoublets'\n",
       "\\item 'GroupingExcitatoryNeurons'\n",
       "\\item 'GroupingInhibitoryNeurons'\n",
       "\\item 'GroupingMicroglia'\n",
       "\\item 'GroupingNeuronsUnknown'\n",
       "\\item 'GroupingNigralNeurons'\n",
       "\\item 'GroupingOligodendrocytes'\n",
       "\\item 'GroupingOPCs'\n",
       "\\end{enumerate*}\n"
      ],
      "text/markdown": [
       "1. '(Intercept)'\n",
       "2. 'GroupingDoublets'\n",
       "3. 'GroupingExcitatoryNeurons'\n",
       "4. 'GroupingInhibitoryNeurons'\n",
       "5. 'GroupingMicroglia'\n",
       "6. 'GroupingNeuronsUnknown'\n",
       "7. 'GroupingNigralNeurons'\n",
       "8. 'GroupingOligodendrocytes'\n",
       "9. 'GroupingOPCs'\n",
       "\n",
       "\n"
      ],
      "text/plain": [
       "[1] \"(Intercept)\"               \"GroupingDoublets\"         \n",
       "[3] \"GroupingExcitatoryNeurons\" \"GroupingInhibitoryNeurons\"\n",
       "[5] \"GroupingMicroglia\"         \"GroupingNeuronsUnknown\"   \n",
       "[7] \"GroupingNigralNeurons\"     \"GroupingOligodendrocytes\" \n",
       "[9] \"GroupingOPCs\"             "
      ]
     },
     "metadata": {},
     "output_type": "display_data"
    }
   ],
   "source": [
    "colnames(fit$coefficients)"
   ]
  },
  {
   "cell_type": "markdown",
   "metadata": {},
   "source": [
    "###  Contrasts "
   ]
  },
  {
   "cell_type": "code",
   "execution_count": 24,
   "metadata": {},
   "outputs": [
    {
     "name": "stderr",
     "output_type": "stream",
     "text": [
      "Warning message in makeContrasts(excitatory_vs_inhibitory = \"GroupingExcitatoryNeurons - GroupingInhibitoryNeurons\", :\n",
      "“Renaming (Intercept) to Intercept”"
     ]
    }
   ],
   "source": [
    "#create contrasts of interest \n",
    "cont.matrix=makeContrasts(\n",
    "    excitatory_vs_inhibitory=\"GroupingExcitatoryNeurons - GroupingInhibitoryNeurons\",\n",
    "    astro_vs_oligo=\"(Intercept) - GroupingOligodendrocytes\",\n",
    "    astro_vs_excitatory=\"(Intercept) - GroupingExcitatoryNeurons\",\n",
    "    astro_vs_inhibitory=\"(Intercept) - GroupingInhibitoryNeurons\",\n",
    "    astro_vs_microglia=\"(Intercept) - GroupingMicroglia\",\n",
    "    oligo_vs_excitatory=\"GroupingOligodendrocytes - GroupingExcitatoryNeurons\",\n",
    "    oligo_vs_inhibitory=\"GroupingOligodendrocytes - GroupingInhibitoryNeurons\",\n",
    "    oligo_vs_microglia=\"GroupingOligodendrocytes - GroupingMicroglia\",\n",
    "    opc_vs_excitatory=\"GroupingOPCs - GroupingExcitatoryNeurons\",\n",
    "    opc_vs_inhibitory=\"GroupingOPCs - GroupingInhibitoryNeurons\",\n",
    "    opc_vs_oligo=\"GroupingOPCs - GroupingOligodendrocytes\",\n",
    "    opc_vs_astro=\"GroupingOPCs - (Intercept)\",\n",
    "    opc_vs_microglia=\"GroupingOPCs - GroupingMicroglia\",\n",
    "    microglia_vs_excitatory=\"GroupingMicroglia - GroupingExcitatoryNeurons\",\n",
    "    microglia_vs_inhibitory=\"GroupingMicroglia - GroupingInhibitoryNeurons\",\n",
    "    levels=mod)"
   ]
  },
  {
   "cell_type": "code",
   "execution_count": 25,
   "metadata": {
    "scrolled": true
   },
   "outputs": [
    {
     "name": "stderr",
     "output_type": "stream",
     "text": [
      "Warning message in contrasts.fit(fit, cont.matrix):\n",
      "“row names of contrasts don't match col names of coefficients”"
     ]
    }
   ],
   "source": [
    "fit2=contrasts.fit(fit,cont.matrix)\n",
    "e=eBayes(fit2)\n",
    "comparisons=colnames(cont.matrix)"
   ]
  },
  {
   "cell_type": "code",
   "execution_count": 26,
   "metadata": {},
   "outputs": [],
   "source": [
    "pval_thresh=0.05\n",
    "lfc_thresh=1"
   ]
  },
  {
   "cell_type": "code",
   "execution_count": 27,
   "metadata": {},
   "outputs": [
    {
     "name": "stdout",
     "output_type": "stream",
     "text": [
      "[1] \"excitatory_vs_inhibitory \\n sig: 11384 \\n up: 9498 \\n down: 1886 \\n\"\n",
      "[1] \"astro_vs_oligo \\n sig: 302504 \\n up: 86650 \\n down: 215854 \\n\"\n",
      "[1] \"astro_vs_excitatory \\n sig: 297694 \\n up: 93204 \\n down: 204490 \\n\"\n",
      "[1] \"astro_vs_inhibitory \\n sig: 294455 \\n up: 88584 \\n down: 205871 \\n\"\n",
      "[1] \"astro_vs_microglia \\n sig: 228746 \\n up: 81483 \\n down: 147263 \\n\"\n",
      "[1] \"oligo_vs_excitatory \\n sig: 223365 \\n up: 112984 \\n down: 110381 \\n\"\n",
      "[1] \"oligo_vs_inhibitory \\n sig: 179473 \\n up: 96227 \\n down: 83246 \\n\"\n",
      "[1] \"oligo_vs_microglia \\n sig: 120691 \\n up: 60554 \\n down: 60137 \\n\"\n",
      "[1] \"opc_vs_excitatory \\n sig: 116408 \\n up: 58244 \\n down: 58164 \\n\"\n",
      "[1] \"opc_vs_inhibitory \\n sig: 55616 \\n up: 35645 \\n down: 19971 \\n\"\n",
      "[1] \"opc_vs_oligo \\n sig: 91759 \\n up: 41493 \\n down: 50266 \\n\"\n",
      "[1] \"opc_vs_astro \\n sig: 259083 \\n up: 182564 \\n down: 76519 \\n\"\n",
      "[1] \"opc_vs_microglia \\n sig: 87363 \\n up: 40511 \\n down: 46852 \\n\"\n",
      "[1] \"microglia_vs_excitatory \\n sig: 123300 \\n up: 67376 \\n down: 55924 \\n\"\n",
      "[1] \"microglia_vs_inhibitory \\n sig: 104094 \\n up: 62599 \\n down: 41495 \\n\"\n"
     ]
    }
   ],
   "source": [
    "for(i in seq(1,length(comparisons)))\n",
    "{\n",
    "  tab<-topTable(e, number=nrow(e),coef=i,lfc=lfc_thresh, p.value = pval_thresh)\n",
    "  up=sum(tab$logFC>0)\n",
    "  down=sum(tab$logFC<0)\n",
    "  sig=nrow(tab)\n",
    "  curtitle=paste(comparisons[i],'\\n','sig:',sig,'\\n','up:',up,'\\n','down:',down,'\\n')\n",
    "  print(curtitle)\n",
    "  vals=topTable(e,number=nrow(e),coef=i)\n",
    "  vals$pscaled=-1*log10(vals$adj.P.Val)\n",
    "  vals$sig=vals$adj.P.Val<pval_thresh & abs(vals$logFC)>lfc_thresh \n",
    "  png(paste(\"pr.volcano_diff\",comparisons[i],\".png\",sep=\"\"))\n",
    "  print(ggplot(data=vals,\n",
    "               aes(y=vals$pscaled,x=vals$logFC,color=vals$sig))+\n",
    "               geom_point(alpha=0.1)+\n",
    "               xlab(\"log2(FC)\")+\n",
    "               ylab(\"-log10(pval)\")+\n",
    "               ggtitle(curtitle)+\n",
    "               theme_bw()+\n",
    "               scale_color_manual(values=c(\"#000000\",\"#FF0000\")))\n",
    "  dev.off() \n",
    "  write.table(tab,file=paste(\"pr.diff_\",comparisons[i],\".tsv\",sep=\"\"),quote=FALSE,sep='\\t',row.names = TRUE,col.names = TRUE)\n",
    "}\n",
    "    "
   ]
  },
  {
   "cell_type": "code",
   "execution_count": null,
   "metadata": {},
   "outputs": [],
   "source": []
  }
 ],
 "metadata": {
  "kernelspec": {
   "display_name": "R",
   "language": "R",
   "name": "ir"
  },
  "language_info": {
   "codemirror_mode": "r",
   "file_extension": ".r",
   "mimetype": "text/x-r-source",
   "name": "R",
   "pygments_lexer": "r",
   "version": "3.5.1"
  }
 },
 "nbformat": 4,
 "nbformat_minor": 2
}
