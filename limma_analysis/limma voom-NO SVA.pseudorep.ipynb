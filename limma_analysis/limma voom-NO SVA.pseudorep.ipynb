{
 "cells": [
  {
   "cell_type": "markdown",
   "metadata": {},
   "source": [
    "### Limma voom analysis of AD/PD dataset, NO SVA, ON PSEUDOREPS "
   ]
  },
  {
   "cell_type": "code",
   "execution_count": 1,
   "metadata": {},
   "outputs": [
    {
     "name": "stderr",
     "output_type": "stream",
     "text": [
      "Loading required package: S4Vectors\n",
      "Loading required package: stats4\n",
      "Loading required package: BiocGenerics\n",
      "Loading required package: parallel\n",
      "\n",
      "Attaching package: ‘BiocGenerics’\n",
      "\n",
      "The following objects are masked from ‘package:parallel’:\n",
      "\n",
      "    clusterApply, clusterApplyLB, clusterCall, clusterEvalQ,\n",
      "    clusterExport, clusterMap, parApply, parCapply, parLapply,\n",
      "    parLapplyLB, parRapply, parSapply, parSapplyLB\n",
      "\n",
      "The following objects are masked from ‘package:stats’:\n",
      "\n",
      "    IQR, mad, sd, var, xtabs\n",
      "\n",
      "The following objects are masked from ‘package:base’:\n",
      "\n",
      "    anyDuplicated, append, as.data.frame, basename, cbind, colMeans,\n",
      "    colnames, colSums, dirname, do.call, duplicated, eval, evalq,\n",
      "    Filter, Find, get, grep, grepl, intersect, is.unsorted, lapply,\n",
      "    lengths, Map, mapply, match, mget, order, paste, pmax, pmax.int,\n",
      "    pmin, pmin.int, Position, rank, rbind, Reduce, rowMeans, rownames,\n",
      "    rowSums, sapply, setdiff, sort, table, tapply, union, unique,\n",
      "    unsplit, which, which.max, which.min\n",
      "\n",
      "\n",
      "Attaching package: ‘S4Vectors’\n",
      "\n",
      "The following object is masked from ‘package:base’:\n",
      "\n",
      "    expand.grid\n",
      "\n",
      "Loading required package: IRanges\n",
      "Loading required package: GenomicRanges\n",
      "Loading required package: GenomeInfoDb\n",
      "Loading required package: SummarizedExperiment\n",
      "Loading required package: Biobase\n",
      "Welcome to Bioconductor\n",
      "\n",
      "    Vignettes contain introductory material; view with\n",
      "    'browseVignettes()'. To cite Bioconductor, see\n",
      "    'citation(\"Biobase\")', and for packages 'citation(\"pkgname\")'.\n",
      "\n",
      "Loading required package: DelayedArray\n",
      "Loading required package: matrixStats\n",
      "\n",
      "Attaching package: ‘matrixStats’\n",
      "\n",
      "The following objects are masked from ‘package:Biobase’:\n",
      "\n",
      "    anyMissing, rowMedians\n",
      "\n",
      "Loading required package: BiocParallel\n",
      "\n",
      "Attaching package: ‘DelayedArray’\n",
      "\n",
      "The following objects are masked from ‘package:matrixStats’:\n",
      "\n",
      "    colMaxs, colMins, colRanges, rowMaxs, rowMins, rowRanges\n",
      "\n",
      "The following objects are masked from ‘package:base’:\n",
      "\n",
      "    aperm, apply\n",
      "\n",
      "\n",
      "Attaching package: ‘IHW’\n",
      "\n",
      "The following object is masked from ‘package:ggplot2’:\n",
      "\n",
      "    alpha\n",
      "\n",
      "Loading required package: mgcv\n",
      "Loading required package: nlme\n",
      "\n",
      "Attaching package: ‘nlme’\n",
      "\n",
      "The following object is masked from ‘package:IRanges’:\n",
      "\n",
      "    collapse\n",
      "\n",
      "This is mgcv 1.8-28. For overview type 'help(\"mgcv-package\")'.\n",
      "Loading required package: genefilter\n",
      "\n",
      "Attaching package: ‘genefilter’\n",
      "\n",
      "The following objects are masked from ‘package:matrixStats’:\n",
      "\n",
      "    rowSds, rowVars\n",
      "\n",
      "\n",
      "Attaching package: ‘limma’\n",
      "\n",
      "The following object is masked from ‘package:DESeq2’:\n",
      "\n",
      "    plotMA\n",
      "\n",
      "The following object is masked from ‘package:BiocGenerics’:\n",
      "\n",
      "    plotMA\n",
      "\n"
     ]
    }
   ],
   "source": [
    "rm(list=ls())\n",
    "#load necessary libraries \n",
    "library(ggplot2)\n",
    "library(DESeq2)\n",
    "library(\"BiocParallel\")\n",
    "parallelFlag=TRUE\n",
    "register(MulticoreParam(50))\n",
    "library(\"IHW\")\n",
    "library(\"pheatmap\")\n",
    "library(sva)\n",
    "library(limma)"
   ]
  },
  {
   "cell_type": "markdown",
   "metadata": {},
   "source": [
    "## Load data and design"
   ]
  },
  {
   "cell_type": "code",
   "execution_count": 4,
   "metadata": {},
   "outputs": [],
   "source": [
    "##load ATAC-seq raw read counts\n",
    "data=read.table('../pseudorep_check/pr.adpd.atac.idr.counts.txt.gz',header=TRUE,sep='\\t')\n",
    "\n",
    "##concatenate chrom/start/end columns values to server as rownames for the dataframe of the form chrom_start_end \n",
    "rownames(data)=paste(data$chrom,data$start,data$end,sep=\"_\")\n",
    "data$chrom=NULL\n",
    "data$start=NULL\n",
    "data$end=NULL\n",
    "\n",
    "data=data[rowSums(data)>0,]\n"
   ]
  },
  {
   "cell_type": "code",
   "execution_count": 24,
   "metadata": {},
   "outputs": [
    {
     "data": {
      "text/html": [
       "411"
      ],
      "text/latex": [
       "411"
      ],
      "text/markdown": [
       "411"
      ],
      "text/plain": [
       "[1] 411"
      ]
     },
     "metadata": {},
     "output_type": "display_data"
    }
   ],
   "source": [
    "ncol(data)"
   ]
  },
  {
   "cell_type": "code",
   "execution_count": 3,
   "metadata": {},
   "outputs": [],
   "source": [
    "#load ATAC-seq data normalized counts. These were generated below w/ voom function \n",
    "#E=read.table(\"pr.idr.voom.qnorm.txt\",header=TRUE,sep='\\t',row.names=1)"
   ]
  },
  {
   "cell_type": "code",
   "execution_count": 6,
   "metadata": {},
   "outputs": [],
   "source": [
    "#load the metadata\n",
    "batches=read.table(\"../pseudorep_check/pr.batches.txt\",header=TRUE,sep='\\t')"
   ]
  },
  {
   "cell_type": "code",
   "execution_count": 7,
   "metadata": {},
   "outputs": [
    {
     "data": {
      "text/html": [
       "<table>\n",
       "<caption>A data.frame: 6 × 4</caption>\n",
       "<thead>\n",
       "\t<tr><th scope=col>Sample</th><th scope=col>Cohort</th><th scope=col>Type</th><th scope=col>Region</th></tr>\n",
       "\t<tr><th scope=col>&lt;fct&gt;</th><th scope=col>&lt;fct&gt;</th><th scope=col>&lt;fct&gt;</th><th scope=col>&lt;fct&gt;</th></tr>\n",
       "</thead>\n",
       "<tbody>\n",
       "\t<tr><td>AD_ADAD_CAUD.0 </td><td>AD</td><td>ADAD</td><td>CAUD</td></tr>\n",
       "\t<tr><td>AD_ADAD_CAUD.10</td><td>AD</td><td>ADAD</td><td>CAUD</td></tr>\n",
       "\t<tr><td>AD_ADAD_CAUD.11</td><td>AD</td><td>ADAD</td><td>CAUD</td></tr>\n",
       "\t<tr><td>AD_ADAD_CAUD.12</td><td>AD</td><td>ADAD</td><td>CAUD</td></tr>\n",
       "\t<tr><td>AD_ADAD_CAUD.13</td><td>AD</td><td>ADAD</td><td>CAUD</td></tr>\n",
       "\t<tr><td>AD_ADAD_CAUD.14</td><td>AD</td><td>ADAD</td><td>CAUD</td></tr>\n",
       "</tbody>\n",
       "</table>\n"
      ],
      "text/latex": [
       "A data.frame: 6 × 4\n",
       "\\begin{tabular}{r|llll}\n",
       " Sample & Cohort & Type & Region\\\\\n",
       " <fct> & <fct> & <fct> & <fct>\\\\\n",
       "\\hline\n",
       "\t AD\\_ADAD\\_CAUD.0  & AD & ADAD & CAUD\\\\\n",
       "\t AD\\_ADAD\\_CAUD.10 & AD & ADAD & CAUD\\\\\n",
       "\t AD\\_ADAD\\_CAUD.11 & AD & ADAD & CAUD\\\\\n",
       "\t AD\\_ADAD\\_CAUD.12 & AD & ADAD & CAUD\\\\\n",
       "\t AD\\_ADAD\\_CAUD.13 & AD & ADAD & CAUD\\\\\n",
       "\t AD\\_ADAD\\_CAUD.14 & AD & ADAD & CAUD\\\\\n",
       "\\end{tabular}\n"
      ],
      "text/markdown": [
       "\n",
       "A data.frame: 6 × 4\n",
       "\n",
       "| Sample &lt;fct&gt; | Cohort &lt;fct&gt; | Type &lt;fct&gt; | Region &lt;fct&gt; |\n",
       "|---|---|---|---|\n",
       "| AD_ADAD_CAUD.0  | AD | ADAD | CAUD |\n",
       "| AD_ADAD_CAUD.10 | AD | ADAD | CAUD |\n",
       "| AD_ADAD_CAUD.11 | AD | ADAD | CAUD |\n",
       "| AD_ADAD_CAUD.12 | AD | ADAD | CAUD |\n",
       "| AD_ADAD_CAUD.13 | AD | ADAD | CAUD |\n",
       "| AD_ADAD_CAUD.14 | AD | ADAD | CAUD |\n",
       "\n"
      ],
      "text/plain": [
       "  Sample          Cohort Type Region\n",
       "1 AD_ADAD_CAUD.0  AD     ADAD CAUD  \n",
       "2 AD_ADAD_CAUD.10 AD     ADAD CAUD  \n",
       "3 AD_ADAD_CAUD.11 AD     ADAD CAUD  \n",
       "4 AD_ADAD_CAUD.12 AD     ADAD CAUD  \n",
       "5 AD_ADAD_CAUD.13 AD     ADAD CAUD  \n",
       "6 AD_ADAD_CAUD.14 AD     ADAD CAUD  "
      ]
     },
     "metadata": {},
     "output_type": "display_data"
    }
   ],
   "source": [
    "head(batches)"
   ]
  },
  {
   "cell_type": "markdown",
   "metadata": {},
   "source": [
    "## Normalize the data with Limma  "
   ]
  },
  {
   "cell_type": "code",
   "execution_count": 8,
   "metadata": {},
   "outputs": [],
   "source": [
    "tpm=voom(data,normalize.method = \"quantile\")\n",
    "E=tpm$E\n",
    "E=round(E,2)"
   ]
  },
  {
   "cell_type": "code",
   "execution_count": 9,
   "metadata": {},
   "outputs": [],
   "source": [
    "#save the normalized data so we can load those values directly next time\n",
    "write.table(E,file=\"pr.idr.voom.qnorm.txt\",quote=FALSE,sep='\\t')"
   ]
  },
  {
   "cell_type": "markdown",
   "metadata": {},
   "source": [
    "## Perform PCA analysis find which covariates account for axes of variation"
   ]
  },
  {
   "cell_type": "code",
   "execution_count": 10,
   "metadata": {},
   "outputs": [],
   "source": [
    "data.pca=prcomp(t(E))"
   ]
  },
  {
   "cell_type": "code",
   "execution_count": 11,
   "metadata": {},
   "outputs": [],
   "source": [
    "var_explained=as.character(round(100*data.pca$sdev^2/sum(data.pca$sdev^2),2))\n"
   ]
  },
  {
   "cell_type": "code",
   "execution_count": 12,
   "metadata": {},
   "outputs": [
    {
     "data": {
      "image/png": "[encoded data removed]",
      "text/plain": [
       "plot without title"
      ]
     },
     "metadata": {},
     "output_type": "display_data"
    }
   ],
   "source": [
    "barplot(100*data.pca$sdev^2/sum(data.pca$sdev^2),las=2,ylab=\"% Variance Explained\",xlab=\"Principal Component\",ylim=c(0,40), xlim=c(0,10))"
   ]
  },
  {
   "cell_type": "code",
   "execution_count": 13,
   "metadata": {},
   "outputs": [
    {
     "data": {
      "text/html": [
       "<ol class=list-inline>\n",
       "\t<li>'46.78'</li>\n",
       "\t<li>'15.91'</li>\n",
       "\t<li>'3.25'</li>\n",
       "\t<li>'2.6'</li>\n",
       "\t<li>'1.56'</li>\n",
       "\t<li>'0.98'</li>\n",
       "\t<li>'0.69'</li>\n",
       "\t<li>'0.45'</li>\n",
       "\t<li>'0.32'</li>\n",
       "\t<li>'0.28'</li>\n",
       "</ol>\n"
      ],
      "text/latex": [
       "\\begin{enumerate*}\n",
       "\\item '46.78'\n",
       "\\item '15.91'\n",
       "\\item '3.25'\n",
       "\\item '2.6'\n",
       "\\item '1.56'\n",
       "\\item '0.98'\n",
       "\\item '0.69'\n",
       "\\item '0.45'\n",
       "\\item '0.32'\n",
       "\\item '0.28'\n",
       "\\end{enumerate*}\n"
      ],
      "text/markdown": [
       "1. '46.78'\n",
       "2. '15.91'\n",
       "3. '3.25'\n",
       "4. '2.6'\n",
       "5. '1.56'\n",
       "6. '0.98'\n",
       "7. '0.69'\n",
       "8. '0.45'\n",
       "9. '0.32'\n",
       "10. '0.28'\n",
       "\n",
       "\n"
      ],
      "text/plain": [
       " [1] \"46.78\" \"15.91\" \"3.25\"  \"2.6\"   \"1.56\"  \"0.98\"  \"0.69\"  \"0.45\"  \"0.32\" \n",
       "[10] \"0.28\" "
      ]
     },
     "metadata": {},
     "output_type": "display_data"
    }
   ],
   "source": [
    "var_explained[0:10]"
   ]
  },
  {
   "cell_type": "code",
   "execution_count": 26,
   "metadata": {},
   "outputs": [
    {
     "data": {
      "text/html": [
       "411"
      ],
      "text/latex": [
       "411"
      ],
      "text/markdown": [
       "411"
      ],
      "text/plain": [
       "[1] 411"
      ]
     },
     "metadata": {},
     "output_type": "display_data"
    }
   ],
   "source": [
    "nrow(batches)"
   ]
  },
  {
   "cell_type": "code",
   "execution_count": 14,
   "metadata": {},
   "outputs": [],
   "source": [
    "pca_df=data.frame(data.pca$x)\n",
    "pca_df=cbind(pca_df,batches)"
   ]
  },
  {
   "cell_type": "code",
   "execution_count": 49,
   "metadata": {},
   "outputs": [
    {
     "data": {
      "image/png": "[encoded data removed]",
      "text/plain": [
       "plot without title"
      ]
     },
     "metadata": {},
     "output_type": "display_data"
    }
   ],
   "source": [
    "ggplot(data=pca_df,aes(x=pca_df$PC1,y=pca_df$PC2,color=pca_df$Region))+\n",
    "geom_point(position='jitter')+\n",
    "geom_jitter(width = 5, height = 5)"
   ]
  },
  {
   "cell_type": "markdown",
   "metadata": {},
   "source": [
    "## Grouping on Cohort, Region, and Type"
   ]
  },
  {
   "cell_type": "code",
   "execution_count": 16,
   "metadata": {},
   "outputs": [],
   "source": [
    "Grouping <- factor(paste0(batches$Cohort,\".\",batches$Region, \".\", batches$Type))"
   ]
  },
  {
   "cell_type": "code",
   "execution_count": 17,
   "metadata": {},
   "outputs": [],
   "source": [
    "batches$Grouping=Grouping"
   ]
  },
  {
   "cell_type": "code",
   "execution_count": 18,
   "metadata": {},
   "outputs": [
    {
     "data": {
      "text/html": [
       "<dl class=dl-horizontal>\n",
       "\t<dt>Sample</dt>\n",
       "\t\t<dd>0</dd>\n",
       "\t<dt>Cohort</dt>\n",
       "\t\t<dd>0</dd>\n",
       "\t<dt>Type</dt>\n",
       "\t\t<dd>0</dd>\n",
       "\t<dt>Region</dt>\n",
       "\t\t<dd>0</dd>\n",
       "\t<dt>Grouping</dt>\n",
       "\t\t<dd>0</dd>\n",
       "</dl>\n"
      ],
      "text/latex": [
       "\\begin{description*}\n",
       "\\item[Sample] 0\n",
       "\\item[Cohort] 0\n",
       "\\item[Type] 0\n",
       "\\item[Region] 0\n",
       "\\item[Grouping] 0\n",
       "\\end{description*}\n"
      ],
      "text/markdown": [
       "Sample\n",
       ":   0Cohort\n",
       ":   0Type\n",
       ":   0Region\n",
       ":   0Grouping\n",
       ":   0\n",
       "\n"
      ],
      "text/plain": [
       "  Sample   Cohort     Type   Region Grouping \n",
       "       0        0        0        0        0 "
      ]
     },
     "metadata": {},
     "output_type": "display_data"
    }
   ],
   "source": [
    "colSums(is.na(batches))"
   ]
  },
  {
   "cell_type": "code",
   "execution_count": 19,
   "metadata": {},
   "outputs": [],
   "source": [
    "mod=model.matrix(~Grouping,data=batches)"
   ]
  },
  {
   "cell_type": "markdown",
   "metadata": {},
   "source": [
    "### fit model with limma "
   ]
  },
  {
   "cell_type": "code",
   "execution_count": 20,
   "metadata": {},
   "outputs": [],
   "source": [
    "fit <- lmFit(E,mod)"
   ]
  },
  {
   "cell_type": "code",
   "execution_count": 21,
   "metadata": {},
   "outputs": [
    {
     "data": {
      "text/html": [
       "<ol class=list-inline>\n",
       "\t<li>'(Intercept)'</li>\n",
       "\t<li>'GroupingAD.CAUD.CTRH'</li>\n",
       "\t<li>'GroupingAD.CAUD.CTRL'</li>\n",
       "\t<li>'GroupingAD.CAUD.LOAD'</li>\n",
       "\t<li>'GroupingAD.HIPP.ADAD'</li>\n",
       "\t<li>'GroupingAD.HIPP.CTRH'</li>\n",
       "\t<li>'GroupingAD.HIPP.CTRL'</li>\n",
       "\t<li>'GroupingAD.HIPP.LOAD'</li>\n",
       "\t<li>'GroupingAD.PARL.ADAD'</li>\n",
       "\t<li>'GroupingAD.PARL.CTRH'</li>\n",
       "\t<li>'GroupingAD.PARL.CTRL'</li>\n",
       "\t<li>'GroupingAD.PARL.LOAD'</li>\n",
       "\t<li>'GroupingAD.SMTG.ADAD'</li>\n",
       "\t<li>'GroupingAD.SMTG.CTRH'</li>\n",
       "\t<li>'GroupingAD.SMTG.CTRL'</li>\n",
       "\t<li>'GroupingAD.SMTG.LOAD'</li>\n",
       "\t<li>'GroupingPD.CAUD.CTRL'</li>\n",
       "\t<li>'GroupingPD.CAUD.GBA1'</li>\n",
       "\t<li>'GroupingPD.CAUD.LOPD'</li>\n",
       "\t<li>'GroupingPD.CAUD.LRRK'</li>\n",
       "\t<li>'GroupingPD.HIPP.CTRL'</li>\n",
       "\t<li>'GroupingPD.HIPP.GBA1'</li>\n",
       "\t<li>'GroupingPD.HIPP.LOPD'</li>\n",
       "\t<li>'GroupingPD.HIPP.LRRK'</li>\n",
       "\t<li>'GroupingPD.MDFG.CTRL'</li>\n",
       "\t<li>'GroupingPD.MDFG.GBA1'</li>\n",
       "\t<li>'GroupingPD.MDFG.LOPD'</li>\n",
       "\t<li>'GroupingPD.MDFG.LRRK'</li>\n",
       "\t<li>'GroupingPD.MDTG.CTRL'</li>\n",
       "\t<li>'GroupingPD.MDTG.GBA1'</li>\n",
       "\t<li>'GroupingPD.MDTG.LOPD'</li>\n",
       "\t<li>'GroupingPD.MDTG.LRRK'</li>\n",
       "\t<li>'GroupingPD.PTMN.CTRL'</li>\n",
       "\t<li>'GroupingPD.PTMN.GBA1'</li>\n",
       "\t<li>'GroupingPD.PTMN.LOPD'</li>\n",
       "\t<li>'GroupingPD.PTMN.LRRK'</li>\n",
       "\t<li>'GroupingPD.SUNI.CTRL'</li>\n",
       "\t<li>'GroupingPD.SUNI.GBA1'</li>\n",
       "\t<li>'GroupingPD.SUNI.LOPD'</li>\n",
       "\t<li>'GroupingPD.SUNI.LRRK'</li>\n",
       "</ol>\n"
      ],
      "text/latex": [
       "\\begin{enumerate*}\n",
       "\\item '(Intercept)'\n",
       "\\item 'GroupingAD.CAUD.CTRH'\n",
       "\\item 'GroupingAD.CAUD.CTRL'\n",
       "\\item 'GroupingAD.CAUD.LOAD'\n",
       "\\item 'GroupingAD.HIPP.ADAD'\n",
       "\\item 'GroupingAD.HIPP.CTRH'\n",
       "\\item 'GroupingAD.HIPP.CTRL'\n",
       "\\item 'GroupingAD.HIPP.LOAD'\n",
       "\\item 'GroupingAD.PARL.ADAD'\n",
       "\\item 'GroupingAD.PARL.CTRH'\n",
       "\\item 'GroupingAD.PARL.CTRL'\n",
       "\\item 'GroupingAD.PARL.LOAD'\n",
       "\\item 'GroupingAD.SMTG.ADAD'\n",
       "\\item 'GroupingAD.SMTG.CTRH'\n",
       "\\item 'GroupingAD.SMTG.CTRL'\n",
       "\\item 'GroupingAD.SMTG.LOAD'\n",
       "\\item 'GroupingPD.CAUD.CTRL'\n",
       "\\item 'GroupingPD.CAUD.GBA1'\n",
       "\\item 'GroupingPD.CAUD.LOPD'\n",
       "\\item 'GroupingPD.CAUD.LRRK'\n",
       "\\item 'GroupingPD.HIPP.CTRL'\n",
       "\\item 'GroupingPD.HIPP.GBA1'\n",
       "\\item 'GroupingPD.HIPP.LOPD'\n",
       "\\item 'GroupingPD.HIPP.LRRK'\n",
       "\\item 'GroupingPD.MDFG.CTRL'\n",
       "\\item 'GroupingPD.MDFG.GBA1'\n",
       "\\item 'GroupingPD.MDFG.LOPD'\n",
       "\\item 'GroupingPD.MDFG.LRRK'\n",
       "\\item 'GroupingPD.MDTG.CTRL'\n",
       "\\item 'GroupingPD.MDTG.GBA1'\n",
       "\\item 'GroupingPD.MDTG.LOPD'\n",
       "\\item 'GroupingPD.MDTG.LRRK'\n",
       "\\item 'GroupingPD.PTMN.CTRL'\n",
       "\\item 'GroupingPD.PTMN.GBA1'\n",
       "\\item 'GroupingPD.PTMN.LOPD'\n",
       "\\item 'GroupingPD.PTMN.LRRK'\n",
       "\\item 'GroupingPD.SUNI.CTRL'\n",
       "\\item 'GroupingPD.SUNI.GBA1'\n",
       "\\item 'GroupingPD.SUNI.LOPD'\n",
       "\\item 'GroupingPD.SUNI.LRRK'\n",
       "\\end{enumerate*}\n"
      ],
      "text/markdown": [
       "1. '(Intercept)'\n",
       "2. 'GroupingAD.CAUD.CTRH'\n",
       "3. 'GroupingAD.CAUD.CTRL'\n",
       "4. 'GroupingAD.CAUD.LOAD'\n",
       "5. 'GroupingAD.HIPP.ADAD'\n",
       "6. 'GroupingAD.HIPP.CTRH'\n",
       "7. 'GroupingAD.HIPP.CTRL'\n",
       "8. 'GroupingAD.HIPP.LOAD'\n",
       "9. 'GroupingAD.PARL.ADAD'\n",
       "10. 'GroupingAD.PARL.CTRH'\n",
       "11. 'GroupingAD.PARL.CTRL'\n",
       "12. 'GroupingAD.PARL.LOAD'\n",
       "13. 'GroupingAD.SMTG.ADAD'\n",
       "14. 'GroupingAD.SMTG.CTRH'\n",
       "15. 'GroupingAD.SMTG.CTRL'\n",
       "16. 'GroupingAD.SMTG.LOAD'\n",
       "17. 'GroupingPD.CAUD.CTRL'\n",
       "18. 'GroupingPD.CAUD.GBA1'\n",
       "19. 'GroupingPD.CAUD.LOPD'\n",
       "20. 'GroupingPD.CAUD.LRRK'\n",
       "21. 'GroupingPD.HIPP.CTRL'\n",
       "22. 'GroupingPD.HIPP.GBA1'\n",
       "23. 'GroupingPD.HIPP.LOPD'\n",
       "24. 'GroupingPD.HIPP.LRRK'\n",
       "25. 'GroupingPD.MDFG.CTRL'\n",
       "26. 'GroupingPD.MDFG.GBA1'\n",
       "27. 'GroupingPD.MDFG.LOPD'\n",
       "28. 'GroupingPD.MDFG.LRRK'\n",
       "29. 'GroupingPD.MDTG.CTRL'\n",
       "30. 'GroupingPD.MDTG.GBA1'\n",
       "31. 'GroupingPD.MDTG.LOPD'\n",
       "32. 'GroupingPD.MDTG.LRRK'\n",
       "33. 'GroupingPD.PTMN.CTRL'\n",
       "34. 'GroupingPD.PTMN.GBA1'\n",
       "35. 'GroupingPD.PTMN.LOPD'\n",
       "36. 'GroupingPD.PTMN.LRRK'\n",
       "37. 'GroupingPD.SUNI.CTRL'\n",
       "38. 'GroupingPD.SUNI.GBA1'\n",
       "39. 'GroupingPD.SUNI.LOPD'\n",
       "40. 'GroupingPD.SUNI.LRRK'\n",
       "\n",
       "\n"
      ],
      "text/plain": [
       " [1] \"(Intercept)\"          \"GroupingAD.CAUD.CTRH\" \"GroupingAD.CAUD.CTRL\"\n",
       " [4] \"GroupingAD.CAUD.LOAD\" \"GroupingAD.HIPP.ADAD\" \"GroupingAD.HIPP.CTRH\"\n",
       " [7] \"GroupingAD.HIPP.CTRL\" \"GroupingAD.HIPP.LOAD\" \"GroupingAD.PARL.ADAD\"\n",
       "[10] \"GroupingAD.PARL.CTRH\" \"GroupingAD.PARL.CTRL\" \"GroupingAD.PARL.LOAD\"\n",
       "[13] \"GroupingAD.SMTG.ADAD\" \"GroupingAD.SMTG.CTRH\" \"GroupingAD.SMTG.CTRL\"\n",
       "[16] \"GroupingAD.SMTG.LOAD\" \"GroupingPD.CAUD.CTRL\" \"GroupingPD.CAUD.GBA1\"\n",
       "[19] \"GroupingPD.CAUD.LOPD\" \"GroupingPD.CAUD.LRRK\" \"GroupingPD.HIPP.CTRL\"\n",
       "[22] \"GroupingPD.HIPP.GBA1\" \"GroupingPD.HIPP.LOPD\" \"GroupingPD.HIPP.LRRK\"\n",
       "[25] \"GroupingPD.MDFG.CTRL\" \"GroupingPD.MDFG.GBA1\" \"GroupingPD.MDFG.LOPD\"\n",
       "[28] \"GroupingPD.MDFG.LRRK\" \"GroupingPD.MDTG.CTRL\" \"GroupingPD.MDTG.GBA1\"\n",
       "[31] \"GroupingPD.MDTG.LOPD\" \"GroupingPD.MDTG.LRRK\" \"GroupingPD.PTMN.CTRL\"\n",
       "[34] \"GroupingPD.PTMN.GBA1\" \"GroupingPD.PTMN.LOPD\" \"GroupingPD.PTMN.LRRK\"\n",
       "[37] \"GroupingPD.SUNI.CTRL\" \"GroupingPD.SUNI.GBA1\" \"GroupingPD.SUNI.LOPD\"\n",
       "[40] \"GroupingPD.SUNI.LRRK\""
      ]
     },
     "metadata": {},
     "output_type": "display_data"
    }
   ],
   "source": [
    "colnames(mod)\n"
   ]
  },
  {
   "cell_type": "code",
   "execution_count": 22,
   "metadata": {},
   "outputs": [
    {
     "data": {
      "text/html": [
       "<ol class=list-inline>\n",
       "\t<li>'(Intercept)'</li>\n",
       "\t<li>'GroupingAD.CAUD.CTRH'</li>\n",
       "\t<li>'GroupingAD.CAUD.CTRL'</li>\n",
       "\t<li>'GroupingAD.CAUD.LOAD'</li>\n",
       "\t<li>'GroupingAD.HIPP.ADAD'</li>\n",
       "\t<li>'GroupingAD.HIPP.CTRH'</li>\n",
       "\t<li>'GroupingAD.HIPP.CTRL'</li>\n",
       "\t<li>'GroupingAD.HIPP.LOAD'</li>\n",
       "\t<li>'GroupingAD.PARL.ADAD'</li>\n",
       "\t<li>'GroupingAD.PARL.CTRH'</li>\n",
       "\t<li>'GroupingAD.PARL.CTRL'</li>\n",
       "\t<li>'GroupingAD.PARL.LOAD'</li>\n",
       "\t<li>'GroupingAD.SMTG.ADAD'</li>\n",
       "\t<li>'GroupingAD.SMTG.CTRH'</li>\n",
       "\t<li>'GroupingAD.SMTG.CTRL'</li>\n",
       "\t<li>'GroupingAD.SMTG.LOAD'</li>\n",
       "\t<li>'GroupingPD.CAUD.CTRL'</li>\n",
       "\t<li>'GroupingPD.CAUD.GBA1'</li>\n",
       "\t<li>'GroupingPD.CAUD.LOPD'</li>\n",
       "\t<li>'GroupingPD.CAUD.LRRK'</li>\n",
       "\t<li>'GroupingPD.HIPP.CTRL'</li>\n",
       "\t<li>'GroupingPD.HIPP.GBA1'</li>\n",
       "\t<li>'GroupingPD.HIPP.LOPD'</li>\n",
       "\t<li>'GroupingPD.HIPP.LRRK'</li>\n",
       "\t<li>'GroupingPD.MDFG.CTRL'</li>\n",
       "\t<li>'GroupingPD.MDFG.GBA1'</li>\n",
       "\t<li>'GroupingPD.MDFG.LOPD'</li>\n",
       "\t<li>'GroupingPD.MDFG.LRRK'</li>\n",
       "\t<li>'GroupingPD.MDTG.CTRL'</li>\n",
       "\t<li>'GroupingPD.MDTG.GBA1'</li>\n",
       "\t<li>'GroupingPD.MDTG.LOPD'</li>\n",
       "\t<li>'GroupingPD.MDTG.LRRK'</li>\n",
       "\t<li>'GroupingPD.PTMN.CTRL'</li>\n",
       "\t<li>'GroupingPD.PTMN.GBA1'</li>\n",
       "\t<li>'GroupingPD.PTMN.LOPD'</li>\n",
       "\t<li>'GroupingPD.PTMN.LRRK'</li>\n",
       "\t<li>'GroupingPD.SUNI.CTRL'</li>\n",
       "\t<li>'GroupingPD.SUNI.GBA1'</li>\n",
       "\t<li>'GroupingPD.SUNI.LOPD'</li>\n",
       "\t<li>'GroupingPD.SUNI.LRRK'</li>\n",
       "</ol>\n"
      ],
      "text/latex": [
       "\\begin{enumerate*}\n",
       "\\item '(Intercept)'\n",
       "\\item 'GroupingAD.CAUD.CTRH'\n",
       "\\item 'GroupingAD.CAUD.CTRL'\n",
       "\\item 'GroupingAD.CAUD.LOAD'\n",
       "\\item 'GroupingAD.HIPP.ADAD'\n",
       "\\item 'GroupingAD.HIPP.CTRH'\n",
       "\\item 'GroupingAD.HIPP.CTRL'\n",
       "\\item 'GroupingAD.HIPP.LOAD'\n",
       "\\item 'GroupingAD.PARL.ADAD'\n",
       "\\item 'GroupingAD.PARL.CTRH'\n",
       "\\item 'GroupingAD.PARL.CTRL'\n",
       "\\item 'GroupingAD.PARL.LOAD'\n",
       "\\item 'GroupingAD.SMTG.ADAD'\n",
       "\\item 'GroupingAD.SMTG.CTRH'\n",
       "\\item 'GroupingAD.SMTG.CTRL'\n",
       "\\item 'GroupingAD.SMTG.LOAD'\n",
       "\\item 'GroupingPD.CAUD.CTRL'\n",
       "\\item 'GroupingPD.CAUD.GBA1'\n",
       "\\item 'GroupingPD.CAUD.LOPD'\n",
       "\\item 'GroupingPD.CAUD.LRRK'\n",
       "\\item 'GroupingPD.HIPP.CTRL'\n",
       "\\item 'GroupingPD.HIPP.GBA1'\n",
       "\\item 'GroupingPD.HIPP.LOPD'\n",
       "\\item 'GroupingPD.HIPP.LRRK'\n",
       "\\item 'GroupingPD.MDFG.CTRL'\n",
       "\\item 'GroupingPD.MDFG.GBA1'\n",
       "\\item 'GroupingPD.MDFG.LOPD'\n",
       "\\item 'GroupingPD.MDFG.LRRK'\n",
       "\\item 'GroupingPD.MDTG.CTRL'\n",
       "\\item 'GroupingPD.MDTG.GBA1'\n",
       "\\item 'GroupingPD.MDTG.LOPD'\n",
       "\\item 'GroupingPD.MDTG.LRRK'\n",
       "\\item 'GroupingPD.PTMN.CTRL'\n",
       "\\item 'GroupingPD.PTMN.GBA1'\n",
       "\\item 'GroupingPD.PTMN.LOPD'\n",
       "\\item 'GroupingPD.PTMN.LRRK'\n",
       "\\item 'GroupingPD.SUNI.CTRL'\n",
       "\\item 'GroupingPD.SUNI.GBA1'\n",
       "\\item 'GroupingPD.SUNI.LOPD'\n",
       "\\item 'GroupingPD.SUNI.LRRK'\n",
       "\\end{enumerate*}\n"
      ],
      "text/markdown": [
       "1. '(Intercept)'\n",
       "2. 'GroupingAD.CAUD.CTRH'\n",
       "3. 'GroupingAD.CAUD.CTRL'\n",
       "4. 'GroupingAD.CAUD.LOAD'\n",
       "5. 'GroupingAD.HIPP.ADAD'\n",
       "6. 'GroupingAD.HIPP.CTRH'\n",
       "7. 'GroupingAD.HIPP.CTRL'\n",
       "8. 'GroupingAD.HIPP.LOAD'\n",
       "9. 'GroupingAD.PARL.ADAD'\n",
       "10. 'GroupingAD.PARL.CTRH'\n",
       "11. 'GroupingAD.PARL.CTRL'\n",
       "12. 'GroupingAD.PARL.LOAD'\n",
       "13. 'GroupingAD.SMTG.ADAD'\n",
       "14. 'GroupingAD.SMTG.CTRH'\n",
       "15. 'GroupingAD.SMTG.CTRL'\n",
       "16. 'GroupingAD.SMTG.LOAD'\n",
       "17. 'GroupingPD.CAUD.CTRL'\n",
       "18. 'GroupingPD.CAUD.GBA1'\n",
       "19. 'GroupingPD.CAUD.LOPD'\n",
       "20. 'GroupingPD.CAUD.LRRK'\n",
       "21. 'GroupingPD.HIPP.CTRL'\n",
       "22. 'GroupingPD.HIPP.GBA1'\n",
       "23. 'GroupingPD.HIPP.LOPD'\n",
       "24. 'GroupingPD.HIPP.LRRK'\n",
       "25. 'GroupingPD.MDFG.CTRL'\n",
       "26. 'GroupingPD.MDFG.GBA1'\n",
       "27. 'GroupingPD.MDFG.LOPD'\n",
       "28. 'GroupingPD.MDFG.LRRK'\n",
       "29. 'GroupingPD.MDTG.CTRL'\n",
       "30. 'GroupingPD.MDTG.GBA1'\n",
       "31. 'GroupingPD.MDTG.LOPD'\n",
       "32. 'GroupingPD.MDTG.LRRK'\n",
       "33. 'GroupingPD.PTMN.CTRL'\n",
       "34. 'GroupingPD.PTMN.GBA1'\n",
       "35. 'GroupingPD.PTMN.LOPD'\n",
       "36. 'GroupingPD.PTMN.LRRK'\n",
       "37. 'GroupingPD.SUNI.CTRL'\n",
       "38. 'GroupingPD.SUNI.GBA1'\n",
       "39. 'GroupingPD.SUNI.LOPD'\n",
       "40. 'GroupingPD.SUNI.LRRK'\n",
       "\n",
       "\n"
      ],
      "text/plain": [
       " [1] \"(Intercept)\"          \"GroupingAD.CAUD.CTRH\" \"GroupingAD.CAUD.CTRL\"\n",
       " [4] \"GroupingAD.CAUD.LOAD\" \"GroupingAD.HIPP.ADAD\" \"GroupingAD.HIPP.CTRH\"\n",
       " [7] \"GroupingAD.HIPP.CTRL\" \"GroupingAD.HIPP.LOAD\" \"GroupingAD.PARL.ADAD\"\n",
       "[10] \"GroupingAD.PARL.CTRH\" \"GroupingAD.PARL.CTRL\" \"GroupingAD.PARL.LOAD\"\n",
       "[13] \"GroupingAD.SMTG.ADAD\" \"GroupingAD.SMTG.CTRH\" \"GroupingAD.SMTG.CTRL\"\n",
       "[16] \"GroupingAD.SMTG.LOAD\" \"GroupingPD.CAUD.CTRL\" \"GroupingPD.CAUD.GBA1\"\n",
       "[19] \"GroupingPD.CAUD.LOPD\" \"GroupingPD.CAUD.LRRK\" \"GroupingPD.HIPP.CTRL\"\n",
       "[22] \"GroupingPD.HIPP.GBA1\" \"GroupingPD.HIPP.LOPD\" \"GroupingPD.HIPP.LRRK\"\n",
       "[25] \"GroupingPD.MDFG.CTRL\" \"GroupingPD.MDFG.GBA1\" \"GroupingPD.MDFG.LOPD\"\n",
       "[28] \"GroupingPD.MDFG.LRRK\" \"GroupingPD.MDTG.CTRL\" \"GroupingPD.MDTG.GBA1\"\n",
       "[31] \"GroupingPD.MDTG.LOPD\" \"GroupingPD.MDTG.LRRK\" \"GroupingPD.PTMN.CTRL\"\n",
       "[34] \"GroupingPD.PTMN.GBA1\" \"GroupingPD.PTMN.LOPD\" \"GroupingPD.PTMN.LRRK\"\n",
       "[37] \"GroupingPD.SUNI.CTRL\" \"GroupingPD.SUNI.GBA1\" \"GroupingPD.SUNI.LOPD\"\n",
       "[40] \"GroupingPD.SUNI.LRRK\""
      ]
     },
     "metadata": {},
     "output_type": "display_data"
    }
   ],
   "source": [
    "colnames(fit$coefficients)"
   ]
  },
  {
   "cell_type": "markdown",
   "metadata": {},
   "source": [
    "###  Contrasts "
   ]
  },
  {
   "cell_type": "code",
   "execution_count": 55,
   "metadata": {},
   "outputs": [
    {
     "name": "stderr",
     "output_type": "stream",
     "text": [
      "Warning message in makeContrasts(pd_caud_gba1_vs_lrrk = \"GroupingPD.CAUD.GBA1 - GroupingPD.CAUD.LRRK\", :\n",
      "“Renaming (Intercept) to Intercept”"
     ]
    }
   ],
   "source": [
    "#create contrasts of interest \n",
    "cont.matrix=makeContrasts(\n",
    "    pd_caud_gba1_vs_lrrk=\"GroupingPD.CAUD.GBA1 - GroupingPD.CAUD.LRRK\",\n",
    "    pd_caud_gba1_vs_lopd=\"GroupingPD.CAUD.GBA1 - GroupingPD.CAUD.LOPD\",\n",
    "    pd_caud_gba1_vs_ctrl=\"GroupingPD.CAUD.GBA1 - GroupingPD.CAUD.CTRL\",\n",
    "    pd_caud_lrrk_vs_lopd=\"GroupingPD.CAUD.LRRK - GroupingPD.CAUD.LOPD\",\n",
    "    pd_caud_lrrk_vs_ctrl=\"GroupingPD.CAUD.LRRK - GroupingPD.CAUD.CTRL\",\n",
    "    pd_caud_lopd_vs_ctrl=\"GroupingPD.CAUD.LOPD - GroupingPD.CAUD.CTRL\",\n",
    "    pd_hipp_gba1_vs_lrrk=\"GroupingPD.HIPP.GBA1 - GroupingPD.HIPP.LRRK\",\n",
    "    pd_hipp_gba1_vs_lopd=\"GroupingPD.HIPP.GBA1 - GroupingPD.HIPP.LOPD\",\n",
    "    pd_hipp_gba1_vs_ctrl=\"GroupingPD.HIPP.GBA1 - GroupingPD.HIPP.CTRL\",\n",
    "    pd_hipp_lrrk_vs_lopd=\"GroupingPD.HIPP.LRRK - GroupingPD.HIPP.LOPD\",\n",
    "    pd_hipp_lrrk_vs_ctrl=\"GroupingPD.HIPP.LRRK - GroupingPD.HIPP.CTRL\",\n",
    "    pd_hipp_lopd_vs_ctrl=\"GroupingPD.HIPP.LOPD - GroupingPD.HIPP.CTRL\",\n",
    "    pd_mdfg_gba1_vs_lrrk=\"GroupingPD.MDFG.GBA1 - GroupingPD.MDFG.LRRK\",\n",
    "    pd_mdfg_gba1_vs_lopd=\"GroupingPD.MDFG.GBA1 - GroupingPD.MDFG.LOPD\",\n",
    "    pd_mdfg_gba1_vs_ctrl=\"GroupingPD.MDFG.GBA1 - GroupingPD.MDFG.CTRL\",\n",
    "    pd_mdfg_lrrk_vs_lopd=\"GroupingPD.MDFG.LRRK - GroupingPD.MDFG.LOPD\",\n",
    "    pd_mdfg_lrrk_vs_ctrl=\"GroupingPD.MDFG.LRRK - GroupingPD.MDFG.CTRL\",\n",
    "    pd_mdfg_lopd_vs_ctrl=\"GroupingPD.MDFG.LOPD - GroupingPD.MDFG.CTRL\",\n",
    "    pd_mdtg_gba1_vs_lrrk=\"GroupingPD.MDTG.GBA1 - GroupingPD.MDTG.LRRK\",\n",
    "    pd_mdtg_gba1_vs_lopd=\"GroupingPD.MDTG.GBA1 - GroupingPD.MDTG.LOPD\",\n",
    "    pd_mdtg_gba1_vs_ctrl=\"GroupingPD.MDTG.GBA1 - GroupingPD.MDTG.CTRL\",\n",
    "    pd_mdtg_lrrk_vs_lopd=\"GroupingPD.MDTG.LRRK - GroupingPD.MDTG.LOPD\",\n",
    "    pd_mdtg_lrrk_vs_ctrl=\"GroupingPD.MDTG.LRRK - GroupingPD.MDTG.CTRL\",\n",
    "    pd_mdtg_lopd_vs_ctrl=\"GroupingPD.MDTG.LOPD - GroupingPD.MDTG.CTRL\",\n",
    "    pd_ptmn_gba1_vs_lrrk=\"GroupingPD.PTMN.GBA1 - GroupingPD.PTMN.LRRK\",\n",
    "    pd_ptmn_gba1_vs_lopd=\"GroupingPD.PTMN.GBA1 - GroupingPD.PTMN.LOPD\",\n",
    "    pd_ptmn_gba1_vs_ctrl=\"GroupingPD.PTMN.GBA1 - GroupingPD.PTMN.CTRL\",\n",
    "    pd_ptmn_lrrk_vs_lopd=\"GroupingPD.PTMN.LRRK - GroupingPD.PTMN.LOPD\",\n",
    "    pd_ptmn_lrrk_vs_ctrl=\"GroupingPD.PTMN.LRRK - GroupingPD.PTMN.CTRL\",\n",
    "    pd_ptmn_lopd_vs_ctrl=\"GroupingPD.PTMN.LOPD - GroupingPD.PTMN.CTRL\",\n",
    "    pd_suni_gba1_vs_lrrk=\"GroupingPD.SUNI.GBA1 - GroupingPD.SUNI.LRRK\",\n",
    "    pd_suni_gba1_vs_lopd=\"GroupingPD.SUNI.GBA1 - GroupingPD.SUNI.LOPD\",\n",
    "    pd_suni_gba1_vs_ctrl=\"GroupingPD.SUNI.GBA1 - GroupingPD.SUNI.CTRL\",\n",
    "    pd_suni_lrrk_vs_lopd=\"GroupingPD.SUNI.LRRK - GroupingPD.SUNI.LOPD\",\n",
    "    pd_suni_lrrk_vs_ctrl=\"GroupingPD.SUNI.LRRK - GroupingPD.SUNI.CTRL\",\n",
    "    pd_suni_lopd_vs_ctrl=\"GroupingPD.SUNI.LOPD - GroupingPD.SUNI.CTRL\",   \n",
    "    ad_caud_adad_vs_load=\"(Intercept) - GroupingAD.CAUD.LOAD\",\n",
    "    ad_caud_adad_vs_ctrh=\"(Intercept) - GroupingAD.CAUD.CTRH\",\n",
    "    ad_caud_adad_vs_ctrl=\"(Intercept) - GroupingAD.CAUD.CTRL\",\n",
    "    ad_caud_load_vs_ctrh=\"GroupingAD.CAUD.LOAD - GroupingAD.CAUD.CTRH\",\n",
    "    ad_caud_load_vs_ctrl=\"GroupingAD.CAUD.LOAD - GroupingAD.CAUD.CTRL\",\n",
    "    ad_caud_ctrl_vs_ctrh=\"GroupingAD.CAUD.CTRL - GroupingAD.CAUD.CTRH\",\n",
    "    ad_hipp_adad_vs_load=\"GroupingAD.HIPP.ADAD - GroupingAD.HIPP.LOAD\",\n",
    "    ad_hipp_adad_vs_ctrh=\"GroupingAD.HIPP.ADAD - GroupingAD.HIPP.CTRH\",\n",
    "    ad_hipp_adad_vs_ctrl=\"GroupingAD.HIPP.ADAD - GroupingAD.HIPP.CTRL\",\n",
    "    ad_hipp_load_vs_ctrh=\"GroupingAD.HIPP.LOAD - GroupingAD.HIPP.CTRH\",\n",
    "    ad_hipp_load_vs_ctrl=\"GroupingAD.HIPP.LOAD - GroupingAD.HIPP.CTRL\",\n",
    "    ad_hipp_ctrl_vs_ctrh=\"GroupingAD.HIPP.CTRL - GroupingAD.HIPP.CTRH\",\n",
    "    ad_parl_adad_vs_load=\"GroupingAD.PARL.ADAD - GroupingAD.PARL.LOAD\",\n",
    "    ad_parl_adad_vs_ctrh=\"GroupingAD.PARL.ADAD - GroupingAD.PARL.CTRH\",\n",
    "    ad_parl_adad_vs_ctrl=\"GroupingAD.PARL.ADAD - GroupingAD.PARL.CTRL\",\n",
    "    ad_parl_load_vs_ctrh=\"GroupingAD.PARL.LOAD - GroupingAD.PARL.CTRH\",\n",
    "    ad_parl_load_vs_ctrl=\"GroupingAD.PARL.LOAD - GroupingAD.PARL.CTRL\",\n",
    "    ad_parl_ctrl_vs_ctrh=\"GroupingAD.PARL.CTRL - GroupingAD.PARL.CTRH\",\n",
    "    ad_smtg_adad_vs_load=\"GroupingAD.SMTG.ADAD - GroupingAD.SMTG.LOAD\",\n",
    "    ad_smtg_adad_vs_ctrh=\"GroupingAD.SMTG.ADAD - GroupingAD.SMTG.CTRH\",\n",
    "    ad_smtg_adad_vs_ctrl=\"GroupingAD.SMTG.ADAD - GroupingAD.SMTG.CTRL\",\n",
    "    ad_smtg_load_vs_ctrh=\"GroupingAD.SMTG.LOAD - GroupingAD.SMTG.CTRH\",\n",
    "    ad_smtg_load_vs_ctrl=\"GroupingAD.SMTG.LOAD - GroupingAD.SMTG.CTRL\",\n",
    "    ad_smtg_ctrl_vs_ctrh=\"GroupingAD.SMTG.CTRL - GroupingAD.SMTG.CTRH\",\n",
    "    levels=mod)"
   ]
  },
  {
   "cell_type": "code",
   "execution_count": 56,
   "metadata": {
    "scrolled": true
   },
   "outputs": [
    {
     "name": "stderr",
     "output_type": "stream",
     "text": [
      "Warning message in contrasts.fit(fit, cont.matrix):\n",
      "“row names of contrasts don't match col names of coefficients”"
     ]
    }
   ],
   "source": [
    "fit2=contrasts.fit(fit,cont.matrix)\n",
    "e=eBayes(fit2)\n",
    "comparisons=colnames(cont.matrix)"
   ]
  },
  {
   "cell_type": "code",
   "execution_count": 57,
   "metadata": {},
   "outputs": [],
   "source": [
    "pval_thresh=0.05\n",
    "lfc_thresh=1"
   ]
  },
  {
   "cell_type": "code",
   "execution_count": 58,
   "metadata": {},
   "outputs": [
    {
     "name": "stdout",
     "output_type": "stream",
     "text": [
      "[1] \"pd_caud_gba1_vs_lrrk \\n sig: 2082 \\n up: 1454 \\n down: 628 \\n\"\n",
      "[1] \"pd_caud_gba1_vs_lopd \\n sig: 123 \\n up: 53 \\n down: 70 \\n\"\n",
      "[1] \"pd_caud_gba1_vs_ctrl \\n sig: 764 \\n up: 206 \\n down: 558 \\n\"\n",
      "[1] \"pd_caud_lrrk_vs_lopd \\n sig: 2106 \\n up: 598 \\n down: 1508 \\n\"\n",
      "[1] \"pd_caud_lrrk_vs_ctrl \\n sig: 2165 \\n up: 528 \\n down: 1637 \\n\"\n",
      "[1] \"pd_caud_lopd_vs_ctrl \\n sig: 465 \\n up: 196 \\n down: 269 \\n\"\n",
      "[1] \"pd_hipp_gba1_vs_lrrk \\n sig: 28030 \\n up: 16900 \\n down: 11130 \\n\"\n",
      "[1] \"pd_hipp_gba1_vs_lopd \\n sig: 6714 \\n up: 3081 \\n down: 3633 \\n\"\n",
      "[1] \"pd_hipp_gba1_vs_ctrl \\n sig: 3825 \\n up: 2192 \\n down: 1633 \\n\"\n",
      "[1] \"pd_hipp_lrrk_vs_lopd \\n sig: 27477 \\n up: 11050 \\n down: 16427 \\n\"\n",
      "[1] \"pd_hipp_lrrk_vs_ctrl \\n sig: 27425 \\n up: 11465 \\n down: 15960 \\n\"\n",
      "[1] \"pd_hipp_lopd_vs_ctrl \\n sig: 6784 \\n up: 4418 \\n down: 2366 \\n\"\n",
      "[1] \"pd_mdfg_gba1_vs_lrrk \\n sig: 21927 \\n up: 17547 \\n down: 4380 \\n\"\n",
      "[1] \"pd_mdfg_gba1_vs_lopd \\n sig: 212 \\n up: 86 \\n down: 126 \\n\"\n",
      "[1] \"pd_mdfg_gba1_vs_ctrl \\n sig: 162 \\n up: 95 \\n down: 67 \\n\"\n",
      "[1] \"pd_mdfg_lrrk_vs_lopd \\n sig: 14920 \\n up: 2739 \\n down: 12181 \\n\"\n",
      "[1] \"pd_mdfg_lrrk_vs_ctrl \\n sig: 16701 \\n up: 4557 \\n down: 12144 \\n\"\n",
      "[1] \"pd_mdfg_lopd_vs_ctrl \\n sig: 285 \\n up: 210 \\n down: 75 \\n\"\n",
      "[1] \"pd_mdtg_gba1_vs_lrrk \\n sig: 2143 \\n up: 1597 \\n down: 546 \\n\"\n",
      "[1] \"pd_mdtg_gba1_vs_lopd \\n sig: 161 \\n up: 117 \\n down: 44 \\n\"\n",
      "[1] \"pd_mdtg_gba1_vs_ctrl \\n sig: 309 \\n up: 151 \\n down: 158 \\n\"\n",
      "[1] \"pd_mdtg_lrrk_vs_lopd \\n sig: 1288 \\n up: 406 \\n down: 882 \\n\"\n",
      "[1] \"pd_mdtg_lrrk_vs_ctrl \\n sig: 4381 \\n up: 1089 \\n down: 3292 \\n\"\n",
      "[1] \"pd_mdtg_lopd_vs_ctrl \\n sig: 494 \\n up: 166 \\n down: 328 \\n\"\n",
      "[1] \"pd_ptmn_gba1_vs_lrrk \\n sig: 1343 \\n up: 838 \\n down: 505 \\n\"\n",
      "[1] \"pd_ptmn_gba1_vs_lopd \\n sig: 88 \\n up: 38 \\n down: 50 \\n\"\n",
      "[1] \"pd_ptmn_gba1_vs_ctrl \\n sig: 375 \\n up: 100 \\n down: 275 \\n\"\n",
      "[1] \"pd_ptmn_lrrk_vs_lopd \\n sig: 1555 \\n up: 545 \\n down: 1010 \\n\"\n",
      "[1] \"pd_ptmn_lrrk_vs_ctrl \\n sig: 2815 \\n up: 907 \\n down: 1908 \\n\"\n",
      "[1] \"pd_ptmn_lopd_vs_ctrl \\n sig: 357 \\n up: 68 \\n down: 289 \\n\"\n",
      "[1] \"pd_suni_gba1_vs_lrrk \\n sig: 8611 \\n up: 5773 \\n down: 2838 \\n\"\n",
      "[1] \"pd_suni_gba1_vs_lopd \\n sig: 2638 \\n up: 411 \\n down: 2227 \\n\"\n",
      "[1] \"pd_suni_gba1_vs_ctrl \\n sig: 415 \\n up: 337 \\n down: 78 \\n\"\n",
      "[1] \"pd_suni_lrrk_vs_lopd \\n sig: 5906 \\n up: 1499 \\n down: 4407 \\n\"\n",
      "[1] \"pd_suni_lrrk_vs_ctrl \\n sig: 11172 \\n up: 4800 \\n down: 6372 \\n\"\n",
      "[1] \"pd_suni_lopd_vs_ctrl \\n sig: 3311 \\n up: 3061 \\n down: 250 \\n\"\n",
      "[1] \"ad_caud_adad_vs_load \\n sig: 256549 \\n up: 128051 \\n down: 128498 \\n\"\n",
      "[1] \"ad_caud_adad_vs_ctrh \\n sig: 257664 \\n up: 129361 \\n down: 128303 \\n\"\n",
      "[1] \"ad_caud_adad_vs_ctrl \\n sig: 260675 \\n up: 130344 \\n down: 130331 \\n\"\n",
      "[1] \"ad_caud_load_vs_ctrh \\n sig: 329 \\n up: 184 \\n down: 145 \\n\"\n",
      "[1] \"ad_caud_load_vs_ctrl \\n sig: 345 \\n up: 210 \\n down: 135 \\n\"\n",
      "[1] \"ad_caud_ctrl_vs_ctrh \\n sig: 511 \\n up: 205 \\n down: 306 \\n\"\n",
      "[1] \"ad_hipp_adad_vs_load \\n sig: 86346 \\n up: 39492 \\n down: 46854 \\n\"\n",
      "[1] \"ad_hipp_adad_vs_ctrh \\n sig: 107660 \\n up: 51045 \\n down: 56615 \\n\"\n",
      "[1] \"ad_hipp_adad_vs_ctrl \\n sig: 106268 \\n up: 50665 \\n down: 55603 \\n\"\n",
      "[1] \"ad_hipp_load_vs_ctrh \\n sig: 711 \\n up: 122 \\n down: 589 \\n\"\n",
      "[1] \"ad_hipp_load_vs_ctrl \\n sig: 342 \\n up: 181 \\n down: 161 \\n\"\n",
      "[1] \"ad_hipp_ctrl_vs_ctrh \\n sig: 547 \\n up: 269 \\n down: 278 \\n\"\n",
      "[1] \"ad_parl_adad_vs_load \\n sig: 21577 \\n up: 10835 \\n down: 10742 \\n\"\n",
      "[1] \"ad_parl_adad_vs_ctrh \\n sig: 39485 \\n up: 21443 \\n down: 18042 \\n\"\n",
      "[1] \"ad_parl_adad_vs_ctrl \\n sig: 54100 \\n up: 26400 \\n down: 27700 \\n\"\n",
      "[1] \"ad_parl_load_vs_ctrh \\n sig: 259 \\n up: 80 \\n down: 179 \\n\"\n",
      "[1] \"ad_parl_load_vs_ctrl \\n sig: 467 \\n up: 316 \\n down: 151 \\n\"\n",
      "[1] \"ad_parl_ctrl_vs_ctrh \\n sig: 1122 \\n up: 158 \\n down: 964 \\n\"\n",
      "[1] \"ad_smtg_adad_vs_load \\n sig: 15850 \\n up: 8871 \\n down: 6979 \\n\"\n",
      "[1] \"ad_smtg_adad_vs_ctrh \\n sig: 23014 \\n up: 11736 \\n down: 11278 \\n\"\n",
      "[1] \"ad_smtg_adad_vs_ctrl \\n sig: 23387 \\n up: 11323 \\n down: 12064 \\n\"\n",
      "[1] \"ad_smtg_load_vs_ctrh \\n sig: 390 \\n up: 102 \\n down: 288 \\n\"\n",
      "[1] \"ad_smtg_load_vs_ctrl \\n sig: 405 \\n up: 190 \\n down: 215 \\n\"\n",
      "[1] \"ad_smtg_ctrl_vs_ctrh \\n sig: 269 \\n up: 87 \\n down: 182 \\n\"\n"
     ]
    }
   ],
   "source": [
    "for(i in seq(1,length(comparisons)))\n",
    "{\n",
    "  tab<-topTable(e, number=nrow(e),coef=i,lfc=lfc_thresh, p.value = pval_thresh)\n",
    "  up=sum(tab$logFC>0)\n",
    "  down=sum(tab$logFC<0)\n",
    "  sig=nrow(tab)\n",
    "  curtitle=paste(comparisons[i],'\\n','sig:',sig,'\\n','up:',up,'\\n','down:',down,'\\n')\n",
    "  print(curtitle)\n",
    "  vals=topTable(e,number=nrow(e),coef=i)\n",
    "  vals$pscaled=-1*log10(vals$adj.P.Val)\n",
    "  vals$sig=vals$adj.P.Val<pval_thresh & abs(vals$logFC)>lfc_thresh \n",
    "  png(paste(\"pr.volcano_diff\",comparisons[i],\".png\",sep=\"\"))\n",
    "  print(ggplot(data=vals,\n",
    "               aes(y=vals$pscaled,x=vals$logFC,color=vals$sig))+\n",
    "               geom_point(alpha=0.1)+\n",
    "               xlab(\"log2(FC)\")+\n",
    "               ylab(\"-log10(pval)\")+\n",
    "               ggtitle(curtitle)+\n",
    "               theme_bw()+\n",
    "               scale_color_manual(values=c(\"#000000\",\"#FF0000\")))\n",
    "  dev.off() \n",
    "  write.table(tab,file=paste(\"pr.diff_\",comparisons[i],\".tsv\",sep=\"\"),quote=FALSE,sep='\\t',row.names = TRUE,col.names = TRUE)\n",
    "}\n",
    "    "
   ]
  }
 ],
 "metadata": {
  "kernelspec": {
   "display_name": "R 3.5",
   "language": "R",
   "name": "ir35"
  },
  "language_info": {
   "codemirror_mode": "r",
   "file_extension": ".r",
   "mimetype": "text/x-r-source",
   "name": "R",
   "pygments_lexer": "r",
   "version": "3.5.1"
  }
 },
 "nbformat": 4,
 "nbformat_minor": 2
}
