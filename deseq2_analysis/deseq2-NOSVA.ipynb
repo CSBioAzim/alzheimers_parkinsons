{
 "cells": [
  {
   "cell_type": "markdown",
   "metadata": {},
   "source": [
    "### DESEQ2 analysis of AD/PD dataset"
   ]
  },
  {
   "cell_type": "code",
   "execution_count": 1,
   "metadata": {},
   "outputs": [
    {
     "name": "stderr",
     "output_type": "stream",
     "text": [
      "Loading required package: S4Vectors\n",
      "Loading required package: stats4\n",
      "Loading required package: BiocGenerics\n",
      "Loading required package: parallel\n",
      "\n",
      "Attaching package: ‘BiocGenerics’\n",
      "\n",
      "The following objects are masked from ‘package:parallel’:\n",
      "\n",
      "    clusterApply, clusterApplyLB, clusterCall, clusterEvalQ,\n",
      "    clusterExport, clusterMap, parApply, parCapply, parLapply,\n",
      "    parLapplyLB, parRapply, parSapply, parSapplyLB\n",
      "\n",
      "The following objects are masked from ‘package:stats’:\n",
      "\n",
      "    IQR, mad, sd, var, xtabs\n",
      "\n",
      "The following objects are masked from ‘package:base’:\n",
      "\n",
      "    anyDuplicated, append, as.data.frame, basename, cbind, colMeans,\n",
      "    colnames, colSums, dirname, do.call, duplicated, eval, evalq,\n",
      "    Filter, Find, get, grep, grepl, intersect, is.unsorted, lapply,\n",
      "    lengths, Map, mapply, match, mget, order, paste, pmax, pmax.int,\n",
      "    pmin, pmin.int, Position, rank, rbind, Reduce, rowMeans, rownames,\n",
      "    rowSums, sapply, setdiff, sort, table, tapply, union, unique,\n",
      "    unsplit, which, which.max, which.min\n",
      "\n",
      "\n",
      "Attaching package: ‘S4Vectors’\n",
      "\n",
      "The following object is masked from ‘package:base’:\n",
      "\n",
      "    expand.grid\n",
      "\n",
      "Loading required package: IRanges\n",
      "Loading required package: GenomicRanges\n",
      "Loading required package: GenomeInfoDb\n",
      "Loading required package: SummarizedExperiment\n",
      "Loading required package: Biobase\n",
      "Welcome to Bioconductor\n",
      "\n",
      "    Vignettes contain introductory material; view with\n",
      "    'browseVignettes()'. To cite Bioconductor, see\n",
      "    'citation(\"Biobase\")', and for packages 'citation(\"pkgname\")'.\n",
      "\n",
      "Loading required package: DelayedArray\n",
      "Loading required package: matrixStats\n",
      "\n",
      "Attaching package: ‘matrixStats’\n",
      "\n",
      "The following objects are masked from ‘package:Biobase’:\n",
      "\n",
      "    anyMissing, rowMedians\n",
      "\n",
      "Loading required package: BiocParallel\n",
      "\n",
      "Attaching package: ‘DelayedArray’\n",
      "\n",
      "The following objects are masked from ‘package:matrixStats’:\n",
      "\n",
      "    colMaxs, colMins, colRanges, rowMaxs, rowMins, rowRanges\n",
      "\n",
      "The following objects are masked from ‘package:base’:\n",
      "\n",
      "    aperm, apply\n",
      "\n",
      "\n",
      "Attaching package: ‘IHW’\n",
      "\n",
      "The following object is masked from ‘package:ggplot2’:\n",
      "\n",
      "    alpha\n",
      "\n",
      "Loading required package: mgcv\n",
      "Loading required package: nlme\n",
      "\n",
      "Attaching package: ‘nlme’\n",
      "\n",
      "The following object is masked from ‘package:IRanges’:\n",
      "\n",
      "    collapse\n",
      "\n",
      "This is mgcv 1.8-28. For overview type 'help(\"mgcv-package\")'.\n",
      "Loading required package: genefilter\n",
      "\n",
      "Attaching package: ‘genefilter’\n",
      "\n",
      "The following objects are masked from ‘package:matrixStats’:\n",
      "\n",
      "    rowSds, rowVars\n",
      "\n",
      "\n",
      "Attaching package: ‘limma’\n",
      "\n",
      "The following object is masked from ‘package:DESeq2’:\n",
      "\n",
      "    plotMA\n",
      "\n",
      "The following object is masked from ‘package:BiocGenerics’:\n",
      "\n",
      "    plotMA\n",
      "\n"
     ]
    }
   ],
   "source": [
    "rm(list=ls())\n",
    "#load necessary libraries \n",
    "library(ggplot2)\n",
    "library(DESeq2)\n",
    "library(\"BiocParallel\")\n",
    "parallelFlag=TRUE\n",
    "register(MulticoreParam(50))\n",
    "library(\"IHW\")\n",
    "library(\"pheatmap\")\n",
    "library(sva)\n",
    "library(limma)"
   ]
  },
  {
   "cell_type": "markdown",
   "metadata": {},
   "source": [
    "## Load data and design"
   ]
  },
  {
   "cell_type": "code",
   "execution_count": 2,
   "metadata": {},
   "outputs": [],
   "source": [
    "#load ATAC-seq raw read counts\n",
    "data=read.table('../adpd.atac.idr.counts.txt.gz',header=TRUE,sep='\\t')\n",
    "#concatenate chrom/start/end columns values to server as rownames for the dataframe of the form chrom_start_end \n",
    "rownames(data)=paste(data$chrom,data$start,data$end,sep=\"_\")\n",
    "data$chrom=NULL\n",
    "data$start=NULL\n",
    "data$end=NULL\n",
    "\n",
    "data=data[rowSums(data)>0,]\n"
   ]
  },
  {
   "cell_type": "code",
   "execution_count": 4,
   "metadata": {},
   "outputs": [],
   "source": [
    "#load the metadata\n",
    "batches=read.table(\"../batches.filtered.csv\",header=TRUE,sep='\\t')"
   ]
  },
  {
   "cell_type": "code",
   "execution_count": 7,
   "metadata": {},
   "outputs": [],
   "source": [
    "Grouping <- factor(paste0(batches$Cohort,\".\",batches$RegionMod, \".\", batches$TypeMod))\n",
    "batches$Grouping=Grouping"
   ]
  },
  {
   "cell_type": "code",
   "execution_count": 8,
   "metadata": {},
   "outputs": [],
   "source": [
    "#SVA can't handle NA values, so we have no choice but to interpolate to the mode for missing entries in PMI & ApoE \n",
    "batches$ApoE[is.na(batches$ApoE)]='3_3'\n",
    "batches$PMI[is.na(batches$PMI)]=mean(na.omit(batches$PMI))"
   ]
  },
  {
   "cell_type": "markdown",
   "metadata": {},
   "source": [
    "## Create the DESeq2 Object"
   ]
  },
  {
   "cell_type": "code",
   "execution_count": 17,
   "metadata": {},
   "outputs": [
    {
     "name": "stderr",
     "output_type": "stream",
     "text": [
      "  the design formula contains a numeric variable with integer values,\n",
      "  specifying a model with increasing fold change for higher values.\n",
      "  did you mean for this to be a factor? if so, first convert\n",
      "  this variable to a factor using the factor() function\n"
     ]
    }
   ],
   "source": [
    "#Create DESeq object\n",
    "dds <- DESeqDataSetFromMatrix(countData = data,\n",
    "                              colData = batches,\n",
    "                              design = ~Grouping+Gender+expired_age+PMI+ApoE)#+TissueCenter +Batch\n",
    "#TissueCenter and Batch are confounded\n"
   ]
  },
  {
   "cell_type": "markdown",
   "metadata": {},
   "source": [
    "## Differential Accessibility Operation"
   ]
  },
  {
   "cell_type": "code",
   "execution_count": null,
   "metadata": {},
   "outputs": [
    {
     "name": "stderr",
     "output_type": "stream",
     "text": [
      "estimating size factors\n",
      "estimating dispersions\n",
      "gene-wise dispersion estimates: 50 workers\n",
      "mean-dispersion relationship\n",
      "final dispersion estimates, fitting model and testing: 50 workers\n"
     ]
    }
   ],
   "source": [
    "#Run the differential analysis\n",
    "dds <- DESeq(dds,parallel = TRUE)"
   ]
  },
  {
   "cell_type": "markdown",
   "metadata": {},
   "source": [
    "## Standard BH Correction (no optimal thresholding) "
   ]
  },
  {
   "cell_type": "code",
   "execution_count": 20,
   "metadata": {},
   "outputs": [
    {
     "name": "stdout",
     "output_type": "stream",
     "text": [
      "\n",
      "out of 385725 with nonzero total read count\n",
      "adjusted p-value < 0.1\n",
      "LFC > 0 (up)       : 1216, 0.32%\n",
      "LFC < 0 (down)     : 2535, 0.66%\n",
      "outliers [1]       : 0, 0%\n",
      "low counts [2]     : 0, 0%\n",
      "(mean count < 0)\n",
      "[1] see 'cooksCutoff' argument of ?results\n",
      "[2] see 'independentFiltering' argument of ?results\n",
      "\n",
      "\n",
      "out of 385725 with nonzero total read count\n",
      "adjusted p-value < 0.1\n",
      "LFC > 0 (up)       : 1216, 0.32%\n",
      "LFC < 0 (down)     : 2535, 0.66%\n",
      "outliers [1]       : 0, 0%\n",
      "low counts [2]     : 0, 0%\n",
      "(mean count < 0)\n",
      "[1] see 'cooksCutoff' argument of ?results\n",
      "[2] see 'independentFiltering' argument of ?results\n",
      "\n",
      "\n",
      "out of 385725 with nonzero total read count\n",
      "adjusted p-value < 0.1\n",
      "LFC > 0 (up)       : 1062, 0.28%\n",
      "LFC < 0 (down)     : 9967, 2.6%\n",
      "outliers [1]       : 0, 0%\n",
      "[1] see 'cooksCutoff' argument of ?results\n",
      "see metadata(res)$ihwResult on hypothesis weighting\n",
      "\n"
     ]
    }
   ],
   "source": [
    "res=results(dds)\n",
    "summary(res)\n",
    "\n",
    "res=results(dds,independentFiltering=FALSE)\n",
    "summary(res)\n",
    "\n",
    "res=results(dds,filterFun = ihw)\n",
    "summary(res)"
   ]
  },
  {
   "cell_type": "code",
   "execution_count": 21,
   "metadata": {},
   "outputs": [
    {
     "data": {
      "text/html": [
       "<ol class=list-inline>\n",
       "\t<li>'Intercept'</li>\n",
       "\t<li>'Grouping_AD.CAUD.CTRL_vs_AD.CAUD.ADAD'</li>\n",
       "\t<li>'Grouping_AD.CAUD.LOAD_vs_AD.CAUD.ADAD'</li>\n",
       "\t<li>'Grouping_AD.HIPP.ADAD_vs_AD.CAUD.ADAD'</li>\n",
       "\t<li>'Grouping_AD.HIPP.CTRL_vs_AD.CAUD.ADAD'</li>\n",
       "\t<li>'Grouping_AD.HIPP.LOAD_vs_AD.CAUD.ADAD'</li>\n",
       "\t<li>'Grouping_AD.PARL.ADAD_vs_AD.CAUD.ADAD'</li>\n",
       "\t<li>'Grouping_AD.PARL.CTRL_vs_AD.CAUD.ADAD'</li>\n",
       "\t<li>'Grouping_AD.PARL.LOAD_vs_AD.CAUD.ADAD'</li>\n",
       "\t<li>'Grouping_AD.SMTG.ADAD_vs_AD.CAUD.ADAD'</li>\n",
       "\t<li>'Grouping_AD.SMTG.CTRL_vs_AD.CAUD.ADAD'</li>\n",
       "\t<li>'Grouping_AD.SMTG.LOAD_vs_AD.CAUD.ADAD'</li>\n",
       "\t<li>'Grouping_PD.CAUD.ADPD_vs_AD.CAUD.ADAD'</li>\n",
       "\t<li>'Grouping_PD.CAUD.CTRL_vs_AD.CAUD.ADAD'</li>\n",
       "\t<li>'Grouping_PD.CAUD.LOPD_vs_AD.CAUD.ADAD'</li>\n",
       "\t<li>'Grouping_PD.HIPP.ADPD_vs_AD.CAUD.ADAD'</li>\n",
       "\t<li>'Grouping_PD.HIPP.CTRL_vs_AD.CAUD.ADAD'</li>\n",
       "\t<li>'Grouping_PD.HIPP.LOPD_vs_AD.CAUD.ADAD'</li>\n",
       "\t<li>'Grouping_PD.MDFG.ADPD_vs_AD.CAUD.ADAD'</li>\n",
       "\t<li>'Grouping_PD.MDFG.CTRL_vs_AD.CAUD.ADAD'</li>\n",
       "\t<li>'Grouping_PD.MDFG.LOPD_vs_AD.CAUD.ADAD'</li>\n",
       "\t<li>'Grouping_PD.PTMN.ADPD_vs_AD.CAUD.ADAD'</li>\n",
       "\t<li>'Grouping_PD.PTMN.CTRL_vs_AD.CAUD.ADAD'</li>\n",
       "\t<li>'Grouping_PD.PTMN.LOPD_vs_AD.CAUD.ADAD'</li>\n",
       "\t<li>'Grouping_PD.SMTG.ADPD_vs_AD.CAUD.ADAD'</li>\n",
       "\t<li>'Grouping_PD.SMTG.CTRL_vs_AD.CAUD.ADAD'</li>\n",
       "\t<li>'Grouping_PD.SMTG.LOPD_vs_AD.CAUD.ADAD'</li>\n",
       "\t<li>'Grouping_PD.SUNI.ADPD_vs_AD.CAUD.ADAD'</li>\n",
       "\t<li>'Grouping_PD.SUNI.CTRL_vs_AD.CAUD.ADAD'</li>\n",
       "\t<li>'Grouping_PD.SUNI.LOPD_vs_AD.CAUD.ADAD'</li>\n",
       "\t<li>'Gender_Male_vs_Female'</li>\n",
       "\t<li>'expired_age'</li>\n",
       "\t<li>'PMI'</li>\n",
       "\t<li>'ApoE_2_3_vs_2_2'</li>\n",
       "\t<li>'ApoE_3_3_vs_2_2'</li>\n",
       "\t<li>'ApoE_3_4_vs_2_2'</li>\n",
       "\t<li>'ApoE_4_4_vs_2_2'</li>\n",
       "</ol>\n"
      ],
      "text/latex": [
       "\\begin{enumerate*}\n",
       "\\item 'Intercept'\n",
       "\\item 'Grouping\\_AD.CAUD.CTRL\\_vs\\_AD.CAUD.ADAD'\n",
       "\\item 'Grouping\\_AD.CAUD.LOAD\\_vs\\_AD.CAUD.ADAD'\n",
       "\\item 'Grouping\\_AD.HIPP.ADAD\\_vs\\_AD.CAUD.ADAD'\n",
       "\\item 'Grouping\\_AD.HIPP.CTRL\\_vs\\_AD.CAUD.ADAD'\n",
       "\\item 'Grouping\\_AD.HIPP.LOAD\\_vs\\_AD.CAUD.ADAD'\n",
       "\\item 'Grouping\\_AD.PARL.ADAD\\_vs\\_AD.CAUD.ADAD'\n",
       "\\item 'Grouping\\_AD.PARL.CTRL\\_vs\\_AD.CAUD.ADAD'\n",
       "\\item 'Grouping\\_AD.PARL.LOAD\\_vs\\_AD.CAUD.ADAD'\n",
       "\\item 'Grouping\\_AD.SMTG.ADAD\\_vs\\_AD.CAUD.ADAD'\n",
       "\\item 'Grouping\\_AD.SMTG.CTRL\\_vs\\_AD.CAUD.ADAD'\n",
       "\\item 'Grouping\\_AD.SMTG.LOAD\\_vs\\_AD.CAUD.ADAD'\n",
       "\\item 'Grouping\\_PD.CAUD.ADPD\\_vs\\_AD.CAUD.ADAD'\n",
       "\\item 'Grouping\\_PD.CAUD.CTRL\\_vs\\_AD.CAUD.ADAD'\n",
       "\\item 'Grouping\\_PD.CAUD.LOPD\\_vs\\_AD.CAUD.ADAD'\n",
       "\\item 'Grouping\\_PD.HIPP.ADPD\\_vs\\_AD.CAUD.ADAD'\n",
       "\\item 'Grouping\\_PD.HIPP.CTRL\\_vs\\_AD.CAUD.ADAD'\n",
       "\\item 'Grouping\\_PD.HIPP.LOPD\\_vs\\_AD.CAUD.ADAD'\n",
       "\\item 'Grouping\\_PD.MDFG.ADPD\\_vs\\_AD.CAUD.ADAD'\n",
       "\\item 'Grouping\\_PD.MDFG.CTRL\\_vs\\_AD.CAUD.ADAD'\n",
       "\\item 'Grouping\\_PD.MDFG.LOPD\\_vs\\_AD.CAUD.ADAD'\n",
       "\\item 'Grouping\\_PD.PTMN.ADPD\\_vs\\_AD.CAUD.ADAD'\n",
       "\\item 'Grouping\\_PD.PTMN.CTRL\\_vs\\_AD.CAUD.ADAD'\n",
       "\\item 'Grouping\\_PD.PTMN.LOPD\\_vs\\_AD.CAUD.ADAD'\n",
       "\\item 'Grouping\\_PD.SMTG.ADPD\\_vs\\_AD.CAUD.ADAD'\n",
       "\\item 'Grouping\\_PD.SMTG.CTRL\\_vs\\_AD.CAUD.ADAD'\n",
       "\\item 'Grouping\\_PD.SMTG.LOPD\\_vs\\_AD.CAUD.ADAD'\n",
       "\\item 'Grouping\\_PD.SUNI.ADPD\\_vs\\_AD.CAUD.ADAD'\n",
       "\\item 'Grouping\\_PD.SUNI.CTRL\\_vs\\_AD.CAUD.ADAD'\n",
       "\\item 'Grouping\\_PD.SUNI.LOPD\\_vs\\_AD.CAUD.ADAD'\n",
       "\\item 'Gender\\_Male\\_vs\\_Female'\n",
       "\\item 'expired\\_age'\n",
       "\\item 'PMI'\n",
       "\\item 'ApoE\\_2\\_3\\_vs\\_2\\_2'\n",
       "\\item 'ApoE\\_3\\_3\\_vs\\_2\\_2'\n",
       "\\item 'ApoE\\_3\\_4\\_vs\\_2\\_2'\n",
       "\\item 'ApoE\\_4\\_4\\_vs\\_2\\_2'\n",
       "\\end{enumerate*}\n"
      ],
      "text/markdown": [
       "1. 'Intercept'\n",
       "2. 'Grouping_AD.CAUD.CTRL_vs_AD.CAUD.ADAD'\n",
       "3. 'Grouping_AD.CAUD.LOAD_vs_AD.CAUD.ADAD'\n",
       "4. 'Grouping_AD.HIPP.ADAD_vs_AD.CAUD.ADAD'\n",
       "5. 'Grouping_AD.HIPP.CTRL_vs_AD.CAUD.ADAD'\n",
       "6. 'Grouping_AD.HIPP.LOAD_vs_AD.CAUD.ADAD'\n",
       "7. 'Grouping_AD.PARL.ADAD_vs_AD.CAUD.ADAD'\n",
       "8. 'Grouping_AD.PARL.CTRL_vs_AD.CAUD.ADAD'\n",
       "9. 'Grouping_AD.PARL.LOAD_vs_AD.CAUD.ADAD'\n",
       "10. 'Grouping_AD.SMTG.ADAD_vs_AD.CAUD.ADAD'\n",
       "11. 'Grouping_AD.SMTG.CTRL_vs_AD.CAUD.ADAD'\n",
       "12. 'Grouping_AD.SMTG.LOAD_vs_AD.CAUD.ADAD'\n",
       "13. 'Grouping_PD.CAUD.ADPD_vs_AD.CAUD.ADAD'\n",
       "14. 'Grouping_PD.CAUD.CTRL_vs_AD.CAUD.ADAD'\n",
       "15. 'Grouping_PD.CAUD.LOPD_vs_AD.CAUD.ADAD'\n",
       "16. 'Grouping_PD.HIPP.ADPD_vs_AD.CAUD.ADAD'\n",
       "17. 'Grouping_PD.HIPP.CTRL_vs_AD.CAUD.ADAD'\n",
       "18. 'Grouping_PD.HIPP.LOPD_vs_AD.CAUD.ADAD'\n",
       "19. 'Grouping_PD.MDFG.ADPD_vs_AD.CAUD.ADAD'\n",
       "20. 'Grouping_PD.MDFG.CTRL_vs_AD.CAUD.ADAD'\n",
       "21. 'Grouping_PD.MDFG.LOPD_vs_AD.CAUD.ADAD'\n",
       "22. 'Grouping_PD.PTMN.ADPD_vs_AD.CAUD.ADAD'\n",
       "23. 'Grouping_PD.PTMN.CTRL_vs_AD.CAUD.ADAD'\n",
       "24. 'Grouping_PD.PTMN.LOPD_vs_AD.CAUD.ADAD'\n",
       "25. 'Grouping_PD.SMTG.ADPD_vs_AD.CAUD.ADAD'\n",
       "26. 'Grouping_PD.SMTG.CTRL_vs_AD.CAUD.ADAD'\n",
       "27. 'Grouping_PD.SMTG.LOPD_vs_AD.CAUD.ADAD'\n",
       "28. 'Grouping_PD.SUNI.ADPD_vs_AD.CAUD.ADAD'\n",
       "29. 'Grouping_PD.SUNI.CTRL_vs_AD.CAUD.ADAD'\n",
       "30. 'Grouping_PD.SUNI.LOPD_vs_AD.CAUD.ADAD'\n",
       "31. 'Gender_Male_vs_Female'\n",
       "32. 'expired_age'\n",
       "33. 'PMI'\n",
       "34. 'ApoE_2_3_vs_2_2'\n",
       "35. 'ApoE_3_3_vs_2_2'\n",
       "36. 'ApoE_3_4_vs_2_2'\n",
       "37. 'ApoE_4_4_vs_2_2'\n",
       "\n",
       "\n"
      ],
      "text/plain": [
       " [1] \"Intercept\"                            \n",
       " [2] \"Grouping_AD.CAUD.CTRL_vs_AD.CAUD.ADAD\"\n",
       " [3] \"Grouping_AD.CAUD.LOAD_vs_AD.CAUD.ADAD\"\n",
       " [4] \"Grouping_AD.HIPP.ADAD_vs_AD.CAUD.ADAD\"\n",
       " [5] \"Grouping_AD.HIPP.CTRL_vs_AD.CAUD.ADAD\"\n",
       " [6] \"Grouping_AD.HIPP.LOAD_vs_AD.CAUD.ADAD\"\n",
       " [7] \"Grouping_AD.PARL.ADAD_vs_AD.CAUD.ADAD\"\n",
       " [8] \"Grouping_AD.PARL.CTRL_vs_AD.CAUD.ADAD\"\n",
       " [9] \"Grouping_AD.PARL.LOAD_vs_AD.CAUD.ADAD\"\n",
       "[10] \"Grouping_AD.SMTG.ADAD_vs_AD.CAUD.ADAD\"\n",
       "[11] \"Grouping_AD.SMTG.CTRL_vs_AD.CAUD.ADAD\"\n",
       "[12] \"Grouping_AD.SMTG.LOAD_vs_AD.CAUD.ADAD\"\n",
       "[13] \"Grouping_PD.CAUD.ADPD_vs_AD.CAUD.ADAD\"\n",
       "[14] \"Grouping_PD.CAUD.CTRL_vs_AD.CAUD.ADAD\"\n",
       "[15] \"Grouping_PD.CAUD.LOPD_vs_AD.CAUD.ADAD\"\n",
       "[16] \"Grouping_PD.HIPP.ADPD_vs_AD.CAUD.ADAD\"\n",
       "[17] \"Grouping_PD.HIPP.CTRL_vs_AD.CAUD.ADAD\"\n",
       "[18] \"Grouping_PD.HIPP.LOPD_vs_AD.CAUD.ADAD\"\n",
       "[19] \"Grouping_PD.MDFG.ADPD_vs_AD.CAUD.ADAD\"\n",
       "[20] \"Grouping_PD.MDFG.CTRL_vs_AD.CAUD.ADAD\"\n",
       "[21] \"Grouping_PD.MDFG.LOPD_vs_AD.CAUD.ADAD\"\n",
       "[22] \"Grouping_PD.PTMN.ADPD_vs_AD.CAUD.ADAD\"\n",
       "[23] \"Grouping_PD.PTMN.CTRL_vs_AD.CAUD.ADAD\"\n",
       "[24] \"Grouping_PD.PTMN.LOPD_vs_AD.CAUD.ADAD\"\n",
       "[25] \"Grouping_PD.SMTG.ADPD_vs_AD.CAUD.ADAD\"\n",
       "[26] \"Grouping_PD.SMTG.CTRL_vs_AD.CAUD.ADAD\"\n",
       "[27] \"Grouping_PD.SMTG.LOPD_vs_AD.CAUD.ADAD\"\n",
       "[28] \"Grouping_PD.SUNI.ADPD_vs_AD.CAUD.ADAD\"\n",
       "[29] \"Grouping_PD.SUNI.CTRL_vs_AD.CAUD.ADAD\"\n",
       "[30] \"Grouping_PD.SUNI.LOPD_vs_AD.CAUD.ADAD\"\n",
       "[31] \"Gender_Male_vs_Female\"                \n",
       "[32] \"expired_age\"                          \n",
       "[33] \"PMI\"                                  \n",
       "[34] \"ApoE_2_3_vs_2_2\"                      \n",
       "[35] \"ApoE_3_3_vs_2_2\"                      \n",
       "[36] \"ApoE_3_4_vs_2_2\"                      \n",
       "[37] \"ApoE_4_4_vs_2_2\"                      "
      ]
     },
     "metadata": {},
     "output_type": "display_data"
    }
   ],
   "source": [
    "resultsNames(dds)"
   ]
  },
  {
   "cell_type": "code",
   "execution_count": 30,
   "metadata": {},
   "outputs": [],
   "source": [
    "comparisons=c(\"pd_caud_adpd_vs_lopd\",\n",
    "    \"pd_caud_adpd_vs_ctrl\",\n",
    "    \"pd_caud_lopd_vs_ctrl\",\n",
    "    \"pd_hipp_adpd_vs_lopd\",\n",
    "    \"pd_hipp_adpd_vs_ctrl\",\n",
    "    \"pd_hipp_lopd_vs_ctrl\",\n",
    "    \"pd_mdfg_adpd_vs_lopd\",\n",
    "    \"pd_mdfg_adpd_vs_ctrl\",\n",
    "    \"pd_mdfg_lopd_vs_ctrl\",\n",
    "    \"pd_ptmn_adpd_vs_lopd\",\n",
    "    \"pd_ptmn_adpd_vs_ctrl\",\n",
    "    \"pd_ptmn_lopd_vs_ctrl\",\n",
    "    \"pd_smtg_adpd_vs_lopd\",\n",
    "    \"pd_smtg_adpd_vs_ctrl\",\n",
    "    \"pd_smtg_lopd_vs_ctrl\",\n",
    "    \"pd_suni_adpd_vs_lopd\",\n",
    "    \"pd_suni_adpd_vs_ctrl\",\n",
    "    \"pd_suni_lopd_vs_ctrl\")\n"
   ]
  },
  {
   "cell_type": "code",
   "execution_count": 37,
   "metadata": {},
   "outputs": [],
   "source": [
    "contrasts=list(c(\"Grouping_PD.CAUD.ADPD_vs_AD.CAUD.ADAD\",\"Grouping_PD.CAUD.LOPD_vs_AD.CAUD.ADAD\"),\n",
    "            c(\"Grouping_PD.CAUD.ADPD_vs_AD.CAUD.ADAD\",\"Grouping_PD.CAUD.CTRL_vs_AD.CAUD.ADAD\"),\n",
    "            c(\"Grouping_PD.CAUD.LOPD_vs_AD.CAUD.ADAD\",\"Grouping_PD.CAUD.CTRL_vs_AD.CAUD.ADAD\"),\n",
    "            c(\"Grouping_PD.HIPP.ADPD_vs_AD.CAUD.ADAD\",\"Grouping_PD.HIPP.LOPD_vs_AD.CAUD.ADAD\"),\n",
    "            c(\"Grouping_PD.HIPP.ADPD_vs_AD.CAUD.ADAD\",\"Grouping_PD.HIPP.CTRL_vs_AD.CAUD.ADAD\"),\n",
    "            c(\"Grouping_PD.HIPP.LOPD_vs_AD.CAUD.ADAD\",\"Grouping_PD.HIPP.CTRL_vs_AD.CAUD.ADAD\"),\n",
    "            c(\"Grouping_PD.MDFG.ADPD_vs_AD.CAUD.ADAD\",\"Grouping_PD.MDFG.LOPD_vs_AD.CAUD.ADAD\"),\n",
    "            c(\"Grouping_PD.MDFG.ADPD_vs_AD.CAUD.ADAD\",\"Grouping_PD.MDFG.CTRL_vs_AD.CAUD.ADAD\"),\n",
    "            c(\"Grouping_PD.MDFG.LOPD_vs_AD.CAUD.ADAD\",\"Grouping_PD.MDFG.CTRL_vs_AD.CAUD.ADAD\"),\n",
    "            c(\"Grouping_PD.PTMN.ADPD_vs_AD.CAUD.ADAD\",\"Grouping_PD.PTMN.LOPD_vs_AD.CAUD.ADAD\"),\n",
    "            c(\"Grouping_PD.PTMN.ADPD_vs_AD.CAUD.ADAD\",\"Grouping_PD.PTMN.CTRL_vs_AD.CAUD.ADAD\"),\n",
    "            c(\"Grouping_PD.PTMN.LOPD_vs_AD.CAUD.ADAD\",\"Grouping_PD.PTMN.CTRL_vs_AD.CAUD.ADAD\"),\n",
    "            c(\"Grouping_PD.SMTG.ADPD_vs_AD.CAUD.ADAD\",\"Grouping_PD.SMTG.LOPD_vs_AD.CAUD.ADAD\"),\n",
    "            c(\"Grouping_PD.SMTG.ADPD_vs_AD.CAUD.ADAD\",\"Grouping_PD.SMTG.CTRL_vs_AD.CAUD.ADAD\"),\n",
    "            c(\"Grouping_PD.SMTG.LOPD_vs_AD.CAUD.ADAD\",\"Grouping_PD.SMTG.CTRL_vs_AD.CAUD.ADAD\"),\n",
    "            c(\"Grouping_PD.SUNI.ADPD_vs_AD.CAUD.ADAD\",\"Grouping_PD.SUNI.LOPD_vs_AD.CAUD.ADAD\"),\n",
    "            c(\"Grouping_PD.SUNI.ADPD_vs_AD.CAUD.ADAD\",\"Grouping_PD.SUNI.CTRL_vs_AD.CAUD.ADAD\"),\n",
    "            c(\"Grouping_PD.SUNI.LOPD_vs_AD.CAUD.ADAD\",\"Grouping_PD.SUNI.CTRL_vs_AD.CAUD.ADAD\"))"
   ]
  },
  {
   "cell_type": "code",
   "execution_count": 39,
   "metadata": {},
   "outputs": [],
   "source": [
    "pval_thresh=0.05\n",
    "lfc_thresh=1"
   ]
  },
  {
   "cell_type": "code",
   "execution_count": null,
   "metadata": {},
   "outputs": [
    {
     "name": "stdout",
     "output_type": "stream",
     "text": [
      "[1] \"pd_caud_adpd_vs_lopd \\n sig: 223506 \\n up: 112586 \\n down: 110920 \\n\"\n"
     ]
    }
   ],
   "source": [
    "##get the results for the various contrasts \n",
    "numcomparisons=length(contrasts)\n",
    "for(i in seq(1,numcomparisons))\n",
    "{\n",
    " res=results(dds,contrast=contrasts[i],parallel=TRUE) \n",
    " res$logPadj=-1*log10(res$padj)\n",
    " res=as.data.frame(res)\n",
    " res=na.omit(res)\n",
    " res$sig=res$padj<=pval_thresh & abs(res$log2FoldChange)>lfc_thresh\n",
    "    \n",
    " #extract the differential peaks \n",
    " sigsubset=res[res$sig==TRUE,]\n",
    " sig=nrow(sigsubset)\n",
    " up=sum(sigsubset$log2FoldChange>0)\n",
    " down=sum(sigsubset$log2FoldChange<0)\n",
    " curtitle=paste(comparisons[i],'\\n','sig:',sig,'\\n','up:',up,'\\n','down:',down,'\\n')   \n",
    " print(curtitle)\n",
    "    \n",
    " #generate a volcano plot \n",
    " png(paste(\"volcano_diff\",comparisons[i],\".png\",sep=\"\"))\n",
    " print(ggplot(data=res,\n",
    "               aes(y=res$logPadj,x=res$log2FoldChange,color=res$sig))+\n",
    "               geom_point(alpha=0.1)+\n",
    "               xlab(\"log2(FC)\")+\n",
    "               ylab(\"-log10(pval)\")+\n",
    "               theme_bw()+\n",
    "               scale_color_manual(values=c(\"#000000\",\"#FF0000\"))+\n",
    "               ggtitle(curtitle))\n",
    "  dev.off() \n",
    "  #write differential peaks to a TSV file \n",
    "  write.table(sigsubset,file=paste(\"diff_\",comparisons[i],\".tsv\",sep=\"\"),\n",
    "              quote=FALSE,sep='\\t',row.names = TRUE,col.names = TRUE)\n",
    "}"
   ]
  },
  {
   "cell_type": "markdown",
   "metadata": {},
   "source": [
    "## Repeat analysis with Type and Region "
   ]
  },
  {
   "cell_type": "code",
   "execution_count": null,
   "metadata": {},
   "outputs": [],
   "source": [
    "Grouping <- factor(paste0(batches$Cohort,\".\",batches$Region, \".\", batches$Type))\n",
    "batches$Grouping=Grouping"
   ]
  },
  {
   "cell_type": "code",
   "execution_count": null,
   "metadata": {},
   "outputs": [],
   "source": [
    "#Create DESeq object\n",
    "dds2 <- DESeqDataSetFromMatrix(countData = data,\n",
    "                              colData = batches,\n",
    "                              design = ~Grouping+Gender+expired_age+PMI+ApoE)#TissueCenter +Batch"
   ]
  },
  {
   "cell_type": "code",
   "execution_count": null,
   "metadata": {},
   "outputs": [],
   "source": [
    "#Run the differential analysis\n",
    "dds2 <- DESeq(dds2,parallel = TRUE)"
   ]
  },
  {
   "cell_type": "code",
   "execution_count": null,
   "metadata": {},
   "outputs": [],
   "source": [
    "comparisons=c(\"pd_caud_gba1_vs_lrrk\",\n",
    "    \"pd_caud_gba1_vs_spor\",\n",
    "    \"pd_caud_gba1_vs_ctrl\",\n",
    "    \"pd_caud_lrrk_vs_spor\",\n",
    "    \"pd_caud_lrrk_vs_ctrl\",\n",
    "    \"pd_caud_spor_vs_ctrl\",\n",
    "    \"pd_hipp_gba1_vs_lrrk\",\n",
    "    \"pd_hipp_gba1_vs_spor\",\n",
    "    \"pd_hipp_gba1_vs_ctrl\",\n",
    "    \"pd_hipp_lrrk_vs_spor\",\n",
    "    \"pd_hipp_lrrk_vs_ctrl\",\n",
    "    \"pd_hipp_spor_vs_ctrl\",\n",
    "    \"pd_mdfg_gba1_vs_lrrk\",\n",
    "    \"pd_mdfg_gba1_vs_spor\",\n",
    "    \"pd_mdfg_gba1_vs_ctrl\",\n",
    "    \"pd_mdfg_lrrk_vs_spor\",\n",
    "    \"pd_mdfg_lrrk_vs_ctrl\",\n",
    "    \"pd_mdfg_spor_vs_ctrl\",\n",
    "    \"pd_mdtg_gba1_vs_lrrk\",\n",
    "    \"pd_mdtg_gba1_vs_spor\",\n",
    "    \"pd_mdtg_gba1_vs_ctrl\",\n",
    "    \"pd_mdtg_lrrk_vs_spor\",\n",
    "    \"pd_mdtg_lrrk_vs_ctrl\",\n",
    "    \"pd_mdtg_spor_vs_ctrl\",\n",
    "    \"pd_ptmn_gba1_vs_lrrk\",\n",
    "    \"pd_ptmn_gba1_vs_spor\",\n",
    "    \"pd_ptmn_gba1_vs_ctrl\",\n",
    "    \"pd_ptmn_lrrk_vs_spor\",\n",
    "    \"pd_ptmn_lrrk_vs_ctrl\",\n",
    "    \"pd_ptmn_spor_vs_ctrl\",\n",
    "    \"pd_suni_gba1_vs_lrrk\",\n",
    "    \"pd_suni_gba1_vs_spor\",\n",
    "    \"pd_suni_gba1_vs_ctrl\",\n",
    "    \"pd_suni_lrrk_vs_spor\",\n",
    "    \"pd_suni_lrrk_vs_ctrl\",\n",
    "    \"pd_suni_spor_vs_ctrl\")\n"
   ]
  },
  {
   "cell_type": "code",
   "execution_count": null,
   "metadata": {},
   "outputs": [],
   "source": [
    "contrasts=list(c(\"Grouping_PD.CAUD.GBA1_vs_AD.CAUD.ADAD\",\"Grouping_PD.CAUD.LRRK_vs_AD.CAUD.ADAD\"),\n",
    "    c(\"Grouping_PD.CAUD.GBA1_vs_AD.CAUD.ADAD\",\"Grouping_PD.CAUD.SPOR_vs_AD.CAUD.ADAD\"),\n",
    "    c(\"Grouping_PD.CAUD.GBA1_vs_AD.CAUD.ADAD\",\"Grouping_PD.CAUD.CTRL_vs_AD.CAUD.ADAD\"),\n",
    "    c(\"Grouping_PD.CAUD.LRRK_vs_AD.CAUD.ADAD\",\"Grouping_PD.CAUD.SPOR_vs_AD.CAUD.ADAD\"),\n",
    "    c(\"Grouping_PD.CAUD.LRRK_vs_AD.CAUD.ADAD\",\"Grouping_PD.CAUD.CTRL_vs_AD.CAUD.ADAD\"),\n",
    "    c(\"Grouping_PD.CAUD.SPOR_vs_AD.CAUD.ADAD\",\"Grouping_PD.CAUD.CTRL_vs_AD.CAUD.ADAD\"),\n",
    "    c(\"Grouping_PD.HIPP.GBA1_vs_AD.CAUD.ADAD\",\"Grouping_PD.HIPP.LRRK_vs_AD.CAUD.ADAD\"),\n",
    "    c(\"Grouping_PD.HIPP.GBA1_vs_AD.CAUD.ADAD\",\"Grouping_PD.HIPP.SPOR_vs_AD.CAUD.ADAD\"),\n",
    "    c(\"Grouping_PD.HIPP.GBA1_vs_AD.CAUD.ADAD\",\"Grouping_PD.HIPP.CTRL_vs_AD.CAUD.ADAD\"),\n",
    "    c(\"Grouping_PD.HIPP.LRRK_vs_AD.CAUD.ADAD\",\"Grouping_PD.HIPP.SPOR_vs_AD.CAUD.ADAD\"),\n",
    "    c(\"Grouping_PD.HIPP.LRRK_vs_AD.CAUD.ADAD\",\"Grouping_PD.HIPP.CTRL_vs_AD.CAUD.ADAD\"),\n",
    "    c(\"Grouping_PD.HIPP.SPOR_vs_AD.CAUD.ADAD\",\"Grouping_PD.HIPP.CTRL_vs_AD.CAUD.ADAD\"),\n",
    "    c(\"Grouping_PD.MDFG.GBA1_vs_AD.CAUD.ADAD\",\"Grouping_PD.MDFG.LRRK_vs_AD.CAUD.ADAD\"),\n",
    "    c(\"Grouping_PD.MDFG.GBA1_vs_AD.CAUD.ADAD\",\"Grouping_PD.MDFG.SPOR_vs_AD.CAUD.ADAD\"),\n",
    "    c(\"Grouping_PD.MDFG.GBA1_vs_AD.CAUD.ADAD\",\"Grouping_PD.MDFG.CTRL_vs_AD.CAUD.ADAD\"),\n",
    "    c(\"Grouping_PD.MDFG.LRRK_vs_AD.CAUD.ADAD\",\"Grouping_PD.MDFG.SPOR_vs_AD.CAUD.ADAD\"),\n",
    "    c(\"Grouping_PD.MDFG.LRRK_vs_AD.CAUD.ADAD\",\"Grouping_PD.MDFG.CTRL_vs_AD.CAUD.ADAD\"),\n",
    "    c(\"Grouping_PD.MDFG.SPOR_vs_AD.CAUD.ADAD\",\"Grouping_PD.MDFG.CTRL_vs_AD.CAUD.ADAD\"),\n",
    "    c(\"Grouping_PD.MDTG.GBA1_vs_AD.CAUD.ADAD\",\"Grouping_PD.MDTG.LRRK_vs_AD.CAUD.ADAD\"),\n",
    "    c(\"Grouping_PD.MDTG.GBA1_vs_AD.CAUD.ADAD\",\"Grouping_PD.MDTG.SPOR_vs_AD.CAUD.ADAD\"),\n",
    "    c(\"Grouping_PD.MDTG.GBA1_vs_AD.CAUD.ADAD\",\"Grouping_PD.MDTG.CTRL_vs_AD.CAUD.ADAD\"),\n",
    "    c(\"Grouping_PD.MDTG.LRRK_vs_AD.CAUD.ADAD\",\"Grouping_PD.MDTG.SPOR_vs_AD.CAUD.ADAD\"),\n",
    "    c(\"Grouping_PD.MDTG.LRRK_vs_AD.CAUD.ADAD\",\"Grouping_PD.MDTG.CTRL_vs_AD.CAUD.ADAD\"),\n",
    "    c(\"Grouping_PD.MDTG.SPOR_vs_AD.CAUD.ADAD\",\"Grouping_PD.MDTG.CTRL_vs_AD.CAUD.ADAD\"),\n",
    "    c(\"Grouping_PD.PTMN.GBA1_vs_AD.CAUD.ADAD\",\"Grouping_PD.PTMN.LRRK_vs_AD.CAUD.ADAD\"),\n",
    "    c(\"Grouping_PD.PTMN.GBA1_vs_AD.CAUD.ADAD\",\"Grouping_PD.PTMN.SPOR_vs_AD.CAUD.ADAD\"),\n",
    "    c(\"Grouping_PD.PTMN.GBA1_vs_AD.CAUD.ADAD\",\"Grouping_PD.PTMN.CTRL_vs_AD.CAUD.ADAD\"),\n",
    "    c(\"Grouping_PD.PTMN.LRRK_vs_AD.CAUD.ADAD\",\"Grouping_PD.PTMN.SPOR_vs_AD.CAUD.ADAD\"),\n",
    "    c(\"Grouping_PD.PTMN.LRRK_vs_AD.CAUD.ADAD\",\"Grouping_PD.PTMN.CTRL_vs_AD.CAUD.ADAD\"),\n",
    "    c(\"Grouping_PD.PTMN.SPOR_vs_AD.CAUD.ADAD\",\"Grouping_PD.PTMN.CTRL_vs_AD.CAUD.ADAD\"),\n",
    "    c(\"Grouping_PD.SUNI.GBA1_vs_AD.CAUD.ADAD\",\"Grouping_PD.SUNI.LRRK_vs_AD.CAUD.ADAD\"),\n",
    "    c(\"Grouping_PD.SUNI.GBA1_vs_AD.CAUD.ADAD\",\"Grouping_PD.SUNI.SPOR_vs_AD.CAUD.ADAD\"),\n",
    "    c(\"Grouping_PD.SUNI.GBA1_vs_AD.CAUD.ADAD\",\"Grouping_PD.SUNI.CTRL_vs_AD.CAUD.ADAD\"),\n",
    "    c(\"Grouping_PD.SUNI.LRRK_vs_AD.CAUD.ADAD\",\"Grouping_PD.SUNI.SPOR_vs_AD.CAUD.ADAD\"),\n",
    "    c(\"Grouping_PD.SUNI.LRRK_vs_AD.CAUD.ADAD\",\"Grouping_PD.SUNI.CTRL_vs_AD.CAUD.ADAD\"),\n",
    "    c(\"Grouping_PD.SUNI.SPOR_vs_AD.CAUD.ADAD\",\"Grouping_PD.SUNI.CTRL_vs_AD.CAUD.ADAD\"))\n"
   ]
  },
  {
   "cell_type": "code",
   "execution_count": null,
   "metadata": {},
   "outputs": [],
   "source": [
    "##get the results for the various contrasts \n",
    "numcomparisons=length(contrasts)\n",
    "for(i in seq(1,numcomparisons))\n",
    "{\n",
    " res=results(dds2,contrast=contrasts[i],parallel=TRUE) \n",
    " res$logPadj=-1*log10(res$padj)\n",
    " res=as.data.frame(res)\n",
    " res=na.omit(res)\n",
    " res$sig=res$padj<=pval_thresh & abs(res$log2FoldChange)>lfc_thresh\n",
    "    \n",
    " #extract the differential peaks \n",
    " sigsubset=res[res$sig==TRUE,]\n",
    " sig=nrow(sigsubset)\n",
    " up=sum(sigsubset$log2FoldChange>0)\n",
    " down=sum(sigsubset$log2FoldChange<0)\n",
    " curtitle=paste(comparisons[i],'\\n','sig:',sig,'\\n','up:',up,'\\n','down:',down,'\\n')   \n",
    " print(curtitle)\n",
    "    \n",
    " #generate a volcano plot \n",
    " png(paste(\"expanded_volcano_diff\",comparisons[i],\".png\",sep=\"\"))\n",
    " print(ggplot(data=res,\n",
    "               aes(y=res$logPadj,x=res$log2FoldChange,color=res$sig))+\n",
    "               geom_point(alpha=0.1)+\n",
    "               xlab(\"log2(FC)\")+\n",
    "               ylab(\"-log10(pval)\")+\n",
    "               theme_bw()+\n",
    "               scale_color_manual(values=c(\"#000000\",\"#FF0000\"))+\n",
    "               ggtitle(curtitle))\n",
    "  dev.off() \n",
    "  #write differential peaks to a TSV file \n",
    "  write.table(sigsubset,file=paste(\"expanded_diff_\",comparisons[i],\".tsv\",sep=\"\"),\n",
    "              quote=FALSE,sep='\\t',row.names = TRUE,col.names = TRUE)\n",
    "}"
   ]
  },
  {
   "cell_type": "code",
   "execution_count": null,
   "metadata": {},
   "outputs": [],
   "source": [
    "#store dds object so it can be loaded readily in the future \n",
    "save(dds,dds2 file = \"DESEQ2.model.noSVA.RData\")"
   ]
  }
 ],
 "metadata": {
  "kernelspec": {
   "display_name": "R 3.5",
   "language": "R",
   "name": "ir35"
  },
  "language_info": {
   "codemirror_mode": "r",
   "file_extension": ".r",
   "mimetype": "text/x-r-source",
   "name": "R",
   "pygments_lexer": "r",
   "version": "3.5.1"
  }
 },
 "nbformat": 4,
 "nbformat_minor": 2
}
