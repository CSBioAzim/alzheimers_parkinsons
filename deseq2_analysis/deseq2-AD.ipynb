{
 "cells": [
  {
   "cell_type": "markdown",
   "metadata": {},
   "source": [
    "### DESEQ2 analysis of AD/PD dataset"
   ]
  },
  {
   "cell_type": "code",
   "execution_count": 1,
   "metadata": {},
   "outputs": [
    {
     "name": "stderr",
     "output_type": "stream",
     "text": [
      "Loading required package: S4Vectors\n",
      "Loading required package: stats4\n",
      "Loading required package: BiocGenerics\n",
      "Loading required package: parallel\n",
      "\n",
      "Attaching package: ‘BiocGenerics’\n",
      "\n",
      "The following objects are masked from ‘package:parallel’:\n",
      "\n",
      "    clusterApply, clusterApplyLB, clusterCall, clusterEvalQ,\n",
      "    clusterExport, clusterMap, parApply, parCapply, parLapply,\n",
      "    parLapplyLB, parRapply, parSapply, parSapplyLB\n",
      "\n",
      "The following objects are masked from ‘package:stats’:\n",
      "\n",
      "    IQR, mad, sd, var, xtabs\n",
      "\n",
      "The following objects are masked from ‘package:base’:\n",
      "\n",
      "    anyDuplicated, append, as.data.frame, basename, cbind, colMeans,\n",
      "    colnames, colSums, dirname, do.call, duplicated, eval, evalq,\n",
      "    Filter, Find, get, grep, grepl, intersect, is.unsorted, lapply,\n",
      "    lengths, Map, mapply, match, mget, order, paste, pmax, pmax.int,\n",
      "    pmin, pmin.int, Position, rank, rbind, Reduce, rowMeans, rownames,\n",
      "    rowSums, sapply, setdiff, sort, table, tapply, union, unique,\n",
      "    unsplit, which, which.max, which.min\n",
      "\n",
      "\n",
      "Attaching package: ‘S4Vectors’\n",
      "\n",
      "The following object is masked from ‘package:base’:\n",
      "\n",
      "    expand.grid\n",
      "\n",
      "Loading required package: IRanges\n",
      "Loading required package: GenomicRanges\n",
      "Loading required package: GenomeInfoDb\n",
      "Loading required package: SummarizedExperiment\n",
      "Loading required package: Biobase\n",
      "Welcome to Bioconductor\n",
      "\n",
      "    Vignettes contain introductory material; view with\n",
      "    'browseVignettes()'. To cite Bioconductor, see\n",
      "    'citation(\"Biobase\")', and for packages 'citation(\"pkgname\")'.\n",
      "\n",
      "Loading required package: DelayedArray\n",
      "Loading required package: matrixStats\n",
      "\n",
      "Attaching package: ‘matrixStats’\n",
      "\n",
      "The following objects are masked from ‘package:Biobase’:\n",
      "\n",
      "    anyMissing, rowMedians\n",
      "\n",
      "Loading required package: BiocParallel\n",
      "\n",
      "Attaching package: ‘DelayedArray’\n",
      "\n",
      "The following objects are masked from ‘package:matrixStats’:\n",
      "\n",
      "    colMaxs, colMins, colRanges, rowMaxs, rowMins, rowRanges\n",
      "\n",
      "The following objects are masked from ‘package:base’:\n",
      "\n",
      "    aperm, apply\n",
      "\n",
      "\n",
      "Attaching package: ‘IHW’\n",
      "\n",
      "The following object is masked from ‘package:ggplot2’:\n",
      "\n",
      "    alpha\n",
      "\n",
      "Loading required package: mgcv\n",
      "Loading required package: nlme\n",
      "\n",
      "Attaching package: ‘nlme’\n",
      "\n",
      "The following object is masked from ‘package:IRanges’:\n",
      "\n",
      "    collapse\n",
      "\n",
      "This is mgcv 1.8-28. For overview type 'help(\"mgcv-package\")'.\n",
      "Loading required package: genefilter\n",
      "\n",
      "Attaching package: ‘genefilter’\n",
      "\n",
      "The following objects are masked from ‘package:matrixStats’:\n",
      "\n",
      "    rowSds, rowVars\n",
      "\n",
      "\n",
      "Attaching package: ‘limma’\n",
      "\n",
      "The following object is masked from ‘package:DESeq2’:\n",
      "\n",
      "    plotMA\n",
      "\n",
      "The following object is masked from ‘package:BiocGenerics’:\n",
      "\n",
      "    plotMA\n",
      "\n"
     ]
    }
   ],
   "source": [
    "rm(list=ls())\n",
    "#load necessary libraries \n",
    "library(ggplot2)\n",
    "library(DESeq2)\n",
    "library(\"BiocParallel\")\n",
    "parallelFlag=TRUE\n",
    "register(MulticoreParam(50))\n",
    "library(\"IHW\")\n",
    "library(\"pheatmap\")\n",
    "library(sva)\n",
    "library(limma)"
   ]
  },
  {
   "cell_type": "markdown",
   "metadata": {},
   "source": [
    "## Load data and design"
   ]
  },
  {
   "cell_type": "code",
   "execution_count": 2,
   "metadata": {},
   "outputs": [],
   "source": [
    "#load ATAC-seq raw read counts\n",
    "data=read.table('../adpd.atac.idr.counts.txt.gz',header=TRUE,sep='\\t')\n",
    "#concatenate chrom/start/end columns values to server as rownames for the dataframe of the form chrom_start_end \n",
    "rownames(data)=paste(data$chrom,data$start,data$end,sep=\"_\")\n",
    "data$chrom=NULL\n",
    "data$start=NULL\n",
    "data$end=NULL\n",
    "\n",
    "data=data[rowSums(data)>0,]\n"
   ]
  },
  {
   "cell_type": "code",
   "execution_count": 3,
   "metadata": {},
   "outputs": [
    {
     "data": {
      "text/html": [
       "<table>\n",
       "<thead><tr><th></th><th scope=col>ADAD_CAUD_00_0281</th><th scope=col>ADAD_CAUD_00_0387</th><th scope=col>ADAD_CAUD_01_0164</th><th scope=col>ADAD_CAUD_01_1400</th><th scope=col>ADAD_CAUD_06_0194</th><th scope=col>ADAD_CAUD_06_1486</th><th scope=col>ADAD_CAUD_07_0787</th><th scope=col>ADAD_CAUD_12829xx</th><th scope=col>ADAD_CAUD_23156xx</th><th scope=col>ADAD_CAUD_24281xx</th><th scope=col>⋯</th><th scope=col>LRRK_MDTG_01_39</th><th scope=col>LRRK_MDTG_04_10</th><th scope=col>LRRK_MDTG_10_37</th><th scope=col>LRRK_MDTG_13_60</th><th scope=col>LRRK_PTMN_01_39</th><th scope=col>LRRK_PTMN_04_10</th><th scope=col>LRRK_PTMN_10_37</th><th scope=col>LRRK_PTMN_13_60</th><th scope=col>LRRK_SUNI_04_10</th><th scope=col>LRRK_SUNI_10_37</th></tr></thead>\n",
       "<tbody>\n",
       "\t<tr><th scope=row>chr1_10015_10231</th><td>12 </td><td>16 </td><td> 22</td><td> 12</td><td>14 </td><td> 20</td><td>12 </td><td> 22</td><td>16 </td><td> 10</td><td>⋯  </td><td>3  </td><td> 2 </td><td> 14</td><td>18 </td><td>0  </td><td> 4 </td><td>12 </td><td> 9 </td><td>22 </td><td>26 </td></tr>\n",
       "\t<tr><th scope=row>chr1_181363_181563</th><td> 1 </td><td> 6 </td><td>  4</td><td>  2</td><td>10 </td><td>  6</td><td> 1 </td><td>  9</td><td> 1 </td><td>  3</td><td>⋯  </td><td>1  </td><td> 5 </td><td>  2</td><td>14 </td><td>0  </td><td> 4 </td><td> 7 </td><td> 4 </td><td> 8 </td><td>18 </td></tr>\n",
       "\t<tr><th scope=row>chr1_183716_183916</th><td> 7 </td><td> 4 </td><td>  4</td><td> 12</td><td> 2 </td><td> 10</td><td>19 </td><td> 14</td><td> 8 </td><td> 10</td><td>⋯  </td><td>1  </td><td>19 </td><td> 10</td><td>21 </td><td>3  </td><td>16 </td><td> 8 </td><td> 6 </td><td>20 </td><td>13 </td></tr>\n",
       "\t<tr><th scope=row>chr1_184083_184283</th><td>11 </td><td> 8 </td><td>  4</td><td> 11</td><td> 2 </td><td> 19</td><td>20 </td><td> 27</td><td> 6 </td><td> 18</td><td>⋯  </td><td>1  </td><td>20 </td><td> 26</td><td>25 </td><td>3  </td><td>22 </td><td>18 </td><td>11 </td><td>26 </td><td>24 </td></tr>\n",
       "\t<tr><th scope=row>chr1_184370_184570</th><td> 7 </td><td> 6 </td><td>  6</td><td>  0</td><td> 6 </td><td>  9</td><td> 6 </td><td> 11</td><td> 5 </td><td>  9</td><td>⋯  </td><td>5  </td><td>16 </td><td> 11</td><td>18 </td><td>1  </td><td>13 </td><td> 7 </td><td> 4 </td><td>23 </td><td>15 </td></tr>\n",
       "\t<tr><th scope=row>chr1_190744_191148</th><td>84 </td><td>95 </td><td>136</td><td>110</td><td>43 </td><td>163</td><td>97 </td><td>186</td><td>66 </td><td>158</td><td>⋯  </td><td>6  </td><td>70 </td><td>122</td><td>46 </td><td>8  </td><td>78 </td><td>46 </td><td>36 </td><td>79 </td><td>93 </td></tr>\n",
       "</tbody>\n",
       "</table>\n"
      ],
      "text/latex": [
       "\\begin{tabular}{r|llllllllllllllllllllllllllllllllllllllllllllllllllllllllllllllllllllllllllllllllllllllllllllllllllllllllllllllllllllllllllllllllllllllllllllllllllllllllllllllllllllllllllllllllllllllllllllllllllllllllllllllllllllllllllllllllllllllllllllllllllllllllllllllllllllllllllllllllllllllllllllllllllllllllllllllllllllllllllllllllllllllllllllllllllllllllllllllllllllllllllllllllllllllllllllllllllllllllllllllllllllllllllll}\n",
       "  & ADAD\\_CAUD\\_00\\_0281 & ADAD\\_CAUD\\_00\\_0387 & ADAD\\_CAUD\\_01\\_0164 & ADAD\\_CAUD\\_01\\_1400 & ADAD\\_CAUD\\_06\\_0194 & ADAD\\_CAUD\\_06\\_1486 & ADAD\\_CAUD\\_07\\_0787 & ADAD\\_CAUD\\_12829xx & ADAD\\_CAUD\\_23156xx & ADAD\\_CAUD\\_24281xx & ⋯ & LRRK\\_MDTG\\_01\\_39 & LRRK\\_MDTG\\_04\\_10 & LRRK\\_MDTG\\_10\\_37 & LRRK\\_MDTG\\_13\\_60 & LRRK\\_PTMN\\_01\\_39 & LRRK\\_PTMN\\_04\\_10 & LRRK\\_PTMN\\_10\\_37 & LRRK\\_PTMN\\_13\\_60 & LRRK\\_SUNI\\_04\\_10 & LRRK\\_SUNI\\_10\\_37\\\\\n",
       "\\hline\n",
       "\tchr1\\_10015\\_10231 & 12  & 16  &  22 &  12 & 14  &  20 & 12  &  22 & 16  &  10 & ⋯   & 3   &  2  &  14 & 18  & 0   &  4  & 12  &  9  & 22  & 26 \\\\\n",
       "\tchr1\\_181363\\_181563 &  1  &  6  &   4 &   2 & 10  &   6 &  1  &   9 &  1  &   3 & ⋯   & 1   &  5  &   2 & 14  & 0   &  4  &  7  &  4  &  8  & 18 \\\\\n",
       "\tchr1\\_183716\\_183916 &  7  &  4  &   4 &  12 &  2  &  10 & 19  &  14 &  8  &  10 & ⋯   & 1   & 19  &  10 & 21  & 3   & 16  &  8  &  6  & 20  & 13 \\\\\n",
       "\tchr1\\_184083\\_184283 & 11  &  8  &   4 &  11 &  2  &  19 & 20  &  27 &  6  &  18 & ⋯   & 1   & 20  &  26 & 25  & 3   & 22  & 18  & 11  & 26  & 24 \\\\\n",
       "\tchr1\\_184370\\_184570 &  7  &  6  &   6 &   0 &  6  &   9 &  6  &  11 &  5  &   9 & ⋯   & 5   & 16  &  11 & 18  & 1   & 13  &  7  &  4  & 23  & 15 \\\\\n",
       "\tchr1\\_190744\\_191148 & 84  & 95  & 136 & 110 & 43  & 163 & 97  & 186 & 66  & 158 & ⋯   & 6   & 70  & 122 & 46  & 8   & 78  & 46  & 36  & 79  & 93 \\\\\n",
       "\\end{tabular}\n"
      ],
      "text/markdown": [
       "\n",
       "| <!--/--> | ADAD_CAUD_00_0281 | ADAD_CAUD_00_0387 | ADAD_CAUD_01_0164 | ADAD_CAUD_01_1400 | ADAD_CAUD_06_0194 | ADAD_CAUD_06_1486 | ADAD_CAUD_07_0787 | ADAD_CAUD_12829xx | ADAD_CAUD_23156xx | ADAD_CAUD_24281xx | ⋯ | LRRK_MDTG_01_39 | LRRK_MDTG_04_10 | LRRK_MDTG_10_37 | LRRK_MDTG_13_60 | LRRK_PTMN_01_39 | LRRK_PTMN_04_10 | LRRK_PTMN_10_37 | LRRK_PTMN_13_60 | LRRK_SUNI_04_10 | LRRK_SUNI_10_37 |\n",
       "|---|---|---|---|---|---|---|---|---|---|---|---|---|---|---|---|---|---|---|---|---|---|\n",
       "| chr1_10015_10231 | 12  | 16  |  22 |  12 | 14  |  20 | 12  |  22 | 16  |  10 | ⋯   | 3   |  2  |  14 | 18  | 0   |  4  | 12  |  9  | 22  | 26  |\n",
       "| chr1_181363_181563 |  1  |  6  |   4 |   2 | 10  |   6 |  1  |   9 |  1  |   3 | ⋯   | 1   |  5  |   2 | 14  | 0   |  4  |  7  |  4  |  8  | 18  |\n",
       "| chr1_183716_183916 |  7  |  4  |   4 |  12 |  2  |  10 | 19  |  14 |  8  |  10 | ⋯   | 1   | 19  |  10 | 21  | 3   | 16  |  8  |  6  | 20  | 13  |\n",
       "| chr1_184083_184283 | 11  |  8  |   4 |  11 |  2  |  19 | 20  |  27 |  6  |  18 | ⋯   | 1   | 20  |  26 | 25  | 3   | 22  | 18  | 11  | 26  | 24  |\n",
       "| chr1_184370_184570 |  7  |  6  |   6 |   0 |  6  |   9 |  6  |  11 |  5  |   9 | ⋯   | 5   | 16  |  11 | 18  | 1   | 13  |  7  |  4  | 23  | 15  |\n",
       "| chr1_190744_191148 | 84  | 95  | 136 | 110 | 43  | 163 | 97  | 186 | 66  | 158 | ⋯   | 6   | 70  | 122 | 46  | 8   | 78  | 46  | 36  | 79  | 93  |\n",
       "\n"
      ],
      "text/plain": [
       "                   ADAD_CAUD_00_0281 ADAD_CAUD_00_0387 ADAD_CAUD_01_0164\n",
       "chr1_10015_10231   12                16                 22              \n",
       "chr1_181363_181563  1                 6                  4              \n",
       "chr1_183716_183916  7                 4                  4              \n",
       "chr1_184083_184283 11                 8                  4              \n",
       "chr1_184370_184570  7                 6                  6              \n",
       "chr1_190744_191148 84                95                136              \n",
       "                   ADAD_CAUD_01_1400 ADAD_CAUD_06_0194 ADAD_CAUD_06_1486\n",
       "chr1_10015_10231    12               14                 20              \n",
       "chr1_181363_181563   2               10                  6              \n",
       "chr1_183716_183916  12                2                 10              \n",
       "chr1_184083_184283  11                2                 19              \n",
       "chr1_184370_184570   0                6                  9              \n",
       "chr1_190744_191148 110               43                163              \n",
       "                   ADAD_CAUD_07_0787 ADAD_CAUD_12829xx ADAD_CAUD_23156xx\n",
       "chr1_10015_10231   12                 22               16               \n",
       "chr1_181363_181563  1                  9                1               \n",
       "chr1_183716_183916 19                 14                8               \n",
       "chr1_184083_184283 20                 27                6               \n",
       "chr1_184370_184570  6                 11                5               \n",
       "chr1_190744_191148 97                186               66               \n",
       "                   ADAD_CAUD_24281xx ⋯ LRRK_MDTG_01_39 LRRK_MDTG_04_10\n",
       "chr1_10015_10231    10               ⋯ 3                2             \n",
       "chr1_181363_181563   3               ⋯ 1                5             \n",
       "chr1_183716_183916  10               ⋯ 1               19             \n",
       "chr1_184083_184283  18               ⋯ 1               20             \n",
       "chr1_184370_184570   9               ⋯ 5               16             \n",
       "chr1_190744_191148 158               ⋯ 6               70             \n",
       "                   LRRK_MDTG_10_37 LRRK_MDTG_13_60 LRRK_PTMN_01_39\n",
       "chr1_10015_10231    14             18              0              \n",
       "chr1_181363_181563   2             14              0              \n",
       "chr1_183716_183916  10             21              3              \n",
       "chr1_184083_184283  26             25              3              \n",
       "chr1_184370_184570  11             18              1              \n",
       "chr1_190744_191148 122             46              8              \n",
       "                   LRRK_PTMN_04_10 LRRK_PTMN_10_37 LRRK_PTMN_13_60\n",
       "chr1_10015_10231    4              12               9             \n",
       "chr1_181363_181563  4               7               4             \n",
       "chr1_183716_183916 16               8               6             \n",
       "chr1_184083_184283 22              18              11             \n",
       "chr1_184370_184570 13               7               4             \n",
       "chr1_190744_191148 78              46              36             \n",
       "                   LRRK_SUNI_04_10 LRRK_SUNI_10_37\n",
       "chr1_10015_10231   22              26             \n",
       "chr1_181363_181563  8              18             \n",
       "chr1_183716_183916 20              13             \n",
       "chr1_184083_184283 26              24             \n",
       "chr1_184370_184570 23              15             \n",
       "chr1_190744_191148 79              93             "
      ]
     },
     "metadata": {},
     "output_type": "display_data"
    }
   ],
   "source": [
    "head(data)"
   ]
  },
  {
   "cell_type": "code",
   "execution_count": 4,
   "metadata": {},
   "outputs": [],
   "source": [
    "#load the metadata\n",
    "batches=read.table(\"../batches.filtered.csv\",header=TRUE,sep='\\t')"
   ]
  },
  {
   "cell_type": "code",
   "execution_count": 5,
   "metadata": {},
   "outputs": [
    {
     "data": {
      "text/html": [
       "<table>\n",
       "<thead><tr><th></th><th scope=col>Sample</th><th scope=col>NewName</th><th scope=col>Type</th><th scope=col>TypeMod</th><th scope=col>Region</th><th scope=col>RegionMod</th><th scope=col>Cohort</th><th scope=col>TissueCenter</th><th scope=col>Batch</th><th scope=col>Gender</th><th scope=col>expired_age</th><th scope=col>PMI</th><th scope=col>ApoE</th></tr></thead>\n",
       "<tbody>\n",
       "\t<tr><th scope=row>407</th><td>LRRK_PTMN_01_39                            </td><td>PD_01_39_LRRK_PTMN_X025_S12_L022_B1_T2_P046</td><td>LRRK                                       </td><td>ADPD                                       </td><td>PTMN                                       </td><td>PTMN                                       </td><td>PD                                         </td><td>UA                                         </td><td>PD_X025                                    </td><td>Male                                       </td><td>85                                         </td><td>2.00                                       </td><td>3_4                                        </td></tr>\n",
       "\t<tr><th scope=row>408</th><td>LRRK_PTMN_04_10                            </td><td>PD_04_10_LRRK_PTMN_X026_S10_L041_B1_T1_P050</td><td>LRRK                                       </td><td>ADPD                                       </td><td>PTMN                                       </td><td>PTMN                                       </td><td>PD                                         </td><td>UA                                         </td><td>PD_X026                                    </td><td>Male                                       </td><td>77                                         </td><td>1.66                                       </td><td>3_3                                        </td></tr>\n",
       "\t<tr><th scope=row>409</th><td>LRRK_PTMN_10_37                            </td><td>PD_10_37_LRRK_PTMN_X015_S05_L033_B1_T1_P026</td><td>LRRK                                       </td><td>ADPD                                       </td><td>PTMN                                       </td><td>PTMN                                       </td><td>PD                                         </td><td>UA                                         </td><td>PD_X015                                    </td><td>Female                                     </td><td>84                                         </td><td>5.00                                       </td><td>3_3                                        </td></tr>\n",
       "\t<tr><th scope=row>410</th><td>LRRK_PTMN_13_60                            </td><td>PD_13_60_LRRK_PTMN_X007_S07_L061_B1_T1_P010</td><td>LRRK                                       </td><td>ADPD                                       </td><td>PTMN                                       </td><td>PTMN                                       </td><td>PD                                         </td><td>UA                                         </td><td>PD_X007                                    </td><td>Male                                       </td><td>89                                         </td><td>3.82                                       </td><td>3_3                                        </td></tr>\n",
       "\t<tr><th scope=row>411</th><td>LRRK_SUNI_04_10                            </td><td>PD_04_10_LRRK_SUNI_X022_S06_L035_B1_T1_P043</td><td>LRRK                                       </td><td>ADPD                                       </td><td>SUNI                                       </td><td>SUNI                                       </td><td>PD                                         </td><td>UA                                         </td><td>PD_X022                                    </td><td>Male                                       </td><td>77                                         </td><td>1.66                                       </td><td>3_3                                        </td></tr>\n",
       "\t<tr><th scope=row>412</th><td>LRRK_SUNI_10_37                            </td><td>PD_10_37_LRRK_SUNI_X010_S11_L045_B1_T1_P016</td><td>LRRK                                       </td><td>ADPD                                       </td><td>SUNI                                       </td><td>SUNI                                       </td><td>PD                                         </td><td>UA                                         </td><td>PD_X010                                    </td><td>Female                                     </td><td>84                                         </td><td>5.00                                       </td><td>3_3                                        </td></tr>\n",
       "</tbody>\n",
       "</table>\n"
      ],
      "text/latex": [
       "\\begin{tabular}{r|lllllllllllll}\n",
       "  & Sample & NewName & Type & TypeMod & Region & RegionMod & Cohort & TissueCenter & Batch & Gender & expired\\_age & PMI & ApoE\\\\\n",
       "\\hline\n",
       "\t407 & LRRK\\_PTMN\\_01\\_39                                           & PD\\_01\\_39\\_LRRK\\_PTMN\\_X025\\_S12\\_L022\\_B1\\_T2\\_P046 & LRRK                                                            & ADPD                                                            & PTMN                                                            & PTMN                                                            & PD                                                              & UA                                                              & PD\\_X025                                                       & Male                                                            & 85                                                              & 2.00                                                            & 3\\_4                                                          \\\\\n",
       "\t408 & LRRK\\_PTMN\\_04\\_10                                           & PD\\_04\\_10\\_LRRK\\_PTMN\\_X026\\_S10\\_L041\\_B1\\_T1\\_P050 & LRRK                                                            & ADPD                                                            & PTMN                                                            & PTMN                                                            & PD                                                              & UA                                                              & PD\\_X026                                                       & Male                                                            & 77                                                              & 1.66                                                            & 3\\_3                                                          \\\\\n",
       "\t409 & LRRK\\_PTMN\\_10\\_37                                           & PD\\_10\\_37\\_LRRK\\_PTMN\\_X015\\_S05\\_L033\\_B1\\_T1\\_P026 & LRRK                                                            & ADPD                                                            & PTMN                                                            & PTMN                                                            & PD                                                              & UA                                                              & PD\\_X015                                                       & Female                                                          & 84                                                              & 5.00                                                            & 3\\_3                                                          \\\\\n",
       "\t410 & LRRK\\_PTMN\\_13\\_60                                           & PD\\_13\\_60\\_LRRK\\_PTMN\\_X007\\_S07\\_L061\\_B1\\_T1\\_P010 & LRRK                                                            & ADPD                                                            & PTMN                                                            & PTMN                                                            & PD                                                              & UA                                                              & PD\\_X007                                                       & Male                                                            & 89                                                              & 3.82                                                            & 3\\_3                                                          \\\\\n",
       "\t411 & LRRK\\_SUNI\\_04\\_10                                           & PD\\_04\\_10\\_LRRK\\_SUNI\\_X022\\_S06\\_L035\\_B1\\_T1\\_P043 & LRRK                                                            & ADPD                                                            & SUNI                                                            & SUNI                                                            & PD                                                              & UA                                                              & PD\\_X022                                                       & Male                                                            & 77                                                              & 1.66                                                            & 3\\_3                                                          \\\\\n",
       "\t412 & LRRK\\_SUNI\\_10\\_37                                           & PD\\_10\\_37\\_LRRK\\_SUNI\\_X010\\_S11\\_L045\\_B1\\_T1\\_P016 & LRRK                                                            & ADPD                                                            & SUNI                                                            & SUNI                                                            & PD                                                              & UA                                                              & PD\\_X010                                                       & Female                                                          & 84                                                              & 5.00                                                            & 3\\_3                                                          \\\\\n",
       "\\end{tabular}\n"
      ],
      "text/markdown": [
       "\n",
       "| <!--/--> | Sample | NewName | Type | TypeMod | Region | RegionMod | Cohort | TissueCenter | Batch | Gender | expired_age | PMI | ApoE |\n",
       "|---|---|---|---|---|---|---|---|---|---|---|---|---|---|\n",
       "| 407 | LRRK_PTMN_01_39                             | PD_01_39_LRRK_PTMN_X025_S12_L022_B1_T2_P046 | LRRK                                        | ADPD                                        | PTMN                                        | PTMN                                        | PD                                          | UA                                          | PD_X025                                     | Male                                        | 85                                          | 2.00                                        | 3_4                                         |\n",
       "| 408 | LRRK_PTMN_04_10                             | PD_04_10_LRRK_PTMN_X026_S10_L041_B1_T1_P050 | LRRK                                        | ADPD                                        | PTMN                                        | PTMN                                        | PD                                          | UA                                          | PD_X026                                     | Male                                        | 77                                          | 1.66                                        | 3_3                                         |\n",
       "| 409 | LRRK_PTMN_10_37                             | PD_10_37_LRRK_PTMN_X015_S05_L033_B1_T1_P026 | LRRK                                        | ADPD                                        | PTMN                                        | PTMN                                        | PD                                          | UA                                          | PD_X015                                     | Female                                      | 84                                          | 5.00                                        | 3_3                                         |\n",
       "| 410 | LRRK_PTMN_13_60                             | PD_13_60_LRRK_PTMN_X007_S07_L061_B1_T1_P010 | LRRK                                        | ADPD                                        | PTMN                                        | PTMN                                        | PD                                          | UA                                          | PD_X007                                     | Male                                        | 89                                          | 3.82                                        | 3_3                                         |\n",
       "| 411 | LRRK_SUNI_04_10                             | PD_04_10_LRRK_SUNI_X022_S06_L035_B1_T1_P043 | LRRK                                        | ADPD                                        | SUNI                                        | SUNI                                        | PD                                          | UA                                          | PD_X022                                     | Male                                        | 77                                          | 1.66                                        | 3_3                                         |\n",
       "| 412 | LRRK_SUNI_10_37                             | PD_10_37_LRRK_SUNI_X010_S11_L045_B1_T1_P016 | LRRK                                        | ADPD                                        | SUNI                                        | SUNI                                        | PD                                          | UA                                          | PD_X010                                     | Female                                      | 84                                          | 5.00                                        | 3_3                                         |\n",
       "\n"
      ],
      "text/plain": [
       "    Sample          NewName                                     Type TypeMod\n",
       "407 LRRK_PTMN_01_39 PD_01_39_LRRK_PTMN_X025_S12_L022_B1_T2_P046 LRRK ADPD   \n",
       "408 LRRK_PTMN_04_10 PD_04_10_LRRK_PTMN_X026_S10_L041_B1_T1_P050 LRRK ADPD   \n",
       "409 LRRK_PTMN_10_37 PD_10_37_LRRK_PTMN_X015_S05_L033_B1_T1_P026 LRRK ADPD   \n",
       "410 LRRK_PTMN_13_60 PD_13_60_LRRK_PTMN_X007_S07_L061_B1_T1_P010 LRRK ADPD   \n",
       "411 LRRK_SUNI_04_10 PD_04_10_LRRK_SUNI_X022_S06_L035_B1_T1_P043 LRRK ADPD   \n",
       "412 LRRK_SUNI_10_37 PD_10_37_LRRK_SUNI_X010_S11_L045_B1_T1_P016 LRRK ADPD   \n",
       "    Region RegionMod Cohort TissueCenter Batch   Gender expired_age PMI  ApoE\n",
       "407 PTMN   PTMN      PD     UA           PD_X025 Male   85          2.00 3_4 \n",
       "408 PTMN   PTMN      PD     UA           PD_X026 Male   77          1.66 3_3 \n",
       "409 PTMN   PTMN      PD     UA           PD_X015 Female 84          5.00 3_3 \n",
       "410 PTMN   PTMN      PD     UA           PD_X007 Male   89          3.82 3_3 \n",
       "411 SUNI   SUNI      PD     UA           PD_X022 Male   77          1.66 3_3 \n",
       "412 SUNI   SUNI      PD     UA           PD_X010 Female 84          5.00 3_3 "
      ]
     },
     "metadata": {},
     "output_type": "display_data"
    }
   ],
   "source": [
    "tail(batches)"
   ]
  },
  {
   "cell_type": "code",
   "execution_count": 6,
   "metadata": {},
   "outputs": [
    {
     "data": {
      "text/html": [
       "<table>\n",
       "<thead><tr><th scope=col>Sample</th><th scope=col>NewName</th><th scope=col>Type</th><th scope=col>TypeMod</th><th scope=col>Region</th><th scope=col>RegionMod</th><th scope=col>Cohort</th><th scope=col>TissueCenter</th><th scope=col>Batch</th><th scope=col>Gender</th><th scope=col>expired_age</th><th scope=col>PMI</th><th scope=col>ApoE</th></tr></thead>\n",
       "<tbody>\n",
       "\t<tr><td>ADAD_CAUD_00_0281                         </td><td>ADAD_CAUD_00_0281_X008_S02_L051_B1_T1_P018</td><td>ADAD                                      </td><td>ADAD                                      </td><td>CAUD                                      </td><td>CAUD                                      </td><td>AD                                        </td><td>UW                                        </td><td>AD_X008                                   </td><td>Male                                      </td><td>61                                        </td><td>16.0                                      </td><td>3_3                                       </td></tr>\n",
       "\t<tr><td>ADAD_CAUD_00_0387                         </td><td>ADAD_CAUD_00_0387_X017_S14_L075_B1_T1_P045</td><td>ADAD                                      </td><td>ADAD                                      </td><td>CAUD                                      </td><td>CAUD                                      </td><td>AD                                        </td><td>UW                                        </td><td>AD_X017                                   </td><td>Female                                    </td><td>52                                        </td><td>  NA                                      </td><td>3_4                                       </td></tr>\n",
       "\t<tr><td>ADAD_CAUD_01_0164                         </td><td>ADAD_CAUD_01_0164_X014_S04_L055_B1_T1_P029</td><td>ADAD                                      </td><td>ADAD                                      </td><td>CAUD                                      </td><td>CAUD                                      </td><td>AD                                        </td><td>UW                                        </td><td>AD_X014                                   </td><td>Male                                      </td><td>58                                        </td><td>24.0                                      </td><td>2_3                                       </td></tr>\n",
       "\t<tr><td>ADAD_CAUD_01_1400                         </td><td>ADAD_CAUD_01_1400_X011_S03_L053_B1_T1_P024</td><td>ADAD                                      </td><td>ADAD                                      </td><td>CAUD                                      </td><td>CAUD                                      </td><td>AD                                        </td><td>UW                                        </td><td>AD_X011                                   </td><td>Male                                      </td><td>55                                        </td><td>24.0                                      </td><td>3_4                                       </td></tr>\n",
       "\t<tr><td>ADAD_CAUD_06_0194                         </td><td>ADAD_CAUD_06_0194_X004_S11_L045_B1_T1_P007</td><td>ADAD                                      </td><td>ADAD                                      </td><td>CAUD                                      </td><td>CAUD                                      </td><td>AD                                        </td><td>UW                                        </td><td>AD_X004                                   </td><td>Male                                      </td><td>64                                        </td><td>19.0                                      </td><td>3_3                                       </td></tr>\n",
       "\t<tr><td>ADAD_CAUD_06_1486                         </td><td>ADAD_CAUD_06_1486_X007_S09_L041_B1_T1_P016</td><td>ADAD                                      </td><td>ADAD                                      </td><td>CAUD                                      </td><td>CAUD                                      </td><td>AD                                        </td><td>UW                                        </td><td>AD_X007                                   </td><td>Male                                      </td><td>60                                        </td><td>20.5                                      </td><td>3_3                                       </td></tr>\n",
       "</tbody>\n",
       "</table>\n"
      ],
      "text/latex": [
       "\\begin{tabular}{r|lllllllllllll}\n",
       " Sample & NewName & Type & TypeMod & Region & RegionMod & Cohort & TissueCenter & Batch & Gender & expired\\_age & PMI & ApoE\\\\\n",
       "\\hline\n",
       "\t ADAD\\_CAUD\\_00\\_0281                                      & ADAD\\_CAUD\\_00\\_0281\\_X008\\_S02\\_L051\\_B1\\_T1\\_P018 & ADAD                                                         & ADAD                                                         & CAUD                                                         & CAUD                                                         & AD                                                           & UW                                                           & AD\\_X008                                                    & Male                                                         & 61                                                           & 16.0                                                         & 3\\_3                                                       \\\\\n",
       "\t ADAD\\_CAUD\\_00\\_0387                                      & ADAD\\_CAUD\\_00\\_0387\\_X017\\_S14\\_L075\\_B1\\_T1\\_P045 & ADAD                                                         & ADAD                                                         & CAUD                                                         & CAUD                                                         & AD                                                           & UW                                                           & AD\\_X017                                                    & Female                                                       & 52                                                           &   NA                                                         & 3\\_4                                                       \\\\\n",
       "\t ADAD\\_CAUD\\_01\\_0164                                      & ADAD\\_CAUD\\_01\\_0164\\_X014\\_S04\\_L055\\_B1\\_T1\\_P029 & ADAD                                                         & ADAD                                                         & CAUD                                                         & CAUD                                                         & AD                                                           & UW                                                           & AD\\_X014                                                    & Male                                                         & 58                                                           & 24.0                                                         & 2\\_3                                                       \\\\\n",
       "\t ADAD\\_CAUD\\_01\\_1400                                      & ADAD\\_CAUD\\_01\\_1400\\_X011\\_S03\\_L053\\_B1\\_T1\\_P024 & ADAD                                                         & ADAD                                                         & CAUD                                                         & CAUD                                                         & AD                                                           & UW                                                           & AD\\_X011                                                    & Male                                                         & 55                                                           & 24.0                                                         & 3\\_4                                                       \\\\\n",
       "\t ADAD\\_CAUD\\_06\\_0194                                      & ADAD\\_CAUD\\_06\\_0194\\_X004\\_S11\\_L045\\_B1\\_T1\\_P007 & ADAD                                                         & ADAD                                                         & CAUD                                                         & CAUD                                                         & AD                                                           & UW                                                           & AD\\_X004                                                    & Male                                                         & 64                                                           & 19.0                                                         & 3\\_3                                                       \\\\\n",
       "\t ADAD\\_CAUD\\_06\\_1486                                      & ADAD\\_CAUD\\_06\\_1486\\_X007\\_S09\\_L041\\_B1\\_T1\\_P016 & ADAD                                                         & ADAD                                                         & CAUD                                                         & CAUD                                                         & AD                                                           & UW                                                           & AD\\_X007                                                    & Male                                                         & 60                                                           & 20.5                                                         & 3\\_3                                                       \\\\\n",
       "\\end{tabular}\n"
      ],
      "text/markdown": [
       "\n",
       "| Sample | NewName | Type | TypeMod | Region | RegionMod | Cohort | TissueCenter | Batch | Gender | expired_age | PMI | ApoE |\n",
       "|---|---|---|---|---|---|---|---|---|---|---|---|---|\n",
       "| ADAD_CAUD_00_0281                          | ADAD_CAUD_00_0281_X008_S02_L051_B1_T1_P018 | ADAD                                       | ADAD                                       | CAUD                                       | CAUD                                       | AD                                         | UW                                         | AD_X008                                    | Male                                       | 61                                         | 16.0                                       | 3_3                                        |\n",
       "| ADAD_CAUD_00_0387                          | ADAD_CAUD_00_0387_X017_S14_L075_B1_T1_P045 | ADAD                                       | ADAD                                       | CAUD                                       | CAUD                                       | AD                                         | UW                                         | AD_X017                                    | Female                                     | 52                                         |   NA                                       | 3_4                                        |\n",
       "| ADAD_CAUD_01_0164                          | ADAD_CAUD_01_0164_X014_S04_L055_B1_T1_P029 | ADAD                                       | ADAD                                       | CAUD                                       | CAUD                                       | AD                                         | UW                                         | AD_X014                                    | Male                                       | 58                                         | 24.0                                       | 2_3                                        |\n",
       "| ADAD_CAUD_01_1400                          | ADAD_CAUD_01_1400_X011_S03_L053_B1_T1_P024 | ADAD                                       | ADAD                                       | CAUD                                       | CAUD                                       | AD                                         | UW                                         | AD_X011                                    | Male                                       | 55                                         | 24.0                                       | 3_4                                        |\n",
       "| ADAD_CAUD_06_0194                          | ADAD_CAUD_06_0194_X004_S11_L045_B1_T1_P007 | ADAD                                       | ADAD                                       | CAUD                                       | CAUD                                       | AD                                         | UW                                         | AD_X004                                    | Male                                       | 64                                         | 19.0                                       | 3_3                                        |\n",
       "| ADAD_CAUD_06_1486                          | ADAD_CAUD_06_1486_X007_S09_L041_B1_T1_P016 | ADAD                                       | ADAD                                       | CAUD                                       | CAUD                                       | AD                                         | UW                                         | AD_X007                                    | Male                                       | 60                                         | 20.5                                       | 3_3                                        |\n",
       "\n"
      ],
      "text/plain": [
       "  Sample            NewName                                    Type TypeMod\n",
       "1 ADAD_CAUD_00_0281 ADAD_CAUD_00_0281_X008_S02_L051_B1_T1_P018 ADAD ADAD   \n",
       "2 ADAD_CAUD_00_0387 ADAD_CAUD_00_0387_X017_S14_L075_B1_T1_P045 ADAD ADAD   \n",
       "3 ADAD_CAUD_01_0164 ADAD_CAUD_01_0164_X014_S04_L055_B1_T1_P029 ADAD ADAD   \n",
       "4 ADAD_CAUD_01_1400 ADAD_CAUD_01_1400_X011_S03_L053_B1_T1_P024 ADAD ADAD   \n",
       "5 ADAD_CAUD_06_0194 ADAD_CAUD_06_0194_X004_S11_L045_B1_T1_P007 ADAD ADAD   \n",
       "6 ADAD_CAUD_06_1486 ADAD_CAUD_06_1486_X007_S09_L041_B1_T1_P016 ADAD ADAD   \n",
       "  Region RegionMod Cohort TissueCenter Batch   Gender expired_age PMI  ApoE\n",
       "1 CAUD   CAUD      AD     UW           AD_X008 Male   61          16.0 3_3 \n",
       "2 CAUD   CAUD      AD     UW           AD_X017 Female 52            NA 3_4 \n",
       "3 CAUD   CAUD      AD     UW           AD_X014 Male   58          24.0 2_3 \n",
       "4 CAUD   CAUD      AD     UW           AD_X011 Male   55          24.0 3_4 \n",
       "5 CAUD   CAUD      AD     UW           AD_X004 Male   64          19.0 3_3 \n",
       "6 CAUD   CAUD      AD     UW           AD_X007 Male   60          20.5 3_3 "
      ]
     },
     "metadata": {},
     "output_type": "display_data"
    }
   ],
   "source": [
    "head(batches)"
   ]
  },
  {
   "cell_type": "code",
   "execution_count": 7,
   "metadata": {},
   "outputs": [],
   "source": [
    "Grouping <- factor(paste0(batches$Cohort,\".\",batches$RegionMod, \".\", batches$TypeMod))\n",
    "batches$Grouping=Grouping"
   ]
  },
  {
   "cell_type": "code",
   "execution_count": 8,
   "metadata": {},
   "outputs": [],
   "source": [
    "#SVA can't handle NA values, so we have no choice but to interpolate to the mode for missing entries in PMI & ApoE \n",
    "batches$ApoE[is.na(batches$ApoE)]='3_3'\n",
    "batches$PMI[is.na(batches$PMI)]=mean(na.omit(batches$PMI))"
   ]
  },
  {
   "cell_type": "code",
   "execution_count": 9,
   "metadata": {},
   "outputs": [],
   "source": [
    "mod0=model.matrix(~1,data=batches)\n",
    "mod1=model.matrix(~Grouping,data=batches)#+Gender+expired_age+PMI+TissueCenter,data=batches)#+Cohort+ApoE+Batch,data=batches)\n"
   ]
  },
  {
   "cell_type": "code",
   "execution_count": 10,
   "metadata": {},
   "outputs": [
    {
     "name": "stdout",
     "output_type": "stream",
     "text": [
      "Number of significant surrogate variables is:  10 \n",
      "Iteration (out of 5 ):1  2  3  4  5  "
     ]
    }
   ],
   "source": [
    "sva.obj=svaseq(as.matrix(data),mod1,mod0,vfilter=10000,n.sv=10)#,n.sv = n.sv,vfilter=10000)"
   ]
  },
  {
   "cell_type": "code",
   "execution_count": 16,
   "metadata": {},
   "outputs": [],
   "source": [
    "sur_var=data.frame(sva.obj$sv)"
   ]
  },
  {
   "cell_type": "code",
   "execution_count": 17,
   "metadata": {},
   "outputs": [],
   "source": [
    "batches=cbind(batches,sur_var)"
   ]
  },
  {
   "cell_type": "code",
   "execution_count": 18,
   "metadata": {},
   "outputs": [
    {
     "data": {
      "text/html": [
       "<table>\n",
       "<thead><tr><th scope=col>Sample</th><th scope=col>NewName</th><th scope=col>Type</th><th scope=col>TypeMod</th><th scope=col>Region</th><th scope=col>RegionMod</th><th scope=col>Cohort</th><th scope=col>TissueCenter</th><th scope=col>Batch</th><th scope=col>Gender</th><th scope=col>⋯</th><th scope=col>X1</th><th scope=col>X2</th><th scope=col>X3</th><th scope=col>X4</th><th scope=col>X5</th><th scope=col>X6</th><th scope=col>X7</th><th scope=col>X8</th><th scope=col>X9</th><th scope=col>X10</th></tr></thead>\n",
       "<tbody>\n",
       "\t<tr><td>ADAD_CAUD_00_0281                         </td><td>ADAD_CAUD_00_0281_X008_S02_L051_B1_T1_P018</td><td>ADAD                                      </td><td>ADAD                                      </td><td>CAUD                                      </td><td>CAUD                                      </td><td>AD                                        </td><td>UW                                        </td><td>AD_X008                                   </td><td>Male                                      </td><td>⋯                                         </td><td> 0.03570277                               </td><td>-0.031113562                              </td><td> 0.02753915                               </td><td>-0.01717322                               </td><td> 0.021097156                              </td><td>-0.04552970                               </td><td> 0.02002344                               </td><td>-0.0458679587                             </td><td> 0.016958965                              </td><td>-0.022143265                              </td></tr>\n",
       "\t<tr><td>ADAD_CAUD_00_0387                         </td><td>ADAD_CAUD_00_0387_X017_S14_L075_B1_T1_P045</td><td>ADAD                                      </td><td>ADAD                                      </td><td>CAUD                                      </td><td>CAUD                                      </td><td>AD                                        </td><td>UW                                        </td><td>AD_X017                                   </td><td>Female                                    </td><td>⋯                                         </td><td>-0.06477943                               </td><td> 0.026740112                              </td><td>-0.01944008                               </td><td> 0.04342368                               </td><td> 0.031749792                              </td><td> 0.03215059                               </td><td>-0.05265180                               </td><td> 0.0347037689                             </td><td> 0.026254001                              </td><td>-0.038928574                              </td></tr>\n",
       "\t<tr><td>ADAD_CAUD_01_0164                         </td><td>ADAD_CAUD_01_0164_X014_S04_L055_B1_T1_P029</td><td>ADAD                                      </td><td>ADAD                                      </td><td>CAUD                                      </td><td>CAUD                                      </td><td>AD                                        </td><td>UW                                        </td><td>AD_X014                                   </td><td>Male                                      </td><td>⋯                                         </td><td> 0.03926742                               </td><td> 0.027725245                              </td><td> 0.02702905                               </td><td> 0.05526815                               </td><td>-0.007170824                              </td><td> 0.01868300                               </td><td>-0.01694325                               </td><td> 0.0001110205                             </td><td> 0.065153926                              </td><td> 0.074567376                              </td></tr>\n",
       "\t<tr><td>ADAD_CAUD_01_1400                         </td><td>ADAD_CAUD_01_1400_X011_S03_L053_B1_T1_P024</td><td>ADAD                                      </td><td>ADAD                                      </td><td>CAUD                                      </td><td>CAUD                                      </td><td>AD                                        </td><td>UW                                        </td><td>AD_X011                                   </td><td>Male                                      </td><td>⋯                                         </td><td> 0.04312626                               </td><td>-0.006713843                              </td><td>-0.07615340                               </td><td> 0.02694130                               </td><td> 0.027017233                              </td><td>-0.03818775                               </td><td> 0.09586232                               </td><td>-0.0017419997                             </td><td> 0.006962824                              </td><td>-0.028291514                              </td></tr>\n",
       "\t<tr><td>ADAD_CAUD_06_0194                         </td><td>ADAD_CAUD_06_0194_X004_S11_L045_B1_T1_P007</td><td>ADAD                                      </td><td>ADAD                                      </td><td>CAUD                                      </td><td>CAUD                                      </td><td>AD                                        </td><td>UW                                        </td><td>AD_X004                                   </td><td>Male                                      </td><td>⋯                                         </td><td> 0.01811433                               </td><td>-0.057447059                              </td><td> 0.01477661                               </td><td> 0.04017166                               </td><td>-0.017050607                              </td><td>-0.03153783                               </td><td>-0.02427820                               </td><td>-0.0027016054                             </td><td>-0.046433264                              </td><td> 0.007225739                              </td></tr>\n",
       "\t<tr><td>ADAD_CAUD_06_1486                         </td><td>ADAD_CAUD_06_1486_X007_S09_L041_B1_T1_P016</td><td>ADAD                                      </td><td>ADAD                                      </td><td>CAUD                                      </td><td>CAUD                                      </td><td>AD                                        </td><td>UW                                        </td><td>AD_X007                                   </td><td>Male                                      </td><td>⋯                                         </td><td> 0.05533167                               </td><td> 0.029248385                              </td><td>-0.04837718                               </td><td>-0.05911273                               </td><td>-0.009180071                              </td><td>-0.07248935                               </td><td>-0.06806201                               </td><td> 0.0893697304                             </td><td> 0.004394672                              </td><td>-0.087692486                              </td></tr>\n",
       "</tbody>\n",
       "</table>\n"
      ],
      "text/latex": [
       "\\begin{tabular}{r|llllllllllllllllllllllll}\n",
       " Sample & NewName & Type & TypeMod & Region & RegionMod & Cohort & TissueCenter & Batch & Gender & ⋯ & X1 & X2 & X3 & X4 & X5 & X6 & X7 & X8 & X9 & X10\\\\\n",
       "\\hline\n",
       "\t ADAD\\_CAUD\\_00\\_0281                                      & ADAD\\_CAUD\\_00\\_0281\\_X008\\_S02\\_L051\\_B1\\_T1\\_P018 & ADAD                                                         & ADAD                                                         & CAUD                                                         & CAUD                                                         & AD                                                           & UW                                                           & AD\\_X008                                                    & Male                                                         & ⋯                                                            &  0.03570277                                                  & -0.031113562                                                 &  0.02753915                                                  & -0.01717322                                                  &  0.021097156                                                 & -0.04552970                                                  &  0.02002344                                                  & -0.0458679587                                                &  0.016958965                                                 & -0.022143265                                                \\\\\n",
       "\t ADAD\\_CAUD\\_00\\_0387                                      & ADAD\\_CAUD\\_00\\_0387\\_X017\\_S14\\_L075\\_B1\\_T1\\_P045 & ADAD                                                         & ADAD                                                         & CAUD                                                         & CAUD                                                         & AD                                                           & UW                                                           & AD\\_X017                                                    & Female                                                       & ⋯                                                            & -0.06477943                                                  &  0.026740112                                                 & -0.01944008                                                  &  0.04342368                                                  &  0.031749792                                                 &  0.03215059                                                  & -0.05265180                                                  &  0.0347037689                                                &  0.026254001                                                 & -0.038928574                                                \\\\\n",
       "\t ADAD\\_CAUD\\_01\\_0164                                      & ADAD\\_CAUD\\_01\\_0164\\_X014\\_S04\\_L055\\_B1\\_T1\\_P029 & ADAD                                                         & ADAD                                                         & CAUD                                                         & CAUD                                                         & AD                                                           & UW                                                           & AD\\_X014                                                    & Male                                                         & ⋯                                                            &  0.03926742                                                  &  0.027725245                                                 &  0.02702905                                                  &  0.05526815                                                  & -0.007170824                                                 &  0.01868300                                                  & -0.01694325                                                  &  0.0001110205                                                &  0.065153926                                                 &  0.074567376                                                \\\\\n",
       "\t ADAD\\_CAUD\\_01\\_1400                                      & ADAD\\_CAUD\\_01\\_1400\\_X011\\_S03\\_L053\\_B1\\_T1\\_P024 & ADAD                                                         & ADAD                                                         & CAUD                                                         & CAUD                                                         & AD                                                           & UW                                                           & AD\\_X011                                                    & Male                                                         & ⋯                                                            &  0.04312626                                                  & -0.006713843                                                 & -0.07615340                                                  &  0.02694130                                                  &  0.027017233                                                 & -0.03818775                                                  &  0.09586232                                                  & -0.0017419997                                                &  0.006962824                                                 & -0.028291514                                                \\\\\n",
       "\t ADAD\\_CAUD\\_06\\_0194                                      & ADAD\\_CAUD\\_06\\_0194\\_X004\\_S11\\_L045\\_B1\\_T1\\_P007 & ADAD                                                         & ADAD                                                         & CAUD                                                         & CAUD                                                         & AD                                                           & UW                                                           & AD\\_X004                                                    & Male                                                         & ⋯                                                            &  0.01811433                                                  & -0.057447059                                                 &  0.01477661                                                  &  0.04017166                                                  & -0.017050607                                                 & -0.03153783                                                  & -0.02427820                                                  & -0.0027016054                                                & -0.046433264                                                 &  0.007225739                                                \\\\\n",
       "\t ADAD\\_CAUD\\_06\\_1486                                      & ADAD\\_CAUD\\_06\\_1486\\_X007\\_S09\\_L041\\_B1\\_T1\\_P016 & ADAD                                                         & ADAD                                                         & CAUD                                                         & CAUD                                                         & AD                                                           & UW                                                           & AD\\_X007                                                    & Male                                                         & ⋯                                                            &  0.05533167                                                  &  0.029248385                                                 & -0.04837718                                                  & -0.05911273                                                  & -0.009180071                                                 & -0.07248935                                                  & -0.06806201                                                  &  0.0893697304                                                &  0.004394672                                                 & -0.087692486                                                \\\\\n",
       "\\end{tabular}\n"
      ],
      "text/markdown": [
       "\n",
       "| Sample | NewName | Type | TypeMod | Region | RegionMod | Cohort | TissueCenter | Batch | Gender | ⋯ | X1 | X2 | X3 | X4 | X5 | X6 | X7 | X8 | X9 | X10 |\n",
       "|---|---|---|---|---|---|---|---|---|---|---|---|---|---|---|---|---|---|---|---|---|\n",
       "| ADAD_CAUD_00_0281                          | ADAD_CAUD_00_0281_X008_S02_L051_B1_T1_P018 | ADAD                                       | ADAD                                       | CAUD                                       | CAUD                                       | AD                                         | UW                                         | AD_X008                                    | Male                                       | ⋯                                          |  0.03570277                                | -0.031113562                               |  0.02753915                                | -0.01717322                                |  0.021097156                               | -0.04552970                                |  0.02002344                                | -0.0458679587                              |  0.016958965                               | -0.022143265                               |\n",
       "| ADAD_CAUD_00_0387                          | ADAD_CAUD_00_0387_X017_S14_L075_B1_T1_P045 | ADAD                                       | ADAD                                       | CAUD                                       | CAUD                                       | AD                                         | UW                                         | AD_X017                                    | Female                                     | ⋯                                          | -0.06477943                                |  0.026740112                               | -0.01944008                                |  0.04342368                                |  0.031749792                               |  0.03215059                                | -0.05265180                                |  0.0347037689                              |  0.026254001                               | -0.038928574                               |\n",
       "| ADAD_CAUD_01_0164                          | ADAD_CAUD_01_0164_X014_S04_L055_B1_T1_P029 | ADAD                                       | ADAD                                       | CAUD                                       | CAUD                                       | AD                                         | UW                                         | AD_X014                                    | Male                                       | ⋯                                          |  0.03926742                                |  0.027725245                               |  0.02702905                                |  0.05526815                                | -0.007170824                               |  0.01868300                                | -0.01694325                                |  0.0001110205                              |  0.065153926                               |  0.074567376                               |\n",
       "| ADAD_CAUD_01_1400                          | ADAD_CAUD_01_1400_X011_S03_L053_B1_T1_P024 | ADAD                                       | ADAD                                       | CAUD                                       | CAUD                                       | AD                                         | UW                                         | AD_X011                                    | Male                                       | ⋯                                          |  0.04312626                                | -0.006713843                               | -0.07615340                                |  0.02694130                                |  0.027017233                               | -0.03818775                                |  0.09586232                                | -0.0017419997                              |  0.006962824                               | -0.028291514                               |\n",
       "| ADAD_CAUD_06_0194                          | ADAD_CAUD_06_0194_X004_S11_L045_B1_T1_P007 | ADAD                                       | ADAD                                       | CAUD                                       | CAUD                                       | AD                                         | UW                                         | AD_X004                                    | Male                                       | ⋯                                          |  0.01811433                                | -0.057447059                               |  0.01477661                                |  0.04017166                                | -0.017050607                               | -0.03153783                                | -0.02427820                                | -0.0027016054                              | -0.046433264                               |  0.007225739                               |\n",
       "| ADAD_CAUD_06_1486                          | ADAD_CAUD_06_1486_X007_S09_L041_B1_T1_P016 | ADAD                                       | ADAD                                       | CAUD                                       | CAUD                                       | AD                                         | UW                                         | AD_X007                                    | Male                                       | ⋯                                          |  0.05533167                                |  0.029248385                               | -0.04837718                                | -0.05911273                                | -0.009180071                               | -0.07248935                                | -0.06806201                                |  0.0893697304                              |  0.004394672                               | -0.087692486                               |\n",
       "\n"
      ],
      "text/plain": [
       "  Sample            NewName                                    Type TypeMod\n",
       "1 ADAD_CAUD_00_0281 ADAD_CAUD_00_0281_X008_S02_L051_B1_T1_P018 ADAD ADAD   \n",
       "2 ADAD_CAUD_00_0387 ADAD_CAUD_00_0387_X017_S14_L075_B1_T1_P045 ADAD ADAD   \n",
       "3 ADAD_CAUD_01_0164 ADAD_CAUD_01_0164_X014_S04_L055_B1_T1_P029 ADAD ADAD   \n",
       "4 ADAD_CAUD_01_1400 ADAD_CAUD_01_1400_X011_S03_L053_B1_T1_P024 ADAD ADAD   \n",
       "5 ADAD_CAUD_06_0194 ADAD_CAUD_06_0194_X004_S11_L045_B1_T1_P007 ADAD ADAD   \n",
       "6 ADAD_CAUD_06_1486 ADAD_CAUD_06_1486_X007_S09_L041_B1_T1_P016 ADAD ADAD   \n",
       "  Region RegionMod Cohort TissueCenter Batch   Gender ⋯ X1         \n",
       "1 CAUD   CAUD      AD     UW           AD_X008 Male   ⋯  0.03570277\n",
       "2 CAUD   CAUD      AD     UW           AD_X017 Female ⋯ -0.06477943\n",
       "3 CAUD   CAUD      AD     UW           AD_X014 Male   ⋯  0.03926742\n",
       "4 CAUD   CAUD      AD     UW           AD_X011 Male   ⋯  0.04312626\n",
       "5 CAUD   CAUD      AD     UW           AD_X004 Male   ⋯  0.01811433\n",
       "6 CAUD   CAUD      AD     UW           AD_X007 Male   ⋯  0.05533167\n",
       "  X2           X3          X4          X5           X6          X7         \n",
       "1 -0.031113562  0.02753915 -0.01717322  0.021097156 -0.04552970  0.02002344\n",
       "2  0.026740112 -0.01944008  0.04342368  0.031749792  0.03215059 -0.05265180\n",
       "3  0.027725245  0.02702905  0.05526815 -0.007170824  0.01868300 -0.01694325\n",
       "4 -0.006713843 -0.07615340  0.02694130  0.027017233 -0.03818775  0.09586232\n",
       "5 -0.057447059  0.01477661  0.04017166 -0.017050607 -0.03153783 -0.02427820\n",
       "6  0.029248385 -0.04837718 -0.05911273 -0.009180071 -0.07248935 -0.06806201\n",
       "  X8            X9           X10         \n",
       "1 -0.0458679587  0.016958965 -0.022143265\n",
       "2  0.0347037689  0.026254001 -0.038928574\n",
       "3  0.0001110205  0.065153926  0.074567376\n",
       "4 -0.0017419997  0.006962824 -0.028291514\n",
       "5 -0.0027016054 -0.046433264  0.007225739\n",
       "6  0.0893697304  0.004394672 -0.087692486"
      ]
     },
     "metadata": {},
     "output_type": "display_data"
    }
   ],
   "source": [
    "head(batches)"
   ]
  },
  {
   "cell_type": "markdown",
   "metadata": {},
   "source": [
    "## Run SVA-seq "
   ]
  },
  {
   "cell_type": "markdown",
   "metadata": {},
   "source": [
    "## Create the DESeq2 Object"
   ]
  },
  {
   "cell_type": "code",
   "execution_count": 20,
   "metadata": {},
   "outputs": [
    {
     "name": "stderr",
     "output_type": "stream",
     "text": [
      "  the design formula contains a numeric variable with integer values,\n",
      "  specifying a model with increasing fold change for higher values.\n",
      "  did you mean for this to be a factor? if so, first convert\n",
      "  this variable to a factor using the factor() function\n"
     ]
    }
   ],
   "source": [
    "#Create DESeq object\n",
    "dds <- DESeqDataSetFromMatrix(countData = data,\n",
    "                              colData = batches,\n",
    "                              design = ~Grouping+Gender+expired_age+PMI+ApoE+X1+X2+X3+X4+X5+X6+X7+X8+X9+X10)\n"
   ]
  },
  {
   "cell_type": "markdown",
   "metadata": {},
   "source": [
    "## Differential Accessibility Operation"
   ]
  },
  {
   "cell_type": "code",
   "execution_count": null,
   "metadata": {},
   "outputs": [
    {
     "name": "stderr",
     "output_type": "stream",
     "text": [
      "estimating size factors\n",
      "estimating dispersions\n",
      "gene-wise dispersion estimates: 50 workers\n"
     ]
    }
   ],
   "source": [
    "#Run the differential analysis\n",
    "dds <- DESeq(dds,parallel = TRUE)"
   ]
  },
  {
   "cell_type": "code",
   "execution_count": null,
   "metadata": {},
   "outputs": [],
   "source": [
    "res=results(dds)\n",
    "summary(res)\n",
    "\n",
    "res=results(dds,independentFiltering=FALSE)\n",
    "summary(res)\n",
    "\n",
    "res=results(dds,filterFun = ihw)\n",
    "summary(res)"
   ]
  },
  {
   "cell_type": "code",
   "execution_count": null,
   "metadata": {},
   "outputs": [],
   "source": [
    "group1=c('AD.CAUD.ADAD',\n",
    "        'AD.CAUD.ADAD',\n",
    "        'AD.HIPP.ADAD',\n",
    "        'AD.HIPP.ADAD',\n",
    "        'AD.PARL.ADAD',\n",
    "        'AD.PARL.ADAD',\n",
    "        'AD.SMTG.ADAD',\n",
    "        'AD.SMTG.ADAD')\n",
    "group2=c('AD.CAUD.LOAD',\n",
    "        'AD.CAUD.CTRL',\n",
    "        'AD.HIPP.LOAD',\n",
    "        'AD.HIPP.CTRL',\n",
    "        'AD.PARL.LOAD',\n",
    "        'AD.PARL.CTRL',\n",
    "        'AD.SMTG.LOAD',\n",
    "        'AD.SMTG.CTRL')\n"
   ]
  },
  {
   "cell_type": "code",
   "execution_count": null,
   "metadata": {},
   "outputs": [],
   "source": [
    "comparisons=c(\"ad_caud_adpd_vs_load\",\n",
    "    \"ad_caud_adad_vs_ctrl\",\n",
    "    \"ad_hipp_adad_vs_load\",\n",
    "    \"ad_hipp_adad_vs_ctrl\",\n",
    "    \"ad_parl_adad_vs_load\",\n",
    "    \"ad_parl_adad_vs_ctrl\",\n",
    "    \"ad_smtg_adad_vs_load\",\n",
    "    \"ad_smtg_adad_vs_ctrl\")\n"
   ]
  },
  {
   "cell_type": "code",
   "execution_count": null,
   "metadata": {},
   "outputs": [],
   "source": [
    "pval_thresh=0.05\n",
    "lfc_thresh=1"
   ]
  },
  {
   "cell_type": "code",
   "execution_count": null,
   "metadata": {},
   "outputs": [],
   "source": [
    "##get the results for the various contrasts \n",
    "numcomparisons=length(comparisons)\n",
    "for(i in seq(1,numcomparisons))\n",
    "{\n",
    " res=results(dds, contrast=c(\"Grouping\", group1[i],group2[i]),parallel=TRUE)\n",
    " res$logPadj=-1*log10(res$padj)\n",
    " res=as.data.frame(res)\n",
    " res=na.omit(res)\n",
    " res$sig=res$padj<=pval_thresh & abs(res$log2FoldChange)>lfc_thresh\n",
    "    \n",
    " #extract the differential peaks \n",
    " sigsubset=res[res$sig==TRUE,]\n",
    " sig=nrow(sigsubset)\n",
    " up=sum(sigsubset$log2FoldChange>0)\n",
    " down=sum(sigsubset$log2FoldChange<0)\n",
    " curtitle=paste(comparisons[i],'\\n','sig:',sig,'\\n','up:',up,'\\n','down:',down,'\\n')   \n",
    " print(curtitle)\n",
    "    \n",
    " #generate a volcano plot \n",
    " png(paste(\"sva_volcano_diff\",comparisons[i],\".png\",sep=\"\"))\n",
    " print(ggplot(data=res,\n",
    "               aes(y=res$logPadj,x=res$log2FoldChange,color=res$sig))+\n",
    "               geom_point(alpha=0.1)+\n",
    "               xlab(\"log2(FC)\")+\n",
    "               ylab(\"-log10(pval)\")+\n",
    "               theme_bw()+\n",
    "               scale_color_manual(values=c(\"#000000\",\"#FF0000\"))+\n",
    "               ggtitle(curtitle))\n",
    "  dev.off() \n",
    "  #write differential peaks to a TSV file \n",
    "  write.table(sigsubset,file=paste(\"sva_diff_\",comparisons[i],\".tsv\",sep=\"\"),\n",
    "              quote=FALSE,sep='\\t',row.names = TRUE,col.names = TRUE)\n",
    "}"
   ]
  },
  {
   "cell_type": "code",
   "execution_count": null,
   "metadata": {},
   "outputs": [],
   "source": [
    "## Repeat analysis with Type and Region \n",
    "\n",
    "Grouping <- factor(paste0(batches$Cohort,\".\",batches$Region, \".\", batches$Type))\n",
    "batches$Grouping=Grouping\n"
   ]
  },
  {
   "cell_type": "code",
   "execution_count": null,
   "metadata": {},
   "outputs": [],
   "source": [
    "#Create DESeq object\n",
    "dds2 <- DESeqDataSetFromMatrix(countData = data,\n",
    "                              colData = batches,\n",
    "                              design = ~Grouping+Gender+expired_age+PMI+ApoE+X1+X2+X3+X4+X5+X6+X7+X8+X9+X10)\n"
   ]
  },
  {
   "cell_type": "code",
   "execution_count": null,
   "metadata": {},
   "outputs": [],
   "source": [
    "#Run the differential analysis\n",
    "dds2 <- DESeq(dds2,parallel = TRUE)"
   ]
  },
  {
   "cell_type": "code",
   "execution_count": null,
   "metadata": {},
   "outputs": [],
   "source": [
    "comparisons=c(\"ad_caud_adpd_vs_load\",\n",
    "    \"ad_caud_adad_vs_ctrl\",\n",
    "    \"ad_caud_adad_vs_ctrh\",\n",
    "    \"ad_hipp_adad_vs_load\",\n",
    "    \"ad_hipp_adad_vs_ctrl\",\n",
    "    \"ad_hipp_adad_vs_ctrh\",\n",
    "    \"ad_parl_adad_vs_load\",\n",
    "    \"ad_parl_adad_vs_ctrl\",\n",
    "    \"ad_parl_adad_vs_ctrh\",\n",
    "    \"ad_smtg_adad_vs_load\",\n",
    "    \"ad_smtg_adad_vs_ctrl\",\n",
    "    \"ad_smtg_adad_vs_ctrh\")\n"
   ]
  },
  {
   "cell_type": "code",
   "execution_count": null,
   "metadata": {},
   "outputs": [],
   "source": [
    "group1=c('AD.CAUD.ADAD',\n",
    "        'AD.CAUD.ADAD',\n",
    "        'AD.CAUD.ADAD',\n",
    "        'AD.HIPP.ADAD',\n",
    "        'AD.HIPP.ADAD',\n",
    "        'AD.HIPP.ADAD',\n",
    "        'AD.PARL.ADAD',\n",
    "        'AD.PARL.ADAD',\n",
    "        'AD.PARL.ADAD',\n",
    "        'AD.SMTG.ADAD',\n",
    "        'AD.SMTG.ADAD',\n",
    "        'AD.SMTG.ADAD')\n",
    "group2=c('AD.CAUD.LOAD',\n",
    "        'AD.CAUD.CTRL',\n",
    "        'AD.CAUD.CTRH',\n",
    "        'AD.HIPP.LOAD',\n",
    "        'AD.HIPP.CTRL',\n",
    "        'AD.HIPP.CTRH',\n",
    "        'AD.PARL.LOAD',\n",
    "        'AD.PARL.CTRL',\n",
    "        'AD.PARL.CTRH',\n",
    "        'AD.SMTG.LOAD',\n",
    "        'AD.SMTG.CTRL',\n",
    "        'AD.SMTG.CTRH')\n"
   ]
  },
  {
   "cell_type": "code",
   "execution_count": null,
   "metadata": {},
   "outputs": [],
   "source": [
    "##get the results for the various contrasts \n",
    "numcomparisons=length(contrasts)\n",
    "for(i in seq(1,numcomparisons))\n",
    "{\n",
    " res=results(dds2, contrast=c(\"Grouping\", group1[i],group2[i]),parallel=TRUE)\n",
    " res$logPadj=-1*log10(res$padj)\n",
    " res=as.data.frame(res)\n",
    " res=na.omit(res)\n",
    " res$sig=res$padj<=pval_thresh & abs(res$log2FoldChange)>lfc_thresh\n",
    "    \n",
    " #extract the differential peaks \n",
    " sigsubset=res[res$sig==TRUE,]\n",
    " sig=nrow(sigsubset)\n",
    " up=sum(sigsubset$log2FoldChange>0)\n",
    " down=sum(sigsubset$log2FoldChange<0)\n",
    " curtitle=paste(comparisons[i],'\\n','sig:',sig,'\\n','up:',up,'\\n','down:',down,'\\n')   \n",
    " print(curtitle)\n",
    "    \n",
    " #generate a volcano plot \n",
    " png(paste(\"expanded_volcano_diff\",comparisons[i],\".png\",sep=\"\"))\n",
    " print(ggplot(data=res,\n",
    "               aes(y=res$logPadj,x=res$log2FoldChange,color=res$sig))+\n",
    "               geom_point(alpha=0.1)+\n",
    "               xlab(\"log2(FC)\")+\n",
    "               ylab(\"-log10(pval)\")+\n",
    "               theme_bw()+\n",
    "               scale_color_manual(values=c(\"#000000\",\"#FF0000\"))+\n",
    "               ggtitle(curtitle))\n",
    "  dev.off() \n",
    "  #write differential peaks to a TSV file \n",
    "  write.table(sigsubset,file=paste(\"expanded_diff_\",comparisons[i],\".tsv\",sep=\"\"),\n",
    "              quote=FALSE,sep='\\t',row.names = TRUE,col.names = TRUE)\n",
    "}"
   ]
  },
  {
   "cell_type": "code",
   "execution_count": null,
   "metadata": {},
   "outputs": [],
   "source": [
    "#store dds object so it can be loaded readily in the future \n",
    "save(dds,dds2 file = \"AD.DESEQ2.model.withSVA.RData\")"
   ]
  },
  {
   "cell_type": "code",
   "execution_count": null,
   "metadata": {},
   "outputs": [],
   "source": []
  }
 ],
 "metadata": {
  "kernelspec": {
   "display_name": "R 3.5",
   "language": "R",
   "name": "ir35"
  },
  "language_info": {
   "codemirror_mode": "r",
   "file_extension": ".r",
   "mimetype": "text/x-r-source",
   "name": "R",
   "pygments_lexer": "r",
   "version": "3.5.1"
  }
 },
 "nbformat": 4,
 "nbformat_minor": 2
}
